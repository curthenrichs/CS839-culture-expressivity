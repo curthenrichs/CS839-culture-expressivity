{
 "cells": [
  {
   "cell_type": "code",
   "execution_count": 1,
   "metadata": {},
   "outputs": [],
   "source": [
    "task_name = 'all_data'"
   ]
  },
  {
   "cell_type": "code",
   "execution_count": 2,
   "metadata": {},
   "outputs": [],
   "source": [
    "model_path = './models/{0}/'.format(task_name)"
   ]
  },
  {
   "cell_type": "code",
   "execution_count": 3,
   "metadata": {},
   "outputs": [],
   "source": [
    "import os\n",
    "import numpy as np\n",
    "import pandas as pd\n",
    "\n",
    "import warnings\n",
    "from tqdm import tqdm"
   ]
  },
  {
   "cell_type": "markdown",
   "metadata": {},
   "source": [
    "# Model Creation for Tasks captured through Openface\n",
    "\n",
    "1. First we create the training data from the task participant data\n",
    "\n",
    "       This results in three intermediate training CSVs stored to disk.\n",
    "\n",
    "2. Next we train the PCA models\n",
    "\n",
    "        This results in pickled PCA models.\n",
    "        \n",
    "3. Then we train a k-means cluster that sits on top of PCA \n",
    "\n",
    "        This results in pickled k-means model.\n",
    "\n",
    "4. Next we train an autoencoder model (as replacement for PCA)\n",
    "\n",
    "        This results in saved autoencoder model.\n"
   ]
  },
  {
   "cell_type": "code",
   "execution_count": 3,
   "metadata": {},
   "outputs": [
    {
     "name": "stdout",
     "output_type": "stream",
     "text": [
      "Num Files: 93\n"
     ]
    }
   ],
   "source": [
    "\n",
    "\n",
    "path = './data/openface'\n",
    "tasks = ['task1_sandwich_openface','task2_bart_openface','task3_jenga_openface']\n",
    "\n",
    "files = []\n",
    "for task in tasks:\n",
    "    subpath = os.path.join(path,task)\n",
    "    files += [os.path.join(task,f) for f in os.listdir(subpath) if os.path.isfile(os.path.join(subpath,f))]\n",
    "\n",
    "print('Num Files:',len(files))"
   ]
  },
  {
   "cell_type": "markdown",
   "metadata": {},
   "source": [
    "## Create training set\n",
    "Using k out of every file?\n",
    "\n",
    "Note dropping bad lines"
   ]
  },
  {
   "cell_type": "code",
   "execution_count": 4,
   "metadata": {},
   "outputs": [
    {
     "name": "stderr",
     "output_type": "stream",
     "text": [
      "\r",
      "  0%|          | 0/93 [00:00<?, ?it/s]"
     ]
    },
    {
     "name": "stdout",
     "output_type": "stream",
     "text": [
      "task1_sandwich_openface/1101_sandwich_cut.csv\n"
     ]
    },
    {
     "name": "stderr",
     "output_type": "stream",
     "text": [
      "\r",
      "  1%|          | 1/93 [00:02<03:27,  2.26s/it]"
     ]
    },
    {
     "name": "stdout",
     "output_type": "stream",
     "text": [
      "Full: (10804, 138)\n",
      "Train: (7238, 138) Test: (1783, 138) Validation (1783, 138)\n",
      "task1_sandwich_openface/Sona0401_sandwich_cut.csv\n"
     ]
    },
    {
     "name": "stderr",
     "output_type": "stream",
     "text": [
      "\r",
      "  2%|▏         | 2/93 [00:03<02:26,  1.61s/it]"
     ]
    },
    {
     "name": "stdout",
     "output_type": "stream",
     "text": [
      "Full: (5606, 138)\n",
      "Train: (3756, 138) Test: (925, 138) Validation (925, 138)\n",
      "task1_sandwich_openface/0201_sandwich_cut.csv\n"
     ]
    },
    {
     "name": "stderr",
     "output_type": "stream",
     "text": [
      "\r",
      "  3%|▎         | 3/93 [00:06<03:05,  2.06s/it]"
     ]
    },
    {
     "name": "stdout",
     "output_type": "stream",
     "text": [
      "Full: (9953, 138)\n",
      "Train: (6668, 138) Test: (1642, 138) Validation (1643, 138)\n",
      "task1_sandwich_openface/0901_sandwich_cut.csv\n"
     ]
    },
    {
     "name": "stderr",
     "output_type": "stream",
     "text": [
      "\r",
      "  4%|▍         | 4/93 [00:08<03:30,  2.37s/it]"
     ]
    },
    {
     "name": "stdout",
     "output_type": "stream",
     "text": [
      "Full: (13190, 138)\n",
      "Train: (8837, 138) Test: (2176, 138) Validation (2177, 138)\n",
      "task1_sandwich_openface/1501_sandwich_cut.csv\n"
     ]
    },
    {
     "name": "stderr",
     "output_type": "stream",
     "text": [
      "\r",
      "  5%|▌         | 5/93 [00:10<03:04,  2.09s/it]"
     ]
    },
    {
     "name": "stdout",
     "output_type": "stream",
     "text": [
      "Full: (7224, 138)\n",
      "Train: (4840, 138) Test: (1192, 138) Validation (1192, 138)\n",
      "task1_sandwich_openface/0102_sandwich_cut.csv\n"
     ]
    },
    {
     "name": "stderr",
     "output_type": "stream",
     "text": [
      "\r",
      "  6%|▋         | 6/93 [00:11<02:38,  1.83s/it]"
     ]
    },
    {
     "name": "stdout",
     "output_type": "stream",
     "text": [
      "Full: (5692, 138)\n",
      "Train: (3813, 138) Test: (939, 138) Validation (940, 138)\n",
      "task1_sandwich_openface/0301_sandwich_cut.csv\n"
     ]
    },
    {
     "name": "stderr",
     "output_type": "stream",
     "text": [
      "\r",
      "  8%|▊         | 7/93 [00:13<02:30,  1.75s/it]"
     ]
    },
    {
     "name": "stdout",
     "output_type": "stream",
     "text": [
      "Full: (8261, 138)\n",
      "Train: (5534, 138) Test: (1363, 138) Validation (1364, 138)\n",
      "task1_sandwich_openface/1001_sandwich_cut.csv\n"
     ]
    },
    {
     "name": "stderr",
     "output_type": "stream",
     "text": [
      "\r",
      "  9%|▊         | 8/93 [00:14<02:23,  1.69s/it]"
     ]
    },
    {
     "name": "stdout",
     "output_type": "stream",
     "text": [
      "Full: (8028, 138)\n",
      "Train: (5378, 138) Test: (1325, 138) Validation (1325, 138)\n",
      "task1_sandwich_openface/0101_sandwich_cut.csv\n"
     ]
    },
    {
     "name": "stderr",
     "output_type": "stream",
     "text": [
      "\r",
      " 10%|▉         | 9/93 [00:16<02:09,  1.54s/it]"
     ]
    },
    {
     "name": "stdout",
     "output_type": "stream",
     "text": [
      "Full: (5732, 138)\n",
      "Train: (3840, 138) Test: (946, 138) Validation (946, 138)\n",
      "task1_sandwich_openface/0802_sandwich_cut.csv\n"
     ]
    },
    {
     "name": "stderr",
     "output_type": "stream",
     "text": [
      "\r",
      " 11%|█         | 10/93 [00:18<02:22,  1.72s/it]"
     ]
    },
    {
     "name": "stdout",
     "output_type": "stream",
     "text": [
      "Full: (11239, 138)\n",
      "Train: (7530, 138) Test: (1854, 138) Validation (1855, 138)\n",
      "task1_sandwich_openface/sona0102_sandwich_cut.csv\n"
     ]
    },
    {
     "name": "stderr",
     "output_type": "stream",
     "text": [
      "\r",
      " 12%|█▏        | 11/93 [00:19<02:12,  1.62s/it]"
     ]
    },
    {
     "name": "stdout",
     "output_type": "stream",
     "text": [
      "Full: (4735, 138)\n",
      "Train: (3172, 138) Test: (781, 138) Validation (782, 138)\n",
      "task1_sandwich_openface/0702_sandwich_cut.csv\n"
     ]
    },
    {
     "name": "stderr",
     "output_type": "stream",
     "text": [
      "\r",
      " 13%|█▎        | 12/93 [00:21<02:10,  1.61s/it]"
     ]
    },
    {
     "name": "stdout",
     "output_type": "stream",
     "text": [
      "Full: (8501, 138)\n",
      "Train: (5695, 138) Test: (1403, 138) Validation (1403, 138)\n",
      "task1_sandwich_openface/0801_sandwich_cut.csv\n"
     ]
    },
    {
     "name": "stderr",
     "output_type": "stream",
     "text": [
      "\r",
      " 14%|█▍        | 13/93 [00:23<02:22,  1.78s/it]"
     ]
    },
    {
     "name": "stdout",
     "output_type": "stream",
     "text": [
      "Full: (11169, 138)\n",
      "Train: (7483, 138) Test: (1843, 138) Validation (1843, 138)\n",
      "task1_sandwich_openface/0601_sandwich_cut.csv\n"
     ]
    },
    {
     "name": "stderr",
     "output_type": "stream",
     "text": [
      "\r",
      " 15%|█▌        | 14/93 [00:25<02:28,  1.88s/it]"
     ]
    },
    {
     "name": "stdout",
     "output_type": "stream",
     "text": [
      "Full: (11538, 138)\n",
      "Train: (7730, 138) Test: (1904, 138) Validation (1904, 138)\n",
      "task1_sandwich_openface/Sona0402_sandwich_cut.csv\n"
     ]
    },
    {
     "name": "stderr",
     "output_type": "stream",
     "text": [
      "\r",
      " 16%|█▌        | 15/93 [00:26<02:10,  1.67s/it]"
     ]
    },
    {
     "name": "stdout",
     "output_type": "stream",
     "text": [
      "Full: (6001, 138)\n",
      "Train: (4020, 138) Test: (990, 138) Validation (991, 138)\n",
      "task1_sandwich_openface/0502_sandwich_cut.csv\n"
     ]
    },
    {
     "name": "stderr",
     "output_type": "stream",
     "text": [
      "\r",
      " 17%|█▋        | 16/93 [00:28<02:10,  1.70s/it]"
     ]
    },
    {
     "name": "stdout",
     "output_type": "stream",
     "text": [
      "Full: (9457, 138)\n",
      "Train: (6336, 138) Test: (1560, 138) Validation (1561, 138)\n",
      "task1_sandwich_openface/1002_sandwich_cut.csv\n"
     ]
    },
    {
     "name": "stderr",
     "output_type": "stream",
     "text": [
      "\r",
      " 18%|█▊        | 17/93 [00:30<02:10,  1.72s/it]"
     ]
    },
    {
     "name": "stdout",
     "output_type": "stream",
     "text": [
      "Full: (8236, 138)\n",
      "Train: (5518, 138) Test: (1359, 138) Validation (1359, 138)\n",
      "task1_sandwich_openface/0701_sandwich_cut.csv\n"
     ]
    },
    {
     "name": "stderr",
     "output_type": "stream",
     "text": [
      "\r",
      " 19%|█▉        | 18/93 [00:31<02:09,  1.72s/it]"
     ]
    },
    {
     "name": "stdout",
     "output_type": "stream",
     "text": [
      "Full: (8250, 138)\n",
      "Train: (5527, 138) Test: (1361, 138) Validation (1362, 138)\n",
      "task1_sandwich_openface/sona0101_sandwich_cut.csv\n"
     ]
    },
    {
     "name": "stderr",
     "output_type": "stream",
     "text": [
      "\r",
      " 20%|██        | 19/93 [00:33<01:56,  1.57s/it]"
     ]
    },
    {
     "name": "stdout",
     "output_type": "stream",
     "text": [
      "Full: (4700, 138)\n",
      "Train: (3149, 138) Test: (775, 138) Validation (776, 138)\n",
      "task1_sandwich_openface/Sona0201_sandwich_cut.csv\n"
     ]
    },
    {
     "name": "stderr",
     "output_type": "stream",
     "text": [
      "\r",
      " 22%|██▏       | 20/93 [00:34<01:54,  1.57s/it]"
     ]
    },
    {
     "name": "stdout",
     "output_type": "stream",
     "text": [
      "Full: (6358, 138)\n",
      "Train: (4259, 138) Test: (1049, 138) Validation (1050, 138)\n",
      "task1_sandwich_openface/1301_sandwich_cut.csv\n"
     ]
    },
    {
     "name": "stderr",
     "output_type": "stream",
     "text": [
      "b'Skipping line 4053: expected 714 fields, saw 1233\\nSkipping line 4064: expected 714 fields, saw 722\\n'\n",
      "<ipython-input-4-e7f92ee2bc6c>:26: UserWarning: Dropping row due to NaN, 6548\n",
      "  warnings.warn('Dropping row due to NaN, {0}'.format(r))\n",
      "<ipython-input-4-e7f92ee2bc6c>:26: UserWarning: Dropping row due to NaN, 6552\n",
      "  warnings.warn('Dropping row due to NaN, {0}'.format(r))\n",
      "/home/curt/.local/lib/python3.8/site-packages/pandas/core/frame.py:4308: SettingWithCopyWarning: \n",
      "A value is trying to be set on a copy of a slice from a DataFrame\n",
      "\n",
      "See the caveats in the documentation: https://pandas.pydata.org/pandas-docs/stable/user_guide/indexing.html#returning-a-view-versus-a-copy\n",
      "  return super().drop(\n",
      " 23%|██▎       | 21/93 [00:36<01:50,  1.53s/it]"
     ]
    },
    {
     "name": "stdout",
     "output_type": "stream",
     "text": [
      "Full: (6570, 138)\n",
      "Train: (4401, 138) Test: (1084, 138) Validation (1085, 138)\n",
      "task1_sandwich_openface/1701_Sandwich_Cut.csv\n"
     ]
    },
    {
     "name": "stderr",
     "output_type": "stream",
     "text": [
      "\r",
      " 24%|██▎       | 22/93 [00:37<01:45,  1.49s/it]"
     ]
    },
    {
     "name": "stdout",
     "output_type": "stream",
     "text": [
      "Full: (6185, 138)\n",
      "Train: (4143, 138) Test: (1021, 138) Validation (1021, 138)\n",
      "task1_sandwich_openface/1702_Sandwich_Cut.csv\n"
     ]
    },
    {
     "name": "stderr",
     "output_type": "stream",
     "text": [
      "\r",
      " 25%|██▍       | 23/93 [00:38<01:41,  1.46s/it]"
     ]
    },
    {
     "name": "stdout",
     "output_type": "stream",
     "text": [
      "Full: (6674, 138)\n",
      "Train: (4471, 138) Test: (1101, 138) Validation (1102, 138)\n",
      "task1_sandwich_openface/Sona0202_sandwich_cut.csv\n",
      "Full: (6405, 138)\n",
      "Train: (4291, 138) Test: (1057, 138) Validation (1057, 138)\n"
     ]
    },
    {
     "name": "stderr",
     "output_type": "stream",
     "text": [
      "\r",
      " 26%|██▌       | 24/93 [00:40<01:41,  1.48s/it]"
     ]
    },
    {
     "name": "stdout",
     "output_type": "stream",
     "text": [
      "task1_sandwich_openface/1401_sandwich_cut.csv\n"
     ]
    },
    {
     "name": "stderr",
     "output_type": "stream",
     "text": [
      "\r",
      " 27%|██▋       | 25/93 [00:42<01:43,  1.52s/it]"
     ]
    },
    {
     "name": "stdout",
     "output_type": "stream",
     "text": [
      "Full: (7476, 138)\n",
      "Train: (5008, 138) Test: (1234, 138) Validation (1234, 138)\n",
      "task1_sandwich_openface/1502_sandwich_cut.csv\n"
     ]
    },
    {
     "name": "stderr",
     "output_type": "stream",
     "text": [
      "\r",
      " 28%|██▊       | 26/93 [00:43<01:43,  1.54s/it]"
     ]
    },
    {
     "name": "stdout",
     "output_type": "stream",
     "text": [
      "Full: (7219, 138)\n",
      "Train: (4836, 138) Test: (1191, 138) Validation (1192, 138)\n",
      "task1_sandwich_openface/0402_sandwich_cut.csv\n"
     ]
    },
    {
     "name": "stderr",
     "output_type": "stream",
     "text": [
      "\r",
      " 29%|██▉       | 27/93 [00:44<01:33,  1.41s/it]"
     ]
    },
    {
     "name": "stdout",
     "output_type": "stream",
     "text": [
      "Full: (4974, 138)\n",
      "Train: (3332, 138) Test: (821, 138) Validation (821, 138)\n",
      "task1_sandwich_openface/1402_sandwich_cut.csv\n"
     ]
    },
    {
     "name": "stderr",
     "output_type": "stream",
     "text": [
      "\r",
      " 30%|███       | 28/93 [00:46<01:36,  1.48s/it]"
     ]
    },
    {
     "name": "stdout",
     "output_type": "stream",
     "text": [
      "Full: (7518, 138)\n",
      "Train: (5037, 138) Test: (1240, 138) Validation (1241, 138)\n",
      "task1_sandwich_openface/0302_sandwich_cut.csv\n",
      "Full: (8333, 138)\n",
      "Train: (5583, 138) Test: (1375, 138) Validation (1375, 138)\n"
     ]
    },
    {
     "name": "stderr",
     "output_type": "stream",
     "text": [
      "\r",
      " 31%|███       | 29/93 [00:48<01:39,  1.56s/it]"
     ]
    },
    {
     "name": "stdout",
     "output_type": "stream",
     "text": [
      "task1_sandwich_openface/Sona0302_sandwich_cut.csv\n"
     ]
    },
    {
     "name": "stderr",
     "output_type": "stream",
     "text": [
      "\r",
      " 32%|███▏      | 30/93 [00:49<01:41,  1.61s/it]"
     ]
    },
    {
     "name": "stdout",
     "output_type": "stream",
     "text": [
      "Full: (7300, 138)\n",
      "Train: (4891, 138) Test: (1204, 138) Validation (1205, 138)\n",
      "task1_sandwich_openface/0501_sandwich_cut.csv\n",
      "Full: (9426, 138)\n",
      "Train: (6315, 138) Test: (1555, 138) Validation (1556, 138)\n"
     ]
    },
    {
     "name": "stderr",
     "output_type": "stream",
     "text": [
      "\r",
      " 33%|███▎      | 31/93 [00:51<01:47,  1.73s/it]"
     ]
    },
    {
     "name": "stdout",
     "output_type": "stream",
     "text": [
      "task1_sandwich_openface/0602_sandwich_cut.csv\n",
      "Full: (10711, 138)\n",
      "Train: (7176, 138) Test: (1767, 138) Validation (1768, 138)\n"
     ]
    },
    {
     "name": "stderr",
     "output_type": "stream",
     "text": [
      "\r",
      " 34%|███▍      | 32/93 [00:54<01:55,  1.89s/it]"
     ]
    },
    {
     "name": "stdout",
     "output_type": "stream",
     "text": [
      "task2_bart_openface/0501_bart_cut.csv\n",
      "Full: (29969, 138)\n",
      "Train: (20079, 138) Test: (4945, 138) Validation (4945, 138)\n"
     ]
    },
    {
     "name": "stderr",
     "output_type": "stream",
     "text": [
      "\r",
      " 35%|███▌      | 33/93 [01:00<03:09,  3.16s/it]"
     ]
    },
    {
     "name": "stdout",
     "output_type": "stream",
     "text": [
      "task2_bart_openface/Sona0301_bart_cut.csv\n",
      "Full: (25035, 138)\n",
      "Train: (16773, 138) Test: (4131, 138) Validation (4131, 138)\n"
     ]
    },
    {
     "name": "stderr",
     "output_type": "stream",
     "text": [
      "\r",
      " 37%|███▋      | 34/93 [01:05<03:40,  3.74s/it]"
     ]
    },
    {
     "name": "stdout",
     "output_type": "stream",
     "text": [
      "task2_bart_openface/0101_bart_cut.csv\n",
      "Full: (11665, 138)\n",
      "Train: (7815, 138) Test: (1925, 138) Validation (1925, 138)\n"
     ]
    },
    {
     "name": "stderr",
     "output_type": "stream",
     "text": [
      "\r",
      " 38%|███▊      | 35/93 [01:08<03:18,  3.43s/it]"
     ]
    },
    {
     "name": "stdout",
     "output_type": "stream",
     "text": [
      "task2_bart_openface/1401_bart_cut.csv\n",
      "Full: (17045, 138)\n",
      "Train: (11420, 138) Test: (2812, 138) Validation (2813, 138)\n"
     ]
    },
    {
     "name": "stderr",
     "output_type": "stream",
     "text": [
      "\r",
      " 39%|███▊      | 36/93 [01:15<04:16,  4.50s/it]"
     ]
    },
    {
     "name": "stdout",
     "output_type": "stream",
     "text": [
      "task2_bart_openface/0102_bart_cut.csv\n",
      "Full: (10487, 138)\n",
      "Train: (7026, 138) Test: (1730, 138) Validation (1731, 138)\n"
     ]
    },
    {
     "name": "stderr",
     "output_type": "stream",
     "text": [
      "\r",
      " 40%|███▉      | 37/93 [01:17<03:43,  3.99s/it]"
     ]
    },
    {
     "name": "stdout",
     "output_type": "stream",
     "text": [
      "task2_bart_openface/1702_Bart_Cut.csv\n",
      "Full: (18037, 138)\n",
      "Train: (12084, 138) Test: (2976, 138) Validation (2977, 138)\n"
     ]
    },
    {
     "name": "stderr",
     "output_type": "stream",
     "text": [
      "\r",
      " 41%|████      | 38/93 [01:22<03:51,  4.21s/it]"
     ]
    },
    {
     "name": "stdout",
     "output_type": "stream",
     "text": [
      "task2_bart_openface/Sona0402_bart_cut.csv\n",
      "Full: (7828, 138)\n",
      "Train: (5244, 138) Test: (1292, 138) Validation (1292, 138)\n"
     ]
    },
    {
     "name": "stderr",
     "output_type": "stream",
     "text": [
      "\r",
      " 42%|████▏     | 39/93 [01:25<03:26,  3.82s/it]"
     ]
    },
    {
     "name": "stdout",
     "output_type": "stream",
     "text": [
      "task2_bart_openface/Sona0201_bart_cut.csv\n",
      "Full: (13937, 138)\n",
      "Train: (9337, 138) Test: (2300, 138) Validation (2300, 138)\n"
     ]
    },
    {
     "name": "stderr",
     "output_type": "stream",
     "text": [
      "\r",
      " 43%|████▎     | 40/93 [01:29<03:22,  3.83s/it]"
     ]
    },
    {
     "name": "stdout",
     "output_type": "stream",
     "text": [
      "task2_bart_openface/1302_bart_cut.csv\n",
      "Full: (12961, 138)\n",
      "Train: (8683, 138) Test: (2139, 138) Validation (2139, 138)\n"
     ]
    },
    {
     "name": "stderr",
     "output_type": "stream",
     "text": [
      "\r",
      " 44%|████▍     | 41/93 [01:32<03:11,  3.68s/it]"
     ]
    },
    {
     "name": "stdout",
     "output_type": "stream",
     "text": [
      "task2_bart_openface/1701_Bart_Cut .csv\n",
      "Full: (17671, 138)\n",
      "Train: (11839, 138) Test: (2916, 138) Validation (2916, 138)\n"
     ]
    },
    {
     "name": "stderr",
     "output_type": "stream",
     "text": [
      "\r",
      " 45%|████▌     | 42/93 [01:37<03:17,  3.87s/it]"
     ]
    },
    {
     "name": "stdout",
     "output_type": "stream",
     "text": [
      "task2_bart_openface/Sona0302_bart_cut.csv\n",
      "Full: (25085, 138)\n",
      "Train: (16806, 138) Test: (4139, 138) Validation (4140, 138)\n"
     ]
    },
    {
     "name": "stderr",
     "output_type": "stream",
     "text": [
      "\r",
      " 46%|████▌     | 43/93 [01:43<03:45,  4.50s/it]"
     ]
    },
    {
     "name": "stdout",
     "output_type": "stream",
     "text": [
      "task2_bart_openface/0302_bart_cut.csv\n",
      "Full: (19035, 138)\n",
      "Train: (12753, 138) Test: (3141, 138) Validation (3141, 138)\n"
     ]
    },
    {
     "name": "stderr",
     "output_type": "stream",
     "text": [
      "\r",
      " 47%|████▋     | 44/93 [01:47<03:40,  4.49s/it]"
     ]
    },
    {
     "name": "stdout",
     "output_type": "stream",
     "text": [
      "task2_bart_openface/Sona0202_bart_cut.csv\n",
      "Full: (13904, 138)\n",
      "Train: (9315, 138) Test: (2294, 138) Validation (2295, 138)\n"
     ]
    },
    {
     "name": "stderr",
     "output_type": "stream",
     "text": [
      "\r",
      " 48%|████▊     | 45/93 [01:50<03:19,  4.15s/it]"
     ]
    },
    {
     "name": "stdout",
     "output_type": "stream",
     "text": [
      "task2_bart_openface/0701_bart_cut.csv\n",
      "Full: (12787, 138)\n",
      "Train: (8567, 138) Test: (2110, 138) Validation (2110, 138)\n"
     ]
    },
    {
     "name": "stderr",
     "output_type": "stream",
     "text": [
      "\r",
      " 49%|████▉     | 46/93 [01:54<03:04,  3.92s/it]"
     ]
    },
    {
     "name": "stdout",
     "output_type": "stream",
     "text": [
      "task2_bart_openface/1301_bart_cut.csv\n",
      "Full: (12346, 138)\n",
      "Train: (8271, 138) Test: (2037, 138) Validation (2038, 138)\n"
     ]
    },
    {
     "name": "stderr",
     "output_type": "stream",
     "text": [
      "\r",
      " 51%|█████     | 47/93 [01:57<02:49,  3.69s/it]"
     ]
    },
    {
     "name": "stdout",
     "output_type": "stream",
     "text": [
      "task2_bart_openface/1201_bart_cut.csv\n",
      "Full: (17923, 138)\n",
      "Train: (12008, 138) Test: (2957, 138) Validation (2958, 138)\n"
     ]
    },
    {
     "name": "stderr",
     "output_type": "stream",
     "text": [
      "\r",
      " 52%|█████▏    | 48/93 [02:01<02:53,  3.85s/it]"
     ]
    },
    {
     "name": "stdout",
     "output_type": "stream",
     "text": [
      "task2_bart_openface/1102_bart_cut.csv\n",
      "Full: (14637, 138)\n",
      "Train: (9806, 138) Test: (2415, 138) Validation (2416, 138)\n"
     ]
    },
    {
     "name": "stderr",
     "output_type": "stream",
     "text": [
      "\r",
      " 53%|█████▎    | 49/93 [02:06<03:07,  4.27s/it]"
     ]
    },
    {
     "name": "stdout",
     "output_type": "stream",
     "text": [
      "task2_bart_openface/0702_bart_cut.csv\n",
      "Full: (13363, 138)\n",
      "Train: (8953, 138) Test: (2205, 138) Validation (2205, 138)\n"
     ]
    },
    {
     "name": "stderr",
     "output_type": "stream",
     "text": [
      "\r",
      " 54%|█████▍    | 50/93 [02:11<03:12,  4.48s/it]"
     ]
    },
    {
     "name": "stdout",
     "output_type": "stream",
     "text": [
      "task2_bart_openface/1402_bart_cut.csv\n",
      "Full: (17106, 138)\n",
      "Train: (11461, 138) Test: (2822, 138) Validation (2823, 138)\n"
     ]
    },
    {
     "name": "stderr",
     "output_type": "stream",
     "text": [
      "\r",
      " 55%|█████▍    | 51/93 [02:16<03:12,  4.59s/it]"
     ]
    },
    {
     "name": "stdout",
     "output_type": "stream",
     "text": [
      "task2_bart_openface/0502_bart_cut.csv\n",
      "Full: (29994, 138)\n",
      "Train: (20095, 138) Test: (4949, 138) Validation (4950, 138)\n"
     ]
    },
    {
     "name": "stderr",
     "output_type": "stream",
     "text": [
      "\r",
      " 56%|█████▌    | 52/93 [02:24<03:52,  5.67s/it]"
     ]
    },
    {
     "name": "stdout",
     "output_type": "stream",
     "text": [
      "task2_bart_openface/0402_bart_cut.csv\n",
      "Full: (20246, 138)\n",
      "Train: (13564, 138) Test: (3341, 138) Validation (3341, 138)\n"
     ]
    },
    {
     "name": "stderr",
     "output_type": "stream",
     "text": [
      "\r",
      " 57%|█████▋    | 53/93 [02:30<03:49,  5.75s/it]"
     ]
    },
    {
     "name": "stdout",
     "output_type": "stream",
     "text": [
      "task2_bart_openface/0802_bart_cut.csv\n",
      "Full: (9285, 138)\n",
      "Train: (6220, 138) Test: (1532, 138) Validation (1533, 138)\n"
     ]
    },
    {
     "name": "stderr",
     "output_type": "stream",
     "text": [
      "\r",
      " 58%|█████▊    | 54/93 [02:33<03:08,  4.83s/it]"
     ]
    },
    {
     "name": "stdout",
     "output_type": "stream",
     "text": [
      "task2_bart_openface/Sona0401_bart_cut.csv\n",
      "Full: (8084, 138)\n",
      "Train: (5416, 138) Test: (1334, 138) Validation (1334, 138)\n"
     ]
    },
    {
     "name": "stderr",
     "output_type": "stream",
     "text": [
      "\r",
      " 59%|█████▉    | 55/93 [02:36<02:38,  4.17s/it]"
     ]
    },
    {
     "name": "stdout",
     "output_type": "stream",
     "text": [
      "task2_bart_openface/0602_bart_cut.csv\n",
      "Full: (16976, 138)\n",
      "Train: (11373, 138) Test: (2801, 138) Validation (2802, 138)\n"
     ]
    },
    {
     "name": "stderr",
     "output_type": "stream",
     "text": [
      "\r",
      " 60%|██████    | 56/93 [02:41<02:46,  4.49s/it]"
     ]
    },
    {
     "name": "stdout",
     "output_type": "stream",
     "text": [
      "task2_bart_openface/1002_bart_cut.csv\n",
      "Full: (19483, 138)\n",
      "Train: (13053, 138) Test: (3215, 138) Validation (3215, 138)\n"
     ]
    },
    {
     "name": "stderr",
     "output_type": "stream",
     "text": [
      "\r",
      " 61%|██████▏   | 57/93 [02:46<02:46,  4.62s/it]"
     ]
    },
    {
     "name": "stdout",
     "output_type": "stream",
     "text": [
      "task2_bart_openface/0902_bart_cut.csv\n",
      "Full: (17520, 138)\n",
      "Train: (11738, 138) Test: (2891, 138) Validation (2891, 138)\n"
     ]
    },
    {
     "name": "stderr",
     "output_type": "stream",
     "text": [
      "\r",
      " 62%|██████▏   | 58/93 [02:51<02:50,  4.88s/it]"
     ]
    },
    {
     "name": "stdout",
     "output_type": "stream",
     "text": [
      "task2_bart_openface/1001_bart_cut.csv\n",
      "Full: (19442, 138)\n",
      "Train: (13026, 138) Test: (3208, 138) Validation (3208, 138)\n"
     ]
    },
    {
     "name": "stderr",
     "output_type": "stream",
     "text": [
      "\r",
      " 63%|██████▎   | 59/93 [02:58<03:06,  5.49s/it]"
     ]
    },
    {
     "name": "stdout",
     "output_type": "stream",
     "text": [
      "task2_bart_openface/1202_bart_cut.csv\n",
      "Full: (17951, 138)\n",
      "Train: (12027, 138) Test: (2962, 138) Validation (2962, 138)\n"
     ]
    },
    {
     "name": "stderr",
     "output_type": "stream",
     "text": [
      "\r",
      " 65%|██████▍   | 60/93 [03:06<03:20,  6.07s/it]"
     ]
    },
    {
     "name": "stdout",
     "output_type": "stream",
     "text": [
      "task2_bart_openface/0401_bart_cut.csv\n",
      "Full: (20110, 138)\n",
      "Train: (13473, 138) Test: (3318, 138) Validation (3319, 138)\n"
     ]
    },
    {
     "name": "stderr",
     "output_type": "stream",
     "text": [
      "\r",
      " 66%|██████▌   | 61/93 [03:12<03:14,  6.08s/it]"
     ]
    },
    {
     "name": "stdout",
     "output_type": "stream",
     "text": [
      "task2_bart_openface/0601_bart_cut.csv\n",
      "Full: (17303, 138)\n",
      "Train: (11593, 138) Test: (2855, 138) Validation (2855, 138)\n"
     ]
    },
    {
     "name": "stderr",
     "output_type": "stream",
     "text": [
      "\r",
      " 67%|██████▋   | 62/93 [03:16<02:55,  5.66s/it]"
     ]
    },
    {
     "name": "stdout",
     "output_type": "stream",
     "text": [
      "task2_bart_openface/0201_bart_cut.csv\n",
      "Full: (13184, 138)\n",
      "Train: (8833, 138) Test: (2175, 138) Validation (2176, 138)\n"
     ]
    },
    {
     "name": "stderr",
     "output_type": "stream",
     "text": [
      "\r",
      " 68%|██████▊   | 63/93 [03:21<02:38,  5.28s/it]"
     ]
    },
    {
     "name": "stdout",
     "output_type": "stream",
     "text": [
      "task2_bart_openface/0202_bart_cut.csv\n",
      "Full: (13116, 138)\n",
      "Train: (8787, 138) Test: (2164, 138) Validation (2165, 138)\n"
     ]
    },
    {
     "name": "stderr",
     "output_type": "stream",
     "text": [
      "\r",
      " 69%|██████▉   | 64/93 [03:25<02:22,  4.92s/it]"
     ]
    },
    {
     "name": "stdout",
     "output_type": "stream",
     "text": [
      "task2_bart_openface/1101_bart_cut.csv\n",
      "Full: (14445, 138)\n",
      "Train: (9678, 138) Test: (2383, 138) Validation (2384, 138)\n"
     ]
    },
    {
     "name": "stderr",
     "output_type": "stream",
     "text": [
      "\r",
      " 70%|██████▉   | 65/93 [03:30<02:17,  4.91s/it]"
     ]
    },
    {
     "name": "stdout",
     "output_type": "stream",
     "text": [
      "task2_bart_openface/Sona0101_bart_cut.csv\n",
      "Full: (13946, 138)\n",
      "Train: (9343, 138) Test: (2301, 138) Validation (2302, 138)\n"
     ]
    },
    {
     "name": "stderr",
     "output_type": "stream",
     "text": [
      "\r",
      " 71%|███████   | 66/93 [03:35<02:15,  5.01s/it]"
     ]
    },
    {
     "name": "stdout",
     "output_type": "stream",
     "text": [
      "task2_bart_openface/0801_bart_cut.csv\n",
      "Full: (9149, 138)\n",
      "Train: (6129, 138) Test: (1510, 138) Validation (1510, 138)\n"
     ]
    },
    {
     "name": "stderr",
     "output_type": "stream",
     "text": [
      "\r",
      " 72%|███████▏  | 67/93 [03:39<01:59,  4.61s/it]"
     ]
    },
    {
     "name": "stdout",
     "output_type": "stream",
     "text": [
      "task2_bart_openface/Sona0102_bart_cut.csv\n",
      "Full: (13973, 138)\n",
      "Train: (9361, 138) Test: (2306, 138) Validation (2306, 138)\n"
     ]
    },
    {
     "name": "stderr",
     "output_type": "stream",
     "text": [
      "\r",
      " 73%|███████▎  | 68/93 [03:43<01:50,  4.44s/it]"
     ]
    },
    {
     "name": "stdout",
     "output_type": "stream",
     "text": [
      "task3_jenga_openface/1702_Jenga_Cut .csv\n",
      "Full: (7627, 138)\n",
      "Train: (5110, 138) Test: (1258, 138) Validation (1259, 138)\n"
     ]
    },
    {
     "name": "stderr",
     "output_type": "stream",
     "text": [
      "\r",
      " 74%|███████▍  | 69/93 [03:45<01:33,  3.92s/it]"
     ]
    },
    {
     "name": "stdout",
     "output_type": "stream",
     "text": [
      "task3_jenga_openface/1402_jenga_cut.csv\n",
      "Full: (9072, 138)\n",
      "Train: (6078, 138) Test: (1497, 138) Validation (1497, 138)\n"
     ]
    },
    {
     "name": "stderr",
     "output_type": "stream",
     "text": [
      "\r",
      " 75%|███████▌  | 70/93 [03:49<01:26,  3.77s/it]"
     ]
    },
    {
     "name": "stdout",
     "output_type": "stream",
     "text": [
      "task3_jenga_openface/0302_Jenga_cut.csv\n",
      "Full: (9629, 138)\n",
      "Train: (6451, 138) Test: (1589, 138) Validation (1589, 138)\n"
     ]
    },
    {
     "name": "stderr",
     "output_type": "stream",
     "text": [
      "\r",
      " 76%|███████▋  | 71/93 [03:52<01:19,  3.63s/it]"
     ]
    },
    {
     "name": "stdout",
     "output_type": "stream",
     "text": [
      "task3_jenga_openface/Sona0201_jenga_cut.csv\n",
      "Full: (8814, 138)\n",
      "Train: (5905, 138) Test: (1454, 138) Validation (1455, 138)\n"
     ]
    },
    {
     "name": "stderr",
     "output_type": "stream",
     "text": [
      "\r",
      " 77%|███████▋  | 72/93 [03:55<01:12,  3.45s/it]"
     ]
    },
    {
     "name": "stdout",
     "output_type": "stream",
     "text": [
      "task3_jenga_openface/0402_Jenga_cut.csv\n",
      "Full: (9816, 138)\n",
      "Train: (6576, 138) Test: (1620, 138) Validation (1620, 138)\n"
     ]
    },
    {
     "name": "stderr",
     "output_type": "stream",
     "text": [
      "\r",
      " 78%|███████▊  | 73/93 [03:58<01:07,  3.37s/it]"
     ]
    },
    {
     "name": "stdout",
     "output_type": "stream",
     "text": [
      "task3_jenga_openface/1801_Jenga Cut .csv\n",
      "Full: (10984, 138)\n",
      "Train: (7359, 138) Test: (1812, 138) Validation (1813, 138)\n"
     ]
    },
    {
     "name": "stderr",
     "output_type": "stream",
     "text": [
      "\r",
      " 80%|███████▉  | 74/93 [04:02<01:07,  3.57s/it]"
     ]
    },
    {
     "name": "stdout",
     "output_type": "stream",
     "text": [
      "task3_jenga_openface/1501_jenga_cut.csv\n",
      "Full: (9119, 138)\n",
      "Train: (6109, 138) Test: (1505, 138) Validation (1505, 138)\n"
     ]
    },
    {
     "name": "stderr",
     "output_type": "stream",
     "text": [
      "\r",
      " 81%|████████  | 75/93 [04:06<01:05,  3.63s/it]"
     ]
    },
    {
     "name": "stdout",
     "output_type": "stream",
     "text": [
      "task3_jenga_openface/0202_Jenga_cut.csv\n",
      "Full: (8662, 138)\n",
      "Train: (5803, 138) Test: (1429, 138) Validation (1430, 138)\n"
     ]
    },
    {
     "name": "stderr",
     "output_type": "stream",
     "text": [
      "\r",
      " 82%|████████▏ | 76/93 [04:09<00:57,  3.38s/it]"
     ]
    },
    {
     "name": "stdout",
     "output_type": "stream",
     "text": [
      "task3_jenga_openface/0301_Jenga_cut.csv\n",
      "Full: (9610, 138)\n",
      "Train: (6438, 138) Test: (1586, 138) Validation (1586, 138)\n"
     ]
    },
    {
     "name": "stderr",
     "output_type": "stream",
     "text": [
      "\r",
      " 83%|████████▎ | 77/93 [04:12<00:54,  3.43s/it]"
     ]
    },
    {
     "name": "stdout",
     "output_type": "stream",
     "text": [
      "task3_jenga_openface/0401_Jenga_cut.csv\n",
      "Full: (9411, 138)\n",
      "Train: (6305, 138) Test: (1553, 138) Validation (1553, 138)\n"
     ]
    },
    {
     "name": "stderr",
     "output_type": "stream",
     "text": [
      "\r",
      " 84%|████████▍ | 78/93 [04:16<00:49,  3.33s/it]"
     ]
    },
    {
     "name": "stdout",
     "output_type": "stream",
     "text": [
      "task3_jenga_openface/Sona0101_jenga_cut.csv\n",
      "Full: (7591, 138)\n",
      "Train: (5085, 138) Test: (1253, 138) Validation (1253, 138)\n"
     ]
    },
    {
     "name": "stderr",
     "output_type": "stream",
     "text": [
      "\r",
      " 85%|████████▍ | 79/93 [04:19<00:47,  3.39s/it]"
     ]
    },
    {
     "name": "stdout",
     "output_type": "stream",
     "text": [
      "task3_jenga_openface/Sona0302_jenga_cut.csv\n",
      "Full: (9019, 138)\n",
      "Train: (6042, 138) Test: (1488, 138) Validation (1489, 138)\n"
     ]
    },
    {
     "name": "stderr",
     "output_type": "stream",
     "text": [
      "\r",
      " 86%|████████▌ | 80/93 [04:22<00:43,  3.37s/it]"
     ]
    },
    {
     "name": "stdout",
     "output_type": "stream",
     "text": [
      "task3_jenga_openface/1301_jenga_cut.csv\n",
      "Full: (9455, 138)\n",
      "Train: (6334, 138) Test: (1560, 138) Validation (1561, 138)\n"
     ]
    },
    {
     "name": "stderr",
     "output_type": "stream",
     "text": [
      "\r",
      " 87%|████████▋ | 81/93 [04:25<00:38,  3.25s/it]"
     ]
    },
    {
     "name": "stdout",
     "output_type": "stream",
     "text": [
      "task3_jenga_openface/0501_Jenga_cut.csv\n",
      "Full: (9179, 138)\n",
      "Train: (6149, 138) Test: (1515, 138) Validation (1515, 138)\n"
     ]
    },
    {
     "name": "stderr",
     "output_type": "stream",
     "text": [
      "\r",
      " 88%|████████▊ | 82/93 [04:29<00:37,  3.42s/it]"
     ]
    },
    {
     "name": "stdout",
     "output_type": "stream",
     "text": [
      "task3_jenga_openface/Sona_jenga_0301.csv\n",
      "Full: (9043, 138)\n",
      "Train: (6058, 138) Test: (1492, 138) Validation (1493, 138)\n"
     ]
    },
    {
     "name": "stderr",
     "output_type": "stream",
     "text": [
      "\r",
      " 89%|████████▉ | 83/93 [04:32<00:32,  3.23s/it]"
     ]
    },
    {
     "name": "stdout",
     "output_type": "stream",
     "text": [
      "task3_jenga_openface/0201_Jenga_cut.csv\n",
      "Full: (8636, 138)\n",
      "Train: (5786, 138) Test: (1425, 138) Validation (1425, 138)\n"
     ]
    },
    {
     "name": "stderr",
     "output_type": "stream",
     "text": [
      "\r",
      " 90%|█████████ | 84/93 [04:35<00:28,  3.21s/it]"
     ]
    },
    {
     "name": "stdout",
     "output_type": "stream",
     "text": [
      "task3_jenga_openface/1401_jenga_cut.csv\n",
      "Full: (9065, 138)\n",
      "Train: (6073, 138) Test: (1496, 138) Validation (1496, 138)\n"
     ]
    },
    {
     "name": "stderr",
     "output_type": "stream",
     "text": [
      "\r",
      " 91%|█████████▏| 85/93 [04:38<00:25,  3.18s/it]"
     ]
    },
    {
     "name": "stdout",
     "output_type": "stream",
     "text": [
      "task3_jenga_openface/1701_Jenga_Cut .csv\n",
      "Full: (7904, 138)\n",
      "Train: (5295, 138) Test: (1304, 138) Validation (1305, 138)\n"
     ]
    },
    {
     "name": "stderr",
     "output_type": "stream",
     "text": [
      "\r",
      " 92%|█████████▏| 86/93 [04:41<00:21,  3.08s/it]"
     ]
    },
    {
     "name": "stdout",
     "output_type": "stream",
     "text": [
      "task3_jenga_openface/1202_jenga_cut.csv\n",
      "Full: (9282, 138)\n",
      "Train: (6218, 138) Test: (1532, 138) Validation (1532, 138)\n"
     ]
    },
    {
     "name": "stderr",
     "output_type": "stream",
     "text": [
      "\r",
      " 94%|█████████▎| 87/93 [04:45<00:19,  3.18s/it]"
     ]
    },
    {
     "name": "stdout",
     "output_type": "stream",
     "text": [
      "task3_jenga_openface/Sona0202_jenga_cut.csv\n",
      "Full: (8981, 138)\n",
      "Train: (6017, 138) Test: (1482, 138) Validation (1482, 138)\n"
     ]
    },
    {
     "name": "stderr",
     "output_type": "stream",
     "text": [
      "\r",
      " 95%|█████████▍| 88/93 [04:48<00:15,  3.13s/it]"
     ]
    },
    {
     "name": "stdout",
     "output_type": "stream",
     "text": [
      "task3_jenga_openface/1502_jenga_cut.csv\n",
      "Full: (9143, 138)\n",
      "Train: (6125, 138) Test: (1509, 138) Validation (1509, 138)\n"
     ]
    },
    {
     "name": "stderr",
     "output_type": "stream",
     "text": [
      "\r",
      " 96%|█████████▌| 89/93 [04:50<00:12,  3.03s/it]"
     ]
    },
    {
     "name": "stdout",
     "output_type": "stream",
     "text": [
      "task3_jenga_openface/Sona0102_jenga_cut.csv\n",
      "Full: (7790, 138)\n",
      "Train: (5219, 138) Test: (1285, 138) Validation (1286, 138)\n"
     ]
    },
    {
     "name": "stderr",
     "output_type": "stream",
     "text": [
      "\r",
      " 97%|█████████▋| 90/93 [04:53<00:08,  2.88s/it]"
     ]
    },
    {
     "name": "stdout",
     "output_type": "stream",
     "text": [
      "task3_jenga_openface/1201_jenga_cut.csv\n",
      "Full: (9290, 138)\n",
      "Train: (6224, 138) Test: (1533, 138) Validation (1533, 138)\n"
     ]
    },
    {
     "name": "stderr",
     "output_type": "stream",
     "text": [
      "\r",
      " 98%|█████████▊| 91/93 [04:56<00:06,  3.02s/it]"
     ]
    },
    {
     "name": "stdout",
     "output_type": "stream",
     "text": [
      "task3_jenga_openface/0101_Jenga_cut.csv\n",
      "Full: (8983, 138)\n",
      "Train: (6018, 138) Test: (1482, 138) Validation (1483, 138)\n"
     ]
    },
    {
     "name": "stderr",
     "output_type": "stream",
     "text": [
      "\r",
      " 99%|█████████▉| 92/93 [04:59<00:03,  3.01s/it]"
     ]
    },
    {
     "name": "stdout",
     "output_type": "stream",
     "text": [
      "task3_jenga_openface/1302_jenga_cut.csv\n",
      "Full: (9391, 138)\n",
      "Train: (6291, 138) Test: (1550, 138) Validation (1550, 138)\n"
     ]
    },
    {
     "name": "stderr",
     "output_type": "stream",
     "text": [
      "100%|██████████| 93/93 [05:03<00:00,  3.26s/it]\n"
     ]
    },
    {
     "name": "stdout",
     "output_type": "stream",
     "text": [
      "\n",
      "\n",
      "FINAL\n",
      "Train: (712824, 138) Test: (175560, 138) Validation (175605, 138)\n"
     ]
    }
   ],
   "source": [
    "from sklearn.model_selection import train_test_split\n",
    "\n",
    "indicies = ['frame'] + ['x_{0}'.format(i) for i in range(0,68)] + ['y_{0}'.format(i) for i in range(0,68)]\n",
    "\n",
    "flag = True\n",
    "Train = None\n",
    "Test = None\n",
    "Valid = None\n",
    "\n",
    "for f in tqdm(list(files)):\n",
    "    \n",
    "    # Load CSV\n",
    "    print(f)\n",
    "    df = pd.read_csv(\n",
    "            os.path.join(path,f), \n",
    "            error_bad_lines=False, \n",
    "            warn_bad_lines=True)\n",
    "    \n",
    "    face_lmk = df[indicies]\n",
    "    \n",
    "    # Filter NaN rows\n",
    "    nans = df[df[indicies].isnull().any(axis=1)]\n",
    "    if not nans.empty:\n",
    "        dropList = nans.index.tolist()\n",
    "        for r in dropList:\n",
    "            warnings.warn('Dropping row due to NaN, {0}'.format(r))\n",
    "        face_lmk.drop(dropList, inplace=True)\n",
    "        \n",
    "    face_lmk.insert(0,'filename',[f for i in range(0,face_lmk.shape[0])],True)\n",
    "        \n",
    "    print('Full:',face_lmk.shape)\n",
    "    \n",
    "    # Create Training, Test, Validation subsets\n",
    "    train, tmp = train_test_split(face_lmk, test_size=0.33)\n",
    "    test, val = train_test_split(tmp, test_size=0.5)\n",
    "    print('Train:',train.shape,'Test:',test.shape,'Validation',val.shape)\n",
    "    \n",
    "    if flag:\n",
    "        flag = False\n",
    "        Train = train\n",
    "        Test = test\n",
    "        Valid = val\n",
    "    else:\n",
    "        Train = Train.append(train)\n",
    "        Test = Test.append(test)\n",
    "        Valid = Valid.append(val)\n",
    "\n",
    "# Final Dataset (shuffled)\n",
    "Train = Train.sample(frac=1).reset_index(drop=True)\n",
    "Test = Test.sample(frac=1).reset_index(drop=True)\n",
    "Valid = Valid.sample(frac=1).reset_index(drop=True)\n",
    "\n",
    "print('\\n\\nFINAL')\n",
    "print('Train:',Train.shape,'Test:',Test.shape,'Validation',Valid.shape)"
   ]
  },
  {
   "cell_type": "code",
   "execution_count": 5,
   "metadata": {},
   "outputs": [
    {
     "data": {
      "text/html": [
       "<div>\n",
       "<style scoped>\n",
       "    .dataframe tbody tr th:only-of-type {\n",
       "        vertical-align: middle;\n",
       "    }\n",
       "\n",
       "    .dataframe tbody tr th {\n",
       "        vertical-align: top;\n",
       "    }\n",
       "\n",
       "    .dataframe thead th {\n",
       "        text-align: right;\n",
       "    }\n",
       "</style>\n",
       "<table border=\"1\" class=\"dataframe\">\n",
       "  <thead>\n",
       "    <tr style=\"text-align: right;\">\n",
       "      <th></th>\n",
       "      <th>filename</th>\n",
       "      <th>frame</th>\n",
       "      <th>x_0</th>\n",
       "      <th>x_1</th>\n",
       "      <th>x_2</th>\n",
       "      <th>x_3</th>\n",
       "      <th>x_4</th>\n",
       "      <th>x_5</th>\n",
       "      <th>x_6</th>\n",
       "      <th>x_7</th>\n",
       "      <th>...</th>\n",
       "      <th>y_58</th>\n",
       "      <th>y_59</th>\n",
       "      <th>y_60</th>\n",
       "      <th>y_61</th>\n",
       "      <th>y_62</th>\n",
       "      <th>y_63</th>\n",
       "      <th>y_64</th>\n",
       "      <th>y_65</th>\n",
       "      <th>y_66</th>\n",
       "      <th>y_67</th>\n",
       "    </tr>\n",
       "  </thead>\n",
       "  <tbody>\n",
       "    <tr>\n",
       "      <th>0</th>\n",
       "      <td>task3_jenga_openface/Sona0302_jenga_cut.csv</td>\n",
       "      <td>6515.0</td>\n",
       "      <td>395.9</td>\n",
       "      <td>380.9</td>\n",
       "      <td>372.1</td>\n",
       "      <td>369.0</td>\n",
       "      <td>371.2</td>\n",
       "      <td>384.1</td>\n",
       "      <td>395.7</td>\n",
       "      <td>412.9</td>\n",
       "      <td>...</td>\n",
       "      <td>966.2</td>\n",
       "      <td>948.4</td>\n",
       "      <td>927.8</td>\n",
       "      <td>938.0</td>\n",
       "      <td>949.0</td>\n",
       "      <td>956.8</td>\n",
       "      <td>967.9</td>\n",
       "      <td>957.1</td>\n",
       "      <td>949.9</td>\n",
       "      <td>938.5</td>\n",
       "    </tr>\n",
       "    <tr>\n",
       "      <th>1</th>\n",
       "      <td>task3_jenga_openface/0501_Jenga_cut.csv</td>\n",
       "      <td>409.0</td>\n",
       "      <td>1211.9</td>\n",
       "      <td>1239.0</td>\n",
       "      <td>1264.7</td>\n",
       "      <td>1280.0</td>\n",
       "      <td>1282.6</td>\n",
       "      <td>1294.0</td>\n",
       "      <td>1299.9</td>\n",
       "      <td>1314.9</td>\n",
       "      <td>...</td>\n",
       "      <td>1033.2</td>\n",
       "      <td>1024.0</td>\n",
       "      <td>996.5</td>\n",
       "      <td>1000.2</td>\n",
       "      <td>1000.5</td>\n",
       "      <td>990.8</td>\n",
       "      <td>985.0</td>\n",
       "      <td>989.4</td>\n",
       "      <td>1001.9</td>\n",
       "      <td>1003.1</td>\n",
       "    </tr>\n",
       "    <tr>\n",
       "      <th>2</th>\n",
       "      <td>task2_bart_openface/0602_bart_cut.csv</td>\n",
       "      <td>9527.0</td>\n",
       "      <td>1300.5</td>\n",
       "      <td>1302.4</td>\n",
       "      <td>1311.2</td>\n",
       "      <td>1325.2</td>\n",
       "      <td>1338.9</td>\n",
       "      <td>1354.0</td>\n",
       "      <td>1367.0</td>\n",
       "      <td>1383.0</td>\n",
       "      <td>...</td>\n",
       "      <td>624.8</td>\n",
       "      <td>615.4</td>\n",
       "      <td>604.5</td>\n",
       "      <td>606.8</td>\n",
       "      <td>609.3</td>\n",
       "      <td>609.6</td>\n",
       "      <td>605.9</td>\n",
       "      <td>609.4</td>\n",
       "      <td>608.6</td>\n",
       "      <td>605.0</td>\n",
       "    </tr>\n",
       "    <tr>\n",
       "      <th>3</th>\n",
       "      <td>task1_sandwich_openface/0301_sandwich_cut.csv</td>\n",
       "      <td>566.0</td>\n",
       "      <td>841.3</td>\n",
       "      <td>843.8</td>\n",
       "      <td>849.5</td>\n",
       "      <td>861.1</td>\n",
       "      <td>876.1</td>\n",
       "      <td>899.3</td>\n",
       "      <td>928.8</td>\n",
       "      <td>963.0</td>\n",
       "      <td>...</td>\n",
       "      <td>1020.5</td>\n",
       "      <td>1019.9</td>\n",
       "      <td>1011.6</td>\n",
       "      <td>1005.9</td>\n",
       "      <td>1004.7</td>\n",
       "      <td>1001.4</td>\n",
       "      <td>997.0</td>\n",
       "      <td>1000.4</td>\n",
       "      <td>1004.1</td>\n",
       "      <td>1005.3</td>\n",
       "    </tr>\n",
       "    <tr>\n",
       "      <th>4</th>\n",
       "      <td>task3_jenga_openface/1301_jenga_cut.csv</td>\n",
       "      <td>618.0</td>\n",
       "      <td>596.6</td>\n",
       "      <td>598.0</td>\n",
       "      <td>608.5</td>\n",
       "      <td>626.8</td>\n",
       "      <td>644.9</td>\n",
       "      <td>667.5</td>\n",
       "      <td>684.0</td>\n",
       "      <td>706.1</td>\n",
       "      <td>...</td>\n",
       "      <td>628.0</td>\n",
       "      <td>619.0</td>\n",
       "      <td>603.0</td>\n",
       "      <td>605.4</td>\n",
       "      <td>607.2</td>\n",
       "      <td>605.7</td>\n",
       "      <td>600.2</td>\n",
       "      <td>608.0</td>\n",
       "      <td>608.7</td>\n",
       "      <td>606.8</td>\n",
       "    </tr>\n",
       "  </tbody>\n",
       "</table>\n",
       "<p>5 rows × 138 columns</p>\n",
       "</div>"
      ],
      "text/plain": [
       "                                        filename   frame     x_0     x_1  \\\n",
       "0    task3_jenga_openface/Sona0302_jenga_cut.csv  6515.0   395.9   380.9   \n",
       "1        task3_jenga_openface/0501_Jenga_cut.csv   409.0  1211.9  1239.0   \n",
       "2          task2_bart_openface/0602_bart_cut.csv  9527.0  1300.5  1302.4   \n",
       "3  task1_sandwich_openface/0301_sandwich_cut.csv   566.0   841.3   843.8   \n",
       "4        task3_jenga_openface/1301_jenga_cut.csv   618.0   596.6   598.0   \n",
       "\n",
       "      x_2     x_3     x_4     x_5     x_6     x_7  ...    y_58    y_59  \\\n",
       "0   372.1   369.0   371.2   384.1   395.7   412.9  ...   966.2   948.4   \n",
       "1  1264.7  1280.0  1282.6  1294.0  1299.9  1314.9  ...  1033.2  1024.0   \n",
       "2  1311.2  1325.2  1338.9  1354.0  1367.0  1383.0  ...   624.8   615.4   \n",
       "3   849.5   861.1   876.1   899.3   928.8   963.0  ...  1020.5  1019.9   \n",
       "4   608.5   626.8   644.9   667.5   684.0   706.1  ...   628.0   619.0   \n",
       "\n",
       "     y_60    y_61    y_62    y_63   y_64    y_65    y_66    y_67  \n",
       "0   927.8   938.0   949.0   956.8  967.9   957.1   949.9   938.5  \n",
       "1   996.5  1000.2  1000.5   990.8  985.0   989.4  1001.9  1003.1  \n",
       "2   604.5   606.8   609.3   609.6  605.9   609.4   608.6   605.0  \n",
       "3  1011.6  1005.9  1004.7  1001.4  997.0  1000.4  1004.1  1005.3  \n",
       "4   603.0   605.4   607.2   605.7  600.2   608.0   608.7   606.8  \n",
       "\n",
       "[5 rows x 138 columns]"
      ]
     },
     "execution_count": 5,
     "metadata": {},
     "output_type": "execute_result"
    }
   ],
   "source": [
    "Train.head()"
   ]
  },
  {
   "cell_type": "code",
   "execution_count": 6,
   "metadata": {},
   "outputs": [
    {
     "data": {
      "text/html": [
       "<div>\n",
       "<style scoped>\n",
       "    .dataframe tbody tr th:only-of-type {\n",
       "        vertical-align: middle;\n",
       "    }\n",
       "\n",
       "    .dataframe tbody tr th {\n",
       "        vertical-align: top;\n",
       "    }\n",
       "\n",
       "    .dataframe thead th {\n",
       "        text-align: right;\n",
       "    }\n",
       "</style>\n",
       "<table border=\"1\" class=\"dataframe\">\n",
       "  <thead>\n",
       "    <tr style=\"text-align: right;\">\n",
       "      <th></th>\n",
       "      <th>filename</th>\n",
       "      <th>frame</th>\n",
       "      <th>x_0</th>\n",
       "      <th>x_1</th>\n",
       "      <th>x_2</th>\n",
       "      <th>x_3</th>\n",
       "      <th>x_4</th>\n",
       "      <th>x_5</th>\n",
       "      <th>x_6</th>\n",
       "      <th>x_7</th>\n",
       "      <th>...</th>\n",
       "      <th>y_58</th>\n",
       "      <th>y_59</th>\n",
       "      <th>y_60</th>\n",
       "      <th>y_61</th>\n",
       "      <th>y_62</th>\n",
       "      <th>y_63</th>\n",
       "      <th>y_64</th>\n",
       "      <th>y_65</th>\n",
       "      <th>y_66</th>\n",
       "      <th>y_67</th>\n",
       "    </tr>\n",
       "  </thead>\n",
       "  <tbody>\n",
       "    <tr>\n",
       "      <th>0</th>\n",
       "      <td>task2_bart_openface/1001_bart_cut.csv</td>\n",
       "      <td>8414.0</td>\n",
       "      <td>807.7</td>\n",
       "      <td>808.4</td>\n",
       "      <td>815.1</td>\n",
       "      <td>828.5</td>\n",
       "      <td>842.3</td>\n",
       "      <td>858.4</td>\n",
       "      <td>875.6</td>\n",
       "      <td>896.5</td>\n",
       "      <td>...</td>\n",
       "      <td>617.4</td>\n",
       "      <td>615.7</td>\n",
       "      <td>605.8</td>\n",
       "      <td>601.1</td>\n",
       "      <td>600.2</td>\n",
       "      <td>597.4</td>\n",
       "      <td>593.6</td>\n",
       "      <td>599.4</td>\n",
       "      <td>602.2</td>\n",
       "      <td>602.8</td>\n",
       "    </tr>\n",
       "    <tr>\n",
       "      <th>1</th>\n",
       "      <td>task1_sandwich_openface/1402_sandwich_cut.csv</td>\n",
       "      <td>284.0</td>\n",
       "      <td>838.3</td>\n",
       "      <td>839.0</td>\n",
       "      <td>842.0</td>\n",
       "      <td>847.9</td>\n",
       "      <td>855.0</td>\n",
       "      <td>863.4</td>\n",
       "      <td>870.9</td>\n",
       "      <td>879.7</td>\n",
       "      <td>...</td>\n",
       "      <td>482.6</td>\n",
       "      <td>477.1</td>\n",
       "      <td>467.3</td>\n",
       "      <td>472.3</td>\n",
       "      <td>473.8</td>\n",
       "      <td>472.9</td>\n",
       "      <td>468.0</td>\n",
       "      <td>472.9</td>\n",
       "      <td>473.7</td>\n",
       "      <td>472.0</td>\n",
       "    </tr>\n",
       "    <tr>\n",
       "      <th>2</th>\n",
       "      <td>task2_bart_openface/0602_bart_cut.csv</td>\n",
       "      <td>7412.0</td>\n",
       "      <td>1093.4</td>\n",
       "      <td>1093.1</td>\n",
       "      <td>1101.8</td>\n",
       "      <td>1120.3</td>\n",
       "      <td>1139.4</td>\n",
       "      <td>1155.7</td>\n",
       "      <td>1171.2</td>\n",
       "      <td>1188.1</td>\n",
       "      <td>...</td>\n",
       "      <td>581.4</td>\n",
       "      <td>577.8</td>\n",
       "      <td>568.9</td>\n",
       "      <td>563.7</td>\n",
       "      <td>562.5</td>\n",
       "      <td>560.2</td>\n",
       "      <td>550.9</td>\n",
       "      <td>562.9</td>\n",
       "      <td>564.2</td>\n",
       "      <td>563.9</td>\n",
       "    </tr>\n",
       "    <tr>\n",
       "      <th>3</th>\n",
       "      <td>task2_bart_openface/Sona0102_bart_cut.csv</td>\n",
       "      <td>6071.0</td>\n",
       "      <td>941.0</td>\n",
       "      <td>941.0</td>\n",
       "      <td>945.3</td>\n",
       "      <td>953.0</td>\n",
       "      <td>963.4</td>\n",
       "      <td>978.8</td>\n",
       "      <td>995.1</td>\n",
       "      <td>1012.7</td>\n",
       "      <td>...</td>\n",
       "      <td>825.3</td>\n",
       "      <td>816.4</td>\n",
       "      <td>803.0</td>\n",
       "      <td>809.3</td>\n",
       "      <td>812.9</td>\n",
       "      <td>813.4</td>\n",
       "      <td>810.3</td>\n",
       "      <td>813.1</td>\n",
       "      <td>812.1</td>\n",
       "      <td>808.2</td>\n",
       "    </tr>\n",
       "    <tr>\n",
       "      <th>4</th>\n",
       "      <td>task3_jenga_openface/1301_jenga_cut.csv</td>\n",
       "      <td>8424.0</td>\n",
       "      <td>382.1</td>\n",
       "      <td>387.3</td>\n",
       "      <td>393.0</td>\n",
       "      <td>399.0</td>\n",
       "      <td>405.4</td>\n",
       "      <td>412.3</td>\n",
       "      <td>419.0</td>\n",
       "      <td>425.3</td>\n",
       "      <td>...</td>\n",
       "      <td>582.5</td>\n",
       "      <td>584.4</td>\n",
       "      <td>583.5</td>\n",
       "      <td>577.5</td>\n",
       "      <td>575.7</td>\n",
       "      <td>573.3</td>\n",
       "      <td>570.3</td>\n",
       "      <td>575.0</td>\n",
       "      <td>577.5</td>\n",
       "      <td>579.3</td>\n",
       "    </tr>\n",
       "  </tbody>\n",
       "</table>\n",
       "<p>5 rows × 138 columns</p>\n",
       "</div>"
      ],
      "text/plain": [
       "                                        filename   frame     x_0     x_1  \\\n",
       "0          task2_bart_openface/1001_bart_cut.csv  8414.0   807.7   808.4   \n",
       "1  task1_sandwich_openface/1402_sandwich_cut.csv   284.0   838.3   839.0   \n",
       "2          task2_bart_openface/0602_bart_cut.csv  7412.0  1093.4  1093.1   \n",
       "3      task2_bart_openface/Sona0102_bart_cut.csv  6071.0   941.0   941.0   \n",
       "4        task3_jenga_openface/1301_jenga_cut.csv  8424.0   382.1   387.3   \n",
       "\n",
       "      x_2     x_3     x_4     x_5     x_6     x_7  ...   y_58   y_59   y_60  \\\n",
       "0   815.1   828.5   842.3   858.4   875.6   896.5  ...  617.4  615.7  605.8   \n",
       "1   842.0   847.9   855.0   863.4   870.9   879.7  ...  482.6  477.1  467.3   \n",
       "2  1101.8  1120.3  1139.4  1155.7  1171.2  1188.1  ...  581.4  577.8  568.9   \n",
       "3   945.3   953.0   963.4   978.8   995.1  1012.7  ...  825.3  816.4  803.0   \n",
       "4   393.0   399.0   405.4   412.3   419.0   425.3  ...  582.5  584.4  583.5   \n",
       "\n",
       "    y_61   y_62   y_63   y_64   y_65   y_66   y_67  \n",
       "0  601.1  600.2  597.4  593.6  599.4  602.2  602.8  \n",
       "1  472.3  473.8  472.9  468.0  472.9  473.7  472.0  \n",
       "2  563.7  562.5  560.2  550.9  562.9  564.2  563.9  \n",
       "3  809.3  812.9  813.4  810.3  813.1  812.1  808.2  \n",
       "4  577.5  575.7  573.3  570.3  575.0  577.5  579.3  \n",
       "\n",
       "[5 rows x 138 columns]"
      ]
     },
     "execution_count": 6,
     "metadata": {},
     "output_type": "execute_result"
    }
   ],
   "source": [
    "Test.head()"
   ]
  },
  {
   "cell_type": "code",
   "execution_count": 7,
   "metadata": {},
   "outputs": [
    {
     "data": {
      "text/html": [
       "<div>\n",
       "<style scoped>\n",
       "    .dataframe tbody tr th:only-of-type {\n",
       "        vertical-align: middle;\n",
       "    }\n",
       "\n",
       "    .dataframe tbody tr th {\n",
       "        vertical-align: top;\n",
       "    }\n",
       "\n",
       "    .dataframe thead th {\n",
       "        text-align: right;\n",
       "    }\n",
       "</style>\n",
       "<table border=\"1\" class=\"dataframe\">\n",
       "  <thead>\n",
       "    <tr style=\"text-align: right;\">\n",
       "      <th></th>\n",
       "      <th>filename</th>\n",
       "      <th>frame</th>\n",
       "      <th>x_0</th>\n",
       "      <th>x_1</th>\n",
       "      <th>x_2</th>\n",
       "      <th>x_3</th>\n",
       "      <th>x_4</th>\n",
       "      <th>x_5</th>\n",
       "      <th>x_6</th>\n",
       "      <th>x_7</th>\n",
       "      <th>...</th>\n",
       "      <th>y_58</th>\n",
       "      <th>y_59</th>\n",
       "      <th>y_60</th>\n",
       "      <th>y_61</th>\n",
       "      <th>y_62</th>\n",
       "      <th>y_63</th>\n",
       "      <th>y_64</th>\n",
       "      <th>y_65</th>\n",
       "      <th>y_66</th>\n",
       "      <th>y_67</th>\n",
       "    </tr>\n",
       "  </thead>\n",
       "  <tbody>\n",
       "    <tr>\n",
       "      <th>0</th>\n",
       "      <td>task1_sandwich_openface/0602_sandwich_cut.csv</td>\n",
       "      <td>6109.0</td>\n",
       "      <td>505.4</td>\n",
       "      <td>507.2</td>\n",
       "      <td>515.3</td>\n",
       "      <td>531.1</td>\n",
       "      <td>548.5</td>\n",
       "      <td>571.7</td>\n",
       "      <td>592.6</td>\n",
       "      <td>613.0</td>\n",
       "      <td>...</td>\n",
       "      <td>644.2</td>\n",
       "      <td>626.5</td>\n",
       "      <td>602.6</td>\n",
       "      <td>619.9</td>\n",
       "      <td>625.6</td>\n",
       "      <td>625.9</td>\n",
       "      <td>609.7</td>\n",
       "      <td>633.6</td>\n",
       "      <td>633.1</td>\n",
       "      <td>626.8</td>\n",
       "    </tr>\n",
       "    <tr>\n",
       "      <th>1</th>\n",
       "      <td>task2_bart_openface/1402_bart_cut.csv</td>\n",
       "      <td>16175.0</td>\n",
       "      <td>826.4</td>\n",
       "      <td>825.6</td>\n",
       "      <td>828.6</td>\n",
       "      <td>835.6</td>\n",
       "      <td>843.6</td>\n",
       "      <td>852.8</td>\n",
       "      <td>862.3</td>\n",
       "      <td>872.3</td>\n",
       "      <td>...</td>\n",
       "      <td>491.5</td>\n",
       "      <td>484.6</td>\n",
       "      <td>472.3</td>\n",
       "      <td>475.2</td>\n",
       "      <td>477.1</td>\n",
       "      <td>475.6</td>\n",
       "      <td>472.3</td>\n",
       "      <td>478.5</td>\n",
       "      <td>480.0</td>\n",
       "      <td>477.7</td>\n",
       "    </tr>\n",
       "    <tr>\n",
       "      <th>2</th>\n",
       "      <td>task2_bart_openface/0602_bart_cut.csv</td>\n",
       "      <td>15938.0</td>\n",
       "      <td>1286.5</td>\n",
       "      <td>1290.3</td>\n",
       "      <td>1300.7</td>\n",
       "      <td>1317.2</td>\n",
       "      <td>1333.5</td>\n",
       "      <td>1351.2</td>\n",
       "      <td>1367.3</td>\n",
       "      <td>1385.0</td>\n",
       "      <td>...</td>\n",
       "      <td>590.8</td>\n",
       "      <td>582.2</td>\n",
       "      <td>568.4</td>\n",
       "      <td>570.8</td>\n",
       "      <td>571.8</td>\n",
       "      <td>570.4</td>\n",
       "      <td>560.7</td>\n",
       "      <td>574.9</td>\n",
       "      <td>575.6</td>\n",
       "      <td>574.0</td>\n",
       "    </tr>\n",
       "    <tr>\n",
       "      <th>3</th>\n",
       "      <td>task2_bart_openface/0302_bart_cut.csv</td>\n",
       "      <td>16961.0</td>\n",
       "      <td>815.2</td>\n",
       "      <td>814.0</td>\n",
       "      <td>815.5</td>\n",
       "      <td>820.4</td>\n",
       "      <td>829.9</td>\n",
       "      <td>844.0</td>\n",
       "      <td>860.0</td>\n",
       "      <td>876.7</td>\n",
       "      <td>...</td>\n",
       "      <td>775.1</td>\n",
       "      <td>768.8</td>\n",
       "      <td>756.6</td>\n",
       "      <td>760.2</td>\n",
       "      <td>761.5</td>\n",
       "      <td>760.5</td>\n",
       "      <td>757.7</td>\n",
       "      <td>762.6</td>\n",
       "      <td>763.4</td>\n",
       "      <td>762.2</td>\n",
       "    </tr>\n",
       "    <tr>\n",
       "      <th>4</th>\n",
       "      <td>task1_sandwich_openface/0901_sandwich_cut.csv</td>\n",
       "      <td>4991.0</td>\n",
       "      <td>631.4</td>\n",
       "      <td>631.8</td>\n",
       "      <td>637.0</td>\n",
       "      <td>648.5</td>\n",
       "      <td>665.2</td>\n",
       "      <td>691.0</td>\n",
       "      <td>725.8</td>\n",
       "      <td>762.5</td>\n",
       "      <td>...</td>\n",
       "      <td>706.6</td>\n",
       "      <td>698.1</td>\n",
       "      <td>678.0</td>\n",
       "      <td>674.5</td>\n",
       "      <td>673.5</td>\n",
       "      <td>668.5</td>\n",
       "      <td>661.2</td>\n",
       "      <td>677.8</td>\n",
       "      <td>682.7</td>\n",
       "      <td>683.1</td>\n",
       "    </tr>\n",
       "  </tbody>\n",
       "</table>\n",
       "<p>5 rows × 138 columns</p>\n",
       "</div>"
      ],
      "text/plain": [
       "                                        filename    frame     x_0     x_1  \\\n",
       "0  task1_sandwich_openface/0602_sandwich_cut.csv   6109.0   505.4   507.2   \n",
       "1          task2_bart_openface/1402_bart_cut.csv  16175.0   826.4   825.6   \n",
       "2          task2_bart_openface/0602_bart_cut.csv  15938.0  1286.5  1290.3   \n",
       "3          task2_bart_openface/0302_bart_cut.csv  16961.0   815.2   814.0   \n",
       "4  task1_sandwich_openface/0901_sandwich_cut.csv   4991.0   631.4   631.8   \n",
       "\n",
       "      x_2     x_3     x_4     x_5     x_6     x_7  ...   y_58   y_59   y_60  \\\n",
       "0   515.3   531.1   548.5   571.7   592.6   613.0  ...  644.2  626.5  602.6   \n",
       "1   828.6   835.6   843.6   852.8   862.3   872.3  ...  491.5  484.6  472.3   \n",
       "2  1300.7  1317.2  1333.5  1351.2  1367.3  1385.0  ...  590.8  582.2  568.4   \n",
       "3   815.5   820.4   829.9   844.0   860.0   876.7  ...  775.1  768.8  756.6   \n",
       "4   637.0   648.5   665.2   691.0   725.8   762.5  ...  706.6  698.1  678.0   \n",
       "\n",
       "    y_61   y_62   y_63   y_64   y_65   y_66   y_67  \n",
       "0  619.9  625.6  625.9  609.7  633.6  633.1  626.8  \n",
       "1  475.2  477.1  475.6  472.3  478.5  480.0  477.7  \n",
       "2  570.8  571.8  570.4  560.7  574.9  575.6  574.0  \n",
       "3  760.2  761.5  760.5  757.7  762.6  763.4  762.2  \n",
       "4  674.5  673.5  668.5  661.2  677.8  682.7  683.1  \n",
       "\n",
       "[5 rows x 138 columns]"
      ]
     },
     "execution_count": 7,
     "metadata": {},
     "output_type": "execute_result"
    }
   ],
   "source": [
    "Valid.head()"
   ]
  },
  {
   "cell_type": "markdown",
   "metadata": {},
   "source": [
    "Saving to disk"
   ]
  },
  {
   "cell_type": "code",
   "execution_count": 1,
   "metadata": {},
   "outputs": [
    {
     "ename": "NameError",
     "evalue": "name 'task_name' is not defined",
     "output_type": "error",
     "traceback": [
      "\u001b[0;31m---------------------------------------------------------------------------\u001b[0m",
      "\u001b[0;31mNameError\u001b[0m                                 Traceback (most recent call last)",
      "\u001b[0;32m<ipython-input-1-cb1aa60e912f>\u001b[0m in \u001b[0;36m<module>\u001b[0;34m\u001b[0m\n\u001b[0;32m----> 1\u001b[0;31m \u001b[0msave_path\u001b[0m \u001b[0;34m=\u001b[0m \u001b[0;34m'./data/tmp_analysis/{0}'\u001b[0m\u001b[0;34m.\u001b[0m\u001b[0mformat\u001b[0m\u001b[0;34m(\u001b[0m\u001b[0mtask_name\u001b[0m\u001b[0;34m)\u001b[0m\u001b[0;34m\u001b[0m\u001b[0;34m\u001b[0m\u001b[0m\n\u001b[0m\u001b[1;32m      2\u001b[0m \u001b[0msave_train_path\u001b[0m \u001b[0;34m=\u001b[0m \u001b[0msave_path\u001b[0m \u001b[0;34m+\u001b[0m \u001b[0;34m'_train.csv'\u001b[0m\u001b[0;34m\u001b[0m\u001b[0;34m\u001b[0m\u001b[0m\n\u001b[1;32m      3\u001b[0m \u001b[0msave_test_path\u001b[0m \u001b[0;34m=\u001b[0m \u001b[0msave_path\u001b[0m \u001b[0;34m+\u001b[0m \u001b[0;34m'_test.csv'\u001b[0m\u001b[0;34m\u001b[0m\u001b[0;34m\u001b[0m\u001b[0m\n\u001b[1;32m      4\u001b[0m \u001b[0msave_valid_path\u001b[0m \u001b[0;34m=\u001b[0m \u001b[0msave_path\u001b[0m \u001b[0;34m+\u001b[0m \u001b[0;34m'_valid.csv'\u001b[0m\u001b[0;34m\u001b[0m\u001b[0;34m\u001b[0m\u001b[0m\n\u001b[1;32m      5\u001b[0m \u001b[0;34m\u001b[0m\u001b[0m\n",
      "\u001b[0;31mNameError\u001b[0m: name 'task_name' is not defined"
     ]
    }
   ],
   "source": [
    "save_path = './data/tmp_analysis/{0}'.format(task_name)\n",
    "save_train_path = save_path + '_train.csv'\n",
    "save_test_path = save_path + '_test.csv'\n",
    "save_valid_path = save_path + '_valid.csv'\n",
    "\n",
    "\n",
    "Train.to_csv(save_train_path)\n",
    "Test.to_csv(save_test_path)\n",
    "Valid.to_csv(save_valid_path)"
   ]
  },
  {
   "cell_type": "markdown",
   "metadata": {},
   "source": [
    "# LOAD"
   ]
  },
  {
   "cell_type": "code",
   "execution_count": 1,
   "metadata": {},
   "outputs": [],
   "source": [
    "task_name = 'all_data'"
   ]
  },
  {
   "cell_type": "code",
   "execution_count": 2,
   "metadata": {},
   "outputs": [],
   "source": [
    "model_path = './models/{0}/'.format(task_name)"
   ]
  },
  {
   "cell_type": "code",
   "execution_count": 3,
   "metadata": {},
   "outputs": [],
   "source": [
    "import os\n",
    "import numpy as np\n",
    "import pandas as pd\n",
    "import warnings\n",
    "import pickle\n",
    "\n",
    "from tqdm import tqdm"
   ]
  },
  {
   "cell_type": "code",
   "execution_count": 4,
   "metadata": {},
   "outputs": [],
   "source": [
    "save_path = './data/tmp_analysis/{0}'.format(task_name)\n",
    "save_train_path = save_path + '_train.csv'\n",
    "save_test_path = save_path + '_test.csv'\n",
    "save_valid_path = save_path + '_valid.csv'\n",
    "\n",
    "\n",
    "Train = pd.read_csv(save_train_path)\n",
    "Test = pd.read_csv(save_test_path)\n",
    "Valid = pd.read_csv(save_valid_path)"
   ]
  },
  {
   "cell_type": "code",
   "execution_count": 5,
   "metadata": {},
   "outputs": [],
   "source": [
    "X = Train.to_numpy()[:,3:]"
   ]
  },
  {
   "cell_type": "code",
   "execution_count": 6,
   "metadata": {},
   "outputs": [],
   "source": [
    "del Train"
   ]
  },
  {
   "cell_type": "code",
   "execution_count": 7,
   "metadata": {},
   "outputs": [],
   "source": [
    "Xtest = Test.to_numpy()[:,3:]"
   ]
  },
  {
   "cell_type": "code",
   "execution_count": 8,
   "metadata": {},
   "outputs": [],
   "source": [
    "del Test"
   ]
  },
  {
   "cell_type": "code",
   "execution_count": 9,
   "metadata": {},
   "outputs": [],
   "source": [
    "Xvalid = Valid.to_numpy()[:,3:]"
   ]
  },
  {
   "cell_type": "code",
   "execution_count": 10,
   "metadata": {},
   "outputs": [],
   "source": [
    "del Valid"
   ]
  },
  {
   "cell_type": "markdown",
   "metadata": {},
   "source": [
    "## PCA Fit\n",
    "I found 32 components to be roughly the inflection curve.\n",
    "I am also creating an 18  component variant just in case we want a direct comparison with action units"
   ]
  },
  {
   "cell_type": "code",
   "execution_count": 9,
   "metadata": {},
   "outputs": [],
   "source": [
    "\n",
    "from sklearn.decomposition import PCA"
   ]
  },
  {
   "cell_type": "code",
   "execution_count": 11,
   "metadata": {},
   "outputs": [
    {
     "name": "stdout",
     "output_type": "stream",
     "text": [
      "[3.02779096e+06 1.48533096e+06 8.50155349e+04 3.50831752e+04\n",
      " 1.46121298e+04 1.01362244e+04 8.26323178e+03 2.92330732e+03\n",
      " 1.74356737e+03 1.00239894e+03 8.02317341e+02 7.03718909e+02\n",
      " 5.77058727e+02 4.80306044e+02 3.69249102e+02 3.15597340e+02\n",
      " 2.24715060e+02 1.89568966e+02 1.60431417e+02 1.55960819e+02\n",
      " 1.40190233e+02 1.09777519e+02 9.49476111e+01 7.95674407e+01\n",
      " 7.40344663e+01 6.07485550e+01 5.62783469e+01 4.95243089e+01\n",
      " 4.66657980e+01 3.86404256e+01 3.22238569e+01 2.71061114e+01]\n"
     ]
    }
   ],
   "source": [
    "pca_n_32 = PCA(n_components=32)\n",
    "face_pca_n_32 = pca_n_32.fit(X)\n",
    "\n",
    "print(face_pca_n_32.explained_variance_)"
   ]
  },
  {
   "cell_type": "code",
   "execution_count": 12,
   "metadata": {},
   "outputs": [],
   "source": [
    "pickle.dump(face_pca_n_32,open(model_path+'pca_n_32.p','wb'))"
   ]
  },
  {
   "cell_type": "code",
   "execution_count": 13,
   "metadata": {},
   "outputs": [
    {
     "name": "stdout",
     "output_type": "stream",
     "text": [
      "[3.02779096e+06 1.48533096e+06 8.50155349e+04 3.50831752e+04\n",
      " 1.46121298e+04 1.01362244e+04 8.26323178e+03 2.92330732e+03\n",
      " 1.74356737e+03 1.00239894e+03 8.02317341e+02 7.03718909e+02\n",
      " 5.77058727e+02 4.80306044e+02 3.69249098e+02 3.15597336e+02\n",
      " 2.24714979e+02 1.89568078e+02]\n"
     ]
    }
   ],
   "source": [
    "pca_n_18 = PCA(n_components=18)\n",
    "face_pca_n_18 = pca_n_18.fit(X)\n",
    "\n",
    "print(face_pca_n_18.explained_variance_)"
   ]
  },
  {
   "cell_type": "code",
   "execution_count": 14,
   "metadata": {},
   "outputs": [],
   "source": [
    "pickle.dump(face_pca_n_18,open(model_path+'pca_n_18.p','wb'))"
   ]
  },
  {
   "cell_type": "markdown",
   "metadata": {},
   "source": [
    "# Autoencoder\n",
    "Right now just doing a single layer \n",
    "Perhaps we can try a two layer encoder / two layer decoder next?"
   ]
  },
  {
   "cell_type": "markdown",
   "metadata": {},
   "source": [
    "32 Wide encoder"
   ]
  },
  {
   "cell_type": "code",
   "execution_count": 20,
   "metadata": {},
   "outputs": [],
   "source": [
    "import os\n",
    "os.environ[\"CUDA_DEVICE_ORDER\"] = \"PCI_BUS_ID\"   # see issue #152\n",
    "os.environ[\"CUDA_VISIBLE_DEVICES\"] = \"\"\n",
    "\n",
    "import keras\n",
    "from keras import layers\n",
    "\n",
    "import matplotlib.pyplot as plt"
   ]
  },
  {
   "cell_type": "code",
   "execution_count": 21,
   "metadata": {},
   "outputs": [
    {
     "name": "stdout",
     "output_type": "stream",
     "text": [
      "(712824, 136)\n"
     ]
    }
   ],
   "source": [
    "print(X.shape)"
   ]
  },
  {
   "cell_type": "code",
   "execution_count": 22,
   "metadata": {},
   "outputs": [],
   "source": [
    "input_dim = X.shape[1]\n",
    "encoding_dim = 32\n",
    "\n",
    "input_layer = keras.Input(shape=(input_dim,))\n",
    "encoded_layer = layers.Dense(encoding_dim, activation='relu')(input_layer)\n",
    "decoded_layer = layers.Dense(input_dim, activation='relu')(encoded_layer)\n",
    "\n",
    "autoencoder_32 = keras.Model(input_layer,decoded_layer)\n",
    "\n",
    "encoder_32 = keras.Model(input_layer, encoded_layer)"
   ]
  },
  {
   "cell_type": "code",
   "execution_count": 23,
   "metadata": {},
   "outputs": [],
   "source": [
    "autoencoder_32.compile(optimizer='adam',\n",
    "                    loss='binary_crossentropy')"
   ]
  },
  {
   "cell_type": "code",
   "execution_count": 24,
   "metadata": {},
   "outputs": [
    {
     "name": "stdout",
     "output_type": "stream",
     "text": [
      "Model: \"model\"\n",
      "_________________________________________________________________\n",
      "Layer (type)                 Output Shape              Param #   \n",
      "=================================================================\n",
      "input_1 (InputLayer)         [(None, 136)]             0         \n",
      "_________________________________________________________________\n",
      "dense (Dense)                (None, 32)                4384      \n",
      "_________________________________________________________________\n",
      "dense_1 (Dense)              (None, 136)               4488      \n",
      "=================================================================\n",
      "Total params: 8,872\n",
      "Trainable params: 8,872\n",
      "Non-trainable params: 0\n",
      "_________________________________________________________________\n"
     ]
    }
   ],
   "source": [
    "autoencoder_32.summary()"
   ]
  },
  {
   "cell_type": "code",
   "execution_count": null,
   "metadata": {},
   "outputs": [],
   "source": [
    "history = autoencoder_32.fit(X, X, epochs=2, batch_size=64, verbose=1, validation_data=(Xtest, Xtest))"
   ]
  },
  {
   "cell_type": "code",
   "execution_count": null,
   "metadata": {},
   "outputs": [],
   "source": [
    "fig, ax = plt.subplots()\n",
    "\n",
    "plt.plot([0]+history.history['loss'], label='train')\n",
    "plt.plot([0]+history.history['val_loss'], label='test')\n",
    "plt.legend()\n",
    "plt.show()"
   ]
  },
  {
   "cell_type": "code",
   "execution_count": null,
   "metadata": {},
   "outputs": [],
   "source": [
    "predictions = autoencoder_32.predict(Xvalid)\n",
    "# TODO I should probably do something with the validation set"
   ]
  },
  {
   "cell_type": "code",
   "execution_count": null,
   "metadata": {},
   "outputs": [],
   "source": [
    "autoencoder_32.save(model_path + 'autoencoder_32.pb')\n",
    "encoder_32.save(model_path + 'encoder_32.pb')"
   ]
  },
  {
   "cell_type": "markdown",
   "metadata": {},
   "source": [
    "18 wide encoder"
   ]
  },
  {
   "cell_type": "code",
   "execution_count": null,
   "metadata": {},
   "outputs": [],
   "source": [
    "import keras\n",
    "from keras import layers"
   ]
  },
  {
   "cell_type": "code",
   "execution_count": null,
   "metadata": {},
   "outputs": [],
   "source": [
    "X = Train.to_numpy()[:,3:]\n",
    "Xtest = Test.to_numpy()[:,3:]\n",
    "Xvalid = Valid.to_numpy()[:,3:]"
   ]
  },
  {
   "cell_type": "code",
   "execution_count": null,
   "metadata": {},
   "outputs": [],
   "source": [
    "input_dim = X.shape[1]\n",
    "encoding_dim = 18\n",
    "\n",
    "input_layer = keras.Input(shape=(input_dim,))\n",
    "encoded_layer = layers.Dense(encoding_dim, activation='relu')(input_layer)\n",
    "decoded_layer = layers.Dense(input_dim, activation='relu')(encoded_layer)\n",
    "\n",
    "autoencoder_18 = keras.Model(input_layer,decoded_layer)\n",
    "\n",
    "encoder_18 = keras.Model(input_layer, encoded_layer)"
   ]
  },
  {
   "cell_type": "code",
   "execution_count": null,
   "metadata": {},
   "outputs": [],
   "source": [
    "autoencoder_18.compile(optimizer='adam',\n",
    "                    loss='binary_crossentropy')"
   ]
  },
  {
   "cell_type": "code",
   "execution_count": null,
   "metadata": {},
   "outputs": [],
   "source": [
    "autoencoder_18.summary()"
   ]
  },
  {
   "cell_type": "code",
   "execution_count": null,
   "metadata": {},
   "outputs": [],
   "source": [
    "history = autoencoder_18.fit(X, X, epochs=2, batch_size=64, verbose=0, validation_data=(Xtest, Xtest))"
   ]
  },
  {
   "cell_type": "code",
   "execution_count": null,
   "metadata": {},
   "outputs": [],
   "source": [
    "fig, ax = plt.subplots()\n",
    "\n",
    "plt.plot([0]+history.history['loss'], label='train')\n",
    "plt.plot([0]+history.history['val_loss'], label='test')\n",
    "plt.legend()\n",
    "plt.show()"
   ]
  },
  {
   "cell_type": "code",
   "execution_count": null,
   "metadata": {},
   "outputs": [],
   "source": [
    "predictions = autoencoder_5.predict(Xvalid)\n",
    "# TODO I should probably do something with the validation set"
   ]
  },
  {
   "cell_type": "code",
   "execution_count": null,
   "metadata": {},
   "outputs": [],
   "source": [
    "autoencoder_18.save(model_path + 'autoencoder_18.pb')\n",
    "encoder_18.save(model_path + 'encoder_18.pb')"
   ]
  },
  {
   "cell_type": "markdown",
   "metadata": {},
   "source": [
    "## K-means\n",
    "Not sure what this is going to do \n",
    "(my guess is it is going to cluster similar participants)"
   ]
  },
  {
   "cell_type": "code",
   "execution_count": 18,
   "metadata": {},
   "outputs": [],
   "source": [
    "import matplotlib.pyplot as plt\n",
    "\n",
    "def visualize_labels(y):\n",
    "    idx = np.arange(len(y))\n",
    "\n",
    "    fig, (ax1,ax2) = plt.subplots(nrows=2, sharex=True)\n",
    "\n",
    "    ax1.imshow(y[np.newaxis,:], cmap=\"plasma\", aspect=\"auto\")\n",
    "    ax1.set_yticks([])\n",
    "\n",
    "    ax2.scatter(idx,y)\n",
    "\n",
    "    plt.tight_layout()\n",
    "    plt.show()"
   ]
  },
  {
   "cell_type": "code",
   "execution_count": 12,
   "metadata": {},
   "outputs": [],
   "source": [
    "from sklearn.cluster import KMeans"
   ]
  },
  {
   "cell_type": "code",
   "execution_count": 13,
   "metadata": {},
   "outputs": [],
   "source": [
    "face_pca_n_32 = pickle.load(open(model_path+'pca_n_32.p','rb'))\n",
    "\n",
    "X_pca = face_pca_n_32.transform(X)\n",
    "kmeans_5 = KMeans(n_clusters=5, random_state=0).fit(X_pca)"
   ]
  },
  {
   "cell_type": "code",
   "execution_count": 19,
   "metadata": {},
   "outputs": [
    {
     "data": {
      "image/png": "[encoded data removed]",
      "text/plain": [
       "<Figure size 432x288 with 2 Axes>"
      ]
     },
     "metadata": {
      "needs_background": "light"
     },
     "output_type": "display_data"
    }
   ],
   "source": [
    "y = kmeans_5.predict(face_pca_n_32.transform(Xtest))\n",
    "visualize_labels(y)"
   ]
  },
  {
   "cell_type": "code",
   "execution_count": 16,
   "metadata": {},
   "outputs": [
    {
     "data": {
      "image/png": "[encoded data removed]",
      "text/plain": [
       "<Figure size 432x288 with 2 Axes>"
      ]
     },
     "metadata": {
      "needs_background": "light"
     },
     "output_type": "display_data"
    }
   ],
   "source": [
    "y = kmeans_5.predict(face_pca_n_32.transform(Xvalid))\n",
    "visualize_labels(y)"
   ]
  },
  {
   "cell_type": "code",
   "execution_count": 17,
   "metadata": {},
   "outputs": [],
   "source": [
    "pickle.dump(kmeans_5,open(model_path+'kmeans_5_from_pca.p','wb'))"
   ]
  },
  {
   "cell_type": "markdown",
   "metadata": {},
   "source": [
    "   "
   ]
  },
  {
   "cell_type": "code",
   "execution_count": null,
   "metadata": {},
   "outputs": [],
   "source": [
    "import keras\n",
    "encoder_32 = keras.models.load_model(model_path + 'encoder_32.pb')\n",
    "\n",
    "X_auto = encoder_32.predict(X)\n",
    "kmeans_5 = KMeans(n_clusters=5, random_state=0).fit(X_auto)"
   ]
  },
  {
   "cell_type": "code",
   "execution_count": null,
   "metadata": {},
   "outputs": [],
   "source": [
    "y = kmeans_5.predict(encoder_32.predict(Test.to_numpy()[:,3:]))\n",
    "visualize_labels(y)"
   ]
  },
  {
   "cell_type": "code",
   "execution_count": null,
   "metadata": {},
   "outputs": [],
   "source": [
    "y = kmeans_5.predict(encoder_32.predict(Valid.to_numpy()[:,3:]))\n",
    "visualize_labels(y)"
   ]
  },
  {
   "cell_type": "code",
   "execution_count": null,
   "metadata": {},
   "outputs": [],
   "source": [
    "pickle.dump(kmeans_5,open(model_path+'kmeans_5_from_auto.p','wb'))"
   ]
  },
  {
   "cell_type": "markdown",
   "metadata": {},
   "source": [
    "## Model Comparisons\n",
    "Is there some way to perform a comparison across the models (I don't think there is without dynamic time warping)\n",
    "- PCA-n-5\n",
    "- PCA-n-32 -> KMeans-5-from-pca\n",
    "- Autoencoder-32 -> KMeans-5-from-autoencoder\n",
    "- Autoencoder-5"
   ]
  },
  {
   "cell_type": "code",
   "execution_count": null,
   "metadata": {},
   "outputs": [],
   "source": []
  },
  {
   "cell_type": "code",
   "execution_count": null,
   "metadata": {},
   "outputs": [],
   "source": []
  },
  {
   "cell_type": "code",
   "execution_count": null,
   "metadata": {},
   "outputs": [],
   "source": []
  }
 ],
 "metadata": {
  "kernelspec": {
   "display_name": "Python 3",
   "language": "python",
   "name": "python3"
  },
  "language_info": {
   "codemirror_mode": {
    "name": "ipython",
    "version": 3
   },
   "file_extension": ".py",
   "mimetype": "text/x-python",
   "name": "python",
   "nbconvert_exporter": "python",
   "pygments_lexer": "ipython3",
   "version": "3.8.5"
  }
 },
 "nbformat": 4,
 "nbformat_minor": 2
}
