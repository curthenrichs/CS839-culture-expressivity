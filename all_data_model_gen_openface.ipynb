{
 "cells": [
  {
   "cell_type": "code",
   "execution_count": 45,
   "metadata": {},
   "outputs": [],
   "source": [
    "task_name = 'all_data'"
   ]
  },
  {
   "cell_type": "code",
   "execution_count": 46,
   "metadata": {},
   "outputs": [],
   "source": [
    "model_path = './models/{0}/'.format(task_name)"
   ]
  },
  {
   "cell_type": "markdown",
   "metadata": {},
   "source": [
    "# Model Creation for Tasks captured through Openface\n",
    "\n",
    "1. First we create the training data from the task participant data\n",
    "\n",
    "       This results in three intermediate training CSVs stored to disk.\n",
    "\n",
    "2. Next we train the PCA models\n",
    "\n",
    "        This results in pickled PCA models.\n",
    "        \n",
    "3. Then we train a k-means cluster that sits on top of PCA \n",
    "\n",
    "        This results in pickled k-means model.\n",
    "\n",
    "4. Next we train an autoencoder model (as replacement for PCA)\n",
    "\n",
    "        This results in saved autoencoder model.\n"
   ]
  },
  {
   "cell_type": "code",
   "execution_count": 47,
   "metadata": {},
   "outputs": [
    {
     "name": "stdout",
     "output_type": "stream",
     "text": [
      "Num Files: 93\n"
     ]
    }
   ],
   "source": [
    "import os\n",
    "import numpy as np\n",
    "import pandas as pd\n",
    "\n",
    "import warnings\n",
    "from tqdm import tqdm_notebook as tqdm\n",
    "\n",
    "path = './data/openface'\n",
    "tasks = ['task1_sandwich_openface','task2_bart_openface','task3_jenga_openface']\n",
    "\n",
    "files = []\n",
    "for task in tasks:\n",
    "    subpath = os.path.join(path,task)\n",
    "    files += [os.path.join(task,f) for f in os.listdir(subpath) if os.path.isfile(os.path.join(subpath,f))]\n",
    "\n",
    "print('Num Files:',len(files))"
   ]
  },
  {
   "cell_type": "markdown",
   "metadata": {},
   "source": [
    "## Create training set\n",
    "Using k out of every file?\n",
    "\n",
    "Note dropping bad lines"
   ]
  },
  {
   "cell_type": "code",
   "execution_count": 48,
   "metadata": {},
   "outputs": [
    {
     "data": {
      "application/vnd.jupyter.widget-view+json": {
       "model_id": "461bc4293071416484f2734d8bada522",
       "version_major": 2,
       "version_minor": 0
      },
      "text/plain": [
       "HBox(children=(IntProgress(value=0, max=93), HTML(value='')))"
      ]
     },
     "metadata": {},
     "output_type": "display_data"
    },
    {
     "name": "stdout",
     "output_type": "stream",
     "text": [
      "task1_sandwich_openface\\0101_sandwich_cut.csv\n",
      "Full: (5732, 138)\n",
      "Train: (3840, 138) Test: (946, 138) Validation (946, 138)\n",
      "task1_sandwich_openface\\0102_sandwich_cut.csv\n",
      "Full: (5692, 138)\n",
      "Train: (3813, 138) Test: (939, 138) Validation (940, 138)\n",
      "task1_sandwich_openface\\0201_sandwich_cut.csv\n",
      "Full: (9953, 138)\n",
      "Train: (6668, 138) Test: (1642, 138) Validation (1643, 138)\n",
      "task1_sandwich_openface\\0301_sandwich_cut.csv\n",
      "Full: (8261, 138)\n",
      "Train: (5534, 138) Test: (1363, 138) Validation (1364, 138)\n",
      "task1_sandwich_openface\\0302_sandwich_cut.csv\n",
      "Full: (8333, 138)\n",
      "Train: (5583, 138) Test: (1375, 138) Validation (1375, 138)\n",
      "task1_sandwich_openface\\0402_sandwich_cut.csv\n",
      "Full: (4974, 138)\n",
      "Train: (3332, 138) Test: (821, 138) Validation (821, 138)\n",
      "task1_sandwich_openface\\0501_sandwich_cut.csv\n",
      "Full: (9426, 138)\n",
      "Train: (6315, 138) Test: (1555, 138) Validation (1556, 138)\n",
      "task1_sandwich_openface\\0502_sandwich_cut.csv\n",
      "Full: (9457, 138)\n",
      "Train: (6336, 138) Test: (1560, 138) Validation (1561, 138)\n",
      "task1_sandwich_openface\\0601_sandwich_cut.csv\n",
      "Full: (11538, 138)\n",
      "Train: (7730, 138) Test: (1904, 138) Validation (1904, 138)\n",
      "task1_sandwich_openface\\0602_sandwich_cut.csv\n",
      "Full: (10711, 138)\n",
      "Train: (7176, 138) Test: (1767, 138) Validation (1768, 138)\n",
      "task1_sandwich_openface\\0701_sandwich_cut.csv\n",
      "Full: (8250, 138)\n",
      "Train: (5527, 138) Test: (1361, 138) Validation (1362, 138)\n",
      "task1_sandwich_openface\\0702_sandwich_cut.csv\n",
      "Full: (8501, 138)\n",
      "Train: (5695, 138) Test: (1403, 138) Validation (1403, 138)\n",
      "task1_sandwich_openface\\0801_sandwich_cut.csv\n",
      "Full: (11169, 138)\n",
      "Train: (7483, 138) Test: (1843, 138) Validation (1843, 138)\n",
      "task1_sandwich_openface\\0802_sandwich_cut.csv\n",
      "Full: (11239, 138)\n",
      "Train: (7530, 138) Test: (1854, 138) Validation (1855, 138)\n",
      "task1_sandwich_openface\\0901_sandwich_cut.csv\n",
      "Full: (13190, 138)\n",
      "Train: (8837, 138) Test: (2176, 138) Validation (2177, 138)\n",
      "task1_sandwich_openface\\1001_sandwich_cut.csv\n",
      "Full: (8028, 138)\n",
      "Train: (5378, 138) Test: (1325, 138) Validation (1325, 138)\n",
      "task1_sandwich_openface\\1002_sandwich_cut.csv\n",
      "Full: (8236, 138)\n",
      "Train: (5518, 138) Test: (1359, 138) Validation (1359, 138)\n",
      "task1_sandwich_openface\\1101_sandwich_cut.csv\n",
      "Full: (10804, 138)\n",
      "Train: (7238, 138) Test: (1783, 138) Validation (1783, 138)\n",
      "task1_sandwich_openface\\1301_sandwich_cut.csv\n"
     ]
    },
    {
     "name": "stderr",
     "output_type": "stream",
     "text": [
      "b'Skipping line 4053: expected 714 fields, saw 1233\\nSkipping line 4064: expected 714 fields, saw 722\\n'\n",
      "C:\\Users\\curth\\Anaconda3\\lib\\site-packages\\ipykernel_launcher.py:26: UserWarning: Dropping row due to NaN, 6548\n",
      "C:\\Users\\curth\\Anaconda3\\lib\\site-packages\\ipykernel_launcher.py:26: UserWarning: Dropping row due to NaN, 6552\n",
      "C:\\Users\\curth\\Anaconda3\\lib\\site-packages\\pandas\\core\\frame.py:4102: SettingWithCopyWarning: \n",
      "A value is trying to be set on a copy of a slice from a DataFrame\n",
      "\n",
      "See the caveats in the documentation: http://pandas.pydata.org/pandas-docs/stable/user_guide/indexing.html#returning-a-view-versus-a-copy\n",
      "  errors=errors,\n"
     ]
    },
    {
     "name": "stdout",
     "output_type": "stream",
     "text": [
      "Full: (6570, 138)\n",
      "Train: (4401, 138) Test: (1084, 138) Validation (1085, 138)\n",
      "task1_sandwich_openface\\1401_sandwich_cut.csv\n",
      "Full: (7476, 138)\n",
      "Train: (5008, 138) Test: (1234, 138) Validation (1234, 138)\n",
      "task1_sandwich_openface\\1402_sandwich_cut.csv\n",
      "Full: (7518, 138)\n",
      "Train: (5037, 138) Test: (1240, 138) Validation (1241, 138)\n",
      "task1_sandwich_openface\\1501_sandwich_cut.csv\n",
      "Full: (7224, 138)\n",
      "Train: (4840, 138) Test: (1192, 138) Validation (1192, 138)\n",
      "task1_sandwich_openface\\1502_sandwich_cut.csv\n",
      "Full: (7219, 138)\n",
      "Train: (4836, 138) Test: (1191, 138) Validation (1192, 138)\n",
      "task1_sandwich_openface\\1701_Sandwich_Cut.csv\n",
      "Full: (6185, 138)\n",
      "Train: (4143, 138) Test: (1021, 138) Validation (1021, 138)\n",
      "task1_sandwich_openface\\1702_Sandwich_Cut.csv\n",
      "Full: (6674, 138)\n",
      "Train: (4471, 138) Test: (1101, 138) Validation (1102, 138)\n",
      "task1_sandwich_openface\\sona0101_sandwich_cut.csv\n",
      "Full: (4700, 138)\n",
      "Train: (3149, 138) Test: (775, 138) Validation (776, 138)\n",
      "task1_sandwich_openface\\sona0102_sandwich_cut.csv\n",
      "Full: (4735, 138)\n",
      "Train: (3172, 138) Test: (781, 138) Validation (782, 138)\n",
      "task1_sandwich_openface\\Sona0201_sandwich_cut.csv\n",
      "Full: (6358, 138)\n",
      "Train: (4259, 138) Test: (1049, 138) Validation (1050, 138)\n",
      "task1_sandwich_openface\\Sona0202_sandwich_cut.csv\n",
      "Full: (6405, 138)\n",
      "Train: (4291, 138) Test: (1057, 138) Validation (1057, 138)\n",
      "task1_sandwich_openface\\Sona0302_sandwich_cut.csv\n",
      "Full: (7300, 138)\n",
      "Train: (4891, 138) Test: (1204, 138) Validation (1205, 138)\n",
      "task1_sandwich_openface\\Sona0401_sandwich_cut.csv\n",
      "Full: (5606, 138)\n",
      "Train: (3756, 138) Test: (925, 138) Validation (925, 138)\n",
      "task1_sandwich_openface\\Sona0402_sandwich_cut.csv\n",
      "Full: (6001, 138)\n",
      "Train: (4020, 138) Test: (990, 138) Validation (991, 138)\n",
      "task2_bart_openface\\0101_bart_cut.csv\n",
      "Full: (11665, 138)\n",
      "Train: (7815, 138) Test: (1925, 138) Validation (1925, 138)\n",
      "task2_bart_openface\\0102_bart_cut.csv\n",
      "Full: (10487, 138)\n",
      "Train: (7026, 138) Test: (1730, 138) Validation (1731, 138)\n",
      "task2_bart_openface\\0201_bart_cut.csv\n",
      "Full: (13184, 138)\n",
      "Train: (8833, 138) Test: (2175, 138) Validation (2176, 138)\n",
      "task2_bart_openface\\0202_bart_cut.csv\n",
      "Full: (13116, 138)\n",
      "Train: (8787, 138) Test: (2164, 138) Validation (2165, 138)\n",
      "task2_bart_openface\\0302_bart_cut.csv\n",
      "Full: (19035, 138)\n",
      "Train: (12753, 138) Test: (3141, 138) Validation (3141, 138)\n",
      "task2_bart_openface\\0401_bart_cut.csv\n",
      "Full: (20110, 138)\n",
      "Train: (13473, 138) Test: (3318, 138) Validation (3319, 138)\n",
      "task2_bart_openface\\0402_bart_cut.csv\n",
      "Full: (20246, 138)\n",
      "Train: (13564, 138) Test: (3341, 138) Validation (3341, 138)\n",
      "task2_bart_openface\\0501_bart_cut.csv\n",
      "Full: (29969, 138)\n",
      "Train: (20079, 138) Test: (4945, 138) Validation (4945, 138)\n",
      "task2_bart_openface\\0502_bart_cut.csv\n",
      "Full: (29994, 138)\n",
      "Train: (20095, 138) Test: (4949, 138) Validation (4950, 138)\n",
      "task2_bart_openface\\0601_bart_cut.csv\n",
      "Full: (17303, 138)\n",
      "Train: (11593, 138) Test: (2855, 138) Validation (2855, 138)\n",
      "task2_bart_openface\\0602_bart_cut.csv\n",
      "Full: (16976, 138)\n",
      "Train: (11373, 138) Test: (2801, 138) Validation (2802, 138)\n",
      "task2_bart_openface\\0701_bart_cut.csv\n",
      "Full: (12787, 138)\n",
      "Train: (8567, 138) Test: (2110, 138) Validation (2110, 138)\n",
      "task2_bart_openface\\0702_bart_cut.csv\n",
      "Full: (13363, 138)\n",
      "Train: (8953, 138) Test: (2205, 138) Validation (2205, 138)\n",
      "task2_bart_openface\\0801_bart_cut.csv\n",
      "Full: (9149, 138)\n",
      "Train: (6129, 138) Test: (1510, 138) Validation (1510, 138)\n",
      "task2_bart_openface\\0802_bart_cut.csv\n",
      "Full: (9285, 138)\n",
      "Train: (6220, 138) Test: (1532, 138) Validation (1533, 138)\n",
      "task2_bart_openface\\0902_bart_cut.csv\n",
      "Full: (17520, 138)\n",
      "Train: (11738, 138) Test: (2891, 138) Validation (2891, 138)\n",
      "task2_bart_openface\\1001_bart_cut.csv\n",
      "Full: (19442, 138)\n",
      "Train: (13026, 138) Test: (3208, 138) Validation (3208, 138)\n",
      "task2_bart_openface\\1002_bart_cut.csv\n",
      "Full: (19483, 138)\n",
      "Train: (13053, 138) Test: (3215, 138) Validation (3215, 138)\n",
      "task2_bart_openface\\1101_bart_cut.csv\n",
      "Full: (14445, 138)\n",
      "Train: (9678, 138) Test: (2383, 138) Validation (2384, 138)\n",
      "task2_bart_openface\\1102_bart_cut.csv\n",
      "Full: (14637, 138)\n",
      "Train: (9806, 138) Test: (2415, 138) Validation (2416, 138)\n",
      "task2_bart_openface\\1201_bart_cut.csv\n",
      "Full: (17923, 138)\n",
      "Train: (12008, 138) Test: (2957, 138) Validation (2958, 138)\n",
      "task2_bart_openface\\1202_bart_cut.csv\n",
      "Full: (17951, 138)\n",
      "Train: (12027, 138) Test: (2962, 138) Validation (2962, 138)\n",
      "task2_bart_openface\\1301_bart_cut.csv\n",
      "Full: (12346, 138)\n",
      "Train: (8271, 138) Test: (2037, 138) Validation (2038, 138)\n",
      "task2_bart_openface\\1302_bart_cut.csv\n",
      "Full: (12961, 138)\n",
      "Train: (8683, 138) Test: (2139, 138) Validation (2139, 138)\n",
      "task2_bart_openface\\1401_bart_cut.csv\n",
      "Full: (17045, 138)\n",
      "Train: (11420, 138) Test: (2812, 138) Validation (2813, 138)\n",
      "task2_bart_openface\\1402_bart_cut.csv\n",
      "Full: (17106, 138)\n",
      "Train: (11461, 138) Test: (2822, 138) Validation (2823, 138)\n",
      "task2_bart_openface\\1701_Bart_Cut .csv\n",
      "Full: (17671, 138)\n",
      "Train: (11839, 138) Test: (2916, 138) Validation (2916, 138)\n",
      "task2_bart_openface\\1702_Bart_Cut.csv\n",
      "Full: (18037, 138)\n",
      "Train: (12084, 138) Test: (2976, 138) Validation (2977, 138)\n",
      "task2_bart_openface\\Sona0101_bart_cut.csv\n",
      "Full: (13946, 138)\n",
      "Train: (9343, 138) Test: (2301, 138) Validation (2302, 138)\n",
      "task2_bart_openface\\Sona0102_bart_cut.csv\n",
      "Full: (13973, 138)\n",
      "Train: (9361, 138) Test: (2306, 138) Validation (2306, 138)\n",
      "task2_bart_openface\\Sona0201_bart_cut.csv\n",
      "Full: (13937, 138)\n",
      "Train: (9337, 138) Test: (2300, 138) Validation (2300, 138)\n",
      "task2_bart_openface\\Sona0202_bart_cut.csv\n",
      "Full: (13904, 138)\n",
      "Train: (9315, 138) Test: (2294, 138) Validation (2295, 138)\n",
      "task2_bart_openface\\Sona0301_bart_cut.csv\n",
      "Full: (25035, 138)\n",
      "Train: (16773, 138) Test: (4131, 138) Validation (4131, 138)\n",
      "task2_bart_openface\\Sona0302_bart_cut.csv\n",
      "Full: (25085, 138)\n",
      "Train: (16806, 138) Test: (4139, 138) Validation (4140, 138)\n",
      "task2_bart_openface\\Sona0401_bart_cut.csv\n",
      "Full: (8084, 138)\n",
      "Train: (5416, 138) Test: (1334, 138) Validation (1334, 138)\n",
      "task2_bart_openface\\Sona0402_bart_cut.csv\n",
      "Full: (7828, 138)\n",
      "Train: (5244, 138) Test: (1292, 138) Validation (1292, 138)\n",
      "task3_jenga_openface\\0101_Jenga_cut.csv\n",
      "Full: (8983, 138)\n",
      "Train: (6018, 138) Test: (1482, 138) Validation (1483, 138)\n",
      "task3_jenga_openface\\0201_Jenga_cut.csv\n",
      "Full: (8636, 138)\n",
      "Train: (5786, 138) Test: (1425, 138) Validation (1425, 138)\n",
      "task3_jenga_openface\\0202_Jenga_cut.csv\n",
      "Full: (8662, 138)\n",
      "Train: (5803, 138) Test: (1429, 138) Validation (1430, 138)\n",
      "task3_jenga_openface\\0301_Jenga_cut.csv\n",
      "Full: (9610, 138)\n",
      "Train: (6438, 138) Test: (1586, 138) Validation (1586, 138)\n",
      "task3_jenga_openface\\0302_Jenga_cut.csv\n",
      "Full: (9629, 138)\n",
      "Train: (6451, 138) Test: (1589, 138) Validation (1589, 138)\n",
      "task3_jenga_openface\\0401_Jenga_cut.csv\n",
      "Full: (9411, 138)\n",
      "Train: (6305, 138) Test: (1553, 138) Validation (1553, 138)\n",
      "task3_jenga_openface\\0402_Jenga_cut.csv\n",
      "Full: (9816, 138)\n",
      "Train: (6576, 138) Test: (1620, 138) Validation (1620, 138)\n",
      "task3_jenga_openface\\0501_Jenga_cut.csv\n",
      "Full: (9179, 138)\n",
      "Train: (6149, 138) Test: (1515, 138) Validation (1515, 138)\n",
      "task3_jenga_openface\\1201_jenga_cut.csv\n",
      "Full: (9290, 138)\n",
      "Train: (6224, 138) Test: (1533, 138) Validation (1533, 138)\n",
      "task3_jenga_openface\\1202_jenga_cut.csv\n",
      "Full: (9282, 138)\n",
      "Train: (6218, 138) Test: (1532, 138) Validation (1532, 138)\n",
      "task3_jenga_openface\\1301_jenga_cut.csv\n",
      "Full: (9455, 138)\n",
      "Train: (6334, 138) Test: (1560, 138) Validation (1561, 138)\n",
      "task3_jenga_openface\\1302_jenga_cut.csv\n",
      "Full: (9391, 138)\n",
      "Train: (6291, 138) Test: (1550, 138) Validation (1550, 138)\n",
      "task3_jenga_openface\\1401_jenga_cut.csv\n",
      "Full: (9065, 138)\n",
      "Train: (6073, 138) Test: (1496, 138) Validation (1496, 138)\n",
      "task3_jenga_openface\\1402_jenga_cut.csv\n",
      "Full: (9072, 138)\n",
      "Train: (6078, 138) Test: (1497, 138) Validation (1497, 138)\n",
      "task3_jenga_openface\\1501_jenga_cut.csv\n",
      "Full: (9119, 138)\n",
      "Train: (6109, 138) Test: (1505, 138) Validation (1505, 138)\n",
      "task3_jenga_openface\\1502_jenga_cut.csv\n",
      "Full: (9143, 138)\n",
      "Train: (6125, 138) Test: (1509, 138) Validation (1509, 138)\n",
      "task3_jenga_openface\\1701_Jenga_Cut .csv\n",
      "Full: (7904, 138)\n",
      "Train: (5295, 138) Test: (1304, 138) Validation (1305, 138)\n",
      "task3_jenga_openface\\1702_Jenga_Cut .csv\n",
      "Full: (7627, 138)\n",
      "Train: (5110, 138) Test: (1258, 138) Validation (1259, 138)\n",
      "task3_jenga_openface\\1801_Jenga Cut .csv\n",
      "Full: (10984, 138)\n"
     ]
    },
    {
     "name": "stdout",
     "output_type": "stream",
     "text": [
      "Train: (7359, 138) Test: (1812, 138) Validation (1813, 138)\n",
      "task3_jenga_openface\\Sona0101_jenga_cut.csv\n",
      "Full: (7591, 138)\n",
      "Train: (5085, 138) Test: (1253, 138) Validation (1253, 138)\n",
      "task3_jenga_openface\\Sona0102_jenga_cut.csv\n",
      "Full: (7790, 138)\n",
      "Train: (5219, 138) Test: (1285, 138) Validation (1286, 138)\n",
      "task3_jenga_openface\\Sona0201_jenga_cut.csv\n",
      "Full: (8814, 138)\n",
      "Train: (5905, 138) Test: (1454, 138) Validation (1455, 138)\n",
      "task3_jenga_openface\\Sona0202_jenga_cut.csv\n",
      "Full: (8981, 138)\n",
      "Train: (6017, 138) Test: (1482, 138) Validation (1482, 138)\n",
      "task3_jenga_openface\\Sona0302_jenga_cut.csv\n",
      "Full: (9019, 138)\n",
      "Train: (6042, 138) Test: (1488, 138) Validation (1489, 138)\n",
      "task3_jenga_openface\\Sona_jenga_0301.csv\n",
      "Full: (9043, 138)\n",
      "Train: (6058, 138) Test: (1492, 138) Validation (1493, 138)\n",
      "\n",
      "\n",
      "\n",
      "FINAL\n",
      "Train: (712824, 138) Test: (175560, 138) Validation (175605, 138)\n"
     ]
    }
   ],
   "source": [
    "from sklearn.model_selection import train_test_split\n",
    "\n",
    "indicies = ['frame'] + ['x_{0}'.format(i) for i in range(0,68)] + ['y_{0}'.format(i) for i in range(0,68)]\n",
    "\n",
    "flag = True\n",
    "Train = None\n",
    "Test = None\n",
    "Valid = None\n",
    "\n",
    "for f in tqdm(list(files)):\n",
    "    \n",
    "    # Load CSV\n",
    "    print(f)\n",
    "    df = pd.read_csv(\n",
    "            os.path.join(path,f), \n",
    "            error_bad_lines=False, \n",
    "            warn_bad_lines=True)\n",
    "    \n",
    "    face_lmk = df[indicies]\n",
    "    \n",
    "    # Filter NaN rows\n",
    "    nans = df[df[indicies].isnull().any(axis=1)]\n",
    "    if not nans.empty:\n",
    "        dropList = nans.index.tolist()\n",
    "        for r in dropList:\n",
    "            warnings.warn('Dropping row due to NaN, {0}'.format(r))\n",
    "        face_lmk.drop(dropList, inplace=True)\n",
    "        \n",
    "    face_lmk.insert(0,'filename',[f for i in range(0,face_lmk.shape[0])],True)\n",
    "        \n",
    "    print('Full:',face_lmk.shape)\n",
    "    \n",
    "    # Create Training, Test, Validation subsets\n",
    "    train, tmp = train_test_split(face_lmk, test_size=0.33)\n",
    "    test, val = train_test_split(tmp, test_size=0.5)\n",
    "    print('Train:',train.shape,'Test:',test.shape,'Validation',val.shape)\n",
    "    \n",
    "    if flag:\n",
    "        flag = False\n",
    "        Train = train\n",
    "        Test = test\n",
    "        Valid = val\n",
    "    else:\n",
    "        Train = Train.append(train)\n",
    "        Test = Test.append(test)\n",
    "        Valid = Valid.append(val)\n",
    "\n",
    "# Final Dataset (shuffled)\n",
    "Train = Train.sample(frac=1).reset_index(drop=True)\n",
    "Test = Test.sample(frac=1).reset_index(drop=True)\n",
    "Valid = Valid.sample(frac=1).reset_index(drop=True)\n",
    "\n",
    "print('\\n\\nFINAL')\n",
    "print('Train:',Train.shape,'Test:',Test.shape,'Validation',Valid.shape)"
   ]
  },
  {
   "cell_type": "code",
   "execution_count": 49,
   "metadata": {},
   "outputs": [
    {
     "data": {
      "text/html": [
       "<div>\n",
       "<style scoped>\n",
       "    .dataframe tbody tr th:only-of-type {\n",
       "        vertical-align: middle;\n",
       "    }\n",
       "\n",
       "    .dataframe tbody tr th {\n",
       "        vertical-align: top;\n",
       "    }\n",
       "\n",
       "    .dataframe thead th {\n",
       "        text-align: right;\n",
       "    }\n",
       "</style>\n",
       "<table border=\"1\" class=\"dataframe\">\n",
       "  <thead>\n",
       "    <tr style=\"text-align: right;\">\n",
       "      <th></th>\n",
       "      <th>filename</th>\n",
       "      <th>frame</th>\n",
       "      <th>x_0</th>\n",
       "      <th>x_1</th>\n",
       "      <th>x_2</th>\n",
       "      <th>x_3</th>\n",
       "      <th>x_4</th>\n",
       "      <th>x_5</th>\n",
       "      <th>x_6</th>\n",
       "      <th>x_7</th>\n",
       "      <th>...</th>\n",
       "      <th>y_58</th>\n",
       "      <th>y_59</th>\n",
       "      <th>y_60</th>\n",
       "      <th>y_61</th>\n",
       "      <th>y_62</th>\n",
       "      <th>y_63</th>\n",
       "      <th>y_64</th>\n",
       "      <th>y_65</th>\n",
       "      <th>y_66</th>\n",
       "      <th>y_67</th>\n",
       "    </tr>\n",
       "  </thead>\n",
       "  <tbody>\n",
       "    <tr>\n",
       "      <td>0</td>\n",
       "      <td>task2_bart_openface\\0702_bart_cut.csv</td>\n",
       "      <td>12003.0</td>\n",
       "      <td>893.8</td>\n",
       "      <td>889.9</td>\n",
       "      <td>892.1</td>\n",
       "      <td>901.8</td>\n",
       "      <td>915.7</td>\n",
       "      <td>935.9</td>\n",
       "      <td>953.9</td>\n",
       "      <td>973.6</td>\n",
       "      <td>...</td>\n",
       "      <td>573.6</td>\n",
       "      <td>550.2</td>\n",
       "      <td>516.2</td>\n",
       "      <td>529.4</td>\n",
       "      <td>535.7</td>\n",
       "      <td>537.3</td>\n",
       "      <td>535.0</td>\n",
       "      <td>561.0</td>\n",
       "      <td>558.5</td>\n",
       "      <td>551.4</td>\n",
       "    </tr>\n",
       "    <tr>\n",
       "      <td>1</td>\n",
       "      <td>task3_jenga_openface\\0101_Jenga_cut.csv</td>\n",
       "      <td>4826.0</td>\n",
       "      <td>474.9</td>\n",
       "      <td>491.3</td>\n",
       "      <td>509.5</td>\n",
       "      <td>530.7</td>\n",
       "      <td>552.4</td>\n",
       "      <td>577.0</td>\n",
       "      <td>601.6</td>\n",
       "      <td>630.8</td>\n",
       "      <td>...</td>\n",
       "      <td>508.3</td>\n",
       "      <td>505.5</td>\n",
       "      <td>492.0</td>\n",
       "      <td>495.2</td>\n",
       "      <td>490.6</td>\n",
       "      <td>482.6</td>\n",
       "      <td>444.0</td>\n",
       "      <td>487.0</td>\n",
       "      <td>496.2</td>\n",
       "      <td>500.5</td>\n",
       "    </tr>\n",
       "    <tr>\n",
       "      <td>2</td>\n",
       "      <td>task3_jenga_openface\\0401_Jenga_cut.csv</td>\n",
       "      <td>8171.0</td>\n",
       "      <td>888.9</td>\n",
       "      <td>878.8</td>\n",
       "      <td>872.6</td>\n",
       "      <td>872.3</td>\n",
       "      <td>874.1</td>\n",
       "      <td>879.6</td>\n",
       "      <td>887.8</td>\n",
       "      <td>896.1</td>\n",
       "      <td>...</td>\n",
       "      <td>920.5</td>\n",
       "      <td>909.1</td>\n",
       "      <td>898.7</td>\n",
       "      <td>909.3</td>\n",
       "      <td>917.8</td>\n",
       "      <td>926.2</td>\n",
       "      <td>934.2</td>\n",
       "      <td>927.4</td>\n",
       "      <td>918.7</td>\n",
       "      <td>909.1</td>\n",
       "    </tr>\n",
       "    <tr>\n",
       "      <td>3</td>\n",
       "      <td>task1_sandwich_openface\\0802_sandwich_cut.csv</td>\n",
       "      <td>6286.0</td>\n",
       "      <td>736.3</td>\n",
       "      <td>722.9</td>\n",
       "      <td>715.4</td>\n",
       "      <td>717.6</td>\n",
       "      <td>719.6</td>\n",
       "      <td>721.2</td>\n",
       "      <td>721.1</td>\n",
       "      <td>724.2</td>\n",
       "      <td>...</td>\n",
       "      <td>449.9</td>\n",
       "      <td>443.7</td>\n",
       "      <td>434.4</td>\n",
       "      <td>434.0</td>\n",
       "      <td>436.4</td>\n",
       "      <td>438.3</td>\n",
       "      <td>448.3</td>\n",
       "      <td>440.9</td>\n",
       "      <td>438.2</td>\n",
       "      <td>434.6</td>\n",
       "    </tr>\n",
       "    <tr>\n",
       "      <td>4</td>\n",
       "      <td>task3_jenga_openface\\1702_Jenga_Cut .csv</td>\n",
       "      <td>513.0</td>\n",
       "      <td>-25.2</td>\n",
       "      <td>-0.3</td>\n",
       "      <td>37.4</td>\n",
       "      <td>83.3</td>\n",
       "      <td>129.3</td>\n",
       "      <td>172.4</td>\n",
       "      <td>208.0</td>\n",
       "      <td>248.8</td>\n",
       "      <td>...</td>\n",
       "      <td>944.3</td>\n",
       "      <td>947.4</td>\n",
       "      <td>940.2</td>\n",
       "      <td>921.3</td>\n",
       "      <td>915.7</td>\n",
       "      <td>906.6</td>\n",
       "      <td>893.1</td>\n",
       "      <td>909.3</td>\n",
       "      <td>918.8</td>\n",
       "      <td>923.3</td>\n",
       "    </tr>\n",
       "  </tbody>\n",
       "</table>\n",
       "<p>5 rows × 138 columns</p>\n",
       "</div>"
      ],
      "text/plain": [
       "                                        filename    frame    x_0    x_1  \\\n",
       "0          task2_bart_openface\\0702_bart_cut.csv  12003.0  893.8  889.9   \n",
       "1        task3_jenga_openface\\0101_Jenga_cut.csv   4826.0  474.9  491.3   \n",
       "2        task3_jenga_openface\\0401_Jenga_cut.csv   8171.0  888.9  878.8   \n",
       "3  task1_sandwich_openface\\0802_sandwich_cut.csv   6286.0  736.3  722.9   \n",
       "4       task3_jenga_openface\\1702_Jenga_Cut .csv    513.0  -25.2   -0.3   \n",
       "\n",
       "     x_2    x_3    x_4    x_5    x_6    x_7  ...   y_58   y_59   y_60   y_61  \\\n",
       "0  892.1  901.8  915.7  935.9  953.9  973.6  ...  573.6  550.2  516.2  529.4   \n",
       "1  509.5  530.7  552.4  577.0  601.6  630.8  ...  508.3  505.5  492.0  495.2   \n",
       "2  872.6  872.3  874.1  879.6  887.8  896.1  ...  920.5  909.1  898.7  909.3   \n",
       "3  715.4  717.6  719.6  721.2  721.1  724.2  ...  449.9  443.7  434.4  434.0   \n",
       "4   37.4   83.3  129.3  172.4  208.0  248.8  ...  944.3  947.4  940.2  921.3   \n",
       "\n",
       "    y_62   y_63   y_64   y_65   y_66   y_67  \n",
       "0  535.7  537.3  535.0  561.0  558.5  551.4  \n",
       "1  490.6  482.6  444.0  487.0  496.2  500.5  \n",
       "2  917.8  926.2  934.2  927.4  918.7  909.1  \n",
       "3  436.4  438.3  448.3  440.9  438.2  434.6  \n",
       "4  915.7  906.6  893.1  909.3  918.8  923.3  \n",
       "\n",
       "[5 rows x 138 columns]"
      ]
     },
     "execution_count": 49,
     "metadata": {},
     "output_type": "execute_result"
    }
   ],
   "source": [
    "Train.head()"
   ]
  },
  {
   "cell_type": "code",
   "execution_count": 50,
   "metadata": {},
   "outputs": [
    {
     "data": {
      "text/html": [
       "<div>\n",
       "<style scoped>\n",
       "    .dataframe tbody tr th:only-of-type {\n",
       "        vertical-align: middle;\n",
       "    }\n",
       "\n",
       "    .dataframe tbody tr th {\n",
       "        vertical-align: top;\n",
       "    }\n",
       "\n",
       "    .dataframe thead th {\n",
       "        text-align: right;\n",
       "    }\n",
       "</style>\n",
       "<table border=\"1\" class=\"dataframe\">\n",
       "  <thead>\n",
       "    <tr style=\"text-align: right;\">\n",
       "      <th></th>\n",
       "      <th>filename</th>\n",
       "      <th>frame</th>\n",
       "      <th>x_0</th>\n",
       "      <th>x_1</th>\n",
       "      <th>x_2</th>\n",
       "      <th>x_3</th>\n",
       "      <th>x_4</th>\n",
       "      <th>x_5</th>\n",
       "      <th>x_6</th>\n",
       "      <th>x_7</th>\n",
       "      <th>...</th>\n",
       "      <th>y_58</th>\n",
       "      <th>y_59</th>\n",
       "      <th>y_60</th>\n",
       "      <th>y_61</th>\n",
       "      <th>y_62</th>\n",
       "      <th>y_63</th>\n",
       "      <th>y_64</th>\n",
       "      <th>y_65</th>\n",
       "      <th>y_66</th>\n",
       "      <th>y_67</th>\n",
       "    </tr>\n",
       "  </thead>\n",
       "  <tbody>\n",
       "    <tr>\n",
       "      <td>0</td>\n",
       "      <td>task1_sandwich_openface\\0301_sandwich_cut.csv</td>\n",
       "      <td>6342.0</td>\n",
       "      <td>754.2</td>\n",
       "      <td>751.9</td>\n",
       "      <td>758.4</td>\n",
       "      <td>774.0</td>\n",
       "      <td>789.3</td>\n",
       "      <td>804.9</td>\n",
       "      <td>820.4</td>\n",
       "      <td>837.4</td>\n",
       "      <td>...</td>\n",
       "      <td>977.5</td>\n",
       "      <td>972.1</td>\n",
       "      <td>960.8</td>\n",
       "      <td>958.6</td>\n",
       "      <td>960.6</td>\n",
       "      <td>960.8</td>\n",
       "      <td>959.8</td>\n",
       "      <td>962.4</td>\n",
       "      <td>961.3</td>\n",
       "      <td>958.4</td>\n",
       "    </tr>\n",
       "    <tr>\n",
       "      <td>1</td>\n",
       "      <td>task1_sandwich_openface\\0702_sandwich_cut.csv</td>\n",
       "      <td>5403.0</td>\n",
       "      <td>772.2</td>\n",
       "      <td>774.7</td>\n",
       "      <td>784.2</td>\n",
       "      <td>802.0</td>\n",
       "      <td>818.6</td>\n",
       "      <td>837.9</td>\n",
       "      <td>859.0</td>\n",
       "      <td>883.4</td>\n",
       "      <td>...</td>\n",
       "      <td>628.9</td>\n",
       "      <td>621.1</td>\n",
       "      <td>608.0</td>\n",
       "      <td>609.9</td>\n",
       "      <td>613.1</td>\n",
       "      <td>613.8</td>\n",
       "      <td>606.1</td>\n",
       "      <td>615.8</td>\n",
       "      <td>615.2</td>\n",
       "      <td>611.0</td>\n",
       "    </tr>\n",
       "    <tr>\n",
       "      <td>2</td>\n",
       "      <td>task2_bart_openface\\1201_bart_cut.csv</td>\n",
       "      <td>14526.0</td>\n",
       "      <td>873.4</td>\n",
       "      <td>871.1</td>\n",
       "      <td>876.7</td>\n",
       "      <td>890.0</td>\n",
       "      <td>903.9</td>\n",
       "      <td>924.1</td>\n",
       "      <td>945.7</td>\n",
       "      <td>971.3</td>\n",
       "      <td>...</td>\n",
       "      <td>738.7</td>\n",
       "      <td>730.8</td>\n",
       "      <td>714.5</td>\n",
       "      <td>715.0</td>\n",
       "      <td>716.6</td>\n",
       "      <td>716.0</td>\n",
       "      <td>711.1</td>\n",
       "      <td>718.2</td>\n",
       "      <td>718.4</td>\n",
       "      <td>716.4</td>\n",
       "    </tr>\n",
       "    <tr>\n",
       "      <td>3</td>\n",
       "      <td>task1_sandwich_openface\\0801_sandwich_cut.csv</td>\n",
       "      <td>4199.0</td>\n",
       "      <td>580.1</td>\n",
       "      <td>579.2</td>\n",
       "      <td>587.6</td>\n",
       "      <td>605.4</td>\n",
       "      <td>623.2</td>\n",
       "      <td>642.4</td>\n",
       "      <td>657.9</td>\n",
       "      <td>676.7</td>\n",
       "      <td>...</td>\n",
       "      <td>593.9</td>\n",
       "      <td>588.8</td>\n",
       "      <td>575.8</td>\n",
       "      <td>570.9</td>\n",
       "      <td>569.7</td>\n",
       "      <td>565.8</td>\n",
       "      <td>556.6</td>\n",
       "      <td>572.2</td>\n",
       "      <td>575.7</td>\n",
       "      <td>576.3</td>\n",
       "    </tr>\n",
       "    <tr>\n",
       "      <td>4</td>\n",
       "      <td>task2_bart_openface\\1001_bart_cut.csv</td>\n",
       "      <td>15180.0</td>\n",
       "      <td>788.9</td>\n",
       "      <td>792.1</td>\n",
       "      <td>800.6</td>\n",
       "      <td>815.4</td>\n",
       "      <td>830.4</td>\n",
       "      <td>846.7</td>\n",
       "      <td>863.9</td>\n",
       "      <td>885.2</td>\n",
       "      <td>...</td>\n",
       "      <td>623.4</td>\n",
       "      <td>623.0</td>\n",
       "      <td>615.3</td>\n",
       "      <td>608.6</td>\n",
       "      <td>606.6</td>\n",
       "      <td>602.6</td>\n",
       "      <td>596.9</td>\n",
       "      <td>604.7</td>\n",
       "      <td>608.6</td>\n",
       "      <td>609.8</td>\n",
       "    </tr>\n",
       "  </tbody>\n",
       "</table>\n",
       "<p>5 rows × 138 columns</p>\n",
       "</div>"
      ],
      "text/plain": [
       "                                        filename    frame    x_0    x_1  \\\n",
       "0  task1_sandwich_openface\\0301_sandwich_cut.csv   6342.0  754.2  751.9   \n",
       "1  task1_sandwich_openface\\0702_sandwich_cut.csv   5403.0  772.2  774.7   \n",
       "2          task2_bart_openface\\1201_bart_cut.csv  14526.0  873.4  871.1   \n",
       "3  task1_sandwich_openface\\0801_sandwich_cut.csv   4199.0  580.1  579.2   \n",
       "4          task2_bart_openface\\1001_bart_cut.csv  15180.0  788.9  792.1   \n",
       "\n",
       "     x_2    x_3    x_4    x_5    x_6    x_7  ...   y_58   y_59   y_60   y_61  \\\n",
       "0  758.4  774.0  789.3  804.9  820.4  837.4  ...  977.5  972.1  960.8  958.6   \n",
       "1  784.2  802.0  818.6  837.9  859.0  883.4  ...  628.9  621.1  608.0  609.9   \n",
       "2  876.7  890.0  903.9  924.1  945.7  971.3  ...  738.7  730.8  714.5  715.0   \n",
       "3  587.6  605.4  623.2  642.4  657.9  676.7  ...  593.9  588.8  575.8  570.9   \n",
       "4  800.6  815.4  830.4  846.7  863.9  885.2  ...  623.4  623.0  615.3  608.6   \n",
       "\n",
       "    y_62   y_63   y_64   y_65   y_66   y_67  \n",
       "0  960.6  960.8  959.8  962.4  961.3  958.4  \n",
       "1  613.1  613.8  606.1  615.8  615.2  611.0  \n",
       "2  716.6  716.0  711.1  718.2  718.4  716.4  \n",
       "3  569.7  565.8  556.6  572.2  575.7  576.3  \n",
       "4  606.6  602.6  596.9  604.7  608.6  609.8  \n",
       "\n",
       "[5 rows x 138 columns]"
      ]
     },
     "execution_count": 50,
     "metadata": {},
     "output_type": "execute_result"
    }
   ],
   "source": [
    "Test.head()"
   ]
  },
  {
   "cell_type": "code",
   "execution_count": 51,
   "metadata": {},
   "outputs": [
    {
     "data": {
      "text/html": [
       "<div>\n",
       "<style scoped>\n",
       "    .dataframe tbody tr th:only-of-type {\n",
       "        vertical-align: middle;\n",
       "    }\n",
       "\n",
       "    .dataframe tbody tr th {\n",
       "        vertical-align: top;\n",
       "    }\n",
       "\n",
       "    .dataframe thead th {\n",
       "        text-align: right;\n",
       "    }\n",
       "</style>\n",
       "<table border=\"1\" class=\"dataframe\">\n",
       "  <thead>\n",
       "    <tr style=\"text-align: right;\">\n",
       "      <th></th>\n",
       "      <th>filename</th>\n",
       "      <th>frame</th>\n",
       "      <th>x_0</th>\n",
       "      <th>x_1</th>\n",
       "      <th>x_2</th>\n",
       "      <th>x_3</th>\n",
       "      <th>x_4</th>\n",
       "      <th>x_5</th>\n",
       "      <th>x_6</th>\n",
       "      <th>x_7</th>\n",
       "      <th>...</th>\n",
       "      <th>y_58</th>\n",
       "      <th>y_59</th>\n",
       "      <th>y_60</th>\n",
       "      <th>y_61</th>\n",
       "      <th>y_62</th>\n",
       "      <th>y_63</th>\n",
       "      <th>y_64</th>\n",
       "      <th>y_65</th>\n",
       "      <th>y_66</th>\n",
       "      <th>y_67</th>\n",
       "    </tr>\n",
       "  </thead>\n",
       "  <tbody>\n",
       "    <tr>\n",
       "      <td>0</td>\n",
       "      <td>task2_bart_openface\\1401_bart_cut.csv</td>\n",
       "      <td>5806.0</td>\n",
       "      <td>880.7</td>\n",
       "      <td>879.1</td>\n",
       "      <td>883.0</td>\n",
       "      <td>891.0</td>\n",
       "      <td>899.4</td>\n",
       "      <td>912.1</td>\n",
       "      <td>926.4</td>\n",
       "      <td>943.1</td>\n",
       "      <td>...</td>\n",
       "      <td>577.1</td>\n",
       "      <td>571.1</td>\n",
       "      <td>556.2</td>\n",
       "      <td>549.6</td>\n",
       "      <td>550.0</td>\n",
       "      <td>548.6</td>\n",
       "      <td>553.1</td>\n",
       "      <td>560.9</td>\n",
       "      <td>562.3</td>\n",
       "      <td>561.3</td>\n",
       "    </tr>\n",
       "    <tr>\n",
       "      <td>1</td>\n",
       "      <td>task2_bart_openface\\0501_bart_cut.csv</td>\n",
       "      <td>16602.0</td>\n",
       "      <td>894.7</td>\n",
       "      <td>899.9</td>\n",
       "      <td>912.7</td>\n",
       "      <td>931.6</td>\n",
       "      <td>954.4</td>\n",
       "      <td>980.7</td>\n",
       "      <td>1014.0</td>\n",
       "      <td>1052.6</td>\n",
       "      <td>...</td>\n",
       "      <td>959.3</td>\n",
       "      <td>949.8</td>\n",
       "      <td>925.1</td>\n",
       "      <td>927.3</td>\n",
       "      <td>927.3</td>\n",
       "      <td>921.4</td>\n",
       "      <td>910.1</td>\n",
       "      <td>925.2</td>\n",
       "      <td>932.9</td>\n",
       "      <td>931.7</td>\n",
       "    </tr>\n",
       "    <tr>\n",
       "      <td>2</td>\n",
       "      <td>task3_jenga_openface\\Sona0101_jenga_cut.csv</td>\n",
       "      <td>1669.0</td>\n",
       "      <td>922.3</td>\n",
       "      <td>917.5</td>\n",
       "      <td>916.7</td>\n",
       "      <td>918.0</td>\n",
       "      <td>923.5</td>\n",
       "      <td>937.8</td>\n",
       "      <td>952.5</td>\n",
       "      <td>970.6</td>\n",
       "      <td>...</td>\n",
       "      <td>820.7</td>\n",
       "      <td>806.3</td>\n",
       "      <td>789.5</td>\n",
       "      <td>799.1</td>\n",
       "      <td>805.4</td>\n",
       "      <td>808.8</td>\n",
       "      <td>816.0</td>\n",
       "      <td>809.5</td>\n",
       "      <td>805.9</td>\n",
       "      <td>799.6</td>\n",
       "    </tr>\n",
       "    <tr>\n",
       "      <td>3</td>\n",
       "      <td>task2_bart_openface\\1102_bart_cut.csv</td>\n",
       "      <td>7220.0</td>\n",
       "      <td>650.3</td>\n",
       "      <td>653.5</td>\n",
       "      <td>660.4</td>\n",
       "      <td>670.7</td>\n",
       "      <td>684.6</td>\n",
       "      <td>704.3</td>\n",
       "      <td>726.2</td>\n",
       "      <td>750.4</td>\n",
       "      <td>...</td>\n",
       "      <td>650.8</td>\n",
       "      <td>643.5</td>\n",
       "      <td>626.8</td>\n",
       "      <td>633.7</td>\n",
       "      <td>636.5</td>\n",
       "      <td>635.1</td>\n",
       "      <td>628.0</td>\n",
       "      <td>634.4</td>\n",
       "      <td>635.8</td>\n",
       "      <td>632.9</td>\n",
       "    </tr>\n",
       "    <tr>\n",
       "      <td>4</td>\n",
       "      <td>task1_sandwich_openface\\0601_sandwich_cut.csv</td>\n",
       "      <td>6200.0</td>\n",
       "      <td>431.0</td>\n",
       "      <td>436.5</td>\n",
       "      <td>447.3</td>\n",
       "      <td>464.5</td>\n",
       "      <td>489.8</td>\n",
       "      <td>527.9</td>\n",
       "      <td>572.7</td>\n",
       "      <td>623.7</td>\n",
       "      <td>...</td>\n",
       "      <td>805.1</td>\n",
       "      <td>794.4</td>\n",
       "      <td>766.2</td>\n",
       "      <td>768.4</td>\n",
       "      <td>769.9</td>\n",
       "      <td>767.0</td>\n",
       "      <td>760.4</td>\n",
       "      <td>768.7</td>\n",
       "      <td>772.8</td>\n",
       "      <td>771.8</td>\n",
       "    </tr>\n",
       "  </tbody>\n",
       "</table>\n",
       "<p>5 rows × 138 columns</p>\n",
       "</div>"
      ],
      "text/plain": [
       "                                        filename    frame    x_0    x_1  \\\n",
       "0          task2_bart_openface\\1401_bart_cut.csv   5806.0  880.7  879.1   \n",
       "1          task2_bart_openface\\0501_bart_cut.csv  16602.0  894.7  899.9   \n",
       "2    task3_jenga_openface\\Sona0101_jenga_cut.csv   1669.0  922.3  917.5   \n",
       "3          task2_bart_openface\\1102_bart_cut.csv   7220.0  650.3  653.5   \n",
       "4  task1_sandwich_openface\\0601_sandwich_cut.csv   6200.0  431.0  436.5   \n",
       "\n",
       "     x_2    x_3    x_4    x_5     x_6     x_7  ...   y_58   y_59   y_60  \\\n",
       "0  883.0  891.0  899.4  912.1   926.4   943.1  ...  577.1  571.1  556.2   \n",
       "1  912.7  931.6  954.4  980.7  1014.0  1052.6  ...  959.3  949.8  925.1   \n",
       "2  916.7  918.0  923.5  937.8   952.5   970.6  ...  820.7  806.3  789.5   \n",
       "3  660.4  670.7  684.6  704.3   726.2   750.4  ...  650.8  643.5  626.8   \n",
       "4  447.3  464.5  489.8  527.9   572.7   623.7  ...  805.1  794.4  766.2   \n",
       "\n",
       "    y_61   y_62   y_63   y_64   y_65   y_66   y_67  \n",
       "0  549.6  550.0  548.6  553.1  560.9  562.3  561.3  \n",
       "1  927.3  927.3  921.4  910.1  925.2  932.9  931.7  \n",
       "2  799.1  805.4  808.8  816.0  809.5  805.9  799.6  \n",
       "3  633.7  636.5  635.1  628.0  634.4  635.8  632.9  \n",
       "4  768.4  769.9  767.0  760.4  768.7  772.8  771.8  \n",
       "\n",
       "[5 rows x 138 columns]"
      ]
     },
     "execution_count": 51,
     "metadata": {},
     "output_type": "execute_result"
    }
   ],
   "source": [
    "Valid.head()"
   ]
  },
  {
   "cell_type": "markdown",
   "metadata": {},
   "source": [
    "Saving to disk"
   ]
  },
  {
   "cell_type": "code",
   "execution_count": 52,
   "metadata": {},
   "outputs": [],
   "source": [
    "save_path = './data/tmp_analysis/{0}'.format(task_name)\n",
    "save_train_path = save_path + '_train.csv'\n",
    "save_test_path = save_path + '_test.csv'\n",
    "save_valid_path = save_path + '_valid.csv'\n",
    "\n",
    "\n",
    "Train.to_csv(save_train_path)\n",
    "Test.to_csv(save_test_path)\n",
    "Valid.to_csv(save_valid_path)"
   ]
  },
  {
   "cell_type": "markdown",
   "metadata": {},
   "source": [
    "## PCA Fit\n",
    "I found 32 components to be roughly the inflection curve.\n",
    "I am also creating an 18  component variant just in case we want a direct comparison with action units"
   ]
  },
  {
   "cell_type": "code",
   "execution_count": 53,
   "metadata": {},
   "outputs": [],
   "source": [
    "import pickle\n",
    "from sklearn.decomposition import PCA"
   ]
  },
  {
   "cell_type": "code",
   "execution_count": 54,
   "metadata": {},
   "outputs": [],
   "source": [
    "save_path = './data/tmp_analysis/{0}'.format(task_name)\n",
    "save_train_path = save_path + '_train.csv'\n",
    "save_test_path = save_path + '_test.csv'\n",
    "save_valid_path = save_path + '_valid.csv'\n",
    "\n",
    "\n",
    "Train = pd.read_csv(save_train_path)\n",
    "Test = pd.read_csv(save_test_path)\n",
    "Valid = pd.read_csv(save_valid_path)"
   ]
  },
  {
   "cell_type": "code",
   "execution_count": 55,
   "metadata": {},
   "outputs": [],
   "source": [
    "X = Train.to_numpy()[:,3:]"
   ]
  },
  {
   "cell_type": "code",
   "execution_count": 56,
   "metadata": {},
   "outputs": [
    {
     "name": "stdout",
     "output_type": "stream",
     "text": [
      "[3.02898346e+06 1.48192967e+06 8.50408907e+04 3.55503771e+04\n",
      " 1.42465402e+04 1.00788068e+04 8.03082049e+03 2.93666075e+03\n",
      " 1.74590128e+03 1.00896855e+03 7.85834454e+02 6.95647661e+02\n",
      " 5.76001221e+02 4.85647579e+02 3.70484346e+02 3.13074739e+02\n",
      " 2.23914555e+02 1.90445981e+02 1.61881182e+02 1.55147950e+02\n",
      " 1.42459513e+02 1.08798553e+02 9.41355453e+01 7.94734340e+01\n",
      " 7.24063087e+01 6.16169586e+01 5.54279577e+01 4.92836194e+01\n",
      " 4.52762714e+01 3.86788533e+01 3.17842979e+01 2.72598413e+01]\n"
     ]
    }
   ],
   "source": [
    "pca_n_32 = PCA(n_components=32)\n",
    "face_pca_n_32 = pca_n_32.fit(X)\n",
    "\n",
    "print(face_pca_n_32.explained_variance_)"
   ]
  },
  {
   "cell_type": "code",
   "execution_count": 58,
   "metadata": {},
   "outputs": [],
   "source": [
    "pickle.dump(face_pca_n_32,open(model_path+'pca_n_32.p','wb'))"
   ]
  },
  {
   "cell_type": "code",
   "execution_count": 59,
   "metadata": {},
   "outputs": [
    {
     "name": "stdout",
     "output_type": "stream",
     "text": [
      "[3028983.46483238 1481929.67440122   85040.89067279   35550.37712053\n",
      "   14246.54015569]\n"
     ]
    }
   ],
   "source": [
    "pca_n_5 = PCA(n_components=5)\n",
    "face_pca_n_5 = pca_n_5.fit(X)\n",
    "\n",
    "print(face_pca_n_5.explained_variance_)"
   ]
  },
  {
   "cell_type": "code",
   "execution_count": 60,
   "metadata": {},
   "outputs": [],
   "source": [
    "pickle.dump(face_pca_n_5,open(model_path+'pca_n_5.p','wb'))"
   ]
  },
  {
   "cell_type": "markdown",
   "metadata": {},
   "source": [
    "# Autoencoder\n",
    "Right now just doing a single layer \n",
    "Perhaps we can try a two layer encoder / two layer decoder next?"
   ]
  },
  {
   "cell_type": "markdown",
   "metadata": {},
   "source": [
    "32 Wide encoder"
   ]
  },
  {
   "cell_type": "code",
   "execution_count": 61,
   "metadata": {},
   "outputs": [],
   "source": [
    "import keras\n",
    "from keras import layers\n",
    "\n",
    "import matplotlib.pyplot as plt"
   ]
  },
  {
   "cell_type": "code",
   "execution_count": 62,
   "metadata": {},
   "outputs": [],
   "source": [
    "X = Train.to_numpy()[:,3:]\n",
    "Xtest = Test.to_numpy()[:,3:]\n",
    "Xvalid = Valid.to_numpy()[:,3:]"
   ]
  },
  {
   "cell_type": "code",
   "execution_count": 63,
   "metadata": {},
   "outputs": [
    {
     "name": "stdout",
     "output_type": "stream",
     "text": [
      "(712824, 136)\n"
     ]
    }
   ],
   "source": [
    "print(X.shape)"
   ]
  },
  {
   "cell_type": "code",
   "execution_count": 64,
   "metadata": {},
   "outputs": [],
   "source": [
    "input_dim = X.shape[1]\n",
    "encoding_dim = 32\n",
    "\n",
    "input_layer = keras.Input(shape=(input_dim,))\n",
    "encoded_layer = layers.Dense(encoding_dim, activation='relu')(input_layer)\n",
    "decoded_layer = layers.Dense(input_dim, activation='relu')(encoded_layer)\n",
    "\n",
    "autoencoder_32 = keras.Model(input_layer,decoded_layer)\n",
    "\n",
    "encoder_32 = keras.Model(input_layer, encoded_layer)"
   ]
  },
  {
   "cell_type": "code",
   "execution_count": 65,
   "metadata": {},
   "outputs": [],
   "source": [
    "autoencoder_32.compile(optimizer='adam',\n",
    "                    loss='binary_crossentropy')"
   ]
  },
  {
   "cell_type": "code",
   "execution_count": 66,
   "metadata": {},
   "outputs": [
    {
     "name": "stdout",
     "output_type": "stream",
     "text": [
      "_________________________________________________________________\n",
      "Layer (type)                 Output Shape              Param #   \n",
      "=================================================================\n",
      "input_3 (InputLayer)         (None, 136)               0         \n",
      "_________________________________________________________________\n",
      "dense_5 (Dense)              (None, 32)                4384      \n",
      "_________________________________________________________________\n",
      "dense_6 (Dense)              (None, 136)               4488      \n",
      "=================================================================\n",
      "Total params: 8,872\n",
      "Trainable params: 8,872\n",
      "Non-trainable params: 0\n",
      "_________________________________________________________________\n"
     ]
    }
   ],
   "source": [
    "autoencoder_32.summary()"
   ]
  },
  {
   "cell_type": "code",
   "execution_count": 67,
   "metadata": {},
   "outputs": [],
   "source": [
    "history = autoencoder_32.fit(X, X, epochs=2, batch_size=64, verbose=0, validation_data=(Xtest, Xtest))"
   ]
  },
  {
   "cell_type": "code",
   "execution_count": 68,
   "metadata": {},
   "outputs": [
    {
     "data": {
      "image/png": "[encoded data removed]",
      "text/plain": [
       "<Figure size 432x288 with 1 Axes>"
      ]
     },
     "metadata": {
      "needs_background": "light"
     },
     "output_type": "display_data"
    }
   ],
   "source": [
    "fig, ax = plt.subplots()\n",
    "\n",
    "plt.plot([0]+history.history['loss'], label='train')\n",
    "plt.plot([0]+history.history['val_loss'], label='test')\n",
    "plt.legend()\n",
    "plt.show()"
   ]
  },
  {
   "cell_type": "code",
   "execution_count": 69,
   "metadata": {},
   "outputs": [],
   "source": [
    "predictions = autoencoder_32.predict(Xvalid)\n",
    "# TODO I should probably do something with the validation set"
   ]
  },
  {
   "cell_type": "code",
   "execution_count": 70,
   "metadata": {},
   "outputs": [],
   "source": [
    "autoencoder_32.save(model_path + 'autoencoder_32.pb')\n",
    "encoder_32.save(model_path + 'encoder_32.pb')"
   ]
  },
  {
   "cell_type": "markdown",
   "metadata": {},
   "source": [
    "5 wide encoder"
   ]
  },
  {
   "cell_type": "code",
   "execution_count": 71,
   "metadata": {},
   "outputs": [],
   "source": [
    "import keras\n",
    "from keras import layers"
   ]
  },
  {
   "cell_type": "code",
   "execution_count": 72,
   "metadata": {},
   "outputs": [],
   "source": [
    "X = Train.to_numpy()[:,3:]\n",
    "Xtest = Test.to_numpy()[:,3:]\n",
    "Xvalid = Valid.to_numpy()[:,3:]"
   ]
  },
  {
   "cell_type": "code",
   "execution_count": 73,
   "metadata": {},
   "outputs": [],
   "source": [
    "input_dim = X.shape[1]\n",
    "encoding_dim = 5\n",
    "\n",
    "input_layer = keras.Input(shape=(input_dim,))\n",
    "encoded_layer = layers.Dense(encoding_dim, activation='relu')(input_layer)\n",
    "decoded_layer = layers.Dense(input_dim, activation='relu')(encoded_layer)\n",
    "\n",
    "autoencoder_5 = keras.Model(input_layer,decoded_layer)\n",
    "\n",
    "encoder_5 = keras.Model(input_layer, encoded_layer)"
   ]
  },
  {
   "cell_type": "code",
   "execution_count": 74,
   "metadata": {},
   "outputs": [],
   "source": [
    "autoencoder_5.compile(optimizer='adam',\n",
    "                    loss='binary_crossentropy')"
   ]
  },
  {
   "cell_type": "code",
   "execution_count": 75,
   "metadata": {},
   "outputs": [
    {
     "name": "stdout",
     "output_type": "stream",
     "text": [
      "_________________________________________________________________\n",
      "Layer (type)                 Output Shape              Param #   \n",
      "=================================================================\n",
      "input_4 (InputLayer)         (None, 136)               0         \n",
      "_________________________________________________________________\n",
      "dense_7 (Dense)              (None, 5)                 685       \n",
      "_________________________________________________________________\n",
      "dense_8 (Dense)              (None, 136)               816       \n",
      "=================================================================\n",
      "Total params: 1,501\n",
      "Trainable params: 1,501\n",
      "Non-trainable params: 0\n",
      "_________________________________________________________________\n"
     ]
    }
   ],
   "source": [
    "autoencoder_5.summary()"
   ]
  },
  {
   "cell_type": "code",
   "execution_count": 76,
   "metadata": {},
   "outputs": [],
   "source": [
    "history = autoencoder_5.fit(X, X, epochs=2, batch_size=64, verbose=0, validation_data=(Xtest, Xtest))"
   ]
  },
  {
   "cell_type": "code",
   "execution_count": 77,
   "metadata": {},
   "outputs": [
    {
     "data": {
      "image/png": "[encoded data removed]",
      "text/plain": [
       "<Figure size 432x288 with 1 Axes>"
      ]
     },
     "metadata": {
      "needs_background": "light"
     },
     "output_type": "display_data"
    }
   ],
   "source": [
    "fig, ax = plt.subplots()\n",
    "\n",
    "plt.plot([0]+history.history['loss'], label='train')\n",
    "plt.plot([0]+history.history['val_loss'], label='test')\n",
    "plt.legend()\n",
    "plt.show()"
   ]
  },
  {
   "cell_type": "code",
   "execution_count": 78,
   "metadata": {},
   "outputs": [],
   "source": [
    "predictions = autoencoder_5.predict(Xvalid)\n",
    "# TODO I should probably do something with the validation set"
   ]
  },
  {
   "cell_type": "code",
   "execution_count": 79,
   "metadata": {},
   "outputs": [],
   "source": [
    "autoencoder_5.save(model_path + 'autoencoder_5.pb')\n",
    "encoder_5.save(model_path + 'encoder_5.pb')"
   ]
  },
  {
   "cell_type": "markdown",
   "metadata": {},
   "source": [
    "## K-means\n",
    "Not sure what this is going to do \n",
    "(my guess is it is going to cluster similar participants)"
   ]
  },
  {
   "cell_type": "code",
   "execution_count": 80,
   "metadata": {},
   "outputs": [],
   "source": [
    "import matplotlib.pyplot as plt\n",
    "\n",
    "def visualize_labels(y):\n",
    "    idx = np.arange(len(y))\n",
    "\n",
    "    fig, (ax1,ax2) = plt.subplots(nrows=2, sharex=True)\n",
    "\n",
    "    ax1.imshow(y[np.newaxis,:], cmap=\"plasma\", aspect=\"auto\")\n",
    "    ax1.set_yticks([])\n",
    "\n",
    "    ax2.scatter(idx,y)\n",
    "\n",
    "    plt.tight_layout()\n",
    "    plt.show()"
   ]
  },
  {
   "cell_type": "code",
   "execution_count": 81,
   "metadata": {},
   "outputs": [],
   "source": [
    "from sklearn.cluster import KMeans"
   ]
  },
  {
   "cell_type": "code",
   "execution_count": 82,
   "metadata": {},
   "outputs": [],
   "source": [
    "X_pca = face_pca_n_32.transform(X)\n",
    "kmeans_5 = KMeans(n_clusters=5, random_state=0).fit(X_pca)"
   ]
  },
  {
   "cell_type": "code",
   "execution_count": 83,
   "metadata": {},
   "outputs": [
    {
     "data": {
      "image/png": "[encoded data removed]",
      "text/plain": [
       "<Figure size 432x288 with 2 Axes>"
      ]
     },
     "metadata": {
      "needs_background": "light"
     },
     "output_type": "display_data"
    }
   ],
   "source": [
    "y = kmeans_5.predict(face_pca_n_32.transform(Test.to_numpy()[:,3:]))\n",
    "visualize_labels(y)"
   ]
  },
  {
   "cell_type": "code",
   "execution_count": 84,
   "metadata": {},
   "outputs": [
    {
     "data": {
      "image/png": "[encoded data removed]",
      "text/plain": [
       "<Figure size 432x288 with 2 Axes>"
      ]
     },
     "metadata": {
      "needs_background": "light"
     },
     "output_type": "display_data"
    }
   ],
   "source": [
    "y = kmeans_5.predict(face_pca_n_32.transform(Valid.to_numpy()[:,3:]))\n",
    "visualize_labels(y)"
   ]
  },
  {
   "cell_type": "code",
   "execution_count": 85,
   "metadata": {},
   "outputs": [],
   "source": [
    "pickle.dump(kmeans_5,open(model_path+'kmeans_5_from_pca.p','wb'))"
   ]
  },
  {
   "cell_type": "markdown",
   "metadata": {},
   "source": [
    "   "
   ]
  },
  {
   "cell_type": "code",
   "execution_count": 86,
   "metadata": {},
   "outputs": [],
   "source": [
    "X_auto = encoder_32.predict(X)\n",
    "kmeans_5 = KMeans(n_clusters=5, random_state=0).fit(X_auto)"
   ]
  },
  {
   "cell_type": "code",
   "execution_count": 87,
   "metadata": {},
   "outputs": [
    {
     "data": {
      "image/png": "[encoded data removed]",
      "text/plain": [
       "<Figure size 432x288 with 2 Axes>"
      ]
     },
     "metadata": {
      "needs_background": "light"
     },
     "output_type": "display_data"
    }
   ],
   "source": [
    "y = kmeans_5.predict(encoder_32.predict(Test.to_numpy()[:,3:]))\n",
    "visualize_labels(y)"
   ]
  },
  {
   "cell_type": "code",
   "execution_count": 88,
   "metadata": {},
   "outputs": [
    {
     "data": {
      "image/png": "[encoded data removed]",
      "text/plain": [
       "<Figure size 432x288 with 2 Axes>"
      ]
     },
     "metadata": {
      "needs_background": "light"
     },
     "output_type": "display_data"
    }
   ],
   "source": [
    "y = kmeans_5.predict(encoder_32.predict(Valid.to_numpy()[:,3:]))\n",
    "visualize_labels(y)"
   ]
  },
  {
   "cell_type": "code",
   "execution_count": 89,
   "metadata": {},
   "outputs": [],
   "source": [
    "pickle.dump(kmeans_5,open(model_path+'kmeans_5_from_auto.p','wb'))"
   ]
  },
  {
   "cell_type": "markdown",
   "metadata": {},
   "source": [
    "## Model Comparisons\n",
    "Is there some way to perform a comparison across the models (I don't think there is without dynamic time warping)\n",
    "- PCA-n-5\n",
    "- PCA-n-32 -> KMeans-5-from-pca\n",
    "- Autoencoder-32 -> KMeans-5-from-autoencoder\n",
    "- Autoencoder-5"
   ]
  },
  {
   "cell_type": "code",
   "execution_count": null,
   "metadata": {},
   "outputs": [],
   "source": []
  },
  {
   "cell_type": "code",
   "execution_count": null,
   "metadata": {},
   "outputs": [],
   "source": []
  },
  {
   "cell_type": "code",
   "execution_count": null,
   "metadata": {},
   "outputs": [],
   "source": []
  }
 ],
 "metadata": {
  "kernelspec": {
   "display_name": "Python 3",
   "language": "python",
   "name": "python3"
  },
  "language_info": {
   "codemirror_mode": {
    "name": "ipython",
    "version": 3
   },
   "file_extension": ".py",
   "mimetype": "text/x-python",
   "name": "python",
   "nbconvert_exporter": "python",
   "pygments_lexer": "ipython3",
   "version": "3.7.4"
  }
 },
 "nbformat": 4,
 "nbformat_minor": 2
}
