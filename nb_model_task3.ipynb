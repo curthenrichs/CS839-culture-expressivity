{
 "cells": [
  {
   "cell_type": "markdown",
   "metadata": {
    "gradient": {
     "editing": false
    }
   },
   "source": [
    "# Task 3 Models\n",
    "\n",
    "1. Train the PCA models\n",
    "\n",
    "        This results in pickled PCA models.\n",
    "        \n",
    "2. Train autoencoder models (as replacement for PCA)\n",
    "\n",
    "        This results in saved autoencoder models.\n",
    "        \n",
    "3. Train a k-means cluster that sits on top of PCA & autoencoder\n",
    "\n",
    "        This results in pickled k-means models."
   ]
  },
  {
   "cell_type": "markdown",
   "metadata": {
    "gradient": {
     "editing": false
    }
   },
   "source": [
    "## LOAD"
   ]
  },
  {
   "cell_type": "code",
   "execution_count": null,
   "metadata": {
    "gradient": {}
   },
   "outputs": [],
   "source": [
    "task_name = 'task3_jenga_openface'"
   ]
  },
  {
   "cell_type": "code",
   "execution_count": null,
   "metadata": {
    "gradient": {}
   },
   "outputs": [],
   "source": [
    "model_path = './models/{0}/'.format(task_name)"
   ]
  },
  {
   "cell_type": "code",
   "execution_count": null,
   "metadata": {
    "gradient": {}
   },
   "outputs": [],
   "source": [
    "import os\n",
    "import numpy as np\n",
    "import pandas as pd\n",
    "import warnings\n",
    "import pickle\n",
    "\n",
    "from tqdm import tqdm\n",
    "import matplotlib.pyplot as plt"
   ]
  },
  {
   "cell_type": "code",
   "execution_count": null,
   "metadata": {
    "gradient": {}
   },
   "outputs": [],
   "source": [
    "save_path = './data/tmp_analysis/{0}'.format(task_name)\n",
    "save_train_path = save_path + '_train.csv'\n",
    "save_test_path = save_path + '_test.csv'\n",
    "save_valid_path = save_path + '_valid.csv'\n",
    "\n",
    "\n",
    "Train = pd.read_csv(save_train_path)\n",
    "Test = pd.read_csv(save_test_path)\n",
    "Valid = pd.read_csv(save_valid_path)"
   ]
  },
  {
   "cell_type": "code",
   "execution_count": null,
   "metadata": {
    "gradient": {}
   },
   "outputs": [],
   "source": [
    "X = np.asarray(Train.to_numpy()[:,3:]).astype('float32')"
   ]
  },
  {
   "cell_type": "code",
   "execution_count": null,
   "metadata": {
    "gradient": {}
   },
   "outputs": [],
   "source": [
    "del Train"
   ]
  },
  {
   "cell_type": "code",
   "execution_count": null,
   "metadata": {
    "gradient": {}
   },
   "outputs": [],
   "source": [
    "Xtest = np.asarray(Test.to_numpy()[:,3:]).astype('float32')"
   ]
  },
  {
   "cell_type": "code",
   "execution_count": null,
   "metadata": {
    "gradient": {}
   },
   "outputs": [],
   "source": [
    "del Test"
   ]
  },
  {
   "cell_type": "code",
   "execution_count": null,
   "metadata": {
    "gradient": {}
   },
   "outputs": [],
   "source": [
    "Xvalid = np.asarray(Valid.to_numpy()[:,3:]).astype('float32')"
   ]
  },
  {
   "cell_type": "code",
   "execution_count": null,
   "metadata": {
    "gradient": {}
   },
   "outputs": [],
   "source": [
    "del Valid"
   ]
  },
  {
   "cell_type": "markdown",
   "metadata": {},
   "source": [
    "## PCA Fit\n",
    "I found 32 components to be roughly the inflection curve.\n",
    "I am also creating an 18  component variant just in case we want a direct comparison with action units"
   ]
  },
  {
   "cell_type": "code",
   "execution_count": null,
   "metadata": {
    "gradient": {}
   },
   "outputs": [],
   "source": [
    "from sklearn.decomposition import PCA"
   ]
  },
  {
   "cell_type": "code",
   "execution_count": null,
   "metadata": {
    "gradient": {}
   },
   "outputs": [
    {
     "name": "stdout",
     "output_type": "stream",
     "text": [
      "[4.62986958e+06 2.72924901e+06 1.54131064e+05 7.60114494e+04\n",
      " 4.60983289e+04 2.44411512e+04 2.20384570e+04 7.54350491e+03\n",
      " 3.89411660e+03 2.03379428e+03 1.64928134e+03 1.51436880e+03\n",
      " 1.28886949e+03 9.60896768e+02 7.84298411e+02 6.18583225e+02\n",
      " 4.42433172e+02 3.89113493e+02 3.61640941e+02 3.32080838e+02\n",
      " 2.67732834e+02 2.32968789e+02 2.16726353e+02 1.77223960e+02\n",
      " 1.62874235e+02 1.37204049e+02 1.19198144e+02 1.09041419e+02\n",
      " 1.05151185e+02 8.80904963e+01 8.07715451e+01 6.83803081e+01]\n"
     ]
    }
   ],
   "source": [
    "pca_n_32 = PCA(n_components=32)\n",
    "face_pca_n_32 = pca_n_32.fit(X)\n",
    "\n",
    "print(face_pca_n_32.explained_variance_)"
   ]
  },
  {
   "cell_type": "code",
   "execution_count": null,
   "metadata": {
    "gradient": {}
   },
   "outputs": [],
   "source": [
    "pickle.dump(face_pca_n_32,open(model_path+'pca_n_32.p','wb'))"
   ]
  },
  {
   "cell_type": "code",
   "execution_count": null,
   "metadata": {
    "gradient": {}
   },
   "outputs": [
    {
     "name": "stdout",
     "output_type": "stream",
     "text": [
      "[4.62986958e+06 2.72925010e+06 1.54130942e+05 7.60114088e+04\n",
      " 4.60983221e+04 2.44411377e+04 2.20384875e+04 7.54351508e+03\n",
      " 3.89411914e+03 2.03379110e+03 1.64928219e+03 1.51436976e+03\n",
      " 1.28886960e+03 9.60897827e+02 7.84297722e+02 6.18582854e+02\n",
      " 4.42429995e+02 3.89112990e+02]\n"
     ]
    }
   ],
   "source": [
    "pca_n_18 = PCA(n_components=18)\n",
    "face_pca_n_18 = pca_n_18.fit(X)\n",
    "\n",
    "print(face_pca_n_18.explained_variance_)"
   ]
  },
  {
   "cell_type": "code",
   "execution_count": null,
   "metadata": {
    "gradient": {}
   },
   "outputs": [],
   "source": [
    "pickle.dump(face_pca_n_18,open(model_path+'pca_n_18.p','wb'))"
   ]
  },
  {
   "cell_type": "markdown",
   "metadata": {},
   "source": [
    "# Autoencoder\n",
    "Right now just doing a single layer \n",
    "Perhaps we can try a two layer encoder / two layer decoder next?"
   ]
  },
  {
   "cell_type": "markdown",
   "metadata": {},
   "source": [
    "32 Wide encoder"
   ]
  },
  {
   "cell_type": "code",
   "execution_count": null,
   "metadata": {
    "gradient": {}
   },
   "outputs": [],
   "source": [
    "import keras\n",
    "from keras import layers"
   ]
  },
  {
   "cell_type": "code",
   "execution_count": null,
   "metadata": {
    "gradient": {}
   },
   "outputs": [
    {
     "name": "stdout",
     "output_type": "stream",
     "text": [
      "(151068, 136)\n"
     ]
    }
   ],
   "source": [
    "print(X.shape)"
   ]
  },
  {
   "cell_type": "code",
   "execution_count": null,
   "metadata": {
    "gradient": {}
   },
   "outputs": [],
   "source": [
    "input_dim = X.shape[1]\n",
    "encoding_dim = 32\n",
    "\n",
    "input_layer = keras.Input(shape=(input_dim,))\n",
    "encoded_layer = layers.Dense(encoding_dim, activation='relu')(input_layer)\n",
    "decoded_layer = layers.Dense(input_dim, activation='relu')(encoded_layer)\n",
    "\n",
    "autoencoder_32 = keras.Model(input_layer,decoded_layer)\n",
    "\n",
    "encoder_32 = keras.Model(input_layer, encoded_layer)"
   ]
  },
  {
   "cell_type": "code",
   "execution_count": null,
   "metadata": {
    "gradient": {}
   },
   "outputs": [],
   "source": [
    "autoencoder_32.compile(optimizer='adam',\n",
    "                    loss='binary_crossentropy')"
   ]
  },
  {
   "cell_type": "code",
   "execution_count": null,
   "metadata": {
    "gradient": {}
   },
   "outputs": [
    {
     "name": "stdout",
     "output_type": "stream",
     "text": [
      "Model: \"model\"\n",
      "_________________________________________________________________\n",
      "Layer (type)                 Output Shape              Param #   \n",
      "=================================================================\n",
      "input_1 (InputLayer)         [(None, 136)]             0         \n",
      "_________________________________________________________________\n",
      "dense (Dense)                (None, 32)                4384      \n",
      "_________________________________________________________________\n",
      "dense_1 (Dense)              (None, 136)               4488      \n",
      "=================================================================\n",
      "Total params: 8,872\n",
      "Trainable params: 8,872\n",
      "Non-trainable params: 0\n",
      "_________________________________________________________________\n"
     ]
    }
   ],
   "source": [
    "autoencoder_32.summary()"
   ]
  },
  {
   "cell_type": "code",
   "execution_count": null,
   "metadata": {
    "gradient": {}
   },
   "outputs": [
    {
     "name": "stdout",
     "output_type": "stream",
     "text": [
      "Epoch 1/2\n",
      "2361/2361 [==============================] - 6s 2ms/step - loss: -3784.4416 - val_loss: -5811.1182\n",
      "Epoch 2/2\n",
      "2361/2361 [==============================] - 5s 2ms/step - loss: -7248.0277 - val_loss: -7316.3047\n"
     ]
    }
   ],
   "source": [
    "history = autoencoder_32.fit(X, X, epochs=2, batch_size=64, verbose=1, validation_data=(Xtest, Xtest))"
   ]
  },
  {
   "cell_type": "code",
   "execution_count": null,
   "metadata": {
    "gradient": {}
   },
   "outputs": [
    {
     "data": {
      "image/png": "[encoded data removed]",
      "text/plain": [
       "<Figure size 432x288 with 1 Axes>"
      ]
     },
     "metadata": {
      "needs_background": "light"
     },
     "output_type": "display_data"
    }
   ],
   "source": [
    "fig, ax = plt.subplots()\n",
    "\n",
    "plt.plot([0]+history.history['loss'], label='train')\n",
    "plt.plot([0]+history.history['val_loss'], label='test')\n",
    "plt.legend()\n",
    "plt.show()"
   ]
  },
  {
   "cell_type": "code",
   "execution_count": null,
   "metadata": {
    "gradient": {}
   },
   "outputs": [],
   "source": [
    "predictions = autoencoder_32.predict(Xvalid)\n",
    "# TODO I should probably do something with the validation set"
   ]
  },
  {
   "cell_type": "code",
   "execution_count": null,
   "metadata": {
    "gradient": {}
   },
   "outputs": [
    {
     "name": "stdout",
     "output_type": "stream",
     "text": [
      "INFO:tensorflow:Assets written to: ./models/task3_jenga_openface/autoencoder_32.pb/assets\n",
      "INFO:tensorflow:Assets written to: ./models/task3_jenga_openface/encoder_32.pb/assets\n"
     ]
    }
   ],
   "source": [
    "autoencoder_32.save(model_path + 'autoencoder_32.pb')\n",
    "encoder_32.save(model_path + 'encoder_32.pb')"
   ]
  },
  {
   "cell_type": "markdown",
   "metadata": {},
   "source": [
    "18 wide encoder"
   ]
  },
  {
   "cell_type": "code",
   "execution_count": null,
   "metadata": {
    "gradient": {}
   },
   "outputs": [],
   "source": [
    "import keras\n",
    "from keras import layers"
   ]
  },
  {
   "cell_type": "code",
   "execution_count": null,
   "metadata": {
    "gradient": {}
   },
   "outputs": [],
   "source": [
    "input_dim = X.shape[1]\n",
    "encoding_dim = 18\n",
    "\n",
    "input_layer = keras.Input(shape=(input_dim,))\n",
    "encoded_layer = layers.Dense(encoding_dim, activation='relu')(input_layer)\n",
    "decoded_layer = layers.Dense(input_dim, activation='relu')(encoded_layer)\n",
    "\n",
    "autoencoder_18 = keras.Model(input_layer,decoded_layer)\n",
    "\n",
    "encoder_18 = keras.Model(input_layer, encoded_layer)"
   ]
  },
  {
   "cell_type": "code",
   "execution_count": null,
   "metadata": {
    "gradient": {}
   },
   "outputs": [],
   "source": [
    "autoencoder_18.compile(optimizer='adam',\n",
    "                    loss='binary_crossentropy')"
   ]
  },
  {
   "cell_type": "code",
   "execution_count": null,
   "metadata": {
    "gradient": {}
   },
   "outputs": [
    {
     "name": "stdout",
     "output_type": "stream",
     "text": [
      "Model: \"model_2\"\n",
      "_________________________________________________________________\n",
      "Layer (type)                 Output Shape              Param #   \n",
      "=================================================================\n",
      "input_2 (InputLayer)         [(None, 136)]             0         \n",
      "_________________________________________________________________\n",
      "dense_2 (Dense)              (None, 18)                2466      \n",
      "_________________________________________________________________\n",
      "dense_3 (Dense)              (None, 136)               2584      \n",
      "=================================================================\n",
      "Total params: 5,050\n",
      "Trainable params: 5,050\n",
      "Non-trainable params: 0\n",
      "_________________________________________________________________\n"
     ]
    }
   ],
   "source": [
    "autoencoder_18.summary()"
   ]
  },
  {
   "cell_type": "code",
   "execution_count": null,
   "metadata": {
    "gradient": {}
   },
   "outputs": [
    {
     "name": "stdout",
     "output_type": "stream",
     "text": [
      "Epoch 1/2\n",
      "2361/2361 [==============================] - 6s 2ms/step - loss: -7496.6744 - val_loss: -8885.9824\n",
      "Epoch 2/2\n",
      "2361/2361 [==============================] - 5s 2ms/step - loss: -8881.9444 - val_loss: -8887.7988\n"
     ]
    }
   ],
   "source": [
    "history = autoencoder_18.fit(X, X, epochs=2, batch_size=64, verbose=1, validation_data=(Xtest, Xtest))"
   ]
  },
  {
   "cell_type": "code",
   "execution_count": null,
   "metadata": {
    "gradient": {}
   },
   "outputs": [
    {
     "data": {
      "image/png": "[encoded data removed]",
      "text/plain": [
       "<Figure size 432x288 with 1 Axes>"
      ]
     },
     "metadata": {
      "needs_background": "light"
     },
     "output_type": "display_data"
    }
   ],
   "source": [
    "fig, ax = plt.subplots()\n",
    "\n",
    "plt.plot([0]+history.history['loss'], label='train')\n",
    "plt.plot([0]+history.history['val_loss'], label='test')\n",
    "plt.legend()\n",
    "plt.show()"
   ]
  },
  {
   "cell_type": "code",
   "execution_count": null,
   "metadata": {
    "gradient": {}
   },
   "outputs": [],
   "source": [
    "predictions = autoencoder_18.predict(Xvalid)\n",
    "# TODO I should probably do something with the validation set"
   ]
  },
  {
   "cell_type": "code",
   "execution_count": null,
   "metadata": {
    "gradient": {}
   },
   "outputs": [
    {
     "name": "stdout",
     "output_type": "stream",
     "text": [
      "INFO:tensorflow:Assets written to: ./models/task3_jenga_openface/autoencoder_18.pb/assets\n",
      "INFO:tensorflow:Assets written to: ./models/task3_jenga_openface/encoder_18.pb/assets\n"
     ]
    }
   ],
   "source": [
    "autoencoder_18.save(model_path + 'autoencoder_18.pb')\n",
    "encoder_18.save(model_path + 'encoder_18.pb')"
   ]
  },
  {
   "cell_type": "markdown",
   "metadata": {},
   "source": [
    "## K-means\n",
    "Not sure what this is going to do \n",
    "(my guess is it is going to cluster similar participants)"
   ]
  },
  {
   "cell_type": "code",
   "execution_count": null,
   "metadata": {
    "gradient": {}
   },
   "outputs": [],
   "source": [
    "from sklearn.cluster import KMeans"
   ]
  },
  {
   "cell_type": "code",
   "execution_count": null,
   "metadata": {
    "gradient": {}
   },
   "outputs": [],
   "source": [
    "def visualize_labels(y):\n",
    "    idx = np.arange(len(y))\n",
    "\n",
    "    fig, (ax1,ax2) = plt.subplots(nrows=2, sharex=True)\n",
    "\n",
    "    ax1.imshow(y[np.newaxis,:], cmap=\"plasma\", aspect=\"auto\")\n",
    "    ax1.set_yticks([])\n",
    "\n",
    "    ax2.scatter(idx,y)\n",
    "\n",
    "    plt.tight_layout()\n",
    "    plt.show()"
   ]
  },
  {
   "cell_type": "code",
   "execution_count": null,
   "metadata": {
    "gradient": {}
   },
   "outputs": [],
   "source": [
    "X_pca = face_pca_n_32.transform(X)\n",
    "kmeans_5 = KMeans(n_clusters=5, random_state=0).fit(X_pca)"
   ]
  },
  {
   "cell_type": "code",
   "execution_count": null,
   "metadata": {
    "gradient": {}
   },
   "outputs": [
    {
     "data": {
      "image/png": "[encoded data removed]",
      "text/plain": [
       "<Figure size 432x288 with 2 Axes>"
      ]
     },
     "metadata": {
      "needs_background": "light"
     },
     "output_type": "display_data"
    }
   ],
   "source": [
    "y = kmeans_5.predict(face_pca_n_32.transform(Xtest))\n",
    "visualize_labels(y)"
   ]
  },
  {
   "cell_type": "code",
   "execution_count": null,
   "metadata": {
    "gradient": {}
   },
   "outputs": [
    {
     "data": {
      "image/png": "[encoded data removed]",
      "text/plain": [
       "<Figure size 432x288 with 2 Axes>"
      ]
     },
     "metadata": {
      "needs_background": "light"
     },
     "output_type": "display_data"
    }
   ],
   "source": [
    "y = kmeans_5.predict(face_pca_n_32.transform(Xvalid))\n",
    "visualize_labels(y)"
   ]
  },
  {
   "cell_type": "code",
   "execution_count": null,
   "metadata": {
    "gradient": {}
   },
   "outputs": [],
   "source": [
    "pickle.dump(kmeans_5,open(model_path+'kmeans_5_from_pca.p','wb'))"
   ]
  },
  {
   "cell_type": "markdown",
   "metadata": {},
   "source": [
    "   "
   ]
  },
  {
   "cell_type": "code",
   "execution_count": null,
   "metadata": {
    "gradient": {}
   },
   "outputs": [
    {
     "name": "stdout",
     "output_type": "stream",
     "text": [
      "WARNING:tensorflow:No training configuration found in save file, so the model was *not* compiled. Compile it manually.\n"
     ]
    }
   ],
   "source": [
    "encoder_32 = keras.models.load_model(model_path + 'encoder_32.pb')\n",
    "\n",
    "X_auto = encoder_32.predict(X)\n",
    "kmeans_5 = KMeans(n_clusters=5, random_state=0).fit(X_auto)"
   ]
  },
  {
   "cell_type": "code",
   "execution_count": null,
   "metadata": {
    "gradient": {}
   },
   "outputs": [
    {
     "data": {
      "image/png": "[encoded data removed]",
      "text/plain": [
       "<Figure size 432x288 with 2 Axes>"
      ]
     },
     "metadata": {
      "needs_background": "light"
     },
     "output_type": "display_data"
    }
   ],
   "source": [
    "y = kmeans_5.predict(encoder_32.predict(Xtest))\n",
    "visualize_labels(y)"
   ]
  },
  {
   "cell_type": "code",
   "execution_count": null,
   "metadata": {
    "gradient": {}
   },
   "outputs": [
    {
     "data": {
      "image/png": "[encoded data removed]",
      "text/plain": [
       "<Figure size 432x288 with 2 Axes>"
      ]
     },
     "metadata": {
      "needs_background": "light"
     },
     "output_type": "display_data"
    }
   ],
   "source": [
    "y = kmeans_5.predict(encoder_32.predict(Xvalid))\n",
    "visualize_labels(y)"
   ]
  },
  {
   "cell_type": "code",
   "execution_count": null,
   "metadata": {
    "gradient": {}
   },
   "outputs": [],
   "source": [
    "pickle.dump(kmeans_5,open(model_path+'kmeans_5_from_auto.p','wb'))"
   ]
  }
 ],
 "metadata": {
  "kernelspec": {
   "display_name": "Python 3",
   "language": "python",
   "name": "python3"
  },
  "language_info": {
   "codemirror_mode": {
    "name": "ipython",
    "version": 3
   },
   "file_extension": ".py",
   "mimetype": "text/x-python",
   "name": "python",
   "nbconvert_exporter": "python",
   "pygments_lexer": "ipython3",
   "version": "3.6.9"
  }
 },
 "nbformat": 4,
 "nbformat_minor": 2
}
