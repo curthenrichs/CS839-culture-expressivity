{
 "cells": [
  {
   "cell_type": "markdown",
   "metadata": {},
   "source": [
    "## LOAD"
   ]
  },
  {
   "cell_type": "code",
   "execution_count": 1,
   "metadata": {},
   "outputs": [],
   "source": [
    "model_path = './models/{0}/'.format('all_data')"
   ]
  },
  {
   "cell_type": "code",
   "execution_count": 2,
   "metadata": {},
   "outputs": [],
   "source": [
    "import os\n",
    "import numpy as np\n",
    "import pandas as pd\n",
    "import warnings\n",
    "import pickle\n",
    "\n",
    "from tqdm import tqdm\n",
    "import matplotlib.pyplot as plt"
   ]
  },
  {
   "cell_type": "code",
   "execution_count": 3,
   "metadata": {},
   "outputs": [],
   "source": [
    "main_path = './data/tmp_analysis/{0}'.format('all_data')\n",
    "main_train_path = main_path + '_train.csv'\n",
    "main_test_path = main_path + '_test.csv'\n",
    "main_valid_path = main_path + '_valid.csv'\n",
    "\n",
    "Train = pd.read_csv(main_train_path)\n",
    "Test = pd.read_csv(main_test_path)\n",
    "Valid = pd.read_csv(main_valid_path)\n",
    "\n",
    "alt_path = './data/tmp_analysis/{0}'.format('alt_all_data')\n",
    "alt_train_path = alt_path + '_train.csv'\n",
    "alt_test_path = alt_path + '_test.csv'\n",
    "alt_valid_path = alt_path + '_valid.csv'\n",
    "\n",
    "AltTrain = pd.read_csv(main_train_path)\n",
    "AltTest = pd.read_csv(main_test_path)\n",
    "AltValid = pd.read_csv(main_valid_path)"
   ]
  },
  {
   "cell_type": "code",
   "execution_count": 4,
   "metadata": {},
   "outputs": [
    {
     "name": "stdout",
     "output_type": "stream",
     "text": [
      "(712824, 136)\n",
      "(1601253, 136)\n"
     ]
    }
   ],
   "source": [
    "X = np.asarray(Train.to_numpy()[:,3:]).astype('float32')\n",
    "\n",
    "print(X.shape)\n",
    "\n",
    "X = np.append(X, np.asarray(AltTrain.to_numpy()[:,3:]).astype('float32'), axis=0)\n",
    "X = np.append(X, np.asarray(AltValid.to_numpy()[:,3:]).astype('float32'), axis=0)\n",
    "\n",
    "print(X.shape)"
   ]
  },
  {
   "cell_type": "code",
   "execution_count": 5,
   "metadata": {},
   "outputs": [],
   "source": [
    "del Train\n",
    "del AltTrain\n",
    "del AltValid"
   ]
  },
  {
   "cell_type": "code",
   "execution_count": 6,
   "metadata": {},
   "outputs": [
    {
     "name": "stdout",
     "output_type": "stream",
     "text": [
      "(351120, 136)\n"
     ]
    }
   ],
   "source": [
    "Xtest = np.asarray(Test.to_numpy()[:,3:]).astype('float32')\n",
    "Xtest = np.append(Xtest, np.asarray(AltTest.to_numpy()[:,3:]).astype('float32'), axis=0)\n",
    "\n",
    "print(Xtest.shape)"
   ]
  },
  {
   "cell_type": "code",
   "execution_count": 7,
   "metadata": {},
   "outputs": [],
   "source": [
    "del Test\n",
    "del AltTest"
   ]
  },
  {
   "cell_type": "code",
   "execution_count": 8,
   "metadata": {},
   "outputs": [
    {
     "name": "stdout",
     "output_type": "stream",
     "text": [
      "(175605, 136)\n"
     ]
    }
   ],
   "source": [
    "Xvalid = np.asarray(Valid.to_numpy()[:,3:]).astype('float32')\n",
    "\n",
    "print(Xvalid.shape)"
   ]
  },
  {
   "cell_type": "code",
   "execution_count": 9,
   "metadata": {},
   "outputs": [],
   "source": [
    "del Valid"
   ]
  },
  {
   "cell_type": "markdown",
   "metadata": {},
   "source": [
    "# Autoencoder\n",
    "Right now just doing a single layer \n",
    "Perhaps we can try a two layer encoder / two layer decoder next?"
   ]
  },
  {
   "cell_type": "markdown",
   "metadata": {},
   "source": [
    "32 Wide encoder"
   ]
  },
  {
   "cell_type": "code",
   "execution_count": 26,
   "metadata": {},
   "outputs": [],
   "source": [
    "import keras\n",
    "from keras import layers"
   ]
  },
  {
   "cell_type": "code",
   "execution_count": 27,
   "metadata": {},
   "outputs": [
    {
     "name": "stdout",
     "output_type": "stream",
     "text": [
      "(1601253, 136)\n"
     ]
    }
   ],
   "source": [
    "print(X.shape)"
   ]
  },
  {
   "cell_type": "code",
   "execution_count": 28,
   "metadata": {},
   "outputs": [],
   "source": [
    "input_dim = X.shape[1]\n",
    "encoding_dim = 32\n",
    "\n",
    "input_layer = keras.Input(shape=(input_dim,))\n",
    "\n",
    "encoded_1_layer = layers.Dense(encoding_dim * 2, activation='relu')(input_layer)\n",
    "encoded_2_layer = layers.Dense(encoding_dim, activation='relu')(encoded_1_layer)\n",
    "\n",
    "dropout_layer = layers.Dropout(0.5)(encoded_2_layer)\n",
    "\n",
    "decoded_1_layer = layers.Dense(encoding_dim * 2, activation='relu')(dropout_layer)\n",
    "decoded_2_layer = layers.Dense(input_dim, activation='selu')(decoded_1_layer)\n",
    "\n",
    "\n",
    "autoencoder_32 = keras.Model(input_layer,decoded_2_layer)\n",
    "encoder_32 = keras.Model(input_layer, encoded_2_layer)"
   ]
  },
  {
   "cell_type": "code",
   "execution_count": 29,
   "metadata": {},
   "outputs": [],
   "source": [
    "autoencoder_32.compile(optimizer='adam',\n",
    "                    loss='categorical_crossentropy')"
   ]
  },
  {
   "cell_type": "code",
   "execution_count": 30,
   "metadata": {},
   "outputs": [
    {
     "name": "stdout",
     "output_type": "stream",
     "text": [
      "_________________________________________________________________\n",
      "Layer (type)                 Output Shape              Param #   \n",
      "=================================================================\n",
      "input_3 (InputLayer)         (None, 136)               0         \n",
      "_________________________________________________________________\n",
      "dense_9 (Dense)              (None, 64)                8768      \n",
      "_________________________________________________________________\n",
      "dense_10 (Dense)             (None, 32)                2080      \n",
      "_________________________________________________________________\n",
      "dropout_3 (Dropout)          (None, 32)                0         \n",
      "_________________________________________________________________\n",
      "dense_11 (Dense)             (None, 64)                2112      \n",
      "_________________________________________________________________\n",
      "dense_12 (Dense)             (None, 136)               8840      \n",
      "=================================================================\n",
      "Total params: 21,800\n",
      "Trainable params: 21,800\n",
      "Non-trainable params: 0\n",
      "_________________________________________________________________\n"
     ]
    }
   ],
   "source": [
    "autoencoder_32.summary()"
   ]
  },
  {
   "cell_type": "code",
   "execution_count": 31,
   "metadata": {},
   "outputs": [
    {
     "name": "stdout",
     "output_type": "stream",
     "text": [
      "Train on 1601253 samples, validate on 351120 samples\n",
      "Epoch 1/3\n",
      "1601253/1601253 [==============================] - 390s 244us/step - loss: 494564.9420 - val_loss: 493634.5751\n",
      "Epoch 2/3\n",
      "1601253/1601253 [==============================] - 259s 162us/step - loss: 493665.9914 - val_loss: 493627.3087\n",
      "Epoch 3/3\n",
      "1601253/1601253 [==============================] - 231s 144us/step - loss: 493644.4731 - val_loss: 493618.0767\n"
     ]
    }
   ],
   "source": [
    "history = autoencoder_32.fit(X, X, epochs=3, batch_size=64, verbose=1, validation_data=(Xtest, Xtest), shuffle=True)"
   ]
  },
  {
   "cell_type": "code",
   "execution_count": 32,
   "metadata": {},
   "outputs": [
    {
     "data": {
      "image/png": "[encoded data removed]",
      "text/plain": [
       "<Figure size 432x288 with 1 Axes>"
      ]
     },
     "metadata": {
      "needs_background": "light"
     },
     "output_type": "display_data"
    }
   ],
   "source": [
    "fig, ax = plt.subplots()\n",
    "\n",
    "plt.plot([0]+history.history['loss'], label='train')\n",
    "plt.plot([0]+history.history['val_loss'], label='test')\n",
    "plt.legend()\n",
    "plt.show()"
   ]
  },
  {
   "cell_type": "code",
   "execution_count": 33,
   "metadata": {},
   "outputs": [],
   "source": [
    "predictions = autoencoder_32.predict(Xvalid)\n",
    "# TODO I should probably do something with the validation set"
   ]
  },
  {
   "cell_type": "code",
   "execution_count": 34,
   "metadata": {},
   "outputs": [],
   "source": [
    "autoencoder_32.save(model_path + 'alt_autoencoder_32.h5')\n",
    "encoder_32.save(model_path + 'alt_encoder_32.h5')"
   ]
  },
  {
   "cell_type": "code",
   "execution_count": null,
   "metadata": {},
   "outputs": [],
   "source": []
  },
  {
   "cell_type": "code",
   "execution_count": null,
   "metadata": {},
   "outputs": [],
   "source": []
  }
 ],
 "metadata": {
  "kernelspec": {
   "display_name": "Python 3",
   "language": "python",
   "name": "python3"
  },
  "language_info": {
   "codemirror_mode": {
    "name": "ipython",
    "version": 3
   },
   "file_extension": ".py",
   "mimetype": "text/x-python",
   "name": "python",
   "nbconvert_exporter": "python",
   "pygments_lexer": "ipython3",
   "version": "3.6.13"
  }
 },
 "nbformat": 4,
 "nbformat_minor": 2
}
