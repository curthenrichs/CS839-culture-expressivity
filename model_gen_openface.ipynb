{
 "cells": [
  {
   "cell_type": "code",
   "execution_count": 1,
   "metadata": {},
   "outputs": [],
   "source": [
    "task_name = 'task1_sandwich_openface'"
   ]
  },
  {
   "cell_type": "code",
   "execution_count": 2,
   "metadata": {},
   "outputs": [],
   "source": [
    "model_path = './models/{0}/'.format(task_name)"
   ]
  },
  {
   "cell_type": "markdown",
   "metadata": {},
   "source": [
    "# Model Creation for Tasks captured through Openface\n",
    "\n",
    "1. First we create the training data from the task participant data\n",
    "\n",
    "       This results in three intermediate training CSVs stored to disk.\n",
    "\n",
    "2. Next we train the PCA models\n",
    "\n",
    "        This results in pickled PCA models.\n",
    "        \n",
    "3. Then we train a k-means cluster that sits on top of PCA \n",
    "\n",
    "        This results in pickled k-means model.\n",
    "\n",
    "4. Next we train an autoencoder model (as replacement for PCA)\n",
    "\n",
    "        This results in saved autoencoder model.\n"
   ]
  },
  {
   "cell_type": "code",
   "execution_count": 3,
   "metadata": {},
   "outputs": [
    {
     "name": "stdout",
     "output_type": "stream",
     "text": [
      "Num Files: 32\n"
     ]
    }
   ],
   "source": [
    "import os\n",
    "import numpy as np\n",
    "import pandas as pd\n",
    "\n",
    "import warnings\n",
    "from tqdm import tqdm_notebook as tqdm\n",
    "\n",
    "path = './data/openface/{0}'.format(task_name)\n",
    "\n",
    "files = [f for f in os.listdir(path) if os.path.isfile(os.path.join(path,f))]\n",
    "print('Num Files:',len(files))"
   ]
  },
  {
   "cell_type": "markdown",
   "metadata": {},
   "source": [
    "## Create training set\n",
    "Using k out of every file?\n",
    "\n",
    "Note dropping bad lines"
   ]
  },
  {
   "cell_type": "code",
   "execution_count": 4,
   "metadata": {},
   "outputs": [
    {
     "data": {
      "application/vnd.jupyter.widget-view+json": {
       "model_id": "a358b9a2f64f4f03bbe46fa7fd0e1f57",
       "version_major": 2,
       "version_minor": 0
      },
      "text/plain": [
       "HBox(children=(IntProgress(value=0, max=32), HTML(value='')))"
      ]
     },
     "metadata": {},
     "output_type": "display_data"
    },
    {
     "name": "stdout",
     "output_type": "stream",
     "text": [
      "0101_sandwich_cut.csv\n",
      "Full: (5732, 138)\n",
      "Train: (3840, 138) Test: (946, 138) Validation (946, 138)\n",
      "0102_sandwich_cut.csv\n",
      "Full: (5692, 138)\n",
      "Train: (3813, 138) Test: (939, 138) Validation (940, 138)\n",
      "0201_sandwich_cut.csv\n",
      "Full: (9953, 138)\n",
      "Train: (6668, 138) Test: (1642, 138) Validation (1643, 138)\n",
      "0301_sandwich_cut.csv\n",
      "Full: (8261, 138)\n",
      "Train: (5534, 138) Test: (1363, 138) Validation (1364, 138)\n",
      "0302_sandwich_cut.csv\n",
      "Full: (8333, 138)\n",
      "Train: (5583, 138) Test: (1375, 138) Validation (1375, 138)\n",
      "0402_sandwich_cut.csv\n",
      "Full: (4974, 138)\n",
      "Train: (3332, 138) Test: (821, 138) Validation (821, 138)\n",
      "0501_sandwich_cut.csv\n",
      "Full: (9426, 138)\n",
      "Train: (6315, 138) Test: (1555, 138) Validation (1556, 138)\n",
      "0502_sandwich_cut.csv\n",
      "Full: (9457, 138)\n",
      "Train: (6336, 138) Test: (1560, 138) Validation (1561, 138)\n",
      "0601_sandwich_cut.csv\n",
      "Full: (11538, 138)\n",
      "Train: (7730, 138) Test: (1904, 138) Validation (1904, 138)\n",
      "0602_sandwich_cut.csv\n",
      "Full: (10711, 138)\n",
      "Train: (7176, 138) Test: (1767, 138) Validation (1768, 138)\n",
      "0701_sandwich_cut.csv\n",
      "Full: (8250, 138)\n",
      "Train: (5527, 138) Test: (1361, 138) Validation (1362, 138)\n",
      "0702_sandwich_cut.csv\n",
      "Full: (8501, 138)\n",
      "Train: (5695, 138) Test: (1403, 138) Validation (1403, 138)\n",
      "0801_sandwich_cut.csv\n",
      "Full: (11169, 138)\n",
      "Train: (7483, 138) Test: (1843, 138) Validation (1843, 138)\n",
      "0802_sandwich_cut.csv\n",
      "Full: (11239, 138)\n",
      "Train: (7530, 138) Test: (1854, 138) Validation (1855, 138)\n",
      "0901_sandwich_cut.csv\n",
      "Full: (13190, 138)\n",
      "Train: (8837, 138) Test: (2176, 138) Validation (2177, 138)\n",
      "1001_sandwich_cut.csv\n",
      "Full: (8028, 138)\n",
      "Train: (5378, 138) Test: (1325, 138) Validation (1325, 138)\n",
      "1002_sandwich_cut.csv\n",
      "Full: (8236, 138)\n",
      "Train: (5518, 138) Test: (1359, 138) Validation (1359, 138)\n",
      "1101_sandwich_cut.csv\n",
      "Full: (10804, 138)\n",
      "Train: (7238, 138) Test: (1783, 138) Validation (1783, 138)\n",
      "1301_sandwich_cut.csv\n"
     ]
    },
    {
     "name": "stderr",
     "output_type": "stream",
     "text": [
      "b'Skipping line 4053: expected 714 fields, saw 1233\\nSkipping line 4064: expected 714 fields, saw 722\\n'\n",
      "C:\\Users\\curth\\Anaconda3\\lib\\site-packages\\ipykernel_launcher.py:26: UserWarning: Dropping row due to NaN, 6548\n",
      "C:\\Users\\curth\\Anaconda3\\lib\\site-packages\\ipykernel_launcher.py:26: UserWarning: Dropping row due to NaN, 6552\n",
      "C:\\Users\\curth\\Anaconda3\\lib\\site-packages\\pandas\\core\\frame.py:4102: SettingWithCopyWarning: \n",
      "A value is trying to be set on a copy of a slice from a DataFrame\n",
      "\n",
      "See the caveats in the documentation: http://pandas.pydata.org/pandas-docs/stable/user_guide/indexing.html#returning-a-view-versus-a-copy\n",
      "  errors=errors,\n"
     ]
    },
    {
     "name": "stdout",
     "output_type": "stream",
     "text": [
      "Full: (6570, 138)\n",
      "Train: (4401, 138) Test: (1084, 138) Validation (1085, 138)\n",
      "1401_sandwich_cut.csv\n",
      "Full: (7476, 138)\n",
      "Train: (5008, 138) Test: (1234, 138) Validation (1234, 138)\n",
      "1402_sandwich_cut.csv\n",
      "Full: (7518, 138)\n",
      "Train: (5037, 138) Test: (1240, 138) Validation (1241, 138)\n",
      "1501_sandwich_cut.csv\n",
      "Full: (7224, 138)\n",
      "Train: (4840, 138) Test: (1192, 138) Validation (1192, 138)\n",
      "1502_sandwich_cut.csv\n",
      "Full: (7219, 138)\n",
      "Train: (4836, 138) Test: (1191, 138) Validation (1192, 138)\n",
      "1701_Sandwich_Cut.csv\n",
      "Full: (6185, 138)\n",
      "Train: (4143, 138) Test: (1021, 138) Validation (1021, 138)\n",
      "1702_Sandwich_Cut.csv\n",
      "Full: (6674, 138)\n",
      "Train: (4471, 138) Test: (1101, 138) Validation (1102, 138)\n",
      "sona0101_sandwich_cut.csv\n",
      "Full: (4700, 138)\n",
      "Train: (3149, 138) Test: (775, 138) Validation (776, 138)\n",
      "sona0102_sandwich_cut.csv\n",
      "Full: (4735, 138)\n",
      "Train: (3172, 138) Test: (781, 138) Validation (782, 138)\n",
      "Sona0201_sandwich_cut.csv\n",
      "Full: (6358, 138)\n",
      "Train: (4259, 138) Test: (1049, 138) Validation (1050, 138)\n",
      "Sona0202_sandwich_cut.csv\n",
      "Full: (6405, 138)\n",
      "Train: (4291, 138) Test: (1057, 138) Validation (1057, 138)\n",
      "Sona0302_sandwich_cut.csv\n",
      "Full: (7300, 138)\n",
      "Train: (4891, 138) Test: (1204, 138) Validation (1205, 138)\n",
      "Sona0401_sandwich_cut.csv\n",
      "Full: (5606, 138)\n",
      "Train: (3756, 138) Test: (925, 138) Validation (925, 138)\n",
      "Sona0402_sandwich_cut.csv\n",
      "Full: (6001, 138)\n",
      "Train: (4020, 138) Test: (990, 138) Validation (991, 138)\n",
      "\n",
      "\n",
      "\n",
      "FINAL\n",
      "Train: (169807, 138) Test: (41820, 138) Validation (41838, 138)\n"
     ]
    }
   ],
   "source": [
    "from sklearn.model_selection import train_test_split\n",
    "\n",
    "indicies = ['frame'] + ['x_{0}'.format(i) for i in range(0,68)] + ['y_{0}'.format(i) for i in range(0,68)]\n",
    "\n",
    "flag = True\n",
    "Train = None\n",
    "Test = None\n",
    "Valid = None\n",
    "\n",
    "for f in tqdm(list(files)):\n",
    "    \n",
    "    # Load CSV\n",
    "    print(f)\n",
    "    df = pd.read_csv(\n",
    "            os.path.join(path,f), \n",
    "            error_bad_lines=False, \n",
    "            warn_bad_lines=True)\n",
    "    \n",
    "    face_lmk = df[indicies]\n",
    "    \n",
    "    # Filter NaN rows\n",
    "    nans = df[df[indicies].isnull().any(axis=1)]\n",
    "    if not nans.empty:\n",
    "        dropList = nans.index.tolist()\n",
    "        for r in dropList:\n",
    "            warnings.warn('Dropping row due to NaN, {0}'.format(r))\n",
    "        face_lmk.drop(dropList, inplace=True)\n",
    "        \n",
    "    face_lmk.insert(0,'filename',[f for i in range(0,face_lmk.shape[0])],True)\n",
    "        \n",
    "    print('Full:',face_lmk.shape)\n",
    "    \n",
    "    # Create Training, Test, Validation subsets\n",
    "    train, tmp = train_test_split(face_lmk, test_size=0.33)\n",
    "    test, val = train_test_split(tmp, test_size=0.5)\n",
    "    print('Train:',train.shape,'Test:',test.shape,'Validation',val.shape)\n",
    "    \n",
    "    if flag:\n",
    "        flag = False\n",
    "        Train = train\n",
    "        Test = test\n",
    "        Valid = val\n",
    "    else:\n",
    "        Train = Train.append(train)\n",
    "        Test = Test.append(test)\n",
    "        Valid = Valid.append(val)\n",
    "\n",
    "# Final Dataset (shuffled)\n",
    "Train = Train.sample(frac=1).reset_index(drop=True)\n",
    "Test = Test.sample(frac=1).reset_index(drop=True)\n",
    "Valid = Valid.sample(frac=1).reset_index(drop=True)\n",
    "\n",
    "print('\\n\\nFINAL')\n",
    "print('Train:',Train.shape,'Test:',Test.shape,'Validation',Valid.shape)"
   ]
  },
  {
   "cell_type": "code",
   "execution_count": 5,
   "metadata": {},
   "outputs": [
    {
     "data": {
      "text/html": [
       "<div>\n",
       "<style scoped>\n",
       "    .dataframe tbody tr th:only-of-type {\n",
       "        vertical-align: middle;\n",
       "    }\n",
       "\n",
       "    .dataframe tbody tr th {\n",
       "        vertical-align: top;\n",
       "    }\n",
       "\n",
       "    .dataframe thead th {\n",
       "        text-align: right;\n",
       "    }\n",
       "</style>\n",
       "<table border=\"1\" class=\"dataframe\">\n",
       "  <thead>\n",
       "    <tr style=\"text-align: right;\">\n",
       "      <th></th>\n",
       "      <th>filename</th>\n",
       "      <th>frame</th>\n",
       "      <th>x_0</th>\n",
       "      <th>x_1</th>\n",
       "      <th>x_2</th>\n",
       "      <th>x_3</th>\n",
       "      <th>x_4</th>\n",
       "      <th>x_5</th>\n",
       "      <th>x_6</th>\n",
       "      <th>x_7</th>\n",
       "      <th>...</th>\n",
       "      <th>y_58</th>\n",
       "      <th>y_59</th>\n",
       "      <th>y_60</th>\n",
       "      <th>y_61</th>\n",
       "      <th>y_62</th>\n",
       "      <th>y_63</th>\n",
       "      <th>y_64</th>\n",
       "      <th>y_65</th>\n",
       "      <th>y_66</th>\n",
       "      <th>y_67</th>\n",
       "    </tr>\n",
       "  </thead>\n",
       "  <tbody>\n",
       "    <tr>\n",
       "      <td>0</td>\n",
       "      <td>Sona0302_sandwich_cut.csv</td>\n",
       "      <td>446.0</td>\n",
       "      <td>790.0</td>\n",
       "      <td>785.4</td>\n",
       "      <td>788.3</td>\n",
       "      <td>797.6</td>\n",
       "      <td>807.7</td>\n",
       "      <td>820.0</td>\n",
       "      <td>832.2</td>\n",
       "      <td>846.9</td>\n",
       "      <td>...</td>\n",
       "      <td>718.8</td>\n",
       "      <td>710.7</td>\n",
       "      <td>701.3</td>\n",
       "      <td>702.3</td>\n",
       "      <td>705.5</td>\n",
       "      <td>705.8</td>\n",
       "      <td>706.1</td>\n",
       "      <td>709.3</td>\n",
       "      <td>707.8</td>\n",
       "      <td>703.1</td>\n",
       "    </tr>\n",
       "    <tr>\n",
       "      <td>1</td>\n",
       "      <td>0101_sandwich_cut.csv</td>\n",
       "      <td>4962.0</td>\n",
       "      <td>676.6</td>\n",
       "      <td>673.3</td>\n",
       "      <td>676.0</td>\n",
       "      <td>685.4</td>\n",
       "      <td>696.5</td>\n",
       "      <td>705.9</td>\n",
       "      <td>713.5</td>\n",
       "      <td>720.4</td>\n",
       "      <td>...</td>\n",
       "      <td>405.3</td>\n",
       "      <td>402.8</td>\n",
       "      <td>394.8</td>\n",
       "      <td>392.6</td>\n",
       "      <td>392.7</td>\n",
       "      <td>391.9</td>\n",
       "      <td>389.1</td>\n",
       "      <td>394.3</td>\n",
       "      <td>394.2</td>\n",
       "      <td>393.4</td>\n",
       "    </tr>\n",
       "    <tr>\n",
       "      <td>2</td>\n",
       "      <td>0801_sandwich_cut.csv</td>\n",
       "      <td>6745.0</td>\n",
       "      <td>590.8</td>\n",
       "      <td>600.4</td>\n",
       "      <td>614.1</td>\n",
       "      <td>630.9</td>\n",
       "      <td>650.1</td>\n",
       "      <td>674.7</td>\n",
       "      <td>698.7</td>\n",
       "      <td>724.8</td>\n",
       "      <td>...</td>\n",
       "      <td>628.6</td>\n",
       "      <td>625.7</td>\n",
       "      <td>613.1</td>\n",
       "      <td>605.2</td>\n",
       "      <td>602.7</td>\n",
       "      <td>596.7</td>\n",
       "      <td>586.5</td>\n",
       "      <td>599.9</td>\n",
       "      <td>606.4</td>\n",
       "      <td>609.2</td>\n",
       "    </tr>\n",
       "    <tr>\n",
       "      <td>3</td>\n",
       "      <td>Sona0302_sandwich_cut.csv</td>\n",
       "      <td>5357.0</td>\n",
       "      <td>818.2</td>\n",
       "      <td>813.2</td>\n",
       "      <td>813.3</td>\n",
       "      <td>820.6</td>\n",
       "      <td>832.0</td>\n",
       "      <td>846.6</td>\n",
       "      <td>860.1</td>\n",
       "      <td>878.3</td>\n",
       "      <td>...</td>\n",
       "      <td>723.1</td>\n",
       "      <td>716.6</td>\n",
       "      <td>707.3</td>\n",
       "      <td>705.6</td>\n",
       "      <td>708.1</td>\n",
       "      <td>708.5</td>\n",
       "      <td>709.4</td>\n",
       "      <td>711.8</td>\n",
       "      <td>710.1</td>\n",
       "      <td>706.1</td>\n",
       "    </tr>\n",
       "    <tr>\n",
       "      <td>4</td>\n",
       "      <td>0302_sandwich_cut.csv</td>\n",
       "      <td>7037.0</td>\n",
       "      <td>727.8</td>\n",
       "      <td>730.1</td>\n",
       "      <td>735.0</td>\n",
       "      <td>744.0</td>\n",
       "      <td>754.1</td>\n",
       "      <td>766.7</td>\n",
       "      <td>777.8</td>\n",
       "      <td>792.2</td>\n",
       "      <td>...</td>\n",
       "      <td>713.9</td>\n",
       "      <td>708.2</td>\n",
       "      <td>698.4</td>\n",
       "      <td>701.4</td>\n",
       "      <td>702.2</td>\n",
       "      <td>700.8</td>\n",
       "      <td>694.6</td>\n",
       "      <td>701.1</td>\n",
       "      <td>702.5</td>\n",
       "      <td>701.7</td>\n",
       "    </tr>\n",
       "  </tbody>\n",
       "</table>\n",
       "<p>5 rows × 138 columns</p>\n",
       "</div>"
      ],
      "text/plain": [
       "                    filename   frame    x_0    x_1    x_2    x_3    x_4  \\\n",
       "0  Sona0302_sandwich_cut.csv   446.0  790.0  785.4  788.3  797.6  807.7   \n",
       "1      0101_sandwich_cut.csv  4962.0  676.6  673.3  676.0  685.4  696.5   \n",
       "2      0801_sandwich_cut.csv  6745.0  590.8  600.4  614.1  630.9  650.1   \n",
       "3  Sona0302_sandwich_cut.csv  5357.0  818.2  813.2  813.3  820.6  832.0   \n",
       "4      0302_sandwich_cut.csv  7037.0  727.8  730.1  735.0  744.0  754.1   \n",
       "\n",
       "     x_5    x_6    x_7  ...   y_58   y_59   y_60   y_61   y_62   y_63   y_64  \\\n",
       "0  820.0  832.2  846.9  ...  718.8  710.7  701.3  702.3  705.5  705.8  706.1   \n",
       "1  705.9  713.5  720.4  ...  405.3  402.8  394.8  392.6  392.7  391.9  389.1   \n",
       "2  674.7  698.7  724.8  ...  628.6  625.7  613.1  605.2  602.7  596.7  586.5   \n",
       "3  846.6  860.1  878.3  ...  723.1  716.6  707.3  705.6  708.1  708.5  709.4   \n",
       "4  766.7  777.8  792.2  ...  713.9  708.2  698.4  701.4  702.2  700.8  694.6   \n",
       "\n",
       "    y_65   y_66   y_67  \n",
       "0  709.3  707.8  703.1  \n",
       "1  394.3  394.2  393.4  \n",
       "2  599.9  606.4  609.2  \n",
       "3  711.8  710.1  706.1  \n",
       "4  701.1  702.5  701.7  \n",
       "\n",
       "[5 rows x 138 columns]"
      ]
     },
     "execution_count": 5,
     "metadata": {},
     "output_type": "execute_result"
    }
   ],
   "source": [
    "Train.head()"
   ]
  },
  {
   "cell_type": "code",
   "execution_count": 6,
   "metadata": {},
   "outputs": [
    {
     "data": {
      "text/html": [
       "<div>\n",
       "<style scoped>\n",
       "    .dataframe tbody tr th:only-of-type {\n",
       "        vertical-align: middle;\n",
       "    }\n",
       "\n",
       "    .dataframe tbody tr th {\n",
       "        vertical-align: top;\n",
       "    }\n",
       "\n",
       "    .dataframe thead th {\n",
       "        text-align: right;\n",
       "    }\n",
       "</style>\n",
       "<table border=\"1\" class=\"dataframe\">\n",
       "  <thead>\n",
       "    <tr style=\"text-align: right;\">\n",
       "      <th></th>\n",
       "      <th>filename</th>\n",
       "      <th>frame</th>\n",
       "      <th>x_0</th>\n",
       "      <th>x_1</th>\n",
       "      <th>x_2</th>\n",
       "      <th>x_3</th>\n",
       "      <th>x_4</th>\n",
       "      <th>x_5</th>\n",
       "      <th>x_6</th>\n",
       "      <th>x_7</th>\n",
       "      <th>...</th>\n",
       "      <th>y_58</th>\n",
       "      <th>y_59</th>\n",
       "      <th>y_60</th>\n",
       "      <th>y_61</th>\n",
       "      <th>y_62</th>\n",
       "      <th>y_63</th>\n",
       "      <th>y_64</th>\n",
       "      <th>y_65</th>\n",
       "      <th>y_66</th>\n",
       "      <th>y_67</th>\n",
       "    </tr>\n",
       "  </thead>\n",
       "  <tbody>\n",
       "    <tr>\n",
       "      <td>0</td>\n",
       "      <td>0601_sandwich_cut.csv</td>\n",
       "      <td>271.0</td>\n",
       "      <td>745.2</td>\n",
       "      <td>749.9</td>\n",
       "      <td>764.8</td>\n",
       "      <td>785.8</td>\n",
       "      <td>807.2</td>\n",
       "      <td>836.0</td>\n",
       "      <td>863.3</td>\n",
       "      <td>895.1</td>\n",
       "      <td>...</td>\n",
       "      <td>792.7</td>\n",
       "      <td>780.4</td>\n",
       "      <td>760.7</td>\n",
       "      <td>757.5</td>\n",
       "      <td>760.8</td>\n",
       "      <td>760.7</td>\n",
       "      <td>759.9</td>\n",
       "      <td>763.7</td>\n",
       "      <td>763.4</td>\n",
       "      <td>759.9</td>\n",
       "    </tr>\n",
       "    <tr>\n",
       "      <td>1</td>\n",
       "      <td>Sona0302_sandwich_cut.csv</td>\n",
       "      <td>2960.0</td>\n",
       "      <td>866.9</td>\n",
       "      <td>861.7</td>\n",
       "      <td>861.9</td>\n",
       "      <td>866.5</td>\n",
       "      <td>872.6</td>\n",
       "      <td>883.4</td>\n",
       "      <td>892.2</td>\n",
       "      <td>905.9</td>\n",
       "      <td>...</td>\n",
       "      <td>693.7</td>\n",
       "      <td>684.0</td>\n",
       "      <td>671.5</td>\n",
       "      <td>673.5</td>\n",
       "      <td>678.6</td>\n",
       "      <td>681.3</td>\n",
       "      <td>686.8</td>\n",
       "      <td>683.3</td>\n",
       "      <td>680.1</td>\n",
       "      <td>674.4</td>\n",
       "    </tr>\n",
       "    <tr>\n",
       "      <td>2</td>\n",
       "      <td>1101_sandwich_cut.csv</td>\n",
       "      <td>5587.0</td>\n",
       "      <td>710.2</td>\n",
       "      <td>732.0</td>\n",
       "      <td>756.1</td>\n",
       "      <td>779.8</td>\n",
       "      <td>808.6</td>\n",
       "      <td>843.7</td>\n",
       "      <td>882.5</td>\n",
       "      <td>924.8</td>\n",
       "      <td>...</td>\n",
       "      <td>904.7</td>\n",
       "      <td>908.9</td>\n",
       "      <td>896.3</td>\n",
       "      <td>882.6</td>\n",
       "      <td>878.2</td>\n",
       "      <td>868.6</td>\n",
       "      <td>866.4</td>\n",
       "      <td>874.1</td>\n",
       "      <td>884.2</td>\n",
       "      <td>888.9</td>\n",
       "    </tr>\n",
       "    <tr>\n",
       "      <td>3</td>\n",
       "      <td>1101_sandwich_cut.csv</td>\n",
       "      <td>540.0</td>\n",
       "      <td>871.2</td>\n",
       "      <td>875.1</td>\n",
       "      <td>889.4</td>\n",
       "      <td>910.8</td>\n",
       "      <td>939.8</td>\n",
       "      <td>971.0</td>\n",
       "      <td>1003.3</td>\n",
       "      <td>1034.9</td>\n",
       "      <td>...</td>\n",
       "      <td>855.9</td>\n",
       "      <td>847.5</td>\n",
       "      <td>824.6</td>\n",
       "      <td>823.3</td>\n",
       "      <td>822.3</td>\n",
       "      <td>819.6</td>\n",
       "      <td>810.8</td>\n",
       "      <td>829.5</td>\n",
       "      <td>831.2</td>\n",
       "      <td>831.1</td>\n",
       "    </tr>\n",
       "    <tr>\n",
       "      <td>4</td>\n",
       "      <td>0301_sandwich_cut.csv</td>\n",
       "      <td>1234.0</td>\n",
       "      <td>728.5</td>\n",
       "      <td>734.5</td>\n",
       "      <td>746.7</td>\n",
       "      <td>758.5</td>\n",
       "      <td>760.2</td>\n",
       "      <td>751.8</td>\n",
       "      <td>737.3</td>\n",
       "      <td>720.6</td>\n",
       "      <td>...</td>\n",
       "      <td>997.6</td>\n",
       "      <td>988.4</td>\n",
       "      <td>974.1</td>\n",
       "      <td>978.7</td>\n",
       "      <td>983.2</td>\n",
       "      <td>984.2</td>\n",
       "      <td>988.1</td>\n",
       "      <td>987.8</td>\n",
       "      <td>986.8</td>\n",
       "      <td>982.2</td>\n",
       "    </tr>\n",
       "  </tbody>\n",
       "</table>\n",
       "<p>5 rows × 138 columns</p>\n",
       "</div>"
      ],
      "text/plain": [
       "                    filename   frame    x_0    x_1    x_2    x_3    x_4  \\\n",
       "0      0601_sandwich_cut.csv   271.0  745.2  749.9  764.8  785.8  807.2   \n",
       "1  Sona0302_sandwich_cut.csv  2960.0  866.9  861.7  861.9  866.5  872.6   \n",
       "2      1101_sandwich_cut.csv  5587.0  710.2  732.0  756.1  779.8  808.6   \n",
       "3      1101_sandwich_cut.csv   540.0  871.2  875.1  889.4  910.8  939.8   \n",
       "4      0301_sandwich_cut.csv  1234.0  728.5  734.5  746.7  758.5  760.2   \n",
       "\n",
       "     x_5     x_6     x_7  ...   y_58   y_59   y_60   y_61   y_62   y_63  \\\n",
       "0  836.0   863.3   895.1  ...  792.7  780.4  760.7  757.5  760.8  760.7   \n",
       "1  883.4   892.2   905.9  ...  693.7  684.0  671.5  673.5  678.6  681.3   \n",
       "2  843.7   882.5   924.8  ...  904.7  908.9  896.3  882.6  878.2  868.6   \n",
       "3  971.0  1003.3  1034.9  ...  855.9  847.5  824.6  823.3  822.3  819.6   \n",
       "4  751.8   737.3   720.6  ...  997.6  988.4  974.1  978.7  983.2  984.2   \n",
       "\n",
       "    y_64   y_65   y_66   y_67  \n",
       "0  759.9  763.7  763.4  759.9  \n",
       "1  686.8  683.3  680.1  674.4  \n",
       "2  866.4  874.1  884.2  888.9  \n",
       "3  810.8  829.5  831.2  831.1  \n",
       "4  988.1  987.8  986.8  982.2  \n",
       "\n",
       "[5 rows x 138 columns]"
      ]
     },
     "execution_count": 6,
     "metadata": {},
     "output_type": "execute_result"
    }
   ],
   "source": [
    "Test.head()"
   ]
  },
  {
   "cell_type": "code",
   "execution_count": 7,
   "metadata": {},
   "outputs": [
    {
     "data": {
      "text/html": [
       "<div>\n",
       "<style scoped>\n",
       "    .dataframe tbody tr th:only-of-type {\n",
       "        vertical-align: middle;\n",
       "    }\n",
       "\n",
       "    .dataframe tbody tr th {\n",
       "        vertical-align: top;\n",
       "    }\n",
       "\n",
       "    .dataframe thead th {\n",
       "        text-align: right;\n",
       "    }\n",
       "</style>\n",
       "<table border=\"1\" class=\"dataframe\">\n",
       "  <thead>\n",
       "    <tr style=\"text-align: right;\">\n",
       "      <th></th>\n",
       "      <th>filename</th>\n",
       "      <th>frame</th>\n",
       "      <th>x_0</th>\n",
       "      <th>x_1</th>\n",
       "      <th>x_2</th>\n",
       "      <th>x_3</th>\n",
       "      <th>x_4</th>\n",
       "      <th>x_5</th>\n",
       "      <th>x_6</th>\n",
       "      <th>x_7</th>\n",
       "      <th>...</th>\n",
       "      <th>y_58</th>\n",
       "      <th>y_59</th>\n",
       "      <th>y_60</th>\n",
       "      <th>y_61</th>\n",
       "      <th>y_62</th>\n",
       "      <th>y_63</th>\n",
       "      <th>y_64</th>\n",
       "      <th>y_65</th>\n",
       "      <th>y_66</th>\n",
       "      <th>y_67</th>\n",
       "    </tr>\n",
       "  </thead>\n",
       "  <tbody>\n",
       "    <tr>\n",
       "      <td>0</td>\n",
       "      <td>1401_sandwich_cut.csv</td>\n",
       "      <td>3066.0</td>\n",
       "      <td>728.1</td>\n",
       "      <td>738.8</td>\n",
       "      <td>754.4</td>\n",
       "      <td>774.4</td>\n",
       "      <td>793.6</td>\n",
       "      <td>815.0</td>\n",
       "      <td>833.7</td>\n",
       "      <td>853.1</td>\n",
       "      <td>...</td>\n",
       "      <td>623.6</td>\n",
       "      <td>620.4</td>\n",
       "      <td>611.8</td>\n",
       "      <td>610.3</td>\n",
       "      <td>609.4</td>\n",
       "      <td>606.1</td>\n",
       "      <td>591.6</td>\n",
       "      <td>608.0</td>\n",
       "      <td>611.4</td>\n",
       "      <td>612.1</td>\n",
       "    </tr>\n",
       "    <tr>\n",
       "      <td>1</td>\n",
       "      <td>sona0101_sandwich_cut.csv</td>\n",
       "      <td>603.0</td>\n",
       "      <td>771.1</td>\n",
       "      <td>773.5</td>\n",
       "      <td>778.2</td>\n",
       "      <td>786.2</td>\n",
       "      <td>802.8</td>\n",
       "      <td>829.9</td>\n",
       "      <td>857.0</td>\n",
       "      <td>887.8</td>\n",
       "      <td>...</td>\n",
       "      <td>727.3</td>\n",
       "      <td>714.9</td>\n",
       "      <td>693.5</td>\n",
       "      <td>704.4</td>\n",
       "      <td>708.1</td>\n",
       "      <td>706.2</td>\n",
       "      <td>698.6</td>\n",
       "      <td>707.0</td>\n",
       "      <td>708.9</td>\n",
       "      <td>705.7</td>\n",
       "    </tr>\n",
       "    <tr>\n",
       "      <td>2</td>\n",
       "      <td>0901_sandwich_cut.csv</td>\n",
       "      <td>3577.0</td>\n",
       "      <td>332.2</td>\n",
       "      <td>327.5</td>\n",
       "      <td>333.1</td>\n",
       "      <td>352.4</td>\n",
       "      <td>376.3</td>\n",
       "      <td>412.6</td>\n",
       "      <td>456.3</td>\n",
       "      <td>503.4</td>\n",
       "      <td>...</td>\n",
       "      <td>866.2</td>\n",
       "      <td>856.8</td>\n",
       "      <td>835.3</td>\n",
       "      <td>841.4</td>\n",
       "      <td>845.2</td>\n",
       "      <td>846.5</td>\n",
       "      <td>839.0</td>\n",
       "      <td>849.7</td>\n",
       "      <td>848.0</td>\n",
       "      <td>844.1</td>\n",
       "    </tr>\n",
       "    <tr>\n",
       "      <td>3</td>\n",
       "      <td>1402_sandwich_cut.csv</td>\n",
       "      <td>6286.0</td>\n",
       "      <td>848.2</td>\n",
       "      <td>850.1</td>\n",
       "      <td>854.9</td>\n",
       "      <td>862.2</td>\n",
       "      <td>870.9</td>\n",
       "      <td>881.4</td>\n",
       "      <td>891.6</td>\n",
       "      <td>903.0</td>\n",
       "      <td>...</td>\n",
       "      <td>459.7</td>\n",
       "      <td>454.9</td>\n",
       "      <td>444.5</td>\n",
       "      <td>447.0</td>\n",
       "      <td>447.8</td>\n",
       "      <td>445.6</td>\n",
       "      <td>439.3</td>\n",
       "      <td>446.5</td>\n",
       "      <td>448.5</td>\n",
       "      <td>447.8</td>\n",
       "    </tr>\n",
       "    <tr>\n",
       "      <td>4</td>\n",
       "      <td>0201_sandwich_cut.csv</td>\n",
       "      <td>2635.0</td>\n",
       "      <td>1016.2</td>\n",
       "      <td>1019.0</td>\n",
       "      <td>1024.1</td>\n",
       "      <td>1030.9</td>\n",
       "      <td>1041.1</td>\n",
       "      <td>1057.2</td>\n",
       "      <td>1075.7</td>\n",
       "      <td>1098.2</td>\n",
       "      <td>...</td>\n",
       "      <td>394.5</td>\n",
       "      <td>390.8</td>\n",
       "      <td>380.3</td>\n",
       "      <td>382.0</td>\n",
       "      <td>383.2</td>\n",
       "      <td>382.3</td>\n",
       "      <td>380.7</td>\n",
       "      <td>382.0</td>\n",
       "      <td>383.5</td>\n",
       "      <td>382.4</td>\n",
       "    </tr>\n",
       "  </tbody>\n",
       "</table>\n",
       "<p>5 rows × 138 columns</p>\n",
       "</div>"
      ],
      "text/plain": [
       "                    filename   frame     x_0     x_1     x_2     x_3     x_4  \\\n",
       "0      1401_sandwich_cut.csv  3066.0   728.1   738.8   754.4   774.4   793.6   \n",
       "1  sona0101_sandwich_cut.csv   603.0   771.1   773.5   778.2   786.2   802.8   \n",
       "2      0901_sandwich_cut.csv  3577.0   332.2   327.5   333.1   352.4   376.3   \n",
       "3      1402_sandwich_cut.csv  6286.0   848.2   850.1   854.9   862.2   870.9   \n",
       "4      0201_sandwich_cut.csv  2635.0  1016.2  1019.0  1024.1  1030.9  1041.1   \n",
       "\n",
       "      x_5     x_6     x_7  ...   y_58   y_59   y_60   y_61   y_62   y_63  \\\n",
       "0   815.0   833.7   853.1  ...  623.6  620.4  611.8  610.3  609.4  606.1   \n",
       "1   829.9   857.0   887.8  ...  727.3  714.9  693.5  704.4  708.1  706.2   \n",
       "2   412.6   456.3   503.4  ...  866.2  856.8  835.3  841.4  845.2  846.5   \n",
       "3   881.4   891.6   903.0  ...  459.7  454.9  444.5  447.0  447.8  445.6   \n",
       "4  1057.2  1075.7  1098.2  ...  394.5  390.8  380.3  382.0  383.2  382.3   \n",
       "\n",
       "    y_64   y_65   y_66   y_67  \n",
       "0  591.6  608.0  611.4  612.1  \n",
       "1  698.6  707.0  708.9  705.7  \n",
       "2  839.0  849.7  848.0  844.1  \n",
       "3  439.3  446.5  448.5  447.8  \n",
       "4  380.7  382.0  383.5  382.4  \n",
       "\n",
       "[5 rows x 138 columns]"
      ]
     },
     "execution_count": 7,
     "metadata": {},
     "output_type": "execute_result"
    }
   ],
   "source": [
    "Valid.head()"
   ]
  },
  {
   "cell_type": "markdown",
   "metadata": {},
   "source": [
    "Saving to disk"
   ]
  },
  {
   "cell_type": "code",
   "execution_count": 8,
   "metadata": {},
   "outputs": [],
   "source": [
    "save_path = './data/tmp_analysis/{0}'.format(task_name)\n",
    "save_train_path = save_path + '_train.csv'\n",
    "save_test_path = save_path + '_test.csv'\n",
    "save_valid_path = save_path + '_valid.csv'\n",
    "\n",
    "\n",
    "Train.to_csv(save_train_path)\n",
    "Test.to_csv(save_test_path)\n",
    "Valid.to_csv(save_valid_path)"
   ]
  },
  {
   "cell_type": "markdown",
   "metadata": {},
   "source": [
    "## PCA Fit\n",
    "I found 32 components to be roughly the inflection curve.\n",
    "I am also creating an 18  component variant just in case we want a direct comparison with action units"
   ]
  },
  {
   "cell_type": "code",
   "execution_count": 9,
   "metadata": {},
   "outputs": [],
   "source": [
    "import pickle\n",
    "from sklearn.decomposition import PCA"
   ]
  },
  {
   "cell_type": "code",
   "execution_count": 10,
   "metadata": {},
   "outputs": [],
   "source": [
    "save_path = './data/tmp_analysis/{0}'.format(task_name)\n",
    "save_train_path = save_path + '_train.csv'\n",
    "save_test_path = save_path + '_test.csv'\n",
    "save_valid_path = save_path + '_valid.csv'\n",
    "\n",
    "\n",
    "Train = pd.read_csv(save_train_path)\n",
    "Test = pd.read_csv(save_test_path)\n",
    "Valid = pd.read_csv(save_valid_path)"
   ]
  },
  {
   "cell_type": "code",
   "execution_count": 11,
   "metadata": {},
   "outputs": [],
   "source": [
    "X = Train.to_numpy()[:,3:]"
   ]
  },
  {
   "cell_type": "code",
   "execution_count": 12,
   "metadata": {},
   "outputs": [
    {
     "name": "stdout",
     "output_type": "stream",
     "text": [
      "[3.13716362e+06 1.15707806e+06 6.28820827e+04 2.86924022e+04\n",
      " 1.33428137e+04 7.51765107e+03 4.51031746e+03 1.88007897e+03\n",
      " 1.26596297e+03 8.32617089e+02 6.71750219e+02 5.48990323e+02\n",
      " 4.53613797e+02 3.26996264e+02 2.96211621e+02 2.51674654e+02\n",
      " 1.86077785e+02 1.60660862e+02 1.33889604e+02 1.11112003e+02\n",
      " 9.91051455e+01 8.23253765e+01 7.77203918e+01 7.13525794e+01\n",
      " 5.45803767e+01 4.91155499e+01 4.54319876e+01 3.89493847e+01\n",
      " 3.13900346e+01 2.77706231e+01 2.51852337e+01 2.01691516e+01]\n"
     ]
    }
   ],
   "source": [
    "pca_n_32 = PCA(n_components=32)\n",
    "face_pca_n_32 = pca_n_32.fit(X)\n",
    "\n",
    "print(face_pca_n_32.explained_variance_)"
   ]
  },
  {
   "cell_type": "code",
   "execution_count": 13,
   "metadata": {},
   "outputs": [],
   "source": [
    "pickle.dump(face_pca_n_32,open(model_path+'pca_n_32.p','wb'))"
   ]
  },
  {
   "cell_type": "code",
   "execution_count": 14,
   "metadata": {},
   "outputs": [
    {
     "name": "stdout",
     "output_type": "stream",
     "text": [
      "[3137163.62342288 1157078.05718031   62882.08273717   28692.40220822\n",
      "   13342.81367864]\n"
     ]
    }
   ],
   "source": [
    "pca_n_5 = PCA(n_components=5)\n",
    "face_pca_n_5 = pca_n_5.fit(X)\n",
    "\n",
    "print(face_pca_n_5.explained_variance_)"
   ]
  },
  {
   "cell_type": "code",
   "execution_count": 15,
   "metadata": {},
   "outputs": [],
   "source": [
    "pickle.dump(face_pca_n_5,open(model_path+'pca_n_5.p','wb'))"
   ]
  },
  {
   "cell_type": "markdown",
   "metadata": {},
   "source": [
    "# Autoencoder\n"
   ]
  },
  {
   "cell_type": "markdown",
   "metadata": {},
   "source": [
    "32 Wide encoder"
   ]
  },
  {
   "cell_type": "code",
   "execution_count": 47,
   "metadata": {},
   "outputs": [],
   "source": [
    "import keras\n",
    "from keras import layers\n",
    "\n",
    "import matplotlib.pyplot as plt"
   ]
  },
  {
   "cell_type": "code",
   "execution_count": 17,
   "metadata": {},
   "outputs": [],
   "source": [
    "X = Train.to_numpy()[:,3:]\n",
    "Xtest = Test.to_numpy()[:,3:]\n",
    "Xvalid = Valid.to_numpy()[:,3:]"
   ]
  },
  {
   "cell_type": "code",
   "execution_count": 18,
   "metadata": {},
   "outputs": [
    {
     "name": "stdout",
     "output_type": "stream",
     "text": [
      "(169807, 136)\n"
     ]
    }
   ],
   "source": [
    "print(X.shape)"
   ]
  },
  {
   "cell_type": "code",
   "execution_count": 19,
   "metadata": {},
   "outputs": [
    {
     "name": "stdout",
     "output_type": "stream",
     "text": [
      "WARNING:tensorflow:From C:\\Users\\curth\\Anaconda3\\lib\\site-packages\\keras\\backend\\tensorflow_backend.py:74: The name tf.get_default_graph is deprecated. Please use tf.compat.v1.get_default_graph instead.\n",
      "\n",
      "WARNING:tensorflow:From C:\\Users\\curth\\Anaconda3\\lib\\site-packages\\keras\\backend\\tensorflow_backend.py:517: The name tf.placeholder is deprecated. Please use tf.compat.v1.placeholder instead.\n",
      "\n",
      "WARNING:tensorflow:From C:\\Users\\curth\\Anaconda3\\lib\\site-packages\\keras\\backend\\tensorflow_backend.py:4138: The name tf.random_uniform is deprecated. Please use tf.random.uniform instead.\n",
      "\n"
     ]
    }
   ],
   "source": [
    "input_dim = X.shape[1]\n",
    "encoding_dim = 32\n",
    "\n",
    "input_layer = keras.Input(shape=(input_dim,))\n",
    "encoded_layer = layers.Dense(encoding_dim, activation='relu')(input_layer)\n",
    "decoded_layer = layers.Dense(input_dim, activation='relu')(encoded_layer)\n",
    "\n",
    "autoencoder_32 = keras.Model(input_layer,decoded_layer)\n",
    "\n",
    "encoder_32 = keras.Model(input_layer, encoded_layer)"
   ]
  },
  {
   "cell_type": "code",
   "execution_count": 20,
   "metadata": {},
   "outputs": [
    {
     "name": "stdout",
     "output_type": "stream",
     "text": [
      "WARNING:tensorflow:From C:\\Users\\curth\\Anaconda3\\lib\\site-packages\\keras\\optimizers.py:790: The name tf.train.Optimizer is deprecated. Please use tf.compat.v1.train.Optimizer instead.\n",
      "\n",
      "WARNING:tensorflow:From C:\\Users\\curth\\Anaconda3\\lib\\site-packages\\keras\\backend\\tensorflow_backend.py:3376: The name tf.log is deprecated. Please use tf.math.log instead.\n",
      "\n",
      "WARNING:tensorflow:From C:\\Users\\curth\\Anaconda3\\lib\\site-packages\\tensorflow_core\\python\\ops\\nn_impl.py:183: where (from tensorflow.python.ops.array_ops) is deprecated and will be removed in a future version.\n",
      "Instructions for updating:\n",
      "Use tf.where in 2.0, which has the same broadcast rule as np.where\n"
     ]
    }
   ],
   "source": [
    "autoencoder_32.compile(optimizer='adam',\n",
    "                    loss='binary_crossentropy')"
   ]
  },
  {
   "cell_type": "code",
   "execution_count": 21,
   "metadata": {},
   "outputs": [
    {
     "name": "stdout",
     "output_type": "stream",
     "text": [
      "_________________________________________________________________\n",
      "Layer (type)                 Output Shape              Param #   \n",
      "=================================================================\n",
      "input_1 (InputLayer)         (None, 136)               0         \n",
      "_________________________________________________________________\n",
      "dense_1 (Dense)              (None, 32)                4384      \n",
      "_________________________________________________________________\n",
      "dense_2 (Dense)              (None, 136)               4488      \n",
      "=================================================================\n",
      "Total params: 8,872\n",
      "Trainable params: 8,872\n",
      "Non-trainable params: 0\n",
      "_________________________________________________________________\n"
     ]
    }
   ],
   "source": [
    "autoencoder_32.summary()"
   ]
  },
  {
   "cell_type": "code",
   "execution_count": 23,
   "metadata": {},
   "outputs": [
    {
     "name": "stdout",
     "output_type": "stream",
     "text": [
      "WARNING:tensorflow:From C:\\Users\\curth\\Anaconda3\\lib\\site-packages\\keras\\backend\\tensorflow_backend.py:986: The name tf.assign_add is deprecated. Please use tf.compat.v1.assign_add instead.\n",
      "\n",
      "WARNING:tensorflow:From C:\\Users\\curth\\Anaconda3\\lib\\site-packages\\keras\\backend\\tensorflow_backend.py:973: The name tf.assign is deprecated. Please use tf.compat.v1.assign instead.\n",
      "\n",
      "WARNING:tensorflow:From C:\\Users\\curth\\Anaconda3\\lib\\site-packages\\keras\\backend\\tensorflow_backend.py:2741: The name tf.Session is deprecated. Please use tf.compat.v1.Session instead.\n",
      "\n",
      "Train on 169807 samples, validate on 41820 samples\n",
      "Epoch 1/4\n",
      "WARNING:tensorflow:From C:\\Users\\curth\\Anaconda3\\lib\\site-packages\\keras\\backend\\tensorflow_backend.py:174: The name tf.get_default_session is deprecated. Please use tf.compat.v1.get_default_session instead.\n",
      "\n",
      "WARNING:tensorflow:From C:\\Users\\curth\\Anaconda3\\lib\\site-packages\\keras\\backend\\tensorflow_backend.py:181: The name tf.ConfigProto is deprecated. Please use tf.compat.v1.ConfigProto instead.\n",
      "\n",
      "WARNING:tensorflow:From C:\\Users\\curth\\Anaconda3\\lib\\site-packages\\keras\\backend\\tensorflow_backend.py:190: The name tf.global_variables is deprecated. Please use tf.compat.v1.global_variables instead.\n",
      "\n",
      "WARNING:tensorflow:From C:\\Users\\curth\\Anaconda3\\lib\\site-packages\\keras\\backend\\tensorflow_backend.py:199: The name tf.is_variable_initialized is deprecated. Please use tf.compat.v1.is_variable_initialized instead.\n",
      "\n",
      "WARNING:tensorflow:From C:\\Users\\curth\\Anaconda3\\lib\\site-packages\\keras\\backend\\tensorflow_backend.py:206: The name tf.variables_initializer is deprecated. Please use tf.compat.v1.variables_initializer instead.\n",
      "\n"
     ]
    },
    {
     "name": "stdout",
     "output_type": "stream",
     "text": [
      " 73664/169807 [============>.................] - ETA: 23:23 - loss: -907.310 - ETA: 6:24 - loss: -1119.302 - ETA: 3:31 - loss: -1263.605 - ETA: 2:33 - loss: -1447.230 - ETA: 2:04 - loss: -1646.020 - ETA: 1:46 - loss: -1832.046 - ETA: 1:34 - loss: -1981.589 - ETA: 1:25 - loss: -2120.452 - ETA: 1:19 - loss: -2270.677 - ETA: 1:14 - loss: -2387.013 - ETA: 1:10 - loss: -2490.874 - ETA: 1:07 - loss: -2587.152 - ETA: 1:05 - loss: -2683.581 - ETA: 1:02 - loss: -2768.844 - ETA: 1:00 - loss: -2842.418 - ETA: 59s - loss: -2915.557 - ETA: 57s - loss: -2978.45 - ETA: 56s - loss: -3040.89 - ETA: 55s - loss: -3096.00 - ETA: 54s - loss: -3145.15 - ETA: 53s - loss: -3189.99 - ETA: 52s - loss: -3227.45 - ETA: 51s - loss: -3262.04 - ETA: 50s - loss: -3295.31 - ETA: 50s - loss: -3326.37 - ETA: 49s - loss: -3353.59 - ETA: 49s - loss: -3377.19 - ETA: 48s - loss: -3400.99 - ETA: 48s - loss: -3421.99 - ETA: 47s - loss: -3443.95 - ETA: 47s - loss: -3462.60 - ETA: 46s - loss: -3483.71 - ETA: 46s - loss: -3501.52 - ETA: 45s - loss: -3517.91 - ETA: 45s - loss: -3535.58 - ETA: 45s - loss: -3555.19 - ETA: 44s - loss: -3576.51 - ETA: 44s - loss: -3597.22 - ETA: 44s - loss: -3615.20 - ETA: 43s - loss: -3634.48 - ETA: 43s - loss: -3651.08 - ETA: 43s - loss: -3669.85 - ETA: 42s - loss: -3686.78 - ETA: 42s - loss: -3704.89 - ETA: 42s - loss: -3726.04 - ETA: 42s - loss: -3745.55 - ETA: 41s - loss: -3762.94 - ETA: 41s - loss: -3782.57 - ETA: 41s - loss: -3800.97 - ETA: 41s - loss: -3818.66 - ETA: 40s - loss: -3835.71 - ETA: 40s - loss: -3854.92 - ETA: 40s - loss: -3871.90 - ETA: 40s - loss: -3890.35 - ETA: 40s - loss: -3907.47 - ETA: 40s - loss: -3927.29 - ETA: 39s - loss: -3945.77 - ETA: 39s - loss: -3963.72 - ETA: 39s - loss: -3981.79 - ETA: 39s - loss: -3999.29 - ETA: 39s - loss: -4016.43 - ETA: 39s - loss: -4032.99 - ETA: 38s - loss: -4049.61 - ETA: 38s - loss: -4064.92 - ETA: 38s - loss: -4080.44 - ETA: 38s - loss: -4095.46 - ETA: 38s - loss: -4109.42 - ETA: 38s - loss: -4123.21 - ETA: 38s - loss: -4138.95 - ETA: 37s - loss: -4151.92 - ETA: 37s - loss: -4164.69 - ETA: 37s - loss: -4178.40 - ETA: 37s - loss: -4192.48 - ETA: 37s - loss: -4204.81 - ETA: 37s - loss: -4217.48 - ETA: 37s - loss: -4229.86 - ETA: 37s - loss: -4240.27 - ETA: 37s - loss: -4250.92 - ETA: 36s - loss: -4261.47 - ETA: 36s - loss: -4272.25 - ETA: 36s - loss: -4282.85 - ETA: 36s - loss: -4292.73 - ETA: 36s - loss: -4303.68 - ETA: 36s - loss: -4315.02 - ETA: 36s - loss: -4327.16 - ETA: 36s - loss: -4338.69 - ETA: 36s - loss: -4350.11 - ETA: 35s - loss: -4359.38 - ETA: 35s - loss: -4369.24 - ETA: 35s - loss: -4379.68 - ETA: 35s - loss: -4385.98 - ETA: 35s - loss: -4395.95 - ETA: 35s - loss: -4404.14 - ETA: 35s - loss: -4413.70 - ETA: 35s - loss: -4422.21 - ETA: 35s - loss: -4430.95 - ETA: 35s - loss: -4439.61 - ETA: 35s - loss: -4447.90 - ETA: 35s - loss: -4456.05 - ETA: 35s - loss: -4461.61 - ETA: 34s - loss: -4469.56 - ETA: 34s - loss: -4476.87 - ETA: 34s - loss: -4484.38 - ETA: 34s - loss: -4490.45 - ETA: 34s - loss: -4497.83 - ETA: 34s - loss: -4504.55 - ETA: 34s - loss: -4511.32 - ETA: 34s - loss: -4518.04 - ETA: 34s - loss: -4524.34 - ETA: 34s - loss: -4531.36 - ETA: 34s - loss: -4537.53 - ETA: 34s - loss: -4544.36 - ETA: 34s - loss: -4550.77 - ETA: 34s - loss: -4555.77 - ETA: 33s - loss: -4562.28 - ETA: 33s - loss: -4567.53 - ETA: 33s - loss: -4573.47 - ETA: 33s - loss: -4579.22 - ETA: 33s - loss: -4585.35 - ETA: 33s - loss: -4590.59 - ETA: 33s - loss: -4595.75 - ETA: 33s - loss: -4600.92 - ETA: 33s - loss: -4607.95 - ETA: 33s - loss: -4613.29 - ETA: 33s - loss: -4618.80 - ETA: 33s - loss: -4623.97 - ETA: 33s - loss: -4629.21 - ETA: 33s - loss: -4633.27 - ETA: 33s - loss: -4637.80 - ETA: 32s - loss: -4642.54 - ETA: 32s - loss: -4647.15 - ETA: 32s - loss: -4651.69 - ETA: 32s - loss: -4656.24 - ETA: 32s - loss: -4660.84 - ETA: 32s - loss: -4665.34 - ETA: 32s - loss: -4669.46 - ETA: 32s - loss: -4673.97 - ETA: 32s - loss: -4678.94 - ETA: 32s - loss: -4683.21 - ETA: 32s - loss: -4687.20 - ETA: 32s - loss: -4690.54 - ETA: 32s - loss: -4694.62 - ETA: 31s - loss: -4698.34 - ETA: 31s - loss: -4702.67 - ETA: 31s - loss: -4705.98 - ETA: 31s - loss: -4709.47 - ETA: 31s - loss: -4713.20 - ETA: 31s - loss: -4717.06 - ETA: 31s - loss: -4720.42 - ETA: 31s - loss: -4723.53 - ETA: 31s - loss: -4727.02 - ETA: 31s - loss: -4729.64 - ETA: 31s - loss: -4733.43 - ETA: 31s - loss: -4736.78 - ETA: 31s - loss: -4740.63 - ETA: 31s - loss: -4743.97 - ETA: 30s - loss: -4746.79 - ETA: 30s - loss: -4750.06 - ETA: 30s - loss: -4753.39 - ETA: 30s - loss: -4756.86 - ETA: 30s - loss: -4759.99 - ETA: 30s - loss: -4762.56 - ETA: 30s - loss: -4765.34 - ETA: 30s - loss: -4769.03 - ETA: 30s - loss: -4771.74 - ETA: 30s - loss: -4774.98 - ETA: 30s - loss: -4777.38 - ETA: 30s - loss: -4780.26 - ETA: 30s - loss: -4782.62 - ETA: 30s - loss: -4785.38 - ETA: 29s - loss: -4787.76 - ETA: 29s - loss: -4790.26 - ETA: 29s - loss: -4792.82 - ETA: 29s - loss: -4795.90 - ETA: 29s - loss: -4798.32 - ETA: 29s - loss: -4800.93 - ETA: 29s - loss: -4803.19 - ETA: 29s - loss: -4805.76 - ETA: 29s - loss: -4808.34 - ETA: 29s - loss: -4810.88 - ETA: 29s - loss: -4812.80 - ETA: 29s - loss: -4815.42 - ETA: 29s - loss: -4817.55 - ETA: 29s - loss: -4820.08 - ETA: 28s - loss: -4822.78 - ETA: 28s - loss: -4825.32 - ETA: 28s - loss: -4828.01 - ETA: 28s - loss: -4829.98 - ETA: 28s - loss: -4831.90 - ETA: 28s - loss: -4834.06 - ETA: 28s - loss: -4836.06 - ETA: 28s - loss: -4838.51 - ETA: 28s - loss: -4840.68 - ETA: 28s - loss: -4842.82 - ETA: 28s - loss: -4844.74 - ETA: 28s - loss: -4847.07 - ETA: 28s - loss: -4848.94 - ETA: 28s - loss: -4850.88 - ETA: 27s - loss: -4852.37 - ETA: 27s - loss: -4854.54 - ETA: 27s - loss: -4856.44 - ETA: 27s - loss: -4858.65 - ETA: 27s - loss: -4860.42 - ETA: 27s - loss: -4862.34 - ETA: 27s - loss: -4864.33 - ETA: 27s - loss: -4866.11 - ETA: 27s - loss: -4867.69 - ETA: 27s - loss: -4869.33 - ETA: 27s - loss: -4871.44 - ETA: 27s - loss: -4873.33 - ETA: 27s - loss: -4875.40 - ETA: 27s - loss: -4877.20 - ETA: 27s - loss: -4879.14 - ETA: 27s - loss: -4881.35 - ETA: 26s - loss: -4883.33 - ETA: 26s - loss: -4885.02 - ETA: 26s - loss: -4886.85 - ETA: 26s - loss: -4889.25 - ETA: 26s - loss: -4891.18 - ETA: 26s - loss: -4893.29 - ETA: 26s - loss: -4894.64 - ETA: 26s - loss: -4896.59 - ETA: 26s - loss: -4898.18 - ETA: 26s - loss: -4899.72 - ETA: 26s - loss: -4901.35 - ETA: 26s - loss: -4902.89 - ETA: 26s - loss: -4904.67 - ETA: 26s - loss: -4906.14 - ETA: 26s - loss: -4907.38 - ETA: 25s - loss: -4908.62 - ETA: 25s - loss: -4910.27 - ETA: 25s - loss: -4911.28 - ETA: 25s - loss: -4912.75 - ETA: 25s - loss: -4914.05 - ETA: 25s - loss: -4915.68 - ETA: 25s - loss: -4917.30 - ETA: 25s - loss: -4918.56 - ETA: 25s - loss: -4919.67 - ETA: 25s - loss: -4920.94 - ETA: 25s - loss: -4922.29 - ETA: 25s - loss: -4923.29 - ETA: 25s - loss: -4924.69 - ETA: 25s - loss: -4926.11 - ETA: 25s - loss: -4927.78 - ETA: 25s - loss: -4929.08 - ETA: 24s - loss: -4930.27 - ETA: 24s - loss: -4931.50 - ETA: 24s - loss: -4932.80 - ETA: 24s - loss: -4934.35 - ETA: 24s - loss: -4935.47 - ETA: 24s - loss: -4936.68 - ETA: 24s - loss: -4937.90 - ETA: 24s - loss: -4939.54 - ETA: 24s - loss: -4941.27 - ETA: 24s - loss: -4943.29 - ETA: 24s - loss: -4945.29 - ETA: 24s - loss: -4946.87 - ETA: 24s - loss: -4948.36 - ETA: 24s - loss: -4949.99 - ETA: 24s - loss: -4951.54 - ETA: 24s - loss: -4953.27 - ETA: 23s - loss: -4954.50 - ETA: 23s - loss: -4956.06 - ETA: 23s - loss: -4957.82 - ETA: 23s - loss: -4959.42 - ETA: 23s - loss: -4960.59 - ETA: 23s - loss: -4961.85 - ETA: 23s - loss: -4963.05 - ETA: 23s - loss: -4964.32 - ETA: 23s - loss: -4965.82 - ETA: 23s - loss: -4967.49 - ETA: 23s - loss: -4969.31 - ETA: 23s - loss: -4970.83 - ETA: 23s - loss: -4972.27 - ETA: 23s - loss: -4973.70 - ETA: 23s - loss: -4975.23 - ETA: 22s - loss: -4976.57 - ETA: 22s - loss: -4977.80 - ETA: 22s - loss: -4979.33 - ETA: 22s - loss: -4980.96 - ETA: 22s - loss: -4982.62 - ETA: 22s - loss: -4983.82 - ETA: 22s - loss: -4984.97 - ETA: 22s - loss: -4986.41 - ETA: 22s - loss: -4987.53 - ETA: 22s - loss: -4989.08 - ETA: 22s - loss: -4990.34 - ETA: 22s - loss: -4991.81 - ETA: 22s - loss: -4992.98 - ETA: 22s - loss: -4994.2299"
     ]
    },
    {
     "name": "stdout",
     "output_type": "stream",
     "text": [
      "147456/169807 [=========================>....] - ETA: 22s - loss: -4995.59 - ETA: 22s - loss: -4997.28 - ETA: 22s - loss: -4998.41 - ETA: 21s - loss: -4999.68 - ETA: 21s - loss: -5000.73 - ETA: 21s - loss: -5002.14 - ETA: 21s - loss: -5003.37 - ETA: 21s - loss: -5004.84 - ETA: 21s - loss: -5005.80 - ETA: 21s - loss: -5007.11 - ETA: 21s - loss: -5008.08 - ETA: 21s - loss: -5009.22 - ETA: 21s - loss: -5010.50 - ETA: 21s - loss: -5011.52 - ETA: 21s - loss: -5012.68 - ETA: 21s - loss: -5013.99 - ETA: 21s - loss: -5015.26 - ETA: 21s - loss: -5016.70 - ETA: 21s - loss: -5018.20 - ETA: 20s - loss: -5019.28 - ETA: 20s - loss: -5020.26 - ETA: 20s - loss: -5021.70 - ETA: 20s - loss: -5022.91 - ETA: 20s - loss: -5023.84 - ETA: 20s - loss: -5025.20 - ETA: 20s - loss: -5026.30 - ETA: 20s - loss: -5027.45 - ETA: 20s - loss: -5028.46 - ETA: 20s - loss: -5029.46 - ETA: 20s - loss: -5030.46 - ETA: 20s - loss: -5031.42 - ETA: 20s - loss: -5032.83 - ETA: 20s - loss: -5033.87 - ETA: 20s - loss: -5035.02 - ETA: 20s - loss: -5036.05 - ETA: 19s - loss: -5037.06 - ETA: 19s - loss: -5037.90 - ETA: 19s - loss: -5038.94 - ETA: 19s - loss: -5040.00 - ETA: 19s - loss: -5040.88 - ETA: 19s - loss: -5041.55 - ETA: 19s - loss: -5042.75 - ETA: 19s - loss: -5043.98 - ETA: 19s - loss: -5044.53 - ETA: 19s - loss: -5045.37 - ETA: 19s - loss: -5046.23 - ETA: 19s - loss: -5047.28 - ETA: 19s - loss: -5048.26 - ETA: 19s - loss: -5049.10 - ETA: 19s - loss: -5050.06 - ETA: 19s - loss: -5050.79 - ETA: 18s - loss: -5051.54 - ETA: 18s - loss: -5052.47 - ETA: 18s - loss: -5053.33 - ETA: 18s - loss: -5054.36 - ETA: 18s - loss: -5055.14 - ETA: 18s - loss: -5055.90 - ETA: 18s - loss: -5056.69 - ETA: 18s - loss: -5057.58 - ETA: 18s - loss: -5058.42 - ETA: 18s - loss: -5059.27 - ETA: 18s - loss: -5060.13 - ETA: 18s - loss: -5060.91 - ETA: 18s - loss: -5061.71 - ETA: 18s - loss: -5062.49 - ETA: 18s - loss: -5063.55 - ETA: 18s - loss: -5064.50 - ETA: 18s - loss: -5065.20 - ETA: 17s - loss: -5066.07 - ETA: 17s - loss: -5067.22 - ETA: 17s - loss: -5067.69 - ETA: 17s - loss: -5068.31 - ETA: 17s - loss: -5069.19 - ETA: 17s - loss: -5070.11 - ETA: 17s - loss: -5070.97 - ETA: 17s - loss: -5071.75 - ETA: 17s - loss: -5072.69 - ETA: 17s - loss: -5073.34 - ETA: 17s - loss: -5073.93 - ETA: 17s - loss: -5074.79 - ETA: 17s - loss: -5075.42 - ETA: 17s - loss: -5076.21 - ETA: 17s - loss: -5076.98 - ETA: 17s - loss: -5078.02 - ETA: 16s - loss: -5078.94 - ETA: 16s - loss: -5079.78 - ETA: 16s - loss: -5080.36 - ETA: 16s - loss: -5081.07 - ETA: 16s - loss: -5081.86 - ETA: 16s - loss: -5082.74 - ETA: 16s - loss: -5083.61 - ETA: 16s - loss: -5084.42 - ETA: 16s - loss: -5085.33 - ETA: 16s - loss: -5086.06 - ETA: 16s - loss: -5086.67 - ETA: 16s - loss: -5087.36 - ETA: 16s - loss: -5088.10 - ETA: 16s - loss: -5088.70 - ETA: 16s - loss: -5089.27 - ETA: 16s - loss: -5089.86 - ETA: 16s - loss: -5090.76 - ETA: 15s - loss: -5091.62 - ETA: 15s - loss: -5092.26 - ETA: 15s - loss: -5092.65 - ETA: 15s - loss: -5093.14 - ETA: 15s - loss: -5093.94 - ETA: 15s - loss: -5094.49 - ETA: 15s - loss: -5095.25 - ETA: 15s - loss: -5095.80 - ETA: 15s - loss: -5096.59 - ETA: 15s - loss: -5097.21 - ETA: 15s - loss: -5097.90 - ETA: 15s - loss: -5098.59 - ETA: 15s - loss: -5099.34 - ETA: 15s - loss: -5099.92 - ETA: 15s - loss: -5100.58 - ETA: 15s - loss: -5101.07 - ETA: 15s - loss: -5101.78 - ETA: 15s - loss: -5102.24 - ETA: 14s - loss: -5102.89 - ETA: 14s - loss: -5103.53 - ETA: 14s - loss: -5104.28 - ETA: 14s - loss: -5104.93 - ETA: 14s - loss: -5105.69 - ETA: 14s - loss: -5106.17 - ETA: 14s - loss: -5106.63 - ETA: 14s - loss: -5107.15 - ETA: 14s - loss: -5107.65 - ETA: 14s - loss: -5108.50 - ETA: 14s - loss: -5109.15 - ETA: 14s - loss: -5109.78 - ETA: 14s - loss: -5110.37 - ETA: 14s - loss: -5110.97 - ETA: 14s - loss: -5111.78 - ETA: 14s - loss: -5112.37 - ETA: 14s - loss: -5113.08 - ETA: 13s - loss: -5113.71 - ETA: 13s - loss: -5114.23 - ETA: 13s - loss: -5114.89 - ETA: 13s - loss: -5115.47 - ETA: 13s - loss: -5115.91 - ETA: 13s - loss: -5116.63 - ETA: 13s - loss: -5117.43 - ETA: 13s - loss: -5118.04 - ETA: 13s - loss: -5118.71 - ETA: 13s - loss: -5119.32 - ETA: 13s - loss: -5119.75 - ETA: 13s - loss: -5120.43 - ETA: 13s - loss: -5120.91 - ETA: 13s - loss: -5121.41 - ETA: 13s - loss: -5122.17 - ETA: 13s - loss: -5122.63 - ETA: 13s - loss: -5123.23 - ETA: 12s - loss: -5123.85 - ETA: 12s - loss: -5124.50 - ETA: 12s - loss: -5125.07 - ETA: 12s - loss: -5125.54 - ETA: 12s - loss: -5126.09 - ETA: 12s - loss: -5126.54 - ETA: 12s - loss: -5127.11 - ETA: 12s - loss: -5127.70 - ETA: 12s - loss: -5128.23 - ETA: 12s - loss: -5128.86 - ETA: 12s - loss: -5129.66 - ETA: 12s - loss: -5130.19 - ETA: 12s - loss: -5130.56 - ETA: 12s - loss: -5131.05 - ETA: 12s - loss: -5131.50 - ETA: 12s - loss: -5131.72 - ETA: 12s - loss: -5132.09 - ETA: 11s - loss: -5132.67 - ETA: 11s - loss: -5133.20 - ETA: 11s - loss: -5133.73 - ETA: 11s - loss: -5134.20 - ETA: 11s - loss: -5134.61 - ETA: 11s - loss: -5134.94 - ETA: 11s - loss: -5135.35 - ETA: 11s - loss: -5135.51 - ETA: 11s - loss: -5135.78 - ETA: 11s - loss: -5136.39 - ETA: 11s - loss: -5136.76 - ETA: 11s - loss: -5137.18 - ETA: 11s - loss: -5137.66 - ETA: 11s - loss: -5138.38 - ETA: 11s - loss: -5138.78 - ETA: 11s - loss: -5139.33 - ETA: 11s - loss: -5139.41 - ETA: 11s - loss: -5140.09 - ETA: 11s - loss: -5140.81 - ETA: 11s - loss: -5141.42 - ETA: 10s - loss: -5142.08 - ETA: 10s - loss: -5142.59 - ETA: 10s - loss: -5142.84 - ETA: 10s - loss: -5143.20 - ETA: 10s - loss: -5143.70 - ETA: 10s - loss: -5144.24 - ETA: 10s - loss: -5144.81 - ETA: 10s - loss: -5145.23 - ETA: 10s - loss: -5145.80 - ETA: 10s - loss: -5146.18 - ETA: 10s - loss: -5146.46 - ETA: 10s - loss: -5146.70 - ETA: 10s - loss: -5147.21 - ETA: 10s - loss: -5147.71 - ETA: 10s - loss: -5148.14 - ETA: 10s - loss: -5148.40 - ETA: 9s - loss: -5148.6676 - ETA: 9s - loss: -5148.907 - ETA: 9s - loss: -5149.315 - ETA: 9s - loss: -5149.776 - ETA: 9s - loss: -5150.133 - ETA: 9s - loss: -5150.477 - ETA: 9s - loss: -5151.037 - ETA: 9s - loss: -5151.472 - ETA: 9s - loss: -5151.914 - ETA: 9s - loss: -5152.377 - ETA: 9s - loss: -5152.962 - ETA: 9s - loss: -5153.541 - ETA: 9s - loss: -5154.118 - ETA: 9s - loss: -5154.674 - ETA: 9s - loss: -5155.243 - ETA: 9s - loss: -5155.698 - ETA: 9s - loss: -5156.291 - ETA: 8s - loss: -5156.725 - ETA: 8s - loss: -5157.106 - ETA: 8s - loss: -5157.607 - ETA: 8s - loss: -5157.855 - ETA: 8s - loss: -5158.210 - ETA: 8s - loss: -5158.590 - ETA: 8s - loss: -5159.029 - ETA: 8s - loss: -5159.357 - ETA: 8s - loss: -5159.708 - ETA: 8s - loss: -5160.057 - ETA: 8s - loss: -5160.572 - ETA: 8s - loss: -5160.923 - ETA: 8s - loss: -5161.440 - ETA: 8s - loss: -5162.046 - ETA: 8s - loss: -5162.618 - ETA: 8s - loss: -5163.144 - ETA: 8s - loss: -5163.806 - ETA: 7s - loss: -5164.612 - ETA: 7s - loss: -5165.199 - ETA: 7s - loss: -5165.721 - ETA: 7s - loss: -5166.321 - ETA: 7s - loss: -5166.862 - ETA: 7s - loss: -5167.507 - ETA: 7s - loss: -5168.214 - ETA: 7s - loss: -5168.924 - ETA: 7s - loss: -5169.502 - ETA: 7s - loss: -5170.294 - ETA: 7s - loss: -5170.797 - ETA: 7s - loss: -5171.356 - ETA: 7s - loss: -5171.968 - ETA: 7s - loss: -5172.397 - ETA: 7s - loss: -5172.962 - ETA: 7s - loss: -5173.544 - ETA: 7s - loss: -5174.150 - ETA: 7s - loss: -5174.666 - ETA: 6s - loss: -5175.468 - ETA: 6s - loss: -5176.042 - ETA: 6s - loss: -5176.601 - ETA: 6s - loss: -5177.195 - ETA: 6s - loss: -5177.651 - ETA: 6s - loss: -5178.211 - ETA: 6s - loss: -5178.861 - ETA: 6s - loss: -5179.340 - ETA: 6s - loss: -5179.743 - ETA: 6s - loss: -5180.343 - ETA: 6s - loss: -5180.808 - ETA: 6s - loss: -5181.447 - ETA: 6s - loss: -5182.055 - ETA: 6s - loss: -5182.670 - ETA: 6s - loss: -5183.145 - ETA: 6s - loss: -5183.681 - ETA: 6s - loss: -5184.310 - ETA: 5s - loss: -5184.917 - ETA: 5s - loss: -5185.536 - ETA: 5s - loss: -5186.018 - ETA: 5s - loss: -5186.546 - ETA: 5s - loss: -5187.170 - ETA: 5s - loss: -5187.674 - ETA: 5s - loss: -5188.223 - ETA: 5s - loss: -5188.871 - ETA: 5s - loss: -5189.341 - ETA: 5s - loss: -5189.868 - ETA: 5s - loss: -5190.432 - ETA: 5s - loss: -5190.919 - ETA: 5s - loss: -5191.424 - ETA: 5s - loss: -5192.086 - ETA: 5s - loss: -5192.629 - ETA: 5s - loss: -5193.0361"
     ]
    },
    {
     "name": "stdout",
     "output_type": "stream",
     "text": [
      "169807/169807 [==============================] - ETA: 5s - loss: -5193.589 - ETA: 4s - loss: -5193.963 - ETA: 4s - loss: -5194.340 - ETA: 4s - loss: -5194.799 - ETA: 4s - loss: -5195.460 - ETA: 4s - loss: -5195.913 - ETA: 4s - loss: -5196.384 - ETA: 4s - loss: -5197.017 - ETA: 4s - loss: -5197.610 - ETA: 4s - loss: -5198.029 - ETA: 4s - loss: -5198.473 - ETA: 4s - loss: -5199.045 - ETA: 4s - loss: -5199.496 - ETA: 4s - loss: -5200.117 - ETA: 4s - loss: -5200.669 - ETA: 4s - loss: -5201.174 - ETA: 4s - loss: -5201.827 - ETA: 3s - loss: -5202.574 - ETA: 3s - loss: -5203.197 - ETA: 3s - loss: -5203.913 - ETA: 3s - loss: -5204.532 - ETA: 3s - loss: -5205.116 - ETA: 3s - loss: -5205.703 - ETA: 3s - loss: -5206.449 - ETA: 3s - loss: -5207.037 - ETA: 3s - loss: -5207.807 - ETA: 3s - loss: -5208.536 - ETA: 3s - loss: -5209.176 - ETA: 3s - loss: -5209.726 - ETA: 3s - loss: -5210.308 - ETA: 3s - loss: -5210.993 - ETA: 3s - loss: -5211.567 - ETA: 3s - loss: -5212.143 - ETA: 3s - loss: -5212.699 - ETA: 3s - loss: -5213.242 - ETA: 2s - loss: -5213.796 - ETA: 2s - loss: -5214.436 - ETA: 2s - loss: -5214.993 - ETA: 2s - loss: -5215.462 - ETA: 2s - loss: -5216.099 - ETA: 2s - loss: -5216.753 - ETA: 2s - loss: -5217.336 - ETA: 2s - loss: -5217.882 - ETA: 2s - loss: -5218.527 - ETA: 2s - loss: -5219.177 - ETA: 2s - loss: -5219.870 - ETA: 2s - loss: -5220.550 - ETA: 2s - loss: -5221.159 - ETA: 2s - loss: -5221.831 - ETA: 2s - loss: -5222.392 - ETA: 2s - loss: -5223.010 - ETA: 2s - loss: -5223.636 - ETA: 1s - loss: -5224.129 - ETA: 1s - loss: -5224.814 - ETA: 1s - loss: -5225.389 - ETA: 1s - loss: -5226.066 - ETA: 1s - loss: -5226.569 - ETA: 1s - loss: -5227.239 - ETA: 1s - loss: -5227.834 - ETA: 1s - loss: -5228.434 - ETA: 1s - loss: -5228.904 - ETA: 1s - loss: -5229.577 - ETA: 1s - loss: -5230.124 - ETA: 1s - loss: -5230.583 - ETA: 1s - loss: -5231.150 - ETA: 1s - loss: -5231.591 - ETA: 1s - loss: -5232.288 - ETA: 1s - loss: -5232.786 - ETA: 1s - loss: -5233.337 - ETA: 0s - loss: -5233.893 - ETA: 0s - loss: -5234.341 - ETA: 0s - loss: -5234.972 - ETA: 0s - loss: -5235.471 - ETA: 0s - loss: -5236.062 - ETA: 0s - loss: -5236.515 - ETA: 0s - loss: -5237.069 - ETA: 0s - loss: -5237.557 - ETA: 0s - loss: -5238.116 - ETA: 0s - loss: -5238.762 - ETA: 0s - loss: -5239.144 - ETA: 0s - loss: -5239.843 - ETA: 0s - loss: -5240.244 - ETA: 0s - loss: -5240.718 - ETA: 0s - loss: -5241.323 - ETA: 0s - loss: -5241.801 - ETA: 0s - loss: -5242.443 - ETA: 0s - loss: -5242.881 - 40s 235us/step - loss: -5242.8889 - val_loss: -5603.5467\n",
      "Epoch 2/4\n"
     ]
    },
    {
     "name": "stdout",
     "output_type": "stream",
     "text": [
      " 74304/169807 [============>.................] - ETA: 1:07 - loss: -5552.142 - ETA: 42s - loss: -5536.557 - ETA: 38s - loss: -5579.89 - ETA: 37s - loss: -5581.55 - ETA: 37s - loss: -5573.17 - ETA: 37s - loss: -5581.64 - ETA: 37s - loss: -5591.95 - ETA: 36s - loss: -5582.16 - ETA: 36s - loss: -5591.89 - ETA: 36s - loss: -5595.08 - ETA: 36s - loss: -5597.17 - ETA: 36s - loss: -5599.15 - ETA: 36s - loss: -5604.64 - ETA: 36s - loss: -5603.80 - ETA: 36s - loss: -5611.58 - ETA: 35s - loss: -5616.17 - ETA: 35s - loss: -5615.58 - ETA: 35s - loss: -5615.53 - ETA: 35s - loss: -5618.06 - ETA: 35s - loss: -5616.41 - ETA: 35s - loss: -5618.25 - ETA: 35s - loss: -5615.13 - ETA: 35s - loss: -5615.36 - ETA: 35s - loss: -5612.41 - ETA: 35s - loss: -5610.67 - ETA: 35s - loss: -5611.72 - ETA: 35s - loss: -5612.59 - ETA: 35s - loss: -5614.16 - ETA: 34s - loss: -5616.00 - ETA: 34s - loss: -5613.83 - ETA: 34s - loss: -5613.11 - ETA: 34s - loss: -5612.48 - ETA: 34s - loss: -5610.86 - ETA: 34s - loss: -5611.71 - ETA: 34s - loss: -5610.52 - ETA: 34s - loss: -5611.31 - ETA: 34s - loss: -5606.54 - ETA: 34s - loss: -5606.93 - ETA: 34s - loss: -5605.64 - ETA: 34s - loss: -5605.01 - ETA: 34s - loss: -5604.97 - ETA: 34s - loss: -5604.26 - ETA: 33s - loss: -5604.04 - ETA: 33s - loss: -5601.20 - ETA: 33s - loss: -5601.10 - ETA: 33s - loss: -5601.17 - ETA: 33s - loss: -5602.02 - ETA: 33s - loss: -5600.62 - ETA: 33s - loss: -5599.24 - ETA: 33s - loss: -5598.00 - ETA: 33s - loss: -5597.71 - ETA: 33s - loss: -5596.76 - ETA: 33s - loss: -5596.38 - ETA: 33s - loss: -5595.51 - ETA: 33s - loss: -5593.81 - ETA: 33s - loss: -5593.05 - ETA: 33s - loss: -5593.36 - ETA: 32s - loss: -5593.58 - ETA: 32s - loss: -5593.91 - ETA: 32s - loss: -5595.70 - ETA: 32s - loss: -5597.05 - ETA: 32s - loss: -5597.86 - ETA: 32s - loss: -5598.27 - ETA: 32s - loss: -5597.83 - ETA: 32s - loss: -5596.48 - ETA: 32s - loss: -5596.44 - ETA: 32s - loss: -5598.12 - ETA: 32s - loss: -5598.18 - ETA: 32s - loss: -5599.11 - ETA: 32s - loss: -5598.68 - ETA: 32s - loss: -5598.84 - ETA: 32s - loss: -5599.16 - ETA: 32s - loss: -5599.72 - ETA: 32s - loss: -5599.92 - ETA: 32s - loss: -5600.85 - ETA: 32s - loss: -5599.71 - ETA: 31s - loss: -5599.53 - ETA: 31s - loss: -5598.86 - ETA: 31s - loss: -5598.78 - ETA: 31s - loss: -5598.75 - ETA: 31s - loss: -5599.38 - ETA: 31s - loss: -5599.82 - ETA: 31s - loss: -5598.97 - ETA: 31s - loss: -5598.64 - ETA: 31s - loss: -5597.75 - ETA: 31s - loss: -5597.35 - ETA: 31s - loss: -5596.98 - ETA: 31s - loss: -5597.16 - ETA: 31s - loss: -5597.58 - ETA: 31s - loss: -5597.19 - ETA: 31s - loss: -5597.43 - ETA: 31s - loss: -5597.81 - ETA: 31s - loss: -5597.78 - ETA: 31s - loss: -5598.15 - ETA: 31s - loss: -5598.56 - ETA: 31s - loss: -5598.45 - ETA: 30s - loss: -5599.32 - ETA: 30s - loss: -5599.10 - ETA: 30s - loss: -5598.43 - ETA: 30s - loss: -5599.30 - ETA: 30s - loss: -5599.54 - ETA: 30s - loss: -5599.41 - ETA: 30s - loss: -5599.61 - ETA: 30s - loss: -5600.45 - ETA: 30s - loss: -5600.37 - ETA: 30s - loss: -5600.45 - ETA: 30s - loss: -5601.15 - ETA: 30s - loss: -5601.62 - ETA: 30s - loss: -5602.00 - ETA: 30s - loss: -5601.97 - ETA: 30s - loss: -5601.25 - ETA: 30s - loss: -5601.34 - ETA: 30s - loss: -5601.32 - ETA: 30s - loss: -5601.00 - ETA: 29s - loss: -5601.15 - ETA: 29s - loss: -5601.38 - ETA: 29s - loss: -5600.94 - ETA: 29s - loss: -5601.15 - ETA: 29s - loss: -5601.31 - ETA: 29s - loss: -5601.30 - ETA: 29s - loss: -5600.98 - ETA: 29s - loss: -5600.68 - ETA: 29s - loss: -5600.61 - ETA: 29s - loss: -5601.28 - ETA: 29s - loss: -5601.12 - ETA: 29s - loss: -5601.53 - ETA: 29s - loss: -5601.41 - ETA: 29s - loss: -5601.74 - ETA: 29s - loss: -5601.53 - ETA: 29s - loss: -5601.63 - ETA: 29s - loss: -5602.07 - ETA: 29s - loss: -5601.73 - ETA: 28s - loss: -5602.14 - ETA: 28s - loss: -5602.21 - ETA: 28s - loss: -5602.54 - ETA: 28s - loss: -5602.01 - ETA: 28s - loss: -5602.33 - ETA: 28s - loss: -5602.46 - ETA: 28s - loss: -5602.77 - ETA: 28s - loss: -5602.69 - ETA: 28s - loss: -5602.98 - ETA: 28s - loss: -5602.70 - ETA: 28s - loss: -5603.16 - ETA: 28s - loss: -5603.21 - ETA: 28s - loss: -5603.32 - ETA: 28s - loss: -5603.81 - ETA: 28s - loss: -5603.04 - ETA: 28s - loss: -5603.54 - ETA: 28s - loss: -5603.54 - ETA: 28s - loss: -5603.65 - ETA: 28s - loss: -5603.29 - ETA: 27s - loss: -5603.68 - ETA: 27s - loss: -5603.37 - ETA: 27s - loss: -5603.30 - ETA: 27s - loss: -5603.80 - ETA: 27s - loss: -5604.09 - ETA: 27s - loss: -5604.35 - ETA: 27s - loss: -5604.23 - ETA: 27s - loss: -5603.77 - ETA: 27s - loss: -5603.11 - ETA: 27s - loss: -5603.02 - ETA: 27s - loss: -5603.43 - ETA: 27s - loss: -5603.16 - ETA: 27s - loss: -5602.96 - ETA: 27s - loss: -5602.93 - ETA: 27s - loss: -5603.18 - ETA: 27s - loss: -5603.28 - ETA: 27s - loss: -5603.00 - ETA: 27s - loss: -5602.68 - ETA: 27s - loss: -5603.18 - ETA: 27s - loss: -5602.95 - ETA: 26s - loss: -5602.69 - ETA: 26s - loss: -5603.31 - ETA: 26s - loss: -5603.47 - ETA: 26s - loss: -5603.44 - ETA: 26s - loss: -5603.89 - ETA: 26s - loss: -5603.59 - ETA: 26s - loss: -5603.64 - ETA: 26s - loss: -5603.28 - ETA: 26s - loss: -5602.66 - ETA: 26s - loss: -5602.30 - ETA: 26s - loss: -5602.07 - ETA: 26s - loss: -5602.43 - ETA: 26s - loss: -5602.44 - ETA: 26s - loss: -5602.66 - ETA: 26s - loss: -5602.97 - ETA: 26s - loss: -5602.47 - ETA: 26s - loss: -5602.34 - ETA: 26s - loss: -5602.41 - ETA: 26s - loss: -5602.52 - ETA: 25s - loss: -5601.93 - ETA: 25s - loss: -5602.04 - ETA: 25s - loss: -5602.01 - ETA: 25s - loss: -5601.86 - ETA: 25s - loss: -5601.61 - ETA: 25s - loss: -5602.30 - ETA: 25s - loss: -5602.54 - ETA: 25s - loss: -5602.64 - ETA: 25s - loss: -5602.54 - ETA: 25s - loss: -5602.45 - ETA: 25s - loss: -5602.55 - ETA: 25s - loss: -5602.38 - ETA: 25s - loss: -5602.59 - ETA: 25s - loss: -5602.46 - ETA: 25s - loss: -5603.00 - ETA: 25s - loss: -5603.06 - ETA: 25s - loss: -5602.56 - ETA: 25s - loss: -5602.69 - ETA: 24s - loss: -5603.11 - ETA: 24s - loss: -5602.94 - ETA: 24s - loss: -5603.26 - ETA: 24s - loss: -5603.96 - ETA: 24s - loss: -5604.19 - ETA: 24s - loss: -5603.66 - ETA: 24s - loss: -5603.38 - ETA: 24s - loss: -5603.39 - ETA: 24s - loss: -5603.58 - ETA: 24s - loss: -5603.54 - ETA: 24s - loss: -5603.88 - ETA: 24s - loss: -5604.05 - ETA: 24s - loss: -5603.95 - ETA: 24s - loss: -5603.61 - ETA: 24s - loss: -5603.71 - ETA: 24s - loss: -5603.48 - ETA: 24s - loss: -5603.25 - ETA: 24s - loss: -5603.16 - ETA: 23s - loss: -5602.82 - ETA: 23s - loss: -5602.76 - ETA: 23s - loss: -5602.66 - ETA: 23s - loss: -5602.50 - ETA: 23s - loss: -5602.54 - ETA: 23s - loss: -5602.65 - ETA: 23s - loss: -5602.47 - ETA: 23s - loss: -5602.24 - ETA: 23s - loss: -5602.31 - ETA: 23s - loss: -5602.66 - ETA: 23s - loss: -5603.03 - ETA: 23s - loss: -5603.15 - ETA: 23s - loss: -5603.28 - ETA: 23s - loss: -5603.59 - ETA: 23s - loss: -5603.59 - ETA: 23s - loss: -5603.50 - ETA: 23s - loss: -5603.25 - ETA: 23s - loss: -5603.40 - ETA: 22s - loss: -5603.13 - ETA: 22s - loss: -5602.99 - ETA: 22s - loss: -5603.24 - ETA: 22s - loss: -5603.15 - ETA: 22s - loss: -5603.21 - ETA: 22s - loss: -5602.99 - ETA: 22s - loss: -5603.11 - ETA: 22s - loss: -5602.75 - ETA: 22s - loss: -5602.45 - ETA: 22s - loss: -5602.83 - ETA: 22s - loss: -5602.64 - ETA: 22s - loss: -5602.91 - ETA: 22s - loss: -5603.05 - ETA: 22s - loss: -5603.19 - ETA: 22s - loss: -5603.33 - ETA: 22s - loss: -5603.48 - ETA: 22s - loss: -5603.46 - ETA: 22s - loss: -5603.40 - ETA: 22s - loss: -5603.67 - ETA: 21s - loss: -5603.40 - ETA: 21s - loss: -5603.51 - ETA: 21s - loss: -5603.76 - ETA: 21s - loss: -5603.34 - ETA: 21s - loss: -5603.72 - ETA: 21s - loss: -5603.88 - ETA: 21s - loss: -5604.15 - ETA: 21s - loss: -5604.23 - ETA: 21s - loss: -5603.89 - ETA: 21s - loss: -5604.19 - ETA: 21s - loss: -5604.32 - ETA: 21s - loss: -5604.50 - ETA: 21s - loss: -5604.40 - ETA: 21s - loss: -5604.02 - ETA: 21s - loss: -5604.32 - ETA: 21s - loss: -5604.55 - ETA: 21s - loss: -5604.64 - ETA: 21s - loss: -5604.61 - ETA: 21s - loss: -5604.50 - ETA: 21s - loss: -5604.36 - ETA: 21s - loss: -5604.40 - ETA: 21s - loss: -5604.22 - ETA: 21s - loss: -5604.25 - ETA: 20s - loss: -5604.26 - ETA: 20s - loss: -5604.22 - ETA: 20s - loss: -5604.14 - ETA: 20s - loss: -5603.96 - ETA: 20s - loss: -5604.1399"
     ]
    },
    {
     "name": "stdout",
     "output_type": "stream",
     "text": [
      "148672/169807 [=========================>....] - ETA: 20s - loss: -5603.81 - ETA: 20s - loss: -5603.76 - ETA: 20s - loss: -5603.64 - ETA: 20s - loss: -5603.58 - ETA: 20s - loss: -5603.59 - ETA: 20s - loss: -5603.20 - ETA: 20s - loss: -5603.32 - ETA: 20s - loss: -5603.68 - ETA: 20s - loss: -5603.97 - ETA: 20s - loss: -5603.95 - ETA: 20s - loss: -5604.06 - ETA: 20s - loss: -5604.13 - ETA: 19s - loss: -5604.10 - ETA: 19s - loss: -5604.01 - ETA: 19s - loss: -5603.78 - ETA: 19s - loss: -5603.85 - ETA: 19s - loss: -5603.82 - ETA: 19s - loss: -5603.54 - ETA: 19s - loss: -5603.20 - ETA: 19s - loss: -5603.01 - ETA: 19s - loss: -5603.10 - ETA: 19s - loss: -5603.29 - ETA: 19s - loss: -5603.37 - ETA: 19s - loss: -5603.26 - ETA: 19s - loss: -5603.52 - ETA: 19s - loss: -5603.68 - ETA: 19s - loss: -5603.67 - ETA: 19s - loss: -5603.57 - ETA: 19s - loss: -5603.52 - ETA: 19s - loss: -5603.56 - ETA: 18s - loss: -5603.69 - ETA: 18s - loss: -5603.77 - ETA: 18s - loss: -5603.60 - ETA: 18s - loss: -5603.81 - ETA: 18s - loss: -5603.58 - ETA: 18s - loss: -5603.48 - ETA: 18s - loss: -5603.50 - ETA: 18s - loss: -5603.32 - ETA: 18s - loss: -5603.45 - ETA: 18s - loss: -5603.20 - ETA: 18s - loss: -5602.91 - ETA: 18s - loss: -5602.96 - ETA: 18s - loss: -5602.99 - ETA: 18s - loss: -5603.31 - ETA: 18s - loss: -5603.30 - ETA: 18s - loss: -5603.42 - ETA: 18s - loss: -5603.51 - ETA: 18s - loss: -5603.35 - ETA: 17s - loss: -5603.13 - ETA: 17s - loss: -5603.26 - ETA: 17s - loss: -5603.11 - ETA: 17s - loss: -5603.19 - ETA: 17s - loss: -5602.89 - ETA: 17s - loss: -5603.08 - ETA: 17s - loss: -5602.82 - ETA: 17s - loss: -5602.65 - ETA: 17s - loss: -5602.77 - ETA: 17s - loss: -5603.16 - ETA: 17s - loss: -5603.00 - ETA: 17s - loss: -5603.05 - ETA: 17s - loss: -5602.91 - ETA: 17s - loss: -5602.87 - ETA: 17s - loss: -5602.90 - ETA: 17s - loss: -5602.86 - ETA: 17s - loss: -5603.05 - ETA: 17s - loss: -5603.17 - ETA: 16s - loss: -5602.90 - ETA: 16s - loss: -5602.73 - ETA: 16s - loss: -5602.68 - ETA: 16s - loss: -5602.68 - ETA: 16s - loss: -5602.69 - ETA: 16s - loss: -5602.81 - ETA: 16s - loss: -5603.08 - ETA: 16s - loss: -5602.89 - ETA: 16s - loss: -5602.87 - ETA: 16s - loss: -5602.98 - ETA: 16s - loss: -5602.92 - ETA: 16s - loss: -5602.55 - ETA: 16s - loss: -5602.46 - ETA: 16s - loss: -5602.31 - ETA: 16s - loss: -5602.32 - ETA: 16s - loss: -5602.21 - ETA: 16s - loss: -5602.30 - ETA: 16s - loss: -5602.59 - ETA: 15s - loss: -5602.46 - ETA: 15s - loss: -5602.23 - ETA: 15s - loss: -5602.19 - ETA: 15s - loss: -5602.15 - ETA: 15s - loss: -5602.30 - ETA: 15s - loss: -5602.35 - ETA: 15s - loss: -5602.15 - ETA: 15s - loss: -5602.19 - ETA: 15s - loss: -5601.93 - ETA: 15s - loss: -5602.01 - ETA: 15s - loss: -5602.07 - ETA: 15s - loss: -5601.80 - ETA: 15s - loss: -5601.64 - ETA: 15s - loss: -5601.44 - ETA: 15s - loss: -5601.43 - ETA: 15s - loss: -5601.23 - ETA: 15s - loss: -5601.21 - ETA: 15s - loss: -5601.27 - ETA: 14s - loss: -5601.07 - ETA: 14s - loss: -5601.26 - ETA: 14s - loss: -5601.25 - ETA: 14s - loss: -5601.24 - ETA: 14s - loss: -5601.06 - ETA: 14s - loss: -5601.17 - ETA: 14s - loss: -5601.25 - ETA: 14s - loss: -5601.43 - ETA: 14s - loss: -5601.56 - ETA: 14s - loss: -5601.34 - ETA: 14s - loss: -5601.40 - ETA: 14s - loss: -5601.36 - ETA: 14s - loss: -5601.30 - ETA: 14s - loss: -5601.14 - ETA: 14s - loss: -5601.24 - ETA: 14s - loss: -5601.13 - ETA: 14s - loss: -5601.30 - ETA: 14s - loss: -5601.38 - ETA: 13s - loss: -5601.24 - ETA: 13s - loss: -5601.19 - ETA: 13s - loss: -5601.18 - ETA: 13s - loss: -5601.19 - ETA: 13s - loss: -5601.35 - ETA: 13s - loss: -5601.55 - ETA: 13s - loss: -5601.68 - ETA: 13s - loss: -5601.36 - ETA: 13s - loss: -5601.22 - ETA: 13s - loss: -5601.21 - ETA: 13s - loss: -5601.28 - ETA: 13s - loss: -5601.14 - ETA: 13s - loss: -5601.20 - ETA: 13s - loss: -5601.02 - ETA: 13s - loss: -5600.89 - ETA: 13s - loss: -5600.79 - ETA: 13s - loss: -5600.55 - ETA: 13s - loss: -5600.58 - ETA: 12s - loss: -5600.63 - ETA: 12s - loss: -5600.73 - ETA: 12s - loss: -5600.63 - ETA: 12s - loss: -5600.57 - ETA: 12s - loss: -5600.64 - ETA: 12s - loss: -5600.83 - ETA: 12s - loss: -5600.68 - ETA: 12s - loss: -5600.83 - ETA: 12s - loss: -5600.80 - ETA: 12s - loss: -5600.77 - ETA: 12s - loss: -5600.77 - ETA: 12s - loss: -5600.65 - ETA: 12s - loss: -5600.72 - ETA: 12s - loss: -5600.62 - ETA: 12s - loss: -5600.65 - ETA: 12s - loss: -5600.74 - ETA: 12s - loss: -5600.92 - ETA: 12s - loss: -5601.02 - ETA: 11s - loss: -5601.07 - ETA: 11s - loss: -5600.92 - ETA: 11s - loss: -5600.82 - ETA: 11s - loss: -5600.79 - ETA: 11s - loss: -5600.71 - ETA: 11s - loss: -5600.83 - ETA: 11s - loss: -5600.96 - ETA: 11s - loss: -5600.86 - ETA: 11s - loss: -5600.94 - ETA: 11s - loss: -5600.86 - ETA: 11s - loss: -5600.81 - ETA: 11s - loss: -5600.78 - ETA: 11s - loss: -5600.63 - ETA: 11s - loss: -5600.70 - ETA: 11s - loss: -5600.68 - ETA: 11s - loss: -5600.69 - ETA: 11s - loss: -5600.59 - ETA: 11s - loss: -5600.41 - ETA: 10s - loss: -5600.34 - ETA: 10s - loss: -5600.19 - ETA: 10s - loss: -5600.25 - ETA: 10s - loss: -5600.17 - ETA: 10s - loss: -5600.43 - ETA: 10s - loss: -5600.33 - ETA: 10s - loss: -5600.51 - ETA: 10s - loss: -5600.37 - ETA: 10s - loss: -5600.38 - ETA: 10s - loss: -5600.45 - ETA: 10s - loss: -5600.27 - ETA: 10s - loss: -5600.45 - ETA: 10s - loss: -5600.41 - ETA: 10s - loss: -5600.46 - ETA: 10s - loss: -5600.33 - ETA: 10s - loss: -5600.32 - ETA: 10s - loss: -5600.10 - ETA: 10s - loss: -5600.22 - ETA: 9s - loss: -5600.1823 - ETA: 9s - loss: -5600.252 - ETA: 9s - loss: -5600.213 - ETA: 9s - loss: -5600.290 - ETA: 9s - loss: -5600.505 - ETA: 9s - loss: -5600.474 - ETA: 9s - loss: -5600.468 - ETA: 9s - loss: -5600.316 - ETA: 9s - loss: -5600.169 - ETA: 9s - loss: -5600.078 - ETA: 9s - loss: -5599.973 - ETA: 9s - loss: -5600.071 - ETA: 9s - loss: -5600.178 - ETA: 9s - loss: -5600.240 - ETA: 9s - loss: -5600.192 - ETA: 9s - loss: -5599.976 - ETA: 9s - loss: -5599.818 - ETA: 9s - loss: -5599.798 - ETA: 8s - loss: -5599.902 - ETA: 8s - loss: -5599.954 - ETA: 8s - loss: -5600.076 - ETA: 8s - loss: -5600.059 - ETA: 8s - loss: -5600.136 - ETA: 8s - loss: -5600.020 - ETA: 8s - loss: -5600.158 - ETA: 8s - loss: -5600.117 - ETA: 8s - loss: -5600.190 - ETA: 8s - loss: -5600.060 - ETA: 8s - loss: -5600.070 - ETA: 8s - loss: -5600.118 - ETA: 8s - loss: -5600.053 - ETA: 8s - loss: -5600.315 - ETA: 8s - loss: -5600.219 - ETA: 8s - loss: -5600.245 - ETA: 8s - loss: -5600.209 - ETA: 8s - loss: -5600.164 - ETA: 7s - loss: -5600.019 - ETA: 7s - loss: -5600.185 - ETA: 7s - loss: -5600.106 - ETA: 7s - loss: -5600.163 - ETA: 7s - loss: -5600.016 - ETA: 7s - loss: -5599.939 - ETA: 7s - loss: -5600.027 - ETA: 7s - loss: -5599.964 - ETA: 7s - loss: -5599.914 - ETA: 7s - loss: -5599.815 - ETA: 7s - loss: -5599.950 - ETA: 7s - loss: -5599.961 - ETA: 7s - loss: -5600.013 - ETA: 7s - loss: -5600.027 - ETA: 7s - loss: -5599.997 - ETA: 7s - loss: -5599.873 - ETA: 7s - loss: -5599.864 - ETA: 7s - loss: -5599.905 - ETA: 6s - loss: -5600.008 - ETA: 6s - loss: -5600.260 - ETA: 6s - loss: -5600.377 - ETA: 6s - loss: -5600.319 - ETA: 6s - loss: -5600.247 - ETA: 6s - loss: -5600.403 - ETA: 6s - loss: -5600.523 - ETA: 6s - loss: -5600.360 - ETA: 6s - loss: -5600.326 - ETA: 6s - loss: -5600.338 - ETA: 6s - loss: -5600.244 - ETA: 6s - loss: -5600.263 - ETA: 6s - loss: -5600.397 - ETA: 6s - loss: -5600.307 - ETA: 6s - loss: -5600.341 - ETA: 6s - loss: -5600.633 - ETA: 6s - loss: -5600.681 - ETA: 6s - loss: -5600.837 - ETA: 6s - loss: -5600.891 - ETA: 5s - loss: -5600.810 - ETA: 5s - loss: -5600.978 - ETA: 5s - loss: -5601.169 - ETA: 5s - loss: -5601.126 - ETA: 5s - loss: -5600.959 - ETA: 5s - loss: -5601.118 - ETA: 5s - loss: -5601.086 - ETA: 5s - loss: -5601.102 - ETA: 5s - loss: -5601.180 - ETA: 5s - loss: -5601.104 - ETA: 5s - loss: -5601.037 - ETA: 5s - loss: -5600.783 - ETA: 5s - loss: -5600.882 - ETA: 5s - loss: -5600.842 - ETA: 5s - loss: -5600.889 - ETA: 5s - loss: -5600.924 - ETA: 5s - loss: -5601.015 - ETA: 5s - loss: -5600.808 - ETA: 4s - loss: -5600.870 - ETA: 4s - loss: -5600.830 - ETA: 4s - loss: -5600.829 - ETA: 4s - loss: -5600.689 - ETA: 4s - loss: -5600.727 - ETA: 4s - loss: -5600.858 - ETA: 4s - loss: -5600.885 - ETA: 4s - loss: -5600.8228"
     ]
    },
    {
     "name": "stdout",
     "output_type": "stream",
     "text": [
      "169807/169807 [==============================] - ETA: 4s - loss: -5600.889 - ETA: 4s - loss: -5600.988 - ETA: 4s - loss: -5600.951 - ETA: 4s - loss: -5600.970 - ETA: 4s - loss: -5600.995 - ETA: 4s - loss: -5600.911 - ETA: 4s - loss: -5600.827 - ETA: 4s - loss: -5600.838 - ETA: 4s - loss: -5600.825 - ETA: 4s - loss: -5600.730 - ETA: 3s - loss: -5600.695 - ETA: 3s - loss: -5600.689 - ETA: 3s - loss: -5600.850 - ETA: 3s - loss: -5600.956 - ETA: 3s - loss: -5601.000 - ETA: 3s - loss: -5600.886 - ETA: 3s - loss: -5600.896 - ETA: 3s - loss: -5600.880 - ETA: 3s - loss: -5600.638 - ETA: 3s - loss: -5600.620 - ETA: 3s - loss: -5600.609 - ETA: 3s - loss: -5600.565 - ETA: 3s - loss: -5600.481 - ETA: 3s - loss: -5600.345 - ETA: 3s - loss: -5600.589 - ETA: 3s - loss: -5600.351 - ETA: 3s - loss: -5600.299 - ETA: 3s - loss: -5600.370 - ETA: 2s - loss: -5600.376 - ETA: 2s - loss: -5600.471 - ETA: 2s - loss: -5600.396 - ETA: 2s - loss: -5600.308 - ETA: 2s - loss: -5600.269 - ETA: 2s - loss: -5600.406 - ETA: 2s - loss: -5600.376 - ETA: 2s - loss: -5600.385 - ETA: 2s - loss: -5600.528 - ETA: 2s - loss: -5600.364 - ETA: 2s - loss: -5600.347 - ETA: 2s - loss: -5600.323 - ETA: 2s - loss: -5600.139 - ETA: 2s - loss: -5600.178 - ETA: 2s - loss: -5600.110 - ETA: 2s - loss: -5600.073 - ETA: 2s - loss: -5600.084 - ETA: 2s - loss: -5599.933 - ETA: 1s - loss: -5599.932 - ETA: 1s - loss: -5600.036 - ETA: 1s - loss: -5600.105 - ETA: 1s - loss: -5600.273 - ETA: 1s - loss: -5600.344 - ETA: 1s - loss: -5600.447 - ETA: 1s - loss: -5600.482 - ETA: 1s - loss: -5600.528 - ETA: 1s - loss: -5600.591 - ETA: 1s - loss: -5600.539 - ETA: 1s - loss: -5600.509 - ETA: 1s - loss: -5600.455 - ETA: 1s - loss: -5600.442 - ETA: 1s - loss: -5600.414 - ETA: 1s - loss: -5600.307 - ETA: 1s - loss: -5600.327 - ETA: 1s - loss: -5600.271 - ETA: 1s - loss: -5600.461 - ETA: 0s - loss: -5600.483 - ETA: 0s - loss: -5600.581 - ETA: 0s - loss: -5600.601 - ETA: 0s - loss: -5600.526 - ETA: 0s - loss: -5600.548 - ETA: 0s - loss: -5600.551 - ETA: 0s - loss: -5600.464 - ETA: 0s - loss: -5600.438 - ETA: 0s - loss: -5600.533 - ETA: 0s - loss: -5600.603 - ETA: 0s - loss: -5600.682 - ETA: 0s - loss: -5600.759 - ETA: 0s - loss: -5600.822 - ETA: 0s - loss: -5600.871 - ETA: 0s - loss: -5600.882 - ETA: 0s - loss: -5600.892 - ETA: 0s - loss: -5600.948 - ETA: 0s - loss: -5600.900 - ETA: 0s - loss: -5600.959 - 38s 226us/step - loss: -5600.9813 - val_loss: -5604.0063\n",
      "Epoch 3/4\n"
     ]
    },
    {
     "name": "stdout",
     "output_type": "stream",
     "text": [
      " 73408/169807 [===========>..................] - ETA: 58s - loss: -5469.27 - ETA: 41s - loss: -5537.47 - ETA: 38s - loss: -5570.53 - ETA: 37s - loss: -5551.53 - ETA: 37s - loss: -5582.25 - ETA: 36s - loss: -5562.28 - ETA: 36s - loss: -5559.14 - ETA: 36s - loss: -5559.78 - ETA: 35s - loss: -5560.01 - ETA: 35s - loss: -5574.60 - ETA: 35s - loss: -5574.97 - ETA: 35s - loss: -5571.94 - ETA: 35s - loss: -5572.37 - ETA: 35s - loss: -5575.08 - ETA: 35s - loss: -5575.80 - ETA: 35s - loss: -5580.30 - ETA: 35s - loss: -5585.43 - ETA: 35s - loss: -5590.15 - ETA: 35s - loss: -5589.34 - ETA: 34s - loss: -5593.01 - ETA: 34s - loss: -5597.32 - ETA: 34s - loss: -5599.32 - ETA: 34s - loss: -5602.21 - ETA: 34s - loss: -5600.88 - ETA: 34s - loss: -5601.78 - ETA: 34s - loss: -5600.75 - ETA: 34s - loss: -5602.25 - ETA: 34s - loss: -5601.66 - ETA: 34s - loss: -5602.78 - ETA: 34s - loss: -5601.37 - ETA: 35s - loss: -5599.76 - ETA: 35s - loss: -5598.88 - ETA: 34s - loss: -5599.16 - ETA: 34s - loss: -5599.16 - ETA: 35s - loss: -5599.52 - ETA: 35s - loss: -5598.19 - ETA: 35s - loss: -5600.29 - ETA: 35s - loss: -5602.13 - ETA: 35s - loss: -5602.68 - ETA: 35s - loss: -5602.14 - ETA: 35s - loss: -5603.18 - ETA: 35s - loss: -5602.48 - ETA: 34s - loss: -5604.96 - ETA: 34s - loss: -5605.93 - ETA: 34s - loss: -5604.14 - ETA: 34s - loss: -5604.01 - ETA: 34s - loss: -5603.51 - ETA: 34s - loss: -5601.38 - ETA: 34s - loss: -5598.90 - ETA: 34s - loss: -5598.36 - ETA: 34s - loss: -5597.68 - ETA: 34s - loss: -5598.03 - ETA: 34s - loss: -5599.09 - ETA: 34s - loss: -5598.17 - ETA: 34s - loss: -5598.32 - ETA: 34s - loss: -5600.04 - ETA: 34s - loss: -5599.04 - ETA: 34s - loss: -5599.46 - ETA: 34s - loss: -5600.06 - ETA: 34s - loss: -5599.89 - ETA: 34s - loss: -5598.78 - ETA: 34s - loss: -5599.92 - ETA: 34s - loss: -5600.92 - ETA: 33s - loss: -5599.73 - ETA: 33s - loss: -5599.53 - ETA: 33s - loss: -5599.09 - ETA: 33s - loss: -5600.09 - ETA: 33s - loss: -5597.96 - ETA: 33s - loss: -5599.31 - ETA: 33s - loss: -5599.57 - ETA: 33s - loss: -5600.25 - ETA: 33s - loss: -5600.07 - ETA: 33s - loss: -5598.66 - ETA: 33s - loss: -5598.33 - ETA: 33s - loss: -5597.82 - ETA: 33s - loss: -5597.90 - ETA: 33s - loss: -5598.12 - ETA: 33s - loss: -5598.56 - ETA: 33s - loss: -5598.43 - ETA: 33s - loss: -5598.19 - ETA: 33s - loss: -5598.71 - ETA: 33s - loss: -5599.28 - ETA: 33s - loss: -5599.53 - ETA: 33s - loss: -5599.22 - ETA: 33s - loss: -5598.80 - ETA: 33s - loss: -5599.41 - ETA: 32s - loss: -5600.35 - ETA: 32s - loss: -5597.63 - ETA: 32s - loss: -5593.00 - ETA: 32s - loss: -5590.40 - ETA: 32s - loss: -5589.70 - ETA: 32s - loss: -5588.21 - ETA: 32s - loss: -5587.21 - ETA: 32s - loss: -5586.44 - ETA: 32s - loss: -5586.49 - ETA: 32s - loss: -5584.96 - ETA: 32s - loss: -5583.58 - ETA: 32s - loss: -5583.16 - ETA: 32s - loss: -5583.55 - ETA: 32s - loss: -5582.74 - ETA: 32s - loss: -5583.94 - ETA: 32s - loss: -5584.27 - ETA: 32s - loss: -5584.88 - ETA: 32s - loss: -5585.35 - ETA: 31s - loss: -5587.11 - ETA: 31s - loss: -5587.75 - ETA: 31s - loss: -5588.14 - ETA: 31s - loss: -5589.47 - ETA: 31s - loss: -5588.85 - ETA: 31s - loss: -5589.24 - ETA: 31s - loss: -5589.98 - ETA: 31s - loss: -5590.45 - ETA: 31s - loss: -5590.28 - ETA: 31s - loss: -5590.39 - ETA: 31s - loss: -5590.03 - ETA: 31s - loss: -5590.54 - ETA: 31s - loss: -5590.17 - ETA: 31s - loss: -5589.95 - ETA: 31s - loss: -5590.42 - ETA: 31s - loss: -5590.58 - ETA: 31s - loss: -5591.60 - ETA: 31s - loss: -5592.01 - ETA: 30s - loss: -5593.39 - ETA: 30s - loss: -5593.17 - ETA: 30s - loss: -5592.55 - ETA: 30s - loss: -5591.24 - ETA: 30s - loss: -5590.08 - ETA: 30s - loss: -5588.67 - ETA: 30s - loss: -5587.23 - ETA: 30s - loss: -5586.18 - ETA: 30s - loss: -5585.17 - ETA: 30s - loss: -5584.12 - ETA: 30s - loss: -5583.08 - ETA: 30s - loss: -5580.93 - ETA: 30s - loss: -5579.80 - ETA: 30s - loss: -5578.72 - ETA: 30s - loss: -5577.48 - ETA: 30s - loss: -5576.73 - ETA: 30s - loss: -5575.95 - ETA: 30s - loss: -5574.74 - ETA: 29s - loss: -5573.22 - ETA: 29s - loss: -5571.94 - ETA: 29s - loss: -5571.31 - ETA: 29s - loss: -5570.64 - ETA: 29s - loss: -5569.38 - ETA: 29s - loss: -5568.43 - ETA: 29s - loss: -5568.02 - ETA: 29s - loss: -5567.46 - ETA: 29s - loss: -5566.63 - ETA: 29s - loss: -5566.24 - ETA: 29s - loss: -5566.03 - ETA: 29s - loss: -5565.53 - ETA: 29s - loss: -5565.43 - ETA: 29s - loss: -5565.05 - ETA: 29s - loss: -5564.41 - ETA: 29s - loss: -5563.82 - ETA: 29s - loss: -5562.22 - ETA: 29s - loss: -5561.74 - ETA: 29s - loss: -5561.35 - ETA: 29s - loss: -5560.00 - ETA: 29s - loss: -5559.12 - ETA: 29s - loss: -5558.05 - ETA: 28s - loss: -5557.08 - ETA: 28s - loss: -5556.69 - ETA: 28s - loss: -5556.16 - ETA: 28s - loss: -5554.84 - ETA: 28s - loss: -5553.97 - ETA: 28s - loss: -5553.20 - ETA: 28s - loss: -5552.35 - ETA: 28s - loss: -5551.77 - ETA: 28s - loss: -5550.85 - ETA: 28s - loss: -5550.70 - ETA: 28s - loss: -5549.71 - ETA: 28s - loss: -5549.09 - ETA: 28s - loss: -5548.37 - ETA: 28s - loss: -5548.31 - ETA: 28s - loss: -5547.76 - ETA: 28s - loss: -5547.37 - ETA: 28s - loss: -5546.77 - ETA: 28s - loss: -5546.34 - ETA: 28s - loss: -5545.45 - ETA: 27s - loss: -5544.50 - ETA: 27s - loss: -5543.12 - ETA: 27s - loss: -5542.79 - ETA: 27s - loss: -5542.04 - ETA: 27s - loss: -5541.50 - ETA: 27s - loss: -5541.03 - ETA: 27s - loss: -5540.19 - ETA: 27s - loss: -5539.59 - ETA: 27s - loss: -5539.55 - ETA: 27s - loss: -5539.30 - ETA: 27s - loss: -5538.76 - ETA: 27s - loss: -5538.42 - ETA: 27s - loss: -5537.97 - ETA: 27s - loss: -5537.49 - ETA: 27s - loss: -5537.18 - ETA: 27s - loss: -5536.99 - ETA: 27s - loss: -5536.23 - ETA: 27s - loss: -5536.17 - ETA: 26s - loss: -5535.38 - ETA: 26s - loss: -5534.58 - ETA: 26s - loss: -5534.23 - ETA: 26s - loss: -5533.78 - ETA: 26s - loss: -5533.59 - ETA: 26s - loss: -5533.32 - ETA: 26s - loss: -5532.80 - ETA: 26s - loss: -5532.37 - ETA: 26s - loss: -5531.90 - ETA: 26s - loss: -5531.80 - ETA: 26s - loss: -5531.37 - ETA: 26s - loss: -5531.23 - ETA: 26s - loss: -5531.13 - ETA: 26s - loss: -5530.95 - ETA: 26s - loss: -5530.89 - ETA: 26s - loss: -5530.62 - ETA: 26s - loss: -5530.14 - ETA: 26s - loss: -5529.60 - ETA: 25s - loss: -5529.36 - ETA: 25s - loss: -5528.50 - ETA: 25s - loss: -5528.12 - ETA: 25s - loss: -5527.95 - ETA: 25s - loss: -5527.64 - ETA: 25s - loss: -5527.60 - ETA: 25s - loss: -5527.59 - ETA: 25s - loss: -5527.10 - ETA: 25s - loss: -5526.87 - ETA: 25s - loss: -5526.62 - ETA: 25s - loss: -5526.28 - ETA: 25s - loss: -5526.00 - ETA: 25s - loss: -5525.94 - ETA: 25s - loss: -5525.79 - ETA: 25s - loss: -5525.51 - ETA: 25s - loss: -5525.61 - ETA: 25s - loss: -5525.57 - ETA: 24s - loss: -5525.38 - ETA: 24s - loss: -5525.02 - ETA: 24s - loss: -5524.33 - ETA: 24s - loss: -5524.08 - ETA: 24s - loss: -5523.99 - ETA: 24s - loss: -5523.52 - ETA: 24s - loss: -5523.25 - ETA: 24s - loss: -5523.06 - ETA: 24s - loss: -5522.63 - ETA: 24s - loss: -5522.60 - ETA: 24s - loss: -5522.13 - ETA: 24s - loss: -5521.90 - ETA: 24s - loss: -5521.58 - ETA: 24s - loss: -5521.32 - ETA: 24s - loss: -5520.94 - ETA: 24s - loss: -5520.65 - ETA: 24s - loss: -5520.47 - ETA: 24s - loss: -5520.32 - ETA: 24s - loss: -5519.95 - ETA: 23s - loss: -5519.79 - ETA: 23s - loss: -5519.69 - ETA: 23s - loss: -5519.55 - ETA: 23s - loss: -5519.36 - ETA: 23s - loss: -5519.19 - ETA: 23s - loss: -5518.76 - ETA: 23s - loss: -5518.54 - ETA: 23s - loss: -5518.48 - ETA: 23s - loss: -5518.44 - ETA: 23s - loss: -5517.76 - ETA: 23s - loss: -5517.44 - ETA: 23s - loss: -5517.30 - ETA: 23s - loss: -5517.01 - ETA: 23s - loss: -5516.67 - ETA: 23s - loss: -5516.60 - ETA: 23s - loss: -5516.49 - ETA: 23s - loss: -5516.38 - ETA: 23s - loss: -5516.11 - ETA: 22s - loss: -5516.02 - ETA: 22s - loss: -5515.94 - ETA: 22s - loss: -5515.63 - ETA: 22s - loss: -5515.02 - ETA: 22s - loss: -5514.85 - ETA: 22s - loss: -5514.86 - ETA: 22s - loss: -5514.74 - ETA: 22s - loss: -5514.40 - ETA: 22s - loss: -5514.19 - ETA: 22s - loss: -5513.96 - ETA: 22s - loss: -5513.47 - ETA: 22s - loss: -5513.19 - ETA: 22s - loss: -5512.84 - ETA: 22s - loss: -5512.50 - ETA: 22s - loss: -5512.65 - ETA: 22s - loss: -5512.20 - ETA: 22s - loss: -5512.19 - ETA: 21s - loss: -5511.88 - ETA: 21s - loss: -5511.68 - ETA: 21s - loss: -5511.5342"
     ]
    },
    {
     "name": "stdout",
     "output_type": "stream",
     "text": [
      "147264/169807 [=========================>....] - ETA: 21s - loss: -5511.33 - ETA: 21s - loss: -5511.21 - ETA: 21s - loss: -5510.97 - ETA: 21s - loss: -5510.88 - ETA: 21s - loss: -5510.66 - ETA: 21s - loss: -5510.50 - ETA: 21s - loss: -5510.66 - ETA: 21s - loss: -5510.73 - ETA: 21s - loss: -5510.72 - ETA: 21s - loss: -5510.52 - ETA: 21s - loss: -5510.44 - ETA: 21s - loss: -5510.27 - ETA: 21s - loss: -5509.98 - ETA: 21s - loss: -5509.86 - ETA: 20s - loss: -5509.66 - ETA: 20s - loss: -5509.43 - ETA: 20s - loss: -5509.39 - ETA: 20s - loss: -5509.06 - ETA: 20s - loss: -5508.72 - ETA: 20s - loss: -5508.39 - ETA: 20s - loss: -5508.32 - ETA: 20s - loss: -5508.02 - ETA: 20s - loss: -5507.89 - ETA: 20s - loss: -5507.64 - ETA: 20s - loss: -5507.19 - ETA: 20s - loss: -5506.63 - ETA: 20s - loss: -5506.26 - ETA: 20s - loss: -5506.23 - ETA: 20s - loss: -5506.27 - ETA: 20s - loss: -5505.99 - ETA: 20s - loss: -5505.84 - ETA: 19s - loss: -5505.83 - ETA: 19s - loss: -5505.76 - ETA: 19s - loss: -5505.36 - ETA: 19s - loss: -5505.11 - ETA: 19s - loss: -5504.82 - ETA: 19s - loss: -5504.76 - ETA: 19s - loss: -5504.62 - ETA: 19s - loss: -5504.44 - ETA: 19s - loss: -5504.19 - ETA: 19s - loss: -5504.06 - ETA: 19s - loss: -5503.98 - ETA: 19s - loss: -5503.88 - ETA: 19s - loss: -5503.79 - ETA: 19s - loss: -5503.50 - ETA: 19s - loss: -5503.40 - ETA: 19s - loss: -5503.44 - ETA: 19s - loss: -5503.11 - ETA: 19s - loss: -5503.11 - ETA: 18s - loss: -5502.88 - ETA: 18s - loss: -5502.44 - ETA: 18s - loss: -5502.40 - ETA: 18s - loss: -5502.39 - ETA: 18s - loss: -5502.22 - ETA: 18s - loss: -5502.21 - ETA: 18s - loss: -5502.23 - ETA: 18s - loss: -5502.27 - ETA: 18s - loss: -5502.03 - ETA: 18s - loss: -5502.02 - ETA: 18s - loss: -5501.84 - ETA: 18s - loss: -5501.71 - ETA: 18s - loss: -5501.37 - ETA: 18s - loss: -5501.21 - ETA: 18s - loss: -5500.87 - ETA: 18s - loss: -5500.51 - ETA: 17s - loss: -5500.26 - ETA: 17s - loss: -5500.24 - ETA: 17s - loss: -5500.25 - ETA: 17s - loss: -5500.09 - ETA: 17s - loss: -5499.74 - ETA: 17s - loss: -5499.45 - ETA: 17s - loss: -5499.21 - ETA: 17s - loss: -5498.97 - ETA: 17s - loss: -5498.86 - ETA: 17s - loss: -5498.59 - ETA: 17s - loss: -5498.43 - ETA: 17s - loss: -5498.09 - ETA: 17s - loss: -5497.86 - ETA: 17s - loss: -5497.79 - ETA: 17s - loss: -5497.62 - ETA: 17s - loss: -5497.53 - ETA: 16s - loss: -5497.32 - ETA: 16s - loss: -5497.20 - ETA: 16s - loss: -5497.22 - ETA: 16s - loss: -5497.12 - ETA: 16s - loss: -5497.34 - ETA: 16s - loss: -5497.49 - ETA: 16s - loss: -5497.49 - ETA: 16s - loss: -5497.64 - ETA: 16s - loss: -5497.67 - ETA: 16s - loss: -5497.98 - ETA: 16s - loss: -5498.34 - ETA: 16s - loss: -5498.51 - ETA: 16s - loss: -5498.75 - ETA: 16s - loss: -5499.07 - ETA: 16s - loss: -5499.46 - ETA: 16s - loss: -5499.67 - ETA: 16s - loss: -5500.07 - ETA: 15s - loss: -5500.18 - ETA: 15s - loss: -5500.13 - ETA: 15s - loss: -5500.53 - ETA: 15s - loss: -5500.78 - ETA: 15s - loss: -5501.07 - ETA: 15s - loss: -5501.30 - ETA: 15s - loss: -5501.43 - ETA: 15s - loss: -5501.33 - ETA: 15s - loss: -5501.19 - ETA: 15s - loss: -5501.30 - ETA: 15s - loss: -5501.83 - ETA: 15s - loss: -5501.96 - ETA: 15s - loss: -5501.91 - ETA: 15s - loss: -5502.26 - ETA: 15s - loss: -5502.31 - ETA: 15s - loss: -5502.48 - ETA: 14s - loss: -5502.60 - ETA: 14s - loss: -5502.88 - ETA: 14s - loss: -5503.03 - ETA: 14s - loss: -5503.16 - ETA: 14s - loss: -5503.35 - ETA: 14s - loss: -5503.31 - ETA: 14s - loss: -5503.43 - ETA: 14s - loss: -5503.72 - ETA: 14s - loss: -5504.15 - ETA: 14s - loss: -5504.31 - ETA: 14s - loss: -5504.43 - ETA: 14s - loss: -5504.51 - ETA: 14s - loss: -5504.87 - ETA: 14s - loss: -5504.98 - ETA: 14s - loss: -5505.05 - ETA: 14s - loss: -5504.95 - ETA: 14s - loss: -5505.12 - ETA: 13s - loss: -5505.18 - ETA: 13s - loss: -5505.51 - ETA: 13s - loss: -5505.75 - ETA: 13s - loss: -5505.70 - ETA: 13s - loss: -5505.97 - ETA: 13s - loss: -5506.33 - ETA: 13s - loss: -5506.34 - ETA: 13s - loss: -5506.59 - ETA: 13s - loss: -5506.79 - ETA: 13s - loss: -5506.95 - ETA: 13s - loss: -5506.97 - ETA: 13s - loss: -5507.10 - ETA: 13s - loss: -5507.20 - ETA: 13s - loss: -5507.37 - ETA: 13s - loss: -5507.54 - ETA: 13s - loss: -5507.60 - ETA: 13s - loss: -5507.47 - ETA: 13s - loss: -5507.80 - ETA: 13s - loss: -5508.11 - ETA: 12s - loss: -5508.22 - ETA: 12s - loss: -5508.33 - ETA: 12s - loss: -5508.24 - ETA: 12s - loss: -5508.22 - ETA: 12s - loss: -5508.48 - ETA: 12s - loss: -5508.56 - ETA: 12s - loss: -5508.47 - ETA: 12s - loss: -5508.52 - ETA: 12s - loss: -5508.66 - ETA: 12s - loss: -5508.88 - ETA: 12s - loss: -5508.96 - ETA: 12s - loss: -5508.84 - ETA: 12s - loss: -5508.87 - ETA: 12s - loss: -5509.04 - ETA: 12s - loss: -5509.13 - ETA: 12s - loss: -5509.30 - ETA: 12s - loss: -5509.35 - ETA: 12s - loss: -5509.54 - ETA: 12s - loss: -5509.62 - ETA: 11s - loss: -5509.70 - ETA: 11s - loss: -5509.91 - ETA: 11s - loss: -5510.02 - ETA: 11s - loss: -5510.12 - ETA: 11s - loss: -5510.12 - ETA: 11s - loss: -5510.30 - ETA: 11s - loss: -5510.45 - ETA: 11s - loss: -5510.58 - ETA: 11s - loss: -5510.70 - ETA: 11s - loss: -5510.86 - ETA: 11s - loss: -5510.91 - ETA: 11s - loss: -5511.17 - ETA: 11s - loss: -5511.29 - ETA: 11s - loss: -5511.51 - ETA: 11s - loss: -5511.53 - ETA: 11s - loss: -5511.63 - ETA: 11s - loss: -5511.78 - ETA: 10s - loss: -5512.04 - ETA: 10s - loss: -5512.03 - ETA: 10s - loss: -5512.02 - ETA: 10s - loss: -5512.06 - ETA: 10s - loss: -5512.19 - ETA: 10s - loss: -5512.11 - ETA: 10s - loss: -5512.19 - ETA: 10s - loss: -5512.34 - ETA: 10s - loss: -5512.39 - ETA: 10s - loss: -5512.37 - ETA: 10s - loss: -5512.50 - ETA: 10s - loss: -5512.64 - ETA: 10s - loss: -5512.78 - ETA: 10s - loss: -5512.74 - ETA: 10s - loss: -5512.72 - ETA: 10s - loss: -5512.95 - ETA: 10s - loss: -5513.04 - ETA: 9s - loss: -5513.1502 - ETA: 9s - loss: -5512.956 - ETA: 9s - loss: -5513.228 - ETA: 9s - loss: -5513.348 - ETA: 9s - loss: -5513.576 - ETA: 9s - loss: -5513.557 - ETA: 9s - loss: -5513.964 - ETA: 9s - loss: -5513.962 - ETA: 9s - loss: -5513.988 - ETA: 9s - loss: -5514.065 - ETA: 9s - loss: -5514.093 - ETA: 9s - loss: -5514.151 - ETA: 9s - loss: -5514.359 - ETA: 9s - loss: -5514.504 - ETA: 9s - loss: -5514.588 - ETA: 9s - loss: -5514.695 - ETA: 9s - loss: -5514.744 - ETA: 9s - loss: -5514.552 - ETA: 8s - loss: -5514.696 - ETA: 8s - loss: -5514.753 - ETA: 8s - loss: -5514.836 - ETA: 8s - loss: -5514.948 - ETA: 8s - loss: -5515.023 - ETA: 8s - loss: -5515.242 - ETA: 8s - loss: -5515.434 - ETA: 8s - loss: -5515.480 - ETA: 8s - loss: -5515.631 - ETA: 8s - loss: -5515.678 - ETA: 8s - loss: -5515.739 - ETA: 8s - loss: -5515.825 - ETA: 8s - loss: -5515.822 - ETA: 8s - loss: -5515.941 - ETA: 8s - loss: -5516.078 - ETA: 8s - loss: -5516.065 - ETA: 8s - loss: -5516.288 - ETA: 8s - loss: -5516.517 - ETA: 7s - loss: -5516.691 - ETA: 7s - loss: -5516.691 - ETA: 7s - loss: -5516.759 - ETA: 7s - loss: -5517.014 - ETA: 7s - loss: -5516.988 - ETA: 7s - loss: -5517.118 - ETA: 7s - loss: -5517.234 - ETA: 7s - loss: -5517.157 - ETA: 7s - loss: -5517.168 - ETA: 7s - loss: -5517.336 - ETA: 7s - loss: -5517.369 - ETA: 7s - loss: -5517.377 - ETA: 7s - loss: -5517.488 - ETA: 7s - loss: -5517.642 - ETA: 7s - loss: -5517.731 - ETA: 7s - loss: -5517.862 - ETA: 7s - loss: -5518.038 - ETA: 6s - loss: -5517.971 - ETA: 6s - loss: -5517.932 - ETA: 6s - loss: -5518.020 - ETA: 6s - loss: -5518.107 - ETA: 6s - loss: -5518.234 - ETA: 6s - loss: -5518.411 - ETA: 6s - loss: -5518.484 - ETA: 6s - loss: -5518.388 - ETA: 6s - loss: -5518.396 - ETA: 6s - loss: -5518.412 - ETA: 6s - loss: -5518.474 - ETA: 6s - loss: -5518.628 - ETA: 6s - loss: -5518.674 - ETA: 6s - loss: -5518.757 - ETA: 6s - loss: -5518.762 - ETA: 6s - loss: -5518.827 - ETA: 6s - loss: -5519.015 - ETA: 6s - loss: -5518.988 - ETA: 5s - loss: -5519.067 - ETA: 5s - loss: -5519.198 - ETA: 5s - loss: -5519.092 - ETA: 5s - loss: -5519.184 - ETA: 5s - loss: -5519.384 - ETA: 5s - loss: -5519.381 - ETA: 5s - loss: -5519.523 - ETA: 5s - loss: -5519.633 - ETA: 5s - loss: -5519.615 - ETA: 5s - loss: -5519.515 - ETA: 5s - loss: -5519.717 - ETA: 5s - loss: -5519.867 - ETA: 5s - loss: -5519.975 - ETA: 5s - loss: -5520.151 - ETA: 5s - loss: -5520.205 - ETA: 5s - loss: -5520.350 - ETA: 5s - loss: -5520.3305"
     ]
    },
    {
     "name": "stdout",
     "output_type": "stream",
     "text": [
      "169807/169807 [==============================] - ETA: 5s - loss: -5520.387 - ETA: 4s - loss: -5520.395 - ETA: 4s - loss: -5520.500 - ETA: 4s - loss: -5520.555 - ETA: 4s - loss: -5520.693 - ETA: 4s - loss: -5520.743 - ETA: 4s - loss: -5520.887 - ETA: 4s - loss: -5520.779 - ETA: 4s - loss: -5520.818 - ETA: 4s - loss: -5520.820 - ETA: 4s - loss: -5520.946 - ETA: 4s - loss: -5520.978 - ETA: 4s - loss: -5521.149 - ETA: 4s - loss: -5521.322 - ETA: 4s - loss: -5521.512 - ETA: 4s - loss: -5521.670 - ETA: 4s - loss: -5521.761 - ETA: 4s - loss: -5521.643 - ETA: 3s - loss: -5521.884 - ETA: 3s - loss: -5521.952 - ETA: 3s - loss: -5522.199 - ETA: 3s - loss: -5522.368 - ETA: 3s - loss: -5522.582 - ETA: 3s - loss: -5522.699 - ETA: 3s - loss: -5522.777 - ETA: 3s - loss: -5522.856 - ETA: 3s - loss: -5522.920 - ETA: 3s - loss: -5522.992 - ETA: 3s - loss: -5523.029 - ETA: 3s - loss: -5523.089 - ETA: 3s - loss: -5523.072 - ETA: 3s - loss: -5523.079 - ETA: 3s - loss: -5523.009 - ETA: 3s - loss: -5523.177 - ETA: 3s - loss: -5523.243 - ETA: 2s - loss: -5523.444 - ETA: 2s - loss: -5523.482 - ETA: 2s - loss: -5523.676 - ETA: 2s - loss: -5523.922 - ETA: 2s - loss: -5524.000 - ETA: 2s - loss: -5524.153 - ETA: 2s - loss: -5524.187 - ETA: 2s - loss: -5524.155 - ETA: 2s - loss: -5524.188 - ETA: 2s - loss: -5524.236 - ETA: 2s - loss: -5524.267 - ETA: 2s - loss: -5524.300 - ETA: 2s - loss: -5524.371 - ETA: 2s - loss: -5524.298 - ETA: 2s - loss: -5524.531 - ETA: 2s - loss: -5524.537 - ETA: 2s - loss: -5524.448 - ETA: 2s - loss: -5524.582 - ETA: 2s - loss: -5524.631 - ETA: 1s - loss: -5524.821 - ETA: 1s - loss: -5524.868 - ETA: 1s - loss: -5524.906 - ETA: 1s - loss: -5524.997 - ETA: 1s - loss: -5525.144 - ETA: 1s - loss: -5525.195 - ETA: 1s - loss: -5525.382 - ETA: 1s - loss: -5525.489 - ETA: 1s - loss: -5525.461 - ETA: 1s - loss: -5525.454 - ETA: 1s - loss: -5525.479 - ETA: 1s - loss: -5525.495 - ETA: 1s - loss: -5525.569 - ETA: 1s - loss: -5525.773 - ETA: 1s - loss: -5525.894 - ETA: 1s - loss: -5525.788 - ETA: 1s - loss: -5525.899 - ETA: 0s - loss: -5525.949 - ETA: 0s - loss: -5526.035 - ETA: 0s - loss: -5526.142 - ETA: 0s - loss: -5526.279 - ETA: 0s - loss: -5526.273 - ETA: 0s - loss: -5526.343 - ETA: 0s - loss: -5526.419 - ETA: 0s - loss: -5526.499 - ETA: 0s - loss: -5526.433 - ETA: 0s - loss: -5526.554 - ETA: 0s - loss: -5526.682 - ETA: 0s - loss: -5526.791 - ETA: 0s - loss: -5526.796 - ETA: 0s - loss: -5526.797 - ETA: 0s - loss: -5526.964 - ETA: 0s - loss: -5526.873 - ETA: 0s - loss: -5526.933 - 39s 232us/step - loss: -5527.1206 - val_loss: -5572.1583\n",
      "Epoch 4/4\n"
     ]
    },
    {
     "name": "stdout",
     "output_type": "stream",
     "text": [
      " 71616/169807 [===========>..................] - ETA: 6:46 - loss: -5611.639 - ETA: 1:48 - loss: -5602.208 - ETA: 1:16 - loss: -5583.325 - ETA: 1:03 - loss: -5574.846 - ETA: 57s - loss: -5567.350 - ETA: 54s - loss: -5564.72 - ETA: 53s - loss: -5569.57 - ETA: 51s - loss: -5559.92 - ETA: 50s - loss: -5557.60 - ETA: 48s - loss: -5560.10 - ETA: 47s - loss: -5563.86 - ETA: 47s - loss: -5565.41 - ETA: 46s - loss: -5563.69 - ETA: 46s - loss: -5559.60 - ETA: 46s - loss: -5556.32 - ETA: 46s - loss: -5557.78 - ETA: 45s - loss: -5556.14 - ETA: 45s - loss: -5561.11 - ETA: 45s - loss: -5558.98 - ETA: 45s - loss: -5561.17 - ETA: 45s - loss: -5559.30 - ETA: 44s - loss: -5565.11 - ETA: 44s - loss: -5567.51 - ETA: 44s - loss: -5564.02 - ETA: 43s - loss: -5569.27 - ETA: 43s - loss: -5570.78 - ETA: 43s - loss: -5571.34 - ETA: 43s - loss: -5572.68 - ETA: 43s - loss: -5571.35 - ETA: 42s - loss: -5569.16 - ETA: 42s - loss: -5570.85 - ETA: 42s - loss: -5570.55 - ETA: 42s - loss: -5571.29 - ETA: 42s - loss: -5569.46 - ETA: 42s - loss: -5569.01 - ETA: 42s - loss: -5568.54 - ETA: 41s - loss: -5569.67 - ETA: 41s - loss: -5570.59 - ETA: 41s - loss: -5572.78 - ETA: 40s - loss: -5574.27 - ETA: 40s - loss: -5575.06 - ETA: 40s - loss: -5576.27 - ETA: 40s - loss: -5573.94 - ETA: 40s - loss: -5572.50 - ETA: 39s - loss: -5572.35 - ETA: 39s - loss: -5570.97 - ETA: 39s - loss: -5572.13 - ETA: 39s - loss: -5572.12 - ETA: 39s - loss: -5572.72 - ETA: 38s - loss: -5571.76 - ETA: 38s - loss: -5571.00 - ETA: 38s - loss: -5569.99 - ETA: 38s - loss: -5569.70 - ETA: 38s - loss: -5570.14 - ETA: 38s - loss: -5570.14 - ETA: 38s - loss: -5570.37 - ETA: 37s - loss: -5570.79 - ETA: 37s - loss: -5570.62 - ETA: 37s - loss: -5570.54 - ETA: 37s - loss: -5570.14 - ETA: 37s - loss: -5569.69 - ETA: 37s - loss: -5570.27 - ETA: 37s - loss: -5570.08 - ETA: 37s - loss: -5570.96 - ETA: 36s - loss: -5571.48 - ETA: 36s - loss: -5571.34 - ETA: 36s - loss: -5570.89 - ETA: 36s - loss: -5571.37 - ETA: 36s - loss: -5571.53 - ETA: 36s - loss: -5573.58 - ETA: 36s - loss: -5573.63 - ETA: 36s - loss: -5574.51 - ETA: 36s - loss: -5573.83 - ETA: 36s - loss: -5573.78 - ETA: 36s - loss: -5574.55 - ETA: 36s - loss: -5573.69 - ETA: 35s - loss: -5574.21 - ETA: 35s - loss: -5574.60 - ETA: 35s - loss: -5573.13 - ETA: 35s - loss: -5572.41 - ETA: 35s - loss: -5572.60 - ETA: 35s - loss: -5573.48 - ETA: 35s - loss: -5573.92 - ETA: 35s - loss: -5573.81 - ETA: 35s - loss: -5573.19 - ETA: 35s - loss: -5573.52 - ETA: 35s - loss: -5572.38 - ETA: 35s - loss: -5572.86 - ETA: 35s - loss: -5571.65 - ETA: 35s - loss: -5571.35 - ETA: 34s - loss: -5571.56 - ETA: 34s - loss: -5570.79 - ETA: 34s - loss: -5570.03 - ETA: 34s - loss: -5569.99 - ETA: 34s - loss: -5570.94 - ETA: 34s - loss: -5571.40 - ETA: 34s - loss: -5571.37 - ETA: 34s - loss: -5572.16 - ETA: 34s - loss: -5572.82 - ETA: 34s - loss: -5572.74 - ETA: 34s - loss: -5571.87 - ETA: 33s - loss: -5570.82 - ETA: 33s - loss: -5571.84 - ETA: 33s - loss: -5571.42 - ETA: 33s - loss: -5570.81 - ETA: 33s - loss: -5570.31 - ETA: 33s - loss: -5570.44 - ETA: 33s - loss: -5569.92 - ETA: 33s - loss: -5569.40 - ETA: 33s - loss: -5568.95 - ETA: 33s - loss: -5569.71 - ETA: 33s - loss: -5569.91 - ETA: 32s - loss: -5570.24 - ETA: 32s - loss: -5570.46 - ETA: 32s - loss: -5570.78 - ETA: 32s - loss: -5571.01 - ETA: 32s - loss: -5570.85 - ETA: 32s - loss: -5570.49 - ETA: 32s - loss: -5570.69 - ETA: 32s - loss: -5570.80 - ETA: 32s - loss: -5570.89 - ETA: 32s - loss: -5570.93 - ETA: 32s - loss: -5571.19 - ETA: 32s - loss: -5571.50 - ETA: 32s - loss: -5571.70 - ETA: 32s - loss: -5571.74 - ETA: 31s - loss: -5571.78 - ETA: 31s - loss: -5572.06 - ETA: 31s - loss: -5572.34 - ETA: 31s - loss: -5571.52 - ETA: 31s - loss: -5571.39 - ETA: 31s - loss: -5571.32 - ETA: 31s - loss: -5570.88 - ETA: 31s - loss: -5570.76 - ETA: 31s - loss: -5571.03 - ETA: 31s - loss: -5570.33 - ETA: 31s - loss: -5570.28 - ETA: 31s - loss: -5570.56 - ETA: 31s - loss: -5570.39 - ETA: 31s - loss: -5570.88 - ETA: 31s - loss: -5570.53 - ETA: 31s - loss: -5570.15 - ETA: 31s - loss: -5570.66 - ETA: 31s - loss: -5570.86 - ETA: 30s - loss: -5570.83 - ETA: 30s - loss: -5570.36 - ETA: 30s - loss: -5570.54 - ETA: 30s - loss: -5570.94 - ETA: 30s - loss: -5571.22 - ETA: 30s - loss: -5571.63 - ETA: 30s - loss: -5571.75 - ETA: 30s - loss: -5572.02 - ETA: 30s - loss: -5571.88 - ETA: 30s - loss: -5571.77 - ETA: 30s - loss: -5571.49 - ETA: 30s - loss: -5571.38 - ETA: 30s - loss: -5571.35 - ETA: 30s - loss: -5571.79 - ETA: 30s - loss: -5572.00 - ETA: 30s - loss: -5571.72 - ETA: 30s - loss: -5571.15 - ETA: 30s - loss: -5572.03 - ETA: 30s - loss: -5571.88 - ETA: 30s - loss: -5571.38 - ETA: 29s - loss: -5571.22 - ETA: 29s - loss: -5571.36 - ETA: 29s - loss: -5571.28 - ETA: 29s - loss: -5571.28 - ETA: 29s - loss: -5571.30 - ETA: 29s - loss: -5570.81 - ETA: 29s - loss: -5570.94 - ETA: 29s - loss: -5571.42 - ETA: 29s - loss: -5571.16 - ETA: 29s - loss: -5571.16 - ETA: 29s - loss: -5570.85 - ETA: 29s - loss: -5571.12 - ETA: 29s - loss: -5571.03 - ETA: 29s - loss: -5570.99 - ETA: 28s - loss: -5570.83 - ETA: 28s - loss: -5571.24 - ETA: 28s - loss: -5571.78 - ETA: 28s - loss: -5571.94 - ETA: 28s - loss: -5571.98 - ETA: 28s - loss: -5572.27 - ETA: 28s - loss: -5572.25 - ETA: 28s - loss: -5572.49 - ETA: 28s - loss: -5572.39 - ETA: 28s - loss: -5572.30 - ETA: 28s - loss: -5572.43 - ETA: 28s - loss: -5572.26 - ETA: 28s - loss: -5572.36 - ETA: 28s - loss: -5572.65 - ETA: 28s - loss: -5572.55 - ETA: 28s - loss: -5572.59 - ETA: 27s - loss: -5572.68 - ETA: 27s - loss: -5572.37 - ETA: 27s - loss: -5572.55 - ETA: 27s - loss: -5572.71 - ETA: 27s - loss: -5572.60 - ETA: 27s - loss: -5572.59 - ETA: 27s - loss: -5572.41 - ETA: 27s - loss: -5572.64 - ETA: 27s - loss: -5572.58 - ETA: 27s - loss: -5572.57 - ETA: 27s - loss: -5572.64 - ETA: 27s - loss: -5572.76 - ETA: 27s - loss: -5572.79 - ETA: 27s - loss: -5573.08 - ETA: 27s - loss: -5573.29 - ETA: 27s - loss: -5573.41 - ETA: 27s - loss: -5573.69 - ETA: 27s - loss: -5573.81 - ETA: 27s - loss: -5573.74 - ETA: 27s - loss: -5573.59 - ETA: 27s - loss: -5573.67 - ETA: 27s - loss: -5573.74 - ETA: 27s - loss: -5573.77 - ETA: 26s - loss: -5574.07 - ETA: 26s - loss: -5573.87 - ETA: 26s - loss: -5573.93 - ETA: 26s - loss: -5573.62 - ETA: 26s - loss: -5573.52 - ETA: 26s - loss: -5573.41 - ETA: 26s - loss: -5573.74 - ETA: 26s - loss: -5573.68 - ETA: 26s - loss: -5573.67 - ETA: 26s - loss: -5573.97 - ETA: 26s - loss: -5573.87 - ETA: 26s - loss: -5573.65 - ETA: 26s - loss: -5573.72 - ETA: 26s - loss: -5573.52 - ETA: 26s - loss: -5573.13 - ETA: 25s - loss: -5573.02 - ETA: 25s - loss: -5573.12 - ETA: 25s - loss: -5573.18 - ETA: 25s - loss: -5573.37 - ETA: 25s - loss: -5573.52 - ETA: 25s - loss: -5573.56 - ETA: 25s - loss: -5573.54 - ETA: 25s - loss: -5573.50 - ETA: 25s - loss: -5573.40 - ETA: 25s - loss: -5573.59 - ETA: 25s - loss: -5573.60 - ETA: 25s - loss: -5573.63 - ETA: 25s - loss: -5573.67 - ETA: 25s - loss: -5573.57 - ETA: 25s - loss: -5573.41 - ETA: 25s - loss: -5573.45 - ETA: 25s - loss: -5573.44 - ETA: 24s - loss: -5573.60 - ETA: 24s - loss: -5573.37 - ETA: 24s - loss: -5573.59 - ETA: 24s - loss: -5573.68 - ETA: 24s - loss: -5573.31 - ETA: 24s - loss: -5573.61 - ETA: 24s - loss: -5573.53 - ETA: 24s - loss: -5573.46 - ETA: 24s - loss: -5573.70 - ETA: 24s - loss: -5573.84 - ETA: 24s - loss: -5573.60 - ETA: 24s - loss: -5573.55 - ETA: 24s - loss: -5573.61 - ETA: 24s - loss: -5573.41 - ETA: 24s - loss: -5573.57 - ETA: 24s - loss: -5572.93 - ETA: 24s - loss: -5572.74 - ETA: 23s - loss: -5572.87 - ETA: 23s - loss: -5572.92 - ETA: 23s - loss: -5573.14 - ETA: 23s - loss: -5572.97 - ETA: 23s - loss: -5572.91 - ETA: 23s - loss: -5572.99 - ETA: 23s - loss: -5573.25 - ETA: 23s - loss: -5573.35 - ETA: 23s - loss: -5573.27 - ETA: 23s - loss: -5573.30 - ETA: 23s - loss: -5573.40 - ETA: 23s - loss: -5573.29 - ETA: 23s - loss: -5573.16 - ETA: 23s - loss: -5573.32 - ETA: 23s - loss: -5573.44 - ETA: 23s - loss: -5573.54 - ETA: 22s - loss: -5573.16 - ETA: 22s - loss: -5573.37 - ETA: 22s - loss: -5573.30 - ETA: 22s - loss: -5573.35 - ETA: 22s - loss: -5573.38 - ETA: 22s - loss: -5573.15 - ETA: 22s - loss: -5573.22 - ETA: 22s - loss: -5573.22 - ETA: 22s - loss: -5573.1472"
     ]
    },
    {
     "name": "stdout",
     "output_type": "stream",
     "text": [
      "144000/169807 [========================>.....] - ETA: 22s - loss: -5572.94 - ETA: 22s - loss: -5572.93 - ETA: 22s - loss: -5573.03 - ETA: 22s - loss: -5573.18 - ETA: 22s - loss: -5573.43 - ETA: 22s - loss: -5573.36 - ETA: 22s - loss: -5573.47 - ETA: 22s - loss: -5573.44 - ETA: 22s - loss: -5573.63 - ETA: 22s - loss: -5573.35 - ETA: 22s - loss: -5573.45 - ETA: 22s - loss: -5573.24 - ETA: 22s - loss: -5573.15 - ETA: 22s - loss: -5573.19 - ETA: 22s - loss: -5572.90 - ETA: 22s - loss: -5573.03 - ETA: 22s - loss: -5573.04 - ETA: 21s - loss: -5572.92 - ETA: 21s - loss: -5572.89 - ETA: 21s - loss: -5573.17 - ETA: 21s - loss: -5573.47 - ETA: 21s - loss: -5573.48 - ETA: 21s - loss: -5573.62 - ETA: 21s - loss: -5573.80 - ETA: 21s - loss: -5573.68 - ETA: 21s - loss: -5573.87 - ETA: 21s - loss: -5573.69 - ETA: 21s - loss: -5574.01 - ETA: 21s - loss: -5573.99 - ETA: 21s - loss: -5574.26 - ETA: 21s - loss: -5574.32 - ETA: 21s - loss: -5574.42 - ETA: 21s - loss: -5574.28 - ETA: 20s - loss: -5574.51 - ETA: 20s - loss: -5574.49 - ETA: 20s - loss: -5574.30 - ETA: 20s - loss: -5574.24 - ETA: 20s - loss: -5574.23 - ETA: 20s - loss: -5574.20 - ETA: 20s - loss: -5574.19 - ETA: 20s - loss: -5574.21 - ETA: 20s - loss: -5574.17 - ETA: 20s - loss: -5574.28 - ETA: 20s - loss: -5574.27 - ETA: 20s - loss: -5574.42 - ETA: 20s - loss: -5574.43 - ETA: 20s - loss: -5574.42 - ETA: 20s - loss: -5574.27 - ETA: 20s - loss: -5574.33 - ETA: 19s - loss: -5574.33 - ETA: 19s - loss: -5574.31 - ETA: 19s - loss: -5574.05 - ETA: 19s - loss: -5573.96 - ETA: 19s - loss: -5574.23 - ETA: 19s - loss: -5574.17 - ETA: 19s - loss: -5574.23 - ETA: 19s - loss: -5574.25 - ETA: 19s - loss: -5574.24 - ETA: 19s - loss: -5574.21 - ETA: 19s - loss: -5574.47 - ETA: 19s - loss: -5574.44 - ETA: 19s - loss: -5574.51 - ETA: 19s - loss: -5574.53 - ETA: 19s - loss: -5574.48 - ETA: 19s - loss: -5574.75 - ETA: 19s - loss: -5574.69 - ETA: 18s - loss: -5574.62 - ETA: 18s - loss: -5574.51 - ETA: 18s - loss: -5574.41 - ETA: 18s - loss: -5574.25 - ETA: 18s - loss: -5574.21 - ETA: 18s - loss: -5574.12 - ETA: 18s - loss: -5574.03 - ETA: 18s - loss: -5574.04 - ETA: 18s - loss: -5573.95 - ETA: 18s - loss: -5573.96 - ETA: 18s - loss: -5574.17 - ETA: 18s - loss: -5574.31 - ETA: 18s - loss: -5574.20 - ETA: 18s - loss: -5574.00 - ETA: 18s - loss: -5573.72 - ETA: 18s - loss: -5573.50 - ETA: 18s - loss: -5573.24 - ETA: 17s - loss: -5573.29 - ETA: 17s - loss: -5573.52 - ETA: 17s - loss: -5573.28 - ETA: 17s - loss: -5573.24 - ETA: 17s - loss: -5573.42 - ETA: 17s - loss: -5573.77 - ETA: 17s - loss: -5573.67 - ETA: 17s - loss: -5573.56 - ETA: 17s - loss: -5573.92 - ETA: 17s - loss: -5573.79 - ETA: 17s - loss: -5573.80 - ETA: 17s - loss: -5573.87 - ETA: 17s - loss: -5573.70 - ETA: 17s - loss: -5573.58 - ETA: 17s - loss: -5573.36 - ETA: 17s - loss: -5573.31 - ETA: 17s - loss: -5573.27 - ETA: 16s - loss: -5573.37 - ETA: 16s - loss: -5573.39 - ETA: 16s - loss: -5573.36 - ETA: 16s - loss: -5573.08 - ETA: 16s - loss: -5573.06 - ETA: 16s - loss: -5573.08 - ETA: 16s - loss: -5573.24 - ETA: 16s - loss: -5573.24 - ETA: 16s - loss: -5573.03 - ETA: 16s - loss: -5573.00 - ETA: 16s - loss: -5572.94 - ETA: 16s - loss: -5572.95 - ETA: 16s - loss: -5573.13 - ETA: 16s - loss: -5573.22 - ETA: 16s - loss: -5573.38 - ETA: 16s - loss: -5573.43 - ETA: 15s - loss: -5573.21 - ETA: 15s - loss: -5572.98 - ETA: 15s - loss: -5572.87 - ETA: 15s - loss: -5572.97 - ETA: 15s - loss: -5572.98 - ETA: 15s - loss: -5572.91 - ETA: 15s - loss: -5572.82 - ETA: 15s - loss: -5572.87 - ETA: 15s - loss: -5572.75 - ETA: 15s - loss: -5572.62 - ETA: 15s - loss: -5572.61 - ETA: 15s - loss: -5572.52 - ETA: 15s - loss: -5572.75 - ETA: 15s - loss: -5572.63 - ETA: 15s - loss: -5572.43 - ETA: 15s - loss: -5572.60 - ETA: 15s - loss: -5572.62 - ETA: 14s - loss: -5572.62 - ETA: 14s - loss: -5572.45 - ETA: 14s - loss: -5572.47 - ETA: 14s - loss: -5572.25 - ETA: 14s - loss: -5572.23 - ETA: 14s - loss: -5572.12 - ETA: 14s - loss: -5571.89 - ETA: 14s - loss: -5571.70 - ETA: 14s - loss: -5571.68 - ETA: 14s - loss: -5571.48 - ETA: 14s - loss: -5571.42 - ETA: 14s - loss: -5571.28 - ETA: 14s - loss: -5571.25 - ETA: 14s - loss: -5571.26 - ETA: 14s - loss: -5571.28 - ETA: 14s - loss: -5571.27 - ETA: 13s - loss: -5571.34 - ETA: 13s - loss: -5571.49 - ETA: 13s - loss: -5571.33 - ETA: 13s - loss: -5571.47 - ETA: 13s - loss: -5571.55 - ETA: 13s - loss: -5571.47 - ETA: 13s - loss: -5571.36 - ETA: 13s - loss: -5571.40 - ETA: 13s - loss: -5571.33 - ETA: 13s - loss: -5571.36 - ETA: 13s - loss: -5571.39 - ETA: 13s - loss: -5571.37 - ETA: 13s - loss: -5571.34 - ETA: 13s - loss: -5571.19 - ETA: 13s - loss: -5571.19 - ETA: 13s - loss: -5571.14 - ETA: 13s - loss: -5570.91 - ETA: 12s - loss: -5570.94 - ETA: 12s - loss: -5570.91 - ETA: 12s - loss: -5570.94 - ETA: 12s - loss: -5570.69 - ETA: 12s - loss: -5570.61 - ETA: 12s - loss: -5570.55 - ETA: 12s - loss: -5570.52 - ETA: 12s - loss: -5570.55 - ETA: 12s - loss: -5570.47 - ETA: 12s - loss: -5570.39 - ETA: 12s - loss: -5570.13 - ETA: 12s - loss: -5569.93 - ETA: 12s - loss: -5569.93 - ETA: 12s - loss: -5569.91 - ETA: 12s - loss: -5570.03 - ETA: 12s - loss: -5570.06 - ETA: 12s - loss: -5570.07 - ETA: 11s - loss: -5570.00 - ETA: 11s - loss: -5570.13 - ETA: 11s - loss: -5570.07 - ETA: 11s - loss: -5570.13 - ETA: 11s - loss: -5570.10 - ETA: 11s - loss: -5570.17 - ETA: 11s - loss: -5570.29 - ETA: 11s - loss: -5570.30 - ETA: 11s - loss: -5570.38 - ETA: 11s - loss: -5570.40 - ETA: 11s - loss: -5570.55 - ETA: 11s - loss: -5570.67 - ETA: 11s - loss: -5570.51 - ETA: 11s - loss: -5570.36 - ETA: 11s - loss: -5570.45 - ETA: 11s - loss: -5570.84 - ETA: 10s - loss: -5571.11 - ETA: 10s - loss: -5571.57 - ETA: 10s - loss: -5572.36 - ETA: 10s - loss: -5573.58 - ETA: 10s - loss: -5575.21 - ETA: 10s - loss: -5576.67 - ETA: 10s - loss: -5578.21 - ETA: 10s - loss: -5579.82 - ETA: 10s - loss: -5581.04 - ETA: 10s - loss: -5582.35 - ETA: 10s - loss: -5583.78 - ETA: 10s - loss: -5585.41 - ETA: 10s - loss: -5586.83 - ETA: 10s - loss: -5588.40 - ETA: 10s - loss: -5589.87 - ETA: 10s - loss: -5591.22 - ETA: 10s - loss: -5592.68 - ETA: 10s - loss: -5594.33 - ETA: 9s - loss: -5595.8116 - ETA: 9s - loss: -5597.341 - ETA: 9s - loss: -5598.768 - ETA: 9s - loss: -5600.395 - ETA: 9s - loss: -5601.780 - ETA: 9s - loss: -5602.456 - ETA: 9s - loss: -5603.525 - ETA: 9s - loss: -5604.193 - ETA: 9s - loss: -5604.503 - ETA: 9s - loss: -5605.480 - ETA: 9s - loss: -5606.533 - ETA: 9s - loss: -5607.336 - ETA: 9s - loss: -5608.589 - ETA: 9s - loss: -5610.203 - ETA: 9s - loss: -5611.494 - ETA: 9s - loss: -5612.888 - ETA: 9s - loss: -5614.310 - ETA: 9s - loss: -5615.884 - ETA: 9s - loss: -5617.136 - ETA: 9s - loss: -5618.279 - ETA: 9s - loss: -5619.766 - ETA: 8s - loss: -5621.307 - ETA: 8s - loss: -5622.329 - ETA: 8s - loss: -5623.374 - ETA: 8s - loss: -5624.896 - ETA: 8s - loss: -5626.641 - ETA: 8s - loss: -5628.065 - ETA: 8s - loss: -5629.330 - ETA: 8s - loss: -5630.904 - ETA: 8s - loss: -5632.505 - ETA: 8s - loss: -5634.046 - ETA: 8s - loss: -5635.379 - ETA: 8s - loss: -5636.756 - ETA: 8s - loss: -5637.986 - ETA: 8s - loss: -5639.354 - ETA: 8s - loss: -5640.884 - ETA: 8s - loss: -5642.067 - ETA: 8s - loss: -5643.400 - ETA: 8s - loss: -5644.684 - ETA: 7s - loss: -5645.991 - ETA: 7s - loss: -5647.230 - ETA: 7s - loss: -5648.516 - ETA: 7s - loss: -5649.751 - ETA: 7s - loss: -5651.068 - ETA: 7s - loss: -5652.462 - ETA: 7s - loss: -5653.680 - ETA: 7s - loss: -5654.979 - ETA: 7s - loss: -5656.321 - ETA: 7s - loss: -5657.624 - ETA: 7s - loss: -5658.903 - ETA: 7s - loss: -5660.185 - ETA: 7s - loss: -5661.522 - ETA: 7s - loss: -5662.674 - ETA: 7s - loss: -5663.917 - ETA: 7s - loss: -5665.044 - ETA: 6s - loss: -5666.357 - ETA: 6s - loss: -5667.528 - ETA: 6s - loss: -5668.813 - ETA: 6s - loss: -5669.763 - ETA: 6s - loss: -5670.659 - ETA: 6s - loss: -5671.899 - ETA: 6s - loss: -5672.948 - ETA: 6s - loss: -5674.209 - ETA: 6s - loss: -5675.390 - ETA: 6s - loss: -5676.311 - ETA: 6s - loss: -5677.413 - ETA: 6s - loss: -5678.587 - ETA: 6s - loss: -5679.826 - ETA: 6s - loss: -5681.133 - ETA: 6s - loss: -5682.123 - ETA: 6s - loss: -5683.220 - ETA: 6s - loss: -5684.527 - ETA: 6s - loss: -5685.765 - ETA: 5s - loss: -5686.9347"
     ]
    },
    {
     "name": "stdout",
     "output_type": "stream",
     "text": [
      "169807/169807 [==============================] - ETA: 5s - loss: -5687.754 - ETA: 5s - loss: -5688.751 - ETA: 5s - loss: -5689.871 - ETA: 5s - loss: -5690.957 - ETA: 5s - loss: -5692.232 - ETA: 5s - loss: -5693.322 - ETA: 5s - loss: -5694.545 - ETA: 5s - loss: -5695.639 - ETA: 5s - loss: -5696.856 - ETA: 5s - loss: -5697.956 - ETA: 5s - loss: -5699.043 - ETA: 5s - loss: -5699.868 - ETA: 5s - loss: -5700.696 - ETA: 5s - loss: -5701.850 - ETA: 5s - loss: -5703.006 - ETA: 5s - loss: -5704.075 - ETA: 5s - loss: -5704.931 - ETA: 4s - loss: -5705.997 - ETA: 4s - loss: -5707.144 - ETA: 4s - loss: -5708.200 - ETA: 4s - loss: -5709.265 - ETA: 4s - loss: -5710.352 - ETA: 4s - loss: -5711.466 - ETA: 4s - loss: -5712.501 - ETA: 4s - loss: -5713.511 - ETA: 4s - loss: -5714.312 - ETA: 4s - loss: -5715.343 - ETA: 4s - loss: -5716.505 - ETA: 4s - loss: -5717.361 - ETA: 4s - loss: -5718.370 - ETA: 4s - loss: -5719.177 - ETA: 4s - loss: -5720.146 - ETA: 4s - loss: -5721.048 - ETA: 4s - loss: -5721.938 - ETA: 3s - loss: -5722.985 - ETA: 3s - loss: -5723.986 - ETA: 3s - loss: -5725.118 - ETA: 3s - loss: -5726.244 - ETA: 3s - loss: -5727.113 - ETA: 3s - loss: -5728.155 - ETA: 3s - loss: -5729.232 - ETA: 3s - loss: -5730.281 - ETA: 3s - loss: -5730.957 - ETA: 3s - loss: -5731.833 - ETA: 3s - loss: -5732.864 - ETA: 3s - loss: -5733.981 - ETA: 3s - loss: -5734.914 - ETA: 3s - loss: -5735.789 - ETA: 3s - loss: -5736.521 - ETA: 3s - loss: -5737.518 - ETA: 2s - loss: -5738.346 - ETA: 2s - loss: -5739.414 - ETA: 2s - loss: -5740.536 - ETA: 2s - loss: -5741.412 - ETA: 2s - loss: -5742.491 - ETA: 2s - loss: -5743.564 - ETA: 2s - loss: -5744.433 - ETA: 2s - loss: -5745.495 - ETA: 2s - loss: -5746.352 - ETA: 2s - loss: -5747.140 - ETA: 2s - loss: -5748.052 - ETA: 2s - loss: -5749.182 - ETA: 2s - loss: -5750.265 - ETA: 2s - loss: -5751.017 - ETA: 2s - loss: -5751.881 - ETA: 2s - loss: -5752.836 - ETA: 2s - loss: -5753.726 - ETA: 1s - loss: -5754.760 - ETA: 1s - loss: -5755.433 - ETA: 1s - loss: -5756.285 - ETA: 1s - loss: -5757.031 - ETA: 1s - loss: -5757.895 - ETA: 1s - loss: -5758.767 - ETA: 1s - loss: -5759.623 - ETA: 1s - loss: -5760.696 - ETA: 1s - loss: -5761.506 - ETA: 1s - loss: -5762.398 - ETA: 1s - loss: -5763.266 - ETA: 1s - loss: -5764.162 - ETA: 1s - loss: -5765.043 - ETA: 1s - loss: -5765.892 - ETA: 1s - loss: -5766.757 - ETA: 1s - loss: -5767.723 - ETA: 1s - loss: -5768.389 - ETA: 0s - loss: -5769.196 - ETA: 0s - loss: -5769.973 - ETA: 0s - loss: -5770.812 - ETA: 0s - loss: -5771.277 - ETA: 0s - loss: -5771.866 - ETA: 0s - loss: -5772.490 - ETA: 0s - loss: -5773.369 - ETA: 0s - loss: -5774.131 - ETA: 0s - loss: -5774.955 - ETA: 0s - loss: -5775.792 - ETA: 0s - loss: -5776.705 - ETA: 0s - loss: -5777.680 - ETA: 0s - loss: -5778.667 - ETA: 0s - loss: -5779.522 - ETA: 0s - loss: -5780.361 - ETA: 0s - loss: -5781.237 - ETA: 0s - loss: -5781.833 - ETA: 0s - loss: -5782.642 - 41s 240us/step - loss: -5783.2590 - val_loss: -6335.7058\n"
     ]
    }
   ],
   "source": [
    "history = autoencoder_32.fit(X, X, epochs=4, batch_size=64, verbose=1, validation_data=(Xtest, Xtest))"
   ]
  },
  {
   "cell_type": "code",
   "execution_count": 46,
   "metadata": {},
   "outputs": [
    {
     "name": "stdout",
     "output_type": "stream",
     "text": [
      "{'val_loss': [-1519.4886301924544, -1519.4886301924544, -1519.4886301924544, -1519.4886305660793, -1519.4886307528918, -1519.488631126517], 'loss': [-1418.2337746746123, -1519.0818912214263, -1519.0818904069388, -1519.0818960062702, -1519.0818922070064, -1519.0818922522956]}\n"
     ]
    },
    {
     "data": {
      "image/png": "[encoded data removed]",
      "text/plain": [
       "<Figure size 432x288 with 1 Axes>"
      ]
     },
     "metadata": {
      "needs_background": "light"
     },
     "output_type": "display_data"
    }
   ],
   "source": [
    "fig, ax = plt.subplots()\n",
    "\n",
    "plt.plot([0]+history.history['loss'], label='train')\n",
    "plt.plot([0]+history.history['val_loss'], label='test')\n",
    "plt.legend()\n",
    "plt.show()"
   ]
  },
  {
   "cell_type": "code",
   "execution_count": 25,
   "metadata": {},
   "outputs": [],
   "source": [
    "predictions = autoencoder_32.predict(Xvalid)\n",
    "# TODO I should probably do something with the validation set"
   ]
  },
  {
   "cell_type": "code",
   "execution_count": 26,
   "metadata": {},
   "outputs": [],
   "source": [
    "autoencoder_32.save(model_path + 'autoencoder_32')\n",
    "encoder_32.save(model_path + 'encoder_32')"
   ]
  },
  {
   "cell_type": "markdown",
   "metadata": {},
   "source": [
    "5 wide encoder"
   ]
  },
  {
   "cell_type": "code",
   "execution_count": 27,
   "metadata": {},
   "outputs": [],
   "source": [
    "import keras\n",
    "from keras import layers"
   ]
  },
  {
   "cell_type": "code",
   "execution_count": 28,
   "metadata": {},
   "outputs": [],
   "source": [
    "X = Train.to_numpy()[:,3:]\n",
    "Xtest = Test.to_numpy()[:,3:]\n",
    "Xvalid = Valid.to_numpy()[:,3:]"
   ]
  },
  {
   "cell_type": "code",
   "execution_count": 29,
   "metadata": {},
   "outputs": [],
   "source": [
    "input_dim = X.shape[1]\n",
    "encoding_dim = 5\n",
    "\n",
    "input_layer = keras.Input(shape=(input_dim,))\n",
    "encoded_layer = layers.Dense(encoding_dim, activation='relu')(input_layer)\n",
    "decoded_layer = layers.Dense(input_dim, activation='relu')(encoded_layer)\n",
    "\n",
    "autoencoder_5 = keras.Model(input_layer,decoded_layer)\n",
    "\n",
    "encoder_5 = keras.Model(input_layer, encoded_layer)"
   ]
  },
  {
   "cell_type": "code",
   "execution_count": 30,
   "metadata": {},
   "outputs": [],
   "source": [
    "autoencoder_5.compile(optimizer='adam',\n",
    "                    loss='binary_crossentropy')"
   ]
  },
  {
   "cell_type": "code",
   "execution_count": 31,
   "metadata": {},
   "outputs": [
    {
     "name": "stdout",
     "output_type": "stream",
     "text": [
      "_________________________________________________________________\n",
      "Layer (type)                 Output Shape              Param #   \n",
      "=================================================================\n",
      "input_2 (InputLayer)         (None, 136)               0         \n",
      "_________________________________________________________________\n",
      "dense_3 (Dense)              (None, 5)                 685       \n",
      "_________________________________________________________________\n",
      "dense_4 (Dense)              (None, 136)               816       \n",
      "=================================================================\n",
      "Total params: 1,501\n",
      "Trainable params: 1,501\n",
      "Non-trainable params: 0\n",
      "_________________________________________________________________\n"
     ]
    }
   ],
   "source": [
    "autoencoder_5.summary()"
   ]
  },
  {
   "cell_type": "code",
   "execution_count": 32,
   "metadata": {},
   "outputs": [
    {
     "name": "stdout",
     "output_type": "stream",
     "text": [
      "Train on 169807 samples, validate on 41820 samples\n",
      "Epoch 1/6\n"
     ]
    },
    {
     "name": "stdout",
     "output_type": "stream",
     "text": [
      " 85952/169807 [==============>...............] - ETA: 29:26 - loss: 468.87 - ETA: 6:20 - loss: 364.7703 - ETA: 3:47 - loss: 319.723 - ETA: 2:49 - loss: 256.621 - ETA: 2:17 - loss: 181.827 - ETA: 1:58 - loss: 91.817 - ETA: 1:44 - loss: 6.7163 - ETA: 1:34 - loss: -76.570 - ETA: 1:30 - loss: -136.68 - ETA: 1:24 - loss: -204.44 - ETA: 1:19 - loss: -268.68 - ETA: 1:14 - loss: -325.72 - ETA: 1:11 - loss: -377.20 - ETA: 1:07 - loss: -436.63 - ETA: 1:03 - loss: -488.84 - ETA: 1:00 - loss: -534.88 - ETA: 58s - loss: -575.2454 - ETA: 57s - loss: -603.346 - ETA: 56s - loss: -628.771 - ETA: 54s - loss: -658.234 - ETA: 53s - loss: -680.329 - ETA: 51s - loss: -704.894 - ETA: 50s - loss: -727.832 - ETA: 49s - loss: -744.615 - ETA: 48s - loss: -763.357 - ETA: 46s - loss: -783.784 - ETA: 46s - loss: -796.648 - ETA: 45s - loss: -811.099 - ETA: 45s - loss: -820.943 - ETA: 44s - loss: -835.572 - ETA: 43s - loss: -846.885 - ETA: 42s - loss: -857.671 - ETA: 42s - loss: -865.457 - ETA: 41s - loss: -872.574 - ETA: 41s - loss: -882.738 - ETA: 40s - loss: -890.620 - ETA: 40s - loss: -898.030 - ETA: 39s - loss: -904.881 - ETA: 39s - loss: -911.915 - ETA: 38s - loss: -918.550 - ETA: 38s - loss: -924.796 - ETA: 38s - loss: -930.728 - ETA: 37s - loss: -937.477 - ETA: 37s - loss: -941.447 - ETA: 37s - loss: -946.372 - ETA: 37s - loss: -950.175 - ETA: 36s - loss: -955.679 - ETA: 36s - loss: -960.068 - ETA: 36s - loss: -963.724 - ETA: 36s - loss: -966.908 - ETA: 36s - loss: -970.087 - ETA: 35s - loss: -973.045 - ETA: 35s - loss: -975.889 - ETA: 35s - loss: -978.693 - ETA: 35s - loss: -981.105 - ETA: 35s - loss: -983.810 - ETA: 35s - loss: -986.543 - ETA: 35s - loss: -989.086 - ETA: 35s - loss: -992.098 - ETA: 34s - loss: -994.344 - ETA: 34s - loss: -997.141 - ETA: 34s - loss: -999.137 - ETA: 34s - loss: -1001.38 - ETA: 34s - loss: -1003.66 - ETA: 34s - loss: -1005.60 - ETA: 34s - loss: -1007.69 - ETA: 34s - loss: -1009.81 - ETA: 34s - loss: -1011.59 - ETA: 33s - loss: -1013.63 - ETA: 33s - loss: -1015.98 - ETA: 33s - loss: -1017.52 - ETA: 33s - loss: -1019.29 - ETA: 33s - loss: -1020.78 - ETA: 33s - loss: -1022.06 - ETA: 33s - loss: -1024.02 - ETA: 32s - loss: -1026.41 - ETA: 32s - loss: -1028.13 - ETA: 32s - loss: -1029.91 - ETA: 32s - loss: -1031.42 - ETA: 32s - loss: -1033.06 - ETA: 32s - loss: -1034.26 - ETA: 32s - loss: -1035.47 - ETA: 31s - loss: -1037.14 - ETA: 31s - loss: -1039.43 - ETA: 31s - loss: -1042.94 - ETA: 31s - loss: -1045.59 - ETA: 31s - loss: -1047.81 - ETA: 31s - loss: -1050.71 - ETA: 31s - loss: -1053.46 - ETA: 30s - loss: -1056.20 - ETA: 30s - loss: -1058.32 - ETA: 30s - loss: -1060.49 - ETA: 30s - loss: -1062.21 - ETA: 30s - loss: -1064.33 - ETA: 30s - loss: -1066.59 - ETA: 30s - loss: -1068.00 - ETA: 30s - loss: -1069.95 - ETA: 30s - loss: -1072.52 - ETA: 30s - loss: -1073.72 - ETA: 30s - loss: -1075.51 - ETA: 30s - loss: -1077.14 - ETA: 30s - loss: -1079.00 - ETA: 30s - loss: -1081.01 - ETA: 29s - loss: -1082.79 - ETA: 29s - loss: -1083.81 - ETA: 29s - loss: -1085.73 - ETA: 29s - loss: -1087.36 - ETA: 29s - loss: -1088.88 - ETA: 29s - loss: -1090.31 - ETA: 29s - loss: -1091.85 - ETA: 29s - loss: -1093.57 - ETA: 29s - loss: -1094.91 - ETA: 29s - loss: -1096.49 - ETA: 29s - loss: -1097.91 - ETA: 29s - loss: -1099.29 - ETA: 29s - loss: -1100.96 - ETA: 28s - loss: -1102.62 - ETA: 28s - loss: -1104.44 - ETA: 28s - loss: -1107.06 - ETA: 28s - loss: -1109.87 - ETA: 28s - loss: -1111.92 - ETA: 28s - loss: -1114.04 - ETA: 28s - loss: -1116.14 - ETA: 28s - loss: -1118.71 - ETA: 28s - loss: -1120.79 - ETA: 28s - loss: -1123.65 - ETA: 28s - loss: -1126.11 - ETA: 27s - loss: -1128.30 - ETA: 27s - loss: -1129.67 - ETA: 27s - loss: -1132.51 - ETA: 27s - loss: -1134.86 - ETA: 27s - loss: -1137.24 - ETA: 27s - loss: -1139.51 - ETA: 27s - loss: -1141.70 - ETA: 27s - loss: -1143.82 - ETA: 27s - loss: -1145.75 - ETA: 27s - loss: -1147.42 - ETA: 26s - loss: -1149.15 - ETA: 26s - loss: -1151.15 - ETA: 26s - loss: -1153.11 - ETA: 26s - loss: -1155.20 - ETA: 26s - loss: -1157.23 - ETA: 26s - loss: -1159.20 - ETA: 26s - loss: -1160.56 - ETA: 26s - loss: -1162.26 - ETA: 26s - loss: -1163.53 - ETA: 26s - loss: -1165.35 - ETA: 25s - loss: -1167.60 - ETA: 25s - loss: -1169.05 - ETA: 25s - loss: -1170.85 - ETA: 25s - loss: -1172.48 - ETA: 25s - loss: -1174.21 - ETA: 25s - loss: -1175.95 - ETA: 25s - loss: -1177.53 - ETA: 25s - loss: -1178.90 - ETA: 25s - loss: -1180.66 - ETA: 25s - loss: -1182.10 - ETA: 24s - loss: -1183.49 - ETA: 24s - loss: -1184.94 - ETA: 24s - loss: -1186.46 - ETA: 24s - loss: -1187.83 - ETA: 24s - loss: -1189.28 - ETA: 24s - loss: -1190.51 - ETA: 24s - loss: -1191.95 - ETA: 24s - loss: -1193.43 - ETA: 24s - loss: -1194.85 - ETA: 24s - loss: -1196.38 - ETA: 24s - loss: -1197.76 - ETA: 23s - loss: -1198.91 - ETA: 23s - loss: -1200.13 - ETA: 23s - loss: -1201.42 - ETA: 23s - loss: -1202.57 - ETA: 23s - loss: -1203.77 - ETA: 23s - loss: -1204.87 - ETA: 23s - loss: -1206.00 - ETA: 23s - loss: -1207.09 - ETA: 23s - loss: -1208.22 - ETA: 23s - loss: -1209.43 - ETA: 23s - loss: -1210.56 - ETA: 23s - loss: -1211.57 - ETA: 22s - loss: -1212.67 - ETA: 22s - loss: -1213.69 - ETA: 22s - loss: -1214.80 - ETA: 22s - loss: -1216.01 - ETA: 22s - loss: -1217.01 - ETA: 22s - loss: -1218.06 - ETA: 22s - loss: -1218.86 - ETA: 22s - loss: -1219.92 - ETA: 22s - loss: -1221.05 - ETA: 22s - loss: -1221.79 - ETA: 22s - loss: -1222.64 - ETA: 22s - loss: -1223.47 - ETA: 22s - loss: -1224.57 - ETA: 22s - loss: -1225.18 - ETA: 22s - loss: -1225.97 - ETA: 22s - loss: -1226.76 - ETA: 22s - loss: -1227.68 - ETA: 21s - loss: -1228.68 - ETA: 21s - loss: -1229.63 - ETA: 21s - loss: -1231.00 - ETA: 21s - loss: -1232.55 - ETA: 21s - loss: -1233.86 - ETA: 21s - loss: -1235.37 - ETA: 21s - loss: -1236.88 - ETA: 21s - loss: -1238.31 - ETA: 21s - loss: -1239.85 - ETA: 21s - loss: -1240.89 - ETA: 21s - loss: -1242.33 - ETA: 21s - loss: -1243.85 - ETA: 21s - loss: -1245.23 - ETA: 20s - loss: -1246.60 - ETA: 20s - loss: -1247.88 - ETA: 20s - loss: -1249.02 - ETA: 20s - loss: -1250.34 - ETA: 20s - loss: -1251.66 - ETA: 20s - loss: -1252.74 - ETA: 20s - loss: -1254.05 - ETA: 20s - loss: -1255.02 - ETA: 20s - loss: -1256.07 - ETA: 20s - loss: -1257.00 - ETA: 20s - loss: -1258.55 - ETA: 20s - loss: -1259.77 - ETA: 20s - loss: -1260.95 - ETA: 20s - loss: -1262.20 - ETA: 20s - loss: -1263.42 - ETA: 20s - loss: -1264.57 - ETA: 19s - loss: -1265.92 - ETA: 19s - loss: -1267.00 - ETA: 19s - loss: -1268.16 - ETA: 19s - loss: -1269.27 - ETA: 19s - loss: -1270.64 - ETA: 19s - loss: -1271.57 - ETA: 19s - loss: -1272.89 - ETA: 19s - loss: -1273.95 - ETA: 19s - loss: -1275.06 - ETA: 19s - loss: -1276.20 - ETA: 19s - loss: -1277.00 - ETA: 19s - loss: -1278.18 - ETA: 19s - loss: -1279.17 - ETA: 19s - loss: -1280.26 - ETA: 19s - loss: -1281.20 - ETA: 18s - loss: -1282.28 - ETA: 18s - loss: -1283.14 - ETA: 18s - loss: -1284.24 - ETA: 18s - loss: -1285.02 - ETA: 18s - loss: -1285.81 - ETA: 18s - loss: -1286.55 - ETA: 18s - loss: -1287.53 - ETA: 18s - loss: -1288.53 - ETA: 18s - loss: -1289.74 - ETA: 18s - loss: -1290.75 - ETA: 18s - loss: -1290.46 - ETA: 18s - loss: -1291.50 - ETA: 18s - loss: -1292.20 - ETA: 18s - loss: -1292.89 - ETA: 18s - loss: -1293.72 - ETA: 18s - loss: -1294.72 - ETA: 17s - loss: -1295.64 - ETA: 17s - loss: -1296.54 - ETA: 17s - loss: -1297.31 - ETA: 17s - loss: -1298.20 - ETA: 17s - loss: -1299.30 - ETA: 17s - loss: -1300.04 - ETA: 17s - loss: -1300.81 - ETA: 17s - loss: -1301.56 - ETA: 17s - loss: -1302.54 - ETA: 17s - loss: -1303.51 - ETA: 17s - loss: -1304.29 - ETA: 17s - loss: -1304.96 - ETA: 17s - loss: -1305.74 - ETA: 17s - loss: -1306.40 - ETA: 17s - loss: -1307.00 - ETA: 17s - loss: -1307.65 - ETA: 17s - loss: -1308.35 - ETA: 16s - loss: -1309.06 - ETA: 16s - loss: -1309.73 - ETA: 16s - loss: -1310.32 - ETA: 16s - loss: -1311.10 - ETA: 16s - loss: -1311.81 - ETA: 16s - loss: -1312.35 - ETA: 16s - loss: -1313.25 - ETA: 16s - loss: -1314.05 - ETA: 16s - loss: -1314.76 - ETA: 16s - loss: -1315.41 - ETA: 16s - loss: -1316.18 - ETA: 16s - loss: -1316.98 - ETA: 16s - loss: -1317.62 - ETA: 16s - loss: -1318.38 - ETA: 16s - loss: -1319.1991\b\b\b\b\b\b\b\b\b\b\b\b\b\b\b\b\b\b\b\b\b\b\b\b\b\b\b\b\b\b\b\b\b\b\b\b\b\b\b\b\b\b\b\b\b\b\b\b\b\b\b\b\b\b\b\b\b\b\b\b\b\b\b\b\b\b\b\b\b\b\b\b\b\b\b\b"
     ]
    },
    {
     "name": "stdout",
     "output_type": "stream",
     "text": [
      "169807/169807 [==============================] - ETA: 16s - loss: -1319.89 - ETA: 15s - loss: -1320.61 - ETA: 15s - loss: -1321.12 - ETA: 15s - loss: -1321.89 - ETA: 15s - loss: -1322.41 - ETA: 15s - loss: -1322.97 - ETA: 15s - loss: -1323.68 - ETA: 15s - loss: -1324.28 - ETA: 15s - loss: -1324.91 - ETA: 15s - loss: -1325.35 - ETA: 15s - loss: -1325.95 - ETA: 15s - loss: -1326.74 - ETA: 15s - loss: -1327.29 - ETA: 15s - loss: -1328.01 - ETA: 15s - loss: -1328.73 - ETA: 15s - loss: -1329.44 - ETA: 15s - loss: -1329.86 - ETA: 15s - loss: -1330.53 - ETA: 15s - loss: -1331.19 - ETA: 15s - loss: -1331.84 - ETA: 14s - loss: -1332.49 - ETA: 14s - loss: -1333.19 - ETA: 14s - loss: -1333.67 - ETA: 14s - loss: -1334.32 - ETA: 14s - loss: -1334.96 - ETA: 14s - loss: -1335.56 - ETA: 14s - loss: -1336.15 - ETA: 14s - loss: -1336.57 - ETA: 14s - loss: -1337.17 - ETA: 14s - loss: -1337.72 - ETA: 14s - loss: -1338.29 - ETA: 14s - loss: -1339.00 - ETA: 14s - loss: -1339.62 - ETA: 14s - loss: -1340.44 - ETA: 14s - loss: -1340.99 - ETA: 13s - loss: -1341.71 - ETA: 13s - loss: -1342.24 - ETA: 13s - loss: -1342.94 - ETA: 13s - loss: -1343.50 - ETA: 13s - loss: -1344.20 - ETA: 13s - loss: -1344.73 - ETA: 13s - loss: -1345.30 - ETA: 13s - loss: -1345.98 - ETA: 13s - loss: -1346.60 - ETA: 13s - loss: -1347.08 - ETA: 13s - loss: -1347.53 - ETA: 13s - loss: -1348.05 - ETA: 13s - loss: -1348.46 - ETA: 13s - loss: -1348.95 - ETA: 13s - loss: -1349.36 - ETA: 12s - loss: -1349.84 - ETA: 12s - loss: -1350.58 - ETA: 12s - loss: -1351.11 - ETA: 12s - loss: -1351.59 - ETA: 12s - loss: -1352.21 - ETA: 12s - loss: -1352.70 - ETA: 12s - loss: -1353.09 - ETA: 12s - loss: -1353.59 - ETA: 12s - loss: -1353.93 - ETA: 12s - loss: -1354.35 - ETA: 12s - loss: -1354.79 - ETA: 12s - loss: -1355.18 - ETA: 12s - loss: -1355.66 - ETA: 12s - loss: -1356.03 - ETA: 12s - loss: -1356.42 - ETA: 12s - loss: -1356.94 - ETA: 12s - loss: -1357.49 - ETA: 12s - loss: -1357.96 - ETA: 12s - loss: -1358.33 - ETA: 11s - loss: -1358.71 - ETA: 11s - loss: -1359.11 - ETA: 11s - loss: -1359.61 - ETA: 11s - loss: -1360.13 - ETA: 11s - loss: -1360.55 - ETA: 11s - loss: -1360.97 - ETA: 11s - loss: -1361.37 - ETA: 11s - loss: -1361.73 - ETA: 11s - loss: -1362.08 - ETA: 11s - loss: -1362.53 - ETA: 11s - loss: -1362.88 - ETA: 11s - loss: -1363.09 - ETA: 11s - loss: -1363.49 - ETA: 11s - loss: -1363.83 - ETA: 11s - loss: -1364.31 - ETA: 11s - loss: -1364.83 - ETA: 11s - loss: -1365.14 - ETA: 11s - loss: -1365.57 - ETA: 11s - loss: -1365.98 - ETA: 10s - loss: -1366.40 - ETA: 10s - loss: -1366.85 - ETA: 10s - loss: -1367.30 - ETA: 10s - loss: -1367.76 - ETA: 10s - loss: -1368.18 - ETA: 10s - loss: -1368.55 - ETA: 10s - loss: -1368.88 - ETA: 10s - loss: -1369.26 - ETA: 10s - loss: -1369.66 - ETA: 10s - loss: -1369.98 - ETA: 10s - loss: -1370.38 - ETA: 10s - loss: -1370.71 - ETA: 10s - loss: -1371.04 - ETA: 10s - loss: -1371.47 - ETA: 10s - loss: -1371.86 - ETA: 10s - loss: -1372.28 - ETA: 10s - loss: -1372.69 - ETA: 10s - loss: -1373.02 - ETA: 9s - loss: -1373.3154 - ETA: 9s - loss: -1373.709 - ETA: 9s - loss: -1374.090 - ETA: 9s - loss: -1374.454 - ETA: 9s - loss: -1374.828 - ETA: 9s - loss: -1375.204 - ETA: 9s - loss: -1375.562 - ETA: 9s - loss: -1375.894 - ETA: 9s - loss: -1376.302 - ETA: 9s - loss: -1376.532 - ETA: 9s - loss: -1376.897 - ETA: 9s - loss: -1377.252 - ETA: 9s - loss: -1377.604 - ETA: 9s - loss: -1377.876 - ETA: 9s - loss: -1378.268 - ETA: 9s - loss: -1378.548 - ETA: 9s - loss: -1378.833 - ETA: 9s - loss: -1379.089 - ETA: 8s - loss: -1379.445 - ETA: 8s - loss: -1379.838 - ETA: 8s - loss: -1380.146 - ETA: 8s - loss: -1380.486 - ETA: 8s - loss: -1380.835 - ETA: 8s - loss: -1381.162 - ETA: 8s - loss: -1381.432 - ETA: 8s - loss: -1381.780 - ETA: 8s - loss: -1382.158 - ETA: 8s - loss: -1382.560 - ETA: 8s - loss: -1382.835 - ETA: 8s - loss: -1383.231 - ETA: 8s - loss: -1383.587 - ETA: 8s - loss: -1384.027 - ETA: 8s - loss: -1384.397 - ETA: 8s - loss: -1384.668 - ETA: 8s - loss: -1385.010 - ETA: 7s - loss: -1385.377 - ETA: 7s - loss: -1385.716 - ETA: 7s - loss: -1386.096 - ETA: 7s - loss: -1386.364 - ETA: 7s - loss: -1386.584 - ETA: 7s - loss: -1386.941 - ETA: 7s - loss: -1387.232 - ETA: 7s - loss: -1387.582 - ETA: 7s - loss: -1387.931 - ETA: 7s - loss: -1388.177 - ETA: 7s - loss: -1388.471 - ETA: 7s - loss: -1388.792 - ETA: 7s - loss: -1389.102 - ETA: 7s - loss: -1389.326 - ETA: 7s - loss: -1389.508 - ETA: 7s - loss: -1389.779 - ETA: 7s - loss: -1390.136 - ETA: 6s - loss: -1390.374 - ETA: 6s - loss: -1390.648 - ETA: 6s - loss: -1390.912 - ETA: 6s - loss: -1391.151 - ETA: 6s - loss: -1391.444 - ETA: 6s - loss: -1391.721 - ETA: 6s - loss: -1391.941 - ETA: 6s - loss: -1392.162 - ETA: 6s - loss: -1392.466 - ETA: 6s - loss: -1392.863 - ETA: 6s - loss: -1393.208 - ETA: 6s - loss: -1393.535 - ETA: 6s - loss: -1393.841 - ETA: 6s - loss: -1394.072 - ETA: 6s - loss: -1394.295 - ETA: 6s - loss: -1394.493 - ETA: 6s - loss: -1394.703 - ETA: 5s - loss: -1394.940 - ETA: 5s - loss: -1395.172 - ETA: 5s - loss: -1395.510 - ETA: 5s - loss: -1395.737 - ETA: 5s - loss: -1396.000 - ETA: 5s - loss: -1396.238 - ETA: 5s - loss: -1396.504 - ETA: 5s - loss: -1396.792 - ETA: 5s - loss: -1397.084 - ETA: 5s - loss: -1397.448 - ETA: 5s - loss: -1397.649 - ETA: 5s - loss: -1397.920 - ETA: 5s - loss: -1398.113 - ETA: 5s - loss: -1398.339 - ETA: 5s - loss: -1398.725 - ETA: 5s - loss: -1398.963 - ETA: 5s - loss: -1399.171 - ETA: 5s - loss: -1399.420 - ETA: 4s - loss: -1399.649 - ETA: 4s - loss: -1399.919 - ETA: 4s - loss: -1400.134 - ETA: 4s - loss: -1400.417 - ETA: 4s - loss: -1400.680 - ETA: 4s - loss: -1400.979 - ETA: 4s - loss: -1401.223 - ETA: 4s - loss: -1401.417 - ETA: 4s - loss: -1401.639 - ETA: 4s - loss: -1401.848 - ETA: 4s - loss: -1402.081 - ETA: 4s - loss: -1402.318 - ETA: 4s - loss: -1402.614 - ETA: 4s - loss: -1402.816 - ETA: 4s - loss: -1402.995 - ETA: 4s - loss: -1403.250 - ETA: 4s - loss: -1403.493 - ETA: 4s - loss: -1403.785 - ETA: 3s - loss: -1404.040 - ETA: 3s - loss: -1404.300 - ETA: 3s - loss: -1404.590 - ETA: 3s - loss: -1404.803 - ETA: 3s - loss: -1405.085 - ETA: 3s - loss: -1405.287 - ETA: 3s - loss: -1405.547 - ETA: 3s - loss: -1405.790 - ETA: 3s - loss: -1406.000 - ETA: 3s - loss: -1406.271 - ETA: 3s - loss: -1406.508 - ETA: 3s - loss: -1406.703 - ETA: 3s - loss: -1406.872 - ETA: 3s - loss: -1407.020 - ETA: 3s - loss: -1407.207 - ETA: 3s - loss: -1407.397 - ETA: 3s - loss: -1407.590 - ETA: 2s - loss: -1407.798 - ETA: 2s - loss: -1408.010 - ETA: 2s - loss: -1408.230 - ETA: 2s - loss: -1408.459 - ETA: 2s - loss: -1408.674 - ETA: 2s - loss: -1408.909 - ETA: 2s - loss: -1409.129 - ETA: 2s - loss: -1409.357 - ETA: 2s - loss: -1409.537 - ETA: 2s - loss: -1409.637 - ETA: 2s - loss: -1409.940 - ETA: 2s - loss: -1410.170 - ETA: 2s - loss: -1410.405 - ETA: 2s - loss: -1410.619 - ETA: 2s - loss: -1410.798 - ETA: 2s - loss: -1410.962 - ETA: 2s - loss: -1411.077 - ETA: 2s - loss: -1411.284 - ETA: 1s - loss: -1411.457 - ETA: 1s - loss: -1411.692 - ETA: 1s - loss: -1411.914 - ETA: 1s - loss: -1412.101 - ETA: 1s - loss: -1412.257 - ETA: 1s - loss: -1412.471 - ETA: 1s - loss: -1412.670 - ETA: 1s - loss: -1412.805 - ETA: 1s - loss: -1412.922 - ETA: 1s - loss: -1413.148 - ETA: 1s - loss: -1413.272 - ETA: 1s - loss: -1413.534 - ETA: 1s - loss: -1413.724 - ETA: 1s - loss: -1413.935 - ETA: 1s - loss: -1414.120 - ETA: 1s - loss: -1414.377 - ETA: 1s - loss: -1414.534 - ETA: 1s - loss: -1414.775 - ETA: 0s - loss: -1415.033 - ETA: 0s - loss: -1415.254 - ETA: 0s - loss: -1415.464 - ETA: 0s - loss: -1415.686 - ETA: 0s - loss: -1415.878 - ETA: 0s - loss: -1416.098 - ETA: 0s - loss: -1416.246 - ETA: 0s - loss: -1416.389 - ETA: 0s - loss: -1416.561 - ETA: 0s - loss: -1416.727 - ETA: 0s - loss: -1416.833 - ETA: 0s - loss: -1416.979 - ETA: 0s - loss: -1417.184 - ETA: 0s - loss: -1417.379 - ETA: 0s - loss: -1417.563 - ETA: 0s - loss: -1417.755 - ETA: 0s - loss: -1417.934 - ETA: 0s - loss: -1418.086 - 33s 196us/step - loss: -1418.2338 - val_loss: -1519.4886\n",
      "Epoch 2/6\n"
     ]
    },
    {
     "name": "stdout",
     "output_type": "stream",
     "text": [
      " 85568/169807 [==============>...............] - ETA: 49s - loss: -1552.59 - ETA: 47s - loss: -1528.48 - ETA: 38s - loss: -1522.41 - ETA: 36s - loss: -1520.86 - ETA: 36s - loss: -1517.95 - ETA: 34s - loss: -1516.27 - ETA: 33s - loss: -1514.87 - ETA: 33s - loss: -1514.47 - ETA: 33s - loss: -1516.28 - ETA: 32s - loss: -1516.87 - ETA: 32s - loss: -1520.53 - ETA: 32s - loss: -1521.45 - ETA: 31s - loss: -1521.96 - ETA: 32s - loss: -1519.93 - ETA: 31s - loss: -1516.93 - ETA: 31s - loss: -1517.41 - ETA: 31s - loss: -1518.78 - ETA: 30s - loss: -1519.31 - ETA: 30s - loss: -1519.45 - ETA: 30s - loss: -1519.65 - ETA: 30s - loss: -1520.20 - ETA: 30s - loss: -1519.58 - ETA: 30s - loss: -1519.42 - ETA: 30s - loss: -1519.28 - ETA: 30s - loss: -1518.98 - ETA: 29s - loss: -1518.97 - ETA: 29s - loss: -1518.28 - ETA: 29s - loss: -1518.08 - ETA: 29s - loss: -1517.76 - ETA: 29s - loss: -1517.94 - ETA: 29s - loss: -1517.93 - ETA: 29s - loss: -1517.80 - ETA: 28s - loss: -1517.29 - ETA: 28s - loss: -1516.77 - ETA: 28s - loss: -1517.33 - ETA: 28s - loss: -1517.94 - ETA: 28s - loss: -1517.60 - ETA: 28s - loss: -1517.90 - ETA: 27s - loss: -1517.97 - ETA: 27s - loss: -1517.97 - ETA: 27s - loss: -1518.40 - ETA: 27s - loss: -1517.71 - ETA: 27s - loss: -1517.78 - ETA: 27s - loss: -1517.98 - ETA: 28s - loss: -1517.59 - ETA: 28s - loss: -1516.99 - ETA: 28s - loss: -1517.42 - ETA: 28s - loss: -1517.78 - ETA: 28s - loss: -1517.78 - ETA: 28s - loss: -1518.00 - ETA: 28s - loss: -1517.99 - ETA: 28s - loss: -1517.70 - ETA: 28s - loss: -1517.57 - ETA: 28s - loss: -1517.49 - ETA: 28s - loss: -1518.14 - ETA: 28s - loss: -1518.18 - ETA: 28s - loss: -1518.19 - ETA: 28s - loss: -1518.19 - ETA: 28s - loss: -1517.87 - ETA: 28s - loss: -1517.96 - ETA: 28s - loss: -1517.75 - ETA: 28s - loss: -1517.78 - ETA: 28s - loss: -1518.03 - ETA: 28s - loss: -1518.50 - ETA: 28s - loss: -1518.42 - ETA: 28s - loss: -1518.36 - ETA: 28s - loss: -1518.49 - ETA: 27s - loss: -1518.26 - ETA: 27s - loss: -1518.86 - ETA: 27s - loss: -1518.69 - ETA: 27s - loss: -1518.91 - ETA: 27s - loss: -1519.03 - ETA: 27s - loss: -1518.93 - ETA: 27s - loss: -1518.87 - ETA: 27s - loss: -1519.10 - ETA: 27s - loss: -1518.78 - ETA: 27s - loss: -1518.88 - ETA: 27s - loss: -1518.77 - ETA: 26s - loss: -1518.45 - ETA: 26s - loss: -1518.35 - ETA: 26s - loss: -1518.25 - ETA: 26s - loss: -1518.26 - ETA: 26s - loss: -1518.53 - ETA: 26s - loss: -1518.36 - ETA: 26s - loss: -1518.40 - ETA: 26s - loss: -1518.22 - ETA: 26s - loss: -1518.34 - ETA: 26s - loss: -1518.39 - ETA: 26s - loss: -1518.17 - ETA: 26s - loss: -1518.09 - ETA: 26s - loss: -1517.95 - ETA: 25s - loss: -1517.83 - ETA: 25s - loss: -1517.83 - ETA: 25s - loss: -1517.89 - ETA: 25s - loss: -1517.96 - ETA: 25s - loss: -1517.99 - ETA: 25s - loss: -1517.96 - ETA: 25s - loss: -1517.88 - ETA: 25s - loss: -1517.98 - ETA: 25s - loss: -1518.10 - ETA: 25s - loss: -1518.26 - ETA: 25s - loss: -1518.22 - ETA: 25s - loss: -1518.44 - ETA: 25s - loss: -1518.52 - ETA: 24s - loss: -1518.45 - ETA: 24s - loss: -1518.46 - ETA: 24s - loss: -1518.52 - ETA: 24s - loss: -1518.23 - ETA: 24s - loss: -1518.10 - ETA: 24s - loss: -1518.09 - ETA: 24s - loss: -1518.26 - ETA: 24s - loss: -1518.46 - ETA: 24s - loss: -1518.49 - ETA: 24s - loss: -1518.59 - ETA: 24s - loss: -1518.76 - ETA: 24s - loss: -1518.70 - ETA: 24s - loss: -1518.58 - ETA: 24s - loss: -1518.67 - ETA: 24s - loss: -1518.66 - ETA: 24s - loss: -1518.86 - ETA: 23s - loss: -1518.83 - ETA: 23s - loss: -1518.92 - ETA: 23s - loss: -1518.75 - ETA: 23s - loss: -1518.83 - ETA: 23s - loss: -1518.71 - ETA: 23s - loss: -1518.78 - ETA: 23s - loss: -1518.75 - ETA: 23s - loss: -1518.85 - ETA: 23s - loss: -1518.68 - ETA: 23s - loss: -1518.61 - ETA: 23s - loss: -1518.82 - ETA: 23s - loss: -1518.95 - ETA: 23s - loss: -1518.99 - ETA: 23s - loss: -1518.97 - ETA: 23s - loss: -1518.91 - ETA: 23s - loss: -1518.74 - ETA: 23s - loss: -1518.82 - ETA: 22s - loss: -1518.82 - ETA: 22s - loss: -1518.81 - ETA: 22s - loss: -1518.90 - ETA: 22s - loss: -1518.76 - ETA: 22s - loss: -1518.68 - ETA: 22s - loss: -1518.54 - ETA: 22s - loss: -1518.38 - ETA: 22s - loss: -1518.43 - ETA: 22s - loss: -1518.51 - ETA: 22s - loss: -1518.61 - ETA: 22s - loss: -1518.74 - ETA: 22s - loss: -1518.65 - ETA: 22s - loss: -1518.62 - ETA: 22s - loss: -1518.58 - ETA: 22s - loss: -1518.57 - ETA: 22s - loss: -1518.57 - ETA: 22s - loss: -1518.56 - ETA: 22s - loss: -1518.39 - ETA: 22s - loss: -1518.57 - ETA: 22s - loss: -1518.73 - ETA: 21s - loss: -1518.66 - ETA: 21s - loss: -1518.55 - ETA: 21s - loss: -1518.47 - ETA: 21s - loss: -1518.47 - ETA: 21s - loss: -1518.62 - ETA: 21s - loss: -1518.57 - ETA: 21s - loss: -1518.62 - ETA: 21s - loss: -1518.79 - ETA: 21s - loss: -1518.75 - ETA: 21s - loss: -1518.73 - ETA: 21s - loss: -1518.64 - ETA: 21s - loss: -1518.65 - ETA: 21s - loss: -1518.68 - ETA: 21s - loss: -1518.65 - ETA: 21s - loss: -1518.68 - ETA: 21s - loss: -1518.58 - ETA: 21s - loss: -1518.47 - ETA: 21s - loss: -1518.49 - ETA: 21s - loss: -1518.38 - ETA: 21s - loss: -1518.36 - ETA: 21s - loss: -1518.45 - ETA: 21s - loss: -1518.37 - ETA: 21s - loss: -1518.40 - ETA: 20s - loss: -1518.33 - ETA: 20s - loss: -1518.48 - ETA: 20s - loss: -1518.44 - ETA: 20s - loss: -1518.43 - ETA: 20s - loss: -1518.45 - ETA: 20s - loss: -1518.65 - ETA: 20s - loss: -1518.66 - ETA: 20s - loss: -1518.60 - ETA: 20s - loss: -1518.56 - ETA: 20s - loss: -1518.48 - ETA: 20s - loss: -1518.52 - ETA: 20s - loss: -1518.56 - ETA: 20s - loss: -1518.54 - ETA: 20s - loss: -1518.44 - ETA: 20s - loss: -1518.48 - ETA: 20s - loss: -1518.46 - ETA: 20s - loss: -1518.41 - ETA: 20s - loss: -1518.37 - ETA: 20s - loss: -1518.22 - ETA: 20s - loss: -1518.17 - ETA: 20s - loss: -1518.11 - ETA: 20s - loss: -1518.00 - ETA: 20s - loss: -1517.85 - ETA: 20s - loss: -1517.91 - ETA: 20s - loss: -1517.97 - ETA: 20s - loss: -1517.96 - ETA: 20s - loss: -1517.97 - ETA: 19s - loss: -1517.97 - ETA: 19s - loss: -1518.08 - ETA: 19s - loss: -1518.22 - ETA: 19s - loss: -1518.19 - ETA: 19s - loss: -1518.24 - ETA: 19s - loss: -1518.17 - ETA: 19s - loss: -1518.26 - ETA: 19s - loss: -1518.26 - ETA: 19s - loss: -1518.29 - ETA: 19s - loss: -1518.37 - ETA: 19s - loss: -1518.35 - ETA: 19s - loss: -1518.33 - ETA: 19s - loss: -1518.37 - ETA: 19s - loss: -1518.46 - ETA: 19s - loss: -1518.51 - ETA: 19s - loss: -1518.53 - ETA: 19s - loss: -1518.64 - ETA: 19s - loss: -1518.56 - ETA: 19s - loss: -1518.58 - ETA: 19s - loss: -1518.51 - ETA: 19s - loss: -1518.43 - ETA: 18s - loss: -1518.43 - ETA: 18s - loss: -1518.45 - ETA: 18s - loss: -1518.36 - ETA: 18s - loss: -1518.29 - ETA: 18s - loss: -1518.31 - ETA: 18s - loss: -1518.35 - ETA: 18s - loss: -1518.39 - ETA: 18s - loss: -1518.32 - ETA: 18s - loss: -1518.24 - ETA: 18s - loss: -1518.26 - ETA: 18s - loss: -1518.38 - ETA: 18s - loss: -1518.38 - ETA: 18s - loss: -1518.38 - ETA: 18s - loss: -1518.38 - ETA: 18s - loss: -1518.50 - ETA: 18s - loss: -1518.59 - ETA: 18s - loss: -1518.65 - ETA: 18s - loss: -1518.56 - ETA: 18s - loss: -1518.51 - ETA: 18s - loss: -1518.58 - ETA: 18s - loss: -1518.43 - ETA: 17s - loss: -1518.40 - ETA: 17s - loss: -1518.57 - ETA: 17s - loss: -1518.55 - ETA: 17s - loss: -1518.61 - ETA: 17s - loss: -1518.50 - ETA: 17s - loss: -1518.51 - ETA: 17s - loss: -1518.53 - ETA: 17s - loss: -1518.44 - ETA: 17s - loss: -1518.45 - ETA: 17s - loss: -1518.41 - ETA: 17s - loss: -1518.46 - ETA: 17s - loss: -1518.50 - ETA: 17s - loss: -1518.49 - ETA: 17s - loss: -1518.48 - ETA: 17s - loss: -1518.64 - ETA: 17s - loss: -1518.75 - ETA: 17s - loss: -1518.67 - ETA: 17s - loss: -1518.66 - ETA: 17s - loss: -1518.73 - ETA: 16s - loss: -1518.77 - ETA: 16s - loss: -1518.81 - ETA: 16s - loss: -1518.85 - ETA: 16s - loss: -1518.82 - ETA: 16s - loss: -1518.86 - ETA: 16s - loss: -1518.82 - ETA: 16s - loss: -1518.89 - ETA: 16s - loss: -1518.80 - ETA: 16s - loss: -1518.78 - ETA: 16s - loss: -1518.80 - ETA: 16s - loss: -1518.86 - ETA: 16s - loss: -1518.74 - ETA: 16s - loss: -1518.68 - ETA: 16s - loss: -1518.64 - ETA: 16s - loss: -1518.67 - ETA: 16s - loss: -1518.62 - ETA: 16s - loss: -1518.55 - ETA: 16s - loss: -1518.50 - ETA: 16s - loss: -1518.51 - ETA: 15s - loss: -1518.57 - ETA: 15s - loss: -1518.62 - ETA: 15s - loss: -1518.56 - ETA: 15s - loss: -1518.6110"
     ]
    },
    {
     "name": "stdout",
     "output_type": "stream",
     "text": [
      "167232/169807 [============================>.] - ETA: 15s - loss: -1518.53 - ETA: 15s - loss: -1518.58 - ETA: 15s - loss: -1518.58 - ETA: 15s - loss: -1518.49 - ETA: 15s - loss: -1518.46 - ETA: 15s - loss: -1518.42 - ETA: 15s - loss: -1518.40 - ETA: 15s - loss: -1518.42 - ETA: 15s - loss: -1518.40 - ETA: 15s - loss: -1518.49 - ETA: 15s - loss: -1518.43 - ETA: 15s - loss: -1518.38 - ETA: 15s - loss: -1518.41 - ETA: 15s - loss: -1518.48 - ETA: 15s - loss: -1518.45 - ETA: 14s - loss: -1518.33 - ETA: 14s - loss: -1518.36 - ETA: 14s - loss: -1518.37 - ETA: 14s - loss: -1518.32 - ETA: 14s - loss: -1518.30 - ETA: 14s - loss: -1518.34 - ETA: 14s - loss: -1518.35 - ETA: 14s - loss: -1518.39 - ETA: 14s - loss: -1518.38 - ETA: 14s - loss: -1518.36 - ETA: 14s - loss: -1518.38 - ETA: 14s - loss: -1518.36 - ETA: 14s - loss: -1518.33 - ETA: 14s - loss: -1518.32 - ETA: 14s - loss: -1518.45 - ETA: 14s - loss: -1518.36 - ETA: 14s - loss: -1518.35 - ETA: 14s - loss: -1518.30 - ETA: 14s - loss: -1518.26 - ETA: 14s - loss: -1518.21 - ETA: 14s - loss: -1518.31 - ETA: 13s - loss: -1518.28 - ETA: 13s - loss: -1518.30 - ETA: 13s - loss: -1518.28 - ETA: 13s - loss: -1518.33 - ETA: 13s - loss: -1518.33 - ETA: 13s - loss: -1518.21 - ETA: 13s - loss: -1518.29 - ETA: 13s - loss: -1518.29 - ETA: 13s - loss: -1518.38 - ETA: 13s - loss: -1518.40 - ETA: 13s - loss: -1518.33 - ETA: 13s - loss: -1518.32 - ETA: 13s - loss: -1518.34 - ETA: 13s - loss: -1518.33 - ETA: 13s - loss: -1518.33 - ETA: 13s - loss: -1518.34 - ETA: 13s - loss: -1518.37 - ETA: 13s - loss: -1518.40 - ETA: 13s - loss: -1518.47 - ETA: 13s - loss: -1518.41 - ETA: 13s - loss: -1518.43 - ETA: 13s - loss: -1518.42 - ETA: 12s - loss: -1518.42 - ETA: 12s - loss: -1518.47 - ETA: 12s - loss: -1518.53 - ETA: 12s - loss: -1518.58 - ETA: 12s - loss: -1518.56 - ETA: 12s - loss: -1518.64 - ETA: 12s - loss: -1518.73 - ETA: 12s - loss: -1518.71 - ETA: 12s - loss: -1518.73 - ETA: 12s - loss: -1518.67 - ETA: 12s - loss: -1518.75 - ETA: 12s - loss: -1518.75 - ETA: 12s - loss: -1518.80 - ETA: 12s - loss: -1518.81 - ETA: 12s - loss: -1518.80 - ETA: 12s - loss: -1518.74 - ETA: 12s - loss: -1518.67 - ETA: 12s - loss: -1518.71 - ETA: 12s - loss: -1518.72 - ETA: 11s - loss: -1518.70 - ETA: 11s - loss: -1518.76 - ETA: 11s - loss: -1518.79 - ETA: 11s - loss: -1518.78 - ETA: 11s - loss: -1518.75 - ETA: 11s - loss: -1518.79 - ETA: 11s - loss: -1518.79 - ETA: 11s - loss: -1518.77 - ETA: 11s - loss: -1518.75 - ETA: 11s - loss: -1518.80 - ETA: 11s - loss: -1518.79 - ETA: 11s - loss: -1518.84 - ETA: 11s - loss: -1518.81 - ETA: 11s - loss: -1518.83 - ETA: 11s - loss: -1518.88 - ETA: 11s - loss: -1518.90 - ETA: 11s - loss: -1518.86 - ETA: 11s - loss: -1518.93 - ETA: 10s - loss: -1518.97 - ETA: 10s - loss: -1518.97 - ETA: 10s - loss: -1518.96 - ETA: 10s - loss: -1518.88 - ETA: 10s - loss: -1518.83 - ETA: 10s - loss: -1518.77 - ETA: 10s - loss: -1518.75 - ETA: 10s - loss: -1518.78 - ETA: 10s - loss: -1518.83 - ETA: 10s - loss: -1518.80 - ETA: 10s - loss: -1518.85 - ETA: 10s - loss: -1518.87 - ETA: 10s - loss: -1518.94 - ETA: 10s - loss: -1519.01 - ETA: 10s - loss: -1519.05 - ETA: 10s - loss: -1519.06 - ETA: 10s - loss: -1519.04 - ETA: 9s - loss: -1519.0485 - ETA: 9s - loss: -1519.030 - ETA: 9s - loss: -1519.027 - ETA: 9s - loss: -1518.996 - ETA: 9s - loss: -1518.999 - ETA: 9s - loss: -1519.008 - ETA: 9s - loss: -1518.984 - ETA: 9s - loss: -1518.943 - ETA: 9s - loss: -1518.965 - ETA: 9s - loss: -1518.975 - ETA: 9s - loss: -1518.960 - ETA: 9s - loss: -1518.979 - ETA: 9s - loss: -1518.967 - ETA: 9s - loss: -1518.958 - ETA: 9s - loss: -1518.988 - ETA: 9s - loss: -1518.990 - ETA: 9s - loss: -1518.990 - ETA: 9s - loss: -1518.966 - ETA: 9s - loss: -1518.909 - ETA: 8s - loss: -1518.939 - ETA: 8s - loss: -1518.923 - ETA: 8s - loss: -1518.909 - ETA: 8s - loss: -1518.913 - ETA: 8s - loss: -1518.914 - ETA: 8s - loss: -1518.918 - ETA: 8s - loss: -1518.913 - ETA: 8s - loss: -1518.940 - ETA: 8s - loss: -1518.904 - ETA: 8s - loss: -1518.917 - ETA: 8s - loss: -1518.918 - ETA: 8s - loss: -1518.905 - ETA: 8s - loss: -1518.931 - ETA: 8s - loss: -1518.974 - ETA: 8s - loss: -1518.982 - ETA: 8s - loss: -1518.982 - ETA: 8s - loss: -1519.050 - ETA: 7s - loss: -1518.997 - ETA: 7s - loss: -1518.934 - ETA: 7s - loss: -1518.921 - ETA: 7s - loss: -1518.928 - ETA: 7s - loss: -1518.956 - ETA: 7s - loss: -1518.935 - ETA: 7s - loss: -1518.913 - ETA: 7s - loss: -1518.861 - ETA: 7s - loss: -1518.887 - ETA: 7s - loss: -1518.865 - ETA: 7s - loss: -1518.878 - ETA: 7s - loss: -1518.894 - ETA: 7s - loss: -1518.894 - ETA: 7s - loss: -1518.901 - ETA: 7s - loss: -1518.902 - ETA: 7s - loss: -1518.940 - ETA: 7s - loss: -1518.926 - ETA: 7s - loss: -1518.956 - ETA: 7s - loss: -1518.943 - ETA: 6s - loss: -1518.966 - ETA: 6s - loss: -1518.975 - ETA: 6s - loss: -1518.999 - ETA: 6s - loss: -1518.958 - ETA: 6s - loss: -1518.974 - ETA: 6s - loss: -1519.002 - ETA: 6s - loss: -1518.980 - ETA: 6s - loss: -1518.987 - ETA: 6s - loss: -1519.045 - ETA: 6s - loss: -1519.046 - ETA: 6s - loss: -1519.056 - ETA: 6s - loss: -1519.063 - ETA: 6s - loss: -1519.066 - ETA: 6s - loss: -1519.027 - ETA: 6s - loss: -1519.031 - ETA: 6s - loss: -1519.039 - ETA: 6s - loss: -1519.047 - ETA: 6s - loss: -1519.134 - ETA: 6s - loss: -1519.192 - ETA: 5s - loss: -1519.159 - ETA: 5s - loss: -1519.162 - ETA: 5s - loss: -1519.135 - ETA: 5s - loss: -1519.187 - ETA: 5s - loss: -1519.142 - ETA: 5s - loss: -1519.150 - ETA: 5s - loss: -1519.137 - ETA: 5s - loss: -1519.165 - ETA: 5s - loss: -1519.135 - ETA: 5s - loss: -1519.118 - ETA: 5s - loss: -1519.098 - ETA: 5s - loss: -1519.118 - ETA: 5s - loss: -1519.111 - ETA: 5s - loss: -1519.140 - ETA: 5s - loss: -1519.096 - ETA: 5s - loss: -1519.096 - ETA: 5s - loss: -1519.091 - ETA: 5s - loss: -1519.096 - ETA: 5s - loss: -1519.111 - ETA: 4s - loss: -1519.129 - ETA: 4s - loss: -1519.181 - ETA: 4s - loss: -1519.191 - ETA: 4s - loss: -1519.212 - ETA: 4s - loss: -1519.217 - ETA: 4s - loss: -1519.170 - ETA: 4s - loss: -1519.159 - ETA: 4s - loss: -1519.184 - ETA: 4s - loss: -1519.192 - ETA: 4s - loss: -1519.224 - ETA: 4s - loss: -1519.220 - ETA: 4s - loss: -1519.168 - ETA: 4s - loss: -1519.236 - ETA: 4s - loss: -1519.203 - ETA: 4s - loss: -1519.176 - ETA: 4s - loss: -1519.152 - ETA: 4s - loss: -1519.158 - ETA: 4s - loss: -1519.131 - ETA: 4s - loss: -1519.172 - ETA: 4s - loss: -1519.145 - ETA: 3s - loss: -1519.114 - ETA: 3s - loss: -1519.083 - ETA: 3s - loss: -1519.053 - ETA: 3s - loss: -1519.055 - ETA: 3s - loss: -1519.063 - ETA: 3s - loss: -1519.015 - ETA: 3s - loss: -1519.047 - ETA: 3s - loss: -1519.054 - ETA: 3s - loss: -1519.031 - ETA: 3s - loss: -1519.073 - ETA: 3s - loss: -1519.134 - ETA: 3s - loss: -1519.176 - ETA: 3s - loss: -1519.163 - ETA: 3s - loss: -1519.157 - ETA: 3s - loss: -1519.130 - ETA: 3s - loss: -1519.127 - ETA: 3s - loss: -1519.158 - ETA: 2s - loss: -1519.143 - ETA: 2s - loss: -1519.145 - ETA: 2s - loss: -1519.134 - ETA: 2s - loss: -1519.158 - ETA: 2s - loss: -1519.143 - ETA: 2s - loss: -1519.144 - ETA: 2s - loss: -1519.144 - ETA: 2s - loss: -1519.150 - ETA: 2s - loss: -1519.165 - ETA: 2s - loss: -1519.181 - ETA: 2s - loss: -1519.184 - ETA: 2s - loss: -1519.189 - ETA: 2s - loss: -1519.190 - ETA: 2s - loss: -1519.228 - ETA: 2s - loss: -1519.259 - ETA: 2s - loss: -1519.244 - ETA: 2s - loss: -1519.217 - ETA: 2s - loss: -1519.252 - ETA: 2s - loss: -1519.261 - ETA: 2s - loss: -1519.283 - ETA: 1s - loss: -1519.324 - ETA: 1s - loss: -1519.312 - ETA: 1s - loss: -1519.339 - ETA: 1s - loss: -1519.351 - ETA: 1s - loss: -1519.339 - ETA: 1s - loss: -1519.381 - ETA: 1s - loss: -1519.388 - ETA: 1s - loss: -1519.388 - ETA: 1s - loss: -1519.357 - ETA: 1s - loss: -1519.336 - ETA: 1s - loss: -1519.361 - ETA: 1s - loss: -1519.357 - ETA: 1s - loss: -1519.384 - ETA: 1s - loss: -1519.384 - ETA: 1s - loss: -1519.380 - ETA: 1s - loss: -1519.364 - ETA: 1s - loss: -1519.342 - ETA: 1s - loss: -1519.311 - ETA: 1s - loss: -1519.314 - ETA: 0s - loss: -1519.310 - ETA: 0s - loss: -1519.300 - ETA: 0s - loss: -1519.318 - ETA: 0s - loss: -1519.287 - ETA: 0s - loss: -1519.262 - ETA: 0s - loss: -1519.263 - ETA: 0s - loss: -1519.231 - ETA: 0s - loss: -1519.217 - ETA: 0s - loss: -1519.205 - ETA: 0s - loss: -1519.2207"
     ]
    },
    {
     "name": "stdout",
     "output_type": "stream",
     "text": [
      "169807/169807 [==============================] - ETA: 0s - loss: -1519.177 - ETA: 0s - loss: -1519.169 - ETA: 0s - loss: -1519.155 - ETA: 0s - loss: -1519.163 - ETA: 0s - loss: -1519.154 - ETA: 0s - loss: -1519.157 - ETA: 0s - loss: -1519.125 - ETA: 0s - loss: -1519.067 - 34s 199us/step - loss: -1519.0819 - val_loss: -1519.4886\n",
      "Epoch 3/6\n"
     ]
    },
    {
     "name": "stdout",
     "output_type": "stream",
     "text": [
      " 91392/169807 [===============>..............] - ETA: 1:14 - loss: -1541.335 - ETA: 38s - loss: -1532.885 - ETA: 33s - loss: -1519.00 - ETA: 33s - loss: -1524.00 - ETA: 34s - loss: -1512.33 - ETA: 33s - loss: -1516.27 - ETA: 33s - loss: -1515.17 - ETA: 33s - loss: -1516.52 - ETA: 34s - loss: -1516.98 - ETA: 34s - loss: -1520.22 - ETA: 34s - loss: -1522.23 - ETA: 34s - loss: -1521.20 - ETA: 34s - loss: -1520.62 - ETA: 34s - loss: -1521.44 - ETA: 34s - loss: -1520.90 - ETA: 34s - loss: -1521.12 - ETA: 34s - loss: -1520.83 - ETA: 34s - loss: -1521.56 - ETA: 34s - loss: -1521.46 - ETA: 34s - loss: -1520.87 - ETA: 34s - loss: -1521.22 - ETA: 34s - loss: -1521.39 - ETA: 34s - loss: -1521.86 - ETA: 35s - loss: -1522.53 - ETA: 35s - loss: -1522.51 - ETA: 35s - loss: -1522.15 - ETA: 35s - loss: -1522.28 - ETA: 35s - loss: -1522.16 - ETA: 35s - loss: -1522.50 - ETA: 34s - loss: -1522.26 - ETA: 34s - loss: -1522.21 - ETA: 34s - loss: -1521.12 - ETA: 33s - loss: -1521.31 - ETA: 33s - loss: -1522.09 - ETA: 33s - loss: -1522.16 - ETA: 33s - loss: -1522.24 - ETA: 33s - loss: -1522.61 - ETA: 33s - loss: -1522.12 - ETA: 33s - loss: -1522.57 - ETA: 32s - loss: -1523.00 - ETA: 32s - loss: -1522.98 - ETA: 32s - loss: -1522.83 - ETA: 32s - loss: -1522.19 - ETA: 32s - loss: -1521.73 - ETA: 31s - loss: -1521.83 - ETA: 31s - loss: -1521.89 - ETA: 31s - loss: -1521.64 - ETA: 30s - loss: -1521.58 - ETA: 30s - loss: -1521.36 - ETA: 30s - loss: -1521.92 - ETA: 30s - loss: -1521.86 - ETA: 30s - loss: -1521.21 - ETA: 29s - loss: -1520.47 - ETA: 29s - loss: -1520.08 - ETA: 29s - loss: -1519.71 - ETA: 29s - loss: -1519.41 - ETA: 29s - loss: -1519.51 - ETA: 29s - loss: -1519.15 - ETA: 28s - loss: -1518.71 - ETA: 28s - loss: -1518.66 - ETA: 28s - loss: -1518.44 - ETA: 28s - loss: -1518.08 - ETA: 28s - loss: -1518.69 - ETA: 28s - loss: -1518.68 - ETA: 28s - loss: -1518.42 - ETA: 27s - loss: -1518.96 - ETA: 27s - loss: -1519.49 - ETA: 27s - loss: -1520.06 - ETA: 27s - loss: -1520.15 - ETA: 27s - loss: -1520.26 - ETA: 27s - loss: -1520.56 - ETA: 27s - loss: -1520.74 - ETA: 26s - loss: -1520.87 - ETA: 26s - loss: -1520.64 - ETA: 26s - loss: -1520.82 - ETA: 26s - loss: -1520.96 - ETA: 26s - loss: -1520.45 - ETA: 26s - loss: -1520.79 - ETA: 26s - loss: -1520.68 - ETA: 26s - loss: -1520.81 - ETA: 26s - loss: -1520.84 - ETA: 26s - loss: -1520.83 - ETA: 26s - loss: -1520.86 - ETA: 25s - loss: -1520.90 - ETA: 25s - loss: -1520.91 - ETA: 25s - loss: -1521.10 - ETA: 25s - loss: -1520.82 - ETA: 25s - loss: -1520.69 - ETA: 25s - loss: -1520.52 - ETA: 25s - loss: -1520.65 - ETA: 25s - loss: -1520.52 - ETA: 25s - loss: -1520.59 - ETA: 25s - loss: -1520.67 - ETA: 25s - loss: -1520.42 - ETA: 25s - loss: -1520.46 - ETA: 24s - loss: -1520.57 - ETA: 24s - loss: -1520.60 - ETA: 24s - loss: -1520.54 - ETA: 24s - loss: -1520.40 - ETA: 24s - loss: -1520.48 - ETA: 24s - loss: -1520.46 - ETA: 24s - loss: -1520.48 - ETA: 24s - loss: -1520.56 - ETA: 24s - loss: -1520.77 - ETA: 24s - loss: -1521.12 - ETA: 24s - loss: -1521.28 - ETA: 24s - loss: -1521.34 - ETA: 24s - loss: -1521.29 - ETA: 24s - loss: -1521.18 - ETA: 23s - loss: -1520.98 - ETA: 23s - loss: -1520.91 - ETA: 23s - loss: -1520.83 - ETA: 23s - loss: -1520.85 - ETA: 23s - loss: -1520.75 - ETA: 23s - loss: -1520.78 - ETA: 23s - loss: -1520.68 - ETA: 23s - loss: -1520.70 - ETA: 23s - loss: -1520.46 - ETA: 23s - loss: -1520.55 - ETA: 23s - loss: -1520.38 - ETA: 23s - loss: -1520.34 - ETA: 23s - loss: -1520.30 - ETA: 23s - loss: -1520.27 - ETA: 23s - loss: -1520.32 - ETA: 22s - loss: -1520.29 - ETA: 22s - loss: -1520.28 - ETA: 22s - loss: -1520.20 - ETA: 22s - loss: -1520.04 - ETA: 22s - loss: -1520.10 - ETA: 22s - loss: -1520.02 - ETA: 22s - loss: -1520.17 - ETA: 22s - loss: -1520.24 - ETA: 22s - loss: -1520.35 - ETA: 22s - loss: -1520.17 - ETA: 22s - loss: -1520.36 - ETA: 22s - loss: -1520.47 - ETA: 22s - loss: -1520.41 - ETA: 22s - loss: -1520.38 - ETA: 22s - loss: -1520.54 - ETA: 22s - loss: -1520.36 - ETA: 22s - loss: -1520.29 - ETA: 22s - loss: -1520.21 - ETA: 21s - loss: -1520.14 - ETA: 21s - loss: -1520.05 - ETA: 21s - loss: -1520.05 - ETA: 21s - loss: -1520.07 - ETA: 21s - loss: -1520.13 - ETA: 21s - loss: -1519.97 - ETA: 21s - loss: -1520.04 - ETA: 21s - loss: -1520.12 - ETA: 21s - loss: -1520.09 - ETA: 21s - loss: -1520.18 - ETA: 21s - loss: -1520.15 - ETA: 21s - loss: -1520.01 - ETA: 21s - loss: -1520.02 - ETA: 21s - loss: -1519.99 - ETA: 21s - loss: -1520.00 - ETA: 21s - loss: -1519.83 - ETA: 21s - loss: -1519.92 - ETA: 21s - loss: -1519.88 - ETA: 21s - loss: -1519.85 - ETA: 21s - loss: -1519.88 - ETA: 21s - loss: -1519.99 - ETA: 21s - loss: -1520.02 - ETA: 21s - loss: -1519.98 - ETA: 21s - loss: -1519.99 - ETA: 20s - loss: -1520.01 - ETA: 20s - loss: -1520.13 - ETA: 20s - loss: -1520.01 - ETA: 20s - loss: -1520.00 - ETA: 20s - loss: -1519.89 - ETA: 20s - loss: -1519.86 - ETA: 20s - loss: -1519.90 - ETA: 20s - loss: -1519.82 - ETA: 20s - loss: -1519.86 - ETA: 20s - loss: -1519.79 - ETA: 20s - loss: -1519.89 - ETA: 20s - loss: -1519.87 - ETA: 20s - loss: -1519.85 - ETA: 20s - loss: -1519.94 - ETA: 20s - loss: -1519.92 - ETA: 19s - loss: -1520.00 - ETA: 19s - loss: -1519.96 - ETA: 19s - loss: -1519.92 - ETA: 19s - loss: -1520.07 - ETA: 19s - loss: -1520.28 - ETA: 19s - loss: -1520.23 - ETA: 19s - loss: -1520.31 - ETA: 19s - loss: -1520.28 - ETA: 19s - loss: -1520.22 - ETA: 19s - loss: -1520.03 - ETA: 19s - loss: -1520.07 - ETA: 19s - loss: -1520.14 - ETA: 19s - loss: -1520.14 - ETA: 19s - loss: -1520.09 - ETA: 19s - loss: -1519.95 - ETA: 19s - loss: -1519.86 - ETA: 18s - loss: -1519.94 - ETA: 18s - loss: -1519.92 - ETA: 18s - loss: -1519.75 - ETA: 18s - loss: -1519.69 - ETA: 18s - loss: -1519.68 - ETA: 18s - loss: -1519.64 - ETA: 18s - loss: -1519.64 - ETA: 18s - loss: -1519.61 - ETA: 18s - loss: -1519.69 - ETA: 18s - loss: -1519.81 - ETA: 18s - loss: -1519.75 - ETA: 18s - loss: -1519.78 - ETA: 18s - loss: -1519.69 - ETA: 18s - loss: -1519.64 - ETA: 18s - loss: -1519.83 - ETA: 18s - loss: -1519.64 - ETA: 18s - loss: -1519.72 - ETA: 18s - loss: -1519.80 - ETA: 17s - loss: -1519.78 - ETA: 17s - loss: -1519.81 - ETA: 17s - loss: -1519.79 - ETA: 17s - loss: -1519.84 - ETA: 17s - loss: -1519.92 - ETA: 17s - loss: -1520.00 - ETA: 17s - loss: -1519.96 - ETA: 17s - loss: -1519.98 - ETA: 17s - loss: -1519.94 - ETA: 17s - loss: -1519.90 - ETA: 17s - loss: -1519.98 - ETA: 17s - loss: -1519.98 - ETA: 17s - loss: -1519.98 - ETA: 17s - loss: -1519.98 - ETA: 17s - loss: -1519.96 - ETA: 17s - loss: -1519.93 - ETA: 17s - loss: -1519.95 - ETA: 17s - loss: -1520.01 - ETA: 16s - loss: -1520.01 - ETA: 16s - loss: -1520.01 - ETA: 16s - loss: -1519.89 - ETA: 16s - loss: -1519.92 - ETA: 16s - loss: -1519.86 - ETA: 16s - loss: -1519.93 - ETA: 16s - loss: -1519.86 - ETA: 16s - loss: -1519.88 - ETA: 16s - loss: -1519.85 - ETA: 16s - loss: -1519.83 - ETA: 16s - loss: -1519.91 - ETA: 16s - loss: -1519.91 - ETA: 16s - loss: -1519.92 - ETA: 16s - loss: -1519.82 - ETA: 16s - loss: -1519.77 - ETA: 16s - loss: -1519.81 - ETA: 16s - loss: -1519.76 - ETA: 16s - loss: -1519.69 - ETA: 15s - loss: -1519.63 - ETA: 15s - loss: -1519.48 - ETA: 15s - loss: -1519.50 - ETA: 15s - loss: -1519.47 - ETA: 15s - loss: -1519.51 - ETA: 15s - loss: -1519.53 - ETA: 15s - loss: -1519.49 - ETA: 15s - loss: -1519.49 - ETA: 15s - loss: -1519.56 - ETA: 15s - loss: -1519.57 - ETA: 15s - loss: -1519.59 - ETA: 15s - loss: -1519.62 - ETA: 15s - loss: -1519.69 - ETA: 15s - loss: -1519.59 - ETA: 15s - loss: -1519.71 - ETA: 15s - loss: -1519.75 - ETA: 15s - loss: -1519.75 - ETA: 14s - loss: -1519.87 - ETA: 14s - loss: -1519.91 - ETA: 14s - loss: -1519.98 - ETA: 14s - loss: -1520.00 - ETA: 14s - loss: -1520.08 - ETA: 14s - loss: -1520.06 - ETA: 14s - loss: -1520.04 - ETA: 14s - loss: -1520.09 - ETA: 14s - loss: -1520.01 - ETA: 14s - loss: -1520.00 - ETA: 14s - loss: -1519.87 - ETA: 14s - loss: -1519.84 - ETA: 14s - loss: -1519.89 - ETA: 14s - loss: -1519.80 - ETA: 14s - loss: -1519.77 - ETA: 14s - loss: -1519.85 - ETA: 13s - loss: -1519.86 - ETA: 13s - loss: -1519.94 - ETA: 13s - loss: -1519.84 - ETA: 13s - loss: -1519.90 - ETA: 13s - loss: -1519.86 - ETA: 13s - loss: -1519.93 - ETA: 13s - loss: -1519.9740"
     ]
    },
    {
     "name": "stdout",
     "output_type": "stream",
     "text": [
      "169807/169807 [==============================] - ETA: 13s - loss: -1520.03 - ETA: 13s - loss: -1520.09 - ETA: 13s - loss: -1520.20 - ETA: 13s - loss: -1520.29 - ETA: 13s - loss: -1520.26 - ETA: 13s - loss: -1520.25 - ETA: 13s - loss: -1520.31 - ETA: 13s - loss: -1520.37 - ETA: 13s - loss: -1520.39 - ETA: 13s - loss: -1520.43 - ETA: 12s - loss: -1520.37 - ETA: 12s - loss: -1520.37 - ETA: 12s - loss: -1520.37 - ETA: 12s - loss: -1520.31 - ETA: 12s - loss: -1520.26 - ETA: 12s - loss: -1520.25 - ETA: 12s - loss: -1520.33 - ETA: 12s - loss: -1520.32 - ETA: 12s - loss: -1520.31 - ETA: 12s - loss: -1520.29 - ETA: 12s - loss: -1520.24 - ETA: 12s - loss: -1520.27 - ETA: 12s - loss: -1520.25 - ETA: 12s - loss: -1520.16 - ETA: 12s - loss: -1520.14 - ETA: 12s - loss: -1520.15 - ETA: 12s - loss: -1520.13 - ETA: 12s - loss: -1520.15 - ETA: 12s - loss: -1520.17 - ETA: 12s - loss: -1520.16 - ETA: 12s - loss: -1520.21 - ETA: 11s - loss: -1520.22 - ETA: 11s - loss: -1520.25 - ETA: 11s - loss: -1520.26 - ETA: 11s - loss: -1520.29 - ETA: 11s - loss: -1520.29 - ETA: 11s - loss: -1520.26 - ETA: 11s - loss: -1520.21 - ETA: 11s - loss: -1520.11 - ETA: 11s - loss: -1520.08 - ETA: 11s - loss: -1520.01 - ETA: 11s - loss: -1520.03 - ETA: 11s - loss: -1520.00 - ETA: 11s - loss: -1519.97 - ETA: 11s - loss: -1519.98 - ETA: 11s - loss: -1519.98 - ETA: 11s - loss: -1520.00 - ETA: 11s - loss: -1519.96 - ETA: 10s - loss: -1519.96 - ETA: 10s - loss: -1519.98 - ETA: 10s - loss: -1519.97 - ETA: 10s - loss: -1519.97 - ETA: 10s - loss: -1519.88 - ETA: 10s - loss: -1519.84 - ETA: 10s - loss: -1519.80 - ETA: 10s - loss: -1519.86 - ETA: 10s - loss: -1519.86 - ETA: 10s - loss: -1519.94 - ETA: 10s - loss: -1519.90 - ETA: 10s - loss: -1519.97 - ETA: 10s - loss: -1519.94 - ETA: 10s - loss: -1519.93 - ETA: 10s - loss: -1519.92 - ETA: 10s - loss: -1519.92 - ETA: 10s - loss: -1519.95 - ETA: 10s - loss: -1519.93 - ETA: 9s - loss: -1519.8655 - ETA: 9s - loss: -1519.876 - ETA: 9s - loss: -1519.837 - ETA: 9s - loss: -1519.837 - ETA: 9s - loss: -1519.824 - ETA: 9s - loss: -1519.874 - ETA: 9s - loss: -1519.880 - ETA: 9s - loss: -1519.915 - ETA: 9s - loss: -1519.908 - ETA: 9s - loss: -1519.839 - ETA: 9s - loss: -1519.780 - ETA: 9s - loss: -1519.684 - ETA: 9s - loss: -1519.706 - ETA: 9s - loss: -1519.613 - ETA: 9s - loss: -1519.651 - ETA: 9s - loss: -1519.692 - ETA: 8s - loss: -1519.595 - ETA: 8s - loss: -1519.599 - ETA: 8s - loss: -1519.625 - ETA: 8s - loss: -1519.640 - ETA: 8s - loss: -1519.644 - ETA: 8s - loss: -1519.629 - ETA: 8s - loss: -1519.611 - ETA: 8s - loss: -1519.588 - ETA: 8s - loss: -1519.593 - ETA: 8s - loss: -1519.592 - ETA: 8s - loss: -1519.576 - ETA: 8s - loss: -1519.589 - ETA: 8s - loss: -1519.531 - ETA: 8s - loss: -1519.529 - ETA: 8s - loss: -1519.490 - ETA: 8s - loss: -1519.473 - ETA: 8s - loss: -1519.466 - ETA: 7s - loss: -1519.513 - ETA: 7s - loss: -1519.463 - ETA: 7s - loss: -1519.465 - ETA: 7s - loss: -1519.413 - ETA: 7s - loss: -1519.363 - ETA: 7s - loss: -1519.361 - ETA: 7s - loss: -1519.339 - ETA: 7s - loss: -1519.390 - ETA: 7s - loss: -1519.356 - ETA: 7s - loss: -1519.325 - ETA: 7s - loss: -1519.360 - ETA: 7s - loss: -1519.294 - ETA: 7s - loss: -1519.263 - ETA: 7s - loss: -1519.311 - ETA: 7s - loss: -1519.339 - ETA: 7s - loss: -1519.275 - ETA: 7s - loss: -1519.345 - ETA: 7s - loss: -1519.371 - ETA: 7s - loss: -1519.386 - ETA: 6s - loss: -1519.372 - ETA: 6s - loss: -1519.306 - ETA: 6s - loss: -1519.325 - ETA: 6s - loss: -1519.321 - ETA: 6s - loss: -1519.333 - ETA: 6s - loss: -1519.395 - ETA: 6s - loss: -1519.417 - ETA: 6s - loss: -1519.442 - ETA: 6s - loss: -1519.405 - ETA: 6s - loss: -1519.386 - ETA: 6s - loss: -1519.349 - ETA: 6s - loss: -1519.330 - ETA: 6s - loss: -1519.372 - ETA: 6s - loss: -1519.366 - ETA: 6s - loss: -1519.418 - ETA: 6s - loss: -1519.503 - ETA: 5s - loss: -1519.456 - ETA: 5s - loss: -1519.426 - ETA: 5s - loss: -1519.367 - ETA: 5s - loss: -1519.438 - ETA: 5s - loss: -1519.406 - ETA: 5s - loss: -1519.397 - ETA: 5s - loss: -1519.348 - ETA: 5s - loss: -1519.352 - ETA: 5s - loss: -1519.341 - ETA: 5s - loss: -1519.359 - ETA: 5s - loss: -1519.343 - ETA: 5s - loss: -1519.301 - ETA: 5s - loss: -1519.316 - ETA: 5s - loss: -1519.310 - ETA: 5s - loss: -1519.279 - ETA: 5s - loss: -1519.255 - ETA: 5s - loss: -1519.222 - ETA: 5s - loss: -1519.194 - ETA: 4s - loss: -1519.171 - ETA: 4s - loss: -1519.150 - ETA: 4s - loss: -1519.148 - ETA: 4s - loss: -1519.145 - ETA: 4s - loss: -1519.140 - ETA: 4s - loss: -1519.121 - ETA: 4s - loss: -1519.114 - ETA: 4s - loss: -1519.099 - ETA: 4s - loss: -1519.093 - ETA: 4s - loss: -1519.097 - ETA: 4s - loss: -1519.130 - ETA: 4s - loss: -1519.155 - ETA: 4s - loss: -1519.162 - ETA: 4s - loss: -1519.146 - ETA: 4s - loss: -1519.080 - ETA: 4s - loss: -1519.138 - ETA: 4s - loss: -1519.076 - ETA: 3s - loss: -1519.076 - ETA: 3s - loss: -1519.155 - ETA: 3s - loss: -1519.157 - ETA: 3s - loss: -1519.203 - ETA: 3s - loss: -1519.194 - ETA: 3s - loss: -1519.138 - ETA: 3s - loss: -1519.116 - ETA: 3s - loss: -1519.097 - ETA: 3s - loss: -1519.053 - ETA: 3s - loss: -1519.057 - ETA: 3s - loss: -1519.137 - ETA: 3s - loss: -1519.171 - ETA: 3s - loss: -1519.156 - ETA: 3s - loss: -1519.107 - ETA: 3s - loss: -1519.131 - ETA: 3s - loss: -1519.141 - ETA: 3s - loss: -1519.184 - ETA: 2s - loss: -1519.217 - ETA: 2s - loss: -1519.251 - ETA: 2s - loss: -1519.260 - ETA: 2s - loss: -1519.256 - ETA: 2s - loss: -1519.247 - ETA: 2s - loss: -1519.219 - ETA: 2s - loss: -1519.228 - ETA: 2s - loss: -1519.225 - ETA: 2s - loss: -1519.218 - ETA: 2s - loss: -1519.241 - ETA: 2s - loss: -1519.192 - ETA: 2s - loss: -1519.248 - ETA: 2s - loss: -1519.235 - ETA: 2s - loss: -1519.213 - ETA: 2s - loss: -1519.170 - ETA: 2s - loss: -1519.163 - ETA: 2s - loss: -1519.210 - ETA: 2s - loss: -1519.211 - ETA: 1s - loss: -1519.211 - ETA: 1s - loss: -1519.234 - ETA: 1s - loss: -1519.305 - ETA: 1s - loss: -1519.295 - ETA: 1s - loss: -1519.294 - ETA: 1s - loss: -1519.296 - ETA: 1s - loss: -1519.296 - ETA: 1s - loss: -1519.337 - ETA: 1s - loss: -1519.353 - ETA: 1s - loss: -1519.322 - ETA: 1s - loss: -1519.319 - ETA: 1s - loss: -1519.304 - ETA: 1s - loss: -1519.249 - ETA: 1s - loss: -1519.259 - ETA: 1s - loss: -1519.255 - ETA: 1s - loss: -1519.293 - ETA: 1s - loss: -1519.248 - ETA: 1s - loss: -1519.241 - ETA: 1s - loss: -1519.217 - ETA: 0s - loss: -1519.243 - ETA: 0s - loss: -1519.241 - ETA: 0s - loss: -1519.267 - ETA: 0s - loss: -1519.264 - ETA: 0s - loss: -1519.241 - ETA: 0s - loss: -1519.236 - ETA: 0s - loss: -1519.228 - ETA: 0s - loss: -1519.206 - ETA: 0s - loss: -1519.146 - ETA: 0s - loss: -1519.187 - ETA: 0s - loss: -1519.170 - ETA: 0s - loss: -1519.171 - ETA: 0s - loss: -1519.199 - ETA: 0s - loss: -1519.177 - ETA: 0s - loss: -1519.165 - ETA: 0s - loss: -1519.151 - ETA: 0s - loss: -1519.124 - ETA: 0s - loss: -1519.093 - ETA: 0s - loss: -1519.066 - 30s 178us/step - loss: -1519.0819 - val_loss: -1519.4886\n",
      "Epoch 4/6\n"
     ]
    },
    {
     "name": "stdout",
     "output_type": "stream",
     "text": [
      " 94912/169807 [===============>..............] - ETA: 54s - loss: -1533.42 - ETA: 38s - loss: -1509.93 - ETA: 34s - loss: -1519.20 - ETA: 32s - loss: -1512.78 - ETA: 31s - loss: -1515.74 - ETA: 30s - loss: -1519.56 - ETA: 29s - loss: -1516.86 - ETA: 28s - loss: -1514.90 - ETA: 27s - loss: -1513.58 - ETA: 27s - loss: -1514.58 - ETA: 27s - loss: -1514.14 - ETA: 27s - loss: -1514.70 - ETA: 26s - loss: -1516.58 - ETA: 26s - loss: -1515.72 - ETA: 26s - loss: -1514.74 - ETA: 26s - loss: -1515.42 - ETA: 26s - loss: -1514.41 - ETA: 26s - loss: -1515.04 - ETA: 26s - loss: -1514.67 - ETA: 26s - loss: -1514.03 - ETA: 26s - loss: -1513.96 - ETA: 26s - loss: -1514.96 - ETA: 26s - loss: -1515.46 - ETA: 25s - loss: -1515.13 - ETA: 26s - loss: -1515.83 - ETA: 25s - loss: -1515.98 - ETA: 25s - loss: -1515.92 - ETA: 25s - loss: -1515.87 - ETA: 25s - loss: -1515.90 - ETA: 25s - loss: -1516.92 - ETA: 25s - loss: -1517.08 - ETA: 25s - loss: -1517.53 - ETA: 25s - loss: -1518.39 - ETA: 25s - loss: -1518.13 - ETA: 25s - loss: -1518.37 - ETA: 25s - loss: -1518.70 - ETA: 25s - loss: -1518.65 - ETA: 25s - loss: -1518.60 - ETA: 25s - loss: -1518.54 - ETA: 25s - loss: -1518.83 - ETA: 25s - loss: -1518.61 - ETA: 25s - loss: -1518.88 - ETA: 25s - loss: -1519.40 - ETA: 25s - loss: -1519.47 - ETA: 25s - loss: -1519.81 - ETA: 25s - loss: -1520.24 - ETA: 25s - loss: -1520.70 - ETA: 25s - loss: -1520.63 - ETA: 25s - loss: -1520.47 - ETA: 25s - loss: -1520.68 - ETA: 26s - loss: -1520.47 - ETA: 25s - loss: -1520.57 - ETA: 26s - loss: -1520.92 - ETA: 25s - loss: -1521.25 - ETA: 25s - loss: -1521.29 - ETA: 25s - loss: -1520.98 - ETA: 25s - loss: -1520.75 - ETA: 25s - loss: -1520.24 - ETA: 25s - loss: -1520.13 - ETA: 26s - loss: -1520.32 - ETA: 25s - loss: -1520.13 - ETA: 25s - loss: -1519.86 - ETA: 25s - loss: -1520.28 - ETA: 25s - loss: -1520.58 - ETA: 25s - loss: -1520.58 - ETA: 25s - loss: -1521.03 - ETA: 25s - loss: -1520.94 - ETA: 25s - loss: -1520.93 - ETA: 25s - loss: -1520.92 - ETA: 25s - loss: -1520.99 - ETA: 25s - loss: -1521.11 - ETA: 25s - loss: -1520.78 - ETA: 25s - loss: -1520.71 - ETA: 25s - loss: -1520.91 - ETA: 25s - loss: -1521.01 - ETA: 25s - loss: -1520.86 - ETA: 25s - loss: -1521.11 - ETA: 25s - loss: -1521.06 - ETA: 24s - loss: -1521.19 - ETA: 24s - loss: -1520.99 - ETA: 24s - loss: -1521.04 - ETA: 24s - loss: -1521.38 - ETA: 24s - loss: -1521.46 - ETA: 24s - loss: -1521.58 - ETA: 24s - loss: -1521.62 - ETA: 24s - loss: -1521.47 - ETA: 24s - loss: -1521.49 - ETA: 24s - loss: -1521.68 - ETA: 24s - loss: -1521.42 - ETA: 24s - loss: -1521.31 - ETA: 23s - loss: -1521.66 - ETA: 23s - loss: -1521.51 - ETA: 23s - loss: -1521.63 - ETA: 23s - loss: -1521.81 - ETA: 23s - loss: -1521.83 - ETA: 23s - loss: -1521.76 - ETA: 23s - loss: -1521.49 - ETA: 23s - loss: -1521.82 - ETA: 23s - loss: -1521.69 - ETA: 23s - loss: -1521.78 - ETA: 23s - loss: -1521.96 - ETA: 23s - loss: -1521.78 - ETA: 22s - loss: -1521.71 - ETA: 22s - loss: -1521.61 - ETA: 22s - loss: -1521.62 - ETA: 22s - loss: -1521.59 - ETA: 22s - loss: -1521.46 - ETA: 22s - loss: -1521.55 - ETA: 22s - loss: -1521.68 - ETA: 22s - loss: -1521.56 - ETA: 22s - loss: -1521.47 - ETA: 22s - loss: -1521.50 - ETA: 22s - loss: -1521.37 - ETA: 22s - loss: -1521.61 - ETA: 22s - loss: -1521.50 - ETA: 22s - loss: -1521.41 - ETA: 22s - loss: -1521.28 - ETA: 22s - loss: -1521.32 - ETA: 22s - loss: -1521.26 - ETA: 22s - loss: -1521.28 - ETA: 22s - loss: -1521.42 - ETA: 22s - loss: -1521.38 - ETA: 21s - loss: -1521.37 - ETA: 21s - loss: -1521.32 - ETA: 21s - loss: -1521.43 - ETA: 21s - loss: -1521.26 - ETA: 21s - loss: -1521.17 - ETA: 21s - loss: -1521.13 - ETA: 21s - loss: -1521.12 - ETA: 21s - loss: -1521.14 - ETA: 21s - loss: -1521.17 - ETA: 21s - loss: -1521.04 - ETA: 21s - loss: -1521.13 - ETA: 21s - loss: -1521.21 - ETA: 21s - loss: -1521.07 - ETA: 21s - loss: -1521.01 - ETA: 21s - loss: -1520.93 - ETA: 21s - loss: -1521.06 - ETA: 21s - loss: -1520.98 - ETA: 21s - loss: -1521.19 - ETA: 21s - loss: -1521.02 - ETA: 21s - loss: -1521.15 - ETA: 20s - loss: -1520.98 - ETA: 20s - loss: -1520.91 - ETA: 20s - loss: -1520.79 - ETA: 20s - loss: -1520.75 - ETA: 20s - loss: -1520.80 - ETA: 20s - loss: -1520.82 - ETA: 20s - loss: -1520.76 - ETA: 20s - loss: -1520.73 - ETA: 20s - loss: -1520.66 - ETA: 20s - loss: -1520.70 - ETA: 20s - loss: -1520.76 - ETA: 20s - loss: -1520.73 - ETA: 20s - loss: -1520.66 - ETA: 20s - loss: -1520.71 - ETA: 20s - loss: -1520.76 - ETA: 19s - loss: -1520.76 - ETA: 19s - loss: -1520.78 - ETA: 19s - loss: -1520.79 - ETA: 19s - loss: -1520.75 - ETA: 19s - loss: -1520.68 - ETA: 19s - loss: -1520.66 - ETA: 19s - loss: -1520.60 - ETA: 19s - loss: -1520.59 - ETA: 19s - loss: -1520.41 - ETA: 19s - loss: -1520.33 - ETA: 19s - loss: -1520.26 - ETA: 19s - loss: -1520.18 - ETA: 19s - loss: -1520.22 - ETA: 19s - loss: -1520.26 - ETA: 19s - loss: -1520.26 - ETA: 18s - loss: -1520.26 - ETA: 18s - loss: -1520.31 - ETA: 18s - loss: -1520.17 - ETA: 18s - loss: -1520.26 - ETA: 18s - loss: -1520.30 - ETA: 18s - loss: -1520.39 - ETA: 18s - loss: -1520.35 - ETA: 18s - loss: -1520.30 - ETA: 18s - loss: -1520.36 - ETA: 18s - loss: -1520.23 - ETA: 18s - loss: -1520.24 - ETA: 18s - loss: -1520.26 - ETA: 18s - loss: -1520.22 - ETA: 18s - loss: -1520.35 - ETA: 18s - loss: -1520.36 - ETA: 18s - loss: -1520.37 - ETA: 17s - loss: -1520.41 - ETA: 17s - loss: -1520.43 - ETA: 17s - loss: -1520.46 - ETA: 17s - loss: -1520.37 - ETA: 17s - loss: -1520.41 - ETA: 17s - loss: -1520.44 - ETA: 17s - loss: -1520.45 - ETA: 17s - loss: -1520.59 - ETA: 17s - loss: -1520.63 - ETA: 17s - loss: -1520.65 - ETA: 17s - loss: -1520.64 - ETA: 17s - loss: -1520.61 - ETA: 17s - loss: -1520.50 - ETA: 17s - loss: -1520.59 - ETA: 17s - loss: -1520.59 - ETA: 17s - loss: -1520.63 - ETA: 16s - loss: -1520.75 - ETA: 16s - loss: -1520.69 - ETA: 16s - loss: -1520.73 - ETA: 16s - loss: -1520.68 - ETA: 16s - loss: -1520.71 - ETA: 16s - loss: -1520.66 - ETA: 16s - loss: -1520.63 - ETA: 16s - loss: -1520.61 - ETA: 16s - loss: -1520.56 - ETA: 16s - loss: -1520.58 - ETA: 16s - loss: -1520.53 - ETA: 16s - loss: -1520.61 - ETA: 16s - loss: -1520.65 - ETA: 16s - loss: -1520.66 - ETA: 16s - loss: -1520.65 - ETA: 16s - loss: -1520.70 - ETA: 15s - loss: -1520.61 - ETA: 15s - loss: -1520.58 - ETA: 15s - loss: -1520.58 - ETA: 15s - loss: -1520.57 - ETA: 15s - loss: -1520.56 - ETA: 15s - loss: -1520.49 - ETA: 15s - loss: -1520.56 - ETA: 15s - loss: -1520.52 - ETA: 15s - loss: -1520.50 - ETA: 15s - loss: -1520.60 - ETA: 15s - loss: -1520.59 - ETA: 15s - loss: -1520.60 - ETA: 15s - loss: -1520.71 - ETA: 15s - loss: -1520.69 - ETA: 15s - loss: -1520.65 - ETA: 15s - loss: -1520.66 - ETA: 15s - loss: -1520.67 - ETA: 14s - loss: -1520.65 - ETA: 14s - loss: -1520.68 - ETA: 14s - loss: -1520.65 - ETA: 14s - loss: -1520.65 - ETA: 14s - loss: -1520.73 - ETA: 14s - loss: -1520.72 - ETA: 14s - loss: -1520.76 - ETA: 14s - loss: -1520.71 - ETA: 14s - loss: -1520.76 - ETA: 14s - loss: -1520.85 - ETA: 14s - loss: -1520.82 - ETA: 14s - loss: -1520.88 - ETA: 14s - loss: -1520.90 - ETA: 14s - loss: -1520.93 - ETA: 14s - loss: -1520.91 - ETA: 14s - loss: -1520.91 - ETA: 14s - loss: -1520.84 - ETA: 14s - loss: -1520.94 - ETA: 14s - loss: -1520.93 - ETA: 14s - loss: -1520.93 - ETA: 14s - loss: -1520.85 - ETA: 14s - loss: -1520.87 - ETA: 13s - loss: -1520.86 - ETA: 13s - loss: -1520.82 - ETA: 13s - loss: -1520.88 - ETA: 13s - loss: -1520.85 - ETA: 13s - loss: -1520.76 - ETA: 13s - loss: -1520.77 - ETA: 13s - loss: -1520.71 - ETA: 13s - loss: -1520.83 - ETA: 13s - loss: -1520.80 - ETA: 13s - loss: -1520.82 - ETA: 13s - loss: -1520.81 - ETA: 13s - loss: -1520.89 - ETA: 13s - loss: -1520.79 - ETA: 13s - loss: -1520.78 - ETA: 13s - loss: -1520.78 - ETA: 13s - loss: -1520.76 - ETA: 13s - loss: -1520.79 - ETA: 13s - loss: -1520.81 - ETA: 13s - loss: -1520.78 - ETA: 13s - loss: -1520.83 - ETA: 13s - loss: -1520.76 - ETA: 12s - loss: -1520.77 - ETA: 12s - loss: -1520.75 - ETA: 12s - loss: -1520.66 - ETA: 12s - loss: -1520.65 - ETA: 12s - loss: -1520.70 - ETA: 12s - loss: -1520.66 - ETA: 12s - loss: -1520.61 - ETA: 12s - loss: -1520.64 - ETA: 12s - loss: -1520.60 - ETA: 12s - loss: -1520.57 - ETA: 12s - loss: -1520.4875"
     ]
    },
    {
     "name": "stdout",
     "output_type": "stream",
     "text": [
      "169807/169807 [==============================] - ETA: 12s - loss: -1520.45 - ETA: 12s - loss: -1520.37 - ETA: 12s - loss: -1520.26 - ETA: 12s - loss: -1520.18 - ETA: 12s - loss: -1520.22 - ETA: 12s - loss: -1520.17 - ETA: 12s - loss: -1520.23 - ETA: 12s - loss: -1520.21 - ETA: 12s - loss: -1520.21 - ETA: 11s - loss: -1520.19 - ETA: 11s - loss: -1520.16 - ETA: 11s - loss: -1520.16 - ETA: 11s - loss: -1520.17 - ETA: 11s - loss: -1520.18 - ETA: 11s - loss: -1520.12 - ETA: 11s - loss: -1520.11 - ETA: 11s - loss: -1520.10 - ETA: 11s - loss: -1520.06 - ETA: 11s - loss: -1520.05 - ETA: 11s - loss: -1519.94 - ETA: 11s - loss: -1519.93 - ETA: 11s - loss: -1519.91 - ETA: 11s - loss: -1519.89 - ETA: 11s - loss: -1519.90 - ETA: 11s - loss: -1519.94 - ETA: 11s - loss: -1519.96 - ETA: 11s - loss: -1519.97 - ETA: 11s - loss: -1519.95 - ETA: 11s - loss: -1519.93 - ETA: 10s - loss: -1519.96 - ETA: 10s - loss: -1519.87 - ETA: 10s - loss: -1519.89 - ETA: 10s - loss: -1519.92 - ETA: 10s - loss: -1519.92 - ETA: 10s - loss: -1519.94 - ETA: 10s - loss: -1519.97 - ETA: 10s - loss: -1519.98 - ETA: 10s - loss: -1519.93 - ETA: 10s - loss: -1519.91 - ETA: 10s - loss: -1519.90 - ETA: 10s - loss: -1519.91 - ETA: 10s - loss: -1519.92 - ETA: 10s - loss: -1519.89 - ETA: 10s - loss: -1519.90 - ETA: 10s - loss: -1519.90 - ETA: 10s - loss: -1519.91 - ETA: 10s - loss: -1519.97 - ETA: 9s - loss: -1519.9220 - ETA: 9s - loss: -1519.862 - ETA: 9s - loss: -1519.821 - ETA: 9s - loss: -1519.875 - ETA: 9s - loss: -1519.866 - ETA: 9s - loss: -1519.809 - ETA: 9s - loss: -1519.808 - ETA: 9s - loss: -1519.797 - ETA: 9s - loss: -1519.853 - ETA: 9s - loss: -1519.860 - ETA: 9s - loss: -1519.871 - ETA: 9s - loss: -1519.737 - ETA: 9s - loss: -1519.752 - ETA: 9s - loss: -1519.689 - ETA: 9s - loss: -1519.644 - ETA: 9s - loss: -1519.588 - ETA: 9s - loss: -1519.641 - ETA: 9s - loss: -1519.673 - ETA: 9s - loss: -1519.723 - ETA: 9s - loss: -1519.796 - ETA: 9s - loss: -1519.804 - ETA: 8s - loss: -1519.869 - ETA: 8s - loss: -1519.870 - ETA: 8s - loss: -1519.871 - ETA: 8s - loss: -1519.903 - ETA: 8s - loss: -1519.877 - ETA: 8s - loss: -1519.848 - ETA: 8s - loss: -1519.929 - ETA: 8s - loss: -1519.965 - ETA: 8s - loss: -1519.980 - ETA: 8s - loss: -1519.956 - ETA: 8s - loss: -1519.971 - ETA: 8s - loss: -1519.950 - ETA: 8s - loss: -1519.996 - ETA: 8s - loss: -1519.961 - ETA: 8s - loss: -1519.949 - ETA: 8s - loss: -1519.978 - ETA: 8s - loss: -1519.911 - ETA: 8s - loss: -1519.916 - ETA: 7s - loss: -1519.961 - ETA: 7s - loss: -1519.953 - ETA: 7s - loss: -1519.941 - ETA: 7s - loss: -1519.890 - ETA: 7s - loss: -1519.908 - ETA: 7s - loss: -1519.903 - ETA: 7s - loss: -1519.912 - ETA: 7s - loss: -1519.921 - ETA: 7s - loss: -1519.933 - ETA: 7s - loss: -1519.943 - ETA: 7s - loss: -1519.911 - ETA: 7s - loss: -1519.896 - ETA: 7s - loss: -1519.946 - ETA: 7s - loss: -1519.905 - ETA: 7s - loss: -1519.923 - ETA: 7s - loss: -1519.896 - ETA: 7s - loss: -1519.886 - ETA: 7s - loss: -1519.823 - ETA: 6s - loss: -1519.811 - ETA: 6s - loss: -1519.793 - ETA: 6s - loss: -1519.789 - ETA: 6s - loss: -1519.844 - ETA: 6s - loss: -1519.817 - ETA: 6s - loss: -1519.776 - ETA: 6s - loss: -1519.757 - ETA: 6s - loss: -1519.738 - ETA: 6s - loss: -1519.699 - ETA: 6s - loss: -1519.672 - ETA: 6s - loss: -1519.658 - ETA: 6s - loss: -1519.662 - ETA: 6s - loss: -1519.609 - ETA: 6s - loss: -1519.608 - ETA: 6s - loss: -1519.576 - ETA: 6s - loss: -1519.581 - ETA: 6s - loss: -1519.546 - ETA: 5s - loss: -1519.483 - ETA: 5s - loss: -1519.497 - ETA: 5s - loss: -1519.436 - ETA: 5s - loss: -1519.409 - ETA: 5s - loss: -1519.372 - ETA: 5s - loss: -1519.320 - ETA: 5s - loss: -1519.300 - ETA: 5s - loss: -1519.267 - ETA: 5s - loss: -1519.201 - ETA: 5s - loss: -1519.218 - ETA: 5s - loss: -1519.213 - ETA: 5s - loss: -1519.260 - ETA: 5s - loss: -1519.247 - ETA: 5s - loss: -1519.266 - ETA: 5s - loss: -1519.309 - ETA: 5s - loss: -1519.301 - ETA: 5s - loss: -1519.308 - ETA: 5s - loss: -1519.271 - ETA: 5s - loss: -1519.276 - ETA: 4s - loss: -1519.275 - ETA: 4s - loss: -1519.250 - ETA: 4s - loss: -1519.218 - ETA: 4s - loss: -1519.198 - ETA: 4s - loss: -1519.185 - ETA: 4s - loss: -1519.243 - ETA: 4s - loss: -1519.266 - ETA: 4s - loss: -1519.229 - ETA: 4s - loss: -1519.251 - ETA: 4s - loss: -1519.214 - ETA: 4s - loss: -1519.194 - ETA: 4s - loss: -1519.210 - ETA: 4s - loss: -1519.218 - ETA: 4s - loss: -1519.171 - ETA: 4s - loss: -1519.181 - ETA: 4s - loss: -1519.197 - ETA: 4s - loss: -1519.194 - ETA: 4s - loss: -1519.176 - ETA: 4s - loss: -1519.171 - ETA: 3s - loss: -1519.142 - ETA: 3s - loss: -1519.122 - ETA: 3s - loss: -1519.144 - ETA: 3s - loss: -1519.145 - ETA: 3s - loss: -1519.181 - ETA: 3s - loss: -1519.191 - ETA: 3s - loss: -1519.250 - ETA: 3s - loss: -1519.221 - ETA: 3s - loss: -1519.242 - ETA: 3s - loss: -1519.218 - ETA: 3s - loss: -1519.207 - ETA: 3s - loss: -1519.172 - ETA: 3s - loss: -1519.219 - ETA: 3s - loss: -1519.229 - ETA: 3s - loss: -1519.251 - ETA: 3s - loss: -1519.239 - ETA: 3s - loss: -1519.267 - ETA: 3s - loss: -1519.290 - ETA: 2s - loss: -1519.321 - ETA: 2s - loss: -1519.263 - ETA: 2s - loss: -1519.303 - ETA: 2s - loss: -1519.248 - ETA: 2s - loss: -1519.251 - ETA: 2s - loss: -1519.261 - ETA: 2s - loss: -1519.273 - ETA: 2s - loss: -1519.227 - ETA: 2s - loss: -1519.215 - ETA: 2s - loss: -1519.224 - ETA: 2s - loss: -1519.222 - ETA: 2s - loss: -1519.273 - ETA: 2s - loss: -1519.282 - ETA: 2s - loss: -1519.240 - ETA: 2s - loss: -1519.220 - ETA: 2s - loss: -1519.242 - ETA: 2s - loss: -1519.269 - ETA: 2s - loss: -1519.295 - ETA: 2s - loss: -1519.309 - ETA: 1s - loss: -1519.356 - ETA: 1s - loss: -1519.340 - ETA: 1s - loss: -1519.315 - ETA: 1s - loss: -1519.295 - ETA: 1s - loss: -1519.322 - ETA: 1s - loss: -1519.325 - ETA: 1s - loss: -1519.343 - ETA: 1s - loss: -1519.274 - ETA: 1s - loss: -1519.225 - ETA: 1s - loss: -1519.258 - ETA: 1s - loss: -1519.331 - ETA: 1s - loss: -1519.343 - ETA: 1s - loss: -1519.360 - ETA: 1s - loss: -1519.326 - ETA: 1s - loss: -1519.320 - ETA: 1s - loss: -1519.319 - ETA: 1s - loss: -1519.304 - ETA: 1s - loss: -1519.296 - ETA: 1s - loss: -1519.305 - ETA: 1s - loss: -1519.274 - ETA: 0s - loss: -1519.242 - ETA: 0s - loss: -1519.196 - ETA: 0s - loss: -1519.210 - ETA: 0s - loss: -1519.179 - ETA: 0s - loss: -1519.174 - ETA: 0s - loss: -1519.187 - ETA: 0s - loss: -1519.173 - ETA: 0s - loss: -1519.209 - ETA: 0s - loss: -1519.167 - ETA: 0s - loss: -1519.132 - ETA: 0s - loss: -1519.139 - ETA: 0s - loss: -1519.070 - ETA: 0s - loss: -1519.032 - ETA: 0s - loss: -1519.040 - ETA: 0s - loss: -1519.046 - ETA: 0s - loss: -1519.040 - ETA: 0s - loss: -1519.066 - ETA: 0s - loss: -1519.099 - ETA: 0s - loss: -1519.083 - ETA: 0s - loss: -1519.080 - ETA: 0s - loss: -1519.070 - 30s 177us/step - loss: -1519.0819 - val_loss: -1519.4886\n",
      "Epoch 5/6\n"
     ]
    },
    {
     "name": "stdout",
     "output_type": "stream",
     "text": [
      " 87168/169807 [==============>...............] - ETA: 1:27 - loss: -1496.813 - ETA: 37s - loss: -1501.048 - ETA: 34s - loss: -1512.27 - ETA: 32s - loss: -1517.22 - ETA: 30s - loss: -1521.04 - ETA: 30s - loss: -1519.64 - ETA: 29s - loss: -1517.42 - ETA: 29s - loss: -1517.62 - ETA: 28s - loss: -1517.87 - ETA: 28s - loss: -1516.77 - ETA: 28s - loss: -1518.77 - ETA: 29s - loss: -1519.78 - ETA: 29s - loss: -1519.35 - ETA: 28s - loss: -1519.96 - ETA: 28s - loss: -1518.76 - ETA: 28s - loss: -1518.62 - ETA: 28s - loss: -1518.88 - ETA: 27s - loss: -1518.23 - ETA: 27s - loss: -1518.84 - ETA: 27s - loss: -1519.20 - ETA: 27s - loss: -1520.06 - ETA: 26s - loss: -1519.88 - ETA: 26s - loss: -1519.84 - ETA: 26s - loss: -1520.63 - ETA: 26s - loss: -1520.47 - ETA: 26s - loss: -1519.86 - ETA: 26s - loss: -1520.55 - ETA: 27s - loss: -1520.04 - ETA: 27s - loss: -1520.36 - ETA: 27s - loss: -1519.58 - ETA: 27s - loss: -1519.87 - ETA: 27s - loss: -1520.40 - ETA: 27s - loss: -1520.46 - ETA: 27s - loss: -1521.11 - ETA: 27s - loss: -1521.34 - ETA: 27s - loss: -1521.23 - ETA: 27s - loss: -1521.35 - ETA: 27s - loss: -1521.45 - ETA: 26s - loss: -1521.56 - ETA: 26s - loss: -1522.15 - ETA: 26s - loss: -1521.74 - ETA: 26s - loss: -1521.63 - ETA: 26s - loss: -1521.05 - ETA: 26s - loss: -1521.56 - ETA: 26s - loss: -1521.74 - ETA: 26s - loss: -1521.48 - ETA: 26s - loss: -1521.56 - ETA: 26s - loss: -1520.71 - ETA: 26s - loss: -1520.56 - ETA: 26s - loss: -1520.23 - ETA: 26s - loss: -1519.74 - ETA: 26s - loss: -1519.75 - ETA: 25s - loss: -1519.98 - ETA: 25s - loss: -1519.81 - ETA: 25s - loss: -1519.55 - ETA: 25s - loss: -1519.59 - ETA: 26s - loss: -1519.43 - ETA: 26s - loss: -1519.38 - ETA: 26s - loss: -1519.22 - ETA: 26s - loss: -1519.00 - ETA: 26s - loss: -1518.76 - ETA: 26s - loss: -1518.76 - ETA: 26s - loss: -1518.24 - ETA: 26s - loss: -1518.00 - ETA: 26s - loss: -1517.88 - ETA: 26s - loss: -1517.73 - ETA: 26s - loss: -1517.76 - ETA: 26s - loss: -1518.07 - ETA: 26s - loss: -1518.79 - ETA: 26s - loss: -1518.66 - ETA: 25s - loss: -1518.37 - ETA: 25s - loss: -1518.27 - ETA: 25s - loss: -1518.10 - ETA: 25s - loss: -1518.19 - ETA: 25s - loss: -1518.47 - ETA: 25s - loss: -1518.35 - ETA: 25s - loss: -1518.44 - ETA: 25s - loss: -1518.31 - ETA: 25s - loss: -1517.79 - ETA: 25s - loss: -1517.61 - ETA: 25s - loss: -1517.69 - ETA: 25s - loss: -1517.70 - ETA: 25s - loss: -1517.74 - ETA: 25s - loss: -1517.32 - ETA: 25s - loss: -1517.47 - ETA: 25s - loss: -1517.35 - ETA: 25s - loss: -1517.43 - ETA: 25s - loss: -1517.22 - ETA: 25s - loss: -1517.20 - ETA: 25s - loss: -1517.21 - ETA: 25s - loss: -1517.11 - ETA: 25s - loss: -1517.01 - ETA: 25s - loss: -1517.16 - ETA: 25s - loss: -1516.93 - ETA: 25s - loss: -1516.88 - ETA: 25s - loss: -1516.93 - ETA: 25s - loss: -1517.42 - ETA: 25s - loss: -1517.41 - ETA: 25s - loss: -1517.48 - ETA: 25s - loss: -1517.32 - ETA: 25s - loss: -1517.16 - ETA: 25s - loss: -1517.13 - ETA: 25s - loss: -1517.14 - ETA: 25s - loss: -1517.01 - ETA: 24s - loss: -1517.25 - ETA: 24s - loss: -1517.34 - ETA: 24s - loss: -1517.52 - ETA: 24s - loss: -1517.77 - ETA: 24s - loss: -1517.64 - ETA: 24s - loss: -1517.63 - ETA: 24s - loss: -1517.92 - ETA: 24s - loss: -1517.78 - ETA: 24s - loss: -1517.98 - ETA: 24s - loss: -1518.13 - ETA: 24s - loss: -1518.12 - ETA: 24s - loss: -1518.24 - ETA: 23s - loss: -1518.22 - ETA: 23s - loss: -1518.27 - ETA: 23s - loss: -1518.51 - ETA: 23s - loss: -1518.61 - ETA: 23s - loss: -1518.64 - ETA: 23s - loss: -1518.59 - ETA: 23s - loss: -1518.35 - ETA: 23s - loss: -1518.47 - ETA: 23s - loss: -1518.46 - ETA: 23s - loss: -1518.58 - ETA: 23s - loss: -1518.60 - ETA: 23s - loss: -1518.62 - ETA: 23s - loss: -1518.60 - ETA: 23s - loss: -1518.63 - ETA: 23s - loss: -1518.78 - ETA: 23s - loss: -1518.76 - ETA: 23s - loss: -1518.81 - ETA: 23s - loss: -1518.77 - ETA: 23s - loss: -1518.80 - ETA: 23s - loss: -1518.82 - ETA: 23s - loss: -1518.82 - ETA: 23s - loss: -1518.94 - ETA: 23s - loss: -1519.09 - ETA: 22s - loss: -1519.14 - ETA: 22s - loss: -1519.06 - ETA: 22s - loss: -1518.97 - ETA: 22s - loss: -1519.23 - ETA: 22s - loss: -1519.22 - ETA: 22s - loss: -1519.23 - ETA: 22s - loss: -1519.35 - ETA: 22s - loss: -1519.21 - ETA: 22s - loss: -1519.11 - ETA: 22s - loss: -1519.03 - ETA: 22s - loss: -1519.10 - ETA: 22s - loss: -1519.06 - ETA: 22s - loss: -1519.15 - ETA: 22s - loss: -1519.12 - ETA: 22s - loss: -1519.03 - ETA: 22s - loss: -1519.10 - ETA: 22s - loss: -1518.88 - ETA: 22s - loss: -1518.90 - ETA: 22s - loss: -1518.88 - ETA: 22s - loss: -1519.03 - ETA: 22s - loss: -1518.99 - ETA: 22s - loss: -1518.95 - ETA: 21s - loss: -1519.09 - ETA: 21s - loss: -1519.24 - ETA: 21s - loss: -1519.26 - ETA: 21s - loss: -1519.11 - ETA: 21s - loss: -1519.10 - ETA: 21s - loss: -1519.11 - ETA: 21s - loss: -1519.15 - ETA: 21s - loss: -1519.18 - ETA: 21s - loss: -1519.07 - ETA: 21s - loss: -1518.96 - ETA: 21s - loss: -1519.08 - ETA: 21s - loss: -1519.06 - ETA: 21s - loss: -1519.06 - ETA: 21s - loss: -1519.11 - ETA: 21s - loss: -1519.12 - ETA: 21s - loss: -1519.11 - ETA: 21s - loss: -1519.11 - ETA: 20s - loss: -1519.08 - ETA: 20s - loss: -1519.02 - ETA: 20s - loss: -1518.97 - ETA: 20s - loss: -1518.91 - ETA: 20s - loss: -1518.97 - ETA: 20s - loss: -1518.97 - ETA: 20s - loss: -1518.90 - ETA: 20s - loss: -1518.90 - ETA: 20s - loss: -1518.81 - ETA: 20s - loss: -1518.73 - ETA: 20s - loss: -1518.74 - ETA: 20s - loss: -1518.70 - ETA: 20s - loss: -1518.63 - ETA: 20s - loss: -1518.68 - ETA: 20s - loss: -1518.69 - ETA: 20s - loss: -1518.71 - ETA: 19s - loss: -1518.67 - ETA: 19s - loss: -1518.66 - ETA: 19s - loss: -1518.67 - ETA: 19s - loss: -1518.62 - ETA: 19s - loss: -1518.63 - ETA: 19s - loss: -1518.57 - ETA: 19s - loss: -1518.74 - ETA: 19s - loss: -1518.76 - ETA: 19s - loss: -1518.70 - ETA: 19s - loss: -1518.81 - ETA: 19s - loss: -1518.85 - ETA: 19s - loss: -1518.91 - ETA: 19s - loss: -1518.80 - ETA: 19s - loss: -1518.78 - ETA: 19s - loss: -1518.88 - ETA: 19s - loss: -1518.83 - ETA: 18s - loss: -1518.81 - ETA: 18s - loss: -1518.85 - ETA: 18s - loss: -1518.94 - ETA: 18s - loss: -1518.85 - ETA: 18s - loss: -1518.76 - ETA: 18s - loss: -1518.76 - ETA: 18s - loss: -1518.83 - ETA: 18s - loss: -1518.97 - ETA: 18s - loss: -1519.02 - ETA: 18s - loss: -1518.97 - ETA: 18s - loss: -1518.94 - ETA: 18s - loss: -1518.97 - ETA: 18s - loss: -1518.95 - ETA: 18s - loss: -1518.87 - ETA: 18s - loss: -1518.85 - ETA: 18s - loss: -1518.96 - ETA: 18s - loss: -1518.88 - ETA: 18s - loss: -1518.93 - ETA: 18s - loss: -1518.94 - ETA: 18s - loss: -1518.88 - ETA: 18s - loss: -1518.92 - ETA: 18s - loss: -1518.88 - ETA: 17s - loss: -1518.83 - ETA: 17s - loss: -1518.86 - ETA: 17s - loss: -1518.87 - ETA: 17s - loss: -1518.85 - ETA: 17s - loss: -1518.85 - ETA: 17s - loss: -1518.86 - ETA: 17s - loss: -1518.86 - ETA: 17s - loss: -1518.85 - ETA: 17s - loss: -1518.96 - ETA: 17s - loss: -1518.98 - ETA: 17s - loss: -1518.96 - ETA: 17s - loss: -1519.00 - ETA: 17s - loss: -1518.86 - ETA: 17s - loss: -1518.84 - ETA: 17s - loss: -1518.80 - ETA: 17s - loss: -1518.81 - ETA: 17s - loss: -1518.84 - ETA: 17s - loss: -1518.74 - ETA: 17s - loss: -1518.70 - ETA: 17s - loss: -1518.67 - ETA: 17s - loss: -1518.72 - ETA: 17s - loss: -1518.74 - ETA: 17s - loss: -1518.69 - ETA: 17s - loss: -1518.65 - ETA: 17s - loss: -1518.56 - ETA: 17s - loss: -1518.66 - ETA: 16s - loss: -1518.66 - ETA: 16s - loss: -1518.60 - ETA: 16s - loss: -1518.59 - ETA: 16s - loss: -1518.57 - ETA: 16s - loss: -1518.50 - ETA: 16s - loss: -1518.49 - ETA: 16s - loss: -1518.52 - ETA: 16s - loss: -1518.54 - ETA: 16s - loss: -1518.61 - ETA: 16s - loss: -1518.58 - ETA: 16s - loss: -1518.54 - ETA: 16s - loss: -1518.50 - ETA: 16s - loss: -1518.58 - ETA: 16s - loss: -1518.53 - ETA: 16s - loss: -1518.53 - ETA: 16s - loss: -1518.46 - ETA: 16s - loss: -1518.40 - ETA: 16s - loss: -1518.42 - ETA: 15s - loss: -1518.47 - ETA: 15s - loss: -1518.48 - ETA: 15s - loss: -1518.48 - ETA: 15s - loss: -1518.50 - ETA: 15s - loss: -1518.59 - ETA: 15s - loss: -1518.60 - ETA: 15s - loss: -1518.61 - ETA: 15s - loss: -1518.65 - ETA: 15s - loss: -1518.70 - ETA: 15s - loss: -1518.70 - ETA: 15s - loss: -1518.66 - ETA: 15s - loss: -1518.76 - ETA: 15s - loss: -1518.79 - ETA: 15s - loss: -1518.78 - ETA: 15s - loss: -1518.8179"
     ]
    },
    {
     "name": "stdout",
     "output_type": "stream",
     "text": [
      "169600/169807 [============================>.] - ETA: 15s - loss: -1518.78 - ETA: 15s - loss: -1518.83 - ETA: 15s - loss: -1518.71 - ETA: 15s - loss: -1518.65 - ETA: 14s - loss: -1518.60 - ETA: 14s - loss: -1518.60 - ETA: 14s - loss: -1518.57 - ETA: 14s - loss: -1518.58 - ETA: 14s - loss: -1518.64 - ETA: 14s - loss: -1518.68 - ETA: 14s - loss: -1518.79 - ETA: 14s - loss: -1518.83 - ETA: 14s - loss: -1518.78 - ETA: 14s - loss: -1518.81 - ETA: 14s - loss: -1518.81 - ETA: 14s - loss: -1518.84 - ETA: 14s - loss: -1518.76 - ETA: 14s - loss: -1518.78 - ETA: 14s - loss: -1518.81 - ETA: 13s - loss: -1518.84 - ETA: 13s - loss: -1518.80 - ETA: 13s - loss: -1518.82 - ETA: 13s - loss: -1518.82 - ETA: 13s - loss: -1518.85 - ETA: 13s - loss: -1518.88 - ETA: 13s - loss: -1518.88 - ETA: 13s - loss: -1518.82 - ETA: 13s - loss: -1518.82 - ETA: 13s - loss: -1518.82 - ETA: 13s - loss: -1518.90 - ETA: 13s - loss: -1518.96 - ETA: 13s - loss: -1518.95 - ETA: 13s - loss: -1519.01 - ETA: 13s - loss: -1519.11 - ETA: 13s - loss: -1519.06 - ETA: 13s - loss: -1519.04 - ETA: 13s - loss: -1518.98 - ETA: 13s - loss: -1518.97 - ETA: 13s - loss: -1518.94 - ETA: 12s - loss: -1518.93 - ETA: 12s - loss: -1519.01 - ETA: 12s - loss: -1518.92 - ETA: 12s - loss: -1518.98 - ETA: 12s - loss: -1518.94 - ETA: 12s - loss: -1518.91 - ETA: 12s - loss: -1518.98 - ETA: 12s - loss: -1518.94 - ETA: 12s - loss: -1518.94 - ETA: 12s - loss: -1518.91 - ETA: 12s - loss: -1518.89 - ETA: 12s - loss: -1518.96 - ETA: 12s - loss: -1518.97 - ETA: 12s - loss: -1519.00 - ETA: 12s - loss: -1518.98 - ETA: 11s - loss: -1519.08 - ETA: 11s - loss: -1519.06 - ETA: 11s - loss: -1519.20 - ETA: 11s - loss: -1519.17 - ETA: 11s - loss: -1519.03 - ETA: 11s - loss: -1519.00 - ETA: 11s - loss: -1518.97 - ETA: 11s - loss: -1518.95 - ETA: 11s - loss: -1518.95 - ETA: 11s - loss: -1518.93 - ETA: 11s - loss: -1518.88 - ETA: 11s - loss: -1518.83 - ETA: 11s - loss: -1518.91 - ETA: 11s - loss: -1518.92 - ETA: 11s - loss: -1518.94 - ETA: 11s - loss: -1518.96 - ETA: 11s - loss: -1518.99 - ETA: 11s - loss: -1519.04 - ETA: 11s - loss: -1519.07 - ETA: 10s - loss: -1519.19 - ETA: 10s - loss: -1519.21 - ETA: 10s - loss: -1519.18 - ETA: 10s - loss: -1519.19 - ETA: 10s - loss: -1519.20 - ETA: 10s - loss: -1519.30 - ETA: 10s - loss: -1519.24 - ETA: 10s - loss: -1519.21 - ETA: 10s - loss: -1519.24 - ETA: 10s - loss: -1519.21 - ETA: 10s - loss: -1519.19 - ETA: 10s - loss: -1519.19 - ETA: 10s - loss: -1519.17 - ETA: 10s - loss: -1519.17 - ETA: 10s - loss: -1519.13 - ETA: 10s - loss: -1519.10 - ETA: 10s - loss: -1519.04 - ETA: 10s - loss: -1519.10 - ETA: 10s - loss: -1519.05 - ETA: 10s - loss: -1518.99 - ETA: 10s - loss: -1519.00 - ETA: 10s - loss: -1519.02 - ETA: 10s - loss: -1519.09 - ETA: 10s - loss: -1519.07 - ETA: 9s - loss: -1519.0625 - ETA: 9s - loss: -1519.030 - ETA: 9s - loss: -1519.002 - ETA: 9s - loss: -1518.967 - ETA: 9s - loss: -1518.962 - ETA: 9s - loss: -1518.967 - ETA: 9s - loss: -1518.884 - ETA: 9s - loss: -1518.880 - ETA: 9s - loss: -1518.876 - ETA: 9s - loss: -1518.847 - ETA: 9s - loss: -1518.813 - ETA: 9s - loss: -1518.854 - ETA: 9s - loss: -1518.805 - ETA: 9s - loss: -1518.805 - ETA: 9s - loss: -1518.802 - ETA: 9s - loss: -1518.855 - ETA: 9s - loss: -1518.844 - ETA: 9s - loss: -1518.813 - ETA: 9s - loss: -1518.820 - ETA: 9s - loss: -1518.786 - ETA: 9s - loss: -1518.787 - ETA: 9s - loss: -1518.810 - ETA: 8s - loss: -1518.882 - ETA: 8s - loss: -1518.818 - ETA: 8s - loss: -1518.826 - ETA: 8s - loss: -1518.870 - ETA: 8s - loss: -1518.916 - ETA: 8s - loss: -1518.930 - ETA: 8s - loss: -1518.885 - ETA: 8s - loss: -1518.833 - ETA: 8s - loss: -1518.829 - ETA: 8s - loss: -1518.833 - ETA: 8s - loss: -1518.888 - ETA: 8s - loss: -1518.916 - ETA: 8s - loss: -1518.973 - ETA: 8s - loss: -1519.021 - ETA: 8s - loss: -1518.979 - ETA: 8s - loss: -1518.945 - ETA: 8s - loss: -1518.941 - ETA: 8s - loss: -1518.944 - ETA: 8s - loss: -1518.943 - ETA: 8s - loss: -1518.942 - ETA: 8s - loss: -1518.932 - ETA: 8s - loss: -1518.934 - ETA: 8s - loss: -1518.965 - ETA: 7s - loss: -1518.937 - ETA: 7s - loss: -1518.928 - ETA: 7s - loss: -1518.869 - ETA: 7s - loss: -1518.811 - ETA: 7s - loss: -1518.765 - ETA: 7s - loss: -1518.826 - ETA: 7s - loss: -1518.825 - ETA: 7s - loss: -1518.809 - ETA: 7s - loss: -1518.791 - ETA: 7s - loss: -1518.757 - ETA: 7s - loss: -1518.767 - ETA: 7s - loss: -1518.707 - ETA: 7s - loss: -1518.749 - ETA: 7s - loss: -1518.757 - ETA: 7s - loss: -1518.777 - ETA: 7s - loss: -1518.791 - ETA: 7s - loss: -1518.823 - ETA: 7s - loss: -1518.795 - ETA: 7s - loss: -1518.791 - ETA: 7s - loss: -1518.792 - ETA: 7s - loss: -1518.823 - ETA: 6s - loss: -1518.807 - ETA: 6s - loss: -1518.798 - ETA: 6s - loss: -1518.824 - ETA: 6s - loss: -1518.822 - ETA: 6s - loss: -1518.800 - ETA: 6s - loss: -1518.772 - ETA: 6s - loss: -1518.759 - ETA: 6s - loss: -1518.710 - ETA: 6s - loss: -1518.695 - ETA: 6s - loss: -1518.646 - ETA: 6s - loss: -1518.648 - ETA: 6s - loss: -1518.601 - ETA: 6s - loss: -1518.628 - ETA: 6s - loss: -1518.630 - ETA: 6s - loss: -1518.625 - ETA: 6s - loss: -1518.613 - ETA: 6s - loss: -1518.632 - ETA: 6s - loss: -1518.645 - ETA: 6s - loss: -1518.649 - ETA: 6s - loss: -1518.654 - ETA: 5s - loss: -1518.688 - ETA: 5s - loss: -1518.728 - ETA: 5s - loss: -1518.713 - ETA: 5s - loss: -1518.700 - ETA: 5s - loss: -1518.699 - ETA: 5s - loss: -1518.719 - ETA: 5s - loss: -1518.740 - ETA: 5s - loss: -1518.764 - ETA: 5s - loss: -1518.816 - ETA: 5s - loss: -1518.829 - ETA: 5s - loss: -1518.852 - ETA: 5s - loss: -1518.878 - ETA: 5s - loss: -1518.920 - ETA: 5s - loss: -1518.909 - ETA: 5s - loss: -1518.886 - ETA: 5s - loss: -1518.910 - ETA: 5s - loss: -1518.897 - ETA: 5s - loss: -1518.924 - ETA: 4s - loss: -1518.944 - ETA: 4s - loss: -1518.950 - ETA: 4s - loss: -1518.969 - ETA: 4s - loss: -1519.006 - ETA: 4s - loss: -1519.037 - ETA: 4s - loss: -1519.072 - ETA: 4s - loss: -1519.015 - ETA: 4s - loss: -1519.019 - ETA: 4s - loss: -1519.006 - ETA: 4s - loss: -1518.992 - ETA: 4s - loss: -1518.965 - ETA: 4s - loss: -1518.932 - ETA: 4s - loss: -1518.905 - ETA: 4s - loss: -1518.887 - ETA: 4s - loss: -1518.919 - ETA: 4s - loss: -1518.969 - ETA: 4s - loss: -1518.986 - ETA: 4s - loss: -1519.008 - ETA: 4s - loss: -1519.005 - ETA: 3s - loss: -1518.951 - ETA: 3s - loss: -1518.962 - ETA: 3s - loss: -1518.943 - ETA: 3s - loss: -1518.925 - ETA: 3s - loss: -1518.887 - ETA: 3s - loss: -1518.888 - ETA: 3s - loss: -1518.883 - ETA: 3s - loss: -1518.895 - ETA: 3s - loss: -1518.967 - ETA: 3s - loss: -1519.038 - ETA: 3s - loss: -1519.033 - ETA: 3s - loss: -1519.010 - ETA: 3s - loss: -1519.032 - ETA: 3s - loss: -1519.125 - ETA: 3s - loss: -1519.125 - ETA: 3s - loss: -1519.122 - ETA: 3s - loss: -1519.166 - ETA: 3s - loss: -1519.139 - ETA: 3s - loss: -1519.128 - ETA: 2s - loss: -1519.073 - ETA: 2s - loss: -1519.074 - ETA: 2s - loss: -1519.074 - ETA: 2s - loss: -1519.041 - ETA: 2s - loss: -1519.009 - ETA: 2s - loss: -1519.055 - ETA: 2s - loss: -1519.043 - ETA: 2s - loss: -1519.072 - ETA: 2s - loss: -1519.057 - ETA: 2s - loss: -1519.079 - ETA: 2s - loss: -1519.085 - ETA: 2s - loss: -1519.105 - ETA: 2s - loss: -1519.134 - ETA: 2s - loss: -1519.105 - ETA: 2s - loss: -1519.086 - ETA: 2s - loss: -1519.089 - ETA: 2s - loss: -1519.110 - ETA: 1s - loss: -1519.121 - ETA: 1s - loss: -1519.158 - ETA: 1s - loss: -1519.209 - ETA: 1s - loss: -1519.188 - ETA: 1s - loss: -1519.160 - ETA: 1s - loss: -1519.182 - ETA: 1s - loss: -1519.175 - ETA: 1s - loss: -1519.131 - ETA: 1s - loss: -1519.123 - ETA: 1s - loss: -1519.068 - ETA: 1s - loss: -1519.039 - ETA: 1s - loss: -1519.034 - ETA: 1s - loss: -1519.032 - ETA: 1s - loss: -1519.042 - ETA: 1s - loss: -1519.042 - ETA: 1s - loss: -1519.004 - ETA: 1s - loss: -1519.012 - ETA: 0s - loss: -1519.010 - ETA: 0s - loss: -1519.007 - ETA: 0s - loss: -1519.018 - ETA: 0s - loss: -1519.003 - ETA: 0s - loss: -1519.020 - ETA: 0s - loss: -1519.013 - ETA: 0s - loss: -1519.013 - ETA: 0s - loss: -1519.005 - ETA: 0s - loss: -1519.008 - ETA: 0s - loss: -1519.009 - ETA: 0s - loss: -1518.992 - ETA: 0s - loss: -1518.991 - ETA: 0s - loss: -1518.981 - ETA: 0s - loss: -1518.990 - ETA: 0s - loss: -1519.011 - ETA: 0s - loss: -1519.011 - ETA: 0s - loss: -1518.997 - ETA: 0s - loss: -1519.0549"
     ]
    },
    {
     "name": "stdout",
     "output_type": "stream",
     "text": [
      "169807/169807 [==============================] - 33s 196us/step - loss: -1519.0819 - val_loss: -1519.4886\n",
      "Epoch 6/6\n"
     ]
    },
    {
     "name": "stdout",
     "output_type": "stream",
     "text": [
      " 89152/169807 [==============>...............] - ETA: 52s - loss: -1518.08 - ETA: 38s - loss: -1526.08 - ETA: 34s - loss: -1533.72 - ETA: 35s - loss: -1532.25 - ETA: 37s - loss: -1528.59 - ETA: 35s - loss: -1526.85 - ETA: 35s - loss: -1521.68 - ETA: 35s - loss: -1521.06 - ETA: 35s - loss: -1519.70 - ETA: 35s - loss: -1520.93 - ETA: 35s - loss: -1520.50 - ETA: 34s - loss: -1520.80 - ETA: 34s - loss: -1519.72 - ETA: 33s - loss: -1519.91 - ETA: 33s - loss: -1518.42 - ETA: 33s - loss: -1518.80 - ETA: 33s - loss: -1517.74 - ETA: 33s - loss: -1518.80 - ETA: 33s - loss: -1518.55 - ETA: 33s - loss: -1517.88 - ETA: 33s - loss: -1518.38 - ETA: 33s - loss: -1518.06 - ETA: 32s - loss: -1518.16 - ETA: 32s - loss: -1518.73 - ETA: 32s - loss: -1518.27 - ETA: 32s - loss: -1517.41 - ETA: 32s - loss: -1518.08 - ETA: 32s - loss: -1518.36 - ETA: 32s - loss: -1518.16 - ETA: 31s - loss: -1519.16 - ETA: 31s - loss: -1519.04 - ETA: 31s - loss: -1519.35 - ETA: 31s - loss: -1519.06 - ETA: 30s - loss: -1519.02 - ETA: 30s - loss: -1518.66 - ETA: 30s - loss: -1519.04 - ETA: 30s - loss: -1518.71 - ETA: 30s - loss: -1517.91 - ETA: 30s - loss: -1518.18 - ETA: 30s - loss: -1517.41 - ETA: 30s - loss: -1517.03 - ETA: 30s - loss: -1517.30 - ETA: 30s - loss: -1517.82 - ETA: 30s - loss: -1517.63 - ETA: 29s - loss: -1518.02 - ETA: 29s - loss: -1518.69 - ETA: 30s - loss: -1518.68 - ETA: 29s - loss: -1519.14 - ETA: 29s - loss: -1519.13 - ETA: 29s - loss: -1519.44 - ETA: 29s - loss: -1519.48 - ETA: 29s - loss: -1519.79 - ETA: 29s - loss: -1519.69 - ETA: 29s - loss: -1519.60 - ETA: 29s - loss: -1519.97 - ETA: 29s - loss: -1519.95 - ETA: 29s - loss: -1519.90 - ETA: 29s - loss: -1519.39 - ETA: 29s - loss: -1519.37 - ETA: 29s - loss: -1519.15 - ETA: 29s - loss: -1519.23 - ETA: 29s - loss: -1519.18 - ETA: 29s - loss: -1519.34 - ETA: 29s - loss: -1519.87 - ETA: 29s - loss: -1519.69 - ETA: 29s - loss: -1519.78 - ETA: 29s - loss: -1519.78 - ETA: 29s - loss: -1519.71 - ETA: 29s - loss: -1519.47 - ETA: 29s - loss: -1519.24 - ETA: 29s - loss: -1519.41 - ETA: 29s - loss: -1519.43 - ETA: 29s - loss: -1518.98 - ETA: 29s - loss: -1518.31 - ETA: 29s - loss: -1518.43 - ETA: 29s - loss: -1518.30 - ETA: 29s - loss: -1518.31 - ETA: 29s - loss: -1518.00 - ETA: 29s - loss: -1517.90 - ETA: 28s - loss: -1518.10 - ETA: 28s - loss: -1518.32 - ETA: 28s - loss: -1518.21 - ETA: 28s - loss: -1518.27 - ETA: 28s - loss: -1518.30 - ETA: 28s - loss: -1517.93 - ETA: 28s - loss: -1518.34 - ETA: 28s - loss: -1518.07 - ETA: 28s - loss: -1518.03 - ETA: 28s - loss: -1517.87 - ETA: 28s - loss: -1517.83 - ETA: 28s - loss: -1517.66 - ETA: 28s - loss: -1517.50 - ETA: 27s - loss: -1517.41 - ETA: 27s - loss: -1517.61 - ETA: 27s - loss: -1517.80 - ETA: 27s - loss: -1517.66 - ETA: 27s - loss: -1518.09 - ETA: 27s - loss: -1518.11 - ETA: 27s - loss: -1518.10 - ETA: 27s - loss: -1518.01 - ETA: 27s - loss: -1517.84 - ETA: 26s - loss: -1517.86 - ETA: 26s - loss: -1517.83 - ETA: 26s - loss: -1517.79 - ETA: 26s - loss: -1517.62 - ETA: 26s - loss: -1517.68 - ETA: 26s - loss: -1517.54 - ETA: 26s - loss: -1517.51 - ETA: 26s - loss: -1517.36 - ETA: 26s - loss: -1517.50 - ETA: 25s - loss: -1517.63 - ETA: 25s - loss: -1517.52 - ETA: 25s - loss: -1517.38 - ETA: 25s - loss: -1517.58 - ETA: 25s - loss: -1517.70 - ETA: 25s - loss: -1517.67 - ETA: 25s - loss: -1517.66 - ETA: 25s - loss: -1517.61 - ETA: 25s - loss: -1517.48 - ETA: 25s - loss: -1517.47 - ETA: 25s - loss: -1517.57 - ETA: 25s - loss: -1517.44 - ETA: 24s - loss: -1517.55 - ETA: 24s - loss: -1517.49 - ETA: 24s - loss: -1517.66 - ETA: 24s - loss: -1517.58 - ETA: 24s - loss: -1517.68 - ETA: 24s - loss: -1518.04 - ETA: 24s - loss: -1518.00 - ETA: 24s - loss: -1518.09 - ETA: 24s - loss: -1518.02 - ETA: 24s - loss: -1517.78 - ETA: 23s - loss: -1518.00 - ETA: 23s - loss: -1517.94 - ETA: 23s - loss: -1517.91 - ETA: 23s - loss: -1518.20 - ETA: 23s - loss: -1518.17 - ETA: 23s - loss: -1518.17 - ETA: 23s - loss: -1518.27 - ETA: 23s - loss: -1518.25 - ETA: 23s - loss: -1518.33 - ETA: 23s - loss: -1518.37 - ETA: 23s - loss: -1518.45 - ETA: 23s - loss: -1518.42 - ETA: 23s - loss: -1518.28 - ETA: 22s - loss: -1518.35 - ETA: 22s - loss: -1518.44 - ETA: 22s - loss: -1518.56 - ETA: 22s - loss: -1518.48 - ETA: 22s - loss: -1518.51 - ETA: 22s - loss: -1518.53 - ETA: 22s - loss: -1518.47 - ETA: 22s - loss: -1518.43 - ETA: 22s - loss: -1518.41 - ETA: 22s - loss: -1518.53 - ETA: 22s - loss: -1518.61 - ETA: 22s - loss: -1518.66 - ETA: 21s - loss: -1518.61 - ETA: 21s - loss: -1518.59 - ETA: 21s - loss: -1518.71 - ETA: 21s - loss: -1518.70 - ETA: 21s - loss: -1518.76 - ETA: 21s - loss: -1518.72 - ETA: 21s - loss: -1518.72 - ETA: 21s - loss: -1518.71 - ETA: 21s - loss: -1518.87 - ETA: 21s - loss: -1518.64 - ETA: 21s - loss: -1518.55 - ETA: 21s - loss: -1518.55 - ETA: 21s - loss: -1518.44 - ETA: 21s - loss: -1518.40 - ETA: 21s - loss: -1518.39 - ETA: 21s - loss: -1518.37 - ETA: 20s - loss: -1518.30 - ETA: 20s - loss: -1518.21 - ETA: 20s - loss: -1518.11 - ETA: 20s - loss: -1518.31 - ETA: 20s - loss: -1518.27 - ETA: 20s - loss: -1518.37 - ETA: 20s - loss: -1518.44 - ETA: 20s - loss: -1518.39 - ETA: 20s - loss: -1518.25 - ETA: 20s - loss: -1518.10 - ETA: 20s - loss: -1517.96 - ETA: 20s - loss: -1517.83 - ETA: 20s - loss: -1517.80 - ETA: 20s - loss: -1517.77 - ETA: 20s - loss: -1517.85 - ETA: 20s - loss: -1517.86 - ETA: 19s - loss: -1517.88 - ETA: 19s - loss: -1517.82 - ETA: 19s - loss: -1517.85 - ETA: 19s - loss: -1517.73 - ETA: 19s - loss: -1517.71 - ETA: 19s - loss: -1517.82 - ETA: 19s - loss: -1517.92 - ETA: 19s - loss: -1518.00 - ETA: 19s - loss: -1518.08 - ETA: 19s - loss: -1518.06 - ETA: 19s - loss: -1518.05 - ETA: 19s - loss: -1518.04 - ETA: 19s - loss: -1518.06 - ETA: 19s - loss: -1518.23 - ETA: 19s - loss: -1518.31 - ETA: 19s - loss: -1518.37 - ETA: 18s - loss: -1518.30 - ETA: 18s - loss: -1518.26 - ETA: 18s - loss: -1518.33 - ETA: 18s - loss: -1518.29 - ETA: 18s - loss: -1518.39 - ETA: 18s - loss: -1518.51 - ETA: 18s - loss: -1518.53 - ETA: 18s - loss: -1518.58 - ETA: 18s - loss: -1518.70 - ETA: 18s - loss: -1518.68 - ETA: 18s - loss: -1518.65 - ETA: 18s - loss: -1518.67 - ETA: 18s - loss: -1518.72 - ETA: 18s - loss: -1518.69 - ETA: 18s - loss: -1518.66 - ETA: 18s - loss: -1518.58 - ETA: 18s - loss: -1518.52 - ETA: 18s - loss: -1518.51 - ETA: 18s - loss: -1518.52 - ETA: 18s - loss: -1518.57 - ETA: 18s - loss: -1518.63 - ETA: 18s - loss: -1518.53 - ETA: 18s - loss: -1518.59 - ETA: 18s - loss: -1518.64 - ETA: 18s - loss: -1518.61 - ETA: 18s - loss: -1518.73 - ETA: 18s - loss: -1518.68 - ETA: 18s - loss: -1518.66 - ETA: 17s - loss: -1518.67 - ETA: 17s - loss: -1518.79 - ETA: 17s - loss: -1518.87 - ETA: 17s - loss: -1518.94 - ETA: 17s - loss: -1518.90 - ETA: 17s - loss: -1518.90 - ETA: 17s - loss: -1518.87 - ETA: 17s - loss: -1518.92 - ETA: 17s - loss: -1518.89 - ETA: 17s - loss: -1518.86 - ETA: 17s - loss: -1519.01 - ETA: 17s - loss: -1518.99 - ETA: 17s - loss: -1518.94 - ETA: 17s - loss: -1518.95 - ETA: 17s - loss: -1518.86 - ETA: 17s - loss: -1518.90 - ETA: 17s - loss: -1518.92 - ETA: 17s - loss: -1518.84 - ETA: 16s - loss: -1518.80 - ETA: 16s - loss: -1518.73 - ETA: 16s - loss: -1518.65 - ETA: 16s - loss: -1518.66 - ETA: 16s - loss: -1518.80 - ETA: 16s - loss: -1518.88 - ETA: 16s - loss: -1518.86 - ETA: 16s - loss: -1518.90 - ETA: 16s - loss: -1518.98 - ETA: 16s - loss: -1518.99 - ETA: 16s - loss: -1519.03 - ETA: 16s - loss: -1519.03 - ETA: 16s - loss: -1519.11 - ETA: 16s - loss: -1519.17 - ETA: 16s - loss: -1519.14 - ETA: 16s - loss: -1519.16 - ETA: 15s - loss: -1519.17 - ETA: 15s - loss: -1519.20 - ETA: 15s - loss: -1519.19 - ETA: 15s - loss: -1519.26 - ETA: 15s - loss: -1519.28 - ETA: 15s - loss: -1519.39 - ETA: 15s - loss: -1519.39 - ETA: 15s - loss: -1519.43 - ETA: 15s - loss: -1519.48 - ETA: 15s - loss: -1519.56 - ETA: 15s - loss: -1519.59 - ETA: 15s - loss: -1519.64 - ETA: 15s - loss: -1519.58 - ETA: 15s - loss: -1519.57 - ETA: 15s - loss: -1519.58 - ETA: 14s - loss: -1519.65 - ETA: 14s - loss: -1519.65 - ETA: 14s - loss: -1519.65 - ETA: 14s - loss: -1519.72 - ETA: 14s - loss: -1519.70 - ETA: 14s - loss: -1519.74 - ETA: 14s - loss: -1519.71 - ETA: 14s - loss: -1519.69 - ETA: 14s - loss: -1519.7720"
     ]
    },
    {
     "name": "stdout",
     "output_type": "stream",
     "text": [
      "169807/169807 [==============================] - ETA: 14s - loss: -1519.75 - ETA: 14s - loss: -1519.84 - ETA: 14s - loss: -1519.83 - ETA: 14s - loss: -1519.79 - ETA: 14s - loss: -1519.82 - ETA: 14s - loss: -1519.80 - ETA: 14s - loss: -1519.78 - ETA: 13s - loss: -1519.79 - ETA: 13s - loss: -1519.70 - ETA: 13s - loss: -1519.68 - ETA: 13s - loss: -1519.68 - ETA: 13s - loss: -1519.66 - ETA: 13s - loss: -1519.71 - ETA: 13s - loss: -1519.61 - ETA: 13s - loss: -1519.51 - ETA: 13s - loss: -1519.48 - ETA: 13s - loss: -1519.50 - ETA: 13s - loss: -1519.52 - ETA: 13s - loss: -1519.57 - ETA: 13s - loss: -1519.53 - ETA: 13s - loss: -1519.44 - ETA: 13s - loss: -1519.47 - ETA: 12s - loss: -1519.47 - ETA: 12s - loss: -1519.50 - ETA: 12s - loss: -1519.49 - ETA: 12s - loss: -1519.55 - ETA: 12s - loss: -1519.53 - ETA: 12s - loss: -1519.55 - ETA: 12s - loss: -1519.57 - ETA: 12s - loss: -1519.56 - ETA: 12s - loss: -1519.67 - ETA: 12s - loss: -1519.70 - ETA: 12s - loss: -1519.70 - ETA: 12s - loss: -1519.69 - ETA: 12s - loss: -1519.67 - ETA: 12s - loss: -1519.68 - ETA: 12s - loss: -1519.60 - ETA: 11s - loss: -1519.66 - ETA: 11s - loss: -1519.69 - ETA: 11s - loss: -1519.76 - ETA: 11s - loss: -1519.71 - ETA: 11s - loss: -1519.68 - ETA: 11s - loss: -1519.70 - ETA: 11s - loss: -1519.73 - ETA: 11s - loss: -1519.76 - ETA: 11s - loss: -1519.72 - ETA: 11s - loss: -1519.73 - ETA: 11s - loss: -1519.69 - ETA: 11s - loss: -1519.71 - ETA: 11s - loss: -1519.72 - ETA: 11s - loss: -1519.65 - ETA: 11s - loss: -1519.65 - ETA: 11s - loss: -1519.60 - ETA: 11s - loss: -1519.63 - ETA: 11s - loss: -1519.64 - ETA: 10s - loss: -1519.61 - ETA: 10s - loss: -1519.60 - ETA: 10s - loss: -1519.61 - ETA: 10s - loss: -1519.67 - ETA: 10s - loss: -1519.65 - ETA: 10s - loss: -1519.67 - ETA: 10s - loss: -1519.65 - ETA: 10s - loss: -1519.60 - ETA: 10s - loss: -1519.59 - ETA: 10s - loss: -1519.59 - ETA: 10s - loss: -1519.56 - ETA: 10s - loss: -1519.53 - ETA: 10s - loss: -1519.54 - ETA: 10s - loss: -1519.45 - ETA: 10s - loss: -1519.46 - ETA: 10s - loss: -1519.47 - ETA: 10s - loss: -1519.48 - ETA: 10s - loss: -1519.45 - ETA: 10s - loss: -1519.41 - ETA: 9s - loss: -1519.3974 - ETA: 9s - loss: -1519.354 - ETA: 9s - loss: -1519.372 - ETA: 9s - loss: -1519.324 - ETA: 9s - loss: -1519.296 - ETA: 9s - loss: -1519.276 - ETA: 9s - loss: -1519.281 - ETA: 9s - loss: -1519.223 - ETA: 9s - loss: -1519.285 - ETA: 9s - loss: -1519.356 - ETA: 9s - loss: -1519.395 - ETA: 9s - loss: -1519.349 - ETA: 9s - loss: -1519.294 - ETA: 9s - loss: -1519.344 - ETA: 9s - loss: -1519.396 - ETA: 9s - loss: -1519.349 - ETA: 8s - loss: -1519.340 - ETA: 8s - loss: -1519.319 - ETA: 8s - loss: -1519.293 - ETA: 8s - loss: -1519.377 - ETA: 8s - loss: -1519.375 - ETA: 8s - loss: -1519.348 - ETA: 8s - loss: -1519.332 - ETA: 8s - loss: -1519.320 - ETA: 8s - loss: -1519.312 - ETA: 8s - loss: -1519.312 - ETA: 8s - loss: -1519.279 - ETA: 8s - loss: -1519.234 - ETA: 8s - loss: -1519.188 - ETA: 8s - loss: -1519.217 - ETA: 8s - loss: -1519.193 - ETA: 8s - loss: -1519.213 - ETA: 8s - loss: -1519.192 - ETA: 8s - loss: -1519.207 - ETA: 7s - loss: -1519.171 - ETA: 7s - loss: -1519.208 - ETA: 7s - loss: -1519.199 - ETA: 7s - loss: -1519.152 - ETA: 7s - loss: -1519.132 - ETA: 7s - loss: -1519.144 - ETA: 7s - loss: -1519.200 - ETA: 7s - loss: -1519.203 - ETA: 7s - loss: -1519.176 - ETA: 7s - loss: -1519.241 - ETA: 7s - loss: -1519.329 - ETA: 7s - loss: -1519.382 - ETA: 7s - loss: -1519.377 - ETA: 7s - loss: -1519.369 - ETA: 7s - loss: -1519.383 - ETA: 7s - loss: -1519.363 - ETA: 7s - loss: -1519.391 - ETA: 7s - loss: -1519.428 - ETA: 7s - loss: -1519.362 - ETA: 7s - loss: -1519.389 - ETA: 7s - loss: -1519.367 - ETA: 7s - loss: -1519.392 - ETA: 7s - loss: -1519.421 - ETA: 6s - loss: -1519.492 - ETA: 6s - loss: -1519.457 - ETA: 6s - loss: -1519.485 - ETA: 6s - loss: -1519.455 - ETA: 6s - loss: -1519.427 - ETA: 6s - loss: -1519.390 - ETA: 6s - loss: -1519.411 - ETA: 6s - loss: -1519.393 - ETA: 6s - loss: -1519.359 - ETA: 6s - loss: -1519.301 - ETA: 6s - loss: -1519.276 - ETA: 6s - loss: -1519.206 - ETA: 6s - loss: -1519.194 - ETA: 6s - loss: -1519.165 - ETA: 6s - loss: -1519.218 - ETA: 6s - loss: -1519.262 - ETA: 6s - loss: -1519.232 - ETA: 6s - loss: -1519.240 - ETA: 5s - loss: -1519.228 - ETA: 5s - loss: -1519.188 - ETA: 5s - loss: -1519.167 - ETA: 5s - loss: -1519.174 - ETA: 5s - loss: -1519.172 - ETA: 5s - loss: -1519.183 - ETA: 5s - loss: -1519.140 - ETA: 5s - loss: -1519.135 - ETA: 5s - loss: -1519.103 - ETA: 5s - loss: -1519.056 - ETA: 5s - loss: -1519.026 - ETA: 5s - loss: -1519.022 - ETA: 5s - loss: -1518.967 - ETA: 5s - loss: -1518.965 - ETA: 5s - loss: -1518.993 - ETA: 4s - loss: -1519.020 - ETA: 4s - loss: -1519.023 - ETA: 4s - loss: -1519.049 - ETA: 4s - loss: -1519.064 - ETA: 4s - loss: -1519.027 - ETA: 4s - loss: -1518.941 - ETA: 4s - loss: -1518.930 - ETA: 4s - loss: -1518.948 - ETA: 4s - loss: -1518.990 - ETA: 4s - loss: -1519.012 - ETA: 4s - loss: -1519.052 - ETA: 4s - loss: -1519.046 - ETA: 4s - loss: -1519.054 - ETA: 4s - loss: -1519.070 - ETA: 4s - loss: -1519.044 - ETA: 4s - loss: -1519.058 - ETA: 3s - loss: -1519.020 - ETA: 3s - loss: -1519.007 - ETA: 3s - loss: -1518.967 - ETA: 3s - loss: -1518.981 - ETA: 3s - loss: -1518.990 - ETA: 3s - loss: -1519.063 - ETA: 3s - loss: -1519.045 - ETA: 3s - loss: -1519.067 - ETA: 3s - loss: -1519.096 - ETA: 3s - loss: -1519.098 - ETA: 3s - loss: -1519.123 - ETA: 3s - loss: -1519.122 - ETA: 3s - loss: -1519.108 - ETA: 3s - loss: -1519.081 - ETA: 3s - loss: -1519.096 - ETA: 3s - loss: -1519.071 - ETA: 2s - loss: -1519.050 - ETA: 2s - loss: -1519.018 - ETA: 2s - loss: -1519.089 - ETA: 2s - loss: -1519.077 - ETA: 2s - loss: -1519.047 - ETA: 2s - loss: -1519.054 - ETA: 2s - loss: -1519.150 - ETA: 2s - loss: -1519.131 - ETA: 2s - loss: -1519.136 - ETA: 2s - loss: -1519.105 - ETA: 2s - loss: -1519.132 - ETA: 2s - loss: -1519.203 - ETA: 2s - loss: -1519.199 - ETA: 2s - loss: -1519.154 - ETA: 2s - loss: -1519.152 - ETA: 2s - loss: -1519.146 - ETA: 1s - loss: -1519.151 - ETA: 1s - loss: -1519.107 - ETA: 1s - loss: -1519.099 - ETA: 1s - loss: -1519.018 - ETA: 1s - loss: -1519.060 - ETA: 1s - loss: -1519.094 - ETA: 1s - loss: -1519.127 - ETA: 1s - loss: -1519.092 - ETA: 1s - loss: -1519.118 - ETA: 1s - loss: -1519.104 - ETA: 1s - loss: -1519.092 - ETA: 1s - loss: -1519.046 - ETA: 1s - loss: -1519.074 - ETA: 1s - loss: -1519.054 - ETA: 1s - loss: -1519.037 - ETA: 1s - loss: -1519.037 - ETA: 0s - loss: -1519.016 - ETA: 0s - loss: -1519.020 - ETA: 0s - loss: -1519.003 - ETA: 0s - loss: -1519.019 - ETA: 0s - loss: -1519.012 - ETA: 0s - loss: -1519.076 - ETA: 0s - loss: -1519.077 - ETA: 0s - loss: -1519.031 - ETA: 0s - loss: -1519.074 - ETA: 0s - loss: -1519.100 - ETA: 0s - loss: -1519.118 - ETA: 0s - loss: -1519.106 - ETA: 0s - loss: -1519.093 - ETA: 0s - loss: -1519.088 - ETA: 0s - loss: -1519.111 - ETA: 0s - loss: -1519.077 - 30s 179us/step - loss: -1519.0819 - val_loss: -1519.4886\n"
     ]
    }
   ],
   "source": [
    "history = autoencoder_5.fit(X, X, epochs=6, batch_size=64, verbose=1, validation_data=(Xtest, Xtest))"
   ]
  },
  {
   "cell_type": "code",
   "execution_count": 33,
   "metadata": {},
   "outputs": [
    {
     "name": "stdout",
     "output_type": "stream",
     "text": [
      "{'val_loss': [-1519.4886301924544, -1519.4886301924544, -1519.4886301924544, -1519.4886305660793, -1519.4886307528918, -1519.488631126517], 'loss': [-1418.2337746746123, -1519.0818912214263, -1519.0818904069388, -1519.0818960062702, -1519.0818922070064, -1519.0818922522956]}\n"
     ]
    },
    {
     "data": {
      "image/png": "[encoded data removed]",
      "text/plain": [
       "<Figure size 432x288 with 1 Axes>"
      ]
     },
     "metadata": {
      "needs_background": "light"
     },
     "output_type": "display_data"
    }
   ],
   "source": [
    "fig, ax = plt.subplots()\n",
    "\n",
    "plt.plot([0]+history.history['loss'], label='train')\n",
    "plt.plot([0]+history.history['val_loss'], label='test')\n",
    "plt.legend()\n",
    "plt.show()"
   ]
  },
  {
   "cell_type": "code",
   "execution_count": 34,
   "metadata": {},
   "outputs": [],
   "source": [
    "predictions = autoencoder_5.predict(Xvalid)\n",
    "# TODO I should probably do something with the validation set"
   ]
  },
  {
   "cell_type": "code",
   "execution_count": 35,
   "metadata": {},
   "outputs": [],
   "source": [
    "autoencoder_5.save(model_path + 'autoencoder_5')\n",
    "encoder_5.save(model_path + 'encoder_5')"
   ]
  },
  {
   "cell_type": "markdown",
   "metadata": {},
   "source": [
    "## K-means\n",
    "Not sure what this is going to do \n",
    "(my guess is it is going to cluster similar participants)"
   ]
  },
  {
   "cell_type": "code",
   "execution_count": 36,
   "metadata": {},
   "outputs": [],
   "source": [
    "import matplotlib.pyplot as plt\n",
    "\n",
    "def visualize_labels(y):\n",
    "    idx = np.arange(len(y))\n",
    "\n",
    "    fig, (ax1,ax2) = plt.subplots(nrows=2, sharex=True)\n",
    "\n",
    "    ax1.imshow(y[np.newaxis,:], cmap=\"plasma\", aspect=\"auto\")\n",
    "    ax1.set_yticks([])\n",
    "\n",
    "    ax2.scatter(idx,y)\n",
    "\n",
    "    plt.tight_layout()\n",
    "    plt.show()"
   ]
  },
  {
   "cell_type": "code",
   "execution_count": 37,
   "metadata": {},
   "outputs": [],
   "source": [
    "from sklearn.cluster import KMeans"
   ]
  },
  {
   "cell_type": "code",
   "execution_count": 38,
   "metadata": {},
   "outputs": [],
   "source": [
    "X_pca = face_pca_n_32.transform(X)\n",
    "kmeans_5 = KMeans(n_clusters=5, random_state=0).fit(X_pca)"
   ]
  },
  {
   "cell_type": "code",
   "execution_count": 39,
   "metadata": {},
   "outputs": [
    {
     "data": {
      "image/png": "[encoded data removed]",
      "text/plain": [
       "<Figure size 432x288 with 2 Axes>"
      ]
     },
     "metadata": {
      "needs_background": "light"
     },
     "output_type": "display_data"
    }
   ],
   "source": [
    "y = kmeans_5.predict(face_pca_n_32.transform(Test.to_numpy()[:,3:]))\n",
    "visualize_labels(y)"
   ]
  },
  {
   "cell_type": "code",
   "execution_count": 40,
   "metadata": {},
   "outputs": [
    {
     "data": {
      "image/png": "[encoded data removed]",
      "text/plain": [
       "<Figure size 432x288 with 2 Axes>"
      ]
     },
     "metadata": {
      "needs_background": "light"
     },
     "output_type": "display_data"
    }
   ],
   "source": [
    "y = kmeans_5.predict(face_pca_n_32.transform(Valid.to_numpy()[:,3:]))\n",
    "visualize_labels(y)"
   ]
  },
  {
   "cell_type": "code",
   "execution_count": 41,
   "metadata": {},
   "outputs": [],
   "source": [
    "pickle.dump(kmeans_5,open(model_path+'kmeans_5_from_pca.p','wb'))"
   ]
  },
  {
   "cell_type": "markdown",
   "metadata": {},
   "source": [
    "   "
   ]
  },
  {
   "cell_type": "code",
   "execution_count": 42,
   "metadata": {},
   "outputs": [],
   "source": [
    "X_auto = encoder_32.predict(X)\n",
    "kmeans_5 = KMeans(n_clusters=5, random_state=0).fit(X_auto)"
   ]
  },
  {
   "cell_type": "code",
   "execution_count": 43,
   "metadata": {},
   "outputs": [
    {
     "data": {
      "image/png": "[encoded data removed]",
      "text/plain": [
       "<Figure size 432x288 with 2 Axes>"
      ]
     },
     "metadata": {
      "needs_background": "light"
     },
     "output_type": "display_data"
    }
   ],
   "source": [
    "y = kmeans_5.predict(encoder_32.predict(Test.to_numpy()[:,3:]))\n",
    "visualize_labels(y)"
   ]
  },
  {
   "cell_type": "code",
   "execution_count": 44,
   "metadata": {},
   "outputs": [
    {
     "data": {
      "image/png": "[encoded data removed]",
      "text/plain": [
       "<Figure size 432x288 with 2 Axes>"
      ]
     },
     "metadata": {
      "needs_background": "light"
     },
     "output_type": "display_data"
    }
   ],
   "source": [
    "y = kmeans_5.predict(encoder_32.predict(Valid.to_numpy()[:,3:]))\n",
    "visualize_labels(y)"
   ]
  },
  {
   "cell_type": "code",
   "execution_count": 45,
   "metadata": {},
   "outputs": [],
   "source": [
    "pickle.dump(kmeans_5,open(model_path+'kmeans_5_from_auto.p','wb'))"
   ]
  },
  {
   "cell_type": "markdown",
   "metadata": {},
   "source": [
    "## Model Comparisons\n",
    "Is there some way to perform a comparison across the models\n",
    "- PCA-n-5\n",
    "- PCA-n-32 -> KMeans-5-from-pca\n",
    "- Autoencoder-32 -> KMeans-5-from-autoencoder\n",
    "- Autoencoder-5"
   ]
  },
  {
   "cell_type": "code",
   "execution_count": null,
   "metadata": {},
   "outputs": [],
   "source": []
  }
 ],
 "metadata": {
  "kernelspec": {
   "display_name": "Python 3",
   "language": "python",
   "name": "python3"
  },
  "language_info": {
   "codemirror_mode": {
    "name": "ipython",
    "version": 3
   },
   "file_extension": ".py",
   "mimetype": "text/x-python",
   "name": "python",
   "nbconvert_exporter": "python",
   "pygments_lexer": "ipython3",
   "version": "3.7.4"
  }
 },
 "nbformat": 4,
 "nbformat_minor": 2
}
