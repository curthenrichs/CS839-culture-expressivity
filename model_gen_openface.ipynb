{
 "cells": [
  {
   "cell_type": "code",
   "execution_count": 1,
   "metadata": {},
   "outputs": [],
   "source": [
    "task_name = 'task3_jenga_openface'"
   ]
  },
  {
   "cell_type": "code",
   "execution_count": 2,
   "metadata": {},
   "outputs": [],
   "source": [
    "model_path = './models/{0}/'.format(task_name)"
   ]
  },
  {
   "cell_type": "markdown",
   "metadata": {},
   "source": [
    "# Model Creation for Tasks captured through Openface\n",
    "\n",
    "1. First we create the training data from the task participant data\n",
    "\n",
    "       This results in three intermediate training CSVs stored to disk.\n",
    "\n",
    "2. Next we train the PCA models\n",
    "\n",
    "        This results in pickled PCA models.\n",
    "        \n",
    "3. Then we train a k-means cluster that sits on top of PCA \n",
    "\n",
    "        This results in pickled k-means model.\n",
    "\n",
    "4. Next we train an autoencoder model (as replacement for PCA)\n",
    "\n",
    "        This results in saved autoencoder model.\n"
   ]
  },
  {
   "cell_type": "code",
   "execution_count": 3,
   "metadata": {},
   "outputs": [
    {
     "name": "stdout",
     "output_type": "stream",
     "text": [
      "Num Files: 25\n"
     ]
    }
   ],
   "source": [
    "import os\n",
    "import numpy as np\n",
    "import pandas as pd\n",
    "\n",
    "import warnings\n",
    "from tqdm import tqdm_notebook as tqdm\n",
    "\n",
    "path = './data/openface/{0}'.format(task_name)\n",
    "\n",
    "files = [f for f in os.listdir(path) if os.path.isfile(os.path.join(path,f))]\n",
    "print('Num Files:',len(files))"
   ]
  },
  {
   "cell_type": "markdown",
   "metadata": {},
   "source": [
    "## Create training set\n",
    "Using k out of every file?\n",
    "\n",
    "Note dropping bad lines"
   ]
  },
  {
   "cell_type": "code",
   "execution_count": 4,
   "metadata": {},
   "outputs": [
    {
     "data": {
      "application/vnd.jupyter.widget-view+json": {
       "model_id": "a4520f7f3d494fea89e0bcd702b77a92",
       "version_major": 2,
       "version_minor": 0
      },
      "text/plain": [
       "HBox(children=(IntProgress(value=0, max=25), HTML(value='')))"
      ]
     },
     "metadata": {},
     "output_type": "display_data"
    },
    {
     "name": "stdout",
     "output_type": "stream",
     "text": [
      "0101_Jenga_cut.csv\n",
      "Full: (8983, 138)\n",
      "Train: (6018, 138) Test: (1482, 138) Validation (1483, 138)\n",
      "0201_Jenga_cut.csv\n",
      "Full: (8636, 138)\n",
      "Train: (5786, 138) Test: (1425, 138) Validation (1425, 138)\n",
      "0202_Jenga_cut.csv\n",
      "Full: (8662, 138)\n",
      "Train: (5803, 138) Test: (1429, 138) Validation (1430, 138)\n",
      "0301_Jenga_cut.csv\n",
      "Full: (9610, 138)\n",
      "Train: (6438, 138) Test: (1586, 138) Validation (1586, 138)\n",
      "0302_Jenga_cut.csv\n",
      "Full: (9629, 138)\n",
      "Train: (6451, 138) Test: (1589, 138) Validation (1589, 138)\n",
      "0401_Jenga_cut.csv\n",
      "Full: (9411, 138)\n",
      "Train: (6305, 138) Test: (1553, 138) Validation (1553, 138)\n",
      "0402_Jenga_cut.csv\n",
      "Full: (9816, 138)\n",
      "Train: (6576, 138) Test: (1620, 138) Validation (1620, 138)\n",
      "0501_Jenga_cut.csv\n",
      "Full: (9179, 138)\n",
      "Train: (6149, 138) Test: (1515, 138) Validation (1515, 138)\n",
      "1201_jenga_cut.csv\n",
      "Full: (9290, 138)\n",
      "Train: (6224, 138) Test: (1533, 138) Validation (1533, 138)\n",
      "1202_jenga_cut.csv\n",
      "Full: (9282, 138)\n",
      "Train: (6218, 138) Test: (1532, 138) Validation (1532, 138)\n",
      "1301_jenga_cut.csv\n",
      "Full: (9455, 138)\n",
      "Train: (6334, 138) Test: (1560, 138) Validation (1561, 138)\n",
      "1302_jenga_cut.csv\n",
      "Full: (9391, 138)\n",
      "Train: (6291, 138) Test: (1550, 138) Validation (1550, 138)\n",
      "1401_jenga_cut.csv\n",
      "Full: (9065, 138)\n",
      "Train: (6073, 138) Test: (1496, 138) Validation (1496, 138)\n",
      "1402_jenga_cut.csv\n",
      "Full: (9072, 138)\n",
      "Train: (6078, 138) Test: (1497, 138) Validation (1497, 138)\n",
      "1501_jenga_cut.csv\n",
      "Full: (9119, 138)\n",
      "Train: (6109, 138) Test: (1505, 138) Validation (1505, 138)\n",
      "1502_jenga_cut.csv\n",
      "Full: (9143, 138)\n",
      "Train: (6125, 138) Test: (1509, 138) Validation (1509, 138)\n",
      "1701_Jenga_Cut .csv\n",
      "Full: (7904, 138)\n",
      "Train: (5295, 138) Test: (1304, 138) Validation (1305, 138)\n",
      "1702_Jenga_Cut .csv\n",
      "Full: (7627, 138)\n",
      "Train: (5110, 138) Test: (1258, 138) Validation (1259, 138)\n",
      "1801_Jenga Cut .csv\n",
      "Full: (10984, 138)\n",
      "Train: (7359, 138) Test: (1812, 138) Validation (1813, 138)\n",
      "Sona0101_jenga_cut.csv\n",
      "Full: (7591, 138)\n",
      "Train: (5085, 138) Test: (1253, 138) Validation (1253, 138)\n",
      "Sona0102_jenga_cut.csv\n",
      "Full: (7790, 138)\n",
      "Train: (5219, 138) Test: (1285, 138) Validation (1286, 138)\n",
      "Sona0201_jenga_cut.csv\n",
      "Full: (8814, 138)\n",
      "Train: (5905, 138) Test: (1454, 138) Validation (1455, 138)\n",
      "Sona0202_jenga_cut.csv\n",
      "Full: (8981, 138)\n",
      "Train: (6017, 138) Test: (1482, 138) Validation (1482, 138)\n",
      "Sona0302_jenga_cut.csv\n",
      "Full: (9019, 138)\n",
      "Train: (6042, 138) Test: (1488, 138) Validation (1489, 138)\n",
      "Sona_jenga_0301.csv\n",
      "Full: (9043, 138)\n",
      "Train: (6058, 138) Test: (1492, 138) Validation (1493, 138)\n",
      "\n",
      "\n",
      "\n",
      "FINAL\n",
      "Train: (151068, 138) Test: (37209, 138) Validation (37219, 138)\n"
     ]
    }
   ],
   "source": [
    "from sklearn.model_selection import train_test_split\n",
    "\n",
    "indicies = ['frame'] + ['x_{0}'.format(i) for i in range(0,68)] + ['y_{0}'.format(i) for i in range(0,68)]\n",
    "\n",
    "flag = True\n",
    "Train = None\n",
    "Test = None\n",
    "Valid = None\n",
    "\n",
    "for f in tqdm(list(files)):\n",
    "    \n",
    "    # Load CSV\n",
    "    print(f)\n",
    "    df = pd.read_csv(\n",
    "            os.path.join(path,f), \n",
    "            error_bad_lines=False, \n",
    "            warn_bad_lines=True)\n",
    "    \n",
    "    face_lmk = df[indicies]\n",
    "    \n",
    "    # Filter NaN rows\n",
    "    nans = df[df[indicies].isnull().any(axis=1)]\n",
    "    if not nans.empty:\n",
    "        dropList = nans.index.tolist()\n",
    "        for r in dropList:\n",
    "            warnings.warn('Dropping row due to NaN, {0}'.format(r))\n",
    "        face_lmk.drop(dropList, inplace=True)\n",
    "        \n",
    "    face_lmk.insert(0,'filename',[f for i in range(0,face_lmk.shape[0])],True)\n",
    "        \n",
    "    print('Full:',face_lmk.shape)\n",
    "    \n",
    "    # Create Training, Test, Validation subsets\n",
    "    train, tmp = train_test_split(face_lmk, test_size=0.33)\n",
    "    test, val = train_test_split(tmp, test_size=0.5)\n",
    "    print('Train:',train.shape,'Test:',test.shape,'Validation',val.shape)\n",
    "    \n",
    "    if flag:\n",
    "        flag = False\n",
    "        Train = train\n",
    "        Test = test\n",
    "        Valid = val\n",
    "    else:\n",
    "        Train = Train.append(train)\n",
    "        Test = Test.append(test)\n",
    "        Valid = Valid.append(val)\n",
    "\n",
    "# Final Dataset (shuffled)\n",
    "Train = Train.sample(frac=1).reset_index(drop=True)\n",
    "Test = Test.sample(frac=1).reset_index(drop=True)\n",
    "Valid = Valid.sample(frac=1).reset_index(drop=True)\n",
    "\n",
    "print('\\n\\nFINAL')\n",
    "print('Train:',Train.shape,'Test:',Test.shape,'Validation',Valid.shape)"
   ]
  },
  {
   "cell_type": "code",
   "execution_count": 5,
   "metadata": {},
   "outputs": [
    {
     "data": {
      "text/html": [
       "<div>\n",
       "<style scoped>\n",
       "    .dataframe tbody tr th:only-of-type {\n",
       "        vertical-align: middle;\n",
       "    }\n",
       "\n",
       "    .dataframe tbody tr th {\n",
       "        vertical-align: top;\n",
       "    }\n",
       "\n",
       "    .dataframe thead th {\n",
       "        text-align: right;\n",
       "    }\n",
       "</style>\n",
       "<table border=\"1\" class=\"dataframe\">\n",
       "  <thead>\n",
       "    <tr style=\"text-align: right;\">\n",
       "      <th></th>\n",
       "      <th>filename</th>\n",
       "      <th>frame</th>\n",
       "      <th>x_0</th>\n",
       "      <th>x_1</th>\n",
       "      <th>x_2</th>\n",
       "      <th>x_3</th>\n",
       "      <th>x_4</th>\n",
       "      <th>x_5</th>\n",
       "      <th>x_6</th>\n",
       "      <th>x_7</th>\n",
       "      <th>...</th>\n",
       "      <th>y_58</th>\n",
       "      <th>y_59</th>\n",
       "      <th>y_60</th>\n",
       "      <th>y_61</th>\n",
       "      <th>y_62</th>\n",
       "      <th>y_63</th>\n",
       "      <th>y_64</th>\n",
       "      <th>y_65</th>\n",
       "      <th>y_66</th>\n",
       "      <th>y_67</th>\n",
       "    </tr>\n",
       "  </thead>\n",
       "  <tbody>\n",
       "    <tr>\n",
       "      <td>0</td>\n",
       "      <td>0401_Jenga_cut.csv</td>\n",
       "      <td>2639</td>\n",
       "      <td>761.6</td>\n",
       "      <td>760.5</td>\n",
       "      <td>762.6</td>\n",
       "      <td>769.5</td>\n",
       "      <td>779.9</td>\n",
       "      <td>791.7</td>\n",
       "      <td>800.3</td>\n",
       "      <td>810.5</td>\n",
       "      <td>...</td>\n",
       "      <td>777.7</td>\n",
       "      <td>772.0</td>\n",
       "      <td>763.3</td>\n",
       "      <td>767.8</td>\n",
       "      <td>770.5</td>\n",
       "      <td>770.1</td>\n",
       "      <td>765.9</td>\n",
       "      <td>768.4</td>\n",
       "      <td>768.3</td>\n",
       "      <td>764.7</td>\n",
       "    </tr>\n",
       "    <tr>\n",
       "      <td>1</td>\n",
       "      <td>1501_jenga_cut.csv</td>\n",
       "      <td>7053</td>\n",
       "      <td>612.3</td>\n",
       "      <td>604.2</td>\n",
       "      <td>605.6</td>\n",
       "      <td>615.9</td>\n",
       "      <td>630.5</td>\n",
       "      <td>654.4</td>\n",
       "      <td>679.8</td>\n",
       "      <td>709.7</td>\n",
       "      <td>...</td>\n",
       "      <td>571.9</td>\n",
       "      <td>560.4</td>\n",
       "      <td>537.6</td>\n",
       "      <td>534.8</td>\n",
       "      <td>537.2</td>\n",
       "      <td>536.3</td>\n",
       "      <td>542.6</td>\n",
       "      <td>547.8</td>\n",
       "      <td>547.7</td>\n",
       "      <td>544.5</td>\n",
       "    </tr>\n",
       "    <tr>\n",
       "      <td>2</td>\n",
       "      <td>0101_Jenga_cut.csv</td>\n",
       "      <td>423</td>\n",
       "      <td>689.6</td>\n",
       "      <td>700.2</td>\n",
       "      <td>714.6</td>\n",
       "      <td>731.9</td>\n",
       "      <td>750.3</td>\n",
       "      <td>768.7</td>\n",
       "      <td>784.9</td>\n",
       "      <td>800.7</td>\n",
       "      <td>...</td>\n",
       "      <td>460.0</td>\n",
       "      <td>458.8</td>\n",
       "      <td>451.4</td>\n",
       "      <td>447.8</td>\n",
       "      <td>446.3</td>\n",
       "      <td>442.4</td>\n",
       "      <td>430.0</td>\n",
       "      <td>444.2</td>\n",
       "      <td>447.8</td>\n",
       "      <td>449.2</td>\n",
       "    </tr>\n",
       "    <tr>\n",
       "      <td>3</td>\n",
       "      <td>0202_Jenga_cut.csv</td>\n",
       "      <td>2862</td>\n",
       "      <td>693.2</td>\n",
       "      <td>701.5</td>\n",
       "      <td>717.2</td>\n",
       "      <td>739.3</td>\n",
       "      <td>762.3</td>\n",
       "      <td>786.6</td>\n",
       "      <td>806.4</td>\n",
       "      <td>829.6</td>\n",
       "      <td>...</td>\n",
       "      <td>735.2</td>\n",
       "      <td>730.6</td>\n",
       "      <td>719.3</td>\n",
       "      <td>720.6</td>\n",
       "      <td>720.0</td>\n",
       "      <td>717.2</td>\n",
       "      <td>703.1</td>\n",
       "      <td>716.2</td>\n",
       "      <td>718.5</td>\n",
       "      <td>718.8</td>\n",
       "    </tr>\n",
       "    <tr>\n",
       "      <td>4</td>\n",
       "      <td>0301_Jenga_cut.csv</td>\n",
       "      <td>1692</td>\n",
       "      <td>741.8</td>\n",
       "      <td>744.2</td>\n",
       "      <td>754.1</td>\n",
       "      <td>769.1</td>\n",
       "      <td>784.0</td>\n",
       "      <td>801.2</td>\n",
       "      <td>820.2</td>\n",
       "      <td>844.1</td>\n",
       "      <td>...</td>\n",
       "      <td>970.9</td>\n",
       "      <td>968.7</td>\n",
       "      <td>958.5</td>\n",
       "      <td>952.3</td>\n",
       "      <td>951.5</td>\n",
       "      <td>949.8</td>\n",
       "      <td>951.4</td>\n",
       "      <td>948.7</td>\n",
       "      <td>950.9</td>\n",
       "      <td>951.2</td>\n",
       "    </tr>\n",
       "  </tbody>\n",
       "</table>\n",
       "<p>5 rows × 138 columns</p>\n",
       "</div>"
      ],
      "text/plain": [
       "             filename  frame    x_0    x_1    x_2    x_3    x_4    x_5    x_6  \\\n",
       "0  0401_Jenga_cut.csv   2639  761.6  760.5  762.6  769.5  779.9  791.7  800.3   \n",
       "1  1501_jenga_cut.csv   7053  612.3  604.2  605.6  615.9  630.5  654.4  679.8   \n",
       "2  0101_Jenga_cut.csv    423  689.6  700.2  714.6  731.9  750.3  768.7  784.9   \n",
       "3  0202_Jenga_cut.csv   2862  693.2  701.5  717.2  739.3  762.3  786.6  806.4   \n",
       "4  0301_Jenga_cut.csv   1692  741.8  744.2  754.1  769.1  784.0  801.2  820.2   \n",
       "\n",
       "     x_7  ...   y_58   y_59   y_60   y_61   y_62   y_63   y_64   y_65   y_66  \\\n",
       "0  810.5  ...  777.7  772.0  763.3  767.8  770.5  770.1  765.9  768.4  768.3   \n",
       "1  709.7  ...  571.9  560.4  537.6  534.8  537.2  536.3  542.6  547.8  547.7   \n",
       "2  800.7  ...  460.0  458.8  451.4  447.8  446.3  442.4  430.0  444.2  447.8   \n",
       "3  829.6  ...  735.2  730.6  719.3  720.6  720.0  717.2  703.1  716.2  718.5   \n",
       "4  844.1  ...  970.9  968.7  958.5  952.3  951.5  949.8  951.4  948.7  950.9   \n",
       "\n",
       "    y_67  \n",
       "0  764.7  \n",
       "1  544.5  \n",
       "2  449.2  \n",
       "3  718.8  \n",
       "4  951.2  \n",
       "\n",
       "[5 rows x 138 columns]"
      ]
     },
     "execution_count": 5,
     "metadata": {},
     "output_type": "execute_result"
    }
   ],
   "source": [
    "Train.head()"
   ]
  },
  {
   "cell_type": "code",
   "execution_count": 6,
   "metadata": {},
   "outputs": [
    {
     "data": {
      "text/html": [
       "<div>\n",
       "<style scoped>\n",
       "    .dataframe tbody tr th:only-of-type {\n",
       "        vertical-align: middle;\n",
       "    }\n",
       "\n",
       "    .dataframe tbody tr th {\n",
       "        vertical-align: top;\n",
       "    }\n",
       "\n",
       "    .dataframe thead th {\n",
       "        text-align: right;\n",
       "    }\n",
       "</style>\n",
       "<table border=\"1\" class=\"dataframe\">\n",
       "  <thead>\n",
       "    <tr style=\"text-align: right;\">\n",
       "      <th></th>\n",
       "      <th>filename</th>\n",
       "      <th>frame</th>\n",
       "      <th>x_0</th>\n",
       "      <th>x_1</th>\n",
       "      <th>x_2</th>\n",
       "      <th>x_3</th>\n",
       "      <th>x_4</th>\n",
       "      <th>x_5</th>\n",
       "      <th>x_6</th>\n",
       "      <th>x_7</th>\n",
       "      <th>...</th>\n",
       "      <th>y_58</th>\n",
       "      <th>y_59</th>\n",
       "      <th>y_60</th>\n",
       "      <th>y_61</th>\n",
       "      <th>y_62</th>\n",
       "      <th>y_63</th>\n",
       "      <th>y_64</th>\n",
       "      <th>y_65</th>\n",
       "      <th>y_66</th>\n",
       "      <th>y_67</th>\n",
       "    </tr>\n",
       "  </thead>\n",
       "  <tbody>\n",
       "    <tr>\n",
       "      <td>0</td>\n",
       "      <td>0201_Jenga_cut.csv</td>\n",
       "      <td>762</td>\n",
       "      <td>718.4</td>\n",
       "      <td>724.0</td>\n",
       "      <td>734.8</td>\n",
       "      <td>750.9</td>\n",
       "      <td>766.8</td>\n",
       "      <td>783.6</td>\n",
       "      <td>798.2</td>\n",
       "      <td>811.8</td>\n",
       "      <td>...</td>\n",
       "      <td>457.9</td>\n",
       "      <td>456.7</td>\n",
       "      <td>450.3</td>\n",
       "      <td>446.3</td>\n",
       "      <td>445.5</td>\n",
       "      <td>443.2</td>\n",
       "      <td>432.2</td>\n",
       "      <td>446.2</td>\n",
       "      <td>448.2</td>\n",
       "      <td>448.4</td>\n",
       "    </tr>\n",
       "    <tr>\n",
       "      <td>1</td>\n",
       "      <td>1502_jenga_cut.csv</td>\n",
       "      <td>6274</td>\n",
       "      <td>960.2</td>\n",
       "      <td>939.9</td>\n",
       "      <td>923.2</td>\n",
       "      <td>908.2</td>\n",
       "      <td>895.0</td>\n",
       "      <td>888.9</td>\n",
       "      <td>890.2</td>\n",
       "      <td>896.9</td>\n",
       "      <td>...</td>\n",
       "      <td>881.6</td>\n",
       "      <td>863.2</td>\n",
       "      <td>842.4</td>\n",
       "      <td>861.4</td>\n",
       "      <td>871.3</td>\n",
       "      <td>879.8</td>\n",
       "      <td>900.5</td>\n",
       "      <td>882.7</td>\n",
       "      <td>874.7</td>\n",
       "      <td>864.8</td>\n",
       "    </tr>\n",
       "    <tr>\n",
       "      <td>2</td>\n",
       "      <td>1801_Jenga Cut .csv</td>\n",
       "      <td>10360</td>\n",
       "      <td>326.6</td>\n",
       "      <td>341.3</td>\n",
       "      <td>361.8</td>\n",
       "      <td>394.2</td>\n",
       "      <td>445.7</td>\n",
       "      <td>518.6</td>\n",
       "      <td>606.0</td>\n",
       "      <td>686.3</td>\n",
       "      <td>...</td>\n",
       "      <td>949.1</td>\n",
       "      <td>953.5</td>\n",
       "      <td>938.3</td>\n",
       "      <td>917.6</td>\n",
       "      <td>913.4</td>\n",
       "      <td>904.3</td>\n",
       "      <td>904.5</td>\n",
       "      <td>905.3</td>\n",
       "      <td>914.1</td>\n",
       "      <td>919.6</td>\n",
       "    </tr>\n",
       "    <tr>\n",
       "      <td>3</td>\n",
       "      <td>1201_jenga_cut.csv</td>\n",
       "      <td>4466</td>\n",
       "      <td>721.5</td>\n",
       "      <td>717.0</td>\n",
       "      <td>719.0</td>\n",
       "      <td>727.6</td>\n",
       "      <td>735.5</td>\n",
       "      <td>750.9</td>\n",
       "      <td>765.8</td>\n",
       "      <td>785.9</td>\n",
       "      <td>...</td>\n",
       "      <td>806.9</td>\n",
       "      <td>793.8</td>\n",
       "      <td>777.7</td>\n",
       "      <td>783.3</td>\n",
       "      <td>789.2</td>\n",
       "      <td>792.5</td>\n",
       "      <td>794.7</td>\n",
       "      <td>793.2</td>\n",
       "      <td>789.9</td>\n",
       "      <td>783.7</td>\n",
       "    </tr>\n",
       "    <tr>\n",
       "      <td>4</td>\n",
       "      <td>0302_Jenga_cut.csv</td>\n",
       "      <td>7634</td>\n",
       "      <td>994.6</td>\n",
       "      <td>989.5</td>\n",
       "      <td>987.8</td>\n",
       "      <td>990.3</td>\n",
       "      <td>995.6</td>\n",
       "      <td>1004.3</td>\n",
       "      <td>1014.4</td>\n",
       "      <td>1025.4</td>\n",
       "      <td>...</td>\n",
       "      <td>874.5</td>\n",
       "      <td>864.3</td>\n",
       "      <td>852.1</td>\n",
       "      <td>860.1</td>\n",
       "      <td>864.1</td>\n",
       "      <td>866.4</td>\n",
       "      <td>869.4</td>\n",
       "      <td>866.4</td>\n",
       "      <td>864.1</td>\n",
       "      <td>859.8</td>\n",
       "    </tr>\n",
       "  </tbody>\n",
       "</table>\n",
       "<p>5 rows × 138 columns</p>\n",
       "</div>"
      ],
      "text/plain": [
       "              filename  frame    x_0    x_1    x_2    x_3    x_4     x_5  \\\n",
       "0   0201_Jenga_cut.csv    762  718.4  724.0  734.8  750.9  766.8   783.6   \n",
       "1   1502_jenga_cut.csv   6274  960.2  939.9  923.2  908.2  895.0   888.9   \n",
       "2  1801_Jenga Cut .csv  10360  326.6  341.3  361.8  394.2  445.7   518.6   \n",
       "3   1201_jenga_cut.csv   4466  721.5  717.0  719.0  727.6  735.5   750.9   \n",
       "4   0302_Jenga_cut.csv   7634  994.6  989.5  987.8  990.3  995.6  1004.3   \n",
       "\n",
       "      x_6     x_7  ...   y_58   y_59   y_60   y_61   y_62   y_63   y_64  \\\n",
       "0   798.2   811.8  ...  457.9  456.7  450.3  446.3  445.5  443.2  432.2   \n",
       "1   890.2   896.9  ...  881.6  863.2  842.4  861.4  871.3  879.8  900.5   \n",
       "2   606.0   686.3  ...  949.1  953.5  938.3  917.6  913.4  904.3  904.5   \n",
       "3   765.8   785.9  ...  806.9  793.8  777.7  783.3  789.2  792.5  794.7   \n",
       "4  1014.4  1025.4  ...  874.5  864.3  852.1  860.1  864.1  866.4  869.4   \n",
       "\n",
       "    y_65   y_66   y_67  \n",
       "0  446.2  448.2  448.4  \n",
       "1  882.7  874.7  864.8  \n",
       "2  905.3  914.1  919.6  \n",
       "3  793.2  789.9  783.7  \n",
       "4  866.4  864.1  859.8  \n",
       "\n",
       "[5 rows x 138 columns]"
      ]
     },
     "execution_count": 6,
     "metadata": {},
     "output_type": "execute_result"
    }
   ],
   "source": [
    "Test.head()"
   ]
  },
  {
   "cell_type": "code",
   "execution_count": 7,
   "metadata": {},
   "outputs": [
    {
     "data": {
      "text/html": [
       "<div>\n",
       "<style scoped>\n",
       "    .dataframe tbody tr th:only-of-type {\n",
       "        vertical-align: middle;\n",
       "    }\n",
       "\n",
       "    .dataframe tbody tr th {\n",
       "        vertical-align: top;\n",
       "    }\n",
       "\n",
       "    .dataframe thead th {\n",
       "        text-align: right;\n",
       "    }\n",
       "</style>\n",
       "<table border=\"1\" class=\"dataframe\">\n",
       "  <thead>\n",
       "    <tr style=\"text-align: right;\">\n",
       "      <th></th>\n",
       "      <th>filename</th>\n",
       "      <th>frame</th>\n",
       "      <th>x_0</th>\n",
       "      <th>x_1</th>\n",
       "      <th>x_2</th>\n",
       "      <th>x_3</th>\n",
       "      <th>x_4</th>\n",
       "      <th>x_5</th>\n",
       "      <th>x_6</th>\n",
       "      <th>x_7</th>\n",
       "      <th>...</th>\n",
       "      <th>y_58</th>\n",
       "      <th>y_59</th>\n",
       "      <th>y_60</th>\n",
       "      <th>y_61</th>\n",
       "      <th>y_62</th>\n",
       "      <th>y_63</th>\n",
       "      <th>y_64</th>\n",
       "      <th>y_65</th>\n",
       "      <th>y_66</th>\n",
       "      <th>y_67</th>\n",
       "    </tr>\n",
       "  </thead>\n",
       "  <tbody>\n",
       "    <tr>\n",
       "      <td>0</td>\n",
       "      <td>Sona_jenga_0301.csv</td>\n",
       "      <td>8345</td>\n",
       "      <td>803.2</td>\n",
       "      <td>799.7</td>\n",
       "      <td>804.6</td>\n",
       "      <td>816.8</td>\n",
       "      <td>835.2</td>\n",
       "      <td>857.8</td>\n",
       "      <td>877.0</td>\n",
       "      <td>899.3</td>\n",
       "      <td>...</td>\n",
       "      <td>699.1</td>\n",
       "      <td>695.6</td>\n",
       "      <td>680.2</td>\n",
       "      <td>669.9</td>\n",
       "      <td>669.3</td>\n",
       "      <td>665.2</td>\n",
       "      <td>665.4</td>\n",
       "      <td>667.1</td>\n",
       "      <td>670.9</td>\n",
       "      <td>671.2</td>\n",
       "    </tr>\n",
       "    <tr>\n",
       "      <td>1</td>\n",
       "      <td>1702_Jenga_Cut .csv</td>\n",
       "      <td>2242</td>\n",
       "      <td>693.7</td>\n",
       "      <td>719.8</td>\n",
       "      <td>758.6</td>\n",
       "      <td>793.0</td>\n",
       "      <td>822.3</td>\n",
       "      <td>845.7</td>\n",
       "      <td>843.8</td>\n",
       "      <td>840.4</td>\n",
       "      <td>...</td>\n",
       "      <td>755.2</td>\n",
       "      <td>745.5</td>\n",
       "      <td>727.9</td>\n",
       "      <td>729.7</td>\n",
       "      <td>728.5</td>\n",
       "      <td>721.2</td>\n",
       "      <td>705.1</td>\n",
       "      <td>720.1</td>\n",
       "      <td>726.4</td>\n",
       "      <td>727.6</td>\n",
       "    </tr>\n",
       "    <tr>\n",
       "      <td>2</td>\n",
       "      <td>1202_jenga_cut.csv</td>\n",
       "      <td>8442</td>\n",
       "      <td>648.7</td>\n",
       "      <td>643.6</td>\n",
       "      <td>645.8</td>\n",
       "      <td>650.4</td>\n",
       "      <td>654.5</td>\n",
       "      <td>661.4</td>\n",
       "      <td>675.0</td>\n",
       "      <td>695.9</td>\n",
       "      <td>...</td>\n",
       "      <td>787.8</td>\n",
       "      <td>782.5</td>\n",
       "      <td>773.2</td>\n",
       "      <td>771.4</td>\n",
       "      <td>772.7</td>\n",
       "      <td>772.3</td>\n",
       "      <td>775.1</td>\n",
       "      <td>769.2</td>\n",
       "      <td>769.5</td>\n",
       "      <td>768.5</td>\n",
       "    </tr>\n",
       "    <tr>\n",
       "      <td>3</td>\n",
       "      <td>Sona0102_jenga_cut.csv</td>\n",
       "      <td>264</td>\n",
       "      <td>999.1</td>\n",
       "      <td>991.0</td>\n",
       "      <td>988.9</td>\n",
       "      <td>992.8</td>\n",
       "      <td>999.0</td>\n",
       "      <td>1010.8</td>\n",
       "      <td>1021.4</td>\n",
       "      <td>1034.8</td>\n",
       "      <td>...</td>\n",
       "      <td>798.8</td>\n",
       "      <td>785.7</td>\n",
       "      <td>769.7</td>\n",
       "      <td>777.2</td>\n",
       "      <td>783.5</td>\n",
       "      <td>787.0</td>\n",
       "      <td>791.2</td>\n",
       "      <td>785.7</td>\n",
       "      <td>782.7</td>\n",
       "      <td>776.2</td>\n",
       "    </tr>\n",
       "    <tr>\n",
       "      <td>4</td>\n",
       "      <td>Sona0101_jenga_cut.csv</td>\n",
       "      <td>1140</td>\n",
       "      <td>961.2</td>\n",
       "      <td>964.2</td>\n",
       "      <td>971.3</td>\n",
       "      <td>981.3</td>\n",
       "      <td>993.3</td>\n",
       "      <td>1013.7</td>\n",
       "      <td>1035.1</td>\n",
       "      <td>1061.4</td>\n",
       "      <td>...</td>\n",
       "      <td>846.4</td>\n",
       "      <td>832.1</td>\n",
       "      <td>812.0</td>\n",
       "      <td>816.2</td>\n",
       "      <td>820.9</td>\n",
       "      <td>821.8</td>\n",
       "      <td>822.3</td>\n",
       "      <td>830.6</td>\n",
       "      <td>829.9</td>\n",
       "      <td>824.8</td>\n",
       "    </tr>\n",
       "  </tbody>\n",
       "</table>\n",
       "<p>5 rows × 138 columns</p>\n",
       "</div>"
      ],
      "text/plain": [
       "                 filename  frame    x_0    x_1    x_2    x_3    x_4     x_5  \\\n",
       "0     Sona_jenga_0301.csv   8345  803.2  799.7  804.6  816.8  835.2   857.8   \n",
       "1     1702_Jenga_Cut .csv   2242  693.7  719.8  758.6  793.0  822.3   845.7   \n",
       "2      1202_jenga_cut.csv   8442  648.7  643.6  645.8  650.4  654.5   661.4   \n",
       "3  Sona0102_jenga_cut.csv    264  999.1  991.0  988.9  992.8  999.0  1010.8   \n",
       "4  Sona0101_jenga_cut.csv   1140  961.2  964.2  971.3  981.3  993.3  1013.7   \n",
       "\n",
       "      x_6     x_7  ...   y_58   y_59   y_60   y_61   y_62   y_63   y_64  \\\n",
       "0   877.0   899.3  ...  699.1  695.6  680.2  669.9  669.3  665.2  665.4   \n",
       "1   843.8   840.4  ...  755.2  745.5  727.9  729.7  728.5  721.2  705.1   \n",
       "2   675.0   695.9  ...  787.8  782.5  773.2  771.4  772.7  772.3  775.1   \n",
       "3  1021.4  1034.8  ...  798.8  785.7  769.7  777.2  783.5  787.0  791.2   \n",
       "4  1035.1  1061.4  ...  846.4  832.1  812.0  816.2  820.9  821.8  822.3   \n",
       "\n",
       "    y_65   y_66   y_67  \n",
       "0  667.1  670.9  671.2  \n",
       "1  720.1  726.4  727.6  \n",
       "2  769.2  769.5  768.5  \n",
       "3  785.7  782.7  776.2  \n",
       "4  830.6  829.9  824.8  \n",
       "\n",
       "[5 rows x 138 columns]"
      ]
     },
     "execution_count": 7,
     "metadata": {},
     "output_type": "execute_result"
    }
   ],
   "source": [
    "Valid.head()"
   ]
  },
  {
   "cell_type": "markdown",
   "metadata": {},
   "source": [
    "Saving to disk"
   ]
  },
  {
   "cell_type": "code",
   "execution_count": 8,
   "metadata": {},
   "outputs": [],
   "source": [
    "save_path = './data/tmp_analysis/{0}'.format(task_name)\n",
    "save_train_path = save_path + '_train.csv'\n",
    "save_test_path = save_path + '_test.csv'\n",
    "save_valid_path = save_path + '_valid.csv'\n",
    "\n",
    "\n",
    "Train.to_csv(save_train_path)\n",
    "Test.to_csv(save_test_path)\n",
    "Valid.to_csv(save_valid_path)"
   ]
  },
  {
   "cell_type": "markdown",
   "metadata": {},
   "source": [
    "## PCA Fit\n",
    "I found 32 components to be roughly the inflection curve.\n",
    "I am also creating an 18  component variant just in case we want a direct comparison with action units"
   ]
  },
  {
   "cell_type": "code",
   "execution_count": 9,
   "metadata": {},
   "outputs": [],
   "source": [
    "import pickle\n",
    "from sklearn.decomposition import PCA"
   ]
  },
  {
   "cell_type": "code",
   "execution_count": 10,
   "metadata": {},
   "outputs": [],
   "source": [
    "save_path = './data/tmp_analysis/{0}'.format(task_name)\n",
    "save_train_path = save_path + '_train.csv'\n",
    "save_test_path = save_path + '_test.csv'\n",
    "save_valid_path = save_path + '_valid.csv'\n",
    "\n",
    "\n",
    "Train = pd.read_csv(save_train_path)\n",
    "Test = pd.read_csv(save_test_path)\n",
    "Valid = pd.read_csv(save_valid_path)"
   ]
  },
  {
   "cell_type": "code",
   "execution_count": 11,
   "metadata": {},
   "outputs": [],
   "source": [
    "X = Train.to_numpy()[:,3:]"
   ]
  },
  {
   "cell_type": "code",
   "execution_count": 12,
   "metadata": {},
   "outputs": [
    {
     "name": "stdout",
     "output_type": "stream",
     "text": [
      "[4.62987008e+06 2.72925026e+06 1.54130997e+05 7.60114385e+04\n",
      " 4.60983281e+04 2.44411340e+04 2.20384671e+04 7.54351332e+03\n",
      " 3.89411889e+03 2.03379306e+03 1.64928230e+03 1.51436964e+03\n",
      " 1.28886970e+03 9.60897665e+02 7.84298071e+02 6.18583204e+02\n",
      " 4.42432983e+02 3.89113533e+02 3.61640814e+02 3.32080826e+02\n",
      " 2.67733021e+02 2.32968749e+02 2.16726369e+02 1.77224009e+02\n",
      " 1.62874174e+02 1.37203905e+02 1.19198114e+02 1.09041395e+02\n",
      " 1.05150977e+02 8.80905137e+01 8.07716549e+01 6.83802838e+01]\n"
     ]
    }
   ],
   "source": [
    "pca_n_32 = PCA(n_components=32)\n",
    "face_pca_n_32 = pca_n_32.fit(X)\n",
    "\n",
    "print(face_pca_n_32.explained_variance_)"
   ]
  },
  {
   "cell_type": "code",
   "execution_count": 13,
   "metadata": {},
   "outputs": [],
   "source": [
    "pickle.dump(face_pca_n_32,open(model_path+'pca_n_32.p','wb'))"
   ]
  },
  {
   "cell_type": "code",
   "execution_count": 14,
   "metadata": {},
   "outputs": [
    {
     "name": "stdout",
     "output_type": "stream",
     "text": [
      "[4629870.08163936 2729250.259092    154130.99739267   76011.43849048\n",
      "   46098.32806381]\n"
     ]
    }
   ],
   "source": [
    "pca_n_5 = PCA(n_components=5)\n",
    "face_pca_n_5 = pca_n_5.fit(X)\n",
    "\n",
    "print(face_pca_n_5.explained_variance_)"
   ]
  },
  {
   "cell_type": "code",
   "execution_count": 15,
   "metadata": {},
   "outputs": [],
   "source": [
    "pickle.dump(face_pca_n_5,open(model_path+'pca_n_5.p','wb'))"
   ]
  },
  {
   "cell_type": "markdown",
   "metadata": {},
   "source": [
    "# Autoencoder\n",
    "Right now just doing a single layer \n",
    "Perhaps we can try a two layer encoder / two layer decoder next?"
   ]
  },
  {
   "cell_type": "markdown",
   "metadata": {},
   "source": [
    "32 Wide encoder"
   ]
  },
  {
   "cell_type": "code",
   "execution_count": 16,
   "metadata": {},
   "outputs": [
    {
     "name": "stderr",
     "output_type": "stream",
     "text": [
      "Using TensorFlow backend.\n"
     ]
    }
   ],
   "source": [
    "import keras\n",
    "from keras import layers\n",
    "\n",
    "import matplotlib.pyplot as plt"
   ]
  },
  {
   "cell_type": "code",
   "execution_count": 17,
   "metadata": {},
   "outputs": [],
   "source": [
    "X = Train.to_numpy()[:,3:]\n",
    "Xtest = Test.to_numpy()[:,3:]\n",
    "Xvalid = Valid.to_numpy()[:,3:]"
   ]
  },
  {
   "cell_type": "code",
   "execution_count": 18,
   "metadata": {},
   "outputs": [
    {
     "name": "stdout",
     "output_type": "stream",
     "text": [
      "(151068, 136)\n"
     ]
    }
   ],
   "source": [
    "print(X.shape)"
   ]
  },
  {
   "cell_type": "code",
   "execution_count": 19,
   "metadata": {},
   "outputs": [
    {
     "name": "stdout",
     "output_type": "stream",
     "text": [
      "WARNING:tensorflow:From C:\\Users\\curth\\Anaconda3\\lib\\site-packages\\keras\\backend\\tensorflow_backend.py:74: The name tf.get_default_graph is deprecated. Please use tf.compat.v1.get_default_graph instead.\n",
      "\n",
      "WARNING:tensorflow:From C:\\Users\\curth\\Anaconda3\\lib\\site-packages\\keras\\backend\\tensorflow_backend.py:517: The name tf.placeholder is deprecated. Please use tf.compat.v1.placeholder instead.\n",
      "\n",
      "WARNING:tensorflow:From C:\\Users\\curth\\Anaconda3\\lib\\site-packages\\keras\\backend\\tensorflow_backend.py:4138: The name tf.random_uniform is deprecated. Please use tf.random.uniform instead.\n",
      "\n"
     ]
    }
   ],
   "source": [
    "input_dim = X.shape[1]\n",
    "encoding_dim = 32\n",
    "\n",
    "input_layer = keras.Input(shape=(input_dim,))\n",
    "encoded_layer = layers.Dense(encoding_dim, activation='relu')(input_layer)\n",
    "decoded_layer = layers.Dense(input_dim, activation='relu')(encoded_layer)\n",
    "\n",
    "autoencoder_32 = keras.Model(input_layer,decoded_layer)\n",
    "\n",
    "encoder_32 = keras.Model(input_layer, encoded_layer)"
   ]
  },
  {
   "cell_type": "code",
   "execution_count": 20,
   "metadata": {},
   "outputs": [
    {
     "name": "stdout",
     "output_type": "stream",
     "text": [
      "WARNING:tensorflow:From C:\\Users\\curth\\Anaconda3\\lib\\site-packages\\keras\\optimizers.py:790: The name tf.train.Optimizer is deprecated. Please use tf.compat.v1.train.Optimizer instead.\n",
      "\n",
      "WARNING:tensorflow:From C:\\Users\\curth\\Anaconda3\\lib\\site-packages\\keras\\backend\\tensorflow_backend.py:3376: The name tf.log is deprecated. Please use tf.math.log instead.\n",
      "\n",
      "WARNING:tensorflow:From C:\\Users\\curth\\Anaconda3\\lib\\site-packages\\tensorflow_core\\python\\ops\\nn_impl.py:183: where (from tensorflow.python.ops.array_ops) is deprecated and will be removed in a future version.\n",
      "Instructions for updating:\n",
      "Use tf.where in 2.0, which has the same broadcast rule as np.where\n"
     ]
    }
   ],
   "source": [
    "autoencoder_32.compile(optimizer='adam',\n",
    "                    loss='binary_crossentropy')"
   ]
  },
  {
   "cell_type": "code",
   "execution_count": 21,
   "metadata": {},
   "outputs": [
    {
     "name": "stdout",
     "output_type": "stream",
     "text": [
      "_________________________________________________________________\n",
      "Layer (type)                 Output Shape              Param #   \n",
      "=================================================================\n",
      "input_1 (InputLayer)         (None, 136)               0         \n",
      "_________________________________________________________________\n",
      "dense_1 (Dense)              (None, 32)                4384      \n",
      "_________________________________________________________________\n",
      "dense_2 (Dense)              (None, 136)               4488      \n",
      "=================================================================\n",
      "Total params: 8,872\n",
      "Trainable params: 8,872\n",
      "Non-trainable params: 0\n",
      "_________________________________________________________________\n"
     ]
    }
   ],
   "source": [
    "autoencoder_32.summary()"
   ]
  },
  {
   "cell_type": "code",
   "execution_count": 22,
   "metadata": {},
   "outputs": [
    {
     "name": "stdout",
     "output_type": "stream",
     "text": [
      "WARNING:tensorflow:From C:\\Users\\curth\\Anaconda3\\lib\\site-packages\\keras\\backend\\tensorflow_backend.py:986: The name tf.assign_add is deprecated. Please use tf.compat.v1.assign_add instead.\n",
      "\n",
      "WARNING:tensorflow:From C:\\Users\\curth\\Anaconda3\\lib\\site-packages\\keras\\backend\\tensorflow_backend.py:973: The name tf.assign is deprecated. Please use tf.compat.v1.assign instead.\n",
      "\n",
      "WARNING:tensorflow:From C:\\Users\\curth\\Anaconda3\\lib\\site-packages\\keras\\backend\\tensorflow_backend.py:2741: The name tf.Session is deprecated. Please use tf.compat.v1.Session instead.\n",
      "\n",
      "WARNING:tensorflow:From C:\\Users\\curth\\Anaconda3\\lib\\site-packages\\keras\\backend\\tensorflow_backend.py:174: The name tf.get_default_session is deprecated. Please use tf.compat.v1.get_default_session instead.\n",
      "\n",
      "WARNING:tensorflow:From C:\\Users\\curth\\Anaconda3\\lib\\site-packages\\keras\\backend\\tensorflow_backend.py:181: The name tf.ConfigProto is deprecated. Please use tf.compat.v1.ConfigProto instead.\n",
      "\n",
      "WARNING:tensorflow:From C:\\Users\\curth\\Anaconda3\\lib\\site-packages\\keras\\backend\\tensorflow_backend.py:190: The name tf.global_variables is deprecated. Please use tf.compat.v1.global_variables instead.\n",
      "\n",
      "WARNING:tensorflow:From C:\\Users\\curth\\Anaconda3\\lib\\site-packages\\keras\\backend\\tensorflow_backend.py:199: The name tf.is_variable_initialized is deprecated. Please use tf.compat.v1.is_variable_initialized instead.\n",
      "\n",
      "WARNING:tensorflow:From C:\\Users\\curth\\Anaconda3\\lib\\site-packages\\keras\\backend\\tensorflow_backend.py:206: The name tf.variables_initializer is deprecated. Please use tf.compat.v1.variables_initializer instead.\n",
      "\n"
     ]
    }
   ],
   "source": [
    "history = autoencoder_32.fit(X, X, epochs=4, batch_size=64, verbose=0, validation_data=(Xtest, Xtest))"
   ]
  },
  {
   "cell_type": "code",
   "execution_count": 23,
   "metadata": {},
   "outputs": [
    {
     "data": {
      "image/png": "[encoded data removed]",
      "text/plain": [
       "<Figure size 432x288 with 1 Axes>"
      ]
     },
     "metadata": {
      "needs_background": "light"
     },
     "output_type": "display_data"
    }
   ],
   "source": [
    "fig, ax = plt.subplots()\n",
    "\n",
    "plt.plot([0]+history.history['loss'], label='train')\n",
    "plt.plot([0]+history.history['val_loss'], label='test')\n",
    "plt.legend()\n",
    "plt.show()"
   ]
  },
  {
   "cell_type": "code",
   "execution_count": 24,
   "metadata": {},
   "outputs": [],
   "source": [
    "predictions = autoencoder_32.predict(Xvalid)\n",
    "# TODO I should probably do something with the validation set"
   ]
  },
  {
   "cell_type": "code",
   "execution_count": 25,
   "metadata": {},
   "outputs": [],
   "source": [
    "autoencoder_32.save(model_path + 'autoencoder_32.pb')\n",
    "encoder_32.save(model_path + 'encoder_32.pb')"
   ]
  },
  {
   "cell_type": "markdown",
   "metadata": {},
   "source": [
    "5 wide encoder"
   ]
  },
  {
   "cell_type": "code",
   "execution_count": 26,
   "metadata": {},
   "outputs": [],
   "source": [
    "import keras\n",
    "from keras import layers"
   ]
  },
  {
   "cell_type": "code",
   "execution_count": 27,
   "metadata": {},
   "outputs": [],
   "source": [
    "X = Train.to_numpy()[:,3:]\n",
    "Xtest = Test.to_numpy()[:,3:]\n",
    "Xvalid = Valid.to_numpy()[:,3:]"
   ]
  },
  {
   "cell_type": "code",
   "execution_count": 28,
   "metadata": {},
   "outputs": [],
   "source": [
    "input_dim = X.shape[1]\n",
    "encoding_dim = 5\n",
    "\n",
    "input_layer = keras.Input(shape=(input_dim,))\n",
    "encoded_layer = layers.Dense(encoding_dim, activation='relu')(input_layer)\n",
    "decoded_layer = layers.Dense(input_dim, activation='relu')(encoded_layer)\n",
    "\n",
    "autoencoder_5 = keras.Model(input_layer,decoded_layer)\n",
    "\n",
    "encoder_5 = keras.Model(input_layer, encoded_layer)"
   ]
  },
  {
   "cell_type": "code",
   "execution_count": 29,
   "metadata": {},
   "outputs": [],
   "source": [
    "autoencoder_5.compile(optimizer='adam',\n",
    "                    loss='binary_crossentropy')"
   ]
  },
  {
   "cell_type": "code",
   "execution_count": 30,
   "metadata": {},
   "outputs": [
    {
     "name": "stdout",
     "output_type": "stream",
     "text": [
      "_________________________________________________________________\n",
      "Layer (type)                 Output Shape              Param #   \n",
      "=================================================================\n",
      "input_2 (InputLayer)         (None, 136)               0         \n",
      "_________________________________________________________________\n",
      "dense_3 (Dense)              (None, 5)                 685       \n",
      "_________________________________________________________________\n",
      "dense_4 (Dense)              (None, 136)               816       \n",
      "=================================================================\n",
      "Total params: 1,501\n",
      "Trainable params: 1,501\n",
      "Non-trainable params: 0\n",
      "_________________________________________________________________\n"
     ]
    }
   ],
   "source": [
    "autoencoder_5.summary()"
   ]
  },
  {
   "cell_type": "code",
   "execution_count": 31,
   "metadata": {},
   "outputs": [],
   "source": [
    "history = autoencoder_5.fit(X, X, epochs=3, batch_size=64, verbose=0, validation_data=(Xtest, Xtest))"
   ]
  },
  {
   "cell_type": "code",
   "execution_count": 32,
   "metadata": {},
   "outputs": [
    {
     "data": {
      "image/png": "[encoded data removed]",
      "text/plain": [
       "<Figure size 432x288 with 1 Axes>"
      ]
     },
     "metadata": {
      "needs_background": "light"
     },
     "output_type": "display_data"
    }
   ],
   "source": [
    "fig, ax = plt.subplots()\n",
    "\n",
    "plt.plot([0]+history.history['loss'], label='train')\n",
    "plt.plot([0]+history.history['val_loss'], label='test')\n",
    "plt.legend()\n",
    "plt.show()"
   ]
  },
  {
   "cell_type": "code",
   "execution_count": 33,
   "metadata": {},
   "outputs": [],
   "source": [
    "predictions = autoencoder_5.predict(Xvalid)\n",
    "# TODO I should probably do something with the validation set"
   ]
  },
  {
   "cell_type": "code",
   "execution_count": 34,
   "metadata": {},
   "outputs": [],
   "source": [
    "autoencoder_5.save(model_path + 'autoencoder_5.pb')\n",
    "encoder_5.save(model_path + 'encoder_5.pb')"
   ]
  },
  {
   "cell_type": "markdown",
   "metadata": {},
   "source": [
    "## K-means\n",
    "Not sure what this is going to do \n",
    "(my guess is it is going to cluster similar participants)"
   ]
  },
  {
   "cell_type": "code",
   "execution_count": 35,
   "metadata": {},
   "outputs": [],
   "source": [
    "import matplotlib.pyplot as plt\n",
    "\n",
    "def visualize_labels(y):\n",
    "    idx = np.arange(len(y))\n",
    "\n",
    "    fig, (ax1,ax2) = plt.subplots(nrows=2, sharex=True)\n",
    "\n",
    "    ax1.imshow(y[np.newaxis,:], cmap=\"plasma\", aspect=\"auto\")\n",
    "    ax1.set_yticks([])\n",
    "\n",
    "    ax2.scatter(idx,y)\n",
    "\n",
    "    plt.tight_layout()\n",
    "    plt.show()"
   ]
  },
  {
   "cell_type": "code",
   "execution_count": 36,
   "metadata": {},
   "outputs": [],
   "source": [
    "from sklearn.cluster import KMeans"
   ]
  },
  {
   "cell_type": "code",
   "execution_count": 37,
   "metadata": {},
   "outputs": [],
   "source": [
    "X_pca = face_pca_n_32.transform(X)\n",
    "kmeans_5 = KMeans(n_clusters=5, random_state=0).fit(X_pca)"
   ]
  },
  {
   "cell_type": "code",
   "execution_count": 38,
   "metadata": {},
   "outputs": [
    {
     "data": {
      "image/png": "[encoded data removed]",
      "text/plain": [
       "<Figure size 432x288 with 2 Axes>"
      ]
     },
     "metadata": {
      "needs_background": "light"
     },
     "output_type": "display_data"
    }
   ],
   "source": [
    "y = kmeans_5.predict(face_pca_n_32.transform(Test.to_numpy()[:,3:]))\n",
    "visualize_labels(y)"
   ]
  },
  {
   "cell_type": "code",
   "execution_count": 39,
   "metadata": {},
   "outputs": [
    {
     "data": {
      "image/png": "[encoded data removed]",
      "text/plain": [
       "<Figure size 432x288 with 2 Axes>"
      ]
     },
     "metadata": {
      "needs_background": "light"
     },
     "output_type": "display_data"
    }
   ],
   "source": [
    "y = kmeans_5.predict(face_pca_n_32.transform(Valid.to_numpy()[:,3:]))\n",
    "visualize_labels(y)"
   ]
  },
  {
   "cell_type": "code",
   "execution_count": 40,
   "metadata": {},
   "outputs": [],
   "source": [
    "pickle.dump(kmeans_5,open(model_path+'kmeans_5_from_pca.p','wb'))"
   ]
  },
  {
   "cell_type": "markdown",
   "metadata": {},
   "source": [
    "   "
   ]
  },
  {
   "cell_type": "code",
   "execution_count": 41,
   "metadata": {},
   "outputs": [],
   "source": [
    "X_auto = encoder_32.predict(X)\n",
    "kmeans_5 = KMeans(n_clusters=5, random_state=0).fit(X_auto)"
   ]
  },
  {
   "cell_type": "code",
   "execution_count": 42,
   "metadata": {},
   "outputs": [
    {
     "data": {
      "image/png": "[encoded data removed]",
      "text/plain": [
       "<Figure size 432x288 with 2 Axes>"
      ]
     },
     "metadata": {
      "needs_background": "light"
     },
     "output_type": "display_data"
    }
   ],
   "source": [
    "y = kmeans_5.predict(encoder_32.predict(Test.to_numpy()[:,3:]))\n",
    "visualize_labels(y)"
   ]
  },
  {
   "cell_type": "code",
   "execution_count": 43,
   "metadata": {},
   "outputs": [
    {
     "data": {
      "image/png": "[encoded data removed]",
      "text/plain": [
       "<Figure size 432x288 with 2 Axes>"
      ]
     },
     "metadata": {
      "needs_background": "light"
     },
     "output_type": "display_data"
    }
   ],
   "source": [
    "y = kmeans_5.predict(encoder_32.predict(Valid.to_numpy()[:,3:]))\n",
    "visualize_labels(y)"
   ]
  },
  {
   "cell_type": "code",
   "execution_count": 44,
   "metadata": {},
   "outputs": [],
   "source": [
    "pickle.dump(kmeans_5,open(model_path+'kmeans_5_from_auto.p','wb'))"
   ]
  },
  {
   "cell_type": "markdown",
   "metadata": {},
   "source": [
    "## Model Comparisons\n",
    "Is there some way to perform a comparison across the models\n",
    "- PCA-n-5\n",
    "- PCA-n-32 -> KMeans-5-from-pca\n",
    "- Autoencoder-32 -> KMeans-5-from-autoencoder\n",
    "- Autoencoder-5"
   ]
  },
  {
   "cell_type": "code",
   "execution_count": null,
   "metadata": {},
   "outputs": [],
   "source": []
  }
 ],
 "metadata": {
  "kernelspec": {
   "display_name": "Python 3",
   "language": "python",
   "name": "python3"
  },
  "language_info": {
   "codemirror_mode": {
    "name": "ipython",
    "version": 3
   },
   "file_extension": ".py",
   "mimetype": "text/x-python",
   "name": "python",
   "nbconvert_exporter": "python",
   "pygments_lexer": "ipython3",
   "version": "3.7.4"
  }
 },
 "nbformat": 4,
 "nbformat_minor": 2
}
