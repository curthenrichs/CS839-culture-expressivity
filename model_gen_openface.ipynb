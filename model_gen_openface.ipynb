{
 "cells": [
  {
   "cell_type": "code",
   "execution_count": 1,
   "metadata": {},
   "outputs": [],
   "source": [
    "task_name = 'task1_sandwich_openface'"
   ]
  },
  {
   "cell_type": "code",
   "execution_count": 2,
   "metadata": {},
   "outputs": [],
   "source": [
    "model_path = './models/{0}/'.format(task_name)"
   ]
  },
  {
   "cell_type": "markdown",
   "metadata": {},
   "source": [
    "# Model Creation for Tasks captured through Openface\n",
    "\n",
    "1. First we create the training data from the task participant data\n",
    "\n",
    "       This results in three intermediate training CSVs stored to disk.\n",
    "\n",
    "2. Next we train the PCA models\n",
    "\n",
    "        This results in pickled PCA models.\n",
    "        \n",
    "3. Then we train a k-means cluster that sits on top of PCA \n",
    "\n",
    "        This results in pickled k-means model.\n",
    "\n",
    "4. Next we train an autoencoder model (as replacement for PCA)\n",
    "\n",
    "        This results in saved autoencoder model.\n"
   ]
  },
  {
   "cell_type": "code",
   "execution_count": 3,
   "metadata": {},
   "outputs": [
    {
     "name": "stdout",
     "output_type": "stream",
     "text": [
      "Num Files: 32\n"
     ]
    }
   ],
   "source": [
    "import os\n",
    "import numpy as np\n",
    "import pandas as pd\n",
    "\n",
    "import warnings\n",
    "from tqdm import tqdm_notebook as tqdm\n",
    "\n",
    "path = './data/openface/{0}'.format(task_name)\n",
    "\n",
    "files = [f for f in os.listdir(path) if os.path.isfile(os.path.join(path,f))]\n",
    "print('Num Files:',len(files))"
   ]
  },
  {
   "cell_type": "markdown",
   "metadata": {},
   "source": [
    "## Create training set\n",
    "Using k out of every file?\n",
    "\n",
    "Note dropping bad lines"
   ]
  },
  {
   "cell_type": "code",
   "execution_count": 4,
   "metadata": {},
   "outputs": [
    {
     "data": {
      "application/vnd.jupyter.widget-view+json": {
       "model_id": "bd75a94e294d48df8f94850185bb45e6",
       "version_major": 2,
       "version_minor": 0
      },
      "text/plain": [
       "HBox(children=(IntProgress(value=0, max=32), HTML(value='')))"
      ]
     },
     "metadata": {},
     "output_type": "display_data"
    },
    {
     "name": "stdout",
     "output_type": "stream",
     "text": [
      "0101_sandwich_cut.csv\n",
      "Full: (5732, 138)\n",
      "Train: (3840, 138) Test: (946, 138) Validation (946, 138)\n",
      "0102_sandwich_cut.csv\n",
      "Full: (5692, 138)\n",
      "Train: (3813, 138) Test: (939, 138) Validation (940, 138)\n",
      "0201_sandwich_cut.csv\n",
      "Full: (9953, 138)\n",
      "Train: (6668, 138) Test: (1642, 138) Validation (1643, 138)\n",
      "0301_sandwich_cut.csv\n",
      "Full: (8261, 138)\n",
      "Train: (5534, 138) Test: (1363, 138) Validation (1364, 138)\n",
      "0302_sandwich_cut.csv\n",
      "Full: (8333, 138)\n",
      "Train: (5583, 138) Test: (1375, 138) Validation (1375, 138)\n",
      "0402_sandwich_cut.csv\n",
      "Full: (4974, 138)\n",
      "Train: (3332, 138) Test: (821, 138) Validation (821, 138)\n",
      "0501_sandwich_cut.csv\n",
      "Full: (9426, 138)\n",
      "Train: (6315, 138) Test: (1555, 138) Validation (1556, 138)\n",
      "0502_sandwich_cut.csv\n",
      "Full: (9457, 138)\n",
      "Train: (6336, 138) Test: (1560, 138) Validation (1561, 138)\n",
      "0601_sandwich_cut.csv\n",
      "Full: (11538, 138)\n",
      "Train: (7730, 138) Test: (1904, 138) Validation (1904, 138)\n",
      "0602_sandwich_cut.csv\n",
      "Full: (10711, 138)\n",
      "Train: (7176, 138) Test: (1767, 138) Validation (1768, 138)\n",
      "0701_sandwich_cut.csv\n",
      "Full: (8250, 138)\n",
      "Train: (5527, 138) Test: (1361, 138) Validation (1362, 138)\n",
      "0702_sandwich_cut.csv\n",
      "Full: (8501, 138)\n",
      "Train: (5695, 138) Test: (1403, 138) Validation (1403, 138)\n",
      "0801_sandwich_cut.csv\n",
      "Full: (11169, 138)\n",
      "Train: (7483, 138) Test: (1843, 138) Validation (1843, 138)\n",
      "0802_sandwich_cut.csv\n",
      "Full: (11239, 138)\n",
      "Train: (7530, 138) Test: (1854, 138) Validation (1855, 138)\n",
      "0901_sandwich_cut.csv\n",
      "Full: (13190, 138)\n",
      "Train: (8837, 138) Test: (2176, 138) Validation (2177, 138)\n",
      "1001_sandwich_cut.csv\n",
      "Full: (8028, 138)\n",
      "Train: (5378, 138) Test: (1325, 138) Validation (1325, 138)\n",
      "1002_sandwich_cut.csv\n",
      "Full: (8236, 138)\n",
      "Train: (5518, 138) Test: (1359, 138) Validation (1359, 138)\n",
      "1101_sandwich_cut.csv\n",
      "Full: (10804, 138)\n",
      "Train: (7238, 138) Test: (1783, 138) Validation (1783, 138)\n",
      "1301_sandwich_cut.csv\n"
     ]
    },
    {
     "name": "stderr",
     "output_type": "stream",
     "text": [
      "b'Skipping line 4053: expected 714 fields, saw 1233\\nSkipping line 4064: expected 714 fields, saw 722\\n'\n",
      "C:\\Users\\curth\\Anaconda3\\lib\\site-packages\\ipykernel_launcher.py:26: UserWarning: Dropping row due to NaN, 6548\n",
      "C:\\Users\\curth\\Anaconda3\\lib\\site-packages\\ipykernel_launcher.py:26: UserWarning: Dropping row due to NaN, 6552\n",
      "C:\\Users\\curth\\Anaconda3\\lib\\site-packages\\pandas\\core\\frame.py:4102: SettingWithCopyWarning: \n",
      "A value is trying to be set on a copy of a slice from a DataFrame\n",
      "\n",
      "See the caveats in the documentation: http://pandas.pydata.org/pandas-docs/stable/user_guide/indexing.html#returning-a-view-versus-a-copy\n",
      "  errors=errors,\n"
     ]
    },
    {
     "name": "stdout",
     "output_type": "stream",
     "text": [
      "Full: (6570, 138)\n",
      "Train: (4401, 138) Test: (1084, 138) Validation (1085, 138)\n",
      "1401_sandwich_cut.csv\n",
      "Full: (7476, 138)\n",
      "Train: (5008, 138) Test: (1234, 138) Validation (1234, 138)\n",
      "1402_sandwich_cut.csv\n",
      "Full: (7518, 138)\n",
      "Train: (5037, 138) Test: (1240, 138) Validation (1241, 138)\n",
      "1501_sandwich_cut.csv\n",
      "Full: (7224, 138)\n",
      "Train: (4840, 138) Test: (1192, 138) Validation (1192, 138)\n",
      "1502_sandwich_cut.csv\n",
      "Full: (7219, 138)\n",
      "Train: (4836, 138) Test: (1191, 138) Validation (1192, 138)\n",
      "1701_Sandwich_Cut.csv\n",
      "Full: (6185, 138)\n",
      "Train: (4143, 138) Test: (1021, 138) Validation (1021, 138)\n",
      "1702_Sandwich_Cut.csv\n",
      "Full: (6674, 138)\n",
      "Train: (4471, 138) Test: (1101, 138) Validation (1102, 138)\n",
      "sona0101_sandwich_cut.csv\n",
      "Full: (4700, 138)\n",
      "Train: (3149, 138) Test: (775, 138) Validation (776, 138)\n",
      "sona0102_sandwich_cut.csv\n",
      "Full: (4735, 138)\n",
      "Train: (3172, 138) Test: (781, 138) Validation (782, 138)\n",
      "Sona0201_sandwich_cut.csv\n",
      "Full: (6358, 138)\n",
      "Train: (4259, 138) Test: (1049, 138) Validation (1050, 138)\n",
      "Sona0202_sandwich_cut.csv\n",
      "Full: (6405, 138)\n",
      "Train: (4291, 138) Test: (1057, 138) Validation (1057, 138)\n",
      "Sona0302_sandwich_cut.csv\n",
      "Full: (7300, 138)\n",
      "Train: (4891, 138) Test: (1204, 138) Validation (1205, 138)\n",
      "Sona0401_sandwich_cut.csv\n",
      "Full: (5606, 138)\n",
      "Train: (3756, 138) Test: (925, 138) Validation (925, 138)\n",
      "Sona0402_sandwich_cut.csv\n",
      "Full: (6001, 138)\n",
      "Train: (4020, 138) Test: (990, 138) Validation (991, 138)\n",
      "\n",
      "\n",
      "\n",
      "FINAL\n",
      "Train: (169807, 138) Test: (41820, 138) Validation (41838, 138)\n"
     ]
    }
   ],
   "source": [
    "from sklearn.model_selection import train_test_split\n",
    "\n",
    "indicies = ['frame'] + ['x_{0}'.format(i) for i in range(0,68)] + ['y_{0}'.format(i) for i in range(0,68)]\n",
    "\n",
    "flag = True\n",
    "Train = None\n",
    "Test = None\n",
    "Valid = None\n",
    "\n",
    "for f in tqdm(list(files)):\n",
    "    \n",
    "    # Load CSV\n",
    "    print(f)\n",
    "    df = pd.read_csv(\n",
    "            os.path.join(path,f), \n",
    "            error_bad_lines=False, \n",
    "            warn_bad_lines=True)\n",
    "    \n",
    "    face_lmk = df[indicies]\n",
    "    \n",
    "    # Filter NaN rows\n",
    "    nans = df[df[indicies].isnull().any(axis=1)]\n",
    "    if not nans.empty:\n",
    "        dropList = nans.index.tolist()\n",
    "        for r in dropList:\n",
    "            warnings.warn('Dropping row due to NaN, {0}'.format(r))\n",
    "        face_lmk.drop(dropList, inplace=True)\n",
    "        \n",
    "    face_lmk.insert(0,'filename',[f for i in range(0,face_lmk.shape[0])],True)\n",
    "        \n",
    "    print('Full:',face_lmk.shape)\n",
    "    \n",
    "    # Create Training, Test, Validation subsets\n",
    "    train, tmp = train_test_split(face_lmk, test_size=0.33)\n",
    "    test, val = train_test_split(tmp, test_size=0.5)\n",
    "    print('Train:',train.shape,'Test:',test.shape,'Validation',val.shape)\n",
    "    \n",
    "    if flag:\n",
    "        flag = False\n",
    "        Train = train\n",
    "        Test = test\n",
    "        Valid = val\n",
    "    else:\n",
    "        Train = Train.append(train)\n",
    "        Test = Test.append(test)\n",
    "        Valid = Valid.append(val)\n",
    "\n",
    "# Final Dataset (shuffled)\n",
    "Train = Train.sample(frac=1).reset_index(drop=True)\n",
    "Test = Test.sample(frac=1).reset_index(drop=True)\n",
    "Valid = Valid.sample(frac=1).reset_index(drop=True)\n",
    "\n",
    "print('\\n\\nFINAL')\n",
    "print('Train:',Train.shape,'Test:',Test.shape,'Validation',Valid.shape)"
   ]
  },
  {
   "cell_type": "code",
   "execution_count": 5,
   "metadata": {},
   "outputs": [
    {
     "data": {
      "text/html": [
       "<div>\n",
       "<style scoped>\n",
       "    .dataframe tbody tr th:only-of-type {\n",
       "        vertical-align: middle;\n",
       "    }\n",
       "\n",
       "    .dataframe tbody tr th {\n",
       "        vertical-align: top;\n",
       "    }\n",
       "\n",
       "    .dataframe thead th {\n",
       "        text-align: right;\n",
       "    }\n",
       "</style>\n",
       "<table border=\"1\" class=\"dataframe\">\n",
       "  <thead>\n",
       "    <tr style=\"text-align: right;\">\n",
       "      <th></th>\n",
       "      <th>filename</th>\n",
       "      <th>frame</th>\n",
       "      <th>x_0</th>\n",
       "      <th>x_1</th>\n",
       "      <th>x_2</th>\n",
       "      <th>x_3</th>\n",
       "      <th>x_4</th>\n",
       "      <th>x_5</th>\n",
       "      <th>x_6</th>\n",
       "      <th>x_7</th>\n",
       "      <th>...</th>\n",
       "      <th>y_58</th>\n",
       "      <th>y_59</th>\n",
       "      <th>y_60</th>\n",
       "      <th>y_61</th>\n",
       "      <th>y_62</th>\n",
       "      <th>y_63</th>\n",
       "      <th>y_64</th>\n",
       "      <th>y_65</th>\n",
       "      <th>y_66</th>\n",
       "      <th>y_67</th>\n",
       "    </tr>\n",
       "  </thead>\n",
       "  <tbody>\n",
       "    <tr>\n",
       "      <td>0</td>\n",
       "      <td>0502_sandwich_cut.csv</td>\n",
       "      <td>1636.0</td>\n",
       "      <td>682.4</td>\n",
       "      <td>688.5</td>\n",
       "      <td>697.3</td>\n",
       "      <td>710.3</td>\n",
       "      <td>730.5</td>\n",
       "      <td>760.0</td>\n",
       "      <td>793.6</td>\n",
       "      <td>831.8</td>\n",
       "      <td>...</td>\n",
       "      <td>836.5</td>\n",
       "      <td>826.6</td>\n",
       "      <td>804.6</td>\n",
       "      <td>808.0</td>\n",
       "      <td>809.5</td>\n",
       "      <td>806.5</td>\n",
       "      <td>794.7</td>\n",
       "      <td>809.7</td>\n",
       "      <td>811.8</td>\n",
       "      <td>809.8</td>\n",
       "    </tr>\n",
       "    <tr>\n",
       "      <td>1</td>\n",
       "      <td>0901_sandwich_cut.csv</td>\n",
       "      <td>12997.0</td>\n",
       "      <td>655.7</td>\n",
       "      <td>655.0</td>\n",
       "      <td>660.6</td>\n",
       "      <td>674.0</td>\n",
       "      <td>689.9</td>\n",
       "      <td>713.9</td>\n",
       "      <td>742.8</td>\n",
       "      <td>777.2</td>\n",
       "      <td>...</td>\n",
       "      <td>852.3</td>\n",
       "      <td>845.4</td>\n",
       "      <td>831.1</td>\n",
       "      <td>830.0</td>\n",
       "      <td>831.5</td>\n",
       "      <td>830.1</td>\n",
       "      <td>822.1</td>\n",
       "      <td>829.7</td>\n",
       "      <td>830.7</td>\n",
       "      <td>828.6</td>\n",
       "    </tr>\n",
       "    <tr>\n",
       "      <td>2</td>\n",
       "      <td>Sona0402_sandwich_cut.csv</td>\n",
       "      <td>2290.0</td>\n",
       "      <td>980.5</td>\n",
       "      <td>992.9</td>\n",
       "      <td>1008.2</td>\n",
       "      <td>1023.5</td>\n",
       "      <td>1043.3</td>\n",
       "      <td>1068.6</td>\n",
       "      <td>1093.6</td>\n",
       "      <td>1121.0</td>\n",
       "      <td>...</td>\n",
       "      <td>575.6</td>\n",
       "      <td>573.0</td>\n",
       "      <td>558.6</td>\n",
       "      <td>555.2</td>\n",
       "      <td>555.5</td>\n",
       "      <td>550.8</td>\n",
       "      <td>546.7</td>\n",
       "      <td>553.5</td>\n",
       "      <td>558.9</td>\n",
       "      <td>558.8</td>\n",
       "    </tr>\n",
       "    <tr>\n",
       "      <td>3</td>\n",
       "      <td>sona0102_sandwich_cut.csv</td>\n",
       "      <td>1570.0</td>\n",
       "      <td>809.6</td>\n",
       "      <td>804.3</td>\n",
       "      <td>805.0</td>\n",
       "      <td>810.2</td>\n",
       "      <td>820.0</td>\n",
       "      <td>839.6</td>\n",
       "      <td>856.4</td>\n",
       "      <td>877.9</td>\n",
       "      <td>...</td>\n",
       "      <td>825.1</td>\n",
       "      <td>807.9</td>\n",
       "      <td>786.5</td>\n",
       "      <td>799.2</td>\n",
       "      <td>809.3</td>\n",
       "      <td>813.2</td>\n",
       "      <td>815.3</td>\n",
       "      <td>816.8</td>\n",
       "      <td>813.1</td>\n",
       "      <td>802.7</td>\n",
       "    </tr>\n",
       "    <tr>\n",
       "      <td>4</td>\n",
       "      <td>0802_sandwich_cut.csv</td>\n",
       "      <td>6327.0</td>\n",
       "      <td>731.8</td>\n",
       "      <td>719.3</td>\n",
       "      <td>712.8</td>\n",
       "      <td>715.8</td>\n",
       "      <td>717.7</td>\n",
       "      <td>719.3</td>\n",
       "      <td>719.9</td>\n",
       "      <td>723.1</td>\n",
       "      <td>...</td>\n",
       "      <td>450.6</td>\n",
       "      <td>444.1</td>\n",
       "      <td>434.6</td>\n",
       "      <td>433.9</td>\n",
       "      <td>436.5</td>\n",
       "      <td>438.4</td>\n",
       "      <td>448.5</td>\n",
       "      <td>442.3</td>\n",
       "      <td>439.6</td>\n",
       "      <td>435.8</td>\n",
       "    </tr>\n",
       "  </tbody>\n",
       "</table>\n",
       "<p>5 rows × 138 columns</p>\n",
       "</div>"
      ],
      "text/plain": [
       "                    filename    frame    x_0    x_1     x_2     x_3     x_4  \\\n",
       "0      0502_sandwich_cut.csv   1636.0  682.4  688.5   697.3   710.3   730.5   \n",
       "1      0901_sandwich_cut.csv  12997.0  655.7  655.0   660.6   674.0   689.9   \n",
       "2  Sona0402_sandwich_cut.csv   2290.0  980.5  992.9  1008.2  1023.5  1043.3   \n",
       "3  sona0102_sandwich_cut.csv   1570.0  809.6  804.3   805.0   810.2   820.0   \n",
       "4      0802_sandwich_cut.csv   6327.0  731.8  719.3   712.8   715.8   717.7   \n",
       "\n",
       "      x_5     x_6     x_7  ...   y_58   y_59   y_60   y_61   y_62   y_63  \\\n",
       "0   760.0   793.6   831.8  ...  836.5  826.6  804.6  808.0  809.5  806.5   \n",
       "1   713.9   742.8   777.2  ...  852.3  845.4  831.1  830.0  831.5  830.1   \n",
       "2  1068.6  1093.6  1121.0  ...  575.6  573.0  558.6  555.2  555.5  550.8   \n",
       "3   839.6   856.4   877.9  ...  825.1  807.9  786.5  799.2  809.3  813.2   \n",
       "4   719.3   719.9   723.1  ...  450.6  444.1  434.6  433.9  436.5  438.4   \n",
       "\n",
       "    y_64   y_65   y_66   y_67  \n",
       "0  794.7  809.7  811.8  809.8  \n",
       "1  822.1  829.7  830.7  828.6  \n",
       "2  546.7  553.5  558.9  558.8  \n",
       "3  815.3  816.8  813.1  802.7  \n",
       "4  448.5  442.3  439.6  435.8  \n",
       "\n",
       "[5 rows x 138 columns]"
      ]
     },
     "execution_count": 5,
     "metadata": {},
     "output_type": "execute_result"
    }
   ],
   "source": [
    "Train.head()"
   ]
  },
  {
   "cell_type": "code",
   "execution_count": 6,
   "metadata": {},
   "outputs": [
    {
     "data": {
      "text/html": [
       "<div>\n",
       "<style scoped>\n",
       "    .dataframe tbody tr th:only-of-type {\n",
       "        vertical-align: middle;\n",
       "    }\n",
       "\n",
       "    .dataframe tbody tr th {\n",
       "        vertical-align: top;\n",
       "    }\n",
       "\n",
       "    .dataframe thead th {\n",
       "        text-align: right;\n",
       "    }\n",
       "</style>\n",
       "<table border=\"1\" class=\"dataframe\">\n",
       "  <thead>\n",
       "    <tr style=\"text-align: right;\">\n",
       "      <th></th>\n",
       "      <th>filename</th>\n",
       "      <th>frame</th>\n",
       "      <th>x_0</th>\n",
       "      <th>x_1</th>\n",
       "      <th>x_2</th>\n",
       "      <th>x_3</th>\n",
       "      <th>x_4</th>\n",
       "      <th>x_5</th>\n",
       "      <th>x_6</th>\n",
       "      <th>x_7</th>\n",
       "      <th>...</th>\n",
       "      <th>y_58</th>\n",
       "      <th>y_59</th>\n",
       "      <th>y_60</th>\n",
       "      <th>y_61</th>\n",
       "      <th>y_62</th>\n",
       "      <th>y_63</th>\n",
       "      <th>y_64</th>\n",
       "      <th>y_65</th>\n",
       "      <th>y_66</th>\n",
       "      <th>y_67</th>\n",
       "    </tr>\n",
       "  </thead>\n",
       "  <tbody>\n",
       "    <tr>\n",
       "      <td>0</td>\n",
       "      <td>0302_sandwich_cut.csv</td>\n",
       "      <td>5512.0</td>\n",
       "      <td>612.1</td>\n",
       "      <td>615.9</td>\n",
       "      <td>622.6</td>\n",
       "      <td>632.9</td>\n",
       "      <td>645.8</td>\n",
       "      <td>660.3</td>\n",
       "      <td>674.8</td>\n",
       "      <td>689.7</td>\n",
       "      <td>...</td>\n",
       "      <td>734.9</td>\n",
       "      <td>730.2</td>\n",
       "      <td>721.7</td>\n",
       "      <td>724.2</td>\n",
       "      <td>724.4</td>\n",
       "      <td>722.3</td>\n",
       "      <td>713.2</td>\n",
       "      <td>722.3</td>\n",
       "      <td>723.9</td>\n",
       "      <td>723.4</td>\n",
       "    </tr>\n",
       "    <tr>\n",
       "      <td>1</td>\n",
       "      <td>1301_sandwich_cut.csv</td>\n",
       "      <td>2999.0</td>\n",
       "      <td>765.3</td>\n",
       "      <td>766.0</td>\n",
       "      <td>772.0</td>\n",
       "      <td>781.2</td>\n",
       "      <td>793.8</td>\n",
       "      <td>812.6</td>\n",
       "      <td>832.6</td>\n",
       "      <td>857.8</td>\n",
       "      <td>...</td>\n",
       "      <td>456.5</td>\n",
       "      <td>451.1</td>\n",
       "      <td>438.5</td>\n",
       "      <td>437.2</td>\n",
       "      <td>438.7</td>\n",
       "      <td>437.5</td>\n",
       "      <td>439.7</td>\n",
       "      <td>439.7</td>\n",
       "      <td>440.4</td>\n",
       "      <td>438.7</td>\n",
       "    </tr>\n",
       "    <tr>\n",
       "      <td>2</td>\n",
       "      <td>1502_sandwich_cut.csv</td>\n",
       "      <td>3139.0</td>\n",
       "      <td>792.2</td>\n",
       "      <td>786.4</td>\n",
       "      <td>787.9</td>\n",
       "      <td>795.1</td>\n",
       "      <td>801.1</td>\n",
       "      <td>810.9</td>\n",
       "      <td>823.9</td>\n",
       "      <td>838.5</td>\n",
       "      <td>...</td>\n",
       "      <td>744.7</td>\n",
       "      <td>736.1</td>\n",
       "      <td>721.1</td>\n",
       "      <td>724.1</td>\n",
       "      <td>728.3</td>\n",
       "      <td>729.6</td>\n",
       "      <td>733.8</td>\n",
       "      <td>731.1</td>\n",
       "      <td>730.0</td>\n",
       "      <td>725.6</td>\n",
       "    </tr>\n",
       "    <tr>\n",
       "      <td>3</td>\n",
       "      <td>1401_sandwich_cut.csv</td>\n",
       "      <td>3219.0</td>\n",
       "      <td>758.6</td>\n",
       "      <td>766.2</td>\n",
       "      <td>779.2</td>\n",
       "      <td>797.7</td>\n",
       "      <td>815.8</td>\n",
       "      <td>837.1</td>\n",
       "      <td>855.8</td>\n",
       "      <td>876.0</td>\n",
       "      <td>...</td>\n",
       "      <td>602.8</td>\n",
       "      <td>599.1</td>\n",
       "      <td>589.7</td>\n",
       "      <td>588.0</td>\n",
       "      <td>587.1</td>\n",
       "      <td>583.6</td>\n",
       "      <td>569.8</td>\n",
       "      <td>586.0</td>\n",
       "      <td>589.5</td>\n",
       "      <td>590.2</td>\n",
       "    </tr>\n",
       "    <tr>\n",
       "      <td>4</td>\n",
       "      <td>0602_sandwich_cut.csv</td>\n",
       "      <td>5131.0</td>\n",
       "      <td>768.2</td>\n",
       "      <td>775.0</td>\n",
       "      <td>788.2</td>\n",
       "      <td>806.4</td>\n",
       "      <td>822.4</td>\n",
       "      <td>838.2</td>\n",
       "      <td>850.6</td>\n",
       "      <td>867.8</td>\n",
       "      <td>...</td>\n",
       "      <td>609.3</td>\n",
       "      <td>604.4</td>\n",
       "      <td>595.2</td>\n",
       "      <td>593.7</td>\n",
       "      <td>593.7</td>\n",
       "      <td>592.2</td>\n",
       "      <td>583.2</td>\n",
       "      <td>593.1</td>\n",
       "      <td>594.1</td>\n",
       "      <td>593.6</td>\n",
       "    </tr>\n",
       "  </tbody>\n",
       "</table>\n",
       "<p>5 rows × 138 columns</p>\n",
       "</div>"
      ],
      "text/plain": [
       "                filename   frame    x_0    x_1    x_2    x_3    x_4    x_5  \\\n",
       "0  0302_sandwich_cut.csv  5512.0  612.1  615.9  622.6  632.9  645.8  660.3   \n",
       "1  1301_sandwich_cut.csv  2999.0  765.3  766.0  772.0  781.2  793.8  812.6   \n",
       "2  1502_sandwich_cut.csv  3139.0  792.2  786.4  787.9  795.1  801.1  810.9   \n",
       "3  1401_sandwich_cut.csv  3219.0  758.6  766.2  779.2  797.7  815.8  837.1   \n",
       "4  0602_sandwich_cut.csv  5131.0  768.2  775.0  788.2  806.4  822.4  838.2   \n",
       "\n",
       "     x_6    x_7  ...   y_58   y_59   y_60   y_61   y_62   y_63   y_64   y_65  \\\n",
       "0  674.8  689.7  ...  734.9  730.2  721.7  724.2  724.4  722.3  713.2  722.3   \n",
       "1  832.6  857.8  ...  456.5  451.1  438.5  437.2  438.7  437.5  439.7  439.7   \n",
       "2  823.9  838.5  ...  744.7  736.1  721.1  724.1  728.3  729.6  733.8  731.1   \n",
       "3  855.8  876.0  ...  602.8  599.1  589.7  588.0  587.1  583.6  569.8  586.0   \n",
       "4  850.6  867.8  ...  609.3  604.4  595.2  593.7  593.7  592.2  583.2  593.1   \n",
       "\n",
       "    y_66   y_67  \n",
       "0  723.9  723.4  \n",
       "1  440.4  438.7  \n",
       "2  730.0  725.6  \n",
       "3  589.5  590.2  \n",
       "4  594.1  593.6  \n",
       "\n",
       "[5 rows x 138 columns]"
      ]
     },
     "execution_count": 6,
     "metadata": {},
     "output_type": "execute_result"
    }
   ],
   "source": [
    "Test.head()"
   ]
  },
  {
   "cell_type": "code",
   "execution_count": 7,
   "metadata": {},
   "outputs": [
    {
     "data": {
      "text/html": [
       "<div>\n",
       "<style scoped>\n",
       "    .dataframe tbody tr th:only-of-type {\n",
       "        vertical-align: middle;\n",
       "    }\n",
       "\n",
       "    .dataframe tbody tr th {\n",
       "        vertical-align: top;\n",
       "    }\n",
       "\n",
       "    .dataframe thead th {\n",
       "        text-align: right;\n",
       "    }\n",
       "</style>\n",
       "<table border=\"1\" class=\"dataframe\">\n",
       "  <thead>\n",
       "    <tr style=\"text-align: right;\">\n",
       "      <th></th>\n",
       "      <th>filename</th>\n",
       "      <th>frame</th>\n",
       "      <th>x_0</th>\n",
       "      <th>x_1</th>\n",
       "      <th>x_2</th>\n",
       "      <th>x_3</th>\n",
       "      <th>x_4</th>\n",
       "      <th>x_5</th>\n",
       "      <th>x_6</th>\n",
       "      <th>x_7</th>\n",
       "      <th>...</th>\n",
       "      <th>y_58</th>\n",
       "      <th>y_59</th>\n",
       "      <th>y_60</th>\n",
       "      <th>y_61</th>\n",
       "      <th>y_62</th>\n",
       "      <th>y_63</th>\n",
       "      <th>y_64</th>\n",
       "      <th>y_65</th>\n",
       "      <th>y_66</th>\n",
       "      <th>y_67</th>\n",
       "    </tr>\n",
       "  </thead>\n",
       "  <tbody>\n",
       "    <tr>\n",
       "      <td>0</td>\n",
       "      <td>0101_sandwich_cut.csv</td>\n",
       "      <td>1232.0</td>\n",
       "      <td>730.7</td>\n",
       "      <td>727.4</td>\n",
       "      <td>729.1</td>\n",
       "      <td>735.9</td>\n",
       "      <td>744.0</td>\n",
       "      <td>754.4</td>\n",
       "      <td>765.8</td>\n",
       "      <td>779.0</td>\n",
       "      <td>...</td>\n",
       "      <td>379.7</td>\n",
       "      <td>375.2</td>\n",
       "      <td>364.6</td>\n",
       "      <td>364.1</td>\n",
       "      <td>365.1</td>\n",
       "      <td>364.6</td>\n",
       "      <td>364.4</td>\n",
       "      <td>367.2</td>\n",
       "      <td>367.4</td>\n",
       "      <td>366.0</td>\n",
       "    </tr>\n",
       "    <tr>\n",
       "      <td>1</td>\n",
       "      <td>0702_sandwich_cut.csv</td>\n",
       "      <td>3834.0</td>\n",
       "      <td>917.5</td>\n",
       "      <td>920.0</td>\n",
       "      <td>929.3</td>\n",
       "      <td>946.0</td>\n",
       "      <td>961.0</td>\n",
       "      <td>979.3</td>\n",
       "      <td>996.8</td>\n",
       "      <td>1018.4</td>\n",
       "      <td>...</td>\n",
       "      <td>563.3</td>\n",
       "      <td>558.3</td>\n",
       "      <td>546.4</td>\n",
       "      <td>546.1</td>\n",
       "      <td>547.3</td>\n",
       "      <td>546.3</td>\n",
       "      <td>538.5</td>\n",
       "      <td>547.4</td>\n",
       "      <td>547.9</td>\n",
       "      <td>545.9</td>\n",
       "    </tr>\n",
       "    <tr>\n",
       "      <td>2</td>\n",
       "      <td>0601_sandwich_cut.csv</td>\n",
       "      <td>7980.0</td>\n",
       "      <td>211.3</td>\n",
       "      <td>202.3</td>\n",
       "      <td>206.1</td>\n",
       "      <td>227.2</td>\n",
       "      <td>254.2</td>\n",
       "      <td>303.0</td>\n",
       "      <td>356.0</td>\n",
       "      <td>405.8</td>\n",
       "      <td>...</td>\n",
       "      <td>821.2</td>\n",
       "      <td>806.7</td>\n",
       "      <td>768.8</td>\n",
       "      <td>782.9</td>\n",
       "      <td>790.9</td>\n",
       "      <td>792.4</td>\n",
       "      <td>789.6</td>\n",
       "      <td>802.6</td>\n",
       "      <td>802.5</td>\n",
       "      <td>795.0</td>\n",
       "    </tr>\n",
       "    <tr>\n",
       "      <td>3</td>\n",
       "      <td>1101_sandwich_cut.csv</td>\n",
       "      <td>6067.0</td>\n",
       "      <td>721.1</td>\n",
       "      <td>747.2</td>\n",
       "      <td>777.3</td>\n",
       "      <td>812.0</td>\n",
       "      <td>855.9</td>\n",
       "      <td>902.6</td>\n",
       "      <td>957.5</td>\n",
       "      <td>1010.7</td>\n",
       "      <td>...</td>\n",
       "      <td>940.7</td>\n",
       "      <td>945.9</td>\n",
       "      <td>930.2</td>\n",
       "      <td>913.0</td>\n",
       "      <td>906.3</td>\n",
       "      <td>898.1</td>\n",
       "      <td>889.3</td>\n",
       "      <td>903.0</td>\n",
       "      <td>912.2</td>\n",
       "      <td>918.2</td>\n",
       "    </tr>\n",
       "    <tr>\n",
       "      <td>4</td>\n",
       "      <td>1402_sandwich_cut.csv</td>\n",
       "      <td>1972.0</td>\n",
       "      <td>886.8</td>\n",
       "      <td>885.9</td>\n",
       "      <td>887.1</td>\n",
       "      <td>890.3</td>\n",
       "      <td>896.1</td>\n",
       "      <td>905.4</td>\n",
       "      <td>915.3</td>\n",
       "      <td>926.9</td>\n",
       "      <td>...</td>\n",
       "      <td>458.1</td>\n",
       "      <td>451.4</td>\n",
       "      <td>439.8</td>\n",
       "      <td>446.0</td>\n",
       "      <td>448.2</td>\n",
       "      <td>447.7</td>\n",
       "      <td>444.3</td>\n",
       "      <td>448.7</td>\n",
       "      <td>449.1</td>\n",
       "      <td>447.0</td>\n",
       "    </tr>\n",
       "  </tbody>\n",
       "</table>\n",
       "<p>5 rows × 138 columns</p>\n",
       "</div>"
      ],
      "text/plain": [
       "                filename   frame    x_0    x_1    x_2    x_3    x_4    x_5  \\\n",
       "0  0101_sandwich_cut.csv  1232.0  730.7  727.4  729.1  735.9  744.0  754.4   \n",
       "1  0702_sandwich_cut.csv  3834.0  917.5  920.0  929.3  946.0  961.0  979.3   \n",
       "2  0601_sandwich_cut.csv  7980.0  211.3  202.3  206.1  227.2  254.2  303.0   \n",
       "3  1101_sandwich_cut.csv  6067.0  721.1  747.2  777.3  812.0  855.9  902.6   \n",
       "4  1402_sandwich_cut.csv  1972.0  886.8  885.9  887.1  890.3  896.1  905.4   \n",
       "\n",
       "     x_6     x_7  ...   y_58   y_59   y_60   y_61   y_62   y_63   y_64   y_65  \\\n",
       "0  765.8   779.0  ...  379.7  375.2  364.6  364.1  365.1  364.6  364.4  367.2   \n",
       "1  996.8  1018.4  ...  563.3  558.3  546.4  546.1  547.3  546.3  538.5  547.4   \n",
       "2  356.0   405.8  ...  821.2  806.7  768.8  782.9  790.9  792.4  789.6  802.6   \n",
       "3  957.5  1010.7  ...  940.7  945.9  930.2  913.0  906.3  898.1  889.3  903.0   \n",
       "4  915.3   926.9  ...  458.1  451.4  439.8  446.0  448.2  447.7  444.3  448.7   \n",
       "\n",
       "    y_66   y_67  \n",
       "0  367.4  366.0  \n",
       "1  547.9  545.9  \n",
       "2  802.5  795.0  \n",
       "3  912.2  918.2  \n",
       "4  449.1  447.0  \n",
       "\n",
       "[5 rows x 138 columns]"
      ]
     },
     "execution_count": 7,
     "metadata": {},
     "output_type": "execute_result"
    }
   ],
   "source": [
    "Valid.head()"
   ]
  },
  {
   "cell_type": "markdown",
   "metadata": {},
   "source": [
    "Saving to disk"
   ]
  },
  {
   "cell_type": "code",
   "execution_count": 8,
   "metadata": {},
   "outputs": [],
   "source": [
    "save_path = './data/tmp_analysis/{0}'.format(task_name)\n",
    "save_train_path = save_path + '_train.csv'\n",
    "save_test_path = save_path + '_test.csv'\n",
    "save_valid_path = save_path + '_valid.csv'\n",
    "\n",
    "\n",
    "Train.to_csv(save_train_path)\n",
    "Test.to_csv(save_test_path)\n",
    "Valid.to_csv(save_valid_path)"
   ]
  },
  {
   "cell_type": "markdown",
   "metadata": {},
   "source": [
    "## PCA Fit\n",
    "I found 32 components to be roughly the inflection curve.\n",
    "I am also creating an 18  component variant just in case we want a direct comparison with action units"
   ]
  },
  {
   "cell_type": "code",
   "execution_count": 9,
   "metadata": {},
   "outputs": [],
   "source": [
    "import pickle\n",
    "from sklearn.decomposition import PCA"
   ]
  },
  {
   "cell_type": "code",
   "execution_count": 10,
   "metadata": {},
   "outputs": [],
   "source": [
    "save_path = './data/tmp_analysis/{0}'.format(task_name)\n",
    "save_train_path = save_path + '_train.csv'\n",
    "save_test_path = save_path + '_test.csv'\n",
    "save_valid_path = save_path + '_valid.csv'\n",
    "\n",
    "\n",
    "Train = pd.read_csv(save_train_path)\n",
    "Test = pd.read_csv(save_test_path)\n",
    "Valid = pd.read_csv(save_valid_path)"
   ]
  },
  {
   "cell_type": "code",
   "execution_count": 11,
   "metadata": {},
   "outputs": [],
   "source": [
    "X = Train.to_numpy()[:,3:]"
   ]
  },
  {
   "cell_type": "code",
   "execution_count": 12,
   "metadata": {},
   "outputs": [
    {
     "name": "stdout",
     "output_type": "stream",
     "text": [
      "[3.14004521e+06 1.15850375e+06 6.29960232e+04 2.88934387e+04\n",
      " 1.32535925e+04 7.62428772e+03 4.51251341e+03 1.85471164e+03\n",
      " 1.25396716e+03 8.16399105e+02 6.63457105e+02 5.54725996e+02\n",
      " 4.57582547e+02 3.25361786e+02 3.01435581e+02 2.52067251e+02\n",
      " 1.81062244e+02 1.54496742e+02 1.31638205e+02 1.10063998e+02\n",
      " 1.00150528e+02 8.13129351e+01 7.75872495e+01 6.82748695e+01\n",
      " 5.37151632e+01 4.82361304e+01 4.48725793e+01 3.74356637e+01\n",
      " 2.86976243e+01 2.78240086e+01 2.51847894e+01 2.04509071e+01]\n"
     ]
    }
   ],
   "source": [
    "pca_n_32 = PCA(n_components=32)\n",
    "face_pca_n_32 = pca_n_32.fit(X)\n",
    "\n",
    "print(face_pca_n_32.explained_variance_)"
   ]
  },
  {
   "cell_type": "code",
   "execution_count": 13,
   "metadata": {},
   "outputs": [],
   "source": [
    "pickle.dump(face_pca_n_32,open(model_path+'pca_n_32.p','wb'))"
   ]
  },
  {
   "cell_type": "code",
   "execution_count": 14,
   "metadata": {},
   "outputs": [
    {
     "name": "stdout",
     "output_type": "stream",
     "text": [
      "[3140045.20701915 1158503.75409678   62996.02317359   28893.43874781\n",
      "   13253.59251709]\n"
     ]
    }
   ],
   "source": [
    "pca_n_5 = PCA(n_components=5)\n",
    "face_pca_n_5 = pca_n_5.fit(X)\n",
    "\n",
    "print(face_pca_n_5.explained_variance_)"
   ]
  },
  {
   "cell_type": "code",
   "execution_count": 15,
   "metadata": {},
   "outputs": [],
   "source": [
    "pickle.dump(face_pca_n_5,open(model_path+'pca_n_5.p','wb'))"
   ]
  },
  {
   "cell_type": "markdown",
   "metadata": {},
   "source": [
    "# Autoencoder\n",
    "Right now just doing a single layer \n",
    "Perhaps we can try a two layer encoder / two layer decoder next?"
   ]
  },
  {
   "cell_type": "markdown",
   "metadata": {},
   "source": [
    "32 Wide encoder"
   ]
  },
  {
   "cell_type": "code",
   "execution_count": 16,
   "metadata": {},
   "outputs": [
    {
     "name": "stderr",
     "output_type": "stream",
     "text": [
      "Using TensorFlow backend.\n"
     ]
    }
   ],
   "source": [
    "import keras\n",
    "from keras import layers\n",
    "\n",
    "import matplotlib.pyplot as plt"
   ]
  },
  {
   "cell_type": "code",
   "execution_count": 17,
   "metadata": {},
   "outputs": [],
   "source": [
    "X = Train.to_numpy()[:,3:]\n",
    "Xtest = Test.to_numpy()[:,3:]\n",
    "Xvalid = Valid.to_numpy()[:,3:]"
   ]
  },
  {
   "cell_type": "code",
   "execution_count": 18,
   "metadata": {},
   "outputs": [
    {
     "name": "stdout",
     "output_type": "stream",
     "text": [
      "(169807, 136)\n"
     ]
    }
   ],
   "source": [
    "print(X.shape)"
   ]
  },
  {
   "cell_type": "code",
   "execution_count": 19,
   "metadata": {},
   "outputs": [
    {
     "name": "stdout",
     "output_type": "stream",
     "text": [
      "WARNING:tensorflow:From C:\\Users\\curth\\Anaconda3\\lib\\site-packages\\keras\\backend\\tensorflow_backend.py:74: The name tf.get_default_graph is deprecated. Please use tf.compat.v1.get_default_graph instead.\n",
      "\n",
      "WARNING:tensorflow:From C:\\Users\\curth\\Anaconda3\\lib\\site-packages\\keras\\backend\\tensorflow_backend.py:517: The name tf.placeholder is deprecated. Please use tf.compat.v1.placeholder instead.\n",
      "\n",
      "WARNING:tensorflow:From C:\\Users\\curth\\Anaconda3\\lib\\site-packages\\keras\\backend\\tensorflow_backend.py:4138: The name tf.random_uniform is deprecated. Please use tf.random.uniform instead.\n",
      "\n"
     ]
    }
   ],
   "source": [
    "input_dim = X.shape[1]\n",
    "encoding_dim = 32\n",
    "\n",
    "input_layer = keras.Input(shape=(input_dim,))\n",
    "encoded_layer = layers.Dense(encoding_dim, activation='relu')(input_layer)\n",
    "decoded_layer = layers.Dense(input_dim, activation='relu')(encoded_layer)\n",
    "\n",
    "autoencoder_32 = keras.Model(input_layer,decoded_layer)\n",
    "\n",
    "encoder_32 = keras.Model(input_layer, encoded_layer)"
   ]
  },
  {
   "cell_type": "code",
   "execution_count": 20,
   "metadata": {},
   "outputs": [
    {
     "name": "stdout",
     "output_type": "stream",
     "text": [
      "WARNING:tensorflow:From C:\\Users\\curth\\Anaconda3\\lib\\site-packages\\keras\\optimizers.py:790: The name tf.train.Optimizer is deprecated. Please use tf.compat.v1.train.Optimizer instead.\n",
      "\n",
      "WARNING:tensorflow:From C:\\Users\\curth\\Anaconda3\\lib\\site-packages\\keras\\backend\\tensorflow_backend.py:3376: The name tf.log is deprecated. Please use tf.math.log instead.\n",
      "\n",
      "WARNING:tensorflow:From C:\\Users\\curth\\Anaconda3\\lib\\site-packages\\tensorflow_core\\python\\ops\\nn_impl.py:183: where (from tensorflow.python.ops.array_ops) is deprecated and will be removed in a future version.\n",
      "Instructions for updating:\n",
      "Use tf.where in 2.0, which has the same broadcast rule as np.where\n"
     ]
    }
   ],
   "source": [
    "autoencoder_32.compile(optimizer='adam',\n",
    "                    loss='binary_crossentropy')"
   ]
  },
  {
   "cell_type": "code",
   "execution_count": 21,
   "metadata": {},
   "outputs": [
    {
     "name": "stdout",
     "output_type": "stream",
     "text": [
      "_________________________________________________________________\n",
      "Layer (type)                 Output Shape              Param #   \n",
      "=================================================================\n",
      "input_1 (InputLayer)         (None, 136)               0         \n",
      "_________________________________________________________________\n",
      "dense_1 (Dense)              (None, 32)                4384      \n",
      "_________________________________________________________________\n",
      "dense_2 (Dense)              (None, 136)               4488      \n",
      "=================================================================\n",
      "Total params: 8,872\n",
      "Trainable params: 8,872\n",
      "Non-trainable params: 0\n",
      "_________________________________________________________________\n"
     ]
    }
   ],
   "source": [
    "autoencoder_32.summary()"
   ]
  },
  {
   "cell_type": "code",
   "execution_count": 22,
   "metadata": {},
   "outputs": [
    {
     "name": "stdout",
     "output_type": "stream",
     "text": [
      "WARNING:tensorflow:From C:\\Users\\curth\\Anaconda3\\lib\\site-packages\\keras\\backend\\tensorflow_backend.py:986: The name tf.assign_add is deprecated. Please use tf.compat.v1.assign_add instead.\n",
      "\n",
      "WARNING:tensorflow:From C:\\Users\\curth\\Anaconda3\\lib\\site-packages\\keras\\backend\\tensorflow_backend.py:973: The name tf.assign is deprecated. Please use tf.compat.v1.assign instead.\n",
      "\n",
      "WARNING:tensorflow:From C:\\Users\\curth\\Anaconda3\\lib\\site-packages\\keras\\backend\\tensorflow_backend.py:2741: The name tf.Session is deprecated. Please use tf.compat.v1.Session instead.\n",
      "\n",
      "WARNING:tensorflow:From C:\\Users\\curth\\Anaconda3\\lib\\site-packages\\keras\\backend\\tensorflow_backend.py:174: The name tf.get_default_session is deprecated. Please use tf.compat.v1.get_default_session instead.\n",
      "\n",
      "WARNING:tensorflow:From C:\\Users\\curth\\Anaconda3\\lib\\site-packages\\keras\\backend\\tensorflow_backend.py:181: The name tf.ConfigProto is deprecated. Please use tf.compat.v1.ConfigProto instead.\n",
      "\n",
      "WARNING:tensorflow:From C:\\Users\\curth\\Anaconda3\\lib\\site-packages\\keras\\backend\\tensorflow_backend.py:190: The name tf.global_variables is deprecated. Please use tf.compat.v1.global_variables instead.\n",
      "\n",
      "WARNING:tensorflow:From C:\\Users\\curth\\Anaconda3\\lib\\site-packages\\keras\\backend\\tensorflow_backend.py:199: The name tf.is_variable_initialized is deprecated. Please use tf.compat.v1.is_variable_initialized instead.\n",
      "\n",
      "WARNING:tensorflow:From C:\\Users\\curth\\Anaconda3\\lib\\site-packages\\keras\\backend\\tensorflow_backend.py:206: The name tf.variables_initializer is deprecated. Please use tf.compat.v1.variables_initializer instead.\n",
      "\n"
     ]
    }
   ],
   "source": [
    "history = autoencoder_32.fit(X, X, epochs=4, batch_size=64, verbose=0, validation_data=(Xtest, Xtest))"
   ]
  },
  {
   "cell_type": "code",
   "execution_count": 23,
   "metadata": {},
   "outputs": [
    {
     "data": {
      "image/png": "[encoded data removed]",
      "text/plain": [
       "<Figure size 432x288 with 1 Axes>"
      ]
     },
     "metadata": {
      "needs_background": "light"
     },
     "output_type": "display_data"
    }
   ],
   "source": [
    "fig, ax = plt.subplots()\n",
    "\n",
    "plt.plot([0]+history.history['loss'], label='train')\n",
    "plt.plot([0]+history.history['val_loss'], label='test')\n",
    "plt.legend()\n",
    "plt.show()"
   ]
  },
  {
   "cell_type": "code",
   "execution_count": 24,
   "metadata": {},
   "outputs": [],
   "source": [
    "predictions = autoencoder_32.predict(Xvalid)\n",
    "# TODO I should probably do something with the validation set"
   ]
  },
  {
   "cell_type": "code",
   "execution_count": 25,
   "metadata": {},
   "outputs": [],
   "source": [
    "autoencoder_32.save(model_path + 'autoencoder_32.pb')\n",
    "encoder_32.save(model_path + 'encoder_32.pb')"
   ]
  },
  {
   "cell_type": "markdown",
   "metadata": {},
   "source": [
    "5 wide encoder"
   ]
  },
  {
   "cell_type": "code",
   "execution_count": 26,
   "metadata": {},
   "outputs": [],
   "source": [
    "import keras\n",
    "from keras import layers"
   ]
  },
  {
   "cell_type": "code",
   "execution_count": 27,
   "metadata": {},
   "outputs": [],
   "source": [
    "X = Train.to_numpy()[:,3:]\n",
    "Xtest = Test.to_numpy()[:,3:]\n",
    "Xvalid = Valid.to_numpy()[:,3:]"
   ]
  },
  {
   "cell_type": "code",
   "execution_count": 28,
   "metadata": {},
   "outputs": [],
   "source": [
    "input_dim = X.shape[1]\n",
    "encoding_dim = 5\n",
    "\n",
    "input_layer = keras.Input(shape=(input_dim,))\n",
    "encoded_layer = layers.Dense(encoding_dim, activation='relu')(input_layer)\n",
    "decoded_layer = layers.Dense(input_dim, activation='relu')(encoded_layer)\n",
    "\n",
    "autoencoder_5 = keras.Model(input_layer,decoded_layer)\n",
    "\n",
    "encoder_5 = keras.Model(input_layer, encoded_layer)"
   ]
  },
  {
   "cell_type": "code",
   "execution_count": 29,
   "metadata": {},
   "outputs": [],
   "source": [
    "autoencoder_5.compile(optimizer='adam',\n",
    "                    loss='binary_crossentropy')"
   ]
  },
  {
   "cell_type": "code",
   "execution_count": 30,
   "metadata": {},
   "outputs": [
    {
     "name": "stdout",
     "output_type": "stream",
     "text": [
      "_________________________________________________________________\n",
      "Layer (type)                 Output Shape              Param #   \n",
      "=================================================================\n",
      "input_2 (InputLayer)         (None, 136)               0         \n",
      "_________________________________________________________________\n",
      "dense_3 (Dense)              (None, 5)                 685       \n",
      "_________________________________________________________________\n",
      "dense_4 (Dense)              (None, 136)               816       \n",
      "=================================================================\n",
      "Total params: 1,501\n",
      "Trainable params: 1,501\n",
      "Non-trainable params: 0\n",
      "_________________________________________________________________\n"
     ]
    }
   ],
   "source": [
    "autoencoder_5.summary()"
   ]
  },
  {
   "cell_type": "code",
   "execution_count": 31,
   "metadata": {},
   "outputs": [],
   "source": [
    "history = autoencoder_5.fit(X, X, epochs=3, batch_size=64, verbose=0, validation_data=(Xtest, Xtest))"
   ]
  },
  {
   "cell_type": "code",
   "execution_count": 32,
   "metadata": {},
   "outputs": [
    {
     "data": {
      "image/png": "[encoded data removed]",
      "text/plain": [
       "<Figure size 432x288 with 1 Axes>"
      ]
     },
     "metadata": {
      "needs_background": "light"
     },
     "output_type": "display_data"
    }
   ],
   "source": [
    "fig, ax = plt.subplots()\n",
    "\n",
    "plt.plot([0]+history.history['loss'], label='train')\n",
    "plt.plot([0]+history.history['val_loss'], label='test')\n",
    "plt.legend()\n",
    "plt.show()"
   ]
  },
  {
   "cell_type": "code",
   "execution_count": 33,
   "metadata": {},
   "outputs": [],
   "source": [
    "predictions = autoencoder_5.predict(Xvalid)\n",
    "# TODO I should probably do something with the validation set"
   ]
  },
  {
   "cell_type": "code",
   "execution_count": 34,
   "metadata": {},
   "outputs": [],
   "source": [
    "autoencoder_5.save(model_path + 'autoencoder_5.pb')\n",
    "encoder_5.save(model_path + 'encoder_5.pb')"
   ]
  },
  {
   "cell_type": "markdown",
   "metadata": {},
   "source": [
    "## K-means\n",
    "Not sure what this is going to do \n",
    "(my guess is it is going to cluster similar participants)"
   ]
  },
  {
   "cell_type": "code",
   "execution_count": 35,
   "metadata": {},
   "outputs": [],
   "source": [
    "import matplotlib.pyplot as plt\n",
    "\n",
    "def visualize_labels(y):\n",
    "    idx = np.arange(len(y))\n",
    "\n",
    "    fig, (ax1,ax2) = plt.subplots(nrows=2, sharex=True)\n",
    "\n",
    "    ax1.imshow(y[np.newaxis,:], cmap=\"plasma\", aspect=\"auto\")\n",
    "    ax1.set_yticks([])\n",
    "\n",
    "    ax2.scatter(idx,y)\n",
    "\n",
    "    plt.tight_layout()\n",
    "    plt.show()"
   ]
  },
  {
   "cell_type": "code",
   "execution_count": 36,
   "metadata": {},
   "outputs": [],
   "source": [
    "from sklearn.cluster import KMeans"
   ]
  },
  {
   "cell_type": "code",
   "execution_count": 37,
   "metadata": {},
   "outputs": [],
   "source": [
    "X_pca = face_pca_n_32.transform(X)\n",
    "kmeans_5 = KMeans(n_clusters=5, random_state=0).fit(X_pca)"
   ]
  },
  {
   "cell_type": "code",
   "execution_count": 38,
   "metadata": {},
   "outputs": [
    {
     "data": {
      "image/png": "[encoded data removed]",
      "text/plain": [
       "<Figure size 432x288 with 2 Axes>"
      ]
     },
     "metadata": {
      "needs_background": "light"
     },
     "output_type": "display_data"
    }
   ],
   "source": [
    "y = kmeans_5.predict(face_pca_n_32.transform(Test.to_numpy()[:,3:]))\n",
    "visualize_labels(y)"
   ]
  },
  {
   "cell_type": "code",
   "execution_count": 39,
   "metadata": {},
   "outputs": [
    {
     "data": {
      "image/png": "[encoded data removed]",
      "text/plain": [
       "<Figure size 432x288 with 2 Axes>"
      ]
     },
     "metadata": {
      "needs_background": "light"
     },
     "output_type": "display_data"
    }
   ],
   "source": [
    "y = kmeans_5.predict(face_pca_n_32.transform(Valid.to_numpy()[:,3:]))\n",
    "visualize_labels(y)"
   ]
  },
  {
   "cell_type": "code",
   "execution_count": 40,
   "metadata": {},
   "outputs": [],
   "source": [
    "pickle.dump(kmeans_5,open(model_path+'kmeans_5_from_pca.p','wb'))"
   ]
  },
  {
   "cell_type": "markdown",
   "metadata": {},
   "source": [
    "   "
   ]
  },
  {
   "cell_type": "code",
   "execution_count": 41,
   "metadata": {},
   "outputs": [],
   "source": [
    "X_auto = encoder_32.predict(X)\n",
    "kmeans_5 = KMeans(n_clusters=5, random_state=0).fit(X_auto)"
   ]
  },
  {
   "cell_type": "code",
   "execution_count": 42,
   "metadata": {},
   "outputs": [
    {
     "data": {
      "image/png": "[encoded data removed]",
      "text/plain": [
       "<Figure size 432x288 with 2 Axes>"
      ]
     },
     "metadata": {
      "needs_background": "light"
     },
     "output_type": "display_data"
    }
   ],
   "source": [
    "y = kmeans_5.predict(encoder_32.predict(Test.to_numpy()[:,3:]))\n",
    "visualize_labels(y)"
   ]
  },
  {
   "cell_type": "code",
   "execution_count": 43,
   "metadata": {},
   "outputs": [
    {
     "data": {
      "image/png": "[encoded data removed]",
      "text/plain": [
       "<Figure size 432x288 with 2 Axes>"
      ]
     },
     "metadata": {
      "needs_background": "light"
     },
     "output_type": "display_data"
    }
   ],
   "source": [
    "y = kmeans_5.predict(encoder_32.predict(Valid.to_numpy()[:,3:]))\n",
    "visualize_labels(y)"
   ]
  },
  {
   "cell_type": "code",
   "execution_count": 44,
   "metadata": {},
   "outputs": [],
   "source": [
    "pickle.dump(kmeans_5,open(model_path+'kmeans_5_from_auto.p','wb'))"
   ]
  },
  {
   "cell_type": "markdown",
   "metadata": {},
   "source": [
    "## Model Comparisons\n",
    "Is there some way to perform a comparison across the models\n",
    "- PCA-n-5\n",
    "- PCA-n-32 -> KMeans-5-from-pca\n",
    "- Autoencoder-32 -> KMeans-5-from-autoencoder\n",
    "- Autoencoder-5"
   ]
  },
  {
   "cell_type": "code",
   "execution_count": null,
   "metadata": {},
   "outputs": [],
   "source": []
  }
 ],
 "metadata": {
  "kernelspec": {
   "display_name": "Python 3",
   "language": "python",
   "name": "python3"
  },
  "language_info": {
   "codemirror_mode": {
    "name": "ipython",
    "version": 3
   },
   "file_extension": ".py",
   "mimetype": "text/x-python",
   "name": "python",
   "nbconvert_exporter": "python",
   "pygments_lexer": "ipython3",
   "version": "3.7.4"
  }
 },
 "nbformat": 4,
 "nbformat_minor": 2
}
