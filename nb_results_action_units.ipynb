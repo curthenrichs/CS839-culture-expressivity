{
 "cells": [
  {
   "cell_type": "code",
   "execution_count": 1,
   "id": "c254a0a3",
   "metadata": {},
   "outputs": [
    {
     "name": "stdout",
     "output_type": "stream",
     "text": [
      "Importing the dtw module. When using in academic works please cite:\n",
      "  T. Giorgino. Computing and Visualizing Dynamic Time Warping Alignments in R: The dtw Package.\n",
      "  J. Stat. Soft., doi:10.18637/jss.v031.i07.\n",
      "\n"
     ]
    }
   ],
   "source": [
    "import os\n",
    "import pickle\n",
    "import warnings\n",
    "import numpy as np\n",
    "import pandas as pd\n",
    "import matplotlib.pyplot as plt\n",
    "\n",
    "from dtw import *\n",
    "from tqdm import tqdm_notebook as tqdm"
   ]
  },
  {
   "cell_type": "code",
   "execution_count": 2,
   "id": "1a1367b8",
   "metadata": {},
   "outputs": [],
   "source": [
    "def visualize_labels(y, alt=False):\n",
    "    color = 'cividis' if alt else 'plasma'\n",
    "    \n",
    "    idx = np.arange(len(y))\n",
    "\n",
    "    fig, ax1 = plt.subplots()\n",
    "\n",
    "    im = ax1.imshow(y[np.newaxis,:], cmap=color, aspect=\"auto\")\n",
    "    ax1.set_yticks([])\n",
    "    fig.colorbar(im, ax=ax1)\n",
    "\n",
    "    plt.tight_layout()\n",
    "    plt.show()"
   ]
  },
  {
   "cell_type": "code",
   "execution_count": 3,
   "id": "86db41c0",
   "metadata": {},
   "outputs": [],
   "source": [
    "def visualize_matrix(Y, alt=False):\n",
    "    color = 'cividis' if alt else 'plasma'\n",
    "    \n",
    "    fig, ax1 = plt.subplots()\n",
    "    \n",
    "    im = ax1.imshow(Y, cmap=color, interpolation='nearest', aspect=\"auto\")\n",
    "    fig.colorbar(im, ax=ax1)\n",
    "    \n",
    "    plt.tight_layout()\n",
    "    plt.show()"
   ]
  },
  {
   "cell_type": "code",
   "execution_count": 4,
   "id": "5e275adf",
   "metadata": {},
   "outputs": [],
   "source": [
    "#task = 'task1_sandwich_openface'\n",
    "task = 'task2_bart_openface'\n",
    "#task = 'task3_jenga_openface'\n",
    "\n",
    "model_path = './models/{0}/'.format(task)\n",
    "path = './data/openface/{0}/'.format(task)\n",
    "results_path = './data/final/{}_action_units.csv'.format(task)"
   ]
  },
  {
   "cell_type": "markdown",
   "id": "9733a396",
   "metadata": {},
   "source": [
    "## Pairs"
   ]
  },
  {
   "cell_type": "code",
   "execution_count": 5,
   "id": "2e3cb347",
   "metadata": {},
   "outputs": [],
   "source": [
    "num_paid_participants = 22\n",
    "num_sona_participants = 17\n",
    "\n",
    "task1_pairs = [('{0:02}01_sandwich_cut.csv'.format(i),'{0:02}02_sandwich_cut.csv'.format(i)) for i in range(1,num_paid_participants)]\n",
    "task1_pairs += [('Sona{0:02}01_sandwich_cut.csv'.format(i),'Sona{0:02}02_sandwich_cut.csv'.format(i)) for i in range(1,num_sona_participants)]\n",
    "\n",
    "task2_pairs = [('{0:02}01_bart_cut.csv'.format(i),'{0:02}02_bart_cut.csv'.format(i)) for i in range(1,num_paid_participants)]\n",
    "task2_pairs += [('Sona{0:02}01_bart_cut.csv'.format(i),'Sona{0:02}02_bart_cut.csv'.format(i)) for i in range(1,num_sona_participants)]\n",
    "\n",
    "task3_pairs = [('{0:02}01_jenga_cut.csv'.format(i),'{0:02}02_jenga_cut.csv'.format(i)) for i in range(1,num_paid_participants)]\n",
    "task3_pairs += [('Sona{0:02}01_jenga_cut.csv'.format(i),'Sona{0:02}02_jenga_cut.csv'.format(i)) for i in range(1,num_sona_participants)]\n",
    "\n",
    "pairs = {\n",
    "    'task1_sandwich_openface': task1_pairs,\n",
    "    'task2_bart_openface': task2_pairs,\n",
    "    'task3_jenga_openface': task3_pairs\n",
    "}"
   ]
  },
  {
   "cell_type": "markdown",
   "id": "4752f237",
   "metadata": {},
   "source": [
    "## Action Units"
   ]
  },
  {
   "cell_type": "code",
   "execution_count": 6,
   "id": "6ecfc6a2",
   "metadata": {},
   "outputs": [],
   "source": [
    "units = [1,2,4,5,7,9,10,12,14,15,17,20,23,25,26,45]\n",
    "au_indicies = ['AU{:02}_r'.format(units[i]) for i in range(0, len(units))]"
   ]
  },
  {
   "cell_type": "code",
   "execution_count": 7,
   "id": "12185205",
   "metadata": {},
   "outputs": [
    {
     "name": "stderr",
     "output_type": "stream",
     "text": [
      "/usr/local/lib/python3.6/dist-packages/ipykernel_launcher.py:2: TqdmDeprecationWarning: This function will be removed in tqdm==5.0.0\n",
      "Please use `tqdm.notebook.tqdm` instead of `tqdm.tqdm_notebook`\n",
      "  \n"
     ]
    },
    {
     "data": {
      "application/vnd.jupyter.widget-view+json": {
       "model_id": "38779928471744f990593b8e16d7cb7c",
       "version_major": 2,
       "version_minor": 0
      },
      "text/plain": [
       "  0%|          | 0/37 [00:00<?, ?it/s]"
      ]
     },
     "metadata": {},
     "output_type": "display_data"
    },
    {
     "name": "stdout",
     "output_type": "stream",
     "text": [
      "0101_bart_cut.csv 0102_bart_cut.csv\n",
      "running dtw\n",
      "0201_bart_cut.csv 0202_bart_cut.csv\n",
      "running dtw\n",
      "0301_bart_cut.csv 0302_bart_cut.csv\n"
     ]
    },
    {
     "name": "stderr",
     "output_type": "stream",
     "text": [
      "/usr/local/lib/python3.6/dist-packages/ipykernel_launcher.py:40: UserWarning: Dropping row due to NaN, 9935\n",
      "/usr/local/lib/python3.6/dist-packages/pandas/core/frame.py:4174: SettingWithCopyWarning: \n",
      "A value is trying to be set on a copy of a slice from a DataFrame\n",
      "\n",
      "See the caveats in the documentation: https://pandas.pydata.org/pandas-docs/stable/user_guide/indexing.html#returning-a-view-versus-a-copy\n",
      "  errors=errors,\n"
     ]
    },
    {
     "name": "stdout",
     "output_type": "stream",
     "text": [
      "0401_bart_cut.csv 0402_bart_cut.csv\n",
      "running dtw\n",
      "0501_bart_cut.csv 0502_bart_cut.csv\n",
      "running dtw\n",
      "0601_bart_cut.csv 0602_bart_cut.csv\n",
      "running dtw\n",
      "0701_bart_cut.csv 0702_bart_cut.csv\n",
      "running dtw\n",
      "0801_bart_cut.csv 0802_bart_cut.csv\n",
      "running dtw\n",
      "0901_bart_cut.csv 0902_bart_cut.csv\n",
      "1001_bart_cut.csv 1002_bart_cut.csv\n",
      "running dtw\n",
      "1101_bart_cut.csv 1102_bart_cut.csv\n",
      "running dtw\n",
      "1201_bart_cut.csv 1202_bart_cut.csv\n",
      "running dtw\n",
      "1301_bart_cut.csv 1302_bart_cut.csv\n",
      "running dtw\n",
      "1401_bart_cut.csv 1402_bart_cut.csv\n",
      "running dtw\n",
      "1501_bart_cut.csv 1502_bart_cut.csv\n",
      "1601_bart_cut.csv 1602_bart_cut.csv\n",
      "1701_bart_cut.csv 1702_bart_cut.csv\n",
      "1801_bart_cut.csv 1802_bart_cut.csv\n",
      "1901_bart_cut.csv 1902_bart_cut.csv\n",
      "2001_bart_cut.csv 2002_bart_cut.csv\n",
      "2101_bart_cut.csv 2102_bart_cut.csv\n",
      "Sona0101_bart_cut.csv Sona0102_bart_cut.csv\n",
      "running dtw\n",
      "Sona0201_bart_cut.csv Sona0202_bart_cut.csv\n",
      "running dtw\n",
      "Sona0301_bart_cut.csv Sona0302_bart_cut.csv\n",
      "running dtw\n",
      "Sona0401_bart_cut.csv Sona0402_bart_cut.csv\n",
      "running dtw\n",
      "Sona0501_bart_cut.csv Sona0502_bart_cut.csv\n",
      "Sona0601_bart_cut.csv Sona0602_bart_cut.csv\n",
      "Sona0701_bart_cut.csv Sona0702_bart_cut.csv\n",
      "Sona0801_bart_cut.csv Sona0802_bart_cut.csv\n",
      "Sona0901_bart_cut.csv Sona0902_bart_cut.csv\n",
      "Sona1001_bart_cut.csv Sona1002_bart_cut.csv\n",
      "Sona1101_bart_cut.csv Sona1102_bart_cut.csv\n",
      "Sona1201_bart_cut.csv Sona1202_bart_cut.csv\n",
      "Sona1301_bart_cut.csv Sona1302_bart_cut.csv\n",
      "Sona1401_bart_cut.csv Sona1402_bart_cut.csv\n",
      "Sona1501_bart_cut.csv Sona1502_bart_cut.csv\n",
      "Sona1601_bart_cut.csv Sona1602_bart_cut.csv\n"
     ]
    }
   ],
   "source": [
    "data = []\n",
    "for i in tqdm(range(0,len(pairs[task]))):\n",
    "    (p1, p2) = pairs[task][i]\n",
    "    \n",
    "    print(p1,p2)\n",
    "\n",
    "    file1 = os.path.join(path,p1)\n",
    "    file2 = os.path.join(path,p2)\n",
    "\n",
    "    # load action units\n",
    "    success1 = True\n",
    "    try:\n",
    "        df1 = pd.read_csv(file1, error_bad_lines=False, warn_bad_lines=True)   \n",
    "        aus1 = df1[au_indicies]\n",
    "    except:\n",
    "        success1 = False\n",
    "\n",
    "    if success1:\n",
    "        nans = df1[df1[au_indicies].isnull().any(axis=1)]\n",
    "        if not nans.empty:\n",
    "            dropList = nans.index.tolist()\n",
    "            for r in dropList:\n",
    "                warnings.warn('Dropping row due to NaN, {0}'.format(r))\n",
    "            aus1.drop(dropList, inplace=True)\n",
    "\n",
    "        del df1\n",
    "            \n",
    "    success2 = True\n",
    "    try:\n",
    "        df2 = pd.read_csv(file2, error_bad_lines=False, warn_bad_lines=True)\n",
    "        aus2 = df2[au_indicies]\n",
    "    except:\n",
    "        success2 = False\n",
    "\n",
    "    if success2:\n",
    "        nans = df2[df2[au_indicies].isnull().any(axis=1)]\n",
    "        if not nans.empty:\n",
    "            dropList = nans.index.tolist()\n",
    "            for r in dropList:\n",
    "                warnings.warn('Dropping row due to NaN, {0}'.format(r))\n",
    "            aus2.drop(dropList, inplace=True)\n",
    "            \n",
    "        del df2\n",
    "\n",
    "    if success1 and success2:    \n",
    "        # dtw\n",
    "        print('running dtw')\n",
    "        alignment = dtw(aus2, aus1, keep_internals=True, \n",
    "                    open_begin=True, open_end=True, \n",
    "                    step_pattern='asymmetric')\n",
    "\n",
    "        # results\n",
    "        ave_cost = np.mean(alignment.costMatrix)\n",
    "        min_dist = alignment.distance\n",
    "        nor_dist = alignment.normalizedDistance\n",
    "        \n",
    "        del alignment\n",
    "\n",
    "        data.append([True,True,p1,p2,ave_cost,min_dist,nor_dist])\n",
    "    else:\n",
    "        data.append([success1,success2,p1,p2])"
   ]
  },
  {
   "cell_type": "code",
   "execution_count": 9,
   "id": "5c3469db",
   "metadata": {},
   "outputs": [],
   "source": [
    "outDf = pd.DataFrame(data, columns=['found1','found2','file1','file2','aveCost','minDist','norDist'])\n",
    "outDf.to_csv(results_path, index=False)"
   ]
  },
  {
   "cell_type": "code",
   "execution_count": 10,
   "id": "b64e5d24",
   "metadata": {},
   "outputs": [
    {
     "data": {
      "text/html": [
       "<div>\n",
       "<style scoped>\n",
       "    .dataframe tbody tr th:only-of-type {\n",
       "        vertical-align: middle;\n",
       "    }\n",
       "\n",
       "    .dataframe tbody tr th {\n",
       "        vertical-align: top;\n",
       "    }\n",
       "\n",
       "    .dataframe thead th {\n",
       "        text-align: right;\n",
       "    }\n",
       "</style>\n",
       "<table border=\"1\" class=\"dataframe\">\n",
       "  <thead>\n",
       "    <tr style=\"text-align: right;\">\n",
       "      <th></th>\n",
       "      <th>found1</th>\n",
       "      <th>found2</th>\n",
       "      <th>file1</th>\n",
       "      <th>file2</th>\n",
       "      <th>aveCost</th>\n",
       "      <th>minDist</th>\n",
       "      <th>norDist</th>\n",
       "    </tr>\n",
       "  </thead>\n",
       "  <tbody>\n",
       "    <tr>\n",
       "      <th>0</th>\n",
       "      <td>True</td>\n",
       "      <td>True</td>\n",
       "      <td>0101_bart_cut.csv</td>\n",
       "      <td>0102_bart_cut.csv</td>\n",
       "      <td>14384.703727</td>\n",
       "      <td>27272.597885</td>\n",
       "      <td>2.600610</td>\n",
       "    </tr>\n",
       "    <tr>\n",
       "      <th>1</th>\n",
       "      <td>True</td>\n",
       "      <td>True</td>\n",
       "      <td>0201_bart_cut.csv</td>\n",
       "      <td>0202_bart_cut.csv</td>\n",
       "      <td>8529.185129</td>\n",
       "      <td>16222.931391</td>\n",
       "      <td>1.236881</td>\n",
       "    </tr>\n",
       "    <tr>\n",
       "      <th>2</th>\n",
       "      <td>False</td>\n",
       "      <td>True</td>\n",
       "      <td>0301_bart_cut.csv</td>\n",
       "      <td>0302_bart_cut.csv</td>\n",
       "      <td>NaN</td>\n",
       "      <td>NaN</td>\n",
       "      <td>NaN</td>\n",
       "    </tr>\n",
       "    <tr>\n",
       "      <th>3</th>\n",
       "      <td>True</td>\n",
       "      <td>True</td>\n",
       "      <td>0401_bart_cut.csv</td>\n",
       "      <td>0402_bart_cut.csv</td>\n",
       "      <td>15219.460291</td>\n",
       "      <td>24505.566581</td>\n",
       "      <td>1.210391</td>\n",
       "    </tr>\n",
       "    <tr>\n",
       "      <th>4</th>\n",
       "      <td>True</td>\n",
       "      <td>True</td>\n",
       "      <td>0501_bart_cut.csv</td>\n",
       "      <td>0502_bart_cut.csv</td>\n",
       "      <td>17834.248494</td>\n",
       "      <td>29977.387346</td>\n",
       "      <td>0.999446</td>\n",
       "    </tr>\n",
       "  </tbody>\n",
       "</table>\n",
       "</div>"
      ],
      "text/plain": [
       "   found1  found2              file1              file2       aveCost  \\\n",
       "0    True    True  0101_bart_cut.csv  0102_bart_cut.csv  14384.703727   \n",
       "1    True    True  0201_bart_cut.csv  0202_bart_cut.csv   8529.185129   \n",
       "2   False    True  0301_bart_cut.csv  0302_bart_cut.csv           NaN   \n",
       "3    True    True  0401_bart_cut.csv  0402_bart_cut.csv  15219.460291   \n",
       "4    True    True  0501_bart_cut.csv  0502_bart_cut.csv  17834.248494   \n",
       "\n",
       "        minDist   norDist  \n",
       "0  27272.597885  2.600610  \n",
       "1  16222.931391  1.236881  \n",
       "2           NaN       NaN  \n",
       "3  24505.566581  1.210391  \n",
       "4  29977.387346  0.999446  "
      ]
     },
     "execution_count": 10,
     "metadata": {},
     "output_type": "execute_result"
    }
   ],
   "source": [
    "outDf.head()"
   ]
  },
  {
   "cell_type": "code",
   "execution_count": null,
   "id": "33a1503a",
   "metadata": {},
   "outputs": [],
   "source": []
  }
 ],
 "metadata": {
  "kernelspec": {
   "display_name": "Python 3",
   "language": "python",
   "name": "python3"
  },
  "language_info": {
   "codemirror_mode": {
    "name": "ipython",
    "version": 3
   },
   "file_extension": ".py",
   "mimetype": "text/x-python",
   "name": "python",
   "nbconvert_exporter": "python",
   "pygments_lexer": "ipython3",
   "version": "3.6.9"
  }
 },
 "nbformat": 4,
 "nbformat_minor": 5
}
