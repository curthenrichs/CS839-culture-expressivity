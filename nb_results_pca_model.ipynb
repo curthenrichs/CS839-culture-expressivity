{
 "cells": [
  {
   "cell_type": "markdown",
   "id": "03b6cd92",
   "metadata": {},
   "source": [
    "## PCA 18 Model"
   ]
  },
  {
   "cell_type": "code",
   "execution_count": 1,
   "id": "7687e9a0",
   "metadata": {},
   "outputs": [
    {
     "name": "stdout",
     "output_type": "stream",
     "text": [
      "Importing the dtw module. When using in academic works please cite:\n",
      "  T. Giorgino. Computing and Visualizing Dynamic Time Warping Alignments in R: The dtw Package.\n",
      "  J. Stat. Soft., doi:10.18637/jss.v031.i07.\n",
      "\n"
     ]
    }
   ],
   "source": [
    "import os\n",
    "import pickle\n",
    "import warnings\n",
    "import numpy as np\n",
    "import pandas as pd\n",
    "import matplotlib.pyplot as plt\n",
    "\n",
    "from dtw import *\n",
    "from tqdm import tqdm_notebook as tqdm"
   ]
  },
  {
   "cell_type": "code",
   "execution_count": 2,
   "id": "61cddb06",
   "metadata": {},
   "outputs": [],
   "source": [
    "def visualize_labels(y, alt=False):\n",
    "    color = 'cividis' if alt else 'plasma'\n",
    "    \n",
    "    idx = np.arange(len(y))\n",
    "\n",
    "    fig, ax1 = plt.subplots()\n",
    "\n",
    "    im = ax1.imshow(y[np.newaxis,:], cmap=color, aspect=\"auto\")\n",
    "    ax1.set_yticks([])\n",
    "    fig.colorbar(im, ax=ax1)\n",
    "\n",
    "    plt.tight_layout()\n",
    "    plt.show()"
   ]
  },
  {
   "cell_type": "code",
   "execution_count": 3,
   "id": "46cb5160",
   "metadata": {},
   "outputs": [],
   "source": [
    "def visualize_matrix(Y, alt=False):\n",
    "    color = 'cividis' if alt else 'plasma'\n",
    "    \n",
    "    fig, ax1 = plt.subplots()\n",
    "    \n",
    "    im = ax1.imshow(Y, cmap=color, interpolation='nearest', aspect=\"auto\")\n",
    "    fig.colorbar(im, ax=ax1)\n",
    "    \n",
    "    plt.tight_layout()\n",
    "    plt.show()"
   ]
  },
  {
   "cell_type": "code",
   "execution_count": 4,
   "id": "d0c893e8",
   "metadata": {},
   "outputs": [],
   "source": [
    "#task = 'task1_sandwich_openface'\n",
    "#task = 'task2_bart_openface'\n",
    "task = 'task3_jenga_openface'\n",
    "\n",
    "model_path = './models/{0}/'.format(task)\n",
    "path = './data/openface/{0}/'.format(task)\n",
    "results_path = './data/final/{0}_pca.csv'.format(task)"
   ]
  },
  {
   "cell_type": "markdown",
   "id": "67774e40",
   "metadata": {},
   "source": [
    "## Pairs"
   ]
  },
  {
   "cell_type": "code",
   "execution_count": 5,
   "id": "4ce0f75d",
   "metadata": {},
   "outputs": [],
   "source": [
    "num_paid_participants = 22\n",
    "num_sona_participants = 17\n",
    "\n",
    "task1_pairs = [('{0:02}01_sandwich_cut.csv'.format(i),'{0:02}02_sandwich_cut.csv'.format(i)) for i in range(1,num_paid_participants)]\n",
    "task1_pairs += [('Sona{0:02}01_sandwich_cut.csv'.format(i),'Sona{0:02}02_sandwich_cut.csv'.format(i)) for i in range(1,num_sona_participants)]\n",
    "\n",
    "task2_pairs = [('{0:02}01_bart_cut.csv'.format(i),'{0:02}02_bart_cut.csv'.format(i)) for i in range(1,num_paid_participants)]\n",
    "task2_pairs += [('Sona{0:02}01_bart_cut.csv'.format(i),'Sona{0:02}02_bart_cut.csv'.format(i)) for i in range(1,num_sona_participants)]\n",
    "\n",
    "task3_pairs = [('{0:02}01_jenga_cut.csv'.format(i),'{0:02}02_jenga_cut.csv'.format(i)) for i in range(1,num_paid_participants)]\n",
    "task3_pairs += [('Sona{0:02}01_jenga_cut.csv'.format(i),'Sona{0:02}02_jenga_cut.csv'.format(i)) for i in range(1,num_sona_participants)]\n",
    "\n",
    "pairs = {\n",
    "    'task1_sandwich_openface': task1_pairs,\n",
    "    'task2_bart_openface': task2_pairs,\n",
    "    'task3_jenga_openface': task3_pairs\n",
    "}"
   ]
  },
  {
   "cell_type": "markdown",
   "id": "51949b25",
   "metadata": {},
   "source": [
    "## PCA"
   ]
  },
  {
   "cell_type": "code",
   "execution_count": 6,
   "id": "0b8a30a0",
   "metadata": {},
   "outputs": [],
   "source": [
    "indicies = ['x_{0}'.format(i) for i in range(0,68)] + ['y_{0}'.format(i) for i in range(0,68)]"
   ]
  },
  {
   "cell_type": "code",
   "execution_count": 7,
   "id": "3445f011",
   "metadata": {},
   "outputs": [],
   "source": [
    "import pickle\n",
    "# scikit-learn v0.24.1\n",
    "PCA_n_18 = pickle.load(open(model_path + 'pca_n_18.p', 'rb'))"
   ]
  },
  {
   "cell_type": "code",
   "execution_count": 8,
   "id": "9bdbd944",
   "metadata": {},
   "outputs": [
    {
     "name": "stderr",
     "output_type": "stream",
     "text": [
      "/usr/local/lib/python3.6/dist-packages/ipykernel_launcher.py:2: TqdmDeprecationWarning: This function will be removed in tqdm==5.0.0\n",
      "Please use `tqdm.notebook.tqdm` instead of `tqdm.tqdm_notebook`\n",
      "  \n"
     ]
    },
    {
     "data": {
      "application/vnd.jupyter.widget-view+json": {
       "model_id": "b5d964852072437bb5a8c0ef9fe5adb4",
       "version_major": 2,
       "version_minor": 0
      },
      "text/plain": [
       "  0%|          | 0/37 [00:00<?, ?it/s]"
      ]
     },
     "metadata": {},
     "output_type": "display_data"
    },
    {
     "name": "stdout",
     "output_type": "stream",
     "text": [
      "0101_jenga_cut.csv 0102_jenga_cut.csv\n",
      "0201_jenga_cut.csv 0202_jenga_cut.csv\n",
      "0301_jenga_cut.csv 0302_jenga_cut.csv\n",
      "0401_jenga_cut.csv 0402_jenga_cut.csv\n",
      "0501_jenga_cut.csv 0502_jenga_cut.csv\n",
      "0601_jenga_cut.csv 0602_jenga_cut.csv\n",
      "0701_jenga_cut.csv 0702_jenga_cut.csv\n",
      "0801_jenga_cut.csv 0802_jenga_cut.csv\n",
      "0901_jenga_cut.csv 0902_jenga_cut.csv\n",
      "1001_jenga_cut.csv 1002_jenga_cut.csv\n",
      "1101_jenga_cut.csv 1102_jenga_cut.csv\n",
      "1201_jenga_cut.csv 1202_jenga_cut.csv\n",
      "1301_jenga_cut.csv 1302_jenga_cut.csv\n",
      "1401_jenga_cut.csv 1402_jenga_cut.csv\n",
      "1501_jenga_cut.csv 1502_jenga_cut.csv\n",
      "1601_jenga_cut.csv 1602_jenga_cut.csv\n",
      "1701_jenga_cut.csv 1702_jenga_cut.csv\n",
      "1801_jenga_cut.csv 1802_jenga_cut.csv\n",
      "1901_jenga_cut.csv 1902_jenga_cut.csv\n",
      "2001_jenga_cut.csv 2002_jenga_cut.csv\n",
      "2101_jenga_cut.csv 2102_jenga_cut.csv\n",
      "Sona0101_jenga_cut.csv Sona0102_jenga_cut.csv\n",
      "Sona0201_jenga_cut.csv Sona0202_jenga_cut.csv\n",
      "Sona0301_jenga_cut.csv Sona0302_jenga_cut.csv\n",
      "Sona0401_jenga_cut.csv Sona0402_jenga_cut.csv\n",
      "Sona0501_jenga_cut.csv Sona0502_jenga_cut.csv\n",
      "Sona0601_jenga_cut.csv Sona0602_jenga_cut.csv\n",
      "Sona0701_jenga_cut.csv Sona0702_jenga_cut.csv\n",
      "Sona0801_jenga_cut.csv Sona0802_jenga_cut.csv\n",
      "Sona0901_jenga_cut.csv Sona0902_jenga_cut.csv\n",
      "Sona1001_jenga_cut.csv Sona1002_jenga_cut.csv\n",
      "Sona1101_jenga_cut.csv Sona1102_jenga_cut.csv\n",
      "Sona1201_jenga_cut.csv Sona1202_jenga_cut.csv\n",
      "Sona1301_jenga_cut.csv Sona1302_jenga_cut.csv\n",
      "Sona1401_jenga_cut.csv Sona1402_jenga_cut.csv\n",
      "Sona1501_jenga_cut.csv Sona1502_jenga_cut.csv\n",
      "Sona1601_jenga_cut.csv Sona1602_jenga_cut.csv\n"
     ]
    }
   ],
   "source": [
    "data = []\n",
    "for i in tqdm(range(0,len(pairs[task]))):\n",
    "    (p1, p2) = pairs[task][i]\n",
    "    \n",
    "    print(p1,p2)\n",
    "    \n",
    "    file1 = os.path.join(path,p1)\n",
    "    file2 = os.path.join(path,p2)\n",
    "\n",
    "    # load facial landmarks\n",
    "    success1 = True\n",
    "    try:\n",
    "        df1 = pd.read_csv(file1, error_bad_lines=False, warn_bad_lines=True)   \n",
    "        face_lmk_1 = df1[indicies]\n",
    "    except:\n",
    "        success1 = False\n",
    "    \n",
    "    if success1:\n",
    "        nans = df1[df1[indicies].isnull().any(axis=1)]\n",
    "        if not nans.empty:\n",
    "            dropList = nans.index.tolist()\n",
    "            for r in dropList:\n",
    "                warnings.warn('Dropping row due to NaN, {0}'.format(r))\n",
    "            face_lmk_1.drop(dropList, inplace=True)\n",
    "            \n",
    "        del df1\n",
    "        \n",
    "        X1 = np.asarray(face_lmk_1.to_numpy()).astype('float32')\n",
    "        \n",
    "        del face_lmk_1\n",
    "    \n",
    "    success2 = True\n",
    "    try:\n",
    "        df2 = pd.read_csv(file2, error_bad_lines=False, warn_bad_lines=True)\n",
    "        face_lmk_2 = df2[indicies]\n",
    "    except:\n",
    "        success2 = False\n",
    "\n",
    "    if success2:\n",
    "        nans = df2[df2[indicies].isnull().any(axis=1)]\n",
    "        if not nans.empty:\n",
    "            dropList = nans.index.tolist()\n",
    "            for r in dropList:\n",
    "                warnings.warn('Dropping row due to NaN, {0}'.format(r))\n",
    "            face_lmk_2.drop(dropList, inplace=True)\n",
    "            \n",
    "        del df2\n",
    "\n",
    "        X2 = np.asarray(face_lmk_2.to_numpy()).astype('float32')\n",
    "    \n",
    "        del face_lmk_2\n",
    "    \n",
    "    if success1 and success2:\n",
    "        # Run model\n",
    "        tl1 = PCA_n_18.transform(X1)\n",
    "        tl2 = PCA_n_18.transform(X2)\n",
    "        \n",
    "        del X1\n",
    "        del X2\n",
    "\n",
    "        # dtw\n",
    "        alignment = dtw(tl2, tl1, keep_internals=True, \n",
    "                    open_begin=True, open_end=True, \n",
    "                    step_pattern='asymmetric')\n",
    "\n",
    "        # results\n",
    "        ave_cost = np.mean(alignment.costMatrix)\n",
    "        min_dist = alignment.distance\n",
    "        nor_dist = alignment.normalizedDistance\n",
    "        \n",
    "        del alignment\n",
    "\n",
    "        data.append([True,True,p1,p2,ave_cost,min_dist,nor_dist])\n",
    "    else:\n",
    "        data.append([success1,success2,p1,p2])"
   ]
  },
  {
   "cell_type": "code",
   "execution_count": 11,
   "id": "47319a5b",
   "metadata": {},
   "outputs": [],
   "source": [
    "outDf = pd.DataFrame(data, columns=['found1','found2','file1','file2','aveCost','minDist','norDist'])\n",
    "outDf.to_csv(results_path, index=False)"
   ]
  },
  {
   "cell_type": "code",
   "execution_count": 12,
   "id": "8cf156ab",
   "metadata": {},
   "outputs": [
    {
     "data": {
      "text/html": [
       "<div>\n",
       "<style scoped>\n",
       "    .dataframe tbody tr th:only-of-type {\n",
       "        vertical-align: middle;\n",
       "    }\n",
       "\n",
       "    .dataframe tbody tr th {\n",
       "        vertical-align: top;\n",
       "    }\n",
       "\n",
       "    .dataframe thead th {\n",
       "        text-align: right;\n",
       "    }\n",
       "</style>\n",
       "<table border=\"1\" class=\"dataframe\">\n",
       "  <thead>\n",
       "    <tr style=\"text-align: right;\">\n",
       "      <th></th>\n",
       "      <th>found1</th>\n",
       "      <th>found2</th>\n",
       "      <th>file1</th>\n",
       "      <th>file2</th>\n",
       "      <th>aveCost</th>\n",
       "      <th>minDist</th>\n",
       "      <th>norDist</th>\n",
       "    </tr>\n",
       "  </thead>\n",
       "  <tbody>\n",
       "    <tr>\n",
       "      <th>0</th>\n",
       "      <td>True</td>\n",
       "      <td>False</td>\n",
       "      <td>0101_jenga_cut.csv</td>\n",
       "      <td>0102_jenga_cut.csv</td>\n",
       "      <td>NaN</td>\n",
       "      <td>NaN</td>\n",
       "      <td>NaN</td>\n",
       "    </tr>\n",
       "    <tr>\n",
       "      <th>1</th>\n",
       "      <td>True</td>\n",
       "      <td>True</td>\n",
       "      <td>0201_jenga_cut.csv</td>\n",
       "      <td>0202_jenga_cut.csv</td>\n",
       "      <td>1.045453e+07</td>\n",
       "      <td>1.870170e+07</td>\n",
       "      <td>2159.050874</td>\n",
       "    </tr>\n",
       "    <tr>\n",
       "      <th>2</th>\n",
       "      <td>True</td>\n",
       "      <td>True</td>\n",
       "      <td>0301_jenga_cut.csv</td>\n",
       "      <td>0302_jenga_cut.csv</td>\n",
       "      <td>4.655169e+06</td>\n",
       "      <td>6.682540e+06</td>\n",
       "      <td>694.001421</td>\n",
       "    </tr>\n",
       "    <tr>\n",
       "      <th>3</th>\n",
       "      <td>True</td>\n",
       "      <td>True</td>\n",
       "      <td>0401_jenga_cut.csv</td>\n",
       "      <td>0402_jenga_cut.csv</td>\n",
       "      <td>5.572548e+06</td>\n",
       "      <td>9.991830e+06</td>\n",
       "      <td>1017.912591</td>\n",
       "    </tr>\n",
       "    <tr>\n",
       "      <th>4</th>\n",
       "      <td>True</td>\n",
       "      <td>False</td>\n",
       "      <td>0501_jenga_cut.csv</td>\n",
       "      <td>0502_jenga_cut.csv</td>\n",
       "      <td>NaN</td>\n",
       "      <td>NaN</td>\n",
       "      <td>NaN</td>\n",
       "    </tr>\n",
       "  </tbody>\n",
       "</table>\n",
       "</div>"
      ],
      "text/plain": [
       "   found1  found2               file1               file2       aveCost  \\\n",
       "0    True   False  0101_jenga_cut.csv  0102_jenga_cut.csv           NaN   \n",
       "1    True    True  0201_jenga_cut.csv  0202_jenga_cut.csv  1.045453e+07   \n",
       "2    True    True  0301_jenga_cut.csv  0302_jenga_cut.csv  4.655169e+06   \n",
       "3    True    True  0401_jenga_cut.csv  0402_jenga_cut.csv  5.572548e+06   \n",
       "4    True   False  0501_jenga_cut.csv  0502_jenga_cut.csv           NaN   \n",
       "\n",
       "        minDist      norDist  \n",
       "0           NaN          NaN  \n",
       "1  1.870170e+07  2159.050874  \n",
       "2  6.682540e+06   694.001421  \n",
       "3  9.991830e+06  1017.912591  \n",
       "4           NaN          NaN  "
      ]
     },
     "execution_count": 12,
     "metadata": {},
     "output_type": "execute_result"
    }
   ],
   "source": [
    "outDf.head()"
   ]
  },
  {
   "cell_type": "code",
   "execution_count": null,
   "id": "fe023e08",
   "metadata": {},
   "outputs": [],
   "source": []
  }
 ],
 "metadata": {
  "kernelspec": {
   "display_name": "Python 3",
   "language": "python",
   "name": "python3"
  },
  "language_info": {
   "codemirror_mode": {
    "name": "ipython",
    "version": 3
   },
   "file_extension": ".py",
   "mimetype": "text/x-python",
   "name": "python",
   "nbconvert_exporter": "python",
   "pygments_lexer": "ipython3",
   "version": "3.6.13"
  }
 },
 "nbformat": 4,
 "nbformat_minor": 5
}
