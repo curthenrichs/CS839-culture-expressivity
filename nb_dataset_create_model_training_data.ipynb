{
 "cells": [
  {
   "cell_type": "markdown",
   "metadata": {},
   "source": [
    "This notebook generates the training data for all models (PCA, KMeans, Autoencoder) used during analysis"
   ]
  },
  {
   "cell_type": "markdown",
   "metadata": {},
   "source": [
    "# All Data"
   ]
  },
  {
   "cell_type": "code",
   "execution_count": 1,
   "metadata": {},
   "outputs": [],
   "source": [
    "task_name = 'all_data'"
   ]
  },
  {
   "cell_type": "code",
   "execution_count": 2,
   "metadata": {},
   "outputs": [],
   "source": [
    "model_path = './models/{0}/'.format(task_name)"
   ]
  },
  {
   "cell_type": "code",
   "execution_count": 3,
   "metadata": {},
   "outputs": [],
   "source": [
    "import os\n",
    "import numpy as np\n",
    "import pandas as pd\n",
    "\n",
    "import warnings\n",
    "from tqdm import tqdm"
   ]
  },
  {
   "cell_type": "code",
   "execution_count": 4,
   "metadata": {},
   "outputs": [
    {
     "name": "stdout",
     "output_type": "stream",
     "text": [
      "Num Files: 93\n"
     ]
    }
   ],
   "source": [
    "path = './data/openface'\n",
    "tasks = ['task1_sandwich_openface','task2_bart_openface','task3_jenga_openface']\n",
    "\n",
    "files = []\n",
    "for task in tasks:\n",
    "    subpath = os.path.join(path,task)\n",
    "    files += [os.path.join(task,f) for f in os.listdir(subpath) if os.path.isfile(os.path.join(subpath,f))]\n",
    "\n",
    "print('Num Files:',len(files))"
   ]
  },
  {
   "cell_type": "code",
   "execution_count": 5,
   "metadata": {},
   "outputs": [
    {
     "name": "stderr",
     "output_type": "stream",
     "text": [
      "\r",
      "  0%|          | 0/93 [00:00<?, ?it/s]"
     ]
    },
    {
     "name": "stdout",
     "output_type": "stream",
     "text": [
      "task1_sandwich_openface/1501_sandwich_cut.csv\n"
     ]
    },
    {
     "name": "stderr",
     "output_type": "stream",
     "text": [
      "\r",
      "  1%|          | 1/93 [00:01<01:46,  1.16s/it]"
     ]
    },
    {
     "name": "stdout",
     "output_type": "stream",
     "text": [
      "Full: (7224, 138)\n",
      "Train: (4840, 138) Test: (1192, 138) Validation (1192, 138)\n",
      "task1_sandwich_openface/0501_sandwich_cut.csv\n"
     ]
    },
    {
     "name": "stderr",
     "output_type": "stream",
     "text": [
      "\r",
      "  2%|▏         | 2/93 [00:02<01:49,  1.20s/it]"
     ]
    },
    {
     "name": "stdout",
     "output_type": "stream",
     "text": [
      "Full: (9426, 138)\n",
      "Train: (6315, 138) Test: (1555, 138) Validation (1556, 138)\n",
      "task1_sandwich_openface/0702_sandwich_cut.csv\n"
     ]
    },
    {
     "name": "stderr",
     "output_type": "stream",
     "text": [
      "\r",
      "  3%|▎         | 3/93 [00:03<01:46,  1.19s/it]"
     ]
    },
    {
     "name": "stdout",
     "output_type": "stream",
     "text": [
      "Full: (8501, 138)\n",
      "Train: (5695, 138) Test: (1403, 138) Validation (1403, 138)\n",
      "task1_sandwich_openface/1101_sandwich_cut.csv\n"
     ]
    },
    {
     "name": "stderr",
     "output_type": "stream",
     "text": [
      "\r",
      "  4%|▍         | 4/93 [00:04<01:53,  1.28s/it]"
     ]
    },
    {
     "name": "stdout",
     "output_type": "stream",
     "text": [
      "Full: (10804, 138)\n",
      "Train: (7238, 138) Test: (1783, 138) Validation (1783, 138)\n",
      "task1_sandwich_openface/Sona0402_sandwich_cut.csv\n"
     ]
    },
    {
     "name": "stderr",
     "output_type": "stream",
     "text": [
      "\r",
      "  5%|▌         | 5/93 [00:05<01:40,  1.14s/it]"
     ]
    },
    {
     "name": "stdout",
     "output_type": "stream",
     "text": [
      "Full: (6001, 138)\n",
      "Train: (4020, 138) Test: (990, 138) Validation (991, 138)\n",
      "task1_sandwich_openface/1702_Sandwich_Cut.csv\n"
     ]
    },
    {
     "name": "stderr",
     "output_type": "stream",
     "text": [
      "\r",
      "  6%|▋         | 6/93 [00:06<01:31,  1.06s/it]"
     ]
    },
    {
     "name": "stdout",
     "output_type": "stream",
     "text": [
      "Full: (6674, 138)\n",
      "Train: (4471, 138) Test: (1101, 138) Validation (1102, 138)\n",
      "task1_sandwich_openface/0701_sandwich_cut.csv\n"
     ]
    },
    {
     "name": "stderr",
     "output_type": "stream",
     "text": [
      "\r",
      "  8%|▊         | 7/93 [00:07<01:33,  1.09s/it]"
     ]
    },
    {
     "name": "stdout",
     "output_type": "stream",
     "text": [
      "Full: (8250, 138)\n",
      "Train: (5527, 138) Test: (1361, 138) Validation (1362, 138)\n",
      "task1_sandwich_openface/1301_sandwich_cut.csv\n"
     ]
    },
    {
     "name": "stderr",
     "output_type": "stream",
     "text": [
      "b'Skipping line 4053: expected 714 fields, saw 1233\\nSkipping line 4064: expected 714 fields, saw 722\\n'\n",
      "/usr/local/lib/python3.6/dist-packages/ipykernel_launcher.py:26: UserWarning: Dropping row due to NaN, 6548\n",
      "/usr/local/lib/python3.6/dist-packages/ipykernel_launcher.py:26: UserWarning: Dropping row due to NaN, 6552\n",
      "/usr/local/lib/python3.6/dist-packages/pandas/core/frame.py:4174: SettingWithCopyWarning: \n",
      "A value is trying to be set on a copy of a slice from a DataFrame\n",
      "\n",
      "See the caveats in the documentation: https://pandas.pydata.org/pandas-docs/stable/user_guide/indexing.html#returning-a-view-versus-a-copy\n",
      "  errors=errors,\n",
      "  9%|▊         | 8/93 [00:08<01:29,  1.06s/it]"
     ]
    },
    {
     "name": "stdout",
     "output_type": "stream",
     "text": [
      "Full: (6570, 138)\n",
      "Train: (4401, 138) Test: (1084, 138) Validation (1085, 138)\n",
      "task1_sandwich_openface/0402_sandwich_cut.csv\n"
     ]
    },
    {
     "name": "stderr",
     "output_type": "stream",
     "text": [
      "\r",
      " 10%|▉         | 9/93 [00:09<01:22,  1.02it/s]"
     ]
    },
    {
     "name": "stdout",
     "output_type": "stream",
     "text": [
      "Full: (4974, 138)\n",
      "Train: (3332, 138) Test: (821, 138) Validation (821, 138)\n",
      "task1_sandwich_openface/1502_sandwich_cut.csv\n"
     ]
    },
    {
     "name": "stderr",
     "output_type": "stream",
     "text": [
      "\r",
      " 11%|█         | 10/93 [00:10<01:24,  1.01s/it]"
     ]
    },
    {
     "name": "stdout",
     "output_type": "stream",
     "text": [
      "Full: (7219, 138)\n",
      "Train: (4836, 138) Test: (1191, 138) Validation (1192, 138)\n",
      "task1_sandwich_openface/1402_sandwich_cut.csv\n"
     ]
    },
    {
     "name": "stderr",
     "output_type": "stream",
     "text": [
      "\r",
      " 12%|█▏        | 11/93 [00:11<01:25,  1.05s/it]"
     ]
    },
    {
     "name": "stdout",
     "output_type": "stream",
     "text": [
      "Full: (7518, 138)\n",
      "Train: (5037, 138) Test: (1240, 138) Validation (1241, 138)\n",
      "task1_sandwich_openface/1001_sandwich_cut.csv\n"
     ]
    },
    {
     "name": "stderr",
     "output_type": "stream",
     "text": [
      "\r",
      " 13%|█▎        | 12/93 [00:13<01:29,  1.10s/it]"
     ]
    },
    {
     "name": "stdout",
     "output_type": "stream",
     "text": [
      "Full: (8028, 138)\n",
      "Train: (5378, 138) Test: (1325, 138) Validation (1325, 138)\n",
      "task1_sandwich_openface/0502_sandwich_cut.csv\n"
     ]
    },
    {
     "name": "stderr",
     "output_type": "stream",
     "text": [
      "\r",
      " 14%|█▍        | 13/93 [00:14<01:34,  1.18s/it]"
     ]
    },
    {
     "name": "stdout",
     "output_type": "stream",
     "text": [
      "Full: (9457, 138)\n",
      "Train: (6336, 138) Test: (1560, 138) Validation (1561, 138)\n",
      "task1_sandwich_openface/Sona0202_sandwich_cut.csv\n"
     ]
    },
    {
     "name": "stderr",
     "output_type": "stream",
     "text": [
      "\r",
      " 15%|█▌        | 14/93 [00:15<01:29,  1.13s/it]"
     ]
    },
    {
     "name": "stdout",
     "output_type": "stream",
     "text": [
      "Full: (6405, 138)\n",
      "Train: (4291, 138) Test: (1057, 138) Validation (1057, 138)\n",
      "task1_sandwich_openface/0901_sandwich_cut.csv\n"
     ]
    },
    {
     "name": "stderr",
     "output_type": "stream",
     "text": [
      "\r",
      " 16%|█▌        | 15/93 [00:17<01:41,  1.30s/it]"
     ]
    },
    {
     "name": "stdout",
     "output_type": "stream",
     "text": [
      "Full: (13190, 138)\n",
      "Train: (8837, 138) Test: (2176, 138) Validation (2177, 138)\n",
      "task1_sandwich_openface/Sona0401_sandwich_cut.csv\n"
     ]
    },
    {
     "name": "stderr",
     "output_type": "stream",
     "text": [
      "\r",
      " 17%|█▋        | 16/93 [00:18<01:31,  1.19s/it]"
     ]
    },
    {
     "name": "stdout",
     "output_type": "stream",
     "text": [
      "Full: (5606, 138)\n",
      "Train: (3756, 138) Test: (925, 138) Validation (925, 138)\n",
      "task1_sandwich_openface/0101_sandwich_cut.csv\n"
     ]
    },
    {
     "name": "stderr",
     "output_type": "stream",
     "text": [
      "\r",
      " 18%|█▊        | 17/93 [00:19<01:22,  1.09s/it]"
     ]
    },
    {
     "name": "stdout",
     "output_type": "stream",
     "text": [
      "Full: (5732, 138)\n",
      "Train: (3840, 138) Test: (946, 138) Validation (946, 138)\n",
      "task1_sandwich_openface/sona0101_sandwich_cut.csv\n"
     ]
    },
    {
     "name": "stderr",
     "output_type": "stream",
     "text": [
      "\r",
      " 19%|█▉        | 18/93 [00:19<01:18,  1.04s/it]"
     ]
    },
    {
     "name": "stdout",
     "output_type": "stream",
     "text": [
      "Full: (4700, 138)\n",
      "Train: (3149, 138) Test: (775, 138) Validation (776, 138)\n",
      "task1_sandwich_openface/0801_sandwich_cut.csv\n"
     ]
    },
    {
     "name": "stderr",
     "output_type": "stream",
     "text": [
      "\r",
      " 20%|██        | 19/93 [00:21<01:30,  1.23s/it]"
     ]
    },
    {
     "name": "stdout",
     "output_type": "stream",
     "text": [
      "Full: (11169, 138)\n",
      "Train: (7483, 138) Test: (1843, 138) Validation (1843, 138)\n",
      "task1_sandwich_openface/0201_sandwich_cut.csv\n",
      "Full: (9953, 138)\n",
      "Train: (6668, 138) Test: (1642, 138) Validation (1643, 138)\n"
     ]
    },
    {
     "name": "stderr",
     "output_type": "stream",
     "text": [
      "\r",
      " 22%|██▏       | 20/93 [00:22<01:31,  1.26s/it]"
     ]
    },
    {
     "name": "stdout",
     "output_type": "stream",
     "text": [
      "task1_sandwich_openface/0302_sandwich_cut.csv\n",
      "Full: (8333, 138)\n",
      "Train: (5583, 138) Test: (1375, 138) Validation (1375, 138)\n"
     ]
    },
    {
     "name": "stderr",
     "output_type": "stream",
     "text": [
      "\r",
      " 23%|██▎       | 21/93 [00:24<01:33,  1.30s/it]"
     ]
    },
    {
     "name": "stdout",
     "output_type": "stream",
     "text": [
      "task1_sandwich_openface/sona0102_sandwich_cut.csv\n",
      "Full: (4735, 138)\n",
      "Train: (3172, 138) Test: (781, 138) Validation (782, 138)\n"
     ]
    },
    {
     "name": "stderr",
     "output_type": "stream",
     "text": [
      "\r",
      " 24%|██▎       | 22/93 [00:25<01:23,  1.18s/it]"
     ]
    },
    {
     "name": "stdout",
     "output_type": "stream",
     "text": [
      "task1_sandwich_openface/1701_Sandwich_Cut.csv\n",
      "Full: (6185, 138)\n",
      "Train: (4143, 138) Test: (1021, 138) Validation (1021, 138)\n"
     ]
    },
    {
     "name": "stderr",
     "output_type": "stream",
     "text": [
      "\r",
      " 25%|██▍       | 23/93 [00:26<01:21,  1.16s/it]"
     ]
    },
    {
     "name": "stdout",
     "output_type": "stream",
     "text": [
      "task1_sandwich_openface/0102_sandwich_cut.csv\n",
      "Full: (5692, 138)\n",
      "Train: (3813, 138) Test: (939, 138) Validation (940, 138)\n"
     ]
    },
    {
     "name": "stderr",
     "output_type": "stream",
     "text": [
      "\r",
      " 26%|██▌       | 24/93 [00:27<01:13,  1.07s/it]"
     ]
    },
    {
     "name": "stdout",
     "output_type": "stream",
     "text": [
      "task1_sandwich_openface/0602_sandwich_cut.csv\n",
      "Full: (10711, 138)\n",
      "Train: (7176, 138) Test: (1767, 138) Validation (1768, 138)\n"
     ]
    },
    {
     "name": "stderr",
     "output_type": "stream",
     "text": [
      "\r",
      " 27%|██▋       | 25/93 [00:28<01:23,  1.22s/it]"
     ]
    },
    {
     "name": "stdout",
     "output_type": "stream",
     "text": [
      "task1_sandwich_openface/Sona0201_sandwich_cut.csv\n",
      "Full: (6358, 138)\n",
      "Train: (4259, 138) Test: (1049, 138) Validation (1050, 138)\n"
     ]
    },
    {
     "name": "stderr",
     "output_type": "stream",
     "text": [
      "\r",
      " 28%|██▊       | 26/93 [00:29<01:21,  1.22s/it]"
     ]
    },
    {
     "name": "stdout",
     "output_type": "stream",
     "text": [
      "task1_sandwich_openface/0802_sandwich_cut.csv\n",
      "Full: (11239, 138)\n",
      "Train: (7530, 138) Test: (1854, 138) Validation (1855, 138)\n"
     ]
    },
    {
     "name": "stderr",
     "output_type": "stream",
     "text": [
      "\r",
      " 29%|██▉       | 27/93 [00:31<01:30,  1.37s/it]"
     ]
    },
    {
     "name": "stdout",
     "output_type": "stream",
     "text": [
      "task1_sandwich_openface/0301_sandwich_cut.csv\n",
      "Full: (8261, 138)\n",
      "Train: (5534, 138) Test: (1363, 138) Validation (1364, 138)\n"
     ]
    },
    {
     "name": "stderr",
     "output_type": "stream",
     "text": [
      "\r",
      " 30%|███       | 28/93 [00:33<01:30,  1.39s/it]"
     ]
    },
    {
     "name": "stdout",
     "output_type": "stream",
     "text": [
      "task1_sandwich_openface/0601_sandwich_cut.csv\n",
      "Full: (11538, 138)\n",
      "Train: (7730, 138) Test: (1904, 138) Validation (1904, 138)\n"
     ]
    },
    {
     "name": "stderr",
     "output_type": "stream",
     "text": [
      "\r",
      " 31%|███       | 29/93 [00:34<01:36,  1.51s/it]"
     ]
    },
    {
     "name": "stdout",
     "output_type": "stream",
     "text": [
      "task1_sandwich_openface/Sona0302_sandwich_cut.csv\n",
      "Full: (7300, 138)\n",
      "Train: (4891, 138) Test: (1204, 138) Validation (1205, 138)\n"
     ]
    },
    {
     "name": "stderr",
     "output_type": "stream",
     "text": [
      "\r",
      " 32%|███▏      | 30/93 [00:36<01:31,  1.45s/it]"
     ]
    },
    {
     "name": "stdout",
     "output_type": "stream",
     "text": [
      "task1_sandwich_openface/1002_sandwich_cut.csv\n",
      "Full: (8236, 138)\n",
      "Train: (5518, 138) Test: (1359, 138) Validation (1359, 138)\n"
     ]
    },
    {
     "name": "stderr",
     "output_type": "stream",
     "text": [
      "\r",
      " 33%|███▎      | 31/93 [00:37<01:29,  1.45s/it]"
     ]
    },
    {
     "name": "stdout",
     "output_type": "stream",
     "text": [
      "task1_sandwich_openface/1401_sandwich_cut.csv\n",
      "Full: (7476, 138)\n",
      "Train: (5008, 138) Test: (1234, 138) Validation (1234, 138)\n"
     ]
    },
    {
     "name": "stderr",
     "output_type": "stream",
     "text": [
      "\r",
      " 34%|███▍      | 32/93 [00:39<01:28,  1.45s/it]"
     ]
    },
    {
     "name": "stdout",
     "output_type": "stream",
     "text": [
      "task2_bart_openface/Sona0201_bart_cut.csv\n",
      "Full: (13937, 138)\n",
      "Train: (9337, 138) Test: (2300, 138) Validation (2300, 138)\n"
     ]
    },
    {
     "name": "stderr",
     "output_type": "stream",
     "text": [
      "\r",
      " 35%|███▌      | 33/93 [00:41<01:35,  1.59s/it]"
     ]
    },
    {
     "name": "stdout",
     "output_type": "stream",
     "text": [
      "task2_bart_openface/0201_bart_cut.csv\n",
      "Full: (13184, 138)\n",
      "Train: (8833, 138) Test: (2175, 138) Validation (2176, 138)\n"
     ]
    },
    {
     "name": "stderr",
     "output_type": "stream",
     "text": [
      "\r",
      " 37%|███▋      | 34/93 [00:43<01:43,  1.75s/it]"
     ]
    },
    {
     "name": "stdout",
     "output_type": "stream",
     "text": [
      "task2_bart_openface/1101_bart_cut.csv\n",
      "Full: (14445, 138)\n",
      "Train: (9678, 138) Test: (2383, 138) Validation (2384, 138)\n"
     ]
    },
    {
     "name": "stderr",
     "output_type": "stream",
     "text": [
      "\r",
      " 38%|███▊      | 35/93 [00:45<01:45,  1.82s/it]"
     ]
    },
    {
     "name": "stdout",
     "output_type": "stream",
     "text": [
      "task2_bart_openface/Sona0101_bart_cut.csv\n",
      "Full: (13946, 138)\n",
      "Train: (9343, 138) Test: (2301, 138) Validation (2302, 138)\n"
     ]
    },
    {
     "name": "stderr",
     "output_type": "stream",
     "text": [
      "\r",
      " 39%|███▊      | 36/93 [00:47<01:45,  1.85s/it]"
     ]
    },
    {
     "name": "stdout",
     "output_type": "stream",
     "text": [
      "task2_bart_openface/1102_bart_cut.csv\n",
      "Full: (14637, 138)\n",
      "Train: (9806, 138) Test: (2415, 138) Validation (2416, 138)\n"
     ]
    },
    {
     "name": "stderr",
     "output_type": "stream",
     "text": [
      "\r",
      " 40%|███▉      | 37/93 [00:49<01:47,  1.91s/it]"
     ]
    },
    {
     "name": "stdout",
     "output_type": "stream",
     "text": [
      "task2_bart_openface/0701_bart_cut.csv\n",
      "Full: (12787, 138)\n",
      "Train: (8567, 138) Test: (2110, 138) Validation (2110, 138)\n"
     ]
    },
    {
     "name": "stderr",
     "output_type": "stream",
     "text": [
      "\r",
      " 41%|████      | 38/93 [00:51<01:46,  1.93s/it]"
     ]
    },
    {
     "name": "stdout",
     "output_type": "stream",
     "text": [
      "task2_bart_openface/1401_bart_cut.csv\n",
      "Full: (17045, 138)\n",
      "Train: (11420, 138) Test: (2812, 138) Validation (2813, 138)\n"
     ]
    },
    {
     "name": "stderr",
     "output_type": "stream",
     "text": [
      "\r",
      " 42%|████▏     | 39/93 [00:53<01:50,  2.05s/it]"
     ]
    },
    {
     "name": "stdout",
     "output_type": "stream",
     "text": [
      "task2_bart_openface/1201_bart_cut.csv\n",
      "Full: (17923, 138)\n",
      "Train: (12008, 138) Test: (2957, 138) Validation (2958, 138)\n"
     ]
    },
    {
     "name": "stderr",
     "output_type": "stream",
     "text": [
      "\r",
      " 43%|████▎     | 40/93 [00:55<01:55,  2.17s/it]"
     ]
    },
    {
     "name": "stdout",
     "output_type": "stream",
     "text": [
      "task2_bart_openface/0602_bart_cut.csv\n",
      "Full: (16976, 138)\n",
      "Train: (11373, 138) Test: (2801, 138) Validation (2802, 138)\n"
     ]
    },
    {
     "name": "stderr",
     "output_type": "stream",
     "text": [
      "\r",
      " 44%|████▍     | 41/93 [00:58<02:01,  2.34s/it]"
     ]
    },
    {
     "name": "stdout",
     "output_type": "stream",
     "text": [
      "task2_bart_openface/0902_bart_cut.csv\n",
      "Full: (17520, 138)\n",
      "Train: (11738, 138) Test: (2891, 138) Validation (2891, 138)\n"
     ]
    },
    {
     "name": "stderr",
     "output_type": "stream",
     "text": [
      "\r",
      " 45%|████▌     | 42/93 [01:01<02:01,  2.39s/it]"
     ]
    },
    {
     "name": "stdout",
     "output_type": "stream",
     "text": [
      "task2_bart_openface/Sona0401_bart_cut.csv\n",
      "Full: (8084, 138)\n",
      "Train: (5416, 138) Test: (1334, 138) Validation (1334, 138)\n"
     ]
    },
    {
     "name": "stderr",
     "output_type": "stream",
     "text": [
      "\r",
      " 46%|████▌     | 43/93 [01:02<01:45,  2.12s/it]"
     ]
    },
    {
     "name": "stdout",
     "output_type": "stream",
     "text": [
      "task2_bart_openface/0402_bart_cut.csv\n",
      "Full: (20246, 138)\n",
      "Train: (13564, 138) Test: (3341, 138) Validation (3341, 138)\n"
     ]
    },
    {
     "name": "stderr",
     "output_type": "stream",
     "text": [
      "\r",
      " 47%|████▋     | 44/93 [01:05<01:56,  2.37s/it]"
     ]
    },
    {
     "name": "stdout",
     "output_type": "stream",
     "text": [
      "task2_bart_openface/1202_bart_cut.csv\n",
      "Full: (17951, 138)\n",
      "Train: (12027, 138) Test: (2962, 138) Validation (2962, 138)\n"
     ]
    },
    {
     "name": "stderr",
     "output_type": "stream",
     "text": [
      "\r",
      " 48%|████▊     | 45/93 [01:08<01:56,  2.43s/it]"
     ]
    },
    {
     "name": "stdout",
     "output_type": "stream",
     "text": [
      "task2_bart_openface/0102_bart_cut.csv\n",
      "Full: (10487, 138)\n",
      "Train: (7026, 138) Test: (1730, 138) Validation (1731, 138)\n"
     ]
    },
    {
     "name": "stderr",
     "output_type": "stream",
     "text": [
      "\r",
      " 49%|████▉     | 46/93 [01:10<01:48,  2.31s/it]"
     ]
    },
    {
     "name": "stdout",
     "output_type": "stream",
     "text": [
      "task2_bart_openface/1002_bart_cut.csv\n",
      "Full: (19483, 138)\n",
      "Train: (13053, 138) Test: (3215, 138) Validation (3215, 138)\n"
     ]
    },
    {
     "name": "stderr",
     "output_type": "stream",
     "text": [
      "\r",
      " 51%|█████     | 47/93 [01:12<01:53,  2.46s/it]"
     ]
    },
    {
     "name": "stdout",
     "output_type": "stream",
     "text": [
      "task2_bart_openface/1702_Bart_Cut.csv\n",
      "Full: (18037, 138)\n",
      "Train: (12084, 138) Test: (2976, 138) Validation (2977, 138)\n"
     ]
    },
    {
     "name": "stderr",
     "output_type": "stream",
     "text": [
      "\r",
      " 52%|█████▏    | 48/93 [01:15<01:53,  2.52s/it]"
     ]
    },
    {
     "name": "stdout",
     "output_type": "stream",
     "text": [
      "task2_bart_openface/1001_bart_cut.csv\n",
      "Full: (19442, 138)\n",
      "Train: (13026, 138) Test: (3208, 138) Validation (3208, 138)\n"
     ]
    },
    {
     "name": "stderr",
     "output_type": "stream",
     "text": [
      "\r",
      " 53%|█████▎    | 49/93 [01:18<01:54,  2.60s/it]"
     ]
    },
    {
     "name": "stdout",
     "output_type": "stream",
     "text": [
      "task2_bart_openface/0802_bart_cut.csv\n",
      "Full: (9285, 138)\n",
      "Train: (6220, 138) Test: (1532, 138) Validation (1533, 138)\n"
     ]
    },
    {
     "name": "stderr",
     "output_type": "stream",
     "text": [
      "\r",
      " 54%|█████▍    | 50/93 [01:20<01:41,  2.37s/it]"
     ]
    },
    {
     "name": "stdout",
     "output_type": "stream",
     "text": [
      "task2_bart_openface/Sona0102_bart_cut.csv\n",
      "Full: (13973, 138)\n",
      "Train: (9361, 138) Test: (2306, 138) Validation (2306, 138)\n"
     ]
    },
    {
     "name": "stderr",
     "output_type": "stream",
     "text": [
      "\r",
      " 55%|█████▍    | 51/93 [01:22<01:38,  2.35s/it]"
     ]
    },
    {
     "name": "stdout",
     "output_type": "stream",
     "text": [
      "task2_bart_openface/0502_bart_cut.csv\n",
      "Full: (29994, 138)\n",
      "Train: (20095, 138) Test: (4949, 138) Validation (4950, 138)\n"
     ]
    },
    {
     "name": "stderr",
     "output_type": "stream",
     "text": [
      "\r",
      " 56%|█████▌    | 52/93 [01:27<02:12,  3.24s/it]"
     ]
    },
    {
     "name": "stdout",
     "output_type": "stream",
     "text": [
      "task2_bart_openface/0302_bart_cut.csv\n"
     ]
    },
    {
     "name": "stderr",
     "output_type": "stream",
     "text": [
      "/usr/local/lib/python3.6/dist-packages/ipykernel_launcher.py:26: UserWarning: Dropping row due to NaN, 9935\n"
     ]
    },
    {
     "name": "stdout",
     "output_type": "stream",
     "text": [
      "Full: (9935, 138)\n",
      "Train: (6656, 138) Test: (1639, 138) Validation (1640, 138)\n"
     ]
    },
    {
     "name": "stderr",
     "output_type": "stream",
     "text": [
      "\r",
      " 57%|█████▋    | 53/93 [01:30<01:58,  2.95s/it]"
     ]
    },
    {
     "name": "stdout",
     "output_type": "stream",
     "text": [
      "task2_bart_openface/0601_bart_cut.csv\n",
      "Full: (17303, 138)\n",
      "Train: (11593, 138) Test: (2855, 138) Validation (2855, 138)\n"
     ]
    },
    {
     "name": "stderr",
     "output_type": "stream",
     "text": [
      "\r",
      " 58%|█████▊    | 54/93 [01:33<01:57,  3.00s/it]"
     ]
    },
    {
     "name": "stdout",
     "output_type": "stream",
     "text": [
      "task2_bart_openface/1301_bart_cut.csv\n",
      "Full: (12346, 138)\n",
      "Train: (8271, 138) Test: (2037, 138) Validation (2038, 138)\n"
     ]
    },
    {
     "name": "stderr",
     "output_type": "stream",
     "text": [
      "\r",
      " 59%|█████▉    | 55/93 [01:35<01:45,  2.78s/it]"
     ]
    },
    {
     "name": "stdout",
     "output_type": "stream",
     "text": [
      "task2_bart_openface/Sona0302_bart_cut.csv\n",
      "Full: (25085, 138)\n",
      "Train: (16806, 138) Test: (4139, 138) Validation (4140, 138)\n"
     ]
    },
    {
     "name": "stderr",
     "output_type": "stream",
     "text": [
      "\r",
      " 60%|██████    | 56/93 [01:39<01:51,  3.01s/it]"
     ]
    },
    {
     "name": "stdout",
     "output_type": "stream",
     "text": [
      "task2_bart_openface/0401_bart_cut.csv\n",
      "Full: (20110, 138)\n",
      "Train: (13473, 138) Test: (3318, 138) Validation (3319, 138)\n"
     ]
    },
    {
     "name": "stderr",
     "output_type": "stream",
     "text": [
      "\r",
      " 61%|██████▏   | 57/93 [01:42<01:53,  3.14s/it]"
     ]
    },
    {
     "name": "stdout",
     "output_type": "stream",
     "text": [
      "task2_bart_openface/1701_Bart_Cut .csv\n",
      "Full: (17671, 138)\n",
      "Train: (11839, 138) Test: (2916, 138) Validation (2916, 138)\n"
     ]
    },
    {
     "name": "stderr",
     "output_type": "stream",
     "text": [
      "\r",
      " 62%|██████▏   | 58/93 [01:45<01:49,  3.13s/it]"
     ]
    },
    {
     "name": "stdout",
     "output_type": "stream",
     "text": [
      "task2_bart_openface/0101_bart_cut.csv\n",
      "Full: (11665, 138)\n",
      "Train: (7815, 138) Test: (1925, 138) Validation (1925, 138)\n"
     ]
    },
    {
     "name": "stderr",
     "output_type": "stream",
     "text": [
      "\r",
      " 63%|██████▎   | 59/93 [01:48<01:39,  2.94s/it]"
     ]
    },
    {
     "name": "stdout",
     "output_type": "stream",
     "text": [
      "task2_bart_openface/1302_bart_cut.csv\n",
      "Full: (12961, 138)\n",
      "Train: (8683, 138) Test: (2139, 138) Validation (2139, 138)\n"
     ]
    },
    {
     "name": "stderr",
     "output_type": "stream",
     "text": [
      "\r",
      " 65%|██████▍   | 60/93 [01:50<01:32,  2.80s/it]"
     ]
    },
    {
     "name": "stdout",
     "output_type": "stream",
     "text": [
      "task2_bart_openface/0202_bart_cut.csv\n",
      "Full: (13116, 138)\n",
      "Train: (8787, 138) Test: (2164, 138) Validation (2165, 138)\n"
     ]
    },
    {
     "name": "stderr",
     "output_type": "stream",
     "text": [
      "\r",
      " 66%|██████▌   | 61/93 [01:53<01:27,  2.75s/it]"
     ]
    },
    {
     "name": "stdout",
     "output_type": "stream",
     "text": [
      "task2_bart_openface/Sona0402_bart_cut.csv\n",
      "Full: (7828, 138)\n",
      "Train: (5244, 138) Test: (1292, 138) Validation (1292, 138)\n"
     ]
    },
    {
     "name": "stderr",
     "output_type": "stream",
     "text": [
      "\r",
      " 67%|██████▋   | 62/93 [01:55<01:18,  2.53s/it]"
     ]
    },
    {
     "name": "stdout",
     "output_type": "stream",
     "text": [
      "task2_bart_openface/0801_bart_cut.csv\n",
      "Full: (9149, 138)\n",
      "Train: (6129, 138) Test: (1510, 138) Validation (1510, 138)\n"
     ]
    },
    {
     "name": "stderr",
     "output_type": "stream",
     "text": [
      "\r",
      " 68%|██████▊   | 63/93 [01:57<01:12,  2.42s/it]"
     ]
    },
    {
     "name": "stdout",
     "output_type": "stream",
     "text": [
      "task2_bart_openface/0702_bart_cut.csv\n",
      "Full: (13363, 138)\n",
      "Train: (8953, 138) Test: (2205, 138) Validation (2205, 138)\n"
     ]
    },
    {
     "name": "stderr",
     "output_type": "stream",
     "text": [
      "\r",
      " 69%|██████▉   | 64/93 [02:00<01:12,  2.50s/it]"
     ]
    },
    {
     "name": "stdout",
     "output_type": "stream",
     "text": [
      "task2_bart_openface/1402_bart_cut.csv\n",
      "Full: (17106, 138)\n",
      "Train: (11461, 138) Test: (2822, 138) Validation (2823, 138)\n"
     ]
    },
    {
     "name": "stderr",
     "output_type": "stream",
     "text": [
      "\r",
      " 70%|██████▉   | 65/93 [02:03<01:13,  2.64s/it]"
     ]
    },
    {
     "name": "stdout",
     "output_type": "stream",
     "text": [
      "task2_bart_openface/0501_bart_cut.csv\n",
      "Full: (29969, 138)\n",
      "Train: (20079, 138) Test: (4945, 138) Validation (4945, 138)\n"
     ]
    },
    {
     "name": "stderr",
     "output_type": "stream",
     "text": [
      "\r",
      " 71%|███████   | 66/93 [02:07<01:28,  3.29s/it]"
     ]
    },
    {
     "name": "stdout",
     "output_type": "stream",
     "text": [
      "task2_bart_openface/Sona0202_bart_cut.csv\n",
      "Full: (13904, 138)\n",
      "Train: (9315, 138) Test: (2294, 138) Validation (2295, 138)\n"
     ]
    },
    {
     "name": "stderr",
     "output_type": "stream",
     "text": [
      "\r",
      " 72%|███████▏  | 67/93 [02:10<01:20,  3.11s/it]"
     ]
    },
    {
     "name": "stdout",
     "output_type": "stream",
     "text": [
      "task2_bart_openface/Sona0301_bart_cut.csv\n",
      "Full: (25035, 138)\n",
      "Train: (16773, 138) Test: (4131, 138) Validation (4131, 138)\n"
     ]
    },
    {
     "name": "stderr",
     "output_type": "stream",
     "text": [
      "\r",
      " 73%|███████▎  | 68/93 [02:14<01:23,  3.34s/it]"
     ]
    },
    {
     "name": "stdout",
     "output_type": "stream",
     "text": [
      "task3_jenga_openface/1301_jenga_cut.csv\n",
      "Full: (9455, 138)\n",
      "Train: (6334, 138) Test: (1560, 138) Validation (1561, 138)\n"
     ]
    },
    {
     "name": "stderr",
     "output_type": "stream",
     "text": [
      "\r",
      " 74%|███████▍  | 69/93 [02:16<01:12,  3.03s/it]"
     ]
    },
    {
     "name": "stdout",
     "output_type": "stream",
     "text": [
      "task3_jenga_openface/1302_jenga_cut.csv\n",
      "Full: (9391, 138)\n",
      "Train: (6291, 138) Test: (1550, 138) Validation (1550, 138)\n"
     ]
    },
    {
     "name": "stderr",
     "output_type": "stream",
     "text": [
      "\r",
      " 75%|███████▌  | 70/93 [02:19<01:04,  2.81s/it]"
     ]
    },
    {
     "name": "stdout",
     "output_type": "stream",
     "text": [
      "task3_jenga_openface/Sona0202_jenga_cut.csv\n",
      "Full: (8981, 138)\n",
      "Train: (6017, 138) Test: (1482, 138) Validation (1482, 138)\n"
     ]
    },
    {
     "name": "stderr",
     "output_type": "stream",
     "text": [
      "\r",
      " 76%|███████▋  | 71/93 [02:21<00:58,  2.64s/it]"
     ]
    },
    {
     "name": "stdout",
     "output_type": "stream",
     "text": [
      "task3_jenga_openface/Sona_jenga_0301.csv\n",
      "Full: (9043, 138)\n",
      "Train: (6058, 138) Test: (1492, 138) Validation (1493, 138)\n"
     ]
    },
    {
     "name": "stderr",
     "output_type": "stream",
     "text": [
      "\r",
      " 77%|███████▋  | 72/93 [02:23<00:53,  2.54s/it]"
     ]
    },
    {
     "name": "stdout",
     "output_type": "stream",
     "text": [
      "task3_jenga_openface/1702_Jenga_Cut .csv\n",
      "Full: (7627, 138)\n",
      "Train: (5110, 138) Test: (1258, 138) Validation (1259, 138)\n"
     ]
    },
    {
     "name": "stderr",
     "output_type": "stream",
     "text": [
      "\r",
      " 78%|███████▊  | 73/93 [02:25<00:48,  2.42s/it]"
     ]
    },
    {
     "name": "stdout",
     "output_type": "stream",
     "text": [
      "task3_jenga_openface/0202_Jenga_cut.csv\n",
      "Full: (8662, 138)\n",
      "Train: (5803, 138) Test: (1429, 138) Validation (1430, 138)\n"
     ]
    },
    {
     "name": "stderr",
     "output_type": "stream",
     "text": [
      "\r",
      " 80%|███████▉  | 74/93 [02:27<00:44,  2.36s/it]"
     ]
    },
    {
     "name": "stdout",
     "output_type": "stream",
     "text": [
      "task3_jenga_openface/1801_Jenga Cut .csv\n",
      "Full: (10984, 138)\n",
      "Train: (7359, 138) Test: (1812, 138) Validation (1813, 138)\n"
     ]
    },
    {
     "name": "stderr",
     "output_type": "stream",
     "text": [
      "\r",
      " 81%|████████  | 75/93 [02:30<00:43,  2.41s/it]"
     ]
    },
    {
     "name": "stdout",
     "output_type": "stream",
     "text": [
      "task3_jenga_openface/0402_Jenga_cut.csv\n",
      "Full: (9816, 138)\n",
      "Train: (6576, 138) Test: (1620, 138) Validation (1620, 138)\n"
     ]
    },
    {
     "name": "stderr",
     "output_type": "stream",
     "text": [
      "\r",
      " 82%|████████▏ | 76/93 [02:32<00:40,  2.41s/it]"
     ]
    },
    {
     "name": "stdout",
     "output_type": "stream",
     "text": [
      "task3_jenga_openface/Sona0302_jenga_cut.csv\n",
      "Full: (9019, 138)\n",
      "Train: (6042, 138) Test: (1488, 138) Validation (1489, 138)\n"
     ]
    },
    {
     "name": "stderr",
     "output_type": "stream",
     "text": [
      "\r",
      " 83%|████████▎ | 77/93 [02:35<00:38,  2.39s/it]"
     ]
    },
    {
     "name": "stdout",
     "output_type": "stream",
     "text": [
      "task3_jenga_openface/Sona0102_jenga_cut.csv\n",
      "Full: (7790, 138)\n",
      "Train: (5219, 138) Test: (1285, 138) Validation (1286, 138)\n"
     ]
    },
    {
     "name": "stderr",
     "output_type": "stream",
     "text": [
      "\r",
      " 84%|████████▍ | 78/93 [02:37<00:35,  2.34s/it]"
     ]
    },
    {
     "name": "stdout",
     "output_type": "stream",
     "text": [
      "task3_jenga_openface/1701_Jenga_Cut .csv\n",
      "Full: (7904, 138)\n",
      "Train: (5295, 138) Test: (1304, 138) Validation (1305, 138)\n"
     ]
    },
    {
     "name": "stderr",
     "output_type": "stream",
     "text": [
      "\r",
      " 85%|████████▍ | 79/93 [02:39<00:32,  2.34s/it]"
     ]
    },
    {
     "name": "stdout",
     "output_type": "stream",
     "text": [
      "task3_jenga_openface/Sona0201_jenga_cut.csv\n",
      "Full: (8814, 138)\n",
      "Train: (5905, 138) Test: (1454, 138) Validation (1455, 138)\n"
     ]
    },
    {
     "name": "stderr",
     "output_type": "stream",
     "text": [
      "\r",
      " 86%|████████▌ | 80/93 [02:42<00:30,  2.38s/it]"
     ]
    },
    {
     "name": "stdout",
     "output_type": "stream",
     "text": [
      "task3_jenga_openface/0401_Jenga_cut.csv\n",
      "Full: (9411, 138)\n",
      "Train: (6305, 138) Test: (1553, 138) Validation (1553, 138)\n"
     ]
    },
    {
     "name": "stderr",
     "output_type": "stream",
     "text": [
      "\r",
      " 87%|████████▋ | 81/93 [02:44<00:28,  2.42s/it]"
     ]
    },
    {
     "name": "stdout",
     "output_type": "stream",
     "text": [
      "task3_jenga_openface/0501_Jenga_cut.csv\n",
      "Full: (9179, 138)\n",
      "Train: (6149, 138) Test: (1515, 138) Validation (1515, 138)\n"
     ]
    },
    {
     "name": "stderr",
     "output_type": "stream",
     "text": [
      "\r",
      " 88%|████████▊ | 82/93 [02:47<00:26,  2.44s/it]"
     ]
    },
    {
     "name": "stdout",
     "output_type": "stream",
     "text": [
      "task3_jenga_openface/0201_Jenga_cut.csv\n",
      "Full: (8636, 138)\n",
      "Train: (5786, 138) Test: (1425, 138) Validation (1425, 138)\n"
     ]
    },
    {
     "name": "stderr",
     "output_type": "stream",
     "text": [
      "\r",
      " 89%|████████▉ | 83/93 [02:49<00:24,  2.44s/it]"
     ]
    },
    {
     "name": "stdout",
     "output_type": "stream",
     "text": [
      "task3_jenga_openface/1201_jenga_cut.csv\n",
      "Full: (9290, 138)\n",
      "Train: (6224, 138) Test: (1533, 138) Validation (1533, 138)\n"
     ]
    },
    {
     "name": "stderr",
     "output_type": "stream",
     "text": [
      "\r",
      " 90%|█████████ | 84/93 [02:52<00:22,  2.45s/it]"
     ]
    },
    {
     "name": "stdout",
     "output_type": "stream",
     "text": [
      "task3_jenga_openface/1402_jenga_cut.csv\n",
      "Full: (9072, 138)\n",
      "Train: (6078, 138) Test: (1497, 138) Validation (1497, 138)\n"
     ]
    },
    {
     "name": "stderr",
     "output_type": "stream",
     "text": [
      "\r",
      " 91%|█████████▏| 85/93 [02:54<00:19,  2.49s/it]"
     ]
    },
    {
     "name": "stdout",
     "output_type": "stream",
     "text": [
      "task3_jenga_openface/1502_jenga_cut.csv\n",
      "Full: (9143, 138)\n",
      "Train: (6125, 138) Test: (1509, 138) Validation (1509, 138)\n"
     ]
    },
    {
     "name": "stderr",
     "output_type": "stream",
     "text": [
      "\r",
      " 92%|█████████▏| 86/93 [02:57<00:17,  2.50s/it]"
     ]
    },
    {
     "name": "stdout",
     "output_type": "stream",
     "text": [
      "task3_jenga_openface/1501_jenga_cut.csv\n",
      "Full: (9119, 138)\n",
      "Train: (6109, 138) Test: (1505, 138) Validation (1505, 138)\n"
     ]
    },
    {
     "name": "stderr",
     "output_type": "stream",
     "text": [
      "\r",
      " 94%|█████████▎| 87/93 [02:59<00:15,  2.50s/it]"
     ]
    },
    {
     "name": "stdout",
     "output_type": "stream",
     "text": [
      "task3_jenga_openface/0302_Jenga_cut.csv\n",
      "Full: (9629, 138)\n",
      "Train: (6451, 138) Test: (1589, 138) Validation (1589, 138)\n"
     ]
    },
    {
     "name": "stderr",
     "output_type": "stream",
     "text": [
      "\r",
      " 95%|█████████▍| 88/93 [03:02<00:12,  2.51s/it]"
     ]
    },
    {
     "name": "stdout",
     "output_type": "stream",
     "text": [
      "task3_jenga_openface/1202_jenga_cut.csv\n",
      "Full: (9282, 138)\n",
      "Train: (6218, 138) Test: (1532, 138) Validation (1532, 138)\n"
     ]
    },
    {
     "name": "stderr",
     "output_type": "stream",
     "text": [
      "\r",
      " 96%|█████████▌| 89/93 [03:05<00:10,  2.56s/it]"
     ]
    },
    {
     "name": "stdout",
     "output_type": "stream",
     "text": [
      "task3_jenga_openface/0101_Jenga_cut.csv\n",
      "Full: (8983, 138)\n",
      "Train: (6018, 138) Test: (1482, 138) Validation (1483, 138)\n"
     ]
    },
    {
     "name": "stderr",
     "output_type": "stream",
     "text": [
      "\r",
      " 97%|█████████▋| 90/93 [03:07<00:07,  2.56s/it]"
     ]
    },
    {
     "name": "stdout",
     "output_type": "stream",
     "text": [
      "task3_jenga_openface/Sona0101_jenga_cut.csv\n",
      "Full: (7591, 138)\n",
      "Train: (5085, 138) Test: (1253, 138) Validation (1253, 138)\n"
     ]
    },
    {
     "name": "stderr",
     "output_type": "stream",
     "text": [
      "\r",
      " 98%|█████████▊| 91/93 [03:10<00:05,  2.54s/it]"
     ]
    },
    {
     "name": "stdout",
     "output_type": "stream",
     "text": [
      "task3_jenga_openface/1401_jenga_cut.csv\n",
      "Full: (9065, 138)\n",
      "Train: (6073, 138) Test: (1496, 138) Validation (1496, 138)\n"
     ]
    },
    {
     "name": "stderr",
     "output_type": "stream",
     "text": [
      "\r",
      " 99%|█████████▉| 92/93 [03:12<00:02,  2.56s/it]"
     ]
    },
    {
     "name": "stdout",
     "output_type": "stream",
     "text": [
      "task3_jenga_openface/0301_Jenga_cut.csv\n",
      "Full: (9610, 138)\n",
      "Train: (6438, 138) Test: (1586, 138) Validation (1586, 138)\n"
     ]
    },
    {
     "name": "stderr",
     "output_type": "stream",
     "text": [
      "100%|██████████| 93/93 [03:15<00:00,  2.10s/it]\n"
     ]
    },
    {
     "name": "stdout",
     "output_type": "stream",
     "text": [
      "\n",
      "\n",
      "FINAL\n",
      "Train: (706727, 138) Test: (174058, 138) Validation (174104, 138)\n"
     ]
    }
   ],
   "source": [
    "from sklearn.model_selection import train_test_split\n",
    "\n",
    "indicies = ['frame'] + ['x_{0}'.format(i) for i in range(0,68)] + ['y_{0}'.format(i) for i in range(0,68)]\n",
    "\n",
    "flag = True\n",
    "Train = None\n",
    "Test = None\n",
    "Valid = None\n",
    "\n",
    "for f in tqdm(list(files)):\n",
    "    \n",
    "    # Load CSV\n",
    "    print(f)\n",
    "    df = pd.read_csv(\n",
    "            os.path.join(path,f), \n",
    "            error_bad_lines=False, \n",
    "            warn_bad_lines=True)\n",
    "    \n",
    "    face_lmk = df[indicies]\n",
    "    \n",
    "    # Filter NaN rows\n",
    "    nans = df[df[indicies].isnull().any(axis=1)]\n",
    "    if not nans.empty:\n",
    "        dropList = nans.index.tolist()\n",
    "        for r in dropList:\n",
    "            warnings.warn('Dropping row due to NaN, {0}'.format(r))\n",
    "        face_lmk.drop(dropList, inplace=True)\n",
    "        \n",
    "    face_lmk.insert(0,'filename',[f for i in range(0,face_lmk.shape[0])],True)\n",
    "        \n",
    "    print('Full:',face_lmk.shape)\n",
    "    \n",
    "    # Create Training, Test, Validation subsets\n",
    "    train, tmp = train_test_split(face_lmk, test_size=0.33)\n",
    "    test, val = train_test_split(tmp, test_size=0.5)\n",
    "    print('Train:',train.shape,'Test:',test.shape,'Validation',val.shape)\n",
    "    \n",
    "    if flag:\n",
    "        flag = False\n",
    "        Train = train\n",
    "        Test = test\n",
    "        Valid = val\n",
    "    else:\n",
    "        Train = Train.append(train)\n",
    "        Test = Test.append(test)\n",
    "        Valid = Valid.append(val)\n",
    "\n",
    "# Final Dataset (shuffled)\n",
    "Train = Train.sample(frac=1).reset_index(drop=True)\n",
    "Test = Test.sample(frac=1).reset_index(drop=True)\n",
    "Valid = Valid.sample(frac=1).reset_index(drop=True)\n",
    "\n",
    "print('\\n\\nFINAL')\n",
    "print('Train:',Train.shape,'Test:',Test.shape,'Validation',Valid.shape)"
   ]
  },
  {
   "cell_type": "code",
   "execution_count": 6,
   "metadata": {},
   "outputs": [
    {
     "data": {
      "text/html": [
       "<div>\n",
       "<style scoped>\n",
       "    .dataframe tbody tr th:only-of-type {\n",
       "        vertical-align: middle;\n",
       "    }\n",
       "\n",
       "    .dataframe tbody tr th {\n",
       "        vertical-align: top;\n",
       "    }\n",
       "\n",
       "    .dataframe thead th {\n",
       "        text-align: right;\n",
       "    }\n",
       "</style>\n",
       "<table border=\"1\" class=\"dataframe\">\n",
       "  <thead>\n",
       "    <tr style=\"text-align: right;\">\n",
       "      <th></th>\n",
       "      <th>filename</th>\n",
       "      <th>frame</th>\n",
       "      <th>x_0</th>\n",
       "      <th>x_1</th>\n",
       "      <th>x_2</th>\n",
       "      <th>x_3</th>\n",
       "      <th>x_4</th>\n",
       "      <th>x_5</th>\n",
       "      <th>x_6</th>\n",
       "      <th>x_7</th>\n",
       "      <th>...</th>\n",
       "      <th>y_58</th>\n",
       "      <th>y_59</th>\n",
       "      <th>y_60</th>\n",
       "      <th>y_61</th>\n",
       "      <th>y_62</th>\n",
       "      <th>y_63</th>\n",
       "      <th>y_64</th>\n",
       "      <th>y_65</th>\n",
       "      <th>y_66</th>\n",
       "      <th>y_67</th>\n",
       "    </tr>\n",
       "  </thead>\n",
       "  <tbody>\n",
       "    <tr>\n",
       "      <th>0</th>\n",
       "      <td>task3_jenga_openface/1801_Jenga Cut .csv</td>\n",
       "      <td>140.0</td>\n",
       "      <td>739.5</td>\n",
       "      <td>714.5</td>\n",
       "      <td>696.2</td>\n",
       "      <td>691.5</td>\n",
       "      <td>709.9</td>\n",
       "      <td>749.4</td>\n",
       "      <td>806.7</td>\n",
       "      <td>876.1</td>\n",
       "      <td>...</td>\n",
       "      <td>1140.2</td>\n",
       "      <td>1120.9</td>\n",
       "      <td>1057.3</td>\n",
       "      <td>1082.2</td>\n",
       "      <td>1080.2</td>\n",
       "      <td>1073.8</td>\n",
       "      <td>1039.4</td>\n",
       "      <td>1094.7</td>\n",
       "      <td>1102.8</td>\n",
       "      <td>1106.7</td>\n",
       "    </tr>\n",
       "    <tr>\n",
       "      <th>1</th>\n",
       "      <td>task2_bart_openface/1201_bart_cut.csv</td>\n",
       "      <td>14904.0</td>\n",
       "      <td>866.0</td>\n",
       "      <td>863.5</td>\n",
       "      <td>868.5</td>\n",
       "      <td>881.1</td>\n",
       "      <td>894.8</td>\n",
       "      <td>916.0</td>\n",
       "      <td>938.3</td>\n",
       "      <td>964.9</td>\n",
       "      <td>...</td>\n",
       "      <td>756.5</td>\n",
       "      <td>747.1</td>\n",
       "      <td>729.3</td>\n",
       "      <td>731.8</td>\n",
       "      <td>734.6</td>\n",
       "      <td>734.9</td>\n",
       "      <td>731.7</td>\n",
       "      <td>737.1</td>\n",
       "      <td>736.4</td>\n",
       "      <td>733.4</td>\n",
       "    </tr>\n",
       "    <tr>\n",
       "      <th>2</th>\n",
       "      <td>task3_jenga_openface/1801_Jenga Cut .csv</td>\n",
       "      <td>376.0</td>\n",
       "      <td>1344.7</td>\n",
       "      <td>1334.4</td>\n",
       "      <td>1323.0</td>\n",
       "      <td>1310.8</td>\n",
       "      <td>1296.2</td>\n",
       "      <td>1278.9</td>\n",
       "      <td>1260.4</td>\n",
       "      <td>1241.8</td>\n",
       "      <td>...</td>\n",
       "      <td>697.3</td>\n",
       "      <td>694.5</td>\n",
       "      <td>688.0</td>\n",
       "      <td>696.5</td>\n",
       "      <td>695.7</td>\n",
       "      <td>692.7</td>\n",
       "      <td>676.9</td>\n",
       "      <td>692.3</td>\n",
       "      <td>695.4</td>\n",
       "      <td>696.0</td>\n",
       "    </tr>\n",
       "    <tr>\n",
       "      <th>3</th>\n",
       "      <td>task3_jenga_openface/1401_jenga_cut.csv</td>\n",
       "      <td>1669.0</td>\n",
       "      <td>930.2</td>\n",
       "      <td>934.6</td>\n",
       "      <td>943.5</td>\n",
       "      <td>956.5</td>\n",
       "      <td>971.9</td>\n",
       "      <td>990.7</td>\n",
       "      <td>1008.9</td>\n",
       "      <td>1027.9</td>\n",
       "      <td>...</td>\n",
       "      <td>658.6</td>\n",
       "      <td>652.1</td>\n",
       "      <td>641.9</td>\n",
       "      <td>646.5</td>\n",
       "      <td>647.6</td>\n",
       "      <td>645.8</td>\n",
       "      <td>635.5</td>\n",
       "      <td>646.4</td>\n",
       "      <td>647.7</td>\n",
       "      <td>646.1</td>\n",
       "    </tr>\n",
       "    <tr>\n",
       "      <th>4</th>\n",
       "      <td>task2_bart_openface/0202_bart_cut.csv</td>\n",
       "      <td>3423.0</td>\n",
       "      <td>903.1</td>\n",
       "      <td>906.9</td>\n",
       "      <td>915.2</td>\n",
       "      <td>927.1</td>\n",
       "      <td>941.2</td>\n",
       "      <td>960.6</td>\n",
       "      <td>981.9</td>\n",
       "      <td>1006.1</td>\n",
       "      <td>...</td>\n",
       "      <td>735.8</td>\n",
       "      <td>733.5</td>\n",
       "      <td>723.4</td>\n",
       "      <td>721.5</td>\n",
       "      <td>719.8</td>\n",
       "      <td>715.0</td>\n",
       "      <td>704.9</td>\n",
       "      <td>715.0</td>\n",
       "      <td>719.5</td>\n",
       "      <td>721.2</td>\n",
       "    </tr>\n",
       "  </tbody>\n",
       "</table>\n",
       "<p>5 rows × 138 columns</p>\n",
       "</div>"
      ],
      "text/plain": [
       "                                   filename    frame     x_0     x_1     x_2  \\\n",
       "0  task3_jenga_openface/1801_Jenga Cut .csv    140.0   739.5   714.5   696.2   \n",
       "1     task2_bart_openface/1201_bart_cut.csv  14904.0   866.0   863.5   868.5   \n",
       "2  task3_jenga_openface/1801_Jenga Cut .csv    376.0  1344.7  1334.4  1323.0   \n",
       "3   task3_jenga_openface/1401_jenga_cut.csv   1669.0   930.2   934.6   943.5   \n",
       "4     task2_bart_openface/0202_bart_cut.csv   3423.0   903.1   906.9   915.2   \n",
       "\n",
       "      x_3     x_4     x_5     x_6     x_7  ...    y_58    y_59    y_60  \\\n",
       "0   691.5   709.9   749.4   806.7   876.1  ...  1140.2  1120.9  1057.3   \n",
       "1   881.1   894.8   916.0   938.3   964.9  ...   756.5   747.1   729.3   \n",
       "2  1310.8  1296.2  1278.9  1260.4  1241.8  ...   697.3   694.5   688.0   \n",
       "3   956.5   971.9   990.7  1008.9  1027.9  ...   658.6   652.1   641.9   \n",
       "4   927.1   941.2   960.6   981.9  1006.1  ...   735.8   733.5   723.4   \n",
       "\n",
       "     y_61    y_62    y_63    y_64    y_65    y_66    y_67  \n",
       "0  1082.2  1080.2  1073.8  1039.4  1094.7  1102.8  1106.7  \n",
       "1   731.8   734.6   734.9   731.7   737.1   736.4   733.4  \n",
       "2   696.5   695.7   692.7   676.9   692.3   695.4   696.0  \n",
       "3   646.5   647.6   645.8   635.5   646.4   647.7   646.1  \n",
       "4   721.5   719.8   715.0   704.9   715.0   719.5   721.2  \n",
       "\n",
       "[5 rows x 138 columns]"
      ]
     },
     "execution_count": 6,
     "metadata": {},
     "output_type": "execute_result"
    }
   ],
   "source": [
    "Train.head()"
   ]
  },
  {
   "cell_type": "code",
   "execution_count": 7,
   "metadata": {},
   "outputs": [
    {
     "data": {
      "text/html": [
       "<div>\n",
       "<style scoped>\n",
       "    .dataframe tbody tr th:only-of-type {\n",
       "        vertical-align: middle;\n",
       "    }\n",
       "\n",
       "    .dataframe tbody tr th {\n",
       "        vertical-align: top;\n",
       "    }\n",
       "\n",
       "    .dataframe thead th {\n",
       "        text-align: right;\n",
       "    }\n",
       "</style>\n",
       "<table border=\"1\" class=\"dataframe\">\n",
       "  <thead>\n",
       "    <tr style=\"text-align: right;\">\n",
       "      <th></th>\n",
       "      <th>filename</th>\n",
       "      <th>frame</th>\n",
       "      <th>x_0</th>\n",
       "      <th>x_1</th>\n",
       "      <th>x_2</th>\n",
       "      <th>x_3</th>\n",
       "      <th>x_4</th>\n",
       "      <th>x_5</th>\n",
       "      <th>x_6</th>\n",
       "      <th>x_7</th>\n",
       "      <th>...</th>\n",
       "      <th>y_58</th>\n",
       "      <th>y_59</th>\n",
       "      <th>y_60</th>\n",
       "      <th>y_61</th>\n",
       "      <th>y_62</th>\n",
       "      <th>y_63</th>\n",
       "      <th>y_64</th>\n",
       "      <th>y_65</th>\n",
       "      <th>y_66</th>\n",
       "      <th>y_67</th>\n",
       "    </tr>\n",
       "  </thead>\n",
       "  <tbody>\n",
       "    <tr>\n",
       "      <th>0</th>\n",
       "      <td>task2_bart_openface/1301_bart_cut.csv</td>\n",
       "      <td>9199.0</td>\n",
       "      <td>764.8</td>\n",
       "      <td>764.4</td>\n",
       "      <td>768.1</td>\n",
       "      <td>776.2</td>\n",
       "      <td>788.2</td>\n",
       "      <td>807.6</td>\n",
       "      <td>827.8</td>\n",
       "      <td>852.4</td>\n",
       "      <td>...</td>\n",
       "      <td>474.2</td>\n",
       "      <td>463.5</td>\n",
       "      <td>439.3</td>\n",
       "      <td>437.0</td>\n",
       "      <td>438.7</td>\n",
       "      <td>437.0</td>\n",
       "      <td>438.0</td>\n",
       "      <td>456.7</td>\n",
       "      <td>458.4</td>\n",
       "      <td>456.7</td>\n",
       "    </tr>\n",
       "    <tr>\n",
       "      <th>1</th>\n",
       "      <td>task3_jenga_openface/0301_Jenga_cut.csv</td>\n",
       "      <td>7285.0</td>\n",
       "      <td>784.4</td>\n",
       "      <td>784.0</td>\n",
       "      <td>791.9</td>\n",
       "      <td>803.2</td>\n",
       "      <td>813.9</td>\n",
       "      <td>826.6</td>\n",
       "      <td>842.0</td>\n",
       "      <td>862.7</td>\n",
       "      <td>...</td>\n",
       "      <td>959.3</td>\n",
       "      <td>956.4</td>\n",
       "      <td>947.9</td>\n",
       "      <td>940.3</td>\n",
       "      <td>940.3</td>\n",
       "      <td>939.7</td>\n",
       "      <td>947.3</td>\n",
       "      <td>940.3</td>\n",
       "      <td>940.8</td>\n",
       "      <td>939.9</td>\n",
       "    </tr>\n",
       "    <tr>\n",
       "      <th>2</th>\n",
       "      <td>task2_bart_openface/0302_bart_cut.csv</td>\n",
       "      <td>3323.0</td>\n",
       "      <td>804.9</td>\n",
       "      <td>800.1</td>\n",
       "      <td>798.9</td>\n",
       "      <td>799.9</td>\n",
       "      <td>803.2</td>\n",
       "      <td>811.6</td>\n",
       "      <td>823.4</td>\n",
       "      <td>839.9</td>\n",
       "      <td>...</td>\n",
       "      <td>752.9</td>\n",
       "      <td>746.7</td>\n",
       "      <td>739.8</td>\n",
       "      <td>741.0</td>\n",
       "      <td>744.5</td>\n",
       "      <td>745.2</td>\n",
       "      <td>750.5</td>\n",
       "      <td>743.7</td>\n",
       "      <td>742.6</td>\n",
       "      <td>739.2</td>\n",
       "    </tr>\n",
       "    <tr>\n",
       "      <th>3</th>\n",
       "      <td>task1_sandwich_openface/0201_sandwich_cut.csv</td>\n",
       "      <td>1938.0</td>\n",
       "      <td>918.6</td>\n",
       "      <td>921.9</td>\n",
       "      <td>930.0</td>\n",
       "      <td>941.7</td>\n",
       "      <td>953.2</td>\n",
       "      <td>965.5</td>\n",
       "      <td>975.7</td>\n",
       "      <td>986.3</td>\n",
       "      <td>...</td>\n",
       "      <td>402.6</td>\n",
       "      <td>399.4</td>\n",
       "      <td>393.2</td>\n",
       "      <td>391.2</td>\n",
       "      <td>392.4</td>\n",
       "      <td>392.3</td>\n",
       "      <td>390.0</td>\n",
       "      <td>392.6</td>\n",
       "      <td>392.5</td>\n",
       "      <td>390.9</td>\n",
       "    </tr>\n",
       "    <tr>\n",
       "      <th>4</th>\n",
       "      <td>task2_bart_openface/0502_bart_cut.csv</td>\n",
       "      <td>6892.0</td>\n",
       "      <td>671.2</td>\n",
       "      <td>665.9</td>\n",
       "      <td>666.7</td>\n",
       "      <td>674.7</td>\n",
       "      <td>687.2</td>\n",
       "      <td>708.6</td>\n",
       "      <td>734.8</td>\n",
       "      <td>766.5</td>\n",
       "      <td>...</td>\n",
       "      <td>752.2</td>\n",
       "      <td>742.9</td>\n",
       "      <td>722.3</td>\n",
       "      <td>723.3</td>\n",
       "      <td>725.6</td>\n",
       "      <td>724.7</td>\n",
       "      <td>727.5</td>\n",
       "      <td>726.7</td>\n",
       "      <td>726.8</td>\n",
       "      <td>723.8</td>\n",
       "    </tr>\n",
       "  </tbody>\n",
       "</table>\n",
       "<p>5 rows × 138 columns</p>\n",
       "</div>"
      ],
      "text/plain": [
       "                                        filename   frame    x_0    x_1    x_2  \\\n",
       "0          task2_bart_openface/1301_bart_cut.csv  9199.0  764.8  764.4  768.1   \n",
       "1        task3_jenga_openface/0301_Jenga_cut.csv  7285.0  784.4  784.0  791.9   \n",
       "2          task2_bart_openface/0302_bart_cut.csv  3323.0  804.9  800.1  798.9   \n",
       "3  task1_sandwich_openface/0201_sandwich_cut.csv  1938.0  918.6  921.9  930.0   \n",
       "4          task2_bart_openface/0502_bart_cut.csv  6892.0  671.2  665.9  666.7   \n",
       "\n",
       "     x_3    x_4    x_5    x_6    x_7  ...   y_58   y_59   y_60   y_61   y_62  \\\n",
       "0  776.2  788.2  807.6  827.8  852.4  ...  474.2  463.5  439.3  437.0  438.7   \n",
       "1  803.2  813.9  826.6  842.0  862.7  ...  959.3  956.4  947.9  940.3  940.3   \n",
       "2  799.9  803.2  811.6  823.4  839.9  ...  752.9  746.7  739.8  741.0  744.5   \n",
       "3  941.7  953.2  965.5  975.7  986.3  ...  402.6  399.4  393.2  391.2  392.4   \n",
       "4  674.7  687.2  708.6  734.8  766.5  ...  752.2  742.9  722.3  723.3  725.6   \n",
       "\n",
       "    y_63   y_64   y_65   y_66   y_67  \n",
       "0  437.0  438.0  456.7  458.4  456.7  \n",
       "1  939.7  947.3  940.3  940.8  939.9  \n",
       "2  745.2  750.5  743.7  742.6  739.2  \n",
       "3  392.3  390.0  392.6  392.5  390.9  \n",
       "4  724.7  727.5  726.7  726.8  723.8  \n",
       "\n",
       "[5 rows x 138 columns]"
      ]
     },
     "execution_count": 7,
     "metadata": {},
     "output_type": "execute_result"
    }
   ],
   "source": [
    "Test.head()"
   ]
  },
  {
   "cell_type": "code",
   "execution_count": 8,
   "metadata": {},
   "outputs": [
    {
     "data": {
      "text/html": [
       "<div>\n",
       "<style scoped>\n",
       "    .dataframe tbody tr th:only-of-type {\n",
       "        vertical-align: middle;\n",
       "    }\n",
       "\n",
       "    .dataframe tbody tr th {\n",
       "        vertical-align: top;\n",
       "    }\n",
       "\n",
       "    .dataframe thead th {\n",
       "        text-align: right;\n",
       "    }\n",
       "</style>\n",
       "<table border=\"1\" class=\"dataframe\">\n",
       "  <thead>\n",
       "    <tr style=\"text-align: right;\">\n",
       "      <th></th>\n",
       "      <th>filename</th>\n",
       "      <th>frame</th>\n",
       "      <th>x_0</th>\n",
       "      <th>x_1</th>\n",
       "      <th>x_2</th>\n",
       "      <th>x_3</th>\n",
       "      <th>x_4</th>\n",
       "      <th>x_5</th>\n",
       "      <th>x_6</th>\n",
       "      <th>x_7</th>\n",
       "      <th>...</th>\n",
       "      <th>y_58</th>\n",
       "      <th>y_59</th>\n",
       "      <th>y_60</th>\n",
       "      <th>y_61</th>\n",
       "      <th>y_62</th>\n",
       "      <th>y_63</th>\n",
       "      <th>y_64</th>\n",
       "      <th>y_65</th>\n",
       "      <th>y_66</th>\n",
       "      <th>y_67</th>\n",
       "    </tr>\n",
       "  </thead>\n",
       "  <tbody>\n",
       "    <tr>\n",
       "      <th>0</th>\n",
       "      <td>task1_sandwich_openface/0501_sandwich_cut.csv</td>\n",
       "      <td>7834.0</td>\n",
       "      <td>585.4</td>\n",
       "      <td>584.7</td>\n",
       "      <td>591.3</td>\n",
       "      <td>606.6</td>\n",
       "      <td>618.5</td>\n",
       "      <td>628.0</td>\n",
       "      <td>634.5</td>\n",
       "      <td>644.8</td>\n",
       "      <td>...</td>\n",
       "      <td>870.3</td>\n",
       "      <td>860.0</td>\n",
       "      <td>841.5</td>\n",
       "      <td>846.6</td>\n",
       "      <td>849.1</td>\n",
       "      <td>848.0</td>\n",
       "      <td>844.1</td>\n",
       "      <td>854.7</td>\n",
       "      <td>855.1</td>\n",
       "      <td>851.6</td>\n",
       "    </tr>\n",
       "    <tr>\n",
       "      <th>1</th>\n",
       "      <td>task2_bart_openface/0701_bart_cut.csv</td>\n",
       "      <td>857.0</td>\n",
       "      <td>715.5</td>\n",
       "      <td>701.2</td>\n",
       "      <td>697.3</td>\n",
       "      <td>699.5</td>\n",
       "      <td>700.4</td>\n",
       "      <td>709.9</td>\n",
       "      <td>733.2</td>\n",
       "      <td>764.8</td>\n",
       "      <td>...</td>\n",
       "      <td>860.8</td>\n",
       "      <td>847.4</td>\n",
       "      <td>820.8</td>\n",
       "      <td>821.7</td>\n",
       "      <td>829.6</td>\n",
       "      <td>832.3</td>\n",
       "      <td>841.4</td>\n",
       "      <td>833.0</td>\n",
       "      <td>832.6</td>\n",
       "      <td>824.6</td>\n",
       "    </tr>\n",
       "    <tr>\n",
       "      <th>2</th>\n",
       "      <td>task2_bart_openface/0401_bart_cut.csv</td>\n",
       "      <td>12047.0</td>\n",
       "      <td>716.3</td>\n",
       "      <td>715.0</td>\n",
       "      <td>716.3</td>\n",
       "      <td>720.9</td>\n",
       "      <td>728.1</td>\n",
       "      <td>738.4</td>\n",
       "      <td>749.7</td>\n",
       "      <td>762.1</td>\n",
       "      <td>...</td>\n",
       "      <td>608.5</td>\n",
       "      <td>601.2</td>\n",
       "      <td>587.9</td>\n",
       "      <td>591.3</td>\n",
       "      <td>593.7</td>\n",
       "      <td>592.8</td>\n",
       "      <td>590.0</td>\n",
       "      <td>598.9</td>\n",
       "      <td>599.9</td>\n",
       "      <td>597.2</td>\n",
       "    </tr>\n",
       "    <tr>\n",
       "      <th>3</th>\n",
       "      <td>task3_jenga_openface/0501_Jenga_cut.csv</td>\n",
       "      <td>8368.0</td>\n",
       "      <td>740.2</td>\n",
       "      <td>766.2</td>\n",
       "      <td>794.1</td>\n",
       "      <td>821.6</td>\n",
       "      <td>847.7</td>\n",
       "      <td>872.1</td>\n",
       "      <td>892.2</td>\n",
       "      <td>909.0</td>\n",
       "      <td>...</td>\n",
       "      <td>1272.9</td>\n",
       "      <td>1262.8</td>\n",
       "      <td>1242.7</td>\n",
       "      <td>1259.2</td>\n",
       "      <td>1259.7</td>\n",
       "      <td>1255.3</td>\n",
       "      <td>1231.6</td>\n",
       "      <td>1259.0</td>\n",
       "      <td>1263.7</td>\n",
       "      <td>1263.1</td>\n",
       "    </tr>\n",
       "    <tr>\n",
       "      <th>4</th>\n",
       "      <td>task2_bart_openface/Sona0201_bart_cut.csv</td>\n",
       "      <td>6171.0</td>\n",
       "      <td>710.3</td>\n",
       "      <td>708.8</td>\n",
       "      <td>714.1</td>\n",
       "      <td>722.3</td>\n",
       "      <td>730.7</td>\n",
       "      <td>742.0</td>\n",
       "      <td>756.7</td>\n",
       "      <td>778.7</td>\n",
       "      <td>...</td>\n",
       "      <td>671.5</td>\n",
       "      <td>667.0</td>\n",
       "      <td>654.1</td>\n",
       "      <td>650.4</td>\n",
       "      <td>651.0</td>\n",
       "      <td>649.1</td>\n",
       "      <td>651.9</td>\n",
       "      <td>651.8</td>\n",
       "      <td>653.1</td>\n",
       "      <td>651.7</td>\n",
       "    </tr>\n",
       "  </tbody>\n",
       "</table>\n",
       "<p>5 rows × 138 columns</p>\n",
       "</div>"
      ],
      "text/plain": [
       "                                        filename    frame    x_0    x_1  \\\n",
       "0  task1_sandwich_openface/0501_sandwich_cut.csv   7834.0  585.4  584.7   \n",
       "1          task2_bart_openface/0701_bart_cut.csv    857.0  715.5  701.2   \n",
       "2          task2_bart_openface/0401_bart_cut.csv  12047.0  716.3  715.0   \n",
       "3        task3_jenga_openface/0501_Jenga_cut.csv   8368.0  740.2  766.2   \n",
       "4      task2_bart_openface/Sona0201_bart_cut.csv   6171.0  710.3  708.8   \n",
       "\n",
       "     x_2    x_3    x_4    x_5    x_6    x_7  ...    y_58    y_59    y_60  \\\n",
       "0  591.3  606.6  618.5  628.0  634.5  644.8  ...   870.3   860.0   841.5   \n",
       "1  697.3  699.5  700.4  709.9  733.2  764.8  ...   860.8   847.4   820.8   \n",
       "2  716.3  720.9  728.1  738.4  749.7  762.1  ...   608.5   601.2   587.9   \n",
       "3  794.1  821.6  847.7  872.1  892.2  909.0  ...  1272.9  1262.8  1242.7   \n",
       "4  714.1  722.3  730.7  742.0  756.7  778.7  ...   671.5   667.0   654.1   \n",
       "\n",
       "     y_61    y_62    y_63    y_64    y_65    y_66    y_67  \n",
       "0   846.6   849.1   848.0   844.1   854.7   855.1   851.6  \n",
       "1   821.7   829.6   832.3   841.4   833.0   832.6   824.6  \n",
       "2   591.3   593.7   592.8   590.0   598.9   599.9   597.2  \n",
       "3  1259.2  1259.7  1255.3  1231.6  1259.0  1263.7  1263.1  \n",
       "4   650.4   651.0   649.1   651.9   651.8   653.1   651.7  \n",
       "\n",
       "[5 rows x 138 columns]"
      ]
     },
     "execution_count": 8,
     "metadata": {},
     "output_type": "execute_result"
    }
   ],
   "source": [
    "Valid.head()"
   ]
  },
  {
   "cell_type": "code",
   "execution_count": 9,
   "metadata": {},
   "outputs": [],
   "source": [
    "save_path = './data/tmp_analysis/{0}'.format(task_name)\n",
    "save_train_path = save_path + '_train.csv'\n",
    "save_test_path = save_path + '_test.csv'\n",
    "save_valid_path = save_path + '_valid.csv'\n",
    "\n",
    "\n",
    "Train.to_csv(save_train_path)\n",
    "Test.to_csv(save_test_path)\n",
    "Valid.to_csv(save_valid_path)"
   ]
  },
  {
   "cell_type": "markdown",
   "metadata": {},
   "source": [
    "# Task 1 Only"
   ]
  },
  {
   "cell_type": "code",
   "execution_count": 10,
   "metadata": {},
   "outputs": [],
   "source": [
    "task_name = 'task1_sandwich_openface'"
   ]
  },
  {
   "cell_type": "code",
   "execution_count": 11,
   "metadata": {},
   "outputs": [],
   "source": [
    "model_path = './models/{0}/'.format(task_name)"
   ]
  },
  {
   "cell_type": "code",
   "execution_count": 12,
   "metadata": {},
   "outputs": [
    {
     "name": "stdout",
     "output_type": "stream",
     "text": [
      "Num Files: 32\n"
     ]
    }
   ],
   "source": [
    "import os\n",
    "import numpy as np\n",
    "import pandas as pd\n",
    "\n",
    "import warnings\n",
    "from tqdm import tqdm_notebook as tqdm\n",
    "\n",
    "path = './data/openface/{0}'.format(task_name)\n",
    "\n",
    "files = [f for f in os.listdir(path) if os.path.isfile(os.path.join(path,f))]\n",
    "print('Num Files:',len(files))"
   ]
  },
  {
   "cell_type": "code",
   "execution_count": 13,
   "metadata": {},
   "outputs": [
    {
     "name": "stderr",
     "output_type": "stream",
     "text": [
      "/usr/local/lib/python3.6/dist-packages/ipykernel_launcher.py:10: TqdmDeprecationWarning: This function will be removed in tqdm==5.0.0\n",
      "Please use `tqdm.notebook.tqdm` instead of `tqdm.tqdm_notebook`\n",
      "  # Remove the CWD from sys.path while we load stuff.\n"
     ]
    },
    {
     "data": {
      "application/vnd.jupyter.widget-view+json": {
       "model_id": "77a3f7a3797747828c6cc73e2776fd5f",
       "version_major": 2,
       "version_minor": 0
      },
      "text/plain": [
       "  0%|          | 0/32 [00:00<?, ?it/s]"
      ]
     },
     "metadata": {},
     "output_type": "display_data"
    },
    {
     "name": "stdout",
     "output_type": "stream",
     "text": [
      "1501_sandwich_cut.csv\n",
      "Full: (7224, 138)\n",
      "Train: (4840, 138) Test: (1192, 138) Validation (1192, 138)\n",
      "0501_sandwich_cut.csv\n",
      "Full: (9426, 138)\n",
      "Train: (6315, 138) Test: (1555, 138) Validation (1556, 138)\n",
      "0702_sandwich_cut.csv\n",
      "Full: (8501, 138)\n",
      "Train: (5695, 138) Test: (1403, 138) Validation (1403, 138)\n",
      "1101_sandwich_cut.csv\n",
      "Full: (10804, 138)\n",
      "Train: (7238, 138) Test: (1783, 138) Validation (1783, 138)\n",
      "Sona0402_sandwich_cut.csv\n",
      "Full: (6001, 138)\n",
      "Train: (4020, 138) Test: (990, 138) Validation (991, 138)\n",
      "1702_Sandwich_Cut.csv\n",
      "Full: (6674, 138)\n",
      "Train: (4471, 138) Test: (1101, 138) Validation (1102, 138)\n",
      "0701_sandwich_cut.csv\n",
      "Full: (8250, 138)\n",
      "Train: (5527, 138) Test: (1361, 138) Validation (1362, 138)\n",
      "1301_sandwich_cut.csv\n"
     ]
    },
    {
     "name": "stderr",
     "output_type": "stream",
     "text": [
      "b'Skipping line 4053: expected 714 fields, saw 1233\\nSkipping line 4064: expected 714 fields, saw 722\\n'\n",
      "/usr/local/lib/python3.6/dist-packages/ipykernel_launcher.py:26: UserWarning: Dropping row due to NaN, 6548\n",
      "/usr/local/lib/python3.6/dist-packages/ipykernel_launcher.py:26: UserWarning: Dropping row due to NaN, 6552\n",
      "/usr/local/lib/python3.6/dist-packages/pandas/core/frame.py:4174: SettingWithCopyWarning: \n",
      "A value is trying to be set on a copy of a slice from a DataFrame\n",
      "\n",
      "See the caveats in the documentation: https://pandas.pydata.org/pandas-docs/stable/user_guide/indexing.html#returning-a-view-versus-a-copy\n",
      "  errors=errors,\n"
     ]
    },
    {
     "name": "stdout",
     "output_type": "stream",
     "text": [
      "Full: (6570, 138)\n",
      "Train: (4401, 138) Test: (1084, 138) Validation (1085, 138)\n",
      "0402_sandwich_cut.csv\n",
      "Full: (4974, 138)\n",
      "Train: (3332, 138) Test: (821, 138) Validation (821, 138)\n",
      "1502_sandwich_cut.csv\n",
      "Full: (7219, 138)\n",
      "Train: (4836, 138) Test: (1191, 138) Validation (1192, 138)\n",
      "1402_sandwich_cut.csv\n",
      "Full: (7518, 138)\n",
      "Train: (5037, 138) Test: (1240, 138) Validation (1241, 138)\n",
      "1001_sandwich_cut.csv\n",
      "Full: (8028, 138)\n",
      "Train: (5378, 138) Test: (1325, 138) Validation (1325, 138)\n",
      "0502_sandwich_cut.csv\n",
      "Full: (9457, 138)\n",
      "Train: (6336, 138) Test: (1560, 138) Validation (1561, 138)\n",
      "Sona0202_sandwich_cut.csv\n",
      "Full: (6405, 138)\n",
      "Train: (4291, 138) Test: (1057, 138) Validation (1057, 138)\n",
      "0901_sandwich_cut.csv\n",
      "Full: (13190, 138)\n",
      "Train: (8837, 138) Test: (2176, 138) Validation (2177, 138)\n",
      "Sona0401_sandwich_cut.csv\n",
      "Full: (5606, 138)\n",
      "Train: (3756, 138) Test: (925, 138) Validation (925, 138)\n",
      "0101_sandwich_cut.csv\n",
      "Full: (5732, 138)\n",
      "Train: (3840, 138) Test: (946, 138) Validation (946, 138)\n",
      "sona0101_sandwich_cut.csv\n",
      "Full: (4700, 138)\n",
      "Train: (3149, 138) Test: (775, 138) Validation (776, 138)\n",
      "0801_sandwich_cut.csv\n",
      "Full: (11169, 138)\n",
      "Train: (7483, 138) Test: (1843, 138) Validation (1843, 138)\n",
      "0201_sandwich_cut.csv\n",
      "Full: (9953, 138)\n",
      "Train: (6668, 138) Test: (1642, 138) Validation (1643, 138)\n",
      "0302_sandwich_cut.csv\n",
      "Full: (8333, 138)\n",
      "Train: (5583, 138) Test: (1375, 138) Validation (1375, 138)\n",
      "sona0102_sandwich_cut.csv\n",
      "Full: (4735, 138)\n",
      "Train: (3172, 138) Test: (781, 138) Validation (782, 138)\n",
      "1701_Sandwich_Cut.csv\n",
      "Full: (6185, 138)\n",
      "Train: (4143, 138) Test: (1021, 138) Validation (1021, 138)\n",
      "0102_sandwich_cut.csv\n",
      "Full: (5692, 138)\n",
      "Train: (3813, 138) Test: (939, 138) Validation (940, 138)\n",
      "0602_sandwich_cut.csv\n",
      "Full: (10711, 138)\n",
      "Train: (7176, 138) Test: (1767, 138) Validation (1768, 138)\n",
      "Sona0201_sandwich_cut.csv\n",
      "Full: (6358, 138)\n",
      "Train: (4259, 138) Test: (1049, 138) Validation (1050, 138)\n",
      "0802_sandwich_cut.csv\n",
      "Full: (11239, 138)\n",
      "Train: (7530, 138) Test: (1854, 138) Validation (1855, 138)\n",
      "0301_sandwich_cut.csv\n",
      "Full: (8261, 138)\n",
      "Train: (5534, 138) Test: (1363, 138) Validation (1364, 138)\n",
      "0601_sandwich_cut.csv\n",
      "Full: (11538, 138)\n",
      "Train: (7730, 138) Test: (1904, 138) Validation (1904, 138)\n",
      "Sona0302_sandwich_cut.csv\n",
      "Full: (7300, 138)\n",
      "Train: (4891, 138) Test: (1204, 138) Validation (1205, 138)\n",
      "1002_sandwich_cut.csv\n",
      "Full: (8236, 138)\n",
      "Train: (5518, 138) Test: (1359, 138) Validation (1359, 138)\n",
      "1401_sandwich_cut.csv\n",
      "Full: (7476, 138)\n",
      "Train: (5008, 138) Test: (1234, 138) Validation (1234, 138)\n",
      "\n",
      "\n",
      "FINAL\n",
      "Train: (169807, 138) Test: (41820, 138) Validation (41838, 138)\n"
     ]
    }
   ],
   "source": [
    "from sklearn.model_selection import train_test_split\n",
    "\n",
    "indicies = ['frame'] + ['x_{0}'.format(i) for i in range(0,68)] + ['y_{0}'.format(i) for i in range(0,68)]\n",
    "\n",
    "flag = True\n",
    "Train = None\n",
    "Test = None\n",
    "Valid = None\n",
    "\n",
    "for f in tqdm(list(files)):\n",
    "    \n",
    "    # Load CSV\n",
    "    print(f)\n",
    "    df = pd.read_csv(\n",
    "            os.path.join(path,f), \n",
    "            error_bad_lines=False, \n",
    "            warn_bad_lines=True)\n",
    "    \n",
    "    face_lmk = df[indicies]\n",
    "    \n",
    "    # Filter NaN rows\n",
    "    nans = df[df[indicies].isnull().any(axis=1)]\n",
    "    if not nans.empty:\n",
    "        dropList = nans.index.tolist()\n",
    "        for r in dropList:\n",
    "            warnings.warn('Dropping row due to NaN, {0}'.format(r))\n",
    "        face_lmk.drop(dropList, inplace=True)\n",
    "        \n",
    "    face_lmk.insert(0,'filename',[f for i in range(0,face_lmk.shape[0])],True)\n",
    "        \n",
    "    print('Full:',face_lmk.shape)\n",
    "    \n",
    "    # Create Training, Test, Validation subsets\n",
    "    train, tmp = train_test_split(face_lmk, test_size=0.33)\n",
    "    test, val = train_test_split(tmp, test_size=0.5)\n",
    "    print('Train:',train.shape,'Test:',test.shape,'Validation',val.shape)\n",
    "    \n",
    "    if flag:\n",
    "        flag = False\n",
    "        Train = train\n",
    "        Test = test\n",
    "        Valid = val\n",
    "    else:\n",
    "        Train = Train.append(train)\n",
    "        Test = Test.append(test)\n",
    "        Valid = Valid.append(val)\n",
    "\n",
    "# Final Dataset (shuffled)\n",
    "Train = Train.sample(frac=1).reset_index(drop=True)\n",
    "Test = Test.sample(frac=1).reset_index(drop=True)\n",
    "Valid = Valid.sample(frac=1).reset_index(drop=True)\n",
    "\n",
    "print('\\n\\nFINAL')\n",
    "print('Train:',Train.shape,'Test:',Test.shape,'Validation',Valid.shape)"
   ]
  },
  {
   "cell_type": "code",
   "execution_count": 14,
   "metadata": {},
   "outputs": [
    {
     "data": {
      "text/html": [
       "<div>\n",
       "<style scoped>\n",
       "    .dataframe tbody tr th:only-of-type {\n",
       "        vertical-align: middle;\n",
       "    }\n",
       "\n",
       "    .dataframe tbody tr th {\n",
       "        vertical-align: top;\n",
       "    }\n",
       "\n",
       "    .dataframe thead th {\n",
       "        text-align: right;\n",
       "    }\n",
       "</style>\n",
       "<table border=\"1\" class=\"dataframe\">\n",
       "  <thead>\n",
       "    <tr style=\"text-align: right;\">\n",
       "      <th></th>\n",
       "      <th>filename</th>\n",
       "      <th>frame</th>\n",
       "      <th>x_0</th>\n",
       "      <th>x_1</th>\n",
       "      <th>x_2</th>\n",
       "      <th>x_3</th>\n",
       "      <th>x_4</th>\n",
       "      <th>x_5</th>\n",
       "      <th>x_6</th>\n",
       "      <th>x_7</th>\n",
       "      <th>...</th>\n",
       "      <th>y_58</th>\n",
       "      <th>y_59</th>\n",
       "      <th>y_60</th>\n",
       "      <th>y_61</th>\n",
       "      <th>y_62</th>\n",
       "      <th>y_63</th>\n",
       "      <th>y_64</th>\n",
       "      <th>y_65</th>\n",
       "      <th>y_66</th>\n",
       "      <th>y_67</th>\n",
       "    </tr>\n",
       "  </thead>\n",
       "  <tbody>\n",
       "    <tr>\n",
       "      <th>0</th>\n",
       "      <td>0701_sandwich_cut.csv</td>\n",
       "      <td>863.0</td>\n",
       "      <td>828.4</td>\n",
       "      <td>805.4</td>\n",
       "      <td>791.8</td>\n",
       "      <td>782.1</td>\n",
       "      <td>783.8</td>\n",
       "      <td>797.9</td>\n",
       "      <td>808.2</td>\n",
       "      <td>825.1</td>\n",
       "      <td>...</td>\n",
       "      <td>870.7</td>\n",
       "      <td>846.0</td>\n",
       "      <td>811.5</td>\n",
       "      <td>839.1</td>\n",
       "      <td>851.6</td>\n",
       "      <td>859.1</td>\n",
       "      <td>873.5</td>\n",
       "      <td>863.7</td>\n",
       "      <td>856.1</td>\n",
       "      <td>843.9</td>\n",
       "    </tr>\n",
       "    <tr>\n",
       "      <th>1</th>\n",
       "      <td>0101_sandwich_cut.csv</td>\n",
       "      <td>201.0</td>\n",
       "      <td>722.1</td>\n",
       "      <td>722.1</td>\n",
       "      <td>726.9</td>\n",
       "      <td>735.5</td>\n",
       "      <td>745.0</td>\n",
       "      <td>757.4</td>\n",
       "      <td>772.2</td>\n",
       "      <td>789.5</td>\n",
       "      <td>...</td>\n",
       "      <td>332.7</td>\n",
       "      <td>330.4</td>\n",
       "      <td>319.5</td>\n",
       "      <td>310.3</td>\n",
       "      <td>309.1</td>\n",
       "      <td>306.8</td>\n",
       "      <td>308.4</td>\n",
       "      <td>316.6</td>\n",
       "      <td>318.9</td>\n",
       "      <td>319.7</td>\n",
       "    </tr>\n",
       "    <tr>\n",
       "      <th>2</th>\n",
       "      <td>0802_sandwich_cut.csv</td>\n",
       "      <td>1276.0</td>\n",
       "      <td>732.7</td>\n",
       "      <td>725.7</td>\n",
       "      <td>722.4</td>\n",
       "      <td>723.5</td>\n",
       "      <td>731.3</td>\n",
       "      <td>747.3</td>\n",
       "      <td>766.6</td>\n",
       "      <td>791.8</td>\n",
       "      <td>...</td>\n",
       "      <td>516.3</td>\n",
       "      <td>507.0</td>\n",
       "      <td>488.8</td>\n",
       "      <td>498.8</td>\n",
       "      <td>503.0</td>\n",
       "      <td>503.8</td>\n",
       "      <td>503.6</td>\n",
       "      <td>504.7</td>\n",
       "      <td>504.1</td>\n",
       "      <td>499.9</td>\n",
       "    </tr>\n",
       "    <tr>\n",
       "      <th>3</th>\n",
       "      <td>1701_Sandwich_Cut.csv</td>\n",
       "      <td>5531.0</td>\n",
       "      <td>271.4</td>\n",
       "      <td>265.9</td>\n",
       "      <td>267.7</td>\n",
       "      <td>283.1</td>\n",
       "      <td>298.5</td>\n",
       "      <td>317.2</td>\n",
       "      <td>336.4</td>\n",
       "      <td>363.0</td>\n",
       "      <td>...</td>\n",
       "      <td>803.7</td>\n",
       "      <td>792.1</td>\n",
       "      <td>780.5</td>\n",
       "      <td>777.8</td>\n",
       "      <td>777.7</td>\n",
       "      <td>771.8</td>\n",
       "      <td>755.9</td>\n",
       "      <td>775.9</td>\n",
       "      <td>780.7</td>\n",
       "      <td>778.6</td>\n",
       "    </tr>\n",
       "    <tr>\n",
       "      <th>4</th>\n",
       "      <td>0402_sandwich_cut.csv</td>\n",
       "      <td>2228.0</td>\n",
       "      <td>518.1</td>\n",
       "      <td>515.4</td>\n",
       "      <td>517.9</td>\n",
       "      <td>526.8</td>\n",
       "      <td>536.9</td>\n",
       "      <td>547.2</td>\n",
       "      <td>556.0</td>\n",
       "      <td>565.9</td>\n",
       "      <td>...</td>\n",
       "      <td>737.6</td>\n",
       "      <td>732.0</td>\n",
       "      <td>721.5</td>\n",
       "      <td>720.4</td>\n",
       "      <td>721.0</td>\n",
       "      <td>719.3</td>\n",
       "      <td>714.2</td>\n",
       "      <td>723.6</td>\n",
       "      <td>724.4</td>\n",
       "      <td>722.7</td>\n",
       "    </tr>\n",
       "  </tbody>\n",
       "</table>\n",
       "<p>5 rows × 138 columns</p>\n",
       "</div>"
      ],
      "text/plain": [
       "                filename   frame    x_0    x_1    x_2    x_3    x_4    x_5  \\\n",
       "0  0701_sandwich_cut.csv   863.0  828.4  805.4  791.8  782.1  783.8  797.9   \n",
       "1  0101_sandwich_cut.csv   201.0  722.1  722.1  726.9  735.5  745.0  757.4   \n",
       "2  0802_sandwich_cut.csv  1276.0  732.7  725.7  722.4  723.5  731.3  747.3   \n",
       "3  1701_Sandwich_Cut.csv  5531.0  271.4  265.9  267.7  283.1  298.5  317.2   \n",
       "4  0402_sandwich_cut.csv  2228.0  518.1  515.4  517.9  526.8  536.9  547.2   \n",
       "\n",
       "     x_6    x_7  ...   y_58   y_59   y_60   y_61   y_62   y_63   y_64   y_65  \\\n",
       "0  808.2  825.1  ...  870.7  846.0  811.5  839.1  851.6  859.1  873.5  863.7   \n",
       "1  772.2  789.5  ...  332.7  330.4  319.5  310.3  309.1  306.8  308.4  316.6   \n",
       "2  766.6  791.8  ...  516.3  507.0  488.8  498.8  503.0  503.8  503.6  504.7   \n",
       "3  336.4  363.0  ...  803.7  792.1  780.5  777.8  777.7  771.8  755.9  775.9   \n",
       "4  556.0  565.9  ...  737.6  732.0  721.5  720.4  721.0  719.3  714.2  723.6   \n",
       "\n",
       "    y_66   y_67  \n",
       "0  856.1  843.9  \n",
       "1  318.9  319.7  \n",
       "2  504.1  499.9  \n",
       "3  780.7  778.6  \n",
       "4  724.4  722.7  \n",
       "\n",
       "[5 rows x 138 columns]"
      ]
     },
     "execution_count": 14,
     "metadata": {},
     "output_type": "execute_result"
    }
   ],
   "source": [
    "Train.head()"
   ]
  },
  {
   "cell_type": "code",
   "execution_count": 15,
   "metadata": {},
   "outputs": [
    {
     "data": {
      "text/html": [
       "<div>\n",
       "<style scoped>\n",
       "    .dataframe tbody tr th:only-of-type {\n",
       "        vertical-align: middle;\n",
       "    }\n",
       "\n",
       "    .dataframe tbody tr th {\n",
       "        vertical-align: top;\n",
       "    }\n",
       "\n",
       "    .dataframe thead th {\n",
       "        text-align: right;\n",
       "    }\n",
       "</style>\n",
       "<table border=\"1\" class=\"dataframe\">\n",
       "  <thead>\n",
       "    <tr style=\"text-align: right;\">\n",
       "      <th></th>\n",
       "      <th>filename</th>\n",
       "      <th>frame</th>\n",
       "      <th>x_0</th>\n",
       "      <th>x_1</th>\n",
       "      <th>x_2</th>\n",
       "      <th>x_3</th>\n",
       "      <th>x_4</th>\n",
       "      <th>x_5</th>\n",
       "      <th>x_6</th>\n",
       "      <th>x_7</th>\n",
       "      <th>...</th>\n",
       "      <th>y_58</th>\n",
       "      <th>y_59</th>\n",
       "      <th>y_60</th>\n",
       "      <th>y_61</th>\n",
       "      <th>y_62</th>\n",
       "      <th>y_63</th>\n",
       "      <th>y_64</th>\n",
       "      <th>y_65</th>\n",
       "      <th>y_66</th>\n",
       "      <th>y_67</th>\n",
       "    </tr>\n",
       "  </thead>\n",
       "  <tbody>\n",
       "    <tr>\n",
       "      <th>0</th>\n",
       "      <td>Sona0401_sandwich_cut.csv</td>\n",
       "      <td>2392.0</td>\n",
       "      <td>711.6</td>\n",
       "      <td>715.7</td>\n",
       "      <td>721.6</td>\n",
       "      <td>731.7</td>\n",
       "      <td>745.2</td>\n",
       "      <td>761.0</td>\n",
       "      <td>778.4</td>\n",
       "      <td>795.4</td>\n",
       "      <td>...</td>\n",
       "      <td>512.4</td>\n",
       "      <td>499.8</td>\n",
       "      <td>478.4</td>\n",
       "      <td>493.4</td>\n",
       "      <td>497.5</td>\n",
       "      <td>495.6</td>\n",
       "      <td>483.8</td>\n",
       "      <td>500.0</td>\n",
       "      <td>501.9</td>\n",
       "      <td>497.3</td>\n",
       "    </tr>\n",
       "    <tr>\n",
       "      <th>1</th>\n",
       "      <td>0402_sandwich_cut.csv</td>\n",
       "      <td>2527.0</td>\n",
       "      <td>551.7</td>\n",
       "      <td>547.8</td>\n",
       "      <td>550.7</td>\n",
       "      <td>562.6</td>\n",
       "      <td>576.3</td>\n",
       "      <td>588.9</td>\n",
       "      <td>596.7</td>\n",
       "      <td>606.4</td>\n",
       "      <td>...</td>\n",
       "      <td>788.3</td>\n",
       "      <td>780.6</td>\n",
       "      <td>768.5</td>\n",
       "      <td>773.5</td>\n",
       "      <td>775.1</td>\n",
       "      <td>774.1</td>\n",
       "      <td>764.5</td>\n",
       "      <td>778.0</td>\n",
       "      <td>777.7</td>\n",
       "      <td>775.2</td>\n",
       "    </tr>\n",
       "    <tr>\n",
       "      <th>2</th>\n",
       "      <td>1101_sandwich_cut.csv</td>\n",
       "      <td>10581.0</td>\n",
       "      <td>590.2</td>\n",
       "      <td>628.2</td>\n",
       "      <td>664.4</td>\n",
       "      <td>697.6</td>\n",
       "      <td>727.7</td>\n",
       "      <td>760.5</td>\n",
       "      <td>789.2</td>\n",
       "      <td>816.4</td>\n",
       "      <td>...</td>\n",
       "      <td>919.8</td>\n",
       "      <td>919.4</td>\n",
       "      <td>909.8</td>\n",
       "      <td>901.6</td>\n",
       "      <td>897.0</td>\n",
       "      <td>883.9</td>\n",
       "      <td>873.0</td>\n",
       "      <td>887.0</td>\n",
       "      <td>901.8</td>\n",
       "      <td>905.4</td>\n",
       "    </tr>\n",
       "    <tr>\n",
       "      <th>3</th>\n",
       "      <td>Sona0401_sandwich_cut.csv</td>\n",
       "      <td>1432.0</td>\n",
       "      <td>677.5</td>\n",
       "      <td>682.0</td>\n",
       "      <td>688.3</td>\n",
       "      <td>698.2</td>\n",
       "      <td>710.9</td>\n",
       "      <td>726.9</td>\n",
       "      <td>745.5</td>\n",
       "      <td>762.3</td>\n",
       "      <td>...</td>\n",
       "      <td>519.4</td>\n",
       "      <td>508.3</td>\n",
       "      <td>489.4</td>\n",
       "      <td>498.6</td>\n",
       "      <td>502.5</td>\n",
       "      <td>499.8</td>\n",
       "      <td>489.5</td>\n",
       "      <td>503.9</td>\n",
       "      <td>506.5</td>\n",
       "      <td>501.8</td>\n",
       "    </tr>\n",
       "    <tr>\n",
       "      <th>4</th>\n",
       "      <td>0102_sandwich_cut.csv</td>\n",
       "      <td>31.0</td>\n",
       "      <td>926.5</td>\n",
       "      <td>929.3</td>\n",
       "      <td>934.9</td>\n",
       "      <td>942.9</td>\n",
       "      <td>952.4</td>\n",
       "      <td>965.4</td>\n",
       "      <td>980.4</td>\n",
       "      <td>996.8</td>\n",
       "      <td>...</td>\n",
       "      <td>632.5</td>\n",
       "      <td>631.8</td>\n",
       "      <td>625.3</td>\n",
       "      <td>621.7</td>\n",
       "      <td>620.6</td>\n",
       "      <td>617.8</td>\n",
       "      <td>612.8</td>\n",
       "      <td>619.4</td>\n",
       "      <td>622.0</td>\n",
       "      <td>623.1</td>\n",
       "    </tr>\n",
       "  </tbody>\n",
       "</table>\n",
       "<p>5 rows × 138 columns</p>\n",
       "</div>"
      ],
      "text/plain": [
       "                    filename    frame    x_0    x_1    x_2    x_3    x_4  \\\n",
       "0  Sona0401_sandwich_cut.csv   2392.0  711.6  715.7  721.6  731.7  745.2   \n",
       "1      0402_sandwich_cut.csv   2527.0  551.7  547.8  550.7  562.6  576.3   \n",
       "2      1101_sandwich_cut.csv  10581.0  590.2  628.2  664.4  697.6  727.7   \n",
       "3  Sona0401_sandwich_cut.csv   1432.0  677.5  682.0  688.3  698.2  710.9   \n",
       "4      0102_sandwich_cut.csv     31.0  926.5  929.3  934.9  942.9  952.4   \n",
       "\n",
       "     x_5    x_6    x_7  ...   y_58   y_59   y_60   y_61   y_62   y_63   y_64  \\\n",
       "0  761.0  778.4  795.4  ...  512.4  499.8  478.4  493.4  497.5  495.6  483.8   \n",
       "1  588.9  596.7  606.4  ...  788.3  780.6  768.5  773.5  775.1  774.1  764.5   \n",
       "2  760.5  789.2  816.4  ...  919.8  919.4  909.8  901.6  897.0  883.9  873.0   \n",
       "3  726.9  745.5  762.3  ...  519.4  508.3  489.4  498.6  502.5  499.8  489.5   \n",
       "4  965.4  980.4  996.8  ...  632.5  631.8  625.3  621.7  620.6  617.8  612.8   \n",
       "\n",
       "    y_65   y_66   y_67  \n",
       "0  500.0  501.9  497.3  \n",
       "1  778.0  777.7  775.2  \n",
       "2  887.0  901.8  905.4  \n",
       "3  503.9  506.5  501.8  \n",
       "4  619.4  622.0  623.1  \n",
       "\n",
       "[5 rows x 138 columns]"
      ]
     },
     "execution_count": 15,
     "metadata": {},
     "output_type": "execute_result"
    }
   ],
   "source": [
    "Test.head()"
   ]
  },
  {
   "cell_type": "code",
   "execution_count": 16,
   "metadata": {},
   "outputs": [
    {
     "data": {
      "text/html": [
       "<div>\n",
       "<style scoped>\n",
       "    .dataframe tbody tr th:only-of-type {\n",
       "        vertical-align: middle;\n",
       "    }\n",
       "\n",
       "    .dataframe tbody tr th {\n",
       "        vertical-align: top;\n",
       "    }\n",
       "\n",
       "    .dataframe thead th {\n",
       "        text-align: right;\n",
       "    }\n",
       "</style>\n",
       "<table border=\"1\" class=\"dataframe\">\n",
       "  <thead>\n",
       "    <tr style=\"text-align: right;\">\n",
       "      <th></th>\n",
       "      <th>filename</th>\n",
       "      <th>frame</th>\n",
       "      <th>x_0</th>\n",
       "      <th>x_1</th>\n",
       "      <th>x_2</th>\n",
       "      <th>x_3</th>\n",
       "      <th>x_4</th>\n",
       "      <th>x_5</th>\n",
       "      <th>x_6</th>\n",
       "      <th>x_7</th>\n",
       "      <th>...</th>\n",
       "      <th>y_58</th>\n",
       "      <th>y_59</th>\n",
       "      <th>y_60</th>\n",
       "      <th>y_61</th>\n",
       "      <th>y_62</th>\n",
       "      <th>y_63</th>\n",
       "      <th>y_64</th>\n",
       "      <th>y_65</th>\n",
       "      <th>y_66</th>\n",
       "      <th>y_67</th>\n",
       "    </tr>\n",
       "  </thead>\n",
       "  <tbody>\n",
       "    <tr>\n",
       "      <th>0</th>\n",
       "      <td>Sona0302_sandwich_cut.csv</td>\n",
       "      <td>6249.0</td>\n",
       "      <td>792.2</td>\n",
       "      <td>789.9</td>\n",
       "      <td>791.9</td>\n",
       "      <td>799.6</td>\n",
       "      <td>811.4</td>\n",
       "      <td>825.8</td>\n",
       "      <td>839.9</td>\n",
       "      <td>854.4</td>\n",
       "      <td>...</td>\n",
       "      <td>729.9</td>\n",
       "      <td>722.3</td>\n",
       "      <td>711.6</td>\n",
       "      <td>711.5</td>\n",
       "      <td>714.9</td>\n",
       "      <td>715.3</td>\n",
       "      <td>716.5</td>\n",
       "      <td>718.1</td>\n",
       "      <td>716.7</td>\n",
       "      <td>711.8</td>\n",
       "    </tr>\n",
       "    <tr>\n",
       "      <th>1</th>\n",
       "      <td>0602_sandwich_cut.csv</td>\n",
       "      <td>7743.0</td>\n",
       "      <td>432.2</td>\n",
       "      <td>441.1</td>\n",
       "      <td>458.6</td>\n",
       "      <td>485.1</td>\n",
       "      <td>510.1</td>\n",
       "      <td>536.8</td>\n",
       "      <td>559.2</td>\n",
       "      <td>588.8</td>\n",
       "      <td>...</td>\n",
       "      <td>758.7</td>\n",
       "      <td>754.2</td>\n",
       "      <td>744.1</td>\n",
       "      <td>745.7</td>\n",
       "      <td>748.4</td>\n",
       "      <td>750.5</td>\n",
       "      <td>739.9</td>\n",
       "      <td>752.6</td>\n",
       "      <td>749.2</td>\n",
       "      <td>745.3</td>\n",
       "    </tr>\n",
       "    <tr>\n",
       "      <th>2</th>\n",
       "      <td>0301_sandwich_cut.csv</td>\n",
       "      <td>257.0</td>\n",
       "      <td>893.8</td>\n",
       "      <td>889.7</td>\n",
       "      <td>890.9</td>\n",
       "      <td>898.3</td>\n",
       "      <td>907.7</td>\n",
       "      <td>924.3</td>\n",
       "      <td>948.3</td>\n",
       "      <td>979.5</td>\n",
       "      <td>...</td>\n",
       "      <td>944.0</td>\n",
       "      <td>941.8</td>\n",
       "      <td>932.1</td>\n",
       "      <td>926.5</td>\n",
       "      <td>926.4</td>\n",
       "      <td>925.4</td>\n",
       "      <td>927.8</td>\n",
       "      <td>924.2</td>\n",
       "      <td>925.7</td>\n",
       "      <td>925.3</td>\n",
       "    </tr>\n",
       "    <tr>\n",
       "      <th>3</th>\n",
       "      <td>0502_sandwich_cut.csv</td>\n",
       "      <td>6180.0</td>\n",
       "      <td>416.8</td>\n",
       "      <td>414.6</td>\n",
       "      <td>416.7</td>\n",
       "      <td>431.4</td>\n",
       "      <td>451.4</td>\n",
       "      <td>475.3</td>\n",
       "      <td>503.9</td>\n",
       "      <td>534.3</td>\n",
       "      <td>...</td>\n",
       "      <td>766.7</td>\n",
       "      <td>756.8</td>\n",
       "      <td>733.5</td>\n",
       "      <td>736.6</td>\n",
       "      <td>738.0</td>\n",
       "      <td>735.7</td>\n",
       "      <td>722.9</td>\n",
       "      <td>740.8</td>\n",
       "      <td>741.7</td>\n",
       "      <td>738.7</td>\n",
       "    </tr>\n",
       "    <tr>\n",
       "      <th>4</th>\n",
       "      <td>1702_Sandwich_Cut.csv</td>\n",
       "      <td>5992.0</td>\n",
       "      <td>628.7</td>\n",
       "      <td>629.4</td>\n",
       "      <td>636.9</td>\n",
       "      <td>649.3</td>\n",
       "      <td>670.0</td>\n",
       "      <td>695.9</td>\n",
       "      <td>716.1</td>\n",
       "      <td>738.1</td>\n",
       "      <td>...</td>\n",
       "      <td>803.5</td>\n",
       "      <td>784.1</td>\n",
       "      <td>758.8</td>\n",
       "      <td>781.9</td>\n",
       "      <td>791.0</td>\n",
       "      <td>792.6</td>\n",
       "      <td>787.0</td>\n",
       "      <td>794.3</td>\n",
       "      <td>791.8</td>\n",
       "      <td>782.1</td>\n",
       "    </tr>\n",
       "  </tbody>\n",
       "</table>\n",
       "<p>5 rows × 138 columns</p>\n",
       "</div>"
      ],
      "text/plain": [
       "                    filename   frame    x_0    x_1    x_2    x_3    x_4  \\\n",
       "0  Sona0302_sandwich_cut.csv  6249.0  792.2  789.9  791.9  799.6  811.4   \n",
       "1      0602_sandwich_cut.csv  7743.0  432.2  441.1  458.6  485.1  510.1   \n",
       "2      0301_sandwich_cut.csv   257.0  893.8  889.7  890.9  898.3  907.7   \n",
       "3      0502_sandwich_cut.csv  6180.0  416.8  414.6  416.7  431.4  451.4   \n",
       "4      1702_Sandwich_Cut.csv  5992.0  628.7  629.4  636.9  649.3  670.0   \n",
       "\n",
       "     x_5    x_6    x_7  ...   y_58   y_59   y_60   y_61   y_62   y_63   y_64  \\\n",
       "0  825.8  839.9  854.4  ...  729.9  722.3  711.6  711.5  714.9  715.3  716.5   \n",
       "1  536.8  559.2  588.8  ...  758.7  754.2  744.1  745.7  748.4  750.5  739.9   \n",
       "2  924.3  948.3  979.5  ...  944.0  941.8  932.1  926.5  926.4  925.4  927.8   \n",
       "3  475.3  503.9  534.3  ...  766.7  756.8  733.5  736.6  738.0  735.7  722.9   \n",
       "4  695.9  716.1  738.1  ...  803.5  784.1  758.8  781.9  791.0  792.6  787.0   \n",
       "\n",
       "    y_65   y_66   y_67  \n",
       "0  718.1  716.7  711.8  \n",
       "1  752.6  749.2  745.3  \n",
       "2  924.2  925.7  925.3  \n",
       "3  740.8  741.7  738.7  \n",
       "4  794.3  791.8  782.1  \n",
       "\n",
       "[5 rows x 138 columns]"
      ]
     },
     "execution_count": 16,
     "metadata": {},
     "output_type": "execute_result"
    }
   ],
   "source": [
    "Valid.head()"
   ]
  },
  {
   "cell_type": "code",
   "execution_count": 17,
   "metadata": {},
   "outputs": [],
   "source": [
    "save_path = './data/tmp_analysis/{0}'.format(task_name)\n",
    "save_train_path = save_path + '_train.csv'\n",
    "save_test_path = save_path + '_test.csv'\n",
    "save_valid_path = save_path + '_valid.csv'\n",
    "\n",
    "\n",
    "Train.to_csv(save_train_path)\n",
    "Test.to_csv(save_test_path)\n",
    "Valid.to_csv(save_valid_path)"
   ]
  },
  {
   "cell_type": "markdown",
   "metadata": {},
   "source": [
    "# Task 2 Only"
   ]
  },
  {
   "cell_type": "code",
   "execution_count": 18,
   "metadata": {},
   "outputs": [],
   "source": [
    "task_name = 'task2_bart_openface'"
   ]
  },
  {
   "cell_type": "code",
   "execution_count": 19,
   "metadata": {},
   "outputs": [],
   "source": [
    "model_path = './models/{0}/'.format(task_name)"
   ]
  },
  {
   "cell_type": "code",
   "execution_count": 20,
   "metadata": {},
   "outputs": [
    {
     "name": "stdout",
     "output_type": "stream",
     "text": [
      "Num Files: 36\n"
     ]
    }
   ],
   "source": [
    "import os\n",
    "import numpy as np\n",
    "import pandas as pd\n",
    "\n",
    "import warnings\n",
    "from tqdm import tqdm_notebook as tqdm\n",
    "\n",
    "path = './data/openface/{0}'.format(task_name)\n",
    "\n",
    "files = [f for f in os.listdir(path) if os.path.isfile(os.path.join(path,f))]\n",
    "print('Num Files:',len(files))"
   ]
  },
  {
   "cell_type": "code",
   "execution_count": 21,
   "metadata": {},
   "outputs": [
    {
     "name": "stderr",
     "output_type": "stream",
     "text": [
      "/usr/local/lib/python3.6/dist-packages/ipykernel_launcher.py:10: TqdmDeprecationWarning: This function will be removed in tqdm==5.0.0\n",
      "Please use `tqdm.notebook.tqdm` instead of `tqdm.tqdm_notebook`\n",
      "  # Remove the CWD from sys.path while we load stuff.\n"
     ]
    },
    {
     "data": {
      "application/vnd.jupyter.widget-view+json": {
       "model_id": "231102db4f9c4127992055c385c4ed1a",
       "version_major": 2,
       "version_minor": 0
      },
      "text/plain": [
       "  0%|          | 0/36 [00:00<?, ?it/s]"
      ]
     },
     "metadata": {},
     "output_type": "display_data"
    },
    {
     "name": "stdout",
     "output_type": "stream",
     "text": [
      "Sona0201_bart_cut.csv\n",
      "Full: (13937, 138)\n",
      "Train: (9337, 138) Test: (2300, 138) Validation (2300, 138)\n",
      "0201_bart_cut.csv\n",
      "Full: (13184, 138)\n",
      "Train: (8833, 138) Test: (2175, 138) Validation (2176, 138)\n",
      "1101_bart_cut.csv\n",
      "Full: (14445, 138)\n",
      "Train: (9678, 138) Test: (2383, 138) Validation (2384, 138)\n",
      "Sona0101_bart_cut.csv\n",
      "Full: (13946, 138)\n",
      "Train: (9343, 138) Test: (2301, 138) Validation (2302, 138)\n",
      "1102_bart_cut.csv\n",
      "Full: (14637, 138)\n",
      "Train: (9806, 138) Test: (2415, 138) Validation (2416, 138)\n",
      "0701_bart_cut.csv\n",
      "Full: (12787, 138)\n",
      "Train: (8567, 138) Test: (2110, 138) Validation (2110, 138)\n",
      "1401_bart_cut.csv\n",
      "Full: (17045, 138)\n",
      "Train: (11420, 138) Test: (2812, 138) Validation (2813, 138)\n",
      "1201_bart_cut.csv\n",
      "Full: (17923, 138)\n",
      "Train: (12008, 138) Test: (2957, 138) Validation (2958, 138)\n",
      "0602_bart_cut.csv\n",
      "Full: (16976, 138)\n",
      "Train: (11373, 138) Test: (2801, 138) Validation (2802, 138)\n",
      "0902_bart_cut.csv\n",
      "Full: (17520, 138)\n",
      "Train: (11738, 138) Test: (2891, 138) Validation (2891, 138)\n",
      "Sona0401_bart_cut.csv\n",
      "Full: (8084, 138)\n",
      "Train: (5416, 138) Test: (1334, 138) Validation (1334, 138)\n",
      "0402_bart_cut.csv\n",
      "Full: (20246, 138)\n",
      "Train: (13564, 138) Test: (3341, 138) Validation (3341, 138)\n",
      "1202_bart_cut.csv\n",
      "Full: (17951, 138)\n",
      "Train: (12027, 138) Test: (2962, 138) Validation (2962, 138)\n",
      "0102_bart_cut.csv\n",
      "Full: (10487, 138)\n",
      "Train: (7026, 138) Test: (1730, 138) Validation (1731, 138)\n",
      "1002_bart_cut.csv\n",
      "Full: (19483, 138)\n",
      "Train: (13053, 138) Test: (3215, 138) Validation (3215, 138)\n",
      "1702_Bart_Cut.csv\n",
      "Full: (18037, 138)\n",
      "Train: (12084, 138) Test: (2976, 138) Validation (2977, 138)\n",
      "1001_bart_cut.csv\n",
      "Full: (19442, 138)\n",
      "Train: (13026, 138) Test: (3208, 138) Validation (3208, 138)\n",
      "0802_bart_cut.csv\n",
      "Full: (9285, 138)\n",
      "Train: (6220, 138) Test: (1532, 138) Validation (1533, 138)\n",
      "Sona0102_bart_cut.csv\n",
      "Full: (13973, 138)\n",
      "Train: (9361, 138) Test: (2306, 138) Validation (2306, 138)\n",
      "0502_bart_cut.csv\n",
      "Full: (29994, 138)\n",
      "Train: (20095, 138) Test: (4949, 138) Validation (4950, 138)\n",
      "0302_bart_cut.csv\n"
     ]
    },
    {
     "name": "stderr",
     "output_type": "stream",
     "text": [
      "/usr/local/lib/python3.6/dist-packages/ipykernel_launcher.py:26: UserWarning: Dropping row due to NaN, 9935\n",
      "/usr/local/lib/python3.6/dist-packages/pandas/core/frame.py:4174: SettingWithCopyWarning: \n",
      "A value is trying to be set on a copy of a slice from a DataFrame\n",
      "\n",
      "See the caveats in the documentation: https://pandas.pydata.org/pandas-docs/stable/user_guide/indexing.html#returning-a-view-versus-a-copy\n",
      "  errors=errors,\n"
     ]
    },
    {
     "name": "stdout",
     "output_type": "stream",
     "text": [
      "Full: (9935, 138)\n",
      "Train: (6656, 138) Test: (1639, 138) Validation (1640, 138)\n",
      "0601_bart_cut.csv\n",
      "Full: (17303, 138)\n",
      "Train: (11593, 138) Test: (2855, 138) Validation (2855, 138)\n",
      "1301_bart_cut.csv\n",
      "Full: (12346, 138)\n",
      "Train: (8271, 138) Test: (2037, 138) Validation (2038, 138)\n",
      "Sona0302_bart_cut.csv\n",
      "Full: (25085, 138)\n",
      "Train: (16806, 138) Test: (4139, 138) Validation (4140, 138)\n",
      "0401_bart_cut.csv\n",
      "Full: (20110, 138)\n",
      "Train: (13473, 138) Test: (3318, 138) Validation (3319, 138)\n",
      "1701_Bart_Cut .csv\n",
      "Full: (17671, 138)\n",
      "Train: (11839, 138) Test: (2916, 138) Validation (2916, 138)\n",
      "0101_bart_cut.csv\n",
      "Full: (11665, 138)\n",
      "Train: (7815, 138) Test: (1925, 138) Validation (1925, 138)\n",
      "1302_bart_cut.csv\n",
      "Full: (12961, 138)\n",
      "Train: (8683, 138) Test: (2139, 138) Validation (2139, 138)\n",
      "0202_bart_cut.csv\n",
      "Full: (13116, 138)\n",
      "Train: (8787, 138) Test: (2164, 138) Validation (2165, 138)\n",
      "Sona0402_bart_cut.csv\n",
      "Full: (7828, 138)\n",
      "Train: (5244, 138) Test: (1292, 138) Validation (1292, 138)\n",
      "0801_bart_cut.csv\n",
      "Full: (9149, 138)\n",
      "Train: (6129, 138) Test: (1510, 138) Validation (1510, 138)\n",
      "0702_bart_cut.csv\n",
      "Full: (13363, 138)\n",
      "Train: (8953, 138) Test: (2205, 138) Validation (2205, 138)\n",
      "1402_bart_cut.csv\n",
      "Full: (17106, 138)\n",
      "Train: (11461, 138) Test: (2822, 138) Validation (2823, 138)\n",
      "0501_bart_cut.csv\n",
      "Full: (29969, 138)\n",
      "Train: (20079, 138) Test: (4945, 138) Validation (4945, 138)\n",
      "Sona0202_bart_cut.csv\n",
      "Full: (13904, 138)\n",
      "Train: (9315, 138) Test: (2294, 138) Validation (2295, 138)\n",
      "Sona0301_bart_cut.csv\n",
      "Full: (25035, 138)\n",
      "Train: (16773, 138) Test: (4131, 138) Validation (4131, 138)\n",
      "\n",
      "\n",
      "FINAL\n",
      "Train: (385852, 138) Test: (95029, 138) Validation (95047, 138)\n"
     ]
    }
   ],
   "source": [
    "from sklearn.model_selection import train_test_split\n",
    "\n",
    "indicies = ['frame'] + ['x_{0}'.format(i) for i in range(0,68)] + ['y_{0}'.format(i) for i in range(0,68)]\n",
    "\n",
    "flag = True\n",
    "Train = None\n",
    "Test = None\n",
    "Valid = None\n",
    "\n",
    "for f in tqdm(list(files)):\n",
    "    \n",
    "    # Load CSV\n",
    "    print(f)\n",
    "    df = pd.read_csv(\n",
    "            os.path.join(path,f), \n",
    "            error_bad_lines=False, \n",
    "            warn_bad_lines=True)\n",
    "    \n",
    "    face_lmk = df[indicies]\n",
    "    \n",
    "    # Filter NaN rows\n",
    "    nans = df[df[indicies].isnull().any(axis=1)]\n",
    "    if not nans.empty:\n",
    "        dropList = nans.index.tolist()\n",
    "        for r in dropList:\n",
    "            warnings.warn('Dropping row due to NaN, {0}'.format(r))\n",
    "        face_lmk.drop(dropList, inplace=True)\n",
    "        \n",
    "    face_lmk.insert(0,'filename',[f for i in range(0,face_lmk.shape[0])],True)\n",
    "        \n",
    "    print('Full:',face_lmk.shape)\n",
    "    \n",
    "    # Create Training, Test, Validation subsets\n",
    "    train, tmp = train_test_split(face_lmk, test_size=0.33)\n",
    "    test, val = train_test_split(tmp, test_size=0.5)\n",
    "    print('Train:',train.shape,'Test:',test.shape,'Validation',val.shape)\n",
    "    \n",
    "    if flag:\n",
    "        flag = False\n",
    "        Train = train\n",
    "        Test = test\n",
    "        Valid = val\n",
    "    else:\n",
    "        Train = Train.append(train)\n",
    "        Test = Test.append(test)\n",
    "        Valid = Valid.append(val)\n",
    "\n",
    "# Final Dataset (shuffled)\n",
    "Train = Train.sample(frac=1).reset_index(drop=True)\n",
    "Test = Test.sample(frac=1).reset_index(drop=True)\n",
    "Valid = Valid.sample(frac=1).reset_index(drop=True)\n",
    "\n",
    "print('\\n\\nFINAL')\n",
    "print('Train:',Train.shape,'Test:',Test.shape,'Validation',Valid.shape)"
   ]
  },
  {
   "cell_type": "code",
   "execution_count": 22,
   "metadata": {},
   "outputs": [
    {
     "data": {
      "text/html": [
       "<div>\n",
       "<style scoped>\n",
       "    .dataframe tbody tr th:only-of-type {\n",
       "        vertical-align: middle;\n",
       "    }\n",
       "\n",
       "    .dataframe tbody tr th {\n",
       "        vertical-align: top;\n",
       "    }\n",
       "\n",
       "    .dataframe thead th {\n",
       "        text-align: right;\n",
       "    }\n",
       "</style>\n",
       "<table border=\"1\" class=\"dataframe\">\n",
       "  <thead>\n",
       "    <tr style=\"text-align: right;\">\n",
       "      <th></th>\n",
       "      <th>filename</th>\n",
       "      <th>frame</th>\n",
       "      <th>x_0</th>\n",
       "      <th>x_1</th>\n",
       "      <th>x_2</th>\n",
       "      <th>x_3</th>\n",
       "      <th>x_4</th>\n",
       "      <th>x_5</th>\n",
       "      <th>x_6</th>\n",
       "      <th>x_7</th>\n",
       "      <th>...</th>\n",
       "      <th>y_58</th>\n",
       "      <th>y_59</th>\n",
       "      <th>y_60</th>\n",
       "      <th>y_61</th>\n",
       "      <th>y_62</th>\n",
       "      <th>y_63</th>\n",
       "      <th>y_64</th>\n",
       "      <th>y_65</th>\n",
       "      <th>y_66</th>\n",
       "      <th>y_67</th>\n",
       "    </tr>\n",
       "  </thead>\n",
       "  <tbody>\n",
       "    <tr>\n",
       "      <th>0</th>\n",
       "      <td>0401_bart_cut.csv</td>\n",
       "      <td>2830</td>\n",
       "      <td>754.8</td>\n",
       "      <td>756.5</td>\n",
       "      <td>761.1</td>\n",
       "      <td>768.5</td>\n",
       "      <td>778.6</td>\n",
       "      <td>790.7</td>\n",
       "      <td>801.5</td>\n",
       "      <td>812.6</td>\n",
       "      <td>...</td>\n",
       "      <td>610.8</td>\n",
       "      <td>604.7</td>\n",
       "      <td>594.6</td>\n",
       "      <td>598.4</td>\n",
       "      <td>600.7</td>\n",
       "      <td>599.4</td>\n",
       "      <td>594.3</td>\n",
       "      <td>600.0</td>\n",
       "      <td>601.1</td>\n",
       "      <td>598.5</td>\n",
       "    </tr>\n",
       "    <tr>\n",
       "      <th>1</th>\n",
       "      <td>Sona0202_bart_cut.csv</td>\n",
       "      <td>1747</td>\n",
       "      <td>702.1</td>\n",
       "      <td>697.8</td>\n",
       "      <td>696.5</td>\n",
       "      <td>699.2</td>\n",
       "      <td>704.1</td>\n",
       "      <td>713.1</td>\n",
       "      <td>725.0</td>\n",
       "      <td>739.1</td>\n",
       "      <td>...</td>\n",
       "      <td>738.4</td>\n",
       "      <td>731.6</td>\n",
       "      <td>720.4</td>\n",
       "      <td>725.7</td>\n",
       "      <td>728.0</td>\n",
       "      <td>728.3</td>\n",
       "      <td>730.0</td>\n",
       "      <td>728.3</td>\n",
       "      <td>727.9</td>\n",
       "      <td>725.6</td>\n",
       "    </tr>\n",
       "    <tr>\n",
       "      <th>2</th>\n",
       "      <td>0502_bart_cut.csv</td>\n",
       "      <td>18082</td>\n",
       "      <td>745.2</td>\n",
       "      <td>743.3</td>\n",
       "      <td>746.8</td>\n",
       "      <td>756.6</td>\n",
       "      <td>771.4</td>\n",
       "      <td>795.1</td>\n",
       "      <td>823.3</td>\n",
       "      <td>854.0</td>\n",
       "      <td>...</td>\n",
       "      <td>767.8</td>\n",
       "      <td>757.7</td>\n",
       "      <td>736.1</td>\n",
       "      <td>737.4</td>\n",
       "      <td>739.3</td>\n",
       "      <td>737.7</td>\n",
       "      <td>735.0</td>\n",
       "      <td>739.4</td>\n",
       "      <td>740.4</td>\n",
       "      <td>737.9</td>\n",
       "    </tr>\n",
       "    <tr>\n",
       "      <th>3</th>\n",
       "      <td>1702_Bart_Cut.csv</td>\n",
       "      <td>4712</td>\n",
       "      <td>434.8</td>\n",
       "      <td>448.7</td>\n",
       "      <td>471.8</td>\n",
       "      <td>504.1</td>\n",
       "      <td>535.5</td>\n",
       "      <td>571.2</td>\n",
       "      <td>603.2</td>\n",
       "      <td>639.7</td>\n",
       "      <td>...</td>\n",
       "      <td>735.2</td>\n",
       "      <td>745.0</td>\n",
       "      <td>738.7</td>\n",
       "      <td>710.4</td>\n",
       "      <td>701.8</td>\n",
       "      <td>689.9</td>\n",
       "      <td>669.2</td>\n",
       "      <td>690.4</td>\n",
       "      <td>701.6</td>\n",
       "      <td>709.8</td>\n",
       "    </tr>\n",
       "    <tr>\n",
       "      <th>4</th>\n",
       "      <td>Sona0302_bart_cut.csv</td>\n",
       "      <td>19673</td>\n",
       "      <td>822.8</td>\n",
       "      <td>817.9</td>\n",
       "      <td>819.3</td>\n",
       "      <td>830.0</td>\n",
       "      <td>841.4</td>\n",
       "      <td>858.3</td>\n",
       "      <td>874.7</td>\n",
       "      <td>899.1</td>\n",
       "      <td>...</td>\n",
       "      <td>748.8</td>\n",
       "      <td>740.7</td>\n",
       "      <td>728.9</td>\n",
       "      <td>727.5</td>\n",
       "      <td>730.0</td>\n",
       "      <td>728.2</td>\n",
       "      <td>726.7</td>\n",
       "      <td>732.3</td>\n",
       "      <td>732.5</td>\n",
       "      <td>728.0</td>\n",
       "    </tr>\n",
       "  </tbody>\n",
       "</table>\n",
       "<p>5 rows × 138 columns</p>\n",
       "</div>"
      ],
      "text/plain": [
       "                filename  frame    x_0    x_1    x_2    x_3    x_4    x_5  \\\n",
       "0      0401_bart_cut.csv   2830  754.8  756.5  761.1  768.5  778.6  790.7   \n",
       "1  Sona0202_bart_cut.csv   1747  702.1  697.8  696.5  699.2  704.1  713.1   \n",
       "2      0502_bart_cut.csv  18082  745.2  743.3  746.8  756.6  771.4  795.1   \n",
       "3      1702_Bart_Cut.csv   4712  434.8  448.7  471.8  504.1  535.5  571.2   \n",
       "4  Sona0302_bart_cut.csv  19673  822.8  817.9  819.3  830.0  841.4  858.3   \n",
       "\n",
       "     x_6    x_7  ...   y_58   y_59   y_60   y_61   y_62   y_63   y_64   y_65  \\\n",
       "0  801.5  812.6  ...  610.8  604.7  594.6  598.4  600.7  599.4  594.3  600.0   \n",
       "1  725.0  739.1  ...  738.4  731.6  720.4  725.7  728.0  728.3  730.0  728.3   \n",
       "2  823.3  854.0  ...  767.8  757.7  736.1  737.4  739.3  737.7  735.0  739.4   \n",
       "3  603.2  639.7  ...  735.2  745.0  738.7  710.4  701.8  689.9  669.2  690.4   \n",
       "4  874.7  899.1  ...  748.8  740.7  728.9  727.5  730.0  728.2  726.7  732.3   \n",
       "\n",
       "    y_66   y_67  \n",
       "0  601.1  598.5  \n",
       "1  727.9  725.6  \n",
       "2  740.4  737.9  \n",
       "3  701.6  709.8  \n",
       "4  732.5  728.0  \n",
       "\n",
       "[5 rows x 138 columns]"
      ]
     },
     "execution_count": 22,
     "metadata": {},
     "output_type": "execute_result"
    }
   ],
   "source": [
    "Train.head()"
   ]
  },
  {
   "cell_type": "code",
   "execution_count": 23,
   "metadata": {},
   "outputs": [
    {
     "data": {
      "text/html": [
       "<div>\n",
       "<style scoped>\n",
       "    .dataframe tbody tr th:only-of-type {\n",
       "        vertical-align: middle;\n",
       "    }\n",
       "\n",
       "    .dataframe tbody tr th {\n",
       "        vertical-align: top;\n",
       "    }\n",
       "\n",
       "    .dataframe thead th {\n",
       "        text-align: right;\n",
       "    }\n",
       "</style>\n",
       "<table border=\"1\" class=\"dataframe\">\n",
       "  <thead>\n",
       "    <tr style=\"text-align: right;\">\n",
       "      <th></th>\n",
       "      <th>filename</th>\n",
       "      <th>frame</th>\n",
       "      <th>x_0</th>\n",
       "      <th>x_1</th>\n",
       "      <th>x_2</th>\n",
       "      <th>x_3</th>\n",
       "      <th>x_4</th>\n",
       "      <th>x_5</th>\n",
       "      <th>x_6</th>\n",
       "      <th>x_7</th>\n",
       "      <th>...</th>\n",
       "      <th>y_58</th>\n",
       "      <th>y_59</th>\n",
       "      <th>y_60</th>\n",
       "      <th>y_61</th>\n",
       "      <th>y_62</th>\n",
       "      <th>y_63</th>\n",
       "      <th>y_64</th>\n",
       "      <th>y_65</th>\n",
       "      <th>y_66</th>\n",
       "      <th>y_67</th>\n",
       "    </tr>\n",
       "  </thead>\n",
       "  <tbody>\n",
       "    <tr>\n",
       "      <th>0</th>\n",
       "      <td>0501_bart_cut.csv</td>\n",
       "      <td>3885</td>\n",
       "      <td>784.1</td>\n",
       "      <td>784.9</td>\n",
       "      <td>793.0</td>\n",
       "      <td>814.4</td>\n",
       "      <td>831.1</td>\n",
       "      <td>848.6</td>\n",
       "      <td>871.0</td>\n",
       "      <td>906.1</td>\n",
       "      <td>...</td>\n",
       "      <td>883.7</td>\n",
       "      <td>877.3</td>\n",
       "      <td>858.6</td>\n",
       "      <td>856.5</td>\n",
       "      <td>856.1</td>\n",
       "      <td>853.5</td>\n",
       "      <td>845.5</td>\n",
       "      <td>857.9</td>\n",
       "      <td>859.5</td>\n",
       "      <td>857.6</td>\n",
       "    </tr>\n",
       "    <tr>\n",
       "      <th>1</th>\n",
       "      <td>1101_bart_cut.csv</td>\n",
       "      <td>13959</td>\n",
       "      <td>1107.0</td>\n",
       "      <td>1118.1</td>\n",
       "      <td>1131.2</td>\n",
       "      <td>1145.1</td>\n",
       "      <td>1160.4</td>\n",
       "      <td>1182.5</td>\n",
       "      <td>1208.3</td>\n",
       "      <td>1236.2</td>\n",
       "      <td>...</td>\n",
       "      <td>935.0</td>\n",
       "      <td>926.4</td>\n",
       "      <td>910.5</td>\n",
       "      <td>918.1</td>\n",
       "      <td>921.1</td>\n",
       "      <td>917.0</td>\n",
       "      <td>903.1</td>\n",
       "      <td>914.1</td>\n",
       "      <td>918.1</td>\n",
       "      <td>914.9</td>\n",
       "    </tr>\n",
       "    <tr>\n",
       "      <th>2</th>\n",
       "      <td>1402_bart_cut.csv</td>\n",
       "      <td>3436</td>\n",
       "      <td>760.3</td>\n",
       "      <td>758.2</td>\n",
       "      <td>761.5</td>\n",
       "      <td>770.3</td>\n",
       "      <td>779.7</td>\n",
       "      <td>789.7</td>\n",
       "      <td>800.4</td>\n",
       "      <td>811.3</td>\n",
       "      <td>...</td>\n",
       "      <td>465.5</td>\n",
       "      <td>462.0</td>\n",
       "      <td>452.4</td>\n",
       "      <td>449.9</td>\n",
       "      <td>449.8</td>\n",
       "      <td>446.7</td>\n",
       "      <td>441.5</td>\n",
       "      <td>448.9</td>\n",
       "      <td>451.5</td>\n",
       "      <td>451.2</td>\n",
       "    </tr>\n",
       "    <tr>\n",
       "      <th>3</th>\n",
       "      <td>Sona0202_bart_cut.csv</td>\n",
       "      <td>4670</td>\n",
       "      <td>725.2</td>\n",
       "      <td>722.3</td>\n",
       "      <td>723.0</td>\n",
       "      <td>728.4</td>\n",
       "      <td>737.5</td>\n",
       "      <td>748.9</td>\n",
       "      <td>763.7</td>\n",
       "      <td>781.1</td>\n",
       "      <td>...</td>\n",
       "      <td>848.7</td>\n",
       "      <td>842.7</td>\n",
       "      <td>831.4</td>\n",
       "      <td>836.3</td>\n",
       "      <td>837.4</td>\n",
       "      <td>836.3</td>\n",
       "      <td>834.0</td>\n",
       "      <td>836.3</td>\n",
       "      <td>836.8</td>\n",
       "      <td>835.4</td>\n",
       "    </tr>\n",
       "    <tr>\n",
       "      <th>4</th>\n",
       "      <td>0202_bart_cut.csv</td>\n",
       "      <td>4693</td>\n",
       "      <td>892.6</td>\n",
       "      <td>898.6</td>\n",
       "      <td>910.0</td>\n",
       "      <td>925.4</td>\n",
       "      <td>942.5</td>\n",
       "      <td>961.9</td>\n",
       "      <td>980.3</td>\n",
       "      <td>1000.7</td>\n",
       "      <td>...</td>\n",
       "      <td>766.3</td>\n",
       "      <td>763.4</td>\n",
       "      <td>754.0</td>\n",
       "      <td>754.0</td>\n",
       "      <td>753.2</td>\n",
       "      <td>750.1</td>\n",
       "      <td>739.6</td>\n",
       "      <td>748.9</td>\n",
       "      <td>751.7</td>\n",
       "      <td>752.4</td>\n",
       "    </tr>\n",
       "  </tbody>\n",
       "</table>\n",
       "<p>5 rows × 138 columns</p>\n",
       "</div>"
      ],
      "text/plain": [
       "                filename  frame     x_0     x_1     x_2     x_3     x_4  \\\n",
       "0      0501_bart_cut.csv   3885   784.1   784.9   793.0   814.4   831.1   \n",
       "1      1101_bart_cut.csv  13959  1107.0  1118.1  1131.2  1145.1  1160.4   \n",
       "2      1402_bart_cut.csv   3436   760.3   758.2   761.5   770.3   779.7   \n",
       "3  Sona0202_bart_cut.csv   4670   725.2   722.3   723.0   728.4   737.5   \n",
       "4      0202_bart_cut.csv   4693   892.6   898.6   910.0   925.4   942.5   \n",
       "\n",
       "      x_5     x_6     x_7  ...   y_58   y_59   y_60   y_61   y_62   y_63  \\\n",
       "0   848.6   871.0   906.1  ...  883.7  877.3  858.6  856.5  856.1  853.5   \n",
       "1  1182.5  1208.3  1236.2  ...  935.0  926.4  910.5  918.1  921.1  917.0   \n",
       "2   789.7   800.4   811.3  ...  465.5  462.0  452.4  449.9  449.8  446.7   \n",
       "3   748.9   763.7   781.1  ...  848.7  842.7  831.4  836.3  837.4  836.3   \n",
       "4   961.9   980.3  1000.7  ...  766.3  763.4  754.0  754.0  753.2  750.1   \n",
       "\n",
       "    y_64   y_65   y_66   y_67  \n",
       "0  845.5  857.9  859.5  857.6  \n",
       "1  903.1  914.1  918.1  914.9  \n",
       "2  441.5  448.9  451.5  451.2  \n",
       "3  834.0  836.3  836.8  835.4  \n",
       "4  739.6  748.9  751.7  752.4  \n",
       "\n",
       "[5 rows x 138 columns]"
      ]
     },
     "execution_count": 23,
     "metadata": {},
     "output_type": "execute_result"
    }
   ],
   "source": [
    "Test.head()"
   ]
  },
  {
   "cell_type": "code",
   "execution_count": 24,
   "metadata": {},
   "outputs": [
    {
     "data": {
      "text/html": [
       "<div>\n",
       "<style scoped>\n",
       "    .dataframe tbody tr th:only-of-type {\n",
       "        vertical-align: middle;\n",
       "    }\n",
       "\n",
       "    .dataframe tbody tr th {\n",
       "        vertical-align: top;\n",
       "    }\n",
       "\n",
       "    .dataframe thead th {\n",
       "        text-align: right;\n",
       "    }\n",
       "</style>\n",
       "<table border=\"1\" class=\"dataframe\">\n",
       "  <thead>\n",
       "    <tr style=\"text-align: right;\">\n",
       "      <th></th>\n",
       "      <th>filename</th>\n",
       "      <th>frame</th>\n",
       "      <th>x_0</th>\n",
       "      <th>x_1</th>\n",
       "      <th>x_2</th>\n",
       "      <th>x_3</th>\n",
       "      <th>x_4</th>\n",
       "      <th>x_5</th>\n",
       "      <th>x_6</th>\n",
       "      <th>x_7</th>\n",
       "      <th>...</th>\n",
       "      <th>y_58</th>\n",
       "      <th>y_59</th>\n",
       "      <th>y_60</th>\n",
       "      <th>y_61</th>\n",
       "      <th>y_62</th>\n",
       "      <th>y_63</th>\n",
       "      <th>y_64</th>\n",
       "      <th>y_65</th>\n",
       "      <th>y_66</th>\n",
       "      <th>y_67</th>\n",
       "    </tr>\n",
       "  </thead>\n",
       "  <tbody>\n",
       "    <tr>\n",
       "      <th>0</th>\n",
       "      <td>Sona0301_bart_cut.csv</td>\n",
       "      <td>24518</td>\n",
       "      <td>549.2</td>\n",
       "      <td>551.2</td>\n",
       "      <td>559.1</td>\n",
       "      <td>570.3</td>\n",
       "      <td>586.8</td>\n",
       "      <td>610.0</td>\n",
       "      <td>634.8</td>\n",
       "      <td>663.1</td>\n",
       "      <td>...</td>\n",
       "      <td>769.1</td>\n",
       "      <td>762.9</td>\n",
       "      <td>747.3</td>\n",
       "      <td>742.9</td>\n",
       "      <td>743.9</td>\n",
       "      <td>741.7</td>\n",
       "      <td>744.0</td>\n",
       "      <td>743.3</td>\n",
       "      <td>745.1</td>\n",
       "      <td>743.4</td>\n",
       "    </tr>\n",
       "    <tr>\n",
       "      <th>1</th>\n",
       "      <td>1702_Bart_Cut.csv</td>\n",
       "      <td>5822</td>\n",
       "      <td>587.0</td>\n",
       "      <td>599.3</td>\n",
       "      <td>618.1</td>\n",
       "      <td>641.2</td>\n",
       "      <td>669.4</td>\n",
       "      <td>706.1</td>\n",
       "      <td>744.3</td>\n",
       "      <td>782.5</td>\n",
       "      <td>...</td>\n",
       "      <td>734.2</td>\n",
       "      <td>726.0</td>\n",
       "      <td>709.1</td>\n",
       "      <td>709.6</td>\n",
       "      <td>709.4</td>\n",
       "      <td>702.7</td>\n",
       "      <td>680.2</td>\n",
       "      <td>703.1</td>\n",
       "      <td>708.5</td>\n",
       "      <td>707.9</td>\n",
       "    </tr>\n",
       "    <tr>\n",
       "      <th>2</th>\n",
       "      <td>0502_bart_cut.csv</td>\n",
       "      <td>4102</td>\n",
       "      <td>647.3</td>\n",
       "      <td>643.2</td>\n",
       "      <td>644.8</td>\n",
       "      <td>653.5</td>\n",
       "      <td>667.5</td>\n",
       "      <td>687.1</td>\n",
       "      <td>711.2</td>\n",
       "      <td>738.7</td>\n",
       "      <td>...</td>\n",
       "      <td>748.4</td>\n",
       "      <td>739.9</td>\n",
       "      <td>718.9</td>\n",
       "      <td>718.8</td>\n",
       "      <td>720.6</td>\n",
       "      <td>719.1</td>\n",
       "      <td>718.8</td>\n",
       "      <td>721.2</td>\n",
       "      <td>722.1</td>\n",
       "      <td>719.9</td>\n",
       "    </tr>\n",
       "    <tr>\n",
       "      <th>3</th>\n",
       "      <td>0102_bart_cut.csv</td>\n",
       "      <td>3934</td>\n",
       "      <td>1062.4</td>\n",
       "      <td>1061.1</td>\n",
       "      <td>1063.5</td>\n",
       "      <td>1070.3</td>\n",
       "      <td>1079.4</td>\n",
       "      <td>1091.0</td>\n",
       "      <td>1102.1</td>\n",
       "      <td>1114.5</td>\n",
       "      <td>...</td>\n",
       "      <td>726.7</td>\n",
       "      <td>721.6</td>\n",
       "      <td>712.2</td>\n",
       "      <td>715.6</td>\n",
       "      <td>717.2</td>\n",
       "      <td>717.0</td>\n",
       "      <td>713.8</td>\n",
       "      <td>718.1</td>\n",
       "      <td>718.1</td>\n",
       "      <td>716.3</td>\n",
       "    </tr>\n",
       "    <tr>\n",
       "      <th>4</th>\n",
       "      <td>0402_bart_cut.csv</td>\n",
       "      <td>10188</td>\n",
       "      <td>669.1</td>\n",
       "      <td>669.6</td>\n",
       "      <td>674.4</td>\n",
       "      <td>684.4</td>\n",
       "      <td>696.5</td>\n",
       "      <td>710.8</td>\n",
       "      <td>724.1</td>\n",
       "      <td>739.2</td>\n",
       "      <td>...</td>\n",
       "      <td>767.8</td>\n",
       "      <td>762.4</td>\n",
       "      <td>750.5</td>\n",
       "      <td>751.0</td>\n",
       "      <td>751.3</td>\n",
       "      <td>749.3</td>\n",
       "      <td>740.8</td>\n",
       "      <td>752.7</td>\n",
       "      <td>754.1</td>\n",
       "      <td>753.3</td>\n",
       "    </tr>\n",
       "  </tbody>\n",
       "</table>\n",
       "<p>5 rows × 138 columns</p>\n",
       "</div>"
      ],
      "text/plain": [
       "                filename  frame     x_0     x_1     x_2     x_3     x_4  \\\n",
       "0  Sona0301_bart_cut.csv  24518   549.2   551.2   559.1   570.3   586.8   \n",
       "1      1702_Bart_Cut.csv   5822   587.0   599.3   618.1   641.2   669.4   \n",
       "2      0502_bart_cut.csv   4102   647.3   643.2   644.8   653.5   667.5   \n",
       "3      0102_bart_cut.csv   3934  1062.4  1061.1  1063.5  1070.3  1079.4   \n",
       "4      0402_bart_cut.csv  10188   669.1   669.6   674.4   684.4   696.5   \n",
       "\n",
       "      x_5     x_6     x_7  ...   y_58   y_59   y_60   y_61   y_62   y_63  \\\n",
       "0   610.0   634.8   663.1  ...  769.1  762.9  747.3  742.9  743.9  741.7   \n",
       "1   706.1   744.3   782.5  ...  734.2  726.0  709.1  709.6  709.4  702.7   \n",
       "2   687.1   711.2   738.7  ...  748.4  739.9  718.9  718.8  720.6  719.1   \n",
       "3  1091.0  1102.1  1114.5  ...  726.7  721.6  712.2  715.6  717.2  717.0   \n",
       "4   710.8   724.1   739.2  ...  767.8  762.4  750.5  751.0  751.3  749.3   \n",
       "\n",
       "    y_64   y_65   y_66   y_67  \n",
       "0  744.0  743.3  745.1  743.4  \n",
       "1  680.2  703.1  708.5  707.9  \n",
       "2  718.8  721.2  722.1  719.9  \n",
       "3  713.8  718.1  718.1  716.3  \n",
       "4  740.8  752.7  754.1  753.3  \n",
       "\n",
       "[5 rows x 138 columns]"
      ]
     },
     "execution_count": 24,
     "metadata": {},
     "output_type": "execute_result"
    }
   ],
   "source": [
    "Valid.head()"
   ]
  },
  {
   "cell_type": "code",
   "execution_count": 25,
   "metadata": {},
   "outputs": [],
   "source": [
    "save_path = './data/tmp_analysis/{0}'.format(task_name)\n",
    "save_train_path = save_path + '_train.csv'\n",
    "save_test_path = save_path + '_test.csv'\n",
    "save_valid_path = save_path + '_valid.csv'\n",
    "\n",
    "\n",
    "Train.to_csv(save_train_path)\n",
    "Test.to_csv(save_test_path)\n",
    "Valid.to_csv(save_valid_path)"
   ]
  },
  {
   "cell_type": "markdown",
   "metadata": {},
   "source": [
    "# Task 3 Only"
   ]
  },
  {
   "cell_type": "code",
   "execution_count": 26,
   "metadata": {},
   "outputs": [],
   "source": [
    "task_name = 'task3_jenga_openface'"
   ]
  },
  {
   "cell_type": "code",
   "execution_count": 27,
   "metadata": {},
   "outputs": [],
   "source": [
    "model_path = './models/{0}/'.format(task_name)"
   ]
  },
  {
   "cell_type": "code",
   "execution_count": 28,
   "metadata": {},
   "outputs": [
    {
     "name": "stdout",
     "output_type": "stream",
     "text": [
      "Num Files: 25\n"
     ]
    }
   ],
   "source": [
    "import os\n",
    "import numpy as np\n",
    "import pandas as pd\n",
    "\n",
    "import warnings\n",
    "from tqdm import tqdm_notebook as tqdm\n",
    "\n",
    "path = './data/openface/{0}'.format(task_name)\n",
    "\n",
    "files = [f for f in os.listdir(path) if os.path.isfile(os.path.join(path,f))]\n",
    "print('Num Files:',len(files))"
   ]
  },
  {
   "cell_type": "code",
   "execution_count": 29,
   "metadata": {},
   "outputs": [
    {
     "name": "stderr",
     "output_type": "stream",
     "text": [
      "/usr/local/lib/python3.6/dist-packages/ipykernel_launcher.py:10: TqdmDeprecationWarning: This function will be removed in tqdm==5.0.0\n",
      "Please use `tqdm.notebook.tqdm` instead of `tqdm.tqdm_notebook`\n",
      "  # Remove the CWD from sys.path while we load stuff.\n"
     ]
    },
    {
     "data": {
      "application/vnd.jupyter.widget-view+json": {
       "model_id": "adfda750b53f45499585f6e30e379daa",
       "version_major": 2,
       "version_minor": 0
      },
      "text/plain": [
       "  0%|          | 0/25 [00:00<?, ?it/s]"
      ]
     },
     "metadata": {},
     "output_type": "display_data"
    },
    {
     "name": "stdout",
     "output_type": "stream",
     "text": [
      "1301_jenga_cut.csv\n",
      "Full: (9455, 138)\n",
      "Train: (6334, 138) Test: (1560, 138) Validation (1561, 138)\n",
      "1302_jenga_cut.csv\n",
      "Full: (9391, 138)\n",
      "Train: (6291, 138) Test: (1550, 138) Validation (1550, 138)\n",
      "Sona0202_jenga_cut.csv\n",
      "Full: (8981, 138)\n",
      "Train: (6017, 138) Test: (1482, 138) Validation (1482, 138)\n",
      "Sona_jenga_0301.csv\n",
      "Full: (9043, 138)\n",
      "Train: (6058, 138) Test: (1492, 138) Validation (1493, 138)\n",
      "1702_Jenga_Cut .csv\n",
      "Full: (7627, 138)\n",
      "Train: (5110, 138) Test: (1258, 138) Validation (1259, 138)\n",
      "0202_Jenga_cut.csv\n",
      "Full: (8662, 138)\n",
      "Train: (5803, 138) Test: (1429, 138) Validation (1430, 138)\n",
      "1801_Jenga Cut .csv\n",
      "Full: (10984, 138)\n",
      "Train: (7359, 138) Test: (1812, 138) Validation (1813, 138)\n",
      "0402_Jenga_cut.csv\n",
      "Full: (9816, 138)\n",
      "Train: (6576, 138) Test: (1620, 138) Validation (1620, 138)\n",
      "Sona0302_jenga_cut.csv\n",
      "Full: (9019, 138)\n",
      "Train: (6042, 138) Test: (1488, 138) Validation (1489, 138)\n",
      "Sona0102_jenga_cut.csv\n",
      "Full: (7790, 138)\n",
      "Train: (5219, 138) Test: (1285, 138) Validation (1286, 138)\n",
      "1701_Jenga_Cut .csv\n",
      "Full: (7904, 138)\n",
      "Train: (5295, 138) Test: (1304, 138) Validation (1305, 138)\n",
      "Sona0201_jenga_cut.csv\n",
      "Full: (8814, 138)\n",
      "Train: (5905, 138) Test: (1454, 138) Validation (1455, 138)\n",
      "0401_Jenga_cut.csv\n",
      "Full: (9411, 138)\n",
      "Train: (6305, 138) Test: (1553, 138) Validation (1553, 138)\n",
      "0501_Jenga_cut.csv\n",
      "Full: (9179, 138)\n",
      "Train: (6149, 138) Test: (1515, 138) Validation (1515, 138)\n",
      "0201_Jenga_cut.csv\n",
      "Full: (8636, 138)\n",
      "Train: (5786, 138) Test: (1425, 138) Validation (1425, 138)\n",
      "1201_jenga_cut.csv\n",
      "Full: (9290, 138)\n",
      "Train: (6224, 138) Test: (1533, 138) Validation (1533, 138)\n",
      "1402_jenga_cut.csv\n",
      "Full: (9072, 138)\n",
      "Train: (6078, 138) Test: (1497, 138) Validation (1497, 138)\n",
      "1502_jenga_cut.csv\n",
      "Full: (9143, 138)\n",
      "Train: (6125, 138) Test: (1509, 138) Validation (1509, 138)\n",
      "1501_jenga_cut.csv\n",
      "Full: (9119, 138)\n",
      "Train: (6109, 138) Test: (1505, 138) Validation (1505, 138)\n",
      "0302_Jenga_cut.csv\n",
      "Full: (9629, 138)\n",
      "Train: (6451, 138) Test: (1589, 138) Validation (1589, 138)\n",
      "1202_jenga_cut.csv\n",
      "Full: (9282, 138)\n",
      "Train: (6218, 138) Test: (1532, 138) Validation (1532, 138)\n",
      "0101_Jenga_cut.csv\n",
      "Full: (8983, 138)\n",
      "Train: (6018, 138) Test: (1482, 138) Validation (1483, 138)\n",
      "Sona0101_jenga_cut.csv\n",
      "Full: (7591, 138)\n",
      "Train: (5085, 138) Test: (1253, 138) Validation (1253, 138)\n",
      "1401_jenga_cut.csv\n",
      "Full: (9065, 138)\n",
      "Train: (6073, 138) Test: (1496, 138) Validation (1496, 138)\n",
      "0301_Jenga_cut.csv\n",
      "Full: (9610, 138)\n",
      "Train: (6438, 138) Test: (1586, 138) Validation (1586, 138)\n",
      "\n",
      "\n",
      "FINAL\n",
      "Train: (151068, 138) Test: (37209, 138) Validation (37219, 138)\n"
     ]
    }
   ],
   "source": [
    "from sklearn.model_selection import train_test_split\n",
    "\n",
    "indicies = ['frame'] + ['x_{0}'.format(i) for i in range(0,68)] + ['y_{0}'.format(i) for i in range(0,68)]\n",
    "\n",
    "flag = True\n",
    "Train = None\n",
    "Test = None\n",
    "Valid = None\n",
    "\n",
    "for f in tqdm(list(files)):\n",
    "    \n",
    "    # Load CSV\n",
    "    print(f)\n",
    "    df = pd.read_csv(\n",
    "            os.path.join(path,f), \n",
    "            error_bad_lines=False, \n",
    "            warn_bad_lines=True)\n",
    "    \n",
    "    face_lmk = df[indicies]\n",
    "    \n",
    "    # Filter NaN rows\n",
    "    nans = df[df[indicies].isnull().any(axis=1)]\n",
    "    if not nans.empty:\n",
    "        dropList = nans.index.tolist()\n",
    "        for r in dropList:\n",
    "            warnings.warn('Dropping row due to NaN, {0}'.format(r))\n",
    "        face_lmk.drop(dropList, inplace=True)\n",
    "        \n",
    "    face_lmk.insert(0,'filename',[f for i in range(0,face_lmk.shape[0])],True)\n",
    "        \n",
    "    print('Full:',face_lmk.shape)\n",
    "    \n",
    "    # Create Training, Test, Validation subsets\n",
    "    train, tmp = train_test_split(face_lmk, test_size=0.33)\n",
    "    test, val = train_test_split(tmp, test_size=0.5)\n",
    "    print('Train:',train.shape,'Test:',test.shape,'Validation',val.shape)\n",
    "    \n",
    "    if flag:\n",
    "        flag = False\n",
    "        Train = train\n",
    "        Test = test\n",
    "        Valid = val\n",
    "    else:\n",
    "        Train = Train.append(train)\n",
    "        Test = Test.append(test)\n",
    "        Valid = Valid.append(val)\n",
    "\n",
    "# Final Dataset (shuffled)\n",
    "Train = Train.sample(frac=1).reset_index(drop=True)\n",
    "Test = Test.sample(frac=1).reset_index(drop=True)\n",
    "Valid = Valid.sample(frac=1).reset_index(drop=True)\n",
    "\n",
    "print('\\n\\nFINAL')\n",
    "print('Train:',Train.shape,'Test:',Test.shape,'Validation',Valid.shape)"
   ]
  },
  {
   "cell_type": "code",
   "execution_count": 30,
   "metadata": {},
   "outputs": [
    {
     "data": {
      "text/html": [
       "<div>\n",
       "<style scoped>\n",
       "    .dataframe tbody tr th:only-of-type {\n",
       "        vertical-align: middle;\n",
       "    }\n",
       "\n",
       "    .dataframe tbody tr th {\n",
       "        vertical-align: top;\n",
       "    }\n",
       "\n",
       "    .dataframe thead th {\n",
       "        text-align: right;\n",
       "    }\n",
       "</style>\n",
       "<table border=\"1\" class=\"dataframe\">\n",
       "  <thead>\n",
       "    <tr style=\"text-align: right;\">\n",
       "      <th></th>\n",
       "      <th>filename</th>\n",
       "      <th>frame</th>\n",
       "      <th>x_0</th>\n",
       "      <th>x_1</th>\n",
       "      <th>x_2</th>\n",
       "      <th>x_3</th>\n",
       "      <th>x_4</th>\n",
       "      <th>x_5</th>\n",
       "      <th>x_6</th>\n",
       "      <th>x_7</th>\n",
       "      <th>...</th>\n",
       "      <th>y_58</th>\n",
       "      <th>y_59</th>\n",
       "      <th>y_60</th>\n",
       "      <th>y_61</th>\n",
       "      <th>y_62</th>\n",
       "      <th>y_63</th>\n",
       "      <th>y_64</th>\n",
       "      <th>y_65</th>\n",
       "      <th>y_66</th>\n",
       "      <th>y_67</th>\n",
       "    </tr>\n",
       "  </thead>\n",
       "  <tbody>\n",
       "    <tr>\n",
       "      <th>0</th>\n",
       "      <td>1202_jenga_cut.csv</td>\n",
       "      <td>5005</td>\n",
       "      <td>804.0</td>\n",
       "      <td>856.7</td>\n",
       "      <td>911.9</td>\n",
       "      <td>964.6</td>\n",
       "      <td>1016.4</td>\n",
       "      <td>1071.5</td>\n",
       "      <td>1120.4</td>\n",
       "      <td>1164.9</td>\n",
       "      <td>...</td>\n",
       "      <td>1001.8</td>\n",
       "      <td>1016.5</td>\n",
       "      <td>1010.4</td>\n",
       "      <td>952.4</td>\n",
       "      <td>942.5</td>\n",
       "      <td>935.2</td>\n",
       "      <td>951.1</td>\n",
       "      <td>967.6</td>\n",
       "      <td>974.8</td>\n",
       "      <td>984.5</td>\n",
       "    </tr>\n",
       "    <tr>\n",
       "      <th>1</th>\n",
       "      <td>Sona0201_jenga_cut.csv</td>\n",
       "      <td>121</td>\n",
       "      <td>480.4</td>\n",
       "      <td>483.7</td>\n",
       "      <td>494.4</td>\n",
       "      <td>510.0</td>\n",
       "      <td>523.8</td>\n",
       "      <td>540.2</td>\n",
       "      <td>555.6</td>\n",
       "      <td>581.3</td>\n",
       "      <td>...</td>\n",
       "      <td>522.2</td>\n",
       "      <td>517.1</td>\n",
       "      <td>501.9</td>\n",
       "      <td>498.3</td>\n",
       "      <td>498.3</td>\n",
       "      <td>495.5</td>\n",
       "      <td>495.3</td>\n",
       "      <td>498.4</td>\n",
       "      <td>500.2</td>\n",
       "      <td>499.4</td>\n",
       "    </tr>\n",
       "    <tr>\n",
       "      <th>2</th>\n",
       "      <td>0401_Jenga_cut.csv</td>\n",
       "      <td>5679</td>\n",
       "      <td>770.8</td>\n",
       "      <td>770.1</td>\n",
       "      <td>771.9</td>\n",
       "      <td>778.8</td>\n",
       "      <td>789.2</td>\n",
       "      <td>801.6</td>\n",
       "      <td>815.1</td>\n",
       "      <td>829.9</td>\n",
       "      <td>...</td>\n",
       "      <td>822.0</td>\n",
       "      <td>816.7</td>\n",
       "      <td>804.8</td>\n",
       "      <td>808.9</td>\n",
       "      <td>811.4</td>\n",
       "      <td>811.0</td>\n",
       "      <td>806.6</td>\n",
       "      <td>812.7</td>\n",
       "      <td>812.8</td>\n",
       "      <td>809.3</td>\n",
       "    </tr>\n",
       "    <tr>\n",
       "      <th>3</th>\n",
       "      <td>1401_jenga_cut.csv</td>\n",
       "      <td>583</td>\n",
       "      <td>765.6</td>\n",
       "      <td>767.1</td>\n",
       "      <td>772.9</td>\n",
       "      <td>783.6</td>\n",
       "      <td>797.0</td>\n",
       "      <td>812.2</td>\n",
       "      <td>829.2</td>\n",
       "      <td>848.5</td>\n",
       "      <td>...</td>\n",
       "      <td>601.1</td>\n",
       "      <td>595.9</td>\n",
       "      <td>584.9</td>\n",
       "      <td>588.3</td>\n",
       "      <td>588.3</td>\n",
       "      <td>582.7</td>\n",
       "      <td>568.5</td>\n",
       "      <td>582.6</td>\n",
       "      <td>587.6</td>\n",
       "      <td>586.8</td>\n",
       "    </tr>\n",
       "    <tr>\n",
       "      <th>4</th>\n",
       "      <td>1202_jenga_cut.csv</td>\n",
       "      <td>4904</td>\n",
       "      <td>910.6</td>\n",
       "      <td>910.3</td>\n",
       "      <td>909.1</td>\n",
       "      <td>911.5</td>\n",
       "      <td>922.1</td>\n",
       "      <td>944.7</td>\n",
       "      <td>972.0</td>\n",
       "      <td>999.8</td>\n",
       "      <td>...</td>\n",
       "      <td>1105.7</td>\n",
       "      <td>1083.3</td>\n",
       "      <td>1041.0</td>\n",
       "      <td>1064.5</td>\n",
       "      <td>1068.9</td>\n",
       "      <td>1066.8</td>\n",
       "      <td>1054.8</td>\n",
       "      <td>1084.5</td>\n",
       "      <td>1088.1</td>\n",
       "      <td>1084.9</td>\n",
       "    </tr>\n",
       "  </tbody>\n",
       "</table>\n",
       "<p>5 rows × 138 columns</p>\n",
       "</div>"
      ],
      "text/plain": [
       "                 filename  frame    x_0    x_1    x_2    x_3     x_4     x_5  \\\n",
       "0      1202_jenga_cut.csv   5005  804.0  856.7  911.9  964.6  1016.4  1071.5   \n",
       "1  Sona0201_jenga_cut.csv    121  480.4  483.7  494.4  510.0   523.8   540.2   \n",
       "2      0401_Jenga_cut.csv   5679  770.8  770.1  771.9  778.8   789.2   801.6   \n",
       "3      1401_jenga_cut.csv    583  765.6  767.1  772.9  783.6   797.0   812.2   \n",
       "4      1202_jenga_cut.csv   4904  910.6  910.3  909.1  911.5   922.1   944.7   \n",
       "\n",
       "      x_6     x_7  ...    y_58    y_59    y_60    y_61    y_62    y_63  \\\n",
       "0  1120.4  1164.9  ...  1001.8  1016.5  1010.4   952.4   942.5   935.2   \n",
       "1   555.6   581.3  ...   522.2   517.1   501.9   498.3   498.3   495.5   \n",
       "2   815.1   829.9  ...   822.0   816.7   804.8   808.9   811.4   811.0   \n",
       "3   829.2   848.5  ...   601.1   595.9   584.9   588.3   588.3   582.7   \n",
       "4   972.0   999.8  ...  1105.7  1083.3  1041.0  1064.5  1068.9  1066.8   \n",
       "\n",
       "     y_64    y_65    y_66    y_67  \n",
       "0   951.1   967.6   974.8   984.5  \n",
       "1   495.3   498.4   500.2   499.4  \n",
       "2   806.6   812.7   812.8   809.3  \n",
       "3   568.5   582.6   587.6   586.8  \n",
       "4  1054.8  1084.5  1088.1  1084.9  \n",
       "\n",
       "[5 rows x 138 columns]"
      ]
     },
     "execution_count": 30,
     "metadata": {},
     "output_type": "execute_result"
    }
   ],
   "source": [
    "Train.head()"
   ]
  },
  {
   "cell_type": "code",
   "execution_count": 31,
   "metadata": {},
   "outputs": [
    {
     "data": {
      "text/html": [
       "<div>\n",
       "<style scoped>\n",
       "    .dataframe tbody tr th:only-of-type {\n",
       "        vertical-align: middle;\n",
       "    }\n",
       "\n",
       "    .dataframe tbody tr th {\n",
       "        vertical-align: top;\n",
       "    }\n",
       "\n",
       "    .dataframe thead th {\n",
       "        text-align: right;\n",
       "    }\n",
       "</style>\n",
       "<table border=\"1\" class=\"dataframe\">\n",
       "  <thead>\n",
       "    <tr style=\"text-align: right;\">\n",
       "      <th></th>\n",
       "      <th>filename</th>\n",
       "      <th>frame</th>\n",
       "      <th>x_0</th>\n",
       "      <th>x_1</th>\n",
       "      <th>x_2</th>\n",
       "      <th>x_3</th>\n",
       "      <th>x_4</th>\n",
       "      <th>x_5</th>\n",
       "      <th>x_6</th>\n",
       "      <th>x_7</th>\n",
       "      <th>...</th>\n",
       "      <th>y_58</th>\n",
       "      <th>y_59</th>\n",
       "      <th>y_60</th>\n",
       "      <th>y_61</th>\n",
       "      <th>y_62</th>\n",
       "      <th>y_63</th>\n",
       "      <th>y_64</th>\n",
       "      <th>y_65</th>\n",
       "      <th>y_66</th>\n",
       "      <th>y_67</th>\n",
       "    </tr>\n",
       "  </thead>\n",
       "  <tbody>\n",
       "    <tr>\n",
       "      <th>0</th>\n",
       "      <td>Sona0302_jenga_cut.csv</td>\n",
       "      <td>6824</td>\n",
       "      <td>329.3</td>\n",
       "      <td>320.5</td>\n",
       "      <td>318.7</td>\n",
       "      <td>329.9</td>\n",
       "      <td>343.9</td>\n",
       "      <td>359.3</td>\n",
       "      <td>375.4</td>\n",
       "      <td>394.3</td>\n",
       "      <td>...</td>\n",
       "      <td>917.7</td>\n",
       "      <td>907.7</td>\n",
       "      <td>896.5</td>\n",
       "      <td>893.8</td>\n",
       "      <td>898.2</td>\n",
       "      <td>900.2</td>\n",
       "      <td>900.8</td>\n",
       "      <td>903.4</td>\n",
       "      <td>899.9</td>\n",
       "      <td>892.7</td>\n",
       "    </tr>\n",
       "    <tr>\n",
       "      <th>1</th>\n",
       "      <td>1201_jenga_cut.csv</td>\n",
       "      <td>5684</td>\n",
       "      <td>594.3</td>\n",
       "      <td>594.0</td>\n",
       "      <td>605.7</td>\n",
       "      <td>630.1</td>\n",
       "      <td>655.3</td>\n",
       "      <td>679.3</td>\n",
       "      <td>696.8</td>\n",
       "      <td>718.8</td>\n",
       "      <td>...</td>\n",
       "      <td>853.1</td>\n",
       "      <td>846.7</td>\n",
       "      <td>833.9</td>\n",
       "      <td>832.3</td>\n",
       "      <td>833.9</td>\n",
       "      <td>834.3</td>\n",
       "      <td>825.8</td>\n",
       "      <td>834.7</td>\n",
       "      <td>833.7</td>\n",
       "      <td>831.2</td>\n",
       "    </tr>\n",
       "    <tr>\n",
       "      <th>2</th>\n",
       "      <td>Sona0101_jenga_cut.csv</td>\n",
       "      <td>557</td>\n",
       "      <td>926.9</td>\n",
       "      <td>929.6</td>\n",
       "      <td>936.0</td>\n",
       "      <td>945.6</td>\n",
       "      <td>958.0</td>\n",
       "      <td>977.8</td>\n",
       "      <td>998.3</td>\n",
       "      <td>1024.0</td>\n",
       "      <td>...</td>\n",
       "      <td>787.1</td>\n",
       "      <td>776.5</td>\n",
       "      <td>761.2</td>\n",
       "      <td>765.3</td>\n",
       "      <td>768.8</td>\n",
       "      <td>769.2</td>\n",
       "      <td>766.7</td>\n",
       "      <td>769.1</td>\n",
       "      <td>768.7</td>\n",
       "      <td>765.1</td>\n",
       "    </tr>\n",
       "    <tr>\n",
       "      <th>3</th>\n",
       "      <td>0402_Jenga_cut.csv</td>\n",
       "      <td>852</td>\n",
       "      <td>621.4</td>\n",
       "      <td>616.5</td>\n",
       "      <td>617.2</td>\n",
       "      <td>626.8</td>\n",
       "      <td>640.6</td>\n",
       "      <td>657.9</td>\n",
       "      <td>673.6</td>\n",
       "      <td>689.0</td>\n",
       "      <td>...</td>\n",
       "      <td>796.4</td>\n",
       "      <td>783.7</td>\n",
       "      <td>763.7</td>\n",
       "      <td>776.7</td>\n",
       "      <td>778.8</td>\n",
       "      <td>775.9</td>\n",
       "      <td>755.5</td>\n",
       "      <td>782.5</td>\n",
       "      <td>784.2</td>\n",
       "      <td>781.5</td>\n",
       "    </tr>\n",
       "    <tr>\n",
       "      <th>4</th>\n",
       "      <td>Sona0201_jenga_cut.csv</td>\n",
       "      <td>3117</td>\n",
       "      <td>491.6</td>\n",
       "      <td>496.0</td>\n",
       "      <td>506.0</td>\n",
       "      <td>520.7</td>\n",
       "      <td>531.8</td>\n",
       "      <td>545.3</td>\n",
       "      <td>561.5</td>\n",
       "      <td>580.6</td>\n",
       "      <td>...</td>\n",
       "      <td>536.6</td>\n",
       "      <td>530.1</td>\n",
       "      <td>517.3</td>\n",
       "      <td>515.1</td>\n",
       "      <td>515.4</td>\n",
       "      <td>513.0</td>\n",
       "      <td>508.9</td>\n",
       "      <td>514.0</td>\n",
       "      <td>516.6</td>\n",
       "      <td>515.6</td>\n",
       "    </tr>\n",
       "  </tbody>\n",
       "</table>\n",
       "<p>5 rows × 138 columns</p>\n",
       "</div>"
      ],
      "text/plain": [
       "                 filename  frame    x_0    x_1    x_2    x_3    x_4    x_5  \\\n",
       "0  Sona0302_jenga_cut.csv   6824  329.3  320.5  318.7  329.9  343.9  359.3   \n",
       "1      1201_jenga_cut.csv   5684  594.3  594.0  605.7  630.1  655.3  679.3   \n",
       "2  Sona0101_jenga_cut.csv    557  926.9  929.6  936.0  945.6  958.0  977.8   \n",
       "3      0402_Jenga_cut.csv    852  621.4  616.5  617.2  626.8  640.6  657.9   \n",
       "4  Sona0201_jenga_cut.csv   3117  491.6  496.0  506.0  520.7  531.8  545.3   \n",
       "\n",
       "     x_6     x_7  ...   y_58   y_59   y_60   y_61   y_62   y_63   y_64   y_65  \\\n",
       "0  375.4   394.3  ...  917.7  907.7  896.5  893.8  898.2  900.2  900.8  903.4   \n",
       "1  696.8   718.8  ...  853.1  846.7  833.9  832.3  833.9  834.3  825.8  834.7   \n",
       "2  998.3  1024.0  ...  787.1  776.5  761.2  765.3  768.8  769.2  766.7  769.1   \n",
       "3  673.6   689.0  ...  796.4  783.7  763.7  776.7  778.8  775.9  755.5  782.5   \n",
       "4  561.5   580.6  ...  536.6  530.1  517.3  515.1  515.4  513.0  508.9  514.0   \n",
       "\n",
       "    y_66   y_67  \n",
       "0  899.9  892.7  \n",
       "1  833.7  831.2  \n",
       "2  768.7  765.1  \n",
       "3  784.2  781.5  \n",
       "4  516.6  515.6  \n",
       "\n",
       "[5 rows x 138 columns]"
      ]
     },
     "execution_count": 31,
     "metadata": {},
     "output_type": "execute_result"
    }
   ],
   "source": [
    "Test.head()"
   ]
  },
  {
   "cell_type": "code",
   "execution_count": 32,
   "metadata": {},
   "outputs": [
    {
     "data": {
      "text/html": [
       "<div>\n",
       "<style scoped>\n",
       "    .dataframe tbody tr th:only-of-type {\n",
       "        vertical-align: middle;\n",
       "    }\n",
       "\n",
       "    .dataframe tbody tr th {\n",
       "        vertical-align: top;\n",
       "    }\n",
       "\n",
       "    .dataframe thead th {\n",
       "        text-align: right;\n",
       "    }\n",
       "</style>\n",
       "<table border=\"1\" class=\"dataframe\">\n",
       "  <thead>\n",
       "    <tr style=\"text-align: right;\">\n",
       "      <th></th>\n",
       "      <th>filename</th>\n",
       "      <th>frame</th>\n",
       "      <th>x_0</th>\n",
       "      <th>x_1</th>\n",
       "      <th>x_2</th>\n",
       "      <th>x_3</th>\n",
       "      <th>x_4</th>\n",
       "      <th>x_5</th>\n",
       "      <th>x_6</th>\n",
       "      <th>x_7</th>\n",
       "      <th>...</th>\n",
       "      <th>y_58</th>\n",
       "      <th>y_59</th>\n",
       "      <th>y_60</th>\n",
       "      <th>y_61</th>\n",
       "      <th>y_62</th>\n",
       "      <th>y_63</th>\n",
       "      <th>y_64</th>\n",
       "      <th>y_65</th>\n",
       "      <th>y_66</th>\n",
       "      <th>y_67</th>\n",
       "    </tr>\n",
       "  </thead>\n",
       "  <tbody>\n",
       "    <tr>\n",
       "      <th>0</th>\n",
       "      <td>0402_Jenga_cut.csv</td>\n",
       "      <td>4491</td>\n",
       "      <td>649.8</td>\n",
       "      <td>644.6</td>\n",
       "      <td>643.1</td>\n",
       "      <td>650.0</td>\n",
       "      <td>660.4</td>\n",
       "      <td>673.6</td>\n",
       "      <td>686.8</td>\n",
       "      <td>699.8</td>\n",
       "      <td>...</td>\n",
       "      <td>815.1</td>\n",
       "      <td>797.0</td>\n",
       "      <td>773.4</td>\n",
       "      <td>793.6</td>\n",
       "      <td>797.9</td>\n",
       "      <td>798.1</td>\n",
       "      <td>782.4</td>\n",
       "      <td>805.5</td>\n",
       "      <td>804.0</td>\n",
       "      <td>798.9</td>\n",
       "    </tr>\n",
       "    <tr>\n",
       "      <th>1</th>\n",
       "      <td>1302_jenga_cut.csv</td>\n",
       "      <td>2789</td>\n",
       "      <td>945.7</td>\n",
       "      <td>940.7</td>\n",
       "      <td>938.6</td>\n",
       "      <td>939.7</td>\n",
       "      <td>942.2</td>\n",
       "      <td>947.6</td>\n",
       "      <td>953.8</td>\n",
       "      <td>961.0</td>\n",
       "      <td>...</td>\n",
       "      <td>603.7</td>\n",
       "      <td>596.6</td>\n",
       "      <td>586.1</td>\n",
       "      <td>591.2</td>\n",
       "      <td>594.2</td>\n",
       "      <td>595.7</td>\n",
       "      <td>600.1</td>\n",
       "      <td>597.9</td>\n",
       "      <td>596.5</td>\n",
       "      <td>593.4</td>\n",
       "    </tr>\n",
       "    <tr>\n",
       "      <th>2</th>\n",
       "      <td>Sona0302_jenga_cut.csv</td>\n",
       "      <td>1434</td>\n",
       "      <td>370.5</td>\n",
       "      <td>359.7</td>\n",
       "      <td>353.5</td>\n",
       "      <td>359.9</td>\n",
       "      <td>372.6</td>\n",
       "      <td>386.0</td>\n",
       "      <td>396.8</td>\n",
       "      <td>410.5</td>\n",
       "      <td>...</td>\n",
       "      <td>855.6</td>\n",
       "      <td>846.9</td>\n",
       "      <td>836.7</td>\n",
       "      <td>835.1</td>\n",
       "      <td>837.6</td>\n",
       "      <td>839.4</td>\n",
       "      <td>845.5</td>\n",
       "      <td>841.3</td>\n",
       "      <td>837.7</td>\n",
       "      <td>832.9</td>\n",
       "    </tr>\n",
       "    <tr>\n",
       "      <th>3</th>\n",
       "      <td>0402_Jenga_cut.csv</td>\n",
       "      <td>1069</td>\n",
       "      <td>589.4</td>\n",
       "      <td>589.9</td>\n",
       "      <td>594.4</td>\n",
       "      <td>607.4</td>\n",
       "      <td>625.0</td>\n",
       "      <td>646.2</td>\n",
       "      <td>667.8</td>\n",
       "      <td>693.8</td>\n",
       "      <td>...</td>\n",
       "      <td>881.4</td>\n",
       "      <td>871.6</td>\n",
       "      <td>854.2</td>\n",
       "      <td>867.8</td>\n",
       "      <td>869.5</td>\n",
       "      <td>869.2</td>\n",
       "      <td>848.8</td>\n",
       "      <td>873.7</td>\n",
       "      <td>873.0</td>\n",
       "      <td>870.3</td>\n",
       "    </tr>\n",
       "    <tr>\n",
       "      <th>4</th>\n",
       "      <td>0302_Jenga_cut.csv</td>\n",
       "      <td>3020</td>\n",
       "      <td>935.7</td>\n",
       "      <td>934.9</td>\n",
       "      <td>937.9</td>\n",
       "      <td>945.8</td>\n",
       "      <td>954.6</td>\n",
       "      <td>966.2</td>\n",
       "      <td>976.1</td>\n",
       "      <td>988.5</td>\n",
       "      <td>...</td>\n",
       "      <td>856.7</td>\n",
       "      <td>847.5</td>\n",
       "      <td>835.3</td>\n",
       "      <td>841.4</td>\n",
       "      <td>844.2</td>\n",
       "      <td>845.0</td>\n",
       "      <td>843.3</td>\n",
       "      <td>844.9</td>\n",
       "      <td>844.4</td>\n",
       "      <td>841.6</td>\n",
       "    </tr>\n",
       "  </tbody>\n",
       "</table>\n",
       "<p>5 rows × 138 columns</p>\n",
       "</div>"
      ],
      "text/plain": [
       "                 filename  frame    x_0    x_1    x_2    x_3    x_4    x_5  \\\n",
       "0      0402_Jenga_cut.csv   4491  649.8  644.6  643.1  650.0  660.4  673.6   \n",
       "1      1302_jenga_cut.csv   2789  945.7  940.7  938.6  939.7  942.2  947.6   \n",
       "2  Sona0302_jenga_cut.csv   1434  370.5  359.7  353.5  359.9  372.6  386.0   \n",
       "3      0402_Jenga_cut.csv   1069  589.4  589.9  594.4  607.4  625.0  646.2   \n",
       "4      0302_Jenga_cut.csv   3020  935.7  934.9  937.9  945.8  954.6  966.2   \n",
       "\n",
       "     x_6    x_7  ...   y_58   y_59   y_60   y_61   y_62   y_63   y_64   y_65  \\\n",
       "0  686.8  699.8  ...  815.1  797.0  773.4  793.6  797.9  798.1  782.4  805.5   \n",
       "1  953.8  961.0  ...  603.7  596.6  586.1  591.2  594.2  595.7  600.1  597.9   \n",
       "2  396.8  410.5  ...  855.6  846.9  836.7  835.1  837.6  839.4  845.5  841.3   \n",
       "3  667.8  693.8  ...  881.4  871.6  854.2  867.8  869.5  869.2  848.8  873.7   \n",
       "4  976.1  988.5  ...  856.7  847.5  835.3  841.4  844.2  845.0  843.3  844.9   \n",
       "\n",
       "    y_66   y_67  \n",
       "0  804.0  798.9  \n",
       "1  596.5  593.4  \n",
       "2  837.7  832.9  \n",
       "3  873.0  870.3  \n",
       "4  844.4  841.6  \n",
       "\n",
       "[5 rows x 138 columns]"
      ]
     },
     "execution_count": 32,
     "metadata": {},
     "output_type": "execute_result"
    }
   ],
   "source": [
    "Valid.head()"
   ]
  },
  {
   "cell_type": "code",
   "execution_count": 33,
   "metadata": {},
   "outputs": [],
   "source": [
    "save_path = './data/tmp_analysis/{0}'.format(task_name)\n",
    "save_train_path = save_path + '_train.csv'\n",
    "save_test_path = save_path + '_test.csv'\n",
    "save_valid_path = save_path + '_valid.csv'\n",
    "\n",
    "\n",
    "Train.to_csv(save_train_path)\n",
    "Test.to_csv(save_test_path)\n",
    "Valid.to_csv(save_valid_path)"
   ]
  },
  {
   "cell_type": "code",
   "execution_count": null,
   "metadata": {},
   "outputs": [],
   "source": []
  }
 ],
 "metadata": {
  "kernelspec": {
   "display_name": "Python 3",
   "language": "python",
   "name": "python3"
  },
  "language_info": {
   "codemirror_mode": {
    "name": "ipython",
    "version": 3
   },
   "file_extension": ".py",
   "mimetype": "text/x-python",
   "name": "python",
   "nbconvert_exporter": "python",
   "pygments_lexer": "ipython3",
   "version": "3.6.9"
  }
 },
 "nbformat": 4,
 "nbformat_minor": 2
}
